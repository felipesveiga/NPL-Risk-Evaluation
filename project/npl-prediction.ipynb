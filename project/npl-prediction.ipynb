{
 "cells": [
  {
   "cell_type": "markdown",
   "id": "77679192",
   "metadata": {
    "papermill": {
     "duration": 0.023538,
     "end_time": "2024-04-06T23:28:41.303536",
     "exception": false,
     "start_time": "2024-04-06T23:28:41.279998",
     "status": "completed"
    },
    "tags": []
   },
   "source": [
    "<h1 style='font-size:40px'> NPL Risk Evaluation Modeling</h1>\n",
    "<div style='font-size:20px'> \n",
    "    <ul> \n",
    "        <li> \n",
    "            This project aims the conceiving of a Machine Learning Model focused on assisting a bank on its credit approval strategy.\n",
    "        </li>\n",
    "        <li> \n",
    "            The corporation has been scolded for its recent NPL levels by its shareholders. Thus, the executive team has decided that a more conservative \n",
    "            credit strategy must be adopted for new contracts.\n",
    "        </li>\n",
    "        <li> \n",
    "            During the planning meetings, the business team has made two major requests concerning the nature of the model.\n",
    "            <ul style='list-style-type:decimal'> \n",
    "                <li> \n",
    "                    It must be focused on predicting whether a given client might produce an NPL in the future.\n",
    "                </li>\n",
    "                <li> \n",
    "                    The output must be some kind of score suggesting the likelihood of the event to happen. They are not looking for \n",
    "                    an incisive \"yes or no\" answer.\n",
    "                </li>\n",
    "            </ul>\n",
    "        </li>\n",
    "    </ul>\n",
    "    <p style='margin-left:30px'> <strong> Note:</strong> The bank's NPL definition is any loan which payment is at least 90 days late.</p>\n",
    "</div>"
   ]
  },
  {
   "cell_type": "markdown",
   "id": "032943c7",
   "metadata": {
    "papermill": {
     "duration": 0.025116,
     "end_time": "2024-04-06T23:28:41.352055",
     "exception": false,
     "start_time": "2024-04-06T23:28:41.326939",
     "status": "completed"
    },
    "tags": []
   },
   "source": [
    "<h2 style='font-size:30px'> Data Importing</h2>\n",
    "<div> \n",
    "    <ul style='font-size:20px'> \n",
    "        <li> \n",
    "            The Data Engineers were able to provide two .csv views from the bank's database. The first one contains general information over the clients \n",
    "            and the second lists the loans they've contracted over some period of time.\n",
    "        </li>\n",
    "    </ul>\n",
    "</div>"
   ]
  },
  {
   "cell_type": "code",
   "execution_count": 1,
   "id": "1f97862b",
   "metadata": {
    "execution": {
     "iopub.execute_input": "2024-04-06T23:28:41.400733Z",
     "iopub.status.busy": "2024-04-06T23:28:41.399695Z",
     "iopub.status.idle": "2024-04-06T23:29:39.089007Z",
     "shell.execute_reply": "2024-04-06T23:29:39.087263Z"
    },
    "papermill": {
     "duration": 57.716534,
     "end_time": "2024-04-06T23:29:39.091731",
     "exception": false,
     "start_time": "2024-04-06T23:28:41.375197",
     "status": "completed"
    },
    "tags": []
   },
   "outputs": [
    {
     "name": "stdout",
     "output_type": "stream",
     "text": [
      "Collecting pyspark\r\n",
      "  Downloading pyspark-3.5.1.tar.gz (317.0 MB)\r\n",
      "\u001b[2K     \u001b[90m━━━━━━━━━━━━━━━━━━━━━━━━━━━━━━━━━━━━━━━\u001b[0m \u001b[32m317.0/317.0 MB\u001b[0m \u001b[31m3.2 MB/s\u001b[0m eta \u001b[36m0:00:00\u001b[0m\r\n",
      "\u001b[?25h  Preparing metadata (setup.py) ... \u001b[?25l-\b \bdone\r\n",
      "\u001b[?25hRequirement already satisfied: py4j==0.10.9.7 in /opt/conda/lib/python3.10/site-packages (from pyspark) (0.10.9.7)\r\n",
      "Building wheels for collected packages: pyspark\r\n",
      "  Building wheel for pyspark (setup.py) ... \u001b[?25l-\b \b\\\b \b|\b \bdone\r\n",
      "\u001b[?25h  Created wheel for pyspark: filename=pyspark-3.5.1-py2.py3-none-any.whl size=317488497 sha256=b870e85926114ff2b4fbc9a4e6f02b30ef70fe313c3fecb66699b223c5fd114b\r\n",
      "  Stored in directory: /root/.cache/pip/wheels/80/1d/60/2c256ed38dddce2fdd93be545214a63e02fbd8d74fb0b7f3a6\r\n",
      "Successfully built pyspark\r\n",
      "Installing collected packages: pyspark\r\n",
      "Successfully installed pyspark-3.5.1\r\n",
      "Note: you may need to restart the kernel to use updated packages.\n"
     ]
    }
   ],
   "source": [
    "pip install pyspark"
   ]
  },
  {
   "cell_type": "code",
   "execution_count": 2,
   "id": "e4d9140f",
   "metadata": {
    "execution": {
     "iopub.execute_input": "2024-04-06T23:29:39.162851Z",
     "iopub.status.busy": "2024-04-06T23:29:39.162419Z",
     "iopub.status.idle": "2024-04-06T23:29:45.819422Z",
     "shell.execute_reply": "2024-04-06T23:29:45.818200Z"
    },
    "papermill": {
     "duration": 6.696345,
     "end_time": "2024-04-06T23:29:45.822574",
     "exception": false,
     "start_time": "2024-04-06T23:29:39.126229",
     "status": "completed"
    },
    "tags": []
   },
   "outputs": [
    {
     "name": "stderr",
     "output_type": "stream",
     "text": [
      "Setting default log level to \"WARN\".\n",
      "To adjust logging level use sc.setLogLevel(newLevel). For SparkR, use setLogLevel(newLevel).\n",
      "24/04/06 23:29:43 WARN NativeCodeLoader: Unable to load native-hadoop library for your platform... using builtin-java classes where applicable\n"
     ]
    },
    {
     "data": {
      "text/html": [
       "<style>pre { white-space: pre !important; }</style>"
      ],
      "text/plain": [
       "<IPython.core.display.HTML object>"
      ]
     },
     "metadata": {},
     "output_type": "display_data"
    }
   ],
   "source": [
    "from pyspark import SparkContext\n",
    "from pyspark.sql import SparkSession\n",
    "from IPython.core.display import HTML\n",
    "\n",
    "# Creating the project's SparkSession.\n",
    "spark = SparkSession.builder.appName('NPL').getOrCreate()\n",
    "\n",
    "# Also, modifying the session's log level.\n",
    "log_level = spark.sparkContext.setLogLevel('ERROR')\n",
    "\n",
    "# This tiny config enables us to scroll along the DataFrame's columns.\n",
    "display(HTML(\"<style>pre { white-space: pre !important; }</style>\"))"
   ]
  },
  {
   "cell_type": "markdown",
   "id": "cacfe201",
   "metadata": {
    "execution": {
     "iopub.execute_input": "2023-08-15T16:05:33.192895Z",
     "iopub.status.busy": "2023-08-15T16:05:33.192467Z",
     "iopub.status.idle": "2023-08-15T16:05:34.343874Z",
     "shell.execute_reply": "2023-08-15T16:05:34.342739Z",
     "shell.execute_reply.started": "2023-08-15T16:05:33.192858Z"
    },
    "papermill": {
     "duration": 0.035282,
     "end_time": "2024-04-06T23:29:45.892806",
     "exception": false,
     "start_time": "2024-04-06T23:29:45.857524",
     "status": "completed"
    },
    "tags": []
   },
   "source": [
    "<h3 style='font-size:30px;font-style:italic'> Clients Database</h3>\n",
    "<div> \n",
    "    <ul style='font-size:20px'> \n",
    "        <li> \n",
    "            This dataset is comprised of general information about the loans' clients.\n",
    "        </li>    \n",
    "        <li> \n",
    "            A particularity worth noting is that date columns show the negative amount of days since the given event took place. Positive numbers \n",
    "            indicate the number of days since the occurence ceased to exist - as it might happen with unemployed borrowers in the DAYS_EMPLOYED feature.\n",
    "        </li>\n",
    "    </ul>\n",
    "</div>"
   ]
  },
  {
   "cell_type": "code",
   "execution_count": 3,
   "id": "79ab66e9",
   "metadata": {
    "execution": {
     "iopub.execute_input": "2024-04-06T23:29:45.967766Z",
     "iopub.status.busy": "2024-04-06T23:29:45.966130Z",
     "iopub.status.idle": "2024-04-06T23:29:53.331784Z",
     "shell.execute_reply": "2024-04-06T23:29:53.330358Z"
    },
    "papermill": {
     "duration": 7.405519,
     "end_time": "2024-04-06T23:29:53.335511",
     "exception": false,
     "start_time": "2024-04-06T23:29:45.929992",
     "status": "completed"
    },
    "tags": []
   },
   "outputs": [
    {
     "name": "stderr",
     "output_type": "stream",
     "text": [
      "                                                                                \r"
     ]
    },
    {
     "name": "stdout",
     "output_type": "stream",
     "text": [
      "+-------+-----------+------------+---------------+------------+----------------+--------------------+--------------------+--------------------+-----------------+----------+-------------+----------+---------------+----------+----------+---------------+---------------+\n",
      "|     ID|CODE_GENDER|FLAG_OWN_CAR|FLAG_OWN_REALTY|CNT_CHILDREN|AMT_INCOME_TOTAL|    NAME_INCOME_TYPE| NAME_EDUCATION_TYPE|  NAME_FAMILY_STATUS|NAME_HOUSING_TYPE|DAYS_BIRTH|DAYS_EMPLOYED|FLAG_MOBIL|FLAG_WORK_PHONE|FLAG_PHONE|FLAG_EMAIL|OCCUPATION_TYPE|CNT_FAM_MEMBERS|\n",
      "+-------+-----------+------------+---------------+------------+----------------+--------------------+--------------------+--------------------+-----------------+----------+-------------+----------+---------------+----------+----------+---------------+---------------+\n",
      "|5008804|          M|           Y|              Y|           0|        427500.0|             Working|    Higher education|      Civil marriage| Rented apartment|    -12005|        -4542|         1|              1|         0|         0|           NULL|            2.0|\n",
      "|5008805|          M|           Y|              Y|           0|        427500.0|             Working|    Higher education|      Civil marriage| Rented apartment|    -12005|        -4542|         1|              1|         0|         0|           NULL|            2.0|\n",
      "|5008806|          M|           Y|              Y|           0|        112500.0|             Working|Secondary / secon...|             Married|House / apartment|    -21474|        -1134|         1|              0|         0|         0| Security staff|            2.0|\n",
      "|5008808|          F|           N|              Y|           0|        270000.0|Commercial associate|Secondary / secon...|Single / not married|House / apartment|    -19110|        -3051|         1|              0|         1|         1|    Sales staff|            1.0|\n",
      "|5008809|          F|           N|              Y|           0|        270000.0|Commercial associate|Secondary / secon...|Single / not married|House / apartment|    -19110|        -3051|         1|              0|         1|         1|    Sales staff|            1.0|\n",
      "+-------+-----------+------------+---------------+------------+----------------+--------------------+--------------------+--------------------+-----------------+----------+-------------+----------+---------------+----------+----------+---------------+---------------+\n",
      "only showing top 5 rows\n",
      "\n"
     ]
    }
   ],
   "source": [
    "path_clients = '/kaggle/input/credit-card-approval-prediction/application_record.csv'\n",
    "\n",
    "# Defining the data types from the clients dataset.\n",
    "schema_clients = '''\n",
    "`ID` STRING, `CODE_GENDER` STRING, `FLAG_OWN_CAR` STRING, `FLAG_OWN_REALTY` STRING, `CNT_CHILDREN` INT,\n",
    "`AMT_INCOME_TOTAL` FLOAT, `NAME_INCOME_TYPE` STRING, `NAME_EDUCATION_TYPE` STRING, `NAME_FAMILY_STATUS` STRING, `NAME_HOUSING_TYPE` STRING,\n",
    "`DAYS_BIRTH` INT, `DAYS_EMPLOYED` INT, `FLAG_MOBIL` STRING, `FLAG_WORK_PHONE` STRING, `FLAG_PHONE` STRING, `FLAG_EMAIL` STRING, \n",
    "`OCCUPATION_TYPE` STRING, `CNT_FAM_MEMBERS` DOUBLE\n",
    "'''\n",
    "\n",
    "# Reading the database with the created schema.\n",
    "df_clients = spark.read.csv(path_clients, header=True, schema=schema_clients)\n",
    "df_clients.show(5)"
   ]
  },
  {
   "cell_type": "markdown",
   "id": "622c89ff",
   "metadata": {
    "papermill": {
     "duration": 0.039813,
     "end_time": "2024-04-06T23:29:53.509296",
     "exception": false,
     "start_time": "2024-04-06T23:29:53.469483",
     "status": "completed"
    },
    "tags": []
   },
   "source": [
    "<h4 style='font-size:30px;font-style:italic;text-decoration:underline'> Duplicates Disclaimer</h4>\n",
    "<div> \n",
    "    <ul style='font-size:20px'> \n",
    "        <li> \n",
    "             Clients may not have unique rows in the dataset because the ID column identifies a contracted loan instead of a person.\n",
    "        </li>\n",
    "        <li> \n",
    "            Thus, I've found convenient for the project to create an ID column that assigns a code for each of the clients.\n",
    "        </li>\n",
    "    </ul>\n",
    "</div>"
   ]
  },
  {
   "cell_type": "code",
   "execution_count": 4,
   "id": "941df2fc",
   "metadata": {
    "execution": {
     "iopub.execute_input": "2024-04-06T23:29:53.583670Z",
     "iopub.status.busy": "2024-04-06T23:29:53.583158Z",
     "iopub.status.idle": "2024-04-06T23:29:58.010616Z",
     "shell.execute_reply": "2024-04-06T23:29:58.008980Z"
    },
    "papermill": {
     "duration": 4.469075,
     "end_time": "2024-04-06T23:29:58.014498",
     "exception": false,
     "start_time": "2024-04-06T23:29:53.545423",
     "status": "completed"
    },
    "tags": []
   },
   "outputs": [
    {
     "name": "stderr",
     "output_type": "stream",
     "text": [
      "[Stage 1:==============>                                            (1 + 3) / 4]\r"
     ]
    },
    {
     "name": "stdout",
     "output_type": "stream",
     "text": [
      "+-------+-----+\n",
      "|     ID|count|\n",
      "+-------+-----+\n",
      "|7742298|    2|\n",
      "|7174719|    2|\n",
      "|7091721|    2|\n",
      "|7089090|    2|\n",
      "|7022197|    2|\n",
      "+-------+-----+\n",
      "only showing top 5 rows\n",
      "\n"
     ]
    },
    {
     "name": "stderr",
     "output_type": "stream",
     "text": [
      "                                                                                \r"
     ]
    }
   ],
   "source": [
    "# Another issue unnoticed by the Data Engineers is that the database contains repeated Loan ID's.\n",
    "from pyspark.sql.functions import max as ps_max\n",
    "\n",
    "# Observe that there are Loans mentioned two times. It would be proper to disconsider them. \n",
    "data_duplicate_id = (df_clients\n",
    "                     .groupBy('ID')\n",
    "                     .count()\n",
    "                     .filter('`count`>1')\n",
    "                            )\n",
    "data_duplicate_id.show(5)"
   ]
  },
  {
   "cell_type": "code",
   "execution_count": 5,
   "id": "1ae49465",
   "metadata": {
    "execution": {
     "iopub.execute_input": "2024-04-06T23:29:58.092663Z",
     "iopub.status.busy": "2024-04-06T23:29:58.092079Z",
     "iopub.status.idle": "2024-04-06T23:30:01.242312Z",
     "shell.execute_reply": "2024-04-06T23:30:01.241095Z"
    },
    "papermill": {
     "duration": 3.193016,
     "end_time": "2024-04-06T23:30:01.247115",
     "exception": false,
     "start_time": "2024-04-06T23:29:58.054099",
     "status": "completed"
    },
    "tags": []
   },
   "outputs": [
    {
     "name": "stderr",
     "output_type": "stream",
     "text": [
      "[Stage 5:>                                                          (0 + 3) / 3]\r"
     ]
    },
    {
     "name": "stdout",
     "output_type": "stream",
     "text": [
      "+-------+-----------+------------+---------------+------------+----------------+----------------+--------------------+------------------+-----------------+----------+-------------+----------+---------------+----------+----------+---------------+---------------+\n",
      "|     ID|CODE_GENDER|FLAG_OWN_CAR|FLAG_OWN_REALTY|CNT_CHILDREN|AMT_INCOME_TOTAL|NAME_INCOME_TYPE| NAME_EDUCATION_TYPE|NAME_FAMILY_STATUS|NAME_HOUSING_TYPE|DAYS_BIRTH|DAYS_EMPLOYED|FLAG_MOBIL|FLAG_WORK_PHONE|FLAG_PHONE|FLAG_EMAIL|OCCUPATION_TYPE|CNT_FAM_MEMBERS|\n",
      "+-------+-----------+------------+---------------+------------+----------------+----------------+--------------------+------------------+-----------------+----------+-------------+----------+---------------+----------+----------+---------------+---------------+\n",
      "|7742298|          F|           N|              Y|           0|        144000.0|         Working|Secondary / secon...|             Widow|House / apartment|    -20626|        -1455|         1|              0|         0|         0|  Cooking staff|            1.0|\n",
      "|7742298|          M|           N|              N|           0|        112500.0|         Working|Secondary / secon...|           Married|House / apartment|    -18239|        -5428|         1|              1|         0|         0|           NULL|            2.0|\n",
      "+-------+-----------+------------+---------------+------------+----------------+----------------+--------------------+------------------+-----------------+----------+-------------+----------+---------------+----------+----------+---------------+---------------+\n",
      "\n"
     ]
    },
    {
     "name": "stderr",
     "output_type": "stream",
     "text": [
      "                                                                                \r"
     ]
    }
   ],
   "source": [
    "# If we take a peek on the first mentioned ID, we can notice that the presented loan actually is assigned to two different people!\n",
    "\n",
    "# Thus, the presence of such deals is potentially harmful for our model. It would be sensible to discard such ID's from the database.\n",
    "df_clients.filter('`ID`==7742298').show()"
   ]
  },
  {
   "cell_type": "code",
   "execution_count": 6,
   "id": "e66284c7",
   "metadata": {
    "execution": {
     "iopub.execute_input": "2024-04-06T23:30:01.327638Z",
     "iopub.status.busy": "2024-04-06T23:30:01.327228Z",
     "iopub.status.idle": "2024-04-06T23:30:01.458138Z",
     "shell.execute_reply": "2024-04-06T23:30:01.456923Z"
    },
    "papermill": {
     "duration": 0.173444,
     "end_time": "2024-04-06T23:30:01.461320",
     "exception": false,
     "start_time": "2024-04-06T23:30:01.287876",
     "status": "completed"
    },
    "tags": []
   },
   "outputs": [],
   "source": [
    "# Dropping out the problematic loans.\n",
    "df_clients = data_duplicate_id.join(df_clients, how='right', on='ID').where('`count` IS NULL').drop('count')"
   ]
  },
  {
   "cell_type": "code",
   "execution_count": 7,
   "id": "2fd38531",
   "metadata": {
    "execution": {
     "iopub.execute_input": "2024-04-06T23:30:01.549860Z",
     "iopub.status.busy": "2024-04-06T23:30:01.549481Z",
     "iopub.status.idle": "2024-04-06T23:30:01.587635Z",
     "shell.execute_reply": "2024-04-06T23:30:01.586467Z"
    },
    "papermill": {
     "duration": 0.078911,
     "end_time": "2024-04-06T23:30:01.590808",
     "exception": false,
     "start_time": "2024-04-06T23:30:01.511897",
     "status": "completed"
    },
    "tags": []
   },
   "outputs": [
    {
     "data": {
      "text/plain": [
       "['CODE_GENDER',\n",
       " 'FLAG_OWN_CAR',\n",
       " 'FLAG_OWN_REALTY',\n",
       " 'CNT_CHILDREN',\n",
       " 'AMT_INCOME_TOTAL',\n",
       " 'NAME_INCOME_TYPE',\n",
       " 'NAME_EDUCATION_TYPE',\n",
       " 'NAME_FAMILY_STATUS',\n",
       " 'NAME_HOUSING_TYPE',\n",
       " 'DAYS_BIRTH',\n",
       " 'DAYS_EMPLOYED',\n",
       " 'FLAG_MOBIL',\n",
       " 'FLAG_WORK_PHONE',\n",
       " 'FLAG_PHONE',\n",
       " 'FLAG_EMAIL',\n",
       " 'OCCUPATION_TYPE',\n",
       " 'CNT_FAM_MEMBERS']"
      ]
     },
     "execution_count": 7,
     "metadata": {},
     "output_type": "execute_result"
    }
   ],
   "source": [
    "# Listing the `df_clients` features with the exception of ID.\n",
    "features_clients = df_clients.columns\n",
    "features_clients.remove('ID')\n",
    "features_clients"
   ]
  },
  {
   "cell_type": "code",
   "execution_count": 8,
   "id": "79fe8f23",
   "metadata": {
    "execution": {
     "iopub.execute_input": "2024-04-06T23:30:01.665703Z",
     "iopub.status.busy": "2024-04-06T23:30:01.665289Z",
     "iopub.status.idle": "2024-04-06T23:30:10.753264Z",
     "shell.execute_reply": "2024-04-06T23:30:10.751353Z"
    },
    "papermill": {
     "duration": 9.12893,
     "end_time": "2024-04-06T23:30:10.757200",
     "exception": false,
     "start_time": "2024-04-06T23:30:01.628270",
     "status": "completed"
    },
    "tags": []
   },
   "outputs": [
    {
     "name": "stderr",
     "output_type": "stream",
     "text": [
      "                                                                                \r"
     ]
    },
    {
     "name": "stdout",
     "output_type": "stream",
     "text": [
      "`df_clients` length: 438463\n"
     ]
    },
    {
     "name": "stderr",
     "output_type": "stream",
     "text": [
      "[Stage 15:===========================================>              (3 + 1) / 4]\r"
     ]
    },
    {
     "name": "stdout",
     "output_type": "stream",
     "text": [
      "Number of clients: 90084\n"
     ]
    },
    {
     "name": "stderr",
     "output_type": "stream",
     "text": [
      "                                                                                \r"
     ]
    }
   ],
   "source": [
    "# Now, getting back to the Client's ID issue, I'd like to present a brief analysis on it.\n",
    "# Note that the database's actual amount of clients is lower than its number of rows. \n",
    "data_clients = df_clients.dropDuplicates(features_clients) \n",
    "print(f'`df_clients` length: {df_clients.count()}')\n",
    "print(f'Number of clients: {data_clients.count()}')"
   ]
  },
  {
   "cell_type": "code",
   "execution_count": 9,
   "id": "dc5b1c85",
   "metadata": {
    "execution": {
     "iopub.execute_input": "2024-04-06T23:30:10.845587Z",
     "iopub.status.busy": "2024-04-06T23:30:10.845169Z",
     "iopub.status.idle": "2024-04-06T23:30:10.997585Z",
     "shell.execute_reply": "2024-04-06T23:30:10.996318Z"
    },
    "papermill": {
     "duration": 0.195477,
     "end_time": "2024-04-06T23:30:11.001825",
     "exception": false,
     "start_time": "2024-04-06T23:30:10.806348",
     "status": "completed"
    },
    "tags": []
   },
   "outputs": [],
   "source": [
    "# We'll assign an ID for every client mentioned in `df_clients`. \n",
    "from pyspark.sql.functions import cast, row_number\n",
    "from pyspark.sql.types import StringType\n",
    "from pyspark.sql.window import Window\n",
    "\n",
    "window = Window.orderBy(features_clients)\n",
    "row_window = row_number().over(window)\n",
    "\n",
    "# A DataFrame with the clients' data and actual ID.\n",
    "df_id_clients = data_clients.withColumn('ID_CLIENT', row_window.cast(StringType())).drop('ID')"
   ]
  },
  {
   "cell_type": "code",
   "execution_count": 10,
   "id": "93b70c8c",
   "metadata": {
    "execution": {
     "iopub.execute_input": "2024-04-06T23:30:11.080929Z",
     "iopub.status.busy": "2024-04-06T23:30:11.080556Z",
     "iopub.status.idle": "2024-04-06T23:30:24.139826Z",
     "shell.execute_reply": "2024-04-06T23:30:24.138613Z"
    },
    "papermill": {
     "duration": 13.102128,
     "end_time": "2024-04-06T23:30:24.143667",
     "exception": false,
     "start_time": "2024-04-06T23:30:11.041539",
     "status": "completed"
    },
    "tags": []
   },
   "outputs": [
    {
     "name": "stderr",
     "output_type": "stream",
     "text": [
      "[Stage 35:>                                                         (0 + 1) / 1]\r"
     ]
    },
    {
     "name": "stdout",
     "output_type": "stream",
     "text": [
      "+-------+-----------+------------+---------------+------------+----------------+----------------+--------------------+------------------+-----------------+----------+-------------+----------+---------------+----------+----------+---------------+---------------+---------+\n",
      "|     ID|CODE_GENDER|FLAG_OWN_CAR|FLAG_OWN_REALTY|CNT_CHILDREN|AMT_INCOME_TOTAL|NAME_INCOME_TYPE| NAME_EDUCATION_TYPE|NAME_FAMILY_STATUS|NAME_HOUSING_TYPE|DAYS_BIRTH|DAYS_EMPLOYED|FLAG_MOBIL|FLAG_WORK_PHONE|FLAG_PHONE|FLAG_EMAIL|OCCUPATION_TYPE|CNT_FAM_MEMBERS|ID_CLIENT|\n",
      "+-------+-----------+------------+---------------+------------+----------------+----------------+--------------------+------------------+-----------------+----------+-------------+----------+---------------+----------+----------+---------------+---------------+---------+\n",
      "|5996382|          F|           N|              N|           0|         28800.0|       Pensioner|Secondary / secon...|           Married|House / apartment|    -20298|       365243|         1|              0|         1|         0|           NULL|            2.0|        7|\n",
      "|5996383|          F|           N|              N|           0|         28800.0|       Pensioner|Secondary / secon...|           Married|House / apartment|    -20298|       365243|         1|              0|         1|         0|           NULL|            2.0|        7|\n",
      "|5996384|          F|           N|              N|           0|         28800.0|       Pensioner|Secondary / secon...|           Married|House / apartment|    -20298|       365243|         1|              0|         1|         0|           NULL|            2.0|        7|\n",
      "|6499066|          F|           N|              N|           0|         29133.0|       Pensioner|Secondary / secon...|           Married|House / apartment|    -20945|       365243|         1|              0|         1|         0|           NULL|            2.0|        8|\n",
      "|6499067|          F|           N|              N|           0|         29133.0|       Pensioner|Secondary / secon...|           Married|House / apartment|    -20945|       365243|         1|              0|         1|         0|           NULL|            2.0|        8|\n",
      "+-------+-----------+------------+---------------+------------+----------------+----------------+--------------------+------------------+-----------------+----------+-------------+----------+---------------+----------+----------+---------------+---------------+---------+\n",
      "only showing top 5 rows\n",
      "\n"
     ]
    },
    {
     "name": "stderr",
     "output_type": "stream",
     "text": [
      "                                                                                \r"
     ]
    }
   ],
   "source": [
    "# We'll need to perform Null Safe JOIN's, since columns such as 'OCCUPATION_TYPE' contain null values.\n",
    "from functools import reduce\n",
    "\n",
    "# Creating the multiple null safe JOIN's condition.\n",
    "condition_id_client = reduce(lambda x,y: x&y, [df_clients[col].eqNullSafe(df_id_clients[col]) for col in features_clients])\n",
    "columns_join_id = ['df_clients.*', 'df_id_clients.ID_CLIENT'] # Listing the JOIN columns.\n",
    "\n",
    "# Consolidating the final clients database.\n",
    "df_clients = (df_clients.alias('df_clients') # Resorting to aliases for both DataFrames present columns with same names.\n",
    "                 .join(df_id_clients.alias('df_id_clients'), condition_id_client)\n",
    "                 .select(columns_join_id))\n",
    "df_clients.show(5)"
   ]
  },
  {
   "cell_type": "markdown",
   "id": "d426e8e9",
   "metadata": {
    "execution": {
     "iopub.execute_input": "2023-08-15T16:05:33.192895Z",
     "iopub.status.busy": "2023-08-15T16:05:33.192467Z",
     "iopub.status.idle": "2023-08-15T16:05:34.343874Z",
     "shell.execute_reply": "2023-08-15T16:05:34.342739Z",
     "shell.execute_reply.started": "2023-08-15T16:05:33.192858Z"
    },
    "papermill": {
     "duration": 0.05483,
     "end_time": "2024-04-06T23:30:24.255053",
     "exception": false,
     "start_time": "2024-04-06T23:30:24.200223",
     "status": "completed"
    },
    "tags": []
   },
   "source": [
    "<h3 style='font-size:30px;font-style:italic'> Loans Database</h3>\n",
    "<div> \n",
    "    <ul style='font-size:20px'> \n",
    "        <li> \n",
    "            This table contains the payments records for every loan since its contraction. \n",
    "        </li>\n",
    "        <li> \n",
    "            But in order to the dataset be adequate to our project's intent, two transformations are necessary: first, we need to bring the `ID_CLIENT`\n",
    "            column to it and after that, group the database so that it denounces individuals who've produced an NPL at least once.            \n",
    "        </li>\n",
    "    </ul>\n",
    "</div>"
   ]
  },
  {
   "cell_type": "code",
   "execution_count": 11,
   "id": "c1bad1f4",
   "metadata": {
    "execution": {
     "iopub.execute_input": "2024-04-06T23:30:24.367138Z",
     "iopub.status.busy": "2024-04-06T23:30:24.366623Z",
     "iopub.status.idle": "2024-04-06T23:30:24.575617Z",
     "shell.execute_reply": "2024-04-06T23:30:24.574385Z"
    },
    "papermill": {
     "duration": 0.269573,
     "end_time": "2024-04-06T23:30:24.579170",
     "exception": false,
     "start_time": "2024-04-06T23:30:24.309597",
     "status": "completed"
    },
    "tags": []
   },
   "outputs": [
    {
     "name": "stdout",
     "output_type": "stream",
     "text": [
      "+-------+--------------+------+\n",
      "|     ID|MONTHS_BALANCE|STATUS|\n",
      "+-------+--------------+------+\n",
      "|5001711|             0|     X|\n",
      "|5001711|            -1|     0|\n",
      "|5001711|            -2|     0|\n",
      "|5001711|            -3|     0|\n",
      "|5001712|             0|     C|\n",
      "+-------+--------------+------+\n",
      "only showing top 5 rows\n",
      "\n"
     ]
    }
   ],
   "source": [
    "# Bringing the dataset into our notebook.\n",
    "path_loans = '/kaggle/input/credit-card-approval-prediction/credit_record.csv'\n",
    "schema_loans = '`ID` STRING, `MONTHS_BALANCE` INT, `STATUS` STRING'\n",
    "df_loans = spark.read.csv(path_loans, header=True, schema=schema_loans)\n",
    "df_loans.show(5) "
   ]
  },
  {
   "cell_type": "code",
   "execution_count": 12,
   "id": "a6bdb9ee",
   "metadata": {
    "execution": {
     "iopub.execute_input": "2024-04-06T23:30:24.694838Z",
     "iopub.status.busy": "2024-04-06T23:30:24.694289Z",
     "iopub.status.idle": "2024-04-06T23:30:39.217566Z",
     "shell.execute_reply": "2024-04-06T23:30:39.216581Z"
    },
    "papermill": {
     "duration": 14.584356,
     "end_time": "2024-04-06T23:30:39.220911",
     "exception": false,
     "start_time": "2024-04-06T23:30:24.636555",
     "status": "completed"
    },
    "tags": []
   },
   "outputs": [
    {
     "name": "stderr",
     "output_type": "stream",
     "text": [
      "[Stage 52:=============================>                            (2 + 2) / 4]\r"
     ]
    },
    {
     "name": "stdout",
     "output_type": "stream",
     "text": [
      "+---------+-------+--------------+------+\n",
      "|ID_CLIENT|     ID|MONTHS_BALANCE|STATUS|\n",
      "+---------+-------+--------------+------+\n",
      "|    34269|5008810|             0|     C|\n",
      "|    34269|5008810|            -1|     C|\n",
      "|    34269|5008810|            -2|     C|\n",
      "|    34269|5008810|            -3|     C|\n",
      "|    34269|5008810|            -4|     C|\n",
      "+---------+-------+--------------+------+\n",
      "only showing top 5 rows\n",
      "\n"
     ]
    },
    {
     "name": "stderr",
     "output_type": "stream",
     "text": [
      "                                                                                \r"
     ]
    }
   ],
   "source": [
    "# Now, providing the loans' client ID.\n",
    "df_loans = df_loans.join(df_clients, ['ID']).select(['ID_CLIENT', 'ID', 'MONTHS_BALANCE', 'STATUS'])\n",
    "df_loans.show(5)"
   ]
  },
  {
   "cell_type": "markdown",
   "id": "78ee91a0",
   "metadata": {
    "papermill": {
     "duration": 0.040516,
     "end_time": "2024-04-06T23:30:39.314326",
     "exception": false,
     "start_time": "2024-04-06T23:30:39.273810",
     "status": "completed"
    },
    "tags": []
   },
   "source": [
    "<h4 style='font-size:30px;font-style:italic;text-decoration:underline'> Conceiving the Target Variable</h4>\n",
    "<div> \n",
    "    <ul style='font-size:20px'> \n",
    "        <li> \n",
    "            The `STATUS` column presents a handful of codes that represent distinct status for a loan's payment. Their definition is as follows:\n",
    "            <table style='font-size:15px;margin-top:20px'> \n",
    "                <tr>\n",
    "                    <th> Code</th>\n",
    "                    <th> Definition</th>\n",
    "                </tr>\n",
    "                <tr> \n",
    "                    <td> C</td>\n",
    "                    <td> Paid off that month</td>\n",
    "                </tr>\n",
    "                <tr> \n",
    "                    <td> 0</td>\n",
    "                    <td> 1-29 days past due</td>\n",
    "                </tr>\n",
    "                <tr> \n",
    "                    <td> 1</td>\n",
    "                    <td> 30-59 days past due </td>\n",
    "                </tr>\n",
    "                <tr> \n",
    "                    <td> 2</td>\n",
    "                    <td> 60-89 days past due </td>\n",
    "                </tr>\n",
    "                <tr> \n",
    "                    <td> 3</td>\n",
    "                    <td> 90-119 days past due </td>\n",
    "                </tr>\n",
    "                <tr> \n",
    "                    <td> 4</td>\n",
    "                    <td> 120-149 days past due </td>\n",
    "                </tr>\n",
    "                <tr> \n",
    "                    <td> 5</td>\n",
    "                    <td> Overdue or bad debts,<p> write-offs for more than 150 days</p> </td>\n",
    "                </tr>\n",
    "                <tr> \n",
    "                    <td> X</td>\n",
    "                    <td> No loan for the month</td>\n",
    "                </tr>\n",
    "            </table>\n",
    "        </li>\n",
    "        <li style='margin-top:20px'> \n",
    "            Observe that in our case only the 3, 4 and 5 codes are of our interest. Thus it would be convenient to create a binary flag that denounces whether \n",
    "            the individual has ever caused an NPL.\n",
    "        </li>\n",
    "    </ul>\n",
    "</div>"
   ]
  },
  {
   "cell_type": "code",
   "execution_count": 13,
   "id": "fe174201",
   "metadata": {
    "execution": {
     "iopub.execute_input": "2024-04-06T23:30:39.397089Z",
     "iopub.status.busy": "2024-04-06T23:30:39.396692Z",
     "iopub.status.idle": "2024-04-06T23:30:40.621554Z",
     "shell.execute_reply": "2024-04-06T23:30:40.619081Z"
    },
    "papermill": {
     "duration": 1.269671,
     "end_time": "2024-04-06T23:30:40.624685",
     "exception": false,
     "start_time": "2024-04-06T23:30:39.355014",
     "status": "completed"
    },
    "tags": []
   },
   "outputs": [],
   "source": [
    "# The dependent variable's conception needs a custom GroupBy that PySpark is unable to perform by itself. Hence, we \n",
    "# are going to resort to pandas in this section.\n",
    "import pandas as pd\n",
    "\n",
    "# Defining the GroupBy's schema.\n",
    "schema_flag_npl = '`ID_CLIENT` STRING, `NPL` STRING'\n",
    "\n",
    "# This lambda expression signs whether a client has ever produced an NPL in the past.\n",
    "lambda_npl = lambda x: '1' if x.STATUS.isin(['3', '4', '5']).any() else '0'\n",
    "\n",
    "def has_npl(df:pd.DataFrame)->pd.DataFrame:\n",
    "    '''\n",
    "        Verifies if a client's  records contain any sort of Non-Performing Loan.\n",
    "        \n",
    "        Parameter\n",
    "        ---------\n",
    "        `df`: pd.DataFrame \n",
    "            The loan records of a certain client.\n",
    "        \n",
    "        Returns\n",
    "        -------\n",
    "        A `pd.DataFrame` with the client's ID and a flag indicating NPL existence in their loan history. \n",
    "    '''\n",
    "    output = df.groupby(['ID_CLIENT']).apply(lambda_npl) # `lambda_npl` takes care of the flags creation.\n",
    "    output.name = 'NPL' # Setting the flag column's name.\n",
    "    return output.reset_index()\n",
    "\n",
    "# Finally, generating our target-variable.\n",
    "target = df_loans.groupBy('ID_CLIENT').applyInPandas(has_npl, schema_flag_npl)"
   ]
  },
  {
   "cell_type": "markdown",
   "id": "54090f6d",
   "metadata": {
    "papermill": {
     "duration": 0.040748,
     "end_time": "2024-04-06T23:30:40.704982",
     "exception": false,
     "start_time": "2024-04-06T23:30:40.664234",
     "status": "completed"
    },
    "tags": []
   },
   "source": [
    "<h2 style='font-size:30px'> Consolidating the Data</h2>\n",
    "<div> \n",
    "    <ul style='font-size:20px'> \n",
    "        <li> \n",
    "            With both datasets properly treated, we are able to JOIN them in a single table.\n",
    "        </li>\n",
    "    </ul>\n",
    "</div>"
   ]
  },
  {
   "cell_type": "code",
   "execution_count": 14,
   "id": "480e971c",
   "metadata": {
    "execution": {
     "iopub.execute_input": "2024-04-06T23:30:40.786093Z",
     "iopub.status.busy": "2024-04-06T23:30:40.785556Z",
     "iopub.status.idle": "2024-04-06T23:30:40.857308Z",
     "shell.execute_reply": "2024-04-06T23:30:40.855832Z"
    },
    "papermill": {
     "duration": 0.116321,
     "end_time": "2024-04-06T23:30:40.860905",
     "exception": false,
     "start_time": "2024-04-06T23:30:40.744584",
     "status": "completed"
    },
    "tags": []
   },
   "outputs": [],
   "source": [
    "# Finally, enriching the clients information with the NPL flag.\n",
    "df = df_id_clients.join(target, how='inner', on='ID_CLIENT')"
   ]
  },
  {
   "cell_type": "code",
   "execution_count": 15,
   "id": "fadf12bc",
   "metadata": {
    "execution": {
     "iopub.execute_input": "2024-04-06T23:30:40.957673Z",
     "iopub.status.busy": "2024-04-06T23:30:40.957263Z",
     "iopub.status.idle": "2024-04-06T23:30:40.962119Z",
     "shell.execute_reply": "2024-04-06T23:30:40.960986Z"
    },
    "papermill": {
     "duration": 0.050734,
     "end_time": "2024-04-06T23:30:40.964500",
     "exception": false,
     "start_time": "2024-04-06T23:30:40.913766",
     "status": "completed"
    },
    "tags": []
   },
   "outputs": [],
   "source": [
    "#df.write.parquet('/kaggle/input/df-parquet', mode='overwrite')"
   ]
  },
  {
   "cell_type": "markdown",
   "id": "d74c67da",
   "metadata": {
    "papermill": {
     "duration": 0.039352,
     "end_time": "2024-04-06T23:30:41.043761",
     "exception": false,
     "start_time": "2024-04-06T23:30:41.004409",
     "status": "completed"
    },
    "tags": []
   },
   "source": [
    "<h2 style='font-size:30px'> Dataset Splitting</h2>\n",
    "<div> \n",
    "    <ul style='font-size:20px'> \n",
    "        <li> \n",
    "            With the dataset properly treated, we are able to begin our EDA and model creation. But firstly we have to separate the data in \n",
    "            the training and test tables.\n",
    "        </li>\n",
    "    </ul>\n",
    "</div>"
   ]
  },
  {
   "cell_type": "code",
   "execution_count": 16,
   "id": "a1d4b76a",
   "metadata": {
    "execution": {
     "iopub.execute_input": "2024-04-06T23:30:41.125337Z",
     "iopub.status.busy": "2024-04-06T23:30:41.124853Z",
     "iopub.status.idle": "2024-04-06T23:31:46.994448Z",
     "shell.execute_reply": "2024-04-06T23:31:46.992943Z"
    },
    "papermill": {
     "duration": 65.963885,
     "end_time": "2024-04-06T23:31:47.047671",
     "exception": false,
     "start_time": "2024-04-06T23:30:41.083786",
     "status": "completed"
    },
    "tags": []
   },
   "outputs": [
    {
     "name": "stderr",
     "output_type": "stream",
     "text": [
      "                                                                                \r"
     ]
    },
    {
     "name": "stdout",
     "output_type": "stream",
     "text": [
      "+---+-----+-------------------+\n",
      "|NPL|count|         proportion|\n",
      "+---+-----+-------------------+\n",
      "|  0| 9509| 0.9774876644736842|\n",
      "|  1|  219|0.02251233552631579|\n",
      "+---+-----+-------------------+\n",
      "\n"
     ]
    }
   ],
   "source": [
    "# As we can see, we are dealing with an unbalanced dataset case. Thus it is interesting to maintain the target value proportions\n",
    "# in both training and test sets.\n",
    "from pyspark.sql.functions import col\n",
    "\n",
    "df.groupBy('NPL').count().withColumn('proportion', col('count')/df.count()).show()"
   ]
  },
  {
   "cell_type": "code",
   "execution_count": 17,
   "id": "973463a8",
   "metadata": {
    "execution": {
     "iopub.execute_input": "2024-04-06T23:31:47.138663Z",
     "iopub.status.busy": "2024-04-06T23:31:47.138216Z",
     "iopub.status.idle": "2024-04-06T23:31:47.627603Z",
     "shell.execute_reply": "2024-04-06T23:31:47.625924Z"
    },
    "papermill": {
     "duration": 0.538936,
     "end_time": "2024-04-06T23:31:47.631482",
     "exception": false,
     "start_time": "2024-04-06T23:31:47.092546",
     "status": "completed"
    },
    "tags": []
   },
   "outputs": [],
   "source": [
    "# Creating the training and test sets.\n",
    "train = df.sampleBy('NPL', fractions={'0':.75, '1':.75}, seed=42)\n",
    "test = df.subtract(train)"
   ]
  },
  {
   "cell_type": "code",
   "execution_count": 18,
   "id": "9e8328f9",
   "metadata": {
    "execution": {
     "iopub.execute_input": "2024-04-06T23:31:47.760106Z",
     "iopub.status.busy": "2024-04-06T23:31:47.759599Z",
     "iopub.status.idle": "2024-04-06T23:33:50.474670Z",
     "shell.execute_reply": "2024-04-06T23:33:50.473455Z"
    },
    "papermill": {
     "duration": 122.85702,
     "end_time": "2024-04-06T23:33:50.550143",
     "exception": false,
     "start_time": "2024-04-06T23:31:47.693123",
     "status": "completed"
    },
    "tags": []
   },
   "outputs": [
    {
     "name": "stdout",
     "output_type": "stream",
     "text": [
      "*** TRAIN ***\n"
     ]
    },
    {
     "name": "stderr",
     "output_type": "stream",
     "text": [
      "                                                                                \r"
     ]
    },
    {
     "name": "stdout",
     "output_type": "stream",
     "text": [
      "+---+-----+--------------------+\n",
      "|NPL|count|          proportion|\n",
      "+---+-----+--------------------+\n",
      "|  0| 7205|  0.9785413554257776|\n",
      "|  1|  158|0.021458644574222464|\n",
      "+---+-----+--------------------+\n",
      "\n",
      "*** TEST ***\n"
     ]
    },
    {
     "name": "stderr",
     "output_type": "stream",
     "text": [
      "                                                                                \r"
     ]
    },
    {
     "name": "stdout",
     "output_type": "stream",
     "text": [
      "+---+-----+--------------------+\n",
      "|NPL|count|          proportion|\n",
      "+---+-----+--------------------+\n",
      "|  0| 2308|  0.9800424628450106|\n",
      "|  1|   47|0.019957537154989383|\n",
      "+---+-----+--------------------+\n",
      "\n"
     ]
    }
   ],
   "source": [
    "# Since the class proportions are relatively proximate, we are able to use them in our project.\n",
    "print('*** TRAIN ***')\n",
    "train.groupBy('NPL').count().withColumn('proportion', col('count')/train.count()).show()\n",
    "print('*** TEST ***')\n",
    "test.groupBy('NPL').count().withColumn('proportion', col('count')/test.count()).show()"
   ]
  },
  {
   "cell_type": "code",
   "execution_count": 19,
   "id": "20ad63e8",
   "metadata": {
    "execution": {
     "iopub.execute_input": "2024-04-06T23:33:50.660919Z",
     "iopub.status.busy": "2024-04-06T23:33:50.660400Z",
     "iopub.status.idle": "2024-04-06T23:34:59.161292Z",
     "shell.execute_reply": "2024-04-06T23:34:59.159969Z"
    },
    "papermill": {
     "duration": 68.557609,
     "end_time": "2024-04-06T23:34:59.165718",
     "exception": false,
     "start_time": "2024-04-06T23:33:50.608109",
     "status": "completed"
    },
    "tags": []
   },
   "outputs": [
    {
     "name": "stderr",
     "output_type": "stream",
     "text": [
      "                                                                                \r"
     ]
    }
   ],
   "source": [
    "# Saving the datasets in distinct .parquet files.\n",
    "train.write.parquet('/kaggle/working/train.parquet', mode='overwrite')\n",
    "test.write.parquet('/kaggle/working/test.parquet', mode='overwrite')"
   ]
  },
  {
   "cell_type": "markdown",
   "id": "d9495b48",
   "metadata": {
    "execution": {
     "iopub.execute_input": "2023-08-15T16:05:33.192895Z",
     "iopub.status.busy": "2023-08-15T16:05:33.192467Z",
     "iopub.status.idle": "2023-08-15T16:05:34.343874Z",
     "shell.execute_reply": "2023-08-15T16:05:34.342739Z",
     "shell.execute_reply.started": "2023-08-15T16:05:33.192858Z"
    },
    "papermill": {
     "duration": 0.079511,
     "end_time": "2024-04-06T23:34:59.326421",
     "exception": false,
     "start_time": "2024-04-06T23:34:59.246910",
     "status": "completed"
    },
    "tags": []
   },
   "source": [
    "<h3 style='font-size:30px;font-style:italic'> Defining the Models' Metric</h3>\n",
    "<div> \n",
    "    <ul style='font-size:20px'> \n",
    "        <li> \n",
    "            Providing False Negatives would clearly be more harmful for the bank's equity than False Positives.         \n",
    "        </li>\n",
    "        <li> \n",
    "            Following conversations with the credit analysts, we've ended up defining the case's official metric\n",
    "            as an f-score with $\\beta=4$. So, we are giving to Recall an importance 4x higher than the Precision's.\n",
    "        </li>\n",
    "    </ul>\n",
    "</div>"
   ]
  },
  {
   "cell_type": "markdown",
   "id": "8ae4f896",
   "metadata": {
    "papermill": {
     "duration": 0.055955,
     "end_time": "2024-04-06T23:34:59.450699",
     "exception": false,
     "start_time": "2024-04-06T23:34:59.394744",
     "status": "completed"
    },
    "tags": []
   },
   "source": [
    "<h2 style='font-size:30px'> Exploratory Data Analysis</h2>\n",
    "<div> \n",
    "    <ul style='font-size:20px'> \n",
    "        <li> \n",
    "            With the data properly segregated, let's briefly analyze its content and see whether we can spot differences \n",
    "            among the classes. \n",
    "        </li>\n",
    "    </ul>\n",
    "</div>"
   ]
  },
  {
   "cell_type": "code",
   "execution_count": 20,
   "id": "f15f5229",
   "metadata": {
    "execution": {
     "iopub.execute_input": "2024-04-06T23:34:59.564133Z",
     "iopub.status.busy": "2024-04-06T23:34:59.563720Z",
     "iopub.status.idle": "2024-04-06T23:35:14.264092Z",
     "shell.execute_reply": "2024-04-06T23:35:14.262200Z"
    },
    "papermill": {
     "duration": 14.759953,
     "end_time": "2024-04-06T23:35:14.266871",
     "exception": false,
     "start_time": "2024-04-06T23:34:59.506918",
     "status": "completed"
    },
    "tags": []
   },
   "outputs": [
    {
     "name": "stdout",
     "output_type": "stream",
     "text": [
      "Requirement already satisfied: pyspark in /opt/conda/lib/python3.10/site-packages (3.5.1)\r\n",
      "Requirement already satisfied: py4j==0.10.9.7 in /opt/conda/lib/python3.10/site-packages (from pyspark) (0.10.9.7)\r\n",
      "Note: you may need to restart the kernel to use updated packages.\n"
     ]
    }
   ],
   "source": [
    "pip install pyspark"
   ]
  },
  {
   "cell_type": "code",
   "execution_count": 21,
   "id": "97adaca4",
   "metadata": {
    "execution": {
     "iopub.execute_input": "2024-04-06T23:35:14.384044Z",
     "iopub.status.busy": "2024-04-06T23:35:14.383604Z",
     "iopub.status.idle": "2024-04-06T23:35:14.403666Z",
     "shell.execute_reply": "2024-04-06T23:35:14.402217Z"
    },
    "papermill": {
     "duration": 0.082032,
     "end_time": "2024-04-06T23:35:14.406845",
     "exception": false,
     "start_time": "2024-04-06T23:35:14.324813",
     "status": "completed"
    },
    "tags": []
   },
   "outputs": [
    {
     "data": {
      "text/html": [
       "<style>pre { white-space: pre !important; }</style>"
      ],
      "text/plain": [
       "<IPython.core.display.HTML object>"
      ]
     },
     "metadata": {},
     "output_type": "display_data"
    }
   ],
   "source": [
    "from pyspark import SparkContext\n",
    "from pyspark.sql import SparkSession\n",
    "from IPython.core.display import HTML\n",
    "\n",
    "# Creating the project's SparkSession.\n",
    "spark = SparkSession.builder.appName('NPL').getOrCreate()\n",
    "\n",
    "# Also, modifying the session's log level.\n",
    "log_level = spark.sparkContext.setLogLevel('ERROR')\n",
    "\n",
    "# This tiny config enables us to scroll along the DataFrame's columns.\n",
    "display(HTML(\"<style>pre { white-space: pre !important; }</style>\"))"
   ]
  },
  {
   "cell_type": "code",
   "execution_count": 22,
   "id": "12f1b059",
   "metadata": {
    "execution": {
     "iopub.execute_input": "2024-04-06T23:35:14.520218Z",
     "iopub.status.busy": "2024-04-06T23:35:14.519777Z",
     "iopub.status.idle": "2024-04-06T23:35:15.028572Z",
     "shell.execute_reply": "2024-04-06T23:35:15.026745Z"
    },
    "papermill": {
     "duration": 0.568553,
     "end_time": "2024-04-06T23:35:15.031779",
     "exception": false,
     "start_time": "2024-04-06T23:35:14.463226",
     "status": "completed"
    },
    "tags": []
   },
   "outputs": [
    {
     "name": "stdout",
     "output_type": "stream",
     "text": [
      "+---------+-----------+------------+---------------+------------+----------------+----------------+--------------------+------------------+-----------------+----------+-------------+----------+---------------+----------+----------+---------------+---------------+---+\n",
      "|ID_CLIENT|CODE_GENDER|FLAG_OWN_CAR|FLAG_OWN_REALTY|CNT_CHILDREN|AMT_INCOME_TOTAL|NAME_INCOME_TYPE| NAME_EDUCATION_TYPE|NAME_FAMILY_STATUS|NAME_HOUSING_TYPE|DAYS_BIRTH|DAYS_EMPLOYED|FLAG_MOBIL|FLAG_WORK_PHONE|FLAG_PHONE|FLAG_EMAIL|OCCUPATION_TYPE|CNT_FAM_MEMBERS|NPL|\n",
      "+---------+-----------+------------+---------------+------------+----------------+----------------+--------------------+------------------+-----------------+----------+-------------+----------+---------------+----------+----------+---------------+---------------+---+\n",
      "|      691|          F|           N|              N|           0|         67500.0|         Working|Secondary / secon...|           Married|House / apartment|    -20075|        -7013|         1|              1|         1|         0|    Sales staff|            2.0|  0|\n",
      "|     3606|          F|           N|              N|           0|        112500.0|         Working|Secondary / secon...|           Married|House / apartment|     -9865|         -196|         1|              1|         0|         0|       Laborers|            2.0|  0|\n",
      "|     4821|          F|           N|              N|           0|        135000.0|   State servant|    Higher education|           Married|House / apartment|    -12490|        -1191|         1|              1|         1|         0|     Core staff|            2.0|  0|\n",
      "|     5925|          F|           N|              N|           0|        157500.0|       Pensioner|Secondary / secon...|           Married|House / apartment|    -22828|       365243|         1|              0|         0|         0|           NULL|            2.0|  0|\n",
      "|     6194|          F|           N|              N|           0|        157500.0|         Working|   Incomplete higher|           Married|House / apartment|    -16888|        -2687|         1|              0|         0|         0|     Core staff|            2.0|  0|\n",
      "+---------+-----------+------------+---------------+------------+----------------+----------------+--------------------+------------------+-----------------+----------+-------------+----------+---------------+----------+----------+---------------+---------------+---+\n",
      "only showing top 5 rows\n",
      "\n"
     ]
    }
   ],
   "source": [
    "train = spark.read.parquet('/kaggle/input/npl-train/train.parquet/')\n",
    "train.show(5)"
   ]
  },
  {
   "cell_type": "markdown",
   "id": "5987630b",
   "metadata": {
    "execution": {
     "iopub.execute_input": "2023-08-15T16:05:33.192895Z",
     "iopub.status.busy": "2023-08-15T16:05:33.192467Z",
     "iopub.status.idle": "2023-08-15T16:05:34.343874Z",
     "shell.execute_reply": "2023-08-15T16:05:34.342739Z",
     "shell.execute_reply.started": "2023-08-15T16:05:33.192858Z"
    },
    "papermill": {
     "duration": 0.056159,
     "end_time": "2024-04-06T23:35:15.142444",
     "exception": false,
     "start_time": "2024-04-06T23:35:15.086285",
     "status": "completed"
    },
    "tags": []
   },
   "source": [
    "<h3 style='font-size:30px;font-style:italic'> Assessing the Classes' Incomes</h3>\n",
    "<div> \n",
    "    <ul style='font-size:20px'> \n",
    "        <li> \n",
    "            Let's analyze whether there is any revenue difference between individuals who produced an NPL and those who didn't. \n",
    "        </li>\n",
    "        <li> \n",
    "            Since we are dealing with an continuous outcome from two independent samples, I'll use the z-score formula below to examine the \n",
    "            income differences:\n",
    "            <center style='margin-top:20px'> \n",
    "                    $z=\\frac{\\overline{X}_{1}-\\overline{X}_{2}}{S_{p}\\sqrt{\\frac{1}{n_{1}}+\\frac{1}{n_{2}}}}$ | $S_{p}=\\sqrt{\\frac{(n_{1}-1)s_{1}^{2}+(n_{2}-1)s_{2}^{2}}{n_{1}+n_{2}-2}}$\n",
    "           </center>\n",
    "        </li>\n",
    "    </ul>\n",
    "</div>"
   ]
  },
  {
   "cell_type": "code",
   "execution_count": 23,
   "id": "56aa011e",
   "metadata": {
    "execution": {
     "iopub.execute_input": "2024-04-06T23:35:15.254560Z",
     "iopub.status.busy": "2024-04-06T23:35:15.254167Z",
     "iopub.status.idle": "2024-04-06T23:35:15.588862Z",
     "shell.execute_reply": "2024-04-06T23:35:15.587806Z"
    },
    "papermill": {
     "duration": 0.395313,
     "end_time": "2024-04-06T23:35:15.592780",
     "exception": false,
     "start_time": "2024-04-06T23:35:15.197467",
     "status": "completed"
    },
    "tags": []
   },
   "outputs": [
    {
     "name": "stdout",
     "output_type": "stream",
     "text": [
      "+---+------------------------+\n",
      "|NPL|stddev(AMT_INCOME_TOTAL)|\n",
      "+---+------------------------+\n",
      "|  0|        99647.7510722535|\n",
      "|  1|       96639.80531139452|\n",
      "+---+------------------------+\n",
      "\n"
     ]
    }
   ],
   "source": [
    "# The formula above is only valid for samples with similar std's (0.5<s1/s2<2). So we ought to firstly guarantee that the incomes' std's\n",
    "# are in accordance to that rule.\n",
    "df_income_std = train.groupBy('NPL').agg({'AMT_INCOME_TOTAL':'std'})\n",
    "df_income_std.show()"
   ]
  },
  {
   "cell_type": "code",
   "execution_count": 24,
   "id": "cf82635f",
   "metadata": {
    "execution": {
     "iopub.execute_input": "2024-04-06T23:35:15.711598Z",
     "iopub.status.busy": "2024-04-06T23:35:15.711158Z",
     "iopub.status.idle": "2024-04-06T23:35:15.941854Z",
     "shell.execute_reply": "2024-04-06T23:35:15.940623Z"
    },
    "papermill": {
     "duration": 0.292608,
     "end_time": "2024-04-06T23:35:15.945161",
     "exception": false,
     "start_time": "2024-04-06T23:35:15.652553",
     "status": "completed"
    },
    "tags": []
   },
   "outputs": [
    {
     "data": {
      "text/plain": [
       "1.0311253292695148"
      ]
     },
     "execution_count": 24,
     "metadata": {},
     "output_type": "execute_result"
    }
   ],
   "source": [
    "# Because the std ratio is in the desired interval, we can proceed in using the formula.\n",
    "list_std = [row['stddev(AMT_INCOME_TOTAL)'] for row in df_income_std.collect()]\n",
    "list_std[0] / list_std[1]"
   ]
  },
  {
   "cell_type": "code",
   "execution_count": 25,
   "id": "a17224b5",
   "metadata": {
    "execution": {
     "iopub.execute_input": "2024-04-06T23:35:16.067286Z",
     "iopub.status.busy": "2024-04-06T23:35:16.066326Z",
     "iopub.status.idle": "2024-04-06T23:35:18.035880Z",
     "shell.execute_reply": "2024-04-06T23:35:18.034672Z"
    },
    "papermill": {
     "duration": 2.02886,
     "end_time": "2024-04-06T23:35:18.038824",
     "exception": false,
     "start_time": "2024-04-06T23:35:16.009964",
     "status": "completed"
    },
    "tags": []
   },
   "outputs": [
    {
     "data": {
      "text/plain": [
       "0.7972574858186637"
      ]
     },
     "execution_count": 25,
     "metadata": {},
     "output_type": "execute_result"
    }
   ],
   "source": [
    "# By setting our alpha=.05, we can see that there is no statistical evidence that people with no NPL receive higher incomes\n",
    "# than the other group.\n",
    "from statsmodels.stats.weightstats import ztest\n",
    "\n",
    "zeros = [row['AMT_INCOME_TOTAL'] for row in train.select('AMT_INCOME_TOTAL').where('NPL==0').collect()]\n",
    "ones = [row['AMT_INCOME_TOTAL'] for row in train.select('AMT_INCOME_TOTAL').where('NPL==1').collect()]\n",
    "\n",
    "ztest(zeros, ones, alternative='larger')[1] # Computing our p-value."
   ]
  },
  {
   "cell_type": "markdown",
   "id": "a0f9fad0",
   "metadata": {
    "papermill": {
     "duration": 0.060945,
     "end_time": "2024-04-06T23:35:18.161179",
     "exception": false,
     "start_time": "2024-04-06T23:35:18.100234",
     "status": "completed"
    },
    "tags": []
   },
   "source": [
    "<h3 style='font-size:30px;font-style:italic'> Valuable Assets Analysis</h3>\n",
    "<div> \n",
    "    <ul style='font-size:20px'> \n",
    "        <li> \n",
    "            The dataset contains columns representing whether the client possesses real state or a vehicle.\n",
    "        </li>\n",
    "        <li> \n",
    "            We can verify if people that own such properties have lower chance of producing an NPL, because they could sell them if they don't have enough \n",
    "            cash to pay the loans. \n",
    "        </li>\n",
    "    </ul>\n",
    "</div>"
   ]
  },
  {
   "cell_type": "code",
   "execution_count": 26,
   "id": "8c6e798b",
   "metadata": {
    "execution": {
     "iopub.execute_input": "2024-04-06T23:35:18.275896Z",
     "iopub.status.busy": "2024-04-06T23:35:18.275495Z",
     "iopub.status.idle": "2024-04-06T23:35:18.670433Z",
     "shell.execute_reply": "2024-04-06T23:35:18.669481Z"
    },
    "papermill": {
     "duration": 0.457078,
     "end_time": "2024-04-06T23:35:18.674822",
     "exception": false,
     "start_time": "2024-04-06T23:35:18.217744",
     "status": "completed"
    },
    "tags": []
   },
   "outputs": [
    {
     "name": "stdout",
     "output_type": "stream",
     "text": [
      "+------------+---+\n",
      "|OWN_VALUABLE|NPL|\n",
      "+------------+---+\n",
      "|           0|  0|\n",
      "|           0|  0|\n",
      "|           0|  0|\n",
      "|           0|  0|\n",
      "|           0|  0|\n",
      "+------------+---+\n",
      "only showing top 5 rows\n",
      "\n"
     ]
    }
   ],
   "source": [
    "from pyspark.sql.functions import udf\n",
    "from pyspark.sql.types import StringType\n",
    "\n",
    "@udf(returnType=StringType())\n",
    "def own_valuable(col_car:str, col_realty:str)->str:\n",
    "    '''\n",
    "        Signs whether a client possesses a valuable asset that can be sold for paying their loans.\n",
    "        \n",
    "        Parameters\n",
    "        ----------\n",
    "        `col_car` str\n",
    "            The value of the flag that indicates the ownership of a car.\n",
    "        `col_realty`: str\n",
    "            The value of the flag that indicates the ownership of a real state.\n",
    "            \n",
    "        Returns\n",
    "        -------\n",
    "        A flag indicating the possession of a car or real state (valuable assets). \n",
    "    '''\n",
    "    if (col_car=='Y') or (col_realty=='Y'):\n",
    "        return '1'\n",
    "    return '0'\n",
    "\n",
    "# Creating the DataFrame that will be used for conducting the Hypothesis Test.\n",
    "df_valuable = train.select(own_valuable('FLAG_OWN_CAR', 'FLAG_OWN_REALTY').alias('OWN_VALUABLE'), 'NPL')\n",
    "df_valuable.show(5)"
   ]
  },
  {
   "cell_type": "code",
   "execution_count": 27,
   "id": "77635279",
   "metadata": {
    "execution": {
     "iopub.execute_input": "2024-04-06T23:35:18.799207Z",
     "iopub.status.busy": "2024-04-06T23:35:18.798776Z",
     "iopub.status.idle": "2024-04-06T23:35:19.638849Z",
     "shell.execute_reply": "2024-04-06T23:35:19.637510Z"
    },
    "papermill": {
     "duration": 0.899157,
     "end_time": "2024-04-06T23:35:19.641613",
     "exception": false,
     "start_time": "2024-04-06T23:35:18.742456",
     "status": "completed"
    },
    "tags": []
   },
   "outputs": [
    {
     "name": "stdout",
     "output_type": "stream",
     "text": [
      "+---+------------+-----+\n",
      "|NPL|OWN_VALUABLE|count|\n",
      "+---+------------+-----+\n",
      "|  0|           1| 5747|\n",
      "|  1|           1|  126|\n",
      "|  0|           0| 1454|\n",
      "|  1|           0|   46|\n",
      "+---+------------+-----+\n",
      "\n"
     ]
    },
    {
     "name": "stderr",
     "output_type": "stream",
     "text": [
      "                                                                                \r"
     ]
    }
   ],
   "source": [
    "# Counting the amount of who own or not a valuable asset per target.\n",
    "gb_valuable = (df_valuable\n",
    "     .groupBy(['NPL', 'OWN_VALUABLE'])\n",
    "     .count())\n",
    "\n",
    "gb_valuable.show()"
   ]
  },
  {
   "cell_type": "code",
   "execution_count": 28,
   "id": "2124289e",
   "metadata": {
    "execution": {
     "iopub.execute_input": "2024-04-06T23:35:19.757971Z",
     "iopub.status.busy": "2024-04-06T23:35:19.757580Z",
     "iopub.status.idle": "2024-04-06T23:35:20.770775Z",
     "shell.execute_reply": "2024-04-06T23:35:20.769592Z"
    },
    "papermill": {
     "duration": 1.07879,
     "end_time": "2024-04-06T23:35:20.775420",
     "exception": false,
     "start_time": "2024-04-06T23:35:19.696630",
     "status": "completed"
    },
    "tags": []
   },
   "outputs": [
    {
     "name": "stderr",
     "output_type": "stream",
     "text": [
      "[Stage 483:==========================================>              (3 + 1) / 4]\r"
     ]
    },
    {
     "name": "stdout",
     "output_type": "stream",
     "text": [
      "+---+-----------------------+---------------+------------------+\n",
      "|NPL|INSTANCES_WITH_VALUABLE|TOTAL_INSTANCES| PROP_OWN_VALUABLE|\n",
      "+---+-----------------------+---------------+------------------+\n",
      "|  0|                   5747|           7201|0.7980835995000695|\n",
      "|  1|                    126|            172|0.7325581395348837|\n",
      "+---+-----------------------+---------------+------------------+\n",
      "\n"
     ]
    },
    {
     "name": "stderr",
     "output_type": "stream",
     "text": [
      "                                                                                \r"
     ]
    }
   ],
   "source": [
    "# Now, using `gb_valuable` in order to estimate the proportion of clients with a valuable asset for each target.\n",
    "from pyspark.sql.functions import col\n",
    "from pyspark.sql.functions import sum as ps_sum\n",
    "from pyspark.sql.window import Window\n",
    "\n",
    "window = Window.partitionBy('NPL')\n",
    "\n",
    "# It's noticeable that there is a rough 7% difference between the proportions. But can we regard that as statistically significant? \n",
    "(gb_valuable\n",
    "     .withColumn('TOTAL_INSTANCES', ps_sum(col('count')).over(window)) # Total quantity of instances for each target.\n",
    "     .withColumn('PROP_OWN_VALUABLE', col('count')/ps_sum(col('count')).over(window)) # % of clients who own valuable assets per target.\n",
    "     .withColumnRenamed('count', 'INSTANCES_WITH_VALUABLE') \n",
    "     .where('`OWN_VALUABLE`==1')\n",
    "     .select(['NPL', 'INSTANCES_WITH_VALUABLE', 'TOTAL_INSTANCES', 'PROP_OWN_VALUABLE'])).show()"
   ]
  },
  {
   "cell_type": "code",
   "execution_count": 29,
   "id": "dbac46c8",
   "metadata": {
    "execution": {
     "iopub.execute_input": "2024-04-06T23:35:20.894854Z",
     "iopub.status.busy": "2024-04-06T23:35:20.894432Z",
     "iopub.status.idle": "2024-04-06T23:35:20.929930Z",
     "shell.execute_reply": "2024-04-06T23:35:20.928560Z"
    },
    "papermill": {
     "duration": 0.096664,
     "end_time": "2024-04-06T23:35:20.934340",
     "exception": false,
     "start_time": "2024-04-06T23:35:20.837676",
     "status": "completed"
    },
    "tags": []
   },
   "outputs": [
    {
     "data": {
      "text/plain": [
       "0.033767448873365"
      ]
     },
     "execution_count": 29,
     "metadata": {},
     "output_type": "execute_result"
    }
   ],
   "source": [
    "# H0: People who honor their debts have the same probability of possessing a valuable asset as the clients in default.\n",
    "# H1: People who honor their debts have higher probability of possessing a valuable asset compared to clients in default.\n",
    "\n",
    "# By using the table's data in a Hypothesis Test for proportions, we get a p-value below our significance degree (alpha=.05).\n",
    "\n",
    "# Therefore, we are able to reject H0 and state we possess sufficient information to say that people who have never produced an NPL have a higher\n",
    "# tendency of possessing a valuable asset.\n",
    "\n",
    "from statsmodels.stats.proportion import test_proportions_2indep\n",
    "test_proportions_2indep(5747, 7201, 126, 172, compare='ratio', alternative='larger').pvalue"
   ]
  },
  {
   "cell_type": "code",
   "execution_count": 30,
   "id": "110b9513",
   "metadata": {
    "execution": {
     "iopub.execute_input": "2024-04-06T23:35:21.053402Z",
     "iopub.status.busy": "2024-04-06T23:35:21.052595Z",
     "iopub.status.idle": "2024-04-06T23:35:21.065923Z",
     "shell.execute_reply": "2024-04-06T23:35:21.064394Z"
    },
    "papermill": {
     "duration": 0.077476,
     "end_time": "2024-04-06T23:35:21.069088",
     "exception": false,
     "start_time": "2024-04-06T23:35:20.991612",
     "status": "completed"
    },
    "tags": []
   },
   "outputs": [
    {
     "data": {
      "text/plain": [
       "0.15495270778483095"
      ]
     },
     "execution_count": 30,
     "metadata": {},
     "output_type": "execute_result"
    }
   ],
   "source": [
    "# With the difference proved real, let's analyze it with the use of a Cohen's h.\n",
    "from numpy import arcsin, sqrt\n",
    "def cohen_h(p1:float, p2:float)->float:\n",
    "    '''\n",
    "        Computes the Cohen's h coefficient for the difference between two proportions.\n",
    "        \n",
    "        Parameters\n",
    "        ----------\n",
    "        `p1`: float\n",
    "            The first probability.\n",
    "        `p2`: float\n",
    "            The second probability.\n",
    "            \n",
    "        Returns\n",
    "        -------\n",
    "        The Cohen's h coefficient for the given proportions.\n",
    "    '''\n",
    "    phi1 = 2*arcsin(sqrt(p1))\n",
    "    phi2 = 2*arcsin(sqrt(p2))\n",
    "    return phi1-phi2\n",
    "\n",
    "# By observing the returned h, we can conclude that the difference is of a small magnitude, since it is lower than 0.2.\n",
    "cohen_h(0.7980835995000695, 0.7325581395348837)"
   ]
  },
  {
   "cell_type": "markdown",
   "id": "5f14198b",
   "metadata": {
    "papermill": {
     "duration": 0.056806,
     "end_time": "2024-04-06T23:35:21.182935",
     "exception": false,
     "start_time": "2024-04-06T23:35:21.126129",
     "status": "completed"
    },
    "tags": []
   },
   "source": [
    "<h3 style='font-size:30px;font-style:italic'> Employment Impact Analysis</h3>\n",
    "<div> \n",
    "    <ul style='font-size:20px'> \n",
    "        <li> \n",
    "            Finally, it would be interesting if we could verify whether unemployment can impair loan payments.  \n",
    "        </li>\n",
    "    </ul>\n",
    "</div>"
   ]
  },
  {
   "cell_type": "markdown",
   "id": "595d0820",
   "metadata": {
    "papermill": {
     "duration": 0.055491,
     "end_time": "2024-04-06T23:35:21.296248",
     "exception": false,
     "start_time": "2024-04-06T23:35:21.240757",
     "status": "completed"
    },
    "tags": []
   },
   "source": [
    "<h4 style='font-size:30px;font-style:italic;text-decoration:underline'> Cleaning up Inconsistent Instances</h4>\n",
    "<div> \n",
    "    <ul style='font-size:20px'> \n",
    "        <li> \n",
    "            The dataset contains individuals who present their OCCUPATION_TYPE value as NULL, although they show up as employed (DAYS_EMPLOYED$\\leq{0}$)\n",
    "        </li>\n",
    "        <li>\n",
    "            In order to they not be regarded as unemployed clients (who also present OCCUPATION_TYPE as NULL), I thought it would be convenient to assign \n",
    "            another category to them.\n",
    "        </li>\n",
    "    </ul>\n",
    "</div>"
   ]
  },
  {
   "cell_type": "code",
   "execution_count": 31,
   "id": "1b7804c7",
   "metadata": {
    "execution": {
     "iopub.execute_input": "2024-04-06T23:35:21.412467Z",
     "iopub.status.busy": "2024-04-06T23:35:21.412009Z",
     "iopub.status.idle": "2024-04-06T23:35:21.420289Z",
     "shell.execute_reply": "2024-04-06T23:35:21.419253Z"
    },
    "papermill": {
     "duration": 0.068109,
     "end_time": "2024-04-06T23:35:21.422797",
     "exception": false,
     "start_time": "2024-04-06T23:35:21.354688",
     "status": "completed"
    },
    "tags": []
   },
   "outputs": [],
   "source": [
    "@udf(returnType=StringType())\n",
    "def impute_occupation(col_occupation:str, col_days_employed:int)->str:\n",
    "    '''\n",
    "        Assigns new categories to the OCCUPATION_TYPE column if it is null for any given row. \n",
    "        \n",
    "        In case the DAYS_EMPLOYED shows that the client is currently employed, we impute 'UNDEFINED'; otherwise, we insert 'UNEMPLOYED'.\n",
    "        \n",
    "        Parameters\n",
    "        ----------\n",
    "        `col_occupation`: str\n",
    "            The row's OCCUPATION_TYPE value.\n",
    "        `col_days_employed`: int\n",
    "            The row's DAYS_EMPLOYED value.\n",
    "        \n",
    "        Returns\n",
    "        -------\n",
    "        The row's OCCUPATION_TYPE treated value.\n",
    "    '''\n",
    "    # 'Undefined' profession logic.\n",
    "    if (col_occupation is None) and (col_days_employed<=0):\n",
    "        return 'Undefined'\n",
    "    \n",
    "    # 'Unemployed' logic.\n",
    "    elif (col_occupation is None) and (col_days_employed>0):\n",
    "        return 'Unemployed'\n",
    "    \n",
    "    else:\n",
    "        pass\n",
    "    \n",
    "    return col_occupation"
   ]
  },
  {
   "cell_type": "code",
   "execution_count": 32,
   "id": "ab75399a",
   "metadata": {
    "execution": {
     "iopub.execute_input": "2024-04-06T23:35:21.539295Z",
     "iopub.status.busy": "2024-04-06T23:35:21.538853Z",
     "iopub.status.idle": "2024-04-06T23:35:21.576447Z",
     "shell.execute_reply": "2024-04-06T23:35:21.575180Z"
    },
    "papermill": {
     "duration": 0.100703,
     "end_time": "2024-04-06T23:35:21.579121",
     "exception": false,
     "start_time": "2024-04-06T23:35:21.478418",
     "status": "completed"
    },
    "tags": []
   },
   "outputs": [
    {
     "data": {
      "text/plain": [
       "['ID_CLIENT',\n",
       " 'CODE_GENDER',\n",
       " 'FLAG_OWN_CAR',\n",
       " 'FLAG_OWN_REALTY',\n",
       " 'CNT_CHILDREN',\n",
       " 'AMT_INCOME_TOTAL',\n",
       " 'NAME_INCOME_TYPE',\n",
       " 'NAME_EDUCATION_TYPE',\n",
       " 'NAME_FAMILY_STATUS',\n",
       " 'NAME_HOUSING_TYPE',\n",
       " 'DAYS_BIRTH',\n",
       " 'DAYS_EMPLOYED',\n",
       " 'FLAG_MOBIL',\n",
       " 'FLAG_WORK_PHONE',\n",
       " 'FLAG_PHONE',\n",
       " 'FLAG_EMAIL',\n",
       " 'CNT_FAM_MEMBERS',\n",
       " Column<'impute_occupation(OCCUPATION_TYPE, DAYS_EMPLOYED) AS OCCUPATION_TYPE'>,\n",
       " 'NPL']"
      ]
     },
     "execution_count": 32,
     "metadata": {},
     "output_type": "execute_result"
    }
   ],
   "source": [
    "# `list_select_occupation` will be used so that we can redefine the `train` DataFrame with the transformed OCCUPATION_TYPE feature.\n",
    "list_select_occupation = train.columns\n",
    "list_select_occupation.remove('OCCUPATION_TYPE')\n",
    "list_select_occupation.insert(-1, impute_occupation('OCCUPATION_TYPE', 'DAYS_EMPLOYED').alias('OCCUPATION_TYPE'))\n",
    "list_select_occupation"
   ]
  },
  {
   "cell_type": "code",
   "execution_count": 33,
   "id": "7dfdc0e3",
   "metadata": {
    "execution": {
     "iopub.execute_input": "2024-04-06T23:35:21.695946Z",
     "iopub.status.busy": "2024-04-06T23:35:21.695081Z",
     "iopub.status.idle": "2024-04-06T23:35:22.129292Z",
     "shell.execute_reply": "2024-04-06T23:35:22.128109Z"
    },
    "papermill": {
     "duration": 0.495883,
     "end_time": "2024-04-06T23:35:22.133687",
     "exception": false,
     "start_time": "2024-04-06T23:35:21.637804",
     "status": "completed"
    },
    "tags": []
   },
   "outputs": [
    {
     "name": "stdout",
     "output_type": "stream",
     "text": [
      "+---------+-----------+------------+---------------+------------+----------------+----------------+--------------------+------------------+-----------------+----------+-------------+----------+---------------+----------+----------+---------------+---------------+---+\n",
      "|ID_CLIENT|CODE_GENDER|FLAG_OWN_CAR|FLAG_OWN_REALTY|CNT_CHILDREN|AMT_INCOME_TOTAL|NAME_INCOME_TYPE| NAME_EDUCATION_TYPE|NAME_FAMILY_STATUS|NAME_HOUSING_TYPE|DAYS_BIRTH|DAYS_EMPLOYED|FLAG_MOBIL|FLAG_WORK_PHONE|FLAG_PHONE|FLAG_EMAIL|CNT_FAM_MEMBERS|OCCUPATION_TYPE|NPL|\n",
      "+---------+-----------+------------+---------------+------------+----------------+----------------+--------------------+------------------+-----------------+----------+-------------+----------+---------------+----------+----------+---------------+---------------+---+\n",
      "|      691|          F|           N|              N|           0|         67500.0|         Working|Secondary / secon...|           Married|House / apartment|    -20075|        -7013|         1|              1|         1|         0|            2.0|    Sales staff|  0|\n",
      "|     3606|          F|           N|              N|           0|        112500.0|         Working|Secondary / secon...|           Married|House / apartment|     -9865|         -196|         1|              1|         0|         0|            2.0|       Laborers|  0|\n",
      "|     4821|          F|           N|              N|           0|        135000.0|   State servant|    Higher education|           Married|House / apartment|    -12490|        -1191|         1|              1|         1|         0|            2.0|     Core staff|  0|\n",
      "|     5925|          F|           N|              N|           0|        157500.0|       Pensioner|Secondary / secon...|           Married|House / apartment|    -22828|       365243|         1|              0|         0|         0|            2.0|     Unemployed|  0|\n",
      "|     6194|          F|           N|              N|           0|        157500.0|         Working|   Incomplete higher|           Married|House / apartment|    -16888|        -2687|         1|              0|         0|         0|            2.0|     Core staff|  0|\n",
      "+---------+-----------+------------+---------------+------------+----------------+----------------+--------------------+------------------+-----------------+----------+-------------+----------+---------------+----------+----------+---------------+---------------+---+\n",
      "only showing top 5 rows\n",
      "\n"
     ]
    }
   ],
   "source": [
    "# Applying the modifications to `train`.\n",
    "train = train.select(list_select_occupation)\n",
    "train.show(5)"
   ]
  },
  {
   "cell_type": "markdown",
   "id": "aba8248a",
   "metadata": {
    "papermill": {
     "duration": 0.057574,
     "end_time": "2024-04-06T23:35:22.270048",
     "exception": false,
     "start_time": "2024-04-06T23:35:22.212474",
     "status": "completed"
    },
    "tags": []
   },
   "source": [
    "<h4 style='font-size:30px;font-style:italic;text-decoration:underline'> Back to the EDA...</h4>"
   ]
  },
  {
   "cell_type": "code",
   "execution_count": 34,
   "id": "70dd6bd1",
   "metadata": {
    "execution": {
     "iopub.execute_input": "2024-04-06T23:35:22.391528Z",
     "iopub.status.busy": "2024-04-06T23:35:22.391092Z",
     "iopub.status.idle": "2024-04-06T23:35:23.297902Z",
     "shell.execute_reply": "2024-04-06T23:35:23.296658Z"
    },
    "papermill": {
     "duration": 0.97098,
     "end_time": "2024-04-06T23:35:23.301761",
     "exception": false,
     "start_time": "2024-04-06T23:35:22.330781",
     "status": "completed"
    },
    "tags": []
   },
   "outputs": [
    {
     "name": "stdout",
     "output_type": "stream",
     "text": [
      "+---+--------+-----+\n",
      "|NPL|EMPLOYED|count|\n",
      "+---+--------+-----+\n",
      "|  0|       0| 1269|\n",
      "|  0|       1| 5932|\n",
      "|  1|       0|   31|\n",
      "|  1|       1|  141|\n",
      "+---+--------+-----+\n",
      "\n"
     ]
    },
    {
     "name": "stderr",
     "output_type": "stream",
     "text": [
      "                                                                                \r"
     ]
    }
   ],
   "source": [
    "# Counting the amount of employed and unemployed individuals per target group.\n",
    "from pyspark.sql.functions import when\n",
    "(train\n",
    "     .withColumn('EMPLOYED', when(col('OCCUPATION_TYPE') == 'Unemployed', 0).otherwise(1))\n",
    "     .groupBy('NPL', 'EMPLOYED')\n",
    "     .count()\n",
    "     .orderBy('NPL', 'EMPLOYED')).show(5)"
   ]
  },
  {
   "cell_type": "code",
   "execution_count": 35,
   "id": "4c8485f2",
   "metadata": {
    "execution": {
     "iopub.execute_input": "2024-04-06T23:35:23.420499Z",
     "iopub.status.busy": "2024-04-06T23:35:23.419822Z",
     "iopub.status.idle": "2024-04-06T23:35:23.428343Z",
     "shell.execute_reply": "2024-04-06T23:35:23.427190Z"
    },
    "papermill": {
     "duration": 0.069282,
     "end_time": "2024-04-06T23:35:23.431107",
     "exception": false,
     "start_time": "2024-04-06T23:35:23.361825",
     "status": "completed"
    },
    "tags": []
   },
   "outputs": [
    {
     "data": {
      "text/plain": [
       "0.41442347321737816"
      ]
     },
     "execution_count": 35,
     "metadata": {},
     "output_type": "execute_result"
    }
   ],
   "source": [
    "# H0: The proportion of unemployed among people with honored debts is the same as with those who didn't.\n",
    "# H1: The proportion of unemployed among people with honored debts is lower than that of those who didn't.\n",
    "\n",
    "# By looking at the p-value, we don't have sufficient statistical evidence to reject H0.\n",
    "test_proportions_2indep(1269, 7201, 31, 172, compare='ratio', alternative='smaller', ).pvalue"
   ]
  },
  {
   "cell_type": "code",
   "execution_count": 36,
   "id": "19b28658",
   "metadata": {
    "execution": {
     "iopub.execute_input": "2024-04-06T23:35:23.550151Z",
     "iopub.status.busy": "2024-04-06T23:35:23.549760Z",
     "iopub.status.idle": "2024-04-06T23:35:24.618077Z",
     "shell.execute_reply": "2024-04-06T23:35:24.616794Z"
    },
    "papermill": {
     "duration": 1.134038,
     "end_time": "2024-04-06T23:35:24.621555",
     "exception": false,
     "start_time": "2024-04-06T23:35:23.487517",
     "status": "completed"
    },
    "tags": []
   },
   "outputs": [
    {
     "name": "stderr",
     "output_type": "stream",
     "text": [
      "                                                                                \r"
     ]
    }
   ],
   "source": [
    "# Saving the newly transformed `train` dataset.\n",
    "train.write.parquet('/kaggle/working/train.parquet', mode='overwrite')"
   ]
  },
  {
   "cell_type": "markdown",
   "id": "ed52c204",
   "metadata": {
    "papermill": {
     "duration": 0.06666,
     "end_time": "2024-04-06T23:35:24.772973",
     "exception": false,
     "start_time": "2024-04-06T23:35:24.706313",
     "status": "completed"
    },
    "tags": []
   },
   "source": [
    "<h2 style='font-size:30px'> Data Transforming </h2>\n",
    "<div> \n",
    "    <ul style='font-size:20px'> \n",
    "        <li> \n",
    "            We are very close to begin the creation of our models. But we must remind that the data needs to go under a numeralization procedure before.\n",
    "        </li>\n",
    "    </ul>\n",
    "</div>"
   ]
  },
  {
   "cell_type": "code",
   "execution_count": 37,
   "id": "38a9c1c3",
   "metadata": {
    "execution": {
     "iopub.execute_input": "2024-04-06T23:35:24.895813Z",
     "iopub.status.busy": "2024-04-06T23:35:24.895393Z",
     "iopub.status.idle": "2024-04-06T23:35:39.627587Z",
     "shell.execute_reply": "2024-04-06T23:35:39.625833Z"
    },
    "papermill": {
     "duration": 14.794461,
     "end_time": "2024-04-06T23:35:39.630244",
     "exception": false,
     "start_time": "2024-04-06T23:35:24.835783",
     "status": "completed"
    },
    "tags": []
   },
   "outputs": [
    {
     "name": "stdout",
     "output_type": "stream",
     "text": [
      "Requirement already satisfied: pyspark in /opt/conda/lib/python3.10/site-packages (3.5.1)\r\n",
      "Requirement already satisfied: py4j==0.10.9.7 in /opt/conda/lib/python3.10/site-packages (from pyspark) (0.10.9.7)\r\n",
      "Note: you may need to restart the kernel to use updated packages.\n"
     ]
    }
   ],
   "source": [
    "pip install pyspark"
   ]
  },
  {
   "cell_type": "code",
   "execution_count": 38,
   "id": "c11a61e2",
   "metadata": {
    "execution": {
     "iopub.execute_input": "2024-04-06T23:35:39.748336Z",
     "iopub.status.busy": "2024-04-06T23:35:39.747879Z",
     "iopub.status.idle": "2024-04-06T23:35:39.761121Z",
     "shell.execute_reply": "2024-04-06T23:35:39.759922Z"
    },
    "papermill": {
     "duration": 0.073777,
     "end_time": "2024-04-06T23:35:39.763503",
     "exception": false,
     "start_time": "2024-04-06T23:35:39.689726",
     "status": "completed"
    },
    "tags": []
   },
   "outputs": [
    {
     "data": {
      "text/html": [
       "<style>pre { white-space: pre !important; }</style>"
      ],
      "text/plain": [
       "<IPython.core.display.HTML object>"
      ]
     },
     "metadata": {},
     "output_type": "display_data"
    }
   ],
   "source": [
    "from pyspark import SparkContext\n",
    "from pyspark.sql import SparkSession\n",
    "from IPython.core.display import HTML\n",
    "\n",
    "# Creating the project's SparkSession.\n",
    "spark = SparkSession.builder.appName('NPL').getOrCreate()\n",
    "\n",
    "# Also, modifying the session's log level.\n",
    "log_level = spark.sparkContext.setLogLevel('ERROR')\n",
    "\n",
    "# This tiny config enables us to scroll along the DataFrame's columns.\n",
    "display(HTML(\"<style>pre { white-space: pre !important; }</style>\"))"
   ]
  },
  {
   "cell_type": "code",
   "execution_count": 39,
   "id": "06a31fc2",
   "metadata": {
    "execution": {
     "iopub.execute_input": "2024-04-06T23:35:39.884037Z",
     "iopub.status.busy": "2024-04-06T23:35:39.883577Z",
     "iopub.status.idle": "2024-04-06T23:35:40.115140Z",
     "shell.execute_reply": "2024-04-06T23:35:40.113924Z"
    },
    "papermill": {
     "duration": 0.294479,
     "end_time": "2024-04-06T23:35:40.118217",
     "exception": false,
     "start_time": "2024-04-06T23:35:39.823738",
     "status": "completed"
    },
    "tags": []
   },
   "outputs": [
    {
     "name": "stdout",
     "output_type": "stream",
     "text": [
      "+---------+-----------+------------+---------------+------------+----------------+----------------+--------------------+------------------+-----------------+----------+-------------+----------+---------------+----------+----------+---------------+---------------+---+\n",
      "|ID_CLIENT|CODE_GENDER|FLAG_OWN_CAR|FLAG_OWN_REALTY|CNT_CHILDREN|AMT_INCOME_TOTAL|NAME_INCOME_TYPE| NAME_EDUCATION_TYPE|NAME_FAMILY_STATUS|NAME_HOUSING_TYPE|DAYS_BIRTH|DAYS_EMPLOYED|FLAG_MOBIL|FLAG_WORK_PHONE|FLAG_PHONE|FLAG_EMAIL|CNT_FAM_MEMBERS|OCCUPATION_TYPE|NPL|\n",
      "+---------+-----------+------------+---------------+------------+----------------+----------------+--------------------+------------------+-----------------+----------+-------------+----------+---------------+----------+----------+---------------+---------------+---+\n",
      "|      691|          F|           N|              N|           0|         67500.0|         Working|Secondary / secon...|           Married|House / apartment|    -20075|        -7013|         1|              1|         1|         0|            2.0|    Sales staff|  0|\n",
      "|     3606|          F|           N|              N|           0|        112500.0|         Working|Secondary / secon...|           Married|House / apartment|     -9865|         -196|         1|              1|         0|         0|            2.0|       Laborers|  0|\n",
      "|     4821|          F|           N|              N|           0|        135000.0|   State servant|    Higher education|           Married|House / apartment|    -12490|        -1191|         1|              1|         1|         0|            2.0|     Core staff|  0|\n",
      "|     5925|          F|           N|              N|           0|        157500.0|       Pensioner|Secondary / secon...|           Married|House / apartment|    -22828|       365243|         1|              0|         0|         0|            2.0|     Unemployed|  0|\n",
      "|     6194|          F|           N|              N|           0|        157500.0|         Working|   Incomplete higher|           Married|House / apartment|    -16888|        -2687|         1|              0|         0|         0|            2.0|     Core staff|  0|\n",
      "+---------+-----------+------------+---------------+------------+----------------+----------------+--------------------+------------------+-----------------+----------+-------------+----------+---------------+----------+----------+---------------+---------------+---+\n",
      "only showing top 5 rows\n",
      "\n"
     ]
    }
   ],
   "source": [
    "train = spark.read.parquet('/kaggle/input/npl-train/train-eda.parquet/')\n",
    "train.show(5)"
   ]
  },
  {
   "cell_type": "markdown",
   "id": "0d0fea91",
   "metadata": {
    "papermill": {
     "duration": 0.06321,
     "end_time": "2024-04-06T23:35:40.243099",
     "exception": false,
     "start_time": "2024-04-06T23:35:40.179889",
     "status": "completed"
    },
    "tags": []
   },
   "source": [
    "<h3 style='font-size:30px;font-style:italic'> Job Labels' Transformer</h3>\n",
    "<div> \n",
    "    <ul style='font-size:20px'> \n",
    "        <li>   \n",
    "            Before making our numeralization process, we must re-implement the 'OCCUPATION_TYPE' column logic that we've written in a formal \n",
    "            PySpark Transformer class. In that way, we'll be able to apply the transformations in the test set as well.\n",
    "        </li>\n",
    "    </ul>\n",
    "</div>"
   ]
  },
  {
   "cell_type": "code",
   "execution_count": 40,
   "id": "62490d96",
   "metadata": {
    "execution": {
     "iopub.execute_input": "2024-04-06T23:35:40.370385Z",
     "iopub.status.busy": "2024-04-06T23:35:40.369956Z",
     "iopub.status.idle": "2024-04-06T23:35:40.484798Z",
     "shell.execute_reply": "2024-04-06T23:35:40.483635Z"
    },
    "papermill": {
     "duration": 0.183529,
     "end_time": "2024-04-06T23:35:40.487735",
     "exception": false,
     "start_time": "2024-04-06T23:35:40.304206",
     "status": "completed"
    },
    "tags": []
   },
   "outputs": [],
   "source": [
    "from pyspark.ml.param.shared import HasInputCol, HasInputCols, HasOutputCol, HasOutputCols, Param, Params, TypeConverters\n",
    "from pyspark.ml.util import DefaultParamsReadable, DefaultParamsWritable\n",
    "from pyspark import keyword_only\n",
    "from pyspark.ml import Transformer\n",
    "from typing import List\n",
    "\n",
    "class _BaseTransformer(Transformer, HasInputCol, HasInputCols, HasOutputCol, HasOutputCols, DefaultParamsReadable, DefaultParamsWritable):\n",
    "    '''\n",
    "        A class that provide the basic functionalities for the project's custom transformers.\n",
    "        \n",
    "        If you consider that your object will require even more customization, you can just overwrite any of the default methods when creating it. Also,\n",
    "        remember that any extra parameter must be set with a `self._setDefault` method right in the `__init__` function, mentioned in the `self.setParams`\n",
    "        method and own a getter function.\n",
    "        \n",
    "        Lastly, don't forget to define the `_transform` function!\n",
    "        \n",
    "        Parameters\n",
    "        ----------\n",
    "        `inputCol`: str\n",
    "            The name of the input column.\n",
    "        `inputCols`: List[str]\n",
    "            List containing the name of input columns.\n",
    "        `outputCol`: str\n",
    "            The name of the output column.\n",
    "        `outputCols`: List[str]\n",
    "            List containing the name of output columns.\n",
    "        \n",
    "        References\n",
    "        ----------\n",
    "        https://medium.com/@zeid.zandi/utilizing-the-power-of-pyspark-pipelines-in-data-science-projects-benefits-and-limitations-2-2-9063e4bebd05\n",
    "        https://www.crowdstrike.com/blog/deep-dive-into-custom-spark-transformers-for-machine-learning-pipelines/\n",
    "    '''\n",
    "    @keyword_only\n",
    "    def __init__(self, inputCol:str=None, inputCols:List[str]=None, outputCol:str=None, outputCols:List[str]=None, *args)->None:\n",
    "        super().__init__()\n",
    "        kwargs = self._input_kwargs\n",
    "        self.setParams(**kwargs)\n",
    "        \n",
    "    @keyword_only\n",
    "    def setParams(self, inputCol=None, inputCols=None, outputCol=None, outputCols=None): \n",
    "        kwargs = self._input_kwargs                                                          \n",
    "        return self._set(**kwargs)\n",
    "    \n",
    "    def setInputCol(self, value):\n",
    "        return self.setParams(inputCol=value)\n",
    "    \n",
    "    def setInputCols(self, value):\n",
    "        self.setParams(inputCols=value)\n",
    "    \n",
    "    def setOutputCol(self, value):\n",
    "        return self.setParams(outputCol=value)\n",
    "    \n",
    "    def setOutputCols(self, value):\n",
    "        return self.setParams(outputCols=value)"
   ]
  },
  {
   "cell_type": "code",
   "execution_count": 41,
   "id": "f8acf9a4",
   "metadata": {
    "execution": {
     "iopub.execute_input": "2024-04-06T23:35:40.614213Z",
     "iopub.status.busy": "2024-04-06T23:35:40.613419Z",
     "iopub.status.idle": "2024-04-06T23:35:40.626338Z",
     "shell.execute_reply": "2024-04-06T23:35:40.625315Z"
    },
    "papermill": {
     "duration": 0.079281,
     "end_time": "2024-04-06T23:35:40.630020",
     "exception": false,
     "start_time": "2024-04-06T23:35:40.550739",
     "status": "completed"
    },
    "tags": []
   },
   "outputs": [],
   "source": [
    "from pyspark.sql import DataFrame\n",
    "from pyspark.sql.functions import udf\n",
    "from pyspark.sql.types import StringType\n",
    "\n",
    "class ImputeOccupation(_BaseTransformer):\n",
    "    '''\n",
    "        A Transformer encharged of imputing proper OCCUPATION_TYPE values for rows that are NULL in such column.  \n",
    "        \n",
    "        Parameters\n",
    "        ----------\n",
    "        `inputCol`: str\n",
    "            The name of the input column.\n",
    "            \n",
    "        Method\n",
    "        ------\n",
    "        `_transform`: Applies the mentioned imputation process,\n",
    "    '''\n",
    "    @staticmethod\n",
    "    @udf(returnType=StringType())\n",
    "    def __impute_occupation(col_occupation:str, col_days_employed:int)->str:\n",
    "        '''\n",
    "        Assigns new categories to the OCCUPATION_TYPE column, if it is null. \n",
    "        \n",
    "        In case the row's DAYS_EMPLOYED shows that the client is currently employed, we impute 'UNDEFINED'; otherwise, we insert 'UNEMPLOYED'.\n",
    "        \n",
    "        Parameters\n",
    "        ----------\n",
    "        `col_occupation`: str\n",
    "            The row's OCCUPATION_TYPE value.\n",
    "        `col_days_employed`: int\n",
    "            The row's DAYS_EMPLOYED value.\n",
    "        \n",
    "        Returns\n",
    "        -------\n",
    "        The row's OCCUPATION_TYPE treated value.\n",
    "        '''\n",
    "        # 'Undefined' profession logic.\n",
    "        if (col_occupation is None) and (col_days_employed<=0):\n",
    "            return 'Undefined'\n",
    "\n",
    "        # 'Unemployed' logic.\n",
    "        elif (col_occupation is None) and (col_days_employed>0):\n",
    "            return 'Unemployed'\n",
    "        \n",
    "        # Otherwise, it outputs the current value.\n",
    "        else:\n",
    "            return col_occupation\n",
    "    \n",
    "    def _transform(self, dataset:DataFrame)->DataFrame:\n",
    "        '''\n",
    "            Performs the new occupation categories imputation.\n",
    "            \n",
    "            Parameter\n",
    "            ---------\n",
    "            `dataset`: `pyspark.sql.DataFrame`\n",
    "                The project's independent variables.\n",
    "                \n",
    "            Returns\n",
    "            -------\n",
    "            The DataFrame with the treated 'OCCUPATION_TYPE' column.\n",
    "        '''\n",
    "        x = self.getInputCol()\n",
    "        dataset = dataset.withColumn(x, self.__impute_occupation(x, 'DAYS_EMPLOYED'))\n",
    "        return dataset"
   ]
  },
  {
   "cell_type": "markdown",
   "id": "bffefc42",
   "metadata": {
    "papermill": {
     "duration": 0.058622,
     "end_time": "2024-04-06T23:35:40.748826",
     "exception": false,
     "start_time": "2024-04-06T23:35:40.690204",
     "status": "completed"
    },
    "tags": []
   },
   "source": [
    "<h3 style='font-size:30px;font-style:italic'> String Columns Numeralization</h3>\n",
    "<div> \n",
    "    <ul style='font-size:20px'> \n",
    "        <li>   \n",
    "            The first transformation we must conduct is turning string columns into float format.\n",
    "        </li>\n",
    "        <li> \n",
    "            As a solution, I'ĺl replace the given category for the its proportion of instances that are defaulted. I think that will be a worthier way \n",
    "            of generating numerical information than just providing a One-Hot Encoding.\n",
    "        </li>\n",
    "    </ul>\n",
    "</div>"
   ]
  },
  {
   "cell_type": "code",
   "execution_count": 42,
   "id": "007d3aaa",
   "metadata": {
    "execution": {
     "iopub.execute_input": "2024-04-06T23:35:40.869029Z",
     "iopub.status.busy": "2024-04-06T23:35:40.867726Z",
     "iopub.status.idle": "2024-04-06T23:35:40.879223Z",
     "shell.execute_reply": "2024-04-06T23:35:40.878261Z"
    },
    "papermill": {
     "duration": 0.074214,
     "end_time": "2024-04-06T23:35:40.882130",
     "exception": false,
     "start_time": "2024-04-06T23:35:40.807916",
     "status": "completed"
    },
    "tags": []
   },
   "outputs": [],
   "source": [
    "from pyspark.ml.pipeline import Estimator, Model, Pipeline, PipelineModel\n",
    "from pyspark.ml.param.shared import HasPredictionCol, Param, Params, TypeConverters\n",
    "from typing import Dict, List, Union\n",
    "\n",
    "doc = '''\n",
    "    Parameter that stores the proportions of defaulted individuals for each X features' categories.\n",
    "'''\n",
    "class HasDefaultProportions(Params):\n",
    "    '''\n",
    "        A class dedicated to store the categories' proportion of indebted individuals. \n",
    "    '''\n",
    "    defaultProportions:Dict[str, Dict[str, float]] = Param(Params._dummy(), 'defaultProportions', doc)\n",
    "    \n",
    "    def __init__(self):\n",
    "        super(HasDefaultProportions, self).__init__()\n",
    "    \n",
    "    def setDefaultProportions(self, value):\n",
    "        return self._set(defaultProportions=value)\n",
    "    \n",
    "    def getDefaultProportions(self):\n",
    "        return self.getOrDefault(self.defaultProportions)\n",
    "    \n",
    "list_col_strings = [col for col, dtype in train.dtypes if dtype=='string' and col !='NPL']"
   ]
  },
  {
   "cell_type": "code",
   "execution_count": 43,
   "id": "892838fa",
   "metadata": {
    "execution": {
     "iopub.execute_input": "2024-04-06T23:35:41.002175Z",
     "iopub.status.busy": "2024-04-06T23:35:41.001496Z",
     "iopub.status.idle": "2024-04-06T23:35:41.014059Z",
     "shell.execute_reply": "2024-04-06T23:35:41.013043Z"
    },
    "papermill": {
     "duration": 0.075911,
     "end_time": "2024-04-06T23:35:41.016690",
     "exception": false,
     "start_time": "2024-04-06T23:35:40.940779",
     "status": "completed"
    },
    "tags": []
   },
   "outputs": [],
   "source": [
    "from pyspark.sql.dataframe import DataFrame\n",
    "\n",
    "class DefaultProportionsModel(Model, HasInputCols, HasDefaultProportions, DefaultParamsReadable, DefaultParamsWritable):\n",
    "    '''\n",
    "        The `pyspark.ml.pipeline.Model` that replaces categorical values for their respective proportion of defaulted individuals.\n",
    "        \n",
    "        Parameters\n",
    "        ---------\n",
    "        `inputCols: List[str]\n",
    "            A list of the categorical features names.\n",
    "        `defaultProportions`: Dict[str, DataFrame]\n",
    "            A dictionary mapping the name of the categorical column to a DataFrame storing the proportions.\n",
    "            \n",
    "        Method\n",
    "        -------\n",
    "        `_transform`: Performs the replacements.\n",
    "    '''\n",
    "    @keyword_only\n",
    "    def __init__(self, inputCols:List[str]=None, defaultProportions:Dict[str,List[Dict[str, Union[str, float]]]]=None):\n",
    "        super(DefaultProportionsModel, self).__init__()\n",
    "        kwargs = self._input_kwargs\n",
    "        self.setParams(**kwargs)\n",
    "        \n",
    "    @keyword_only\n",
    "    def setParams(self, inputCols:List[str]=None, defaultProportions:Dict[str,List[Dict[str, Union[str, float]]]]=None):\n",
    "        kwargs = self._input_kwargs\n",
    "        return self._set(**kwargs)\n",
    "    \n",
    "    def _transform(self, dataset:DataFrame)->DataFrame:\n",
    "        '''\n",
    "            Method that exchanges the categorical values for their proportion of defaulted individuals of the training set.\n",
    "            \n",
    "            Parameter\n",
    "            ---------\n",
    "            `dataset`: DataFrame\n",
    "                A `pyspark.sql.dataframe.DataFrame` with the project's data.\n",
    "                \n",
    "            Returns\n",
    "            -------\n",
    "            The DataFrame with the mentioned transformation.\n",
    "        '''\n",
    "        x = self.getInputCols()\n",
    "        defaultProportions = self.getDefaultProportions()\n",
    "        for c in x:\n",
    "            df = spark.createDataFrame(defaultProportions[c]) # Converting our list of dicts into a DataFrame.\n",
    "            dataset = dataset.join(df, on=c, how='left').drop(c)\n",
    "        return dataset"
   ]
  },
  {
   "cell_type": "code",
   "execution_count": 44,
   "id": "552d69a0",
   "metadata": {
    "execution": {
     "iopub.execute_input": "2024-04-06T23:35:41.142641Z",
     "iopub.status.busy": "2024-04-06T23:35:41.142230Z",
     "iopub.status.idle": "2024-04-06T23:35:41.159746Z",
     "shell.execute_reply": "2024-04-06T23:35:41.158722Z"
    },
    "papermill": {
     "duration": 0.082364,
     "end_time": "2024-04-06T23:35:41.162532",
     "exception": false,
     "start_time": "2024-04-06T23:35:41.080168",
     "status": "completed"
    },
    "tags": []
   },
   "outputs": [],
   "source": [
    "from pyspark.sql.functions import col\n",
    "from pyspark.sql.types import DecimalType, FloatType\n",
    "\n",
    "class DefaultProportions(Estimator, HasInputCols, HasDefaultProportions, DefaultParamsReadable, DefaultParamsWritable):\n",
    "    '''\n",
    "        An Estimator encharged for measuring the categorical values proportions of defaulted individuals.\n",
    "    \n",
    "        Parameter\n",
    "        ---------\n",
    "        `inputCols`: List[str]\n",
    "            A list with the categorical columns names.\n",
    "            \n",
    "        Method\n",
    "        ------\n",
    "        `_fit`: Measures the proportions and stores them in a DataFrame.\n",
    "        \n",
    "        References\n",
    "        ----------\n",
    "        https://stackoverflow.com/questions/37270446/how-to-create-a-custom-estimator-in-pyspark\n",
    "    '''\n",
    "    @keyword_only\n",
    "    def __init__(self, inputCols:List[str]=None):\n",
    "        super(DefaultProportions, self).__init__()\n",
    "        kwargs = self._input_kwargs\n",
    "        self.setParams(**kwargs)\n",
    "    \n",
    "    @keyword_only\n",
    "    def setParams(self, inputCols:List[str]=None):\n",
    "        kwargs = self._input_kwargs\n",
    "        return self._set(**kwargs)\n",
    "        \n",
    "    def setInputCols(self, value:List[str]):\n",
    "        return self.setParams(inputCols=value)\n",
    "    \n",
    "    def setPredictionCol(self, value:str):\n",
    "        return self.setParams(predictionCol=value)\n",
    "    \n",
    "    @staticmethod\n",
    "    def __measure_proportions(dataset:DataFrame, input_cols:List[str], target:str)->Dict[str, DataFrame]:\n",
    "        '''\n",
    "            Responsible for quantifying the categories' proportions of indebted individuals. They will be stored in a `pyspark.sql.dataframe.DataFrame`\n",
    "            object. Each dataframe is kept in the `defaultedProportions` dictionary, which maps them to the categorical column's name.\n",
    "            \n",
    "            Paramters\n",
    "            ---------\n",
    "            `dataset`: DataFrame\n",
    "                A `pyspark.sql.dataframe.DataFrame` with the project's data.\n",
    "            `inputCols`: List[str]\n",
    "                A list with the categorical columns names.    \n",
    "            `target`: str\n",
    "                The `dataset`'s target name.\n",
    "            \n",
    "            Returns\n",
    "            -------\n",
    "            A dictionary mapping the categorical columns' names to the DataFrame that stores the classes proportions.\n",
    "        '''\n",
    "        defaultProportions = {}\n",
    "        len_df = dataset.count()\n",
    "        for c in input_cols:\n",
    "            col_prop = c+'_NPL_PROP'\n",
    "            df_gb = dataset.groupBy([c, target]).count()\n",
    "            df_props = (df_gb\n",
    "                        .where(f'{target}==1')\n",
    "                        .withColumn(col_prop, (col('count')/len_df)\n",
    "                        .cast(FloatType()))#DecimalType(8,7)))\n",
    "                        .select([c, col_prop]))\n",
    "            defaultProportions[c] = list(map(lambda row: row.asDict(), df_props.collect())) # DF to list to able saving the class.\n",
    "        return defaultProportions\n",
    "            \n",
    "    def _fit(self, dataset:DataFrame, target:str='NPL')->DefaultProportionsModel:\n",
    "        '''\n",
    "            Measures the proportions of indebted individuals from each dataset's categorical columns.\n",
    "            \n",
    "            Parameters\n",
    "            ---------\n",
    "            `dataset`: DataFrame\n",
    "                A `pyspark.sql.dataframe.DataFrame` with the project's data.   \n",
    "            `target`: str\n",
    "                The `dataset`'s target name.\n",
    "                \n",
    "            Returns\n",
    "            -------\n",
    "            A fitted DefaultProportionsModel ready for transforming the dataset.\n",
    "        '''\n",
    "        x = self.getInputCols()\n",
    "        defaultProportions = self.__measure_proportions(dataset, x, target)\n",
    "        return DefaultProportionsModel(inputCols=x, defaultProportions=defaultProportions)"
   ]
  },
  {
   "cell_type": "code",
   "execution_count": 45,
   "id": "f43ea8ad",
   "metadata": {
    "execution": {
     "iopub.execute_input": "2024-04-06T23:35:41.282007Z",
     "iopub.status.busy": "2024-04-06T23:35:41.281204Z",
     "iopub.status.idle": "2024-04-06T23:35:45.675527Z",
     "shell.execute_reply": "2024-04-06T23:35:45.674476Z"
    },
    "papermill": {
     "duration": 4.458997,
     "end_time": "2024-04-06T23:35:45.678344",
     "exception": false,
     "start_time": "2024-04-06T23:35:41.219347",
     "status": "completed"
    },
    "tags": []
   },
   "outputs": [],
   "source": [
    "# Finally, we can insert both custom classes inside a pyspark pipeline!\n",
    "impute_occupation = ImputeOccupation(inputCol='OCCUPATION_TYPE')\n",
    "default_prop = DefaultProportions(inputCols=list_col_strings[1:])\n",
    "\n",
    "# Creating the pipe.\n",
    "pipe1 = Pipeline(stages=[impute_occupation, default_prop]).fit(train)\n",
    "train_num = pipe1.transform(train)"
   ]
  },
  {
   "cell_type": "code",
   "execution_count": 46,
   "id": "7467c70b",
   "metadata": {
    "execution": {
     "iopub.execute_input": "2024-04-06T23:35:45.795316Z",
     "iopub.status.busy": "2024-04-06T23:35:45.794882Z",
     "iopub.status.idle": "2024-04-06T23:35:54.242984Z",
     "shell.execute_reply": "2024-04-06T23:35:54.241551Z"
    },
    "papermill": {
     "duration": 8.508576,
     "end_time": "2024-04-06T23:35:54.245587",
     "exception": false,
     "start_time": "2024-04-06T23:35:45.737011",
     "status": "completed"
    },
    "tags": []
   },
   "outputs": [
    {
     "name": "stderr",
     "output_type": "stream",
     "text": [
      "                                                                                \r"
     ]
    },
    {
     "name": "stdout",
     "output_type": "stream",
     "text": [
      "+------------+----------------+----------+-------------+---------------+---+--------------------+---------------------+------------------------+-------------------------+----------------------------+---------------------------+--------------------------+-------------------+------------------------+--------------------+-------------------+------------------------+\n",
      "|CNT_CHILDREN|AMT_INCOME_TOTAL|DAYS_BIRTH|DAYS_EMPLOYED|CNT_FAM_MEMBERS|NPL|CODE_GENDER_NPL_PROP|FLAG_OWN_CAR_NPL_PROP|FLAG_OWN_REALTY_NPL_PROP|NAME_INCOME_TYPE_NPL_PROP|NAME_EDUCATION_TYPE_NPL_PROP|NAME_FAMILY_STATUS_NPL_PROP|NAME_HOUSING_TYPE_NPL_PROP|FLAG_MOBIL_NPL_PROP|FLAG_WORK_PHONE_NPL_PROP| FLAG_PHONE_NPL_PROP|FLAG_EMAIL_NPL_PROP|OCCUPATION_TYPE_NPL_PROP|\n",
      "+------------+----------------+----------+-------------+---------------+---+--------------------+---------------------+------------------------+-------------------------+----------------------------+---------------------------+--------------------------+-------------------+------------------------+--------------------+-------------------+------------------------+\n",
      "|           0|        112500.0|     -9865|         -196|            2.0|  0|0.013969889841973782| 0.015326189808547497|    0.009629730135202408|     0.010443510487675667|         0.01478367019444704|        0.01600434072315693|      0.020073240622878075|0.02332836017012596|    0.005967719946056604|0.015461820177733898|0.02142954058945179|     0.00366200995631516|\n",
      "|           0|         67500.0|    -20075|        -7013|            2.0|  0|0.013969889841973782| 0.015326189808547497|    0.009629730135202408|     0.010443510487675667|         0.01478367019444704|        0.01600434072315693|      0.020073240622878075|0.02332836017012596|    0.005967719946056604|0.007866539992392063|0.02142954058945179|    0.001763190026395...|\n",
      "|           0|        364500.0|    -17204|        -1028|            2.0|  0|0.013969889841973782| 0.015326189808547497|    0.009629730135202408|     0.010443510487675667|         0.01478367019444704|       5.425200215540826E-4|      0.020073240622878075|0.02332836017012596|    0.017360640689730644|0.015461820177733898|0.02142954058945179|    0.001763190026395...|\n",
      "|           0|        135000.0|    -12490|        -1191|            2.0|  0|0.013969889841973782| 0.015326189808547497|    0.009629730135202408|     0.001898820046335...|        0.006374610122293234|        0.01600434072315693|      0.020073240622878075|0.02332836017012596|    0.005967719946056604|0.007866539992392063|0.02142954058945179|    0.003255120012909174|\n",
      "|           0|        157500.0|    -16888|        -2687|            2.0|  0|0.013969889841973782| 0.015326189808547497|    0.009629730135202408|     0.010443510487675667|        0.001491929986514151|        0.01600434072315693|      0.020073240622878075|0.02332836017012596|    0.017360640689730644|0.015461820177733898|0.02142954058945179|    0.003255120012909174|\n",
      "+------------+----------------+----------+-------------+---------------+---+--------------------+---------------------+------------------------+-------------------------+----------------------------+---------------------------+--------------------------+-------------------+------------------------+--------------------+-------------------+------------------------+\n",
      "only showing top 5 rows\n",
      "\n"
     ]
    }
   ],
   "source": [
    "# We can discard the ID_CLIENT column, since it has no predictive value.\n",
    "train_num = train_num.drop('ID_CLIENT')\n",
    "train_num.show(5)"
   ]
  },
  {
   "cell_type": "markdown",
   "id": "3eb32e99",
   "metadata": {
    "papermill": {
     "duration": 0.06481,
     "end_time": "2024-04-06T23:35:54.376508",
     "exception": false,
     "start_time": "2024-04-06T23:35:54.311698",
     "status": "completed"
    },
    "tags": []
   },
   "source": [
    "<h3 style='font-size:30px;font-style:italic'> Imputing and Standardization</h3>\n",
    "<div> \n",
    "    <ul style='font-size:20px'> \n",
    "        <li>   \n",
    "            As a last step, we also need to guarantee that our instances will have no NULL values. Also, we must standardize our numbers, in line\n",
    "            with ML best practices.\n",
    "        </li>\n",
    "    </ul>\n",
    "</div>"
   ]
  },
  {
   "cell_type": "code",
   "execution_count": 47,
   "id": "97bd236e",
   "metadata": {
    "execution": {
     "iopub.execute_input": "2024-04-06T23:35:54.506429Z",
     "iopub.status.busy": "2024-04-06T23:35:54.505910Z",
     "iopub.status.idle": "2024-04-06T23:36:10.373934Z",
     "shell.execute_reply": "2024-04-06T23:36:10.372448Z"
    },
    "papermill": {
     "duration": 15.934469,
     "end_time": "2024-04-06T23:36:10.377564",
     "exception": false,
     "start_time": "2024-04-06T23:35:54.443095",
     "status": "completed"
    },
    "tags": []
   },
   "outputs": [
    {
     "name": "stderr",
     "output_type": "stream",
     "text": [
      "                                                                                \r"
     ]
    }
   ],
   "source": [
    "# With all our features properly in numerical format, we can add a second Pipeline that handles imputing and standardization.\n",
    "from pyspark.ml.feature import Imputer, StandardScaler, VectorAssembler\n",
    "\n",
    "list_features = [c for c in train_num.columns if c!='NPL']\n",
    "\n",
    "imputer = Imputer(inputCols=list_features, outputCols=list_features)\n",
    "\n",
    "vector_assembler = VectorAssembler(inputCols=list_features, outputCol='features', handleInvalid='skip')\n",
    "scaler = StandardScaler(inputCol='features', outputCol='scaled_features', withMean=True)\n",
    "pipe2 = Pipeline(stages=[imputer, vector_assembler, scaler]).fit(train_num)"
   ]
  },
  {
   "cell_type": "code",
   "execution_count": 48,
   "id": "42c93d12",
   "metadata": {
    "execution": {
     "iopub.execute_input": "2024-04-06T23:36:10.561546Z",
     "iopub.status.busy": "2024-04-06T23:36:10.560949Z",
     "iopub.status.idle": "2024-04-06T23:36:18.304163Z",
     "shell.execute_reply": "2024-04-06T23:36:18.302526Z"
    },
    "papermill": {
     "duration": 7.839165,
     "end_time": "2024-04-06T23:36:18.307465",
     "exception": false,
     "start_time": "2024-04-06T23:36:10.468300",
     "status": "completed"
    },
    "tags": []
   },
   "outputs": [
    {
     "name": "stderr",
     "output_type": "stream",
     "text": [
      "                                                                                \r"
     ]
    },
    {
     "name": "stdout",
     "output_type": "stream",
     "text": [
      "+--------------------+---+\n",
      "|     scaled_features|NPL|\n",
      "+--------------------+---+\n",
      "|[-0.5716041269164...|  0|\n",
      "|[-0.5716041269164...|  0|\n",
      "|[-0.5716041269164...|  0|\n",
      "|[0.79229141604638...|  0|\n",
      "|[2.15618695900926...|  0|\n",
      "+--------------------+---+\n",
      "only showing top 5 rows\n",
      "\n"
     ]
    }
   ],
   "source": [
    "# Finally, creating the project's official transformation Pipeline! \n",
    "# We can declare it as a PipelineModel, since its sub-pipelines have already been fitted!\n",
    "pipe = PipelineModel(stages=[pipe1, pipe2])\n",
    "train_num = pipe.transform(train).select(['scaled_features', 'NPL'])\n",
    "train_num.show(5)"
   ]
  },
  {
   "cell_type": "code",
   "execution_count": 49,
   "id": "efa1bb05",
   "metadata": {
    "execution": {
     "iopub.execute_input": "2024-04-06T23:36:18.464804Z",
     "iopub.status.busy": "2024-04-06T23:36:18.464424Z",
     "iopub.status.idle": "2024-04-06T23:36:25.356619Z",
     "shell.execute_reply": "2024-04-06T23:36:25.355322Z"
    },
    "papermill": {
     "duration": 6.964293,
     "end_time": "2024-04-06T23:36:25.360237",
     "exception": false,
     "start_time": "2024-04-06T23:36:18.395944",
     "status": "completed"
    },
    "tags": []
   },
   "outputs": [
    {
     "name": "stderr",
     "output_type": "stream",
     "text": [
      "                                                                                \r"
     ]
    }
   ],
   "source": [
    "# It's a good idea to save our numerical training set.\n",
    "train_num.write.parquet('/kaggle/working/train_num.parquet', mode='overwrite')"
   ]
  },
  {
   "cell_type": "code",
   "execution_count": 50,
   "id": "bfe52163",
   "metadata": {
    "execution": {
     "iopub.execute_input": "2024-04-06T23:36:25.519119Z",
     "iopub.status.busy": "2024-04-06T23:36:25.518708Z",
     "iopub.status.idle": "2024-04-06T23:36:25.525093Z",
     "shell.execute_reply": "2024-04-06T23:36:25.522986Z"
    },
    "papermill": {
     "duration": 0.081411,
     "end_time": "2024-04-06T23:36:25.527868",
     "exception": false,
     "start_time": "2024-04-06T23:36:25.446457",
     "status": "completed"
    },
    "tags": []
   },
   "outputs": [],
   "source": [
    "# Also, registering our test set.\n",
    "#test_num = pipe.transform(test).select(['scaled_features', 'NPL'])\n",
    "#test_num.write.parquet('/kaggle/working/test_num.parquet', mode='overwrite')"
   ]
  },
  {
   "cell_type": "code",
   "execution_count": 51,
   "id": "bf54bf16",
   "metadata": {
    "execution": {
     "iopub.execute_input": "2024-04-06T23:36:25.659223Z",
     "iopub.status.busy": "2024-04-06T23:36:25.658447Z",
     "iopub.status.idle": "2024-04-06T23:36:27.849732Z",
     "shell.execute_reply": "2024-04-06T23:36:27.848478Z"
    },
    "papermill": {
     "duration": 2.260803,
     "end_time": "2024-04-06T23:36:27.853082",
     "exception": false,
     "start_time": "2024-04-06T23:36:25.592279",
     "status": "completed"
    },
    "tags": []
   },
   "outputs": [],
   "source": [
    "# Saving the model for future use.\n",
    "pipe.save('../working/pipe')"
   ]
  },
  {
   "cell_type": "markdown",
   "id": "10c98959",
   "metadata": {
    "papermill": {
     "duration": 0.066039,
     "end_time": "2024-04-06T23:36:28.012430",
     "exception": false,
     "start_time": "2024-04-06T23:36:27.946391",
     "status": "completed"
    },
    "tags": []
   },
   "source": [
    "<h2 style='font-size:30px'> Modeling Phase </h2>\n",
    "<div> \n",
    "    <ul style='font-size:20px'> \n",
    "        <li> \n",
    "            Since we already have our features in numerical format, we can begin this section by briefly analyzing the distribution of the features \n",
    "            throughout the space. \n",
    "        </li>\n",
    "    </ul>\n",
    "</div>"
   ]
  },
  {
   "cell_type": "code",
   "execution_count": 52,
   "id": "9275d935",
   "metadata": {
    "execution": {
     "iopub.execute_input": "2024-04-06T23:36:28.152423Z",
     "iopub.status.busy": "2024-04-06T23:36:28.151882Z",
     "iopub.status.idle": "2024-04-06T23:36:42.677105Z",
     "shell.execute_reply": "2024-04-06T23:36:42.675450Z"
    },
    "papermill": {
     "duration": 14.600377,
     "end_time": "2024-04-06T23:36:42.679904",
     "exception": false,
     "start_time": "2024-04-06T23:36:28.079527",
     "status": "completed"
    },
    "tags": []
   },
   "outputs": [
    {
     "name": "stdout",
     "output_type": "stream",
     "text": [
      "Requirement already satisfied: pyspark in /opt/conda/lib/python3.10/site-packages (3.5.1)\r\n",
      "Requirement already satisfied: py4j==0.10.9.7 in /opt/conda/lib/python3.10/site-packages (from pyspark) (0.10.9.7)\r\n",
      "Note: you may need to restart the kernel to use updated packages.\n"
     ]
    }
   ],
   "source": [
    "pip install pyspark"
   ]
  },
  {
   "cell_type": "code",
   "execution_count": 53,
   "id": "576d57e3",
   "metadata": {
    "execution": {
     "iopub.execute_input": "2024-04-06T23:36:42.810461Z",
     "iopub.status.busy": "2024-04-06T23:36:42.810008Z",
     "iopub.status.idle": "2024-04-06T23:36:42.826209Z",
     "shell.execute_reply": "2024-04-06T23:36:42.824470Z"
    },
    "papermill": {
     "duration": 0.086571,
     "end_time": "2024-04-06T23:36:42.830524",
     "exception": false,
     "start_time": "2024-04-06T23:36:42.743953",
     "status": "completed"
    },
    "tags": []
   },
   "outputs": [
    {
     "data": {
      "text/html": [
       "<style>pre { white-space: pre !important; }</style>"
      ],
      "text/plain": [
       "<IPython.core.display.HTML object>"
      ]
     },
     "metadata": {},
     "output_type": "display_data"
    }
   ],
   "source": [
    "from pyspark import SparkContext\n",
    "from pyspark.sql import SparkSession\n",
    "from IPython.core.display import HTML\n",
    "\n",
    "# Creating the project's SparkSession.\n",
    "spark = SparkSession.builder.appName('NPL').getOrCreate()\n",
    "\n",
    "# Also, modifying the session's log level.\n",
    "log_level = spark.sparkContext.setLogLevel('ERROR')\n",
    "\n",
    "# This tiny config enables us to scroll along the DataFrame's columns.\n",
    "display(HTML(\"<style>pre { white-space: pre !important; }</style>\"))"
   ]
  },
  {
   "cell_type": "code",
   "execution_count": 54,
   "id": "54ae272e",
   "metadata": {
    "collapsed": true,
    "execution": {
     "iopub.execute_input": "2024-04-06T23:36:42.968797Z",
     "iopub.status.busy": "2024-04-06T23:36:42.968009Z",
     "iopub.status.idle": "2024-04-06T23:36:42.972339Z",
     "shell.execute_reply": "2024-04-06T23:36:42.971436Z"
    },
    "jupyter": {
     "outputs_hidden": true
    },
    "papermill": {
     "duration": 0.076375,
     "end_time": "2024-04-06T23:36:42.974799",
     "exception": false,
     "start_time": "2024-04-06T23:36:42.898424",
     "status": "completed"
    },
    "tags": []
   },
   "outputs": [],
   "source": [
    "# from pyspark.ml.pipeline import PipelineModel\n",
    "# train = spark.read.parquet('/kaggle/input/npl-train/train-eda.parquet/')\n",
    "# train = PipelineModel.load('/kaggle/input/nlp-pipe/other/npl-pipe/1/pipe').transform(train)\n",
    "# train.show(5)"
   ]
  },
  {
   "cell_type": "markdown",
   "id": "e342a274",
   "metadata": {
    "papermill": {
     "duration": 0.065449,
     "end_time": "2024-04-06T23:36:43.105566",
     "exception": false,
     "start_time": "2024-04-06T23:36:43.040117",
     "status": "completed"
    },
    "tags": []
   },
   "source": [
    "<p style='color:red'> Iniciar análise PCA; Usar datasets numéricos como train_num e test_num</p>"
   ]
  }
 ],
 "metadata": {
  "kaggle": {
   "accelerator": "none",
   "dataSources": [
    {
     "datasetId": 426827,
     "sourceId": 1031720,
     "sourceType": "datasetVersion"
    },
    {
     "datasetId": 3941029,
     "sourceId": 6856406,
     "sourceType": "datasetVersion"
    },
    {
     "datasetId": 3950752,
     "sourceId": 8048950,
     "sourceType": "datasetVersion"
    },
    {
     "datasetId": 3950750,
     "sourceId": 8048943,
     "sourceType": "datasetVersion"
    }
   ],
   "dockerImageVersionId": 30558,
   "isGpuEnabled": false,
   "isInternetEnabled": true,
   "language": "python",
   "sourceType": "notebook"
  },
  "kernelspec": {
   "display_name": "Python 3",
   "language": "python",
   "name": "python3"
  },
  "language_info": {
   "codemirror_mode": {
    "name": "ipython",
    "version": 3
   },
   "file_extension": ".py",
   "mimetype": "text/x-python",
   "name": "python",
   "nbconvert_exporter": "python",
   "pygments_lexer": "ipython3",
   "version": "3.10.12"
  },
  "papermill": {
   "default_parameters": {},
   "duration": 489.116236,
   "end_time": "2024-04-06T23:36:45.792875",
   "environment_variables": {},
   "exception": null,
   "input_path": "__notebook__.ipynb",
   "output_path": "__notebook__.ipynb",
   "parameters": {},
   "start_time": "2024-04-06T23:28:36.676639",
   "version": "2.4.0"
  }
 },
 "nbformat": 4,
 "nbformat_minor": 5
}
