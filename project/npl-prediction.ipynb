{
 "cells": [
  {
   "cell_type": "markdown",
   "id": "2d89380a",
   "metadata": {
    "papermill": {
     "duration": 0.014535,
     "end_time": "2024-03-21T23:27:08.829438",
     "exception": false,
     "start_time": "2024-03-21T23:27:08.814903",
     "status": "completed"
    },
    "tags": []
   },
   "source": [
    "<h1 style='font-size:40px'> NPL Risk Evaluation Modeling</h1>\n",
    "<div style='font-size:20px'> \n",
    "    <ul> \n",
    "        <li> \n",
    "            This project aims the conceiving of a Machine Learning Model focused on assisting a bank on its credit approval strategy.\n",
    "        </li>\n",
    "        <li> \n",
    "            The corporation has been scolded for its recent NPL levels by its shareholders. Thus, the executive team has decided that a more conservative \n",
    "            credit strategy must be adopted for new contracts.\n",
    "        </li>\n",
    "        <li> \n",
    "            During the planning meetings, the business team has made two major requests concerning the nature of the model.\n",
    "            <ul style='list-style-type:decimal'> \n",
    "                <li> \n",
    "                    It must be focused on predicting whether a given client might produce an NPL in the future.\n",
    "                </li>\n",
    "                <li> \n",
    "                    The output must be some kind of score suggesting the likelihood of the event to happen. They are not looking for \n",
    "                    an incisive \"yes or no\" answer.\n",
    "                </li>\n",
    "            </ul>\n",
    "        </li>\n",
    "    </ul>\n",
    "    <p style='margin-left:30px'> <strong> Note:</strong> The bank's NPL definition is any loan which payment is at least 90 days late.</p>\n",
    "</div>"
   ]
  },
  {
   "cell_type": "markdown",
   "id": "d8abaf07",
   "metadata": {
    "papermill": {
     "duration": 0.013895,
     "end_time": "2024-03-21T23:27:08.857732",
     "exception": false,
     "start_time": "2024-03-21T23:27:08.843837",
     "status": "completed"
    },
    "tags": []
   },
   "source": [
    "<h2 style='font-size:30px'> Data Importing</h2>\n",
    "<div> \n",
    "    <ul style='font-size:20px'> \n",
    "        <li> \n",
    "            The Data Engineers were able to provide two .csv views from the bank's database. The first one contains general information over the clients \n",
    "            and the second lists the loans they've contracted over some period of time.\n",
    "        </li>\n",
    "    </ul>\n",
    "</div>"
   ]
  },
  {
   "cell_type": "code",
   "execution_count": 1,
   "id": "04feab78",
   "metadata": {
    "execution": {
     "iopub.execute_input": "2024-03-21T23:27:08.888007Z",
     "iopub.status.busy": "2024-03-21T23:27:08.887482Z",
     "iopub.status.idle": "2024-03-21T23:27:57.215530Z",
     "shell.execute_reply": "2024-03-21T23:27:57.214346Z"
    },
    "papermill": {
     "duration": 48.345906,
     "end_time": "2024-03-21T23:27:57.217846",
     "exception": false,
     "start_time": "2024-03-21T23:27:08.871940",
     "status": "completed"
    },
    "tags": []
   },
   "outputs": [
    {
     "name": "stdout",
     "output_type": "stream",
     "text": [
      "Collecting pyspark\r\n",
      "  Downloading pyspark-3.5.1.tar.gz (317.0 MB)\r\n",
      "\u001b[2K     \u001b[90m━━━━━━━━━━━━━━━━━━━━━━━━━━━━━━━━━━━━━━━\u001b[0m \u001b[32m317.0/317.0 MB\u001b[0m \u001b[31m3.8 MB/s\u001b[0m eta \u001b[36m0:00:00\u001b[0m\r\n",
      "\u001b[?25h  Preparing metadata (setup.py) ... \u001b[?25l-\b \bdone\r\n",
      "\u001b[?25hRequirement already satisfied: py4j==0.10.9.7 in /opt/conda/lib/python3.10/site-packages (from pyspark) (0.10.9.7)\r\n",
      "Building wheels for collected packages: pyspark\r\n",
      "  Building wheel for pyspark (setup.py) ... \u001b[?25l-\b \b\\\b \b|\b \bdone\r\n",
      "\u001b[?25h  Created wheel for pyspark: filename=pyspark-3.5.1-py2.py3-none-any.whl size=317488497 sha256=630f554762914411df05f9b0b1af7cc969c568367eebb6e24ffd782a09307a84\r\n",
      "  Stored in directory: /root/.cache/pip/wheels/80/1d/60/2c256ed38dddce2fdd93be545214a63e02fbd8d74fb0b7f3a6\r\n",
      "Successfully built pyspark\r\n",
      "Installing collected packages: pyspark\r\n",
      "Successfully installed pyspark-3.5.1\r\n",
      "Note: you may need to restart the kernel to use updated packages.\n"
     ]
    }
   ],
   "source": [
    "pip install pyspark"
   ]
  },
  {
   "cell_type": "code",
   "execution_count": 2,
   "id": "0df4d0f8",
   "metadata": {
    "execution": {
     "iopub.execute_input": "2024-03-21T23:27:57.260906Z",
     "iopub.status.busy": "2024-03-21T23:27:57.260501Z",
     "iopub.status.idle": "2024-03-21T23:28:02.633272Z",
     "shell.execute_reply": "2024-03-21T23:28:02.632268Z"
    },
    "papermill": {
     "duration": 5.397628,
     "end_time": "2024-03-21T23:28:02.636240",
     "exception": false,
     "start_time": "2024-03-21T23:27:57.238612",
     "status": "completed"
    },
    "tags": []
   },
   "outputs": [
    {
     "name": "stderr",
     "output_type": "stream",
     "text": [
      "Setting default log level to \"WARN\".\n",
      "To adjust logging level use sc.setLogLevel(newLevel). For SparkR, use setLogLevel(newLevel).\n",
      "24/03/21 23:28:00 WARN NativeCodeLoader: Unable to load native-hadoop library for your platform... using builtin-java classes where applicable\n"
     ]
    },
    {
     "data": {
      "text/html": [
       "<style>pre { white-space: pre !important; }</style>"
      ],
      "text/plain": [
       "<IPython.core.display.HTML object>"
      ]
     },
     "metadata": {},
     "output_type": "display_data"
    }
   ],
   "source": [
    "from pyspark import SparkContext\n",
    "from pyspark.sql import SparkSession\n",
    "from IPython.core.display import HTML\n",
    "\n",
    "# Creating the project's SparkSession.\n",
    "spark = SparkSession.builder.appName('NPL').getOrCreate()\n",
    "\n",
    "# Also, modifying the session's log level.\n",
    "log_level = spark.sparkContext.setLogLevel('ERROR')\n",
    "\n",
    "# This tiny config enables us to scroll along the DataFrame's columns.\n",
    "display(HTML(\"<style>pre { white-space: pre !important; }</style>\"))"
   ]
  },
  {
   "cell_type": "markdown",
   "id": "b0680802",
   "metadata": {
    "execution": {
     "iopub.execute_input": "2023-08-15T16:05:33.192895Z",
     "iopub.status.busy": "2023-08-15T16:05:33.192467Z",
     "iopub.status.idle": "2023-08-15T16:05:34.343874Z",
     "shell.execute_reply": "2023-08-15T16:05:34.342739Z",
     "shell.execute_reply.started": "2023-08-15T16:05:33.192858Z"
    },
    "papermill": {
     "duration": 0.021173,
     "end_time": "2024-03-21T23:28:02.681970",
     "exception": false,
     "start_time": "2024-03-21T23:28:02.660797",
     "status": "completed"
    },
    "tags": []
   },
   "source": [
    "<h3 style='font-size:30px;font-style:italic'> Clients Database</h3>\n",
    "<div> \n",
    "    <ul style='font-size:20px'> \n",
    "        <li> \n",
    "            This dataset is comprised of general information about the loans' clients.\n",
    "        </li>    \n",
    "        <li> \n",
    "            A particularity worth noting is that date columns show the negative amount of days since the given event took place. Positive numbers \n",
    "            indicate the number of days since the occurence ceased to exist - as it might happen with unemployed borrowers in the DAYS_EMPLOYED feature.\n",
    "        </li>\n",
    "    </ul>\n",
    "</div>"
   ]
  },
  {
   "cell_type": "code",
   "execution_count": 3,
   "id": "d0e68ad8",
   "metadata": {
    "execution": {
     "iopub.execute_input": "2024-03-21T23:28:02.727096Z",
     "iopub.status.busy": "2024-03-21T23:28:02.726208Z",
     "iopub.status.idle": "2024-03-21T23:28:10.109281Z",
     "shell.execute_reply": "2024-03-21T23:28:10.108081Z"
    },
    "papermill": {
     "duration": 7.409408,
     "end_time": "2024-03-21T23:28:10.112859",
     "exception": false,
     "start_time": "2024-03-21T23:28:02.703451",
     "status": "completed"
    },
    "tags": []
   },
   "outputs": [
    {
     "name": "stderr",
     "output_type": "stream",
     "text": [
      "                                                                                \r"
     ]
    },
    {
     "name": "stdout",
     "output_type": "stream",
     "text": [
      "+-------+-----------+------------+---------------+------------+----------------+--------------------+--------------------+--------------------+-----------------+----------+-------------+----------+---------------+----------+----------+---------------+---------------+\n",
      "|     ID|CODE_GENDER|FLAG_OWN_CAR|FLAG_OWN_REALTY|CNT_CHILDREN|AMT_INCOME_TOTAL|    NAME_INCOME_TYPE| NAME_EDUCATION_TYPE|  NAME_FAMILY_STATUS|NAME_HOUSING_TYPE|DAYS_BIRTH|DAYS_EMPLOYED|FLAG_MOBIL|FLAG_WORK_PHONE|FLAG_PHONE|FLAG_EMAIL|OCCUPATION_TYPE|CNT_FAM_MEMBERS|\n",
      "+-------+-----------+------------+---------------+------------+----------------+--------------------+--------------------+--------------------+-----------------+----------+-------------+----------+---------------+----------+----------+---------------+---------------+\n",
      "|5008804|          M|           Y|              Y|           0|        427500.0|             Working|    Higher education|      Civil marriage| Rented apartment|    -12005|        -4542|         1|              1|         0|         0|           NULL|            2.0|\n",
      "|5008805|          M|           Y|              Y|           0|        427500.0|             Working|    Higher education|      Civil marriage| Rented apartment|    -12005|        -4542|         1|              1|         0|         0|           NULL|            2.0|\n",
      "|5008806|          M|           Y|              Y|           0|        112500.0|             Working|Secondary / secon...|             Married|House / apartment|    -21474|        -1134|         1|              0|         0|         0| Security staff|            2.0|\n",
      "|5008808|          F|           N|              Y|           0|        270000.0|Commercial associate|Secondary / secon...|Single / not married|House / apartment|    -19110|        -3051|         1|              0|         1|         1|    Sales staff|            1.0|\n",
      "|5008809|          F|           N|              Y|           0|        270000.0|Commercial associate|Secondary / secon...|Single / not married|House / apartment|    -19110|        -3051|         1|              0|         1|         1|    Sales staff|            1.0|\n",
      "+-------+-----------+------------+---------------+------------+----------------+--------------------+--------------------+--------------------+-----------------+----------+-------------+----------+---------------+----------+----------+---------------+---------------+\n",
      "only showing top 5 rows\n",
      "\n"
     ]
    }
   ],
   "source": [
    "path_clients = '/kaggle/input/credit-card-approval-prediction/application_record.csv'\n",
    "\n",
    "# Defining the data types from the clients dataset.\n",
    "schema_clients = '''\n",
    "`ID` STRING, `CODE_GENDER` STRING, `FLAG_OWN_CAR` STRING, `FLAG_OWN_REALTY` STRING, `CNT_CHILDREN` INT,\n",
    "`AMT_INCOME_TOTAL` FLOAT, `NAME_INCOME_TYPE` STRING, `NAME_EDUCATION_TYPE` STRING, `NAME_FAMILY_STATUS` STRING, `NAME_HOUSING_TYPE` STRING,\n",
    "`DAYS_BIRTH` INT, `DAYS_EMPLOYED` INT, `FLAG_MOBIL` STRING, `FLAG_WORK_PHONE` STRING, `FLAG_PHONE` STRING, `FLAG_EMAIL` STRING, \n",
    "`OCCUPATION_TYPE` STRING, `CNT_FAM_MEMBERS` DOUBLE\n",
    "'''\n",
    "\n",
    "# Reading the database with the created schema.\n",
    "df_clients = spark.read.csv(path_clients, header=True, schema=schema_clients)\n",
    "df_clients.show(5)"
   ]
  },
  {
   "cell_type": "markdown",
   "id": "89e2cb99",
   "metadata": {
    "papermill": {
     "duration": 0.033011,
     "end_time": "2024-03-21T23:28:10.180640",
     "exception": false,
     "start_time": "2024-03-21T23:28:10.147629",
     "status": "completed"
    },
    "tags": []
   },
   "source": [
    "<h4 style='font-size:30px;font-style:italic;text-decoration:underline'> Duplicates Disclaimer</h4>\n",
    "<div> \n",
    "    <ul style='font-size:20px'> \n",
    "        <li> \n",
    "             Clients may not have unique rows in the dataset because the ID column identifies a contracted loan instead of a person.\n",
    "        </li>\n",
    "        <li> \n",
    "            Thus, I've found convenient for the project to create an ID column that assigns a code for each of the clients.\n",
    "        </li>\n",
    "    </ul>\n",
    "</div>"
   ]
  },
  {
   "cell_type": "code",
   "execution_count": 4,
   "id": "3597ef71",
   "metadata": {
    "execution": {
     "iopub.execute_input": "2024-03-21T23:28:10.240863Z",
     "iopub.status.busy": "2024-03-21T23:28:10.240484Z",
     "iopub.status.idle": "2024-03-21T23:28:14.030913Z",
     "shell.execute_reply": "2024-03-21T23:28:14.029378Z"
    },
    "papermill": {
     "duration": 3.821406,
     "end_time": "2024-03-21T23:28:14.035376",
     "exception": false,
     "start_time": "2024-03-21T23:28:10.213970",
     "status": "completed"
    },
    "tags": []
   },
   "outputs": [
    {
     "name": "stderr",
     "output_type": "stream",
     "text": [
      "[Stage 1:>                                                          (0 + 4) / 4]\r"
     ]
    },
    {
     "name": "stdout",
     "output_type": "stream",
     "text": [
      "+-------+-----+\n",
      "|     ID|count|\n",
      "+-------+-----+\n",
      "|7742298|    2|\n",
      "|7174719|    2|\n",
      "|7091721|    2|\n",
      "|7089090|    2|\n",
      "|7022197|    2|\n",
      "+-------+-----+\n",
      "only showing top 5 rows\n",
      "\n"
     ]
    },
    {
     "name": "stderr",
     "output_type": "stream",
     "text": [
      "                                                                                \r"
     ]
    }
   ],
   "source": [
    "# Another issue unnoticed by the Data Engineers is that the database contains repeated Loan ID's.\n",
    "from pyspark.sql.functions import max as ps_max\n",
    "\n",
    "# Observe that there are Loans mentioned two times. It would be proper to disconsider them. \n",
    "data_duplicate_id = (df_clients\n",
    "                     .groupBy('ID')\n",
    "                     .count()\n",
    "                     .filter('`count`>1')\n",
    "                            )\n",
    "data_duplicate_id.show(5)"
   ]
  },
  {
   "cell_type": "code",
   "execution_count": 5,
   "id": "55107010",
   "metadata": {
    "execution": {
     "iopub.execute_input": "2024-03-21T23:28:14.156375Z",
     "iopub.status.busy": "2024-03-21T23:28:14.155995Z",
     "iopub.status.idle": "2024-03-21T23:28:16.415367Z",
     "shell.execute_reply": "2024-03-21T23:28:16.414256Z"
    },
    "papermill": {
     "duration": 2.28436,
     "end_time": "2024-03-21T23:28:16.417853",
     "exception": false,
     "start_time": "2024-03-21T23:28:14.133493",
     "status": "completed"
    },
    "tags": []
   },
   "outputs": [
    {
     "name": "stderr",
     "output_type": "stream",
     "text": [
      "[Stage 5:>                                                          (0 + 3) / 3]\r"
     ]
    },
    {
     "name": "stdout",
     "output_type": "stream",
     "text": [
      "+-------+-----------+------------+---------------+------------+----------------+----------------+--------------------+------------------+-----------------+----------+-------------+----------+---------------+----------+----------+---------------+---------------+\n",
      "|     ID|CODE_GENDER|FLAG_OWN_CAR|FLAG_OWN_REALTY|CNT_CHILDREN|AMT_INCOME_TOTAL|NAME_INCOME_TYPE| NAME_EDUCATION_TYPE|NAME_FAMILY_STATUS|NAME_HOUSING_TYPE|DAYS_BIRTH|DAYS_EMPLOYED|FLAG_MOBIL|FLAG_WORK_PHONE|FLAG_PHONE|FLAG_EMAIL|OCCUPATION_TYPE|CNT_FAM_MEMBERS|\n",
      "+-------+-----------+------------+---------------+------------+----------------+----------------+--------------------+------------------+-----------------+----------+-------------+----------+---------------+----------+----------+---------------+---------------+\n",
      "|7742298|          F|           N|              Y|           0|        144000.0|         Working|Secondary / secon...|             Widow|House / apartment|    -20626|        -1455|         1|              0|         0|         0|  Cooking staff|            1.0|\n",
      "|7742298|          M|           N|              N|           0|        112500.0|         Working|Secondary / secon...|           Married|House / apartment|    -18239|        -5428|         1|              1|         0|         0|           NULL|            2.0|\n",
      "+-------+-----------+------------+---------------+------------+----------------+----------------+--------------------+------------------+-----------------+----------+-------------+----------+---------------+----------+----------+---------------+---------------+\n",
      "\n"
     ]
    },
    {
     "name": "stderr",
     "output_type": "stream",
     "text": [
      "                                                                                \r"
     ]
    }
   ],
   "source": [
    "# If we take a peek on the first mentioned ID, we can notice that the presented loan actually is assigned to two different people!\n",
    "\n",
    "# Thus, the presence of such deals is potentially harmful for our model. It would be sensible to discard such ID's from the database.\n",
    "df_clients.filter('`ID`==7742298').show()"
   ]
  },
  {
   "cell_type": "code",
   "execution_count": 6,
   "id": "a472f976",
   "metadata": {
    "execution": {
     "iopub.execute_input": "2024-03-21T23:28:16.463903Z",
     "iopub.status.busy": "2024-03-21T23:28:16.463266Z",
     "iopub.status.idle": "2024-03-21T23:28:16.559927Z",
     "shell.execute_reply": "2024-03-21T23:28:16.558802Z"
    },
    "papermill": {
     "duration": 0.123618,
     "end_time": "2024-03-21T23:28:16.563870",
     "exception": false,
     "start_time": "2024-03-21T23:28:16.440252",
     "status": "completed"
    },
    "tags": []
   },
   "outputs": [],
   "source": [
    "# Dropping out the problematic loans.\n",
    "df_clients = data_duplicate_id.join(df_clients, how='right', on='ID').where('`count` IS NULL').drop('count')"
   ]
  },
  {
   "cell_type": "code",
   "execution_count": 7,
   "id": "7aad6c1e",
   "metadata": {
    "execution": {
     "iopub.execute_input": "2024-03-21T23:28:16.610952Z",
     "iopub.status.busy": "2024-03-21T23:28:16.610602Z",
     "iopub.status.idle": "2024-03-21T23:28:16.639169Z",
     "shell.execute_reply": "2024-03-21T23:28:16.638332Z"
    },
    "papermill": {
     "duration": 0.055442,
     "end_time": "2024-03-21T23:28:16.642856",
     "exception": false,
     "start_time": "2024-03-21T23:28:16.587414",
     "status": "completed"
    },
    "tags": []
   },
   "outputs": [
    {
     "data": {
      "text/plain": [
       "['CODE_GENDER',\n",
       " 'FLAG_OWN_CAR',\n",
       " 'FLAG_OWN_REALTY',\n",
       " 'CNT_CHILDREN',\n",
       " 'AMT_INCOME_TOTAL',\n",
       " 'NAME_INCOME_TYPE',\n",
       " 'NAME_EDUCATION_TYPE',\n",
       " 'NAME_FAMILY_STATUS',\n",
       " 'NAME_HOUSING_TYPE',\n",
       " 'DAYS_BIRTH',\n",
       " 'DAYS_EMPLOYED',\n",
       " 'FLAG_MOBIL',\n",
       " 'FLAG_WORK_PHONE',\n",
       " 'FLAG_PHONE',\n",
       " 'FLAG_EMAIL',\n",
       " 'OCCUPATION_TYPE',\n",
       " 'CNT_FAM_MEMBERS']"
      ]
     },
     "execution_count": 7,
     "metadata": {},
     "output_type": "execute_result"
    }
   ],
   "source": [
    "# Listing the `df_clients` features with the exception of ID.\n",
    "features_clients = df_clients.columns\n",
    "features_clients.remove('ID')\n",
    "features_clients"
   ]
  },
  {
   "cell_type": "code",
   "execution_count": 8,
   "id": "17b90821",
   "metadata": {
    "execution": {
     "iopub.execute_input": "2024-03-21T23:28:16.689357Z",
     "iopub.status.busy": "2024-03-21T23:28:16.688632Z",
     "iopub.status.idle": "2024-03-21T23:28:24.978458Z",
     "shell.execute_reply": "2024-03-21T23:28:24.976954Z"
    },
    "papermill": {
     "duration": 8.316114,
     "end_time": "2024-03-21T23:28:24.981212",
     "exception": false,
     "start_time": "2024-03-21T23:28:16.665098",
     "status": "completed"
    },
    "tags": []
   },
   "outputs": [
    {
     "name": "stderr",
     "output_type": "stream",
     "text": [
      "                                                                                \r"
     ]
    },
    {
     "name": "stdout",
     "output_type": "stream",
     "text": [
      "`df_clients` length: 438463\n"
     ]
    },
    {
     "name": "stderr",
     "output_type": "stream",
     "text": [
      "[Stage 15:=============================>                            (2 + 2) / 4]\r"
     ]
    },
    {
     "name": "stdout",
     "output_type": "stream",
     "text": [
      "Number of clients: 90084\n"
     ]
    },
    {
     "name": "stderr",
     "output_type": "stream",
     "text": [
      "                                                                                \r"
     ]
    }
   ],
   "source": [
    "# Now, getting back to the Client's ID issue, I'd like to present a brief analysis on it.\n",
    "# Note that the database's actual amount of clients is lower than its number of rows. \n",
    "data_clients = df_clients.dropDuplicates(features_clients) \n",
    "print(f'`df_clients` length: {df_clients.count()}')\n",
    "print(f'Number of clients: {data_clients.count()}')"
   ]
  },
  {
   "cell_type": "code",
   "execution_count": 9,
   "id": "dcd5a22e",
   "metadata": {
    "execution": {
     "iopub.execute_input": "2024-03-21T23:28:25.038072Z",
     "iopub.status.busy": "2024-03-21T23:28:25.037681Z",
     "iopub.status.idle": "2024-03-21T23:28:25.164482Z",
     "shell.execute_reply": "2024-03-21T23:28:25.163150Z"
    },
    "papermill": {
     "duration": 0.154278,
     "end_time": "2024-03-21T23:28:25.167755",
     "exception": false,
     "start_time": "2024-03-21T23:28:25.013477",
     "status": "completed"
    },
    "tags": []
   },
   "outputs": [],
   "source": [
    "# We'll assign an ID for every client mentioned in `df_clients`. \n",
    "from pyspark.sql.functions import cast, row_number\n",
    "from pyspark.sql.types import StringType\n",
    "from pyspark.sql.window import Window\n",
    "\n",
    "window = Window.orderBy(features_clients)\n",
    "row_window = row_number().over(window)\n",
    "\n",
    "# A DataFrame with the clients' data and actual ID.\n",
    "df_id_clients = data_clients.withColumn('ID_CLIENT', row_window.cast(StringType())).drop('ID')"
   ]
  },
  {
   "cell_type": "code",
   "execution_count": 10,
   "id": "0ef6d572",
   "metadata": {
    "execution": {
     "iopub.execute_input": "2024-03-21T23:28:25.216791Z",
     "iopub.status.busy": "2024-03-21T23:28:25.215524Z",
     "iopub.status.idle": "2024-03-21T23:28:36.065286Z",
     "shell.execute_reply": "2024-03-21T23:28:36.064126Z"
    },
    "papermill": {
     "duration": 10.877664,
     "end_time": "2024-03-21T23:28:36.068725",
     "exception": false,
     "start_time": "2024-03-21T23:28:25.191061",
     "status": "completed"
    },
    "tags": []
   },
   "outputs": [
    {
     "name": "stderr",
     "output_type": "stream",
     "text": [
      "[Stage 35:>                                                         (0 + 1) / 1]\r"
     ]
    },
    {
     "name": "stdout",
     "output_type": "stream",
     "text": [
      "+-------+-----------+------------+---------------+------------+----------------+----------------+--------------------+------------------+-----------------+----------+-------------+----------+---------------+----------+----------+---------------+---------------+---------+\n",
      "|     ID|CODE_GENDER|FLAG_OWN_CAR|FLAG_OWN_REALTY|CNT_CHILDREN|AMT_INCOME_TOTAL|NAME_INCOME_TYPE| NAME_EDUCATION_TYPE|NAME_FAMILY_STATUS|NAME_HOUSING_TYPE|DAYS_BIRTH|DAYS_EMPLOYED|FLAG_MOBIL|FLAG_WORK_PHONE|FLAG_PHONE|FLAG_EMAIL|OCCUPATION_TYPE|CNT_FAM_MEMBERS|ID_CLIENT|\n",
      "+-------+-----------+------------+---------------+------------+----------------+----------------+--------------------+------------------+-----------------+----------+-------------+----------+---------------+----------+----------+---------------+---------------+---------+\n",
      "|5996382|          F|           N|              N|           0|         28800.0|       Pensioner|Secondary / secon...|           Married|House / apartment|    -20298|       365243|         1|              0|         1|         0|           NULL|            2.0|        7|\n",
      "|5996383|          F|           N|              N|           0|         28800.0|       Pensioner|Secondary / secon...|           Married|House / apartment|    -20298|       365243|         1|              0|         1|         0|           NULL|            2.0|        7|\n",
      "|5996384|          F|           N|              N|           0|         28800.0|       Pensioner|Secondary / secon...|           Married|House / apartment|    -20298|       365243|         1|              0|         1|         0|           NULL|            2.0|        7|\n",
      "|6499066|          F|           N|              N|           0|         29133.0|       Pensioner|Secondary / secon...|           Married|House / apartment|    -20945|       365243|         1|              0|         1|         0|           NULL|            2.0|        8|\n",
      "|6499067|          F|           N|              N|           0|         29133.0|       Pensioner|Secondary / secon...|           Married|House / apartment|    -20945|       365243|         1|              0|         1|         0|           NULL|            2.0|        8|\n",
      "+-------+-----------+------------+---------------+------------+----------------+----------------+--------------------+------------------+-----------------+----------+-------------+----------+---------------+----------+----------+---------------+---------------+---------+\n",
      "only showing top 5 rows\n",
      "\n"
     ]
    },
    {
     "name": "stderr",
     "output_type": "stream",
     "text": [
      "                                                                                \r"
     ]
    }
   ],
   "source": [
    "# We'll need to perform Null Safe JOIN's, since columns such as 'OCCUPATION_TYPE' contain null values.\n",
    "from functools import reduce\n",
    "\n",
    "# Creating the multiple null safe JOIN's condition.\n",
    "condition_id_client = reduce(lambda x,y: x&y, [df_clients[col].eqNullSafe(df_id_clients[col]) for col in features_clients])\n",
    "columns_join_id = ['df_clients.*', 'df_id_clients.ID_CLIENT'] # Listing the JOIN columns.\n",
    "\n",
    "# Consolidating the final clients database.\n",
    "df_clients = (df_clients.alias('df_clients') # Resorting to aliases for both DataFrames present columns with same names.\n",
    "                 .join(df_id_clients.alias('df_id_clients'), condition_id_client)\n",
    "                 .select(columns_join_id))\n",
    "df_clients.show(5)"
   ]
  },
  {
   "cell_type": "markdown",
   "id": "efc9ba5c",
   "metadata": {
    "execution": {
     "iopub.execute_input": "2023-08-15T16:05:33.192895Z",
     "iopub.status.busy": "2023-08-15T16:05:33.192467Z",
     "iopub.status.idle": "2023-08-15T16:05:34.343874Z",
     "shell.execute_reply": "2023-08-15T16:05:34.342739Z",
     "shell.execute_reply.started": "2023-08-15T16:05:33.192858Z"
    },
    "papermill": {
     "duration": 0.033207,
     "end_time": "2024-03-21T23:28:36.140534",
     "exception": false,
     "start_time": "2024-03-21T23:28:36.107327",
     "status": "completed"
    },
    "tags": []
   },
   "source": [
    "<h3 style='font-size:30px;font-style:italic'> Loans Database</h3>\n",
    "<div> \n",
    "    <ul style='font-size:20px'> \n",
    "        <li> \n",
    "            This table contains the payments records for every loan since its contraction. \n",
    "        </li>\n",
    "        <li> \n",
    "            But in order to the dataset be adequate to our project's intent, two transformations are necessary: first, we need to bring the `ID_CLIENT`\n",
    "            column to it and after that, group the database so that it denounces individuals who've produced an NPL at least once.            \n",
    "        </li>\n",
    "    </ul>\n",
    "</div>"
   ]
  },
  {
   "cell_type": "code",
   "execution_count": 11,
   "id": "1b25aded",
   "metadata": {
    "execution": {
     "iopub.execute_input": "2024-03-21T23:28:36.190060Z",
     "iopub.status.busy": "2024-03-21T23:28:36.189683Z",
     "iopub.status.idle": "2024-03-21T23:28:36.381352Z",
     "shell.execute_reply": "2024-03-21T23:28:36.380490Z"
    },
    "papermill": {
     "duration": 0.219833,
     "end_time": "2024-03-21T23:28:36.383853",
     "exception": false,
     "start_time": "2024-03-21T23:28:36.164020",
     "status": "completed"
    },
    "tags": []
   },
   "outputs": [
    {
     "name": "stdout",
     "output_type": "stream",
     "text": [
      "+-------+--------------+------+\n",
      "|     ID|MONTHS_BALANCE|STATUS|\n",
      "+-------+--------------+------+\n",
      "|5001711|             0|     X|\n",
      "|5001711|            -1|     0|\n",
      "|5001711|            -2|     0|\n",
      "|5001711|            -3|     0|\n",
      "|5001712|             0|     C|\n",
      "+-------+--------------+------+\n",
      "only showing top 5 rows\n",
      "\n"
     ]
    }
   ],
   "source": [
    "# Bringing the dataset into our notebook.\n",
    "path_loans = '/kaggle/input/credit-card-approval-prediction/credit_record.csv'\n",
    "schema_loans = '`ID` STRING, `MONTHS_BALANCE` INT, `STATUS` STRING'\n",
    "df_loans = spark.read.csv(path_loans, header=True, schema=schema_loans)\n",
    "df_loans.show(5) "
   ]
  },
  {
   "cell_type": "code",
   "execution_count": 12,
   "id": "41a80398",
   "metadata": {
    "execution": {
     "iopub.execute_input": "2024-03-21T23:28:36.434004Z",
     "iopub.status.busy": "2024-03-21T23:28:36.433106Z",
     "iopub.status.idle": "2024-03-21T23:28:49.472737Z",
     "shell.execute_reply": "2024-03-21T23:28:49.471629Z"
    },
    "papermill": {
     "duration": 13.069273,
     "end_time": "2024-03-21T23:28:49.476924",
     "exception": false,
     "start_time": "2024-03-21T23:28:36.407651",
     "status": "completed"
    },
    "tags": []
   },
   "outputs": [
    {
     "name": "stderr",
     "output_type": "stream",
     "text": [
      "[Stage 52:>                                                         (0 + 4) / 4]\r"
     ]
    },
    {
     "name": "stdout",
     "output_type": "stream",
     "text": [
      "+---------+-------+--------------+------+\n",
      "|ID_CLIENT|     ID|MONTHS_BALANCE|STATUS|\n",
      "+---------+-------+--------------+------+\n",
      "|    34269|5008810|             0|     C|\n",
      "|    34269|5008810|            -1|     C|\n",
      "|    34269|5008810|            -2|     C|\n",
      "|    34269|5008810|            -3|     C|\n",
      "|    34269|5008810|            -4|     C|\n",
      "+---------+-------+--------------+------+\n",
      "only showing top 5 rows\n",
      "\n"
     ]
    },
    {
     "name": "stderr",
     "output_type": "stream",
     "text": [
      "                                                                                \r"
     ]
    }
   ],
   "source": [
    "# Now, providing the loans' client ID.\n",
    "df_loans = df_loans.join(df_clients, ['ID']).select(['ID_CLIENT', 'ID', 'MONTHS_BALANCE', 'STATUS'])\n",
    "df_loans.show(5)"
   ]
  },
  {
   "cell_type": "markdown",
   "id": "72b3ab36",
   "metadata": {
    "papermill": {
     "duration": 0.037593,
     "end_time": "2024-03-21T23:28:49.552827",
     "exception": false,
     "start_time": "2024-03-21T23:28:49.515234",
     "status": "completed"
    },
    "tags": []
   },
   "source": [
    "<h4 style='font-size:30px;font-style:italic;text-decoration:underline'> Conceiving the Target Variable</h4>\n",
    "<div> \n",
    "    <ul style='font-size:20px'> \n",
    "        <li> \n",
    "            The `STATUS` column presents a handful of codes that represent distinct status for a loan's payment. Their definition is as follows:\n",
    "            <table style='font-size:15px;margin-top:20px'> \n",
    "                <tr>\n",
    "                    <th> Code</th>\n",
    "                    <th> Definition</th>\n",
    "                </tr>\n",
    "                <tr> \n",
    "                    <td> C</td>\n",
    "                    <td> Paid off that month</td>\n",
    "                </tr>\n",
    "                <tr> \n",
    "                    <td> 0</td>\n",
    "                    <td> 1-29 days past due</td>\n",
    "                </tr>\n",
    "                <tr> \n",
    "                    <td> 1</td>\n",
    "                    <td> 30-59 days past due </td>\n",
    "                </tr>\n",
    "                <tr> \n",
    "                    <td> 2</td>\n",
    "                    <td> 60-89 days past due </td>\n",
    "                </tr>\n",
    "                <tr> \n",
    "                    <td> 3</td>\n",
    "                    <td> 90-119 days past due </td>\n",
    "                </tr>\n",
    "                <tr> \n",
    "                    <td> 4</td>\n",
    "                    <td> 120-149 days past due </td>\n",
    "                </tr>\n",
    "                <tr> \n",
    "                    <td> 5</td>\n",
    "                    <td> Overdue or bad debts,<p> write-offs for more than 150 days</p> </td>\n",
    "                </tr>\n",
    "                <tr> \n",
    "                    <td> X</td>\n",
    "                    <td> No loan for the month</td>\n",
    "                </tr>\n",
    "            </table>\n",
    "        </li>\n",
    "        <li style='margin-top:20px'> \n",
    "            Observe that in our case only the 3, 4 and 5 codes are of our interest. Thus it would be convenient to create a binary flag that denounces whether \n",
    "            the individual has ever caused an NPL.\n",
    "        </li>\n",
    "    </ul>\n",
    "</div>"
   ]
  },
  {
   "cell_type": "code",
   "execution_count": 13,
   "id": "4865a8fd",
   "metadata": {
    "execution": {
     "iopub.execute_input": "2024-03-21T23:28:49.670769Z",
     "iopub.status.busy": "2024-03-21T23:28:49.670270Z",
     "iopub.status.idle": "2024-03-21T23:28:50.735380Z",
     "shell.execute_reply": "2024-03-21T23:28:50.734022Z"
    },
    "papermill": {
     "duration": 1.147733,
     "end_time": "2024-03-21T23:28:50.738946",
     "exception": false,
     "start_time": "2024-03-21T23:28:49.591213",
     "status": "completed"
    },
    "tags": []
   },
   "outputs": [],
   "source": [
    "# The dependent variable's conception needs a custom GroupBy that PySpark is unable to perform by itself. Hence, we \n",
    "# are going to resort to pandas in this section.\n",
    "import pandas as pd\n",
    "\n",
    "# Defining the GroupBy's schema.\n",
    "schema_flag_npl = '`ID_CLIENT` STRING, `NPL` STRING'\n",
    "\n",
    "# This lambda expression signs whether a client has ever produced an NPL in the past.\n",
    "lambda_npl = lambda x: '1' if x.STATUS.isin(['3', '4', '5']).any() else '0'\n",
    "\n",
    "def has_npl(df:pd.DataFrame)->pd.DataFrame:\n",
    "    '''\n",
    "        Verifies if a client's  records contain any sort of Non-Performing Loan.\n",
    "        \n",
    "        Parameter\n",
    "        ---------\n",
    "        `df`: pd.DataFrame \n",
    "            The loan records of a certain client.\n",
    "        \n",
    "        Returns\n",
    "        -------\n",
    "        A `pd.DataFrame` with the client's ID and a flag indicating NPL existence in their loan history. \n",
    "    '''\n",
    "    output = df.groupby(['ID_CLIENT']).apply(lambda_npl) # `lambda_npl` takes care of the flags creation.\n",
    "    output.name = 'NPL' # Setting the flag column's name.\n",
    "    return output.reset_index()\n",
    "\n",
    "# Finally, generating our target-variable.\n",
    "target = df_loans.groupBy('ID_CLIENT').applyInPandas(has_npl, schema_flag_npl)"
   ]
  },
  {
   "cell_type": "markdown",
   "id": "84e08966",
   "metadata": {
    "papermill": {
     "duration": 0.040957,
     "end_time": "2024-03-21T23:28:50.820110",
     "exception": false,
     "start_time": "2024-03-21T23:28:50.779153",
     "status": "completed"
    },
    "tags": []
   },
   "source": [
    "<h2 style='font-size:30px'> Consolidating the Data</h2>\n",
    "<div> \n",
    "    <ul style='font-size:20px'> \n",
    "        <li> \n",
    "            With both datasets properly treated, we are able to JOIN them in a single table.\n",
    "        </li>\n",
    "    </ul>\n",
    "</div>"
   ]
  },
  {
   "cell_type": "code",
   "execution_count": 14,
   "id": "1412e576",
   "metadata": {
    "execution": {
     "iopub.execute_input": "2024-03-21T23:28:50.881702Z",
     "iopub.status.busy": "2024-03-21T23:28:50.880451Z",
     "iopub.status.idle": "2024-03-21T23:28:50.938187Z",
     "shell.execute_reply": "2024-03-21T23:28:50.936961Z"
    },
    "papermill": {
     "duration": 0.086301,
     "end_time": "2024-03-21T23:28:50.940676",
     "exception": false,
     "start_time": "2024-03-21T23:28:50.854375",
     "status": "completed"
    },
    "tags": []
   },
   "outputs": [],
   "source": [
    "# Finally, enriching the clients information with the NPL flag.\n",
    "df = df_id_clients.join(target, how='inner', on='ID_CLIENT')"
   ]
  },
  {
   "cell_type": "code",
   "execution_count": 15,
   "id": "66318074",
   "metadata": {
    "execution": {
     "iopub.execute_input": "2024-03-21T23:28:50.992056Z",
     "iopub.status.busy": "2024-03-21T23:28:50.991670Z",
     "iopub.status.idle": "2024-03-21T23:28:50.996152Z",
     "shell.execute_reply": "2024-03-21T23:28:50.995108Z"
    },
    "papermill": {
     "duration": 0.032725,
     "end_time": "2024-03-21T23:28:50.998235",
     "exception": false,
     "start_time": "2024-03-21T23:28:50.965510",
     "status": "completed"
    },
    "tags": []
   },
   "outputs": [],
   "source": [
    "#df.write.parquet('/kaggle/input/df-parquet', mode='overwrite')"
   ]
  },
  {
   "cell_type": "markdown",
   "id": "59ff67c8",
   "metadata": {
    "papermill": {
     "duration": 0.024472,
     "end_time": "2024-03-21T23:28:51.047101",
     "exception": false,
     "start_time": "2024-03-21T23:28:51.022629",
     "status": "completed"
    },
    "tags": []
   },
   "source": [
    "<h2 style='font-size:30px'> Dataset Splitting</h2>\n",
    "<div> \n",
    "    <ul style='font-size:20px'> \n",
    "        <li> \n",
    "            With the dataset properly treated, we are able to begin our EDA and model creation. But firstly we have to separate the data in \n",
    "            the training and test tables.\n",
    "        </li>\n",
    "    </ul>\n",
    "</div>"
   ]
  },
  {
   "cell_type": "code",
   "execution_count": 16,
   "id": "d270da24",
   "metadata": {
    "execution": {
     "iopub.execute_input": "2024-03-21T23:28:51.099273Z",
     "iopub.status.busy": "2024-03-21T23:28:51.098862Z",
     "iopub.status.idle": "2024-03-21T23:29:51.128350Z",
     "shell.execute_reply": "2024-03-21T23:29:51.127196Z"
    },
    "papermill": {
     "duration": 60.060068,
     "end_time": "2024-03-21T23:29:51.131769",
     "exception": false,
     "start_time": "2024-03-21T23:28:51.071701",
     "status": "completed"
    },
    "tags": []
   },
   "outputs": [
    {
     "name": "stderr",
     "output_type": "stream",
     "text": [
      "[Stage 132:==========================================>              (3 + 1) / 4]\r"
     ]
    },
    {
     "name": "stdout",
     "output_type": "stream",
     "text": [
      "+---+-----+-------------------+\n",
      "|NPL|count|         proportion|\n",
      "+---+-----+-------------------+\n",
      "|  0| 9509| 0.9774876644736842|\n",
      "|  1|  219|0.02251233552631579|\n",
      "+---+-----+-------------------+\n",
      "\n"
     ]
    },
    {
     "name": "stderr",
     "output_type": "stream",
     "text": [
      "                                                                                \r"
     ]
    }
   ],
   "source": [
    "# As we can see, we are dealing with an unbalanced dataset case. Thus it is interesting to maintain the target value proportions\n",
    "# in both training and test sets.\n",
    "from pyspark.sql.functions import col\n",
    "\n",
    "df.groupBy('NPL').count().withColumn('proportion', col('count')/df.count()).show()"
   ]
  },
  {
   "cell_type": "code",
   "execution_count": 17,
   "id": "843e2671",
   "metadata": {
    "execution": {
     "iopub.execute_input": "2024-03-21T23:29:51.219272Z",
     "iopub.status.busy": "2024-03-21T23:29:51.218796Z",
     "iopub.status.idle": "2024-03-21T23:29:51.611775Z",
     "shell.execute_reply": "2024-03-21T23:29:51.610586Z"
    },
    "papermill": {
     "duration": 0.439644,
     "end_time": "2024-03-21T23:29:51.614783",
     "exception": false,
     "start_time": "2024-03-21T23:29:51.175139",
     "status": "completed"
    },
    "tags": []
   },
   "outputs": [],
   "source": [
    "# Creating the training and test sets.\n",
    "train = df.sampleBy('NPL', fractions={'0':.75, '1':.75}, seed=42)\n",
    "test = df.subtract(train)"
   ]
  },
  {
   "cell_type": "code",
   "execution_count": 18,
   "id": "362201df",
   "metadata": {
    "execution": {
     "iopub.execute_input": "2024-03-21T23:29:51.685004Z",
     "iopub.status.busy": "2024-03-21T23:29:51.684639Z",
     "iopub.status.idle": "2024-03-21T23:31:37.008965Z",
     "shell.execute_reply": "2024-03-21T23:31:37.007804Z"
    },
    "papermill": {
     "duration": 105.357205,
     "end_time": "2024-03-21T23:31:37.012485",
     "exception": false,
     "start_time": "2024-03-21T23:29:51.655280",
     "status": "completed"
    },
    "tags": []
   },
   "outputs": [
    {
     "name": "stdout",
     "output_type": "stream",
     "text": [
      "*** TRAIN ***\n"
     ]
    },
    {
     "name": "stderr",
     "output_type": "stream",
     "text": [
      "                                                                                \r"
     ]
    },
    {
     "name": "stdout",
     "output_type": "stream",
     "text": [
      "+---+-----+--------------------+\n",
      "|NPL|count|          proportion|\n",
      "+---+-----+--------------------+\n",
      "|  0| 7205|  0.9785413554257776|\n",
      "|  1|  158|0.021458644574222464|\n",
      "+---+-----+--------------------+\n",
      "\n",
      "*** TEST ***\n"
     ]
    },
    {
     "name": "stderr",
     "output_type": "stream",
     "text": [
      "                                                                                \r"
     ]
    },
    {
     "name": "stdout",
     "output_type": "stream",
     "text": [
      "+---+-----+--------------------+\n",
      "|NPL|count|          proportion|\n",
      "+---+-----+--------------------+\n",
      "|  0| 2308|  0.9800424628450106|\n",
      "|  1|   47|0.019957537154989383|\n",
      "+---+-----+--------------------+\n",
      "\n"
     ]
    }
   ],
   "source": [
    "# Since the class proportions are relatively proximate, we are able to use them in our project.\n",
    "print('*** TRAIN ***')\n",
    "train.groupBy('NPL').count().withColumn('proportion', col('count')/train.count()).show()\n",
    "print('*** TEST ***')\n",
    "test.groupBy('NPL').count().withColumn('proportion', col('count')/test.count()).show()"
   ]
  },
  {
   "cell_type": "code",
   "execution_count": 19,
   "id": "560f9bf0",
   "metadata": {
    "execution": {
     "iopub.execute_input": "2024-03-21T23:31:37.095831Z",
     "iopub.status.busy": "2024-03-21T23:31:37.095371Z",
     "iopub.status.idle": "2024-03-21T23:32:35.942269Z",
     "shell.execute_reply": "2024-03-21T23:32:35.940663Z"
    },
    "papermill": {
     "duration": 58.884946,
     "end_time": "2024-03-21T23:32:35.945661",
     "exception": false,
     "start_time": "2024-03-21T23:31:37.060715",
     "status": "completed"
    },
    "tags": []
   },
   "outputs": [
    {
     "name": "stderr",
     "output_type": "stream",
     "text": [
      "                                                                                \r"
     ]
    }
   ],
   "source": [
    "# Saving the datasets in distinct .parquet files.\n",
    "train.write.parquet('/kaggle/working/train.parquet', mode='overwrite')\n",
    "test.write.parquet('/kaggle/working/test.parquet', mode='overwrite')"
   ]
  },
  {
   "cell_type": "markdown",
   "id": "4ee430d8",
   "metadata": {
    "execution": {
     "iopub.execute_input": "2023-08-15T16:05:33.192895Z",
     "iopub.status.busy": "2023-08-15T16:05:33.192467Z",
     "iopub.status.idle": "2023-08-15T16:05:34.343874Z",
     "shell.execute_reply": "2023-08-15T16:05:34.342739Z",
     "shell.execute_reply.started": "2023-08-15T16:05:33.192858Z"
    },
    "papermill": {
     "duration": 0.047195,
     "end_time": "2024-03-21T23:32:36.048223",
     "exception": false,
     "start_time": "2024-03-21T23:32:36.001028",
     "status": "completed"
    },
    "tags": []
   },
   "source": [
    "<h3 style='font-size:30px;font-style:italic'> Defining the Models' Metric</h3>\n",
    "<div> \n",
    "    <ul style='font-size:20px'> \n",
    "        <li> \n",
    "            Providing False Negatives would clearly be more harmful for the bank's equity than False Positives.         \n",
    "        </li>\n",
    "        <li> \n",
    "            Following conversations with the credit analysts, we've ended up defining the case's official metric\n",
    "            as an f-score with $\\beta=4$. So, we are giving to Recall an importance 4x higher than the Precision's.\n",
    "        </li>\n",
    "    </ul>\n",
    "</div>"
   ]
  },
  {
   "cell_type": "markdown",
   "id": "d3594658",
   "metadata": {
    "papermill": {
     "duration": 0.033527,
     "end_time": "2024-03-21T23:32:36.115243",
     "exception": false,
     "start_time": "2024-03-21T23:32:36.081716",
     "status": "completed"
    },
    "tags": []
   },
   "source": [
    "<h2 style='font-size:30px'> Exploratory Data Analysis</h2>\n",
    "<div> \n",
    "    <ul style='font-size:20px'> \n",
    "        <li> \n",
    "            With the data properly segregated, let's briefly analyze its content and see whether we can spot differences \n",
    "            among the classes. \n",
    "        </li>\n",
    "    </ul>\n",
    "</div>"
   ]
  },
  {
   "cell_type": "code",
   "execution_count": 20,
   "id": "8d624625",
   "metadata": {
    "execution": {
     "iopub.execute_input": "2024-03-21T23:32:36.185120Z",
     "iopub.status.busy": "2024-03-21T23:32:36.184703Z",
     "iopub.status.idle": "2024-03-21T23:32:47.409335Z",
     "shell.execute_reply": "2024-03-21T23:32:47.407566Z"
    },
    "papermill": {
     "duration": 11.262432,
     "end_time": "2024-03-21T23:32:47.411800",
     "exception": false,
     "start_time": "2024-03-21T23:32:36.149368",
     "status": "completed"
    },
    "tags": []
   },
   "outputs": [
    {
     "name": "stdout",
     "output_type": "stream",
     "text": [
      "Requirement already satisfied: pyspark in /opt/conda/lib/python3.10/site-packages (3.5.1)\r\n",
      "Requirement already satisfied: py4j==0.10.9.7 in /opt/conda/lib/python3.10/site-packages (from pyspark) (0.10.9.7)\r\n",
      "Note: you may need to restart the kernel to use updated packages.\n"
     ]
    }
   ],
   "source": [
    "pip install pyspark"
   ]
  },
  {
   "cell_type": "code",
   "execution_count": 21,
   "id": "682c776d",
   "metadata": {
    "execution": {
     "iopub.execute_input": "2024-03-21T23:32:47.482467Z",
     "iopub.status.busy": "2024-03-21T23:32:47.481656Z",
     "iopub.status.idle": "2024-03-21T23:32:47.496038Z",
     "shell.execute_reply": "2024-03-21T23:32:47.495133Z"
    },
    "papermill": {
     "duration": 0.051717,
     "end_time": "2024-03-21T23:32:47.498238",
     "exception": false,
     "start_time": "2024-03-21T23:32:47.446521",
     "status": "completed"
    },
    "tags": []
   },
   "outputs": [
    {
     "data": {
      "text/html": [
       "<style>pre { white-space: pre !important; }</style>"
      ],
      "text/plain": [
       "<IPython.core.display.HTML object>"
      ]
     },
     "metadata": {},
     "output_type": "display_data"
    }
   ],
   "source": [
    "from pyspark import SparkContext\n",
    "from pyspark.sql import SparkSession\n",
    "from IPython.core.display import HTML\n",
    "\n",
    "# Creating the project's SparkSession.\n",
    "spark = SparkSession.builder.appName('NPL').getOrCreate()\n",
    "\n",
    "# Also, modifying the session's log level.\n",
    "log_level = spark.sparkContext.setLogLevel('ERROR')\n",
    "\n",
    "# This tiny config enables us to scroll along the DataFrame's columns.\n",
    "display(HTML(\"<style>pre { white-space: pre !important; }</style>\"))"
   ]
  },
  {
   "cell_type": "code",
   "execution_count": 22,
   "id": "d967fdaf",
   "metadata": {
    "execution": {
     "iopub.execute_input": "2024-03-21T23:32:47.569319Z",
     "iopub.status.busy": "2024-03-21T23:32:47.568932Z",
     "iopub.status.idle": "2024-03-21T23:32:48.000275Z",
     "shell.execute_reply": "2024-03-21T23:32:47.998757Z"
    },
    "papermill": {
     "duration": 0.470227,
     "end_time": "2024-03-21T23:32:48.003441",
     "exception": false,
     "start_time": "2024-03-21T23:32:47.533214",
     "status": "completed"
    },
    "tags": []
   },
   "outputs": [
    {
     "name": "stdout",
     "output_type": "stream",
     "text": [
      "+---------+-----------+------------+---------------+------------+----------------+----------------+--------------------+------------------+-----------------+----------+-------------+----------+---------------+----------+----------+---------------+---------------+---+\n",
      "|ID_CLIENT|CODE_GENDER|FLAG_OWN_CAR|FLAG_OWN_REALTY|CNT_CHILDREN|AMT_INCOME_TOTAL|NAME_INCOME_TYPE| NAME_EDUCATION_TYPE|NAME_FAMILY_STATUS|NAME_HOUSING_TYPE|DAYS_BIRTH|DAYS_EMPLOYED|FLAG_MOBIL|FLAG_WORK_PHONE|FLAG_PHONE|FLAG_EMAIL|OCCUPATION_TYPE|CNT_FAM_MEMBERS|NPL|\n",
      "+---------+-----------+------------+---------------+------------+----------------+----------------+--------------------+------------------+-----------------+----------+-------------+----------+---------------+----------+----------+---------------+---------------+---+\n",
      "|      691|          F|           N|              N|           0|         67500.0|         Working|Secondary / secon...|           Married|House / apartment|    -20075|        -7013|         1|              1|         1|         0|    Sales staff|            2.0|  0|\n",
      "|     3606|          F|           N|              N|           0|        112500.0|         Working|Secondary / secon...|           Married|House / apartment|     -9865|         -196|         1|              1|         0|         0|       Laborers|            2.0|  0|\n",
      "|     4821|          F|           N|              N|           0|        135000.0|   State servant|    Higher education|           Married|House / apartment|    -12490|        -1191|         1|              1|         1|         0|     Core staff|            2.0|  0|\n",
      "|     5925|          F|           N|              N|           0|        157500.0|       Pensioner|Secondary / secon...|           Married|House / apartment|    -22828|       365243|         1|              0|         0|         0|           NULL|            2.0|  0|\n",
      "|     6194|          F|           N|              N|           0|        157500.0|         Working|   Incomplete higher|           Married|House / apartment|    -16888|        -2687|         1|              0|         0|         0|     Core staff|            2.0|  0|\n",
      "+---------+-----------+------------+---------------+------------+----------------+----------------+--------------------+------------------+-----------------+----------+-------------+----------+---------------+----------+----------+---------------+---------------+---+\n",
      "only showing top 5 rows\n",
      "\n"
     ]
    }
   ],
   "source": [
    "train = spark.read.parquet('/kaggle/input/npl-train/train.parquet/')\n",
    "train.show(5)"
   ]
  },
  {
   "cell_type": "markdown",
   "id": "73d539e8",
   "metadata": {
    "execution": {
     "iopub.execute_input": "2023-08-15T16:05:33.192895Z",
     "iopub.status.busy": "2023-08-15T16:05:33.192467Z",
     "iopub.status.idle": "2023-08-15T16:05:34.343874Z",
     "shell.execute_reply": "2023-08-15T16:05:34.342739Z",
     "shell.execute_reply.started": "2023-08-15T16:05:33.192858Z"
    },
    "papermill": {
     "duration": 0.033787,
     "end_time": "2024-03-21T23:32:48.089473",
     "exception": false,
     "start_time": "2024-03-21T23:32:48.055686",
     "status": "completed"
    },
    "tags": []
   },
   "source": [
    "<h3 style='font-size:30px;font-style:italic'> Assessing the Classes' Incomes</h3>\n",
    "<div> \n",
    "    <ul style='font-size:20px'> \n",
    "        <li> \n",
    "            Let's analyze whether there is any revenue difference between individuals who produced an NPL and those who didn't. \n",
    "        </li>\n",
    "        <li> \n",
    "            Since we are dealing with an continuous outcome from two independent samples, I'll use the z-score formula below to examine the \n",
    "            income differences:\n",
    "            <center style='margin-top:20px'> \n",
    "                    $z=\\frac{\\overline{X}_{1}-\\overline{X}_{2}}{S_{p}\\sqrt{\\frac{1}{n_{1}}+\\frac{1}{n_{2}}}}$ | $S_{p}=\\sqrt{\\frac{(n_{1}-1)s_{1}^{2}+(n_{2}-1)s_{2}^{2}}{n_{1}+n_{2}-2}}$\n",
    "           </center>\n",
    "        </li>\n",
    "    </ul>\n",
    "</div>"
   ]
  },
  {
   "cell_type": "code",
   "execution_count": 23,
   "id": "28fd45f1",
   "metadata": {
    "execution": {
     "iopub.execute_input": "2024-03-21T23:32:48.159589Z",
     "iopub.status.busy": "2024-03-21T23:32:48.159195Z",
     "iopub.status.idle": "2024-03-21T23:32:48.508220Z",
     "shell.execute_reply": "2024-03-21T23:32:48.507069Z"
    },
    "papermill": {
     "duration": 0.387446,
     "end_time": "2024-03-21T23:32:48.510926",
     "exception": false,
     "start_time": "2024-03-21T23:32:48.123480",
     "status": "completed"
    },
    "tags": []
   },
   "outputs": [
    {
     "name": "stdout",
     "output_type": "stream",
     "text": [
      "+---+------------------------+\n",
      "|NPL|stddev(AMT_INCOME_TOTAL)|\n",
      "+---+------------------------+\n",
      "|  0|        99647.7510722535|\n",
      "|  1|       96639.80531139452|\n",
      "+---+------------------------+\n",
      "\n"
     ]
    }
   ],
   "source": [
    "# The formula above is only valid for samples with similar std's (0.5<s1/s2<2). So we ought to firstly guarantee that the incomes' std's\n",
    "# are in accordance to that rule.\n",
    "df_income_std = train.groupBy('NPL').agg({'AMT_INCOME_TOTAL':'std'})\n",
    "df_income_std.show()"
   ]
  },
  {
   "cell_type": "code",
   "execution_count": 24,
   "id": "35b9281c",
   "metadata": {
    "execution": {
     "iopub.execute_input": "2024-03-21T23:32:48.600541Z",
     "iopub.status.busy": "2024-03-21T23:32:48.599928Z",
     "iopub.status.idle": "2024-03-21T23:32:48.906048Z",
     "shell.execute_reply": "2024-03-21T23:32:48.904070Z"
    },
    "papermill": {
     "duration": 0.345163,
     "end_time": "2024-03-21T23:32:48.909186",
     "exception": false,
     "start_time": "2024-03-21T23:32:48.564023",
     "status": "completed"
    },
    "tags": []
   },
   "outputs": [
    {
     "data": {
      "text/plain": [
       "1.0311253292695148"
      ]
     },
     "execution_count": 24,
     "metadata": {},
     "output_type": "execute_result"
    }
   ],
   "source": [
    "# Because the std ratio is in the desired interval, we can proceed in using the formula.\n",
    "list_std = [row['stddev(AMT_INCOME_TOTAL)'] for row in df_income_std.collect()]\n",
    "list_std[0] / list_std[1]"
   ]
  },
  {
   "cell_type": "code",
   "execution_count": 25,
   "id": "45cae6e0",
   "metadata": {
    "execution": {
     "iopub.execute_input": "2024-03-21T23:32:49.022722Z",
     "iopub.status.busy": "2024-03-21T23:32:49.022179Z",
     "iopub.status.idle": "2024-03-21T23:32:50.580063Z",
     "shell.execute_reply": "2024-03-21T23:32:50.578960Z"
    },
    "papermill": {
     "duration": 1.619331,
     "end_time": "2024-03-21T23:32:50.583301",
     "exception": false,
     "start_time": "2024-03-21T23:32:48.963970",
     "status": "completed"
    },
    "tags": []
   },
   "outputs": [
    {
     "data": {
      "text/plain": [
       "0.7972574858186637"
      ]
     },
     "execution_count": 25,
     "metadata": {},
     "output_type": "execute_result"
    }
   ],
   "source": [
    "# By setting our alpha=.05, we can see that there is no statistical evidence that people with no NPL receive higher incomes\n",
    "# than the other group.\n",
    "from statsmodels.stats.weightstats import ztest\n",
    "\n",
    "zeros = [row['AMT_INCOME_TOTAL'] for row in train.select('AMT_INCOME_TOTAL').where('NPL==0').collect()]\n",
    "ones = [row['AMT_INCOME_TOTAL'] for row in train.select('AMT_INCOME_TOTAL').where('NPL==1').collect()]\n",
    "\n",
    "ztest(zeros, ones, alternative='larger')[1] # Computing our p-value."
   ]
  },
  {
   "cell_type": "markdown",
   "id": "067c9a7c",
   "metadata": {
    "papermill": {
     "duration": 0.05419,
     "end_time": "2024-03-21T23:32:50.691087",
     "exception": false,
     "start_time": "2024-03-21T23:32:50.636897",
     "status": "completed"
    },
    "tags": []
   },
   "source": [
    "<h3 style='font-size:30px;font-style:italic'> Valuable Assets Analysis</h3>\n",
    "<div> \n",
    "    <ul style='font-size:20px'> \n",
    "        <li> \n",
    "            The dataset contains columns representing whether the client possesses real state or a vehicle.\n",
    "        </li>\n",
    "        <li> \n",
    "            We can verify if people that own such properties have lower chance of producing an NPL, because they could sell them if they don't have enough \n",
    "            cash to pay the loans. \n",
    "        </li>\n",
    "    </ul>\n",
    "</div>"
   ]
  },
  {
   "cell_type": "code",
   "execution_count": 26,
   "id": "82ca7721",
   "metadata": {
    "execution": {
     "iopub.execute_input": "2024-03-21T23:32:50.804762Z",
     "iopub.status.busy": "2024-03-21T23:32:50.803131Z",
     "iopub.status.idle": "2024-03-21T23:32:51.173907Z",
     "shell.execute_reply": "2024-03-21T23:32:51.172644Z"
    },
    "papermill": {
     "duration": 0.429094,
     "end_time": "2024-03-21T23:32:51.176442",
     "exception": false,
     "start_time": "2024-03-21T23:32:50.747348",
     "status": "completed"
    },
    "tags": []
   },
   "outputs": [
    {
     "name": "stdout",
     "output_type": "stream",
     "text": [
      "+------------+---+\n",
      "|OWN_VALUABLE|NPL|\n",
      "+------------+---+\n",
      "|           0|  0|\n",
      "|           0|  0|\n",
      "|           0|  0|\n",
      "|           0|  0|\n",
      "|           0|  0|\n",
      "+------------+---+\n",
      "only showing top 5 rows\n",
      "\n"
     ]
    }
   ],
   "source": [
    "from pyspark.sql.functions import udf\n",
    "from pyspark.sql.types import StringType\n",
    "\n",
    "@udf(returnType=StringType())\n",
    "def own_valuable(col_car:str, col_realty:str)->str:\n",
    "    '''\n",
    "        Signs whether a client possesses a valuable asset that can be sold for paying their loans.\n",
    "        \n",
    "        Parameters\n",
    "        ----------\n",
    "        `col_car` str\n",
    "            The value of the flag that indicates the ownership of a car.\n",
    "        `col_realty`: str\n",
    "            The value of the flag that indicates the ownership of a real state.\n",
    "            \n",
    "        Returns\n",
    "        -------\n",
    "        A flag indicating the possession of a car or real state (valuable assets). \n",
    "    '''\n",
    "    if (col_car=='Y') or (col_realty=='Y'):\n",
    "        return '1'\n",
    "    return '0'\n",
    "\n",
    "# Creating the DataFrame that will be used for conducting the Hypothesis Test.\n",
    "df_valuable = train.select(own_valuable('FLAG_OWN_CAR', 'FLAG_OWN_REALTY').alias('OWN_VALUABLE'), 'NPL')\n",
    "df_valuable.show(5)"
   ]
  },
  {
   "cell_type": "code",
   "execution_count": 27,
   "id": "e86b293e",
   "metadata": {
    "execution": {
     "iopub.execute_input": "2024-03-21T23:32:51.248429Z",
     "iopub.status.busy": "2024-03-21T23:32:51.248053Z",
     "iopub.status.idle": "2024-03-21T23:32:51.940811Z",
     "shell.execute_reply": "2024-03-21T23:32:51.939434Z"
    },
    "papermill": {
     "duration": 0.732495,
     "end_time": "2024-03-21T23:32:51.943764",
     "exception": false,
     "start_time": "2024-03-21T23:32:51.211269",
     "status": "completed"
    },
    "tags": []
   },
   "outputs": [
    {
     "name": "stdout",
     "output_type": "stream",
     "text": [
      "+---+------------+-----+\n",
      "|NPL|OWN_VALUABLE|count|\n",
      "+---+------------+-----+\n",
      "|  0|           1| 5747|\n",
      "|  1|           1|  126|\n",
      "|  0|           0| 1454|\n",
      "|  1|           0|   46|\n",
      "+---+------------+-----+\n",
      "\n"
     ]
    }
   ],
   "source": [
    "# Counting the amount of who own or not a valuable asset per target.\n",
    "gb_valuable = (df_valuable\n",
    "     .groupBy(['NPL', 'OWN_VALUABLE'])\n",
    "     .count())\n",
    "\n",
    "gb_valuable.show()"
   ]
  },
  {
   "cell_type": "code",
   "execution_count": 28,
   "id": "e99db0dc",
   "metadata": {
    "execution": {
     "iopub.execute_input": "2024-03-21T23:32:52.030520Z",
     "iopub.status.busy": "2024-03-21T23:32:52.030145Z",
     "iopub.status.idle": "2024-03-21T23:32:52.861032Z",
     "shell.execute_reply": "2024-03-21T23:32:52.859316Z"
    },
    "papermill": {
     "duration": 0.870577,
     "end_time": "2024-03-21T23:32:52.864263",
     "exception": false,
     "start_time": "2024-03-21T23:32:51.993686",
     "status": "completed"
    },
    "tags": []
   },
   "outputs": [
    {
     "name": "stdout",
     "output_type": "stream",
     "text": [
      "+---+-----------------------+---------------+------------------+\n",
      "|NPL|INSTANCES_WITH_VALUABLE|TOTAL_INSTANCES| PROP_OWN_VALUABLE|\n",
      "+---+-----------------------+---------------+------------------+\n",
      "|  0|                   5747|           7201|0.7980835995000695|\n",
      "|  1|                    126|            172|0.7325581395348837|\n",
      "+---+-----------------------+---------------+------------------+\n",
      "\n"
     ]
    }
   ],
   "source": [
    "# Now, using `gb_valuable` in order to estimate the proportion of clients with a valuable asset for each target.\n",
    "from pyspark.sql.functions import col\n",
    "from pyspark.sql.functions import sum as ps_sum\n",
    "from pyspark.sql.window import Window\n",
    "\n",
    "window = Window.partitionBy('NPL')\n",
    "\n",
    "# It's noticeable that there is a rough 7% difference between the proportions. But can we regard that as statistically significant? \n",
    "(gb_valuable\n",
    "     .withColumn('TOTAL_INSTANCES', ps_sum(col('count')).over(window)) # Total quantity of instances for each target.\n",
    "     .withColumn('PROP_OWN_VALUABLE', col('count')/ps_sum(col('count')).over(window)) # % of clients who own valuable assets per target.\n",
    "     .withColumnRenamed('count', 'INSTANCES_WITH_VALUABLE') \n",
    "     .where('`OWN_VALUABLE`==1')\n",
    "     .select(['NPL', 'INSTANCES_WITH_VALUABLE', 'TOTAL_INSTANCES', 'PROP_OWN_VALUABLE'])).show()"
   ]
  },
  {
   "cell_type": "code",
   "execution_count": 29,
   "id": "b4000cc8",
   "metadata": {
    "execution": {
     "iopub.execute_input": "2024-03-21T23:32:52.972289Z",
     "iopub.status.busy": "2024-03-21T23:32:52.971646Z",
     "iopub.status.idle": "2024-03-21T23:32:52.998785Z",
     "shell.execute_reply": "2024-03-21T23:32:52.997731Z"
    },
    "papermill": {
     "duration": 0.081792,
     "end_time": "2024-03-21T23:32:53.001852",
     "exception": false,
     "start_time": "2024-03-21T23:32:52.920060",
     "status": "completed"
    },
    "tags": []
   },
   "outputs": [
    {
     "data": {
      "text/plain": [
       "0.033767448873365"
      ]
     },
     "execution_count": 29,
     "metadata": {},
     "output_type": "execute_result"
    }
   ],
   "source": [
    "# H0: People who honor their debts have the same probability of possessing a valuable asset as the clients in default.\n",
    "# H1: People who honor their debts have higher probability of possessing a valuable asset compared to clients in default.\n",
    "\n",
    "# By using the table's data in a Hypothesis Test for proportions, we get a p-value below our significance degree (alpha=.05).\n",
    "\n",
    "# Therefore, we are able to reject H0 and state we possess sufficient information to say that people who have never produced an NPL have a higher\n",
    "# tendency of possessing a valuable asset.\n",
    "\n",
    "from statsmodels.stats.proportion import test_proportions_2indep\n",
    "test_proportions_2indep(5747, 7201, 126, 172, compare='ratio', alternative='larger').pvalue"
   ]
  },
  {
   "cell_type": "code",
   "execution_count": 30,
   "id": "a1f7bc7c",
   "metadata": {
    "execution": {
     "iopub.execute_input": "2024-03-21T23:32:53.090003Z",
     "iopub.status.busy": "2024-03-21T23:32:53.089032Z",
     "iopub.status.idle": "2024-03-21T23:32:53.100533Z",
     "shell.execute_reply": "2024-03-21T23:32:53.099617Z"
    },
    "papermill": {
     "duration": 0.058831,
     "end_time": "2024-03-21T23:32:53.102815",
     "exception": false,
     "start_time": "2024-03-21T23:32:53.043984",
     "status": "completed"
    },
    "tags": []
   },
   "outputs": [
    {
     "data": {
      "text/plain": [
       "0.15495270778483095"
      ]
     },
     "execution_count": 30,
     "metadata": {},
     "output_type": "execute_result"
    }
   ],
   "source": [
    "# With the difference proved real, let's analyze it with the use of a Cohen's h.\n",
    "from numpy import arcsin, sqrt\n",
    "def cohen_h(p1:float, p2:float)->float:\n",
    "    '''\n",
    "        Computes the Cohen's h coefficient for the difference between two proportions.\n",
    "        \n",
    "        Parameters\n",
    "        ----------\n",
    "        `p1`: float\n",
    "            The first probability.\n",
    "        `p2`: float\n",
    "            The second probability.\n",
    "            \n",
    "        Returns\n",
    "        -------\n",
    "        The Cohen's h coefficient for the given proportions.\n",
    "    '''\n",
    "    phi1 = 2*arcsin(sqrt(p1))\n",
    "    phi2 = 2*arcsin(sqrt(p2))\n",
    "    return phi1-phi2\n",
    "\n",
    "# By observing the returned h, we can conclude that the difference is of a small magnitude, since it is lower than 0.2.\n",
    "cohen_h(0.7980835995000695, 0.7325581395348837)"
   ]
  },
  {
   "cell_type": "markdown",
   "id": "adddc925",
   "metadata": {
    "papermill": {
     "duration": 0.046796,
     "end_time": "2024-03-21T23:32:53.189852",
     "exception": false,
     "start_time": "2024-03-21T23:32:53.143056",
     "status": "completed"
    },
    "tags": []
   },
   "source": [
    "<h3 style='font-size:30px;font-style:italic'> Employment Impact Analysis</h3>\n",
    "<div> \n",
    "    <ul style='font-size:20px'> \n",
    "        <li> \n",
    "            Finally, it would be interesting if we could verify whether unemployment can impair loan payments.  \n",
    "        </li>\n",
    "    </ul>\n",
    "</div>"
   ]
  },
  {
   "cell_type": "markdown",
   "id": "c9dc7353",
   "metadata": {
    "papermill": {
     "duration": 0.035256,
     "end_time": "2024-03-21T23:32:53.260048",
     "exception": false,
     "start_time": "2024-03-21T23:32:53.224792",
     "status": "completed"
    },
    "tags": []
   },
   "source": [
    "<h4 style='font-size:30px;font-style:italic;text-decoration:underline'> Cleaning up Inconsistent Instances</h4>\n",
    "<div> \n",
    "    <ul style='font-size:20px'> \n",
    "        <li> \n",
    "            The dataset contains individuals who present their OCCUPATION_TYPE value as NULL, although they show up as employed (DAYS_EMPLOYED$\\leq{0}$)\n",
    "        </li>\n",
    "        <li>\n",
    "            In order to they not be regarded as unemployed clients (who also present OCCUPATION_TYPE as NULL), I thought it would be convenient to assign \n",
    "            another category to them.\n",
    "        </li>\n",
    "    </ul>\n",
    "</div>"
   ]
  },
  {
   "cell_type": "code",
   "execution_count": 31,
   "id": "e635210d",
   "metadata": {
    "execution": {
     "iopub.execute_input": "2024-03-21T23:32:53.332794Z",
     "iopub.status.busy": "2024-03-21T23:32:53.332065Z",
     "iopub.status.idle": "2024-03-21T23:32:53.339202Z",
     "shell.execute_reply": "2024-03-21T23:32:53.338398Z"
    },
    "papermill": {
     "duration": 0.046259,
     "end_time": "2024-03-21T23:32:53.341395",
     "exception": false,
     "start_time": "2024-03-21T23:32:53.295136",
     "status": "completed"
    },
    "tags": []
   },
   "outputs": [],
   "source": [
    "@udf(returnType=StringType())\n",
    "def impute_occupation(col_occupation:str, col_days_employed:int)->str:\n",
    "    '''\n",
    "        Assigns new categories to the OCCUPATION_TYPE column if it is null for any given row. \n",
    "        \n",
    "        In case the DAYS_EMPLOYED shows that the client is currently employed, we impute 'UNDEFINED'; otherwise, we insert 'UNEMPLOYED'.\n",
    "        \n",
    "        Parameters\n",
    "        ----------\n",
    "        `col_occupation`: str\n",
    "            The row's OCCUPATION_TYPE value.\n",
    "        `col_days_employed`: int\n",
    "            The row's DAYS_EMPLOYED value.\n",
    "        \n",
    "        Returns\n",
    "        -------\n",
    "        The row's OCCUPATION_TYPE treated value.\n",
    "    '''\n",
    "    # 'Undefined' profession logic.\n",
    "    if (col_occupation is None) and (col_days_employed<=0):\n",
    "        return 'Undefined'\n",
    "    \n",
    "    # 'Unemployed' logic.\n",
    "    elif (col_occupation is None) and (col_days_employed>0):\n",
    "        return 'Unemployed'\n",
    "    \n",
    "    else:\n",
    "        pass\n",
    "    \n",
    "    return col_occupation"
   ]
  },
  {
   "cell_type": "code",
   "execution_count": 32,
   "id": "7e0ccb0f",
   "metadata": {
    "execution": {
     "iopub.execute_input": "2024-03-21T23:32:53.415872Z",
     "iopub.status.busy": "2024-03-21T23:32:53.414936Z",
     "iopub.status.idle": "2024-03-21T23:32:53.445735Z",
     "shell.execute_reply": "2024-03-21T23:32:53.444758Z"
    },
    "papermill": {
     "duration": 0.071177,
     "end_time": "2024-03-21T23:32:53.447848",
     "exception": false,
     "start_time": "2024-03-21T23:32:53.376671",
     "status": "completed"
    },
    "tags": []
   },
   "outputs": [
    {
     "data": {
      "text/plain": [
       "['ID_CLIENT',\n",
       " 'CODE_GENDER',\n",
       " 'FLAG_OWN_CAR',\n",
       " 'FLAG_OWN_REALTY',\n",
       " 'CNT_CHILDREN',\n",
       " 'AMT_INCOME_TOTAL',\n",
       " 'NAME_INCOME_TYPE',\n",
       " 'NAME_EDUCATION_TYPE',\n",
       " 'NAME_FAMILY_STATUS',\n",
       " 'NAME_HOUSING_TYPE',\n",
       " 'DAYS_BIRTH',\n",
       " 'DAYS_EMPLOYED',\n",
       " 'FLAG_MOBIL',\n",
       " 'FLAG_WORK_PHONE',\n",
       " 'FLAG_PHONE',\n",
       " 'FLAG_EMAIL',\n",
       " 'CNT_FAM_MEMBERS',\n",
       " Column<'impute_occupation(OCCUPATION_TYPE, DAYS_EMPLOYED) AS OCCUPATION_TYPE'>,\n",
       " 'NPL']"
      ]
     },
     "execution_count": 32,
     "metadata": {},
     "output_type": "execute_result"
    }
   ],
   "source": [
    "# `list_select_occupation` will be used so that we can redefine the `train` DataFrame with the transformed OCCUPATION_TYPE feature.\n",
    "list_select_occupation = train.columns\n",
    "list_select_occupation.remove('OCCUPATION_TYPE')\n",
    "list_select_occupation.insert(-1, impute_occupation('OCCUPATION_TYPE', 'DAYS_EMPLOYED').alias('OCCUPATION_TYPE'))\n",
    "list_select_occupation"
   ]
  },
  {
   "cell_type": "code",
   "execution_count": 33,
   "id": "9dc7fbdd",
   "metadata": {
    "execution": {
     "iopub.execute_input": "2024-03-21T23:32:53.520224Z",
     "iopub.status.busy": "2024-03-21T23:32:53.519068Z",
     "iopub.status.idle": "2024-03-21T23:32:53.837774Z",
     "shell.execute_reply": "2024-03-21T23:32:53.836845Z"
    },
    "papermill": {
     "duration": 0.357853,
     "end_time": "2024-03-21T23:32:53.840761",
     "exception": false,
     "start_time": "2024-03-21T23:32:53.482908",
     "status": "completed"
    },
    "tags": []
   },
   "outputs": [
    {
     "name": "stdout",
     "output_type": "stream",
     "text": [
      "+---------+-----------+------------+---------------+------------+----------------+----------------+--------------------+------------------+-----------------+----------+-------------+----------+---------------+----------+----------+---------------+---------------+---+\n",
      "|ID_CLIENT|CODE_GENDER|FLAG_OWN_CAR|FLAG_OWN_REALTY|CNT_CHILDREN|AMT_INCOME_TOTAL|NAME_INCOME_TYPE| NAME_EDUCATION_TYPE|NAME_FAMILY_STATUS|NAME_HOUSING_TYPE|DAYS_BIRTH|DAYS_EMPLOYED|FLAG_MOBIL|FLAG_WORK_PHONE|FLAG_PHONE|FLAG_EMAIL|CNT_FAM_MEMBERS|OCCUPATION_TYPE|NPL|\n",
      "+---------+-----------+------------+---------------+------------+----------------+----------------+--------------------+------------------+-----------------+----------+-------------+----------+---------------+----------+----------+---------------+---------------+---+\n",
      "|      691|          F|           N|              N|           0|         67500.0|         Working|Secondary / secon...|           Married|House / apartment|    -20075|        -7013|         1|              1|         1|         0|            2.0|    Sales staff|  0|\n",
      "|     3606|          F|           N|              N|           0|        112500.0|         Working|Secondary / secon...|           Married|House / apartment|     -9865|         -196|         1|              1|         0|         0|            2.0|       Laborers|  0|\n",
      "|     4821|          F|           N|              N|           0|        135000.0|   State servant|    Higher education|           Married|House / apartment|    -12490|        -1191|         1|              1|         1|         0|            2.0|     Core staff|  0|\n",
      "|     5925|          F|           N|              N|           0|        157500.0|       Pensioner|Secondary / secon...|           Married|House / apartment|    -22828|       365243|         1|              0|         0|         0|            2.0|     Unemployed|  0|\n",
      "|     6194|          F|           N|              N|           0|        157500.0|         Working|   Incomplete higher|           Married|House / apartment|    -16888|        -2687|         1|              0|         0|         0|            2.0|     Core staff|  0|\n",
      "+---------+-----------+------------+---------------+------------+----------------+----------------+--------------------+------------------+-----------------+----------+-------------+----------+---------------+----------+----------+---------------+---------------+---+\n",
      "only showing top 5 rows\n",
      "\n"
     ]
    }
   ],
   "source": [
    "# Applying the modifications to `train`.\n",
    "train = train.select(list_select_occupation)\n",
    "train.show(5)"
   ]
  },
  {
   "cell_type": "markdown",
   "id": "eb709e03",
   "metadata": {
    "papermill": {
     "duration": 0.035959,
     "end_time": "2024-03-21T23:32:53.913009",
     "exception": false,
     "start_time": "2024-03-21T23:32:53.877050",
     "status": "completed"
    },
    "tags": []
   },
   "source": [
    "<h4 style='font-size:30px;font-style:italic;text-decoration:underline'> Back to the EDA...</h4>"
   ]
  },
  {
   "cell_type": "code",
   "execution_count": 34,
   "id": "e9a4ac46",
   "metadata": {
    "execution": {
     "iopub.execute_input": "2024-03-21T23:32:53.985514Z",
     "iopub.status.busy": "2024-03-21T23:32:53.985123Z",
     "iopub.status.idle": "2024-03-21T23:32:54.760579Z",
     "shell.execute_reply": "2024-03-21T23:32:54.759790Z"
    },
    "papermill": {
     "duration": 0.815707,
     "end_time": "2024-03-21T23:32:54.763850",
     "exception": false,
     "start_time": "2024-03-21T23:32:53.948143",
     "status": "completed"
    },
    "tags": []
   },
   "outputs": [
    {
     "name": "stdout",
     "output_type": "stream",
     "text": [
      "+---+--------+-----+\n",
      "|NPL|EMPLOYED|count|\n",
      "+---+--------+-----+\n",
      "|  0|       0| 1269|\n",
      "|  0|       1| 5932|\n",
      "|  1|       0|   31|\n",
      "|  1|       1|  141|\n",
      "+---+--------+-----+\n",
      "\n"
     ]
    }
   ],
   "source": [
    "# Counting the amount of employed and unemployed individuals per target group.\n",
    "from pyspark.sql.functions import when\n",
    "(train\n",
    "     .withColumn('EMPLOYED', when(col('OCCUPATION_TYPE') == 'Unemployed', 0).otherwise(1))\n",
    "     .groupBy('NPL', 'EMPLOYED')\n",
    "     .count()\n",
    "     .orderBy('NPL', 'EMPLOYED')).show(5)"
   ]
  },
  {
   "cell_type": "code",
   "execution_count": 35,
   "id": "f6fc881d",
   "metadata": {
    "execution": {
     "iopub.execute_input": "2024-03-21T23:32:54.838572Z",
     "iopub.status.busy": "2024-03-21T23:32:54.838155Z",
     "iopub.status.idle": "2024-03-21T23:32:54.845682Z",
     "shell.execute_reply": "2024-03-21T23:32:54.844696Z"
    },
    "papermill": {
     "duration": 0.047149,
     "end_time": "2024-03-21T23:32:54.847673",
     "exception": false,
     "start_time": "2024-03-21T23:32:54.800524",
     "status": "completed"
    },
    "tags": []
   },
   "outputs": [
    {
     "data": {
      "text/plain": [
       "0.41442347321737816"
      ]
     },
     "execution_count": 35,
     "metadata": {},
     "output_type": "execute_result"
    }
   ],
   "source": [
    "# H0: The proportion of unemployed among people with honored debts is the same as with those who didn't.\n",
    "# H1: The proportion of unemployed among people with honored debts is lower than that of those who didn't.\n",
    "\n",
    "# By looking at the p-value, we don't have sufficient statistical evidence to reject H0.\n",
    "test_proportions_2indep(1269, 7201, 31, 172, compare='ratio', alternative='smaller', ).pvalue"
   ]
  },
  {
   "cell_type": "code",
   "execution_count": 36,
   "id": "834bbfc4",
   "metadata": {
    "execution": {
     "iopub.execute_input": "2024-03-21T23:32:54.920298Z",
     "iopub.status.busy": "2024-03-21T23:32:54.919595Z",
     "iopub.status.idle": "2024-03-21T23:32:55.733178Z",
     "shell.execute_reply": "2024-03-21T23:32:55.731277Z"
    },
    "papermill": {
     "duration": 0.853365,
     "end_time": "2024-03-21T23:32:55.736211",
     "exception": false,
     "start_time": "2024-03-21T23:32:54.882846",
     "status": "completed"
    },
    "tags": []
   },
   "outputs": [
    {
     "name": "stderr",
     "output_type": "stream",
     "text": [
      "                                                                                \r"
     ]
    }
   ],
   "source": [
    "# Saving the newly transformed `train` dataset.\n",
    "train.write.parquet('/kaggle/working/train.parquet', mode='overwrite')"
   ]
  },
  {
   "cell_type": "markdown",
   "id": "d1bd3fc5",
   "metadata": {
    "papermill": {
     "duration": 0.034776,
     "end_time": "2024-03-21T23:32:55.819047",
     "exception": false,
     "start_time": "2024-03-21T23:32:55.784271",
     "status": "completed"
    },
    "tags": []
   },
   "source": [
    "<h2 style='font-size:30px'> Modeling Phase</h2>\n",
    "<div> \n",
    "    <ul style='font-size:20px'> \n",
    "        <li> \n",
    "            With the Exploratory Analysis concluded, we can move towards making our AI models that we've promised to the credit team.\n",
    "        </li>\n",
    "        <li> \n",
    "            But firstly, we have to conceive a Pipeline that will transform all our features into numerical format.\n",
    "        </li>\n",
    "    </ul>\n",
    "</div>"
   ]
  },
  {
   "cell_type": "code",
   "execution_count": 37,
   "id": "2a0479c7",
   "metadata": {
    "execution": {
     "iopub.execute_input": "2024-03-21T23:32:55.891406Z",
     "iopub.status.busy": "2024-03-21T23:32:55.890780Z",
     "iopub.status.idle": "2024-03-21T23:33:06.988077Z",
     "shell.execute_reply": "2024-03-21T23:33:06.986780Z"
    },
    "papermill": {
     "duration": 11.136162,
     "end_time": "2024-03-21T23:33:06.990636",
     "exception": false,
     "start_time": "2024-03-21T23:32:55.854474",
     "status": "completed"
    },
    "tags": []
   },
   "outputs": [
    {
     "name": "stdout",
     "output_type": "stream",
     "text": [
      "Requirement already satisfied: pyspark in /opt/conda/lib/python3.10/site-packages (3.5.1)\r\n",
      "Requirement already satisfied: py4j==0.10.9.7 in /opt/conda/lib/python3.10/site-packages (from pyspark) (0.10.9.7)\r\n",
      "Note: you may need to restart the kernel to use updated packages.\n"
     ]
    }
   ],
   "source": [
    "pip install pyspark"
   ]
  },
  {
   "cell_type": "code",
   "execution_count": 38,
   "id": "26a6a155",
   "metadata": {
    "execution": {
     "iopub.execute_input": "2024-03-21T23:33:07.064557Z",
     "iopub.status.busy": "2024-03-21T23:33:07.064142Z",
     "iopub.status.idle": "2024-03-21T23:33:07.076590Z",
     "shell.execute_reply": "2024-03-21T23:33:07.075712Z"
    },
    "papermill": {
     "duration": 0.051287,
     "end_time": "2024-03-21T23:33:07.078682",
     "exception": false,
     "start_time": "2024-03-21T23:33:07.027395",
     "status": "completed"
    },
    "tags": []
   },
   "outputs": [
    {
     "data": {
      "text/html": [
       "<style>pre { white-space: pre !important; }</style>"
      ],
      "text/plain": [
       "<IPython.core.display.HTML object>"
      ]
     },
     "metadata": {},
     "output_type": "display_data"
    }
   ],
   "source": [
    "from pyspark import SparkContext\n",
    "from pyspark.sql import SparkSession\n",
    "from IPython.core.display import HTML\n",
    "\n",
    "# Creating the project's SparkSession.\n",
    "spark = SparkSession.builder.appName('NPL').getOrCreate()\n",
    "\n",
    "# Also, modifying the session's log level.\n",
    "log_level = spark.sparkContext.setLogLevel('ERROR')\n",
    "\n",
    "# This tiny config enables us to scroll along the DataFrame's columns.\n",
    "display(HTML(\"<style>pre { white-space: pre !important; }</style>\"))"
   ]
  },
  {
   "cell_type": "code",
   "execution_count": 39,
   "id": "e0556fa6",
   "metadata": {
    "execution": {
     "iopub.execute_input": "2024-03-21T23:33:07.151394Z",
     "iopub.status.busy": "2024-03-21T23:33:07.151010Z",
     "iopub.status.idle": "2024-03-21T23:33:07.363051Z",
     "shell.execute_reply": "2024-03-21T23:33:07.361783Z"
    },
    "papermill": {
     "duration": 0.251857,
     "end_time": "2024-03-21T23:33:07.366252",
     "exception": false,
     "start_time": "2024-03-21T23:33:07.114395",
     "status": "completed"
    },
    "tags": []
   },
   "outputs": [
    {
     "name": "stdout",
     "output_type": "stream",
     "text": [
      "+---------+-----------+------------+---------------+------------+----------------+----------------+--------------------+------------------+-----------------+----------+-------------+----------+---------------+----------+----------+---------------+---------------+---+\n",
      "|ID_CLIENT|CODE_GENDER|FLAG_OWN_CAR|FLAG_OWN_REALTY|CNT_CHILDREN|AMT_INCOME_TOTAL|NAME_INCOME_TYPE| NAME_EDUCATION_TYPE|NAME_FAMILY_STATUS|NAME_HOUSING_TYPE|DAYS_BIRTH|DAYS_EMPLOYED|FLAG_MOBIL|FLAG_WORK_PHONE|FLAG_PHONE|FLAG_EMAIL|CNT_FAM_MEMBERS|OCCUPATION_TYPE|NPL|\n",
      "+---------+-----------+------------+---------------+------------+----------------+----------------+--------------------+------------------+-----------------+----------+-------------+----------+---------------+----------+----------+---------------+---------------+---+\n",
      "|      691|          F|           N|              N|           0|         67500.0|         Working|Secondary / secon...|           Married|House / apartment|    -20075|        -7013|         1|              1|         1|         0|            2.0|    Sales staff|  0|\n",
      "|     3606|          F|           N|              N|           0|        112500.0|         Working|Secondary / secon...|           Married|House / apartment|     -9865|         -196|         1|              1|         0|         0|            2.0|       Laborers|  0|\n",
      "|     4821|          F|           N|              N|           0|        135000.0|   State servant|    Higher education|           Married|House / apartment|    -12490|        -1191|         1|              1|         1|         0|            2.0|     Core staff|  0|\n",
      "|     5925|          F|           N|              N|           0|        157500.0|       Pensioner|Secondary / secon...|           Married|House / apartment|    -22828|       365243|         1|              0|         0|         0|            2.0|     Unemployed|  0|\n",
      "|     6194|          F|           N|              N|           0|        157500.0|         Working|   Incomplete higher|           Married|House / apartment|    -16888|        -2687|         1|              0|         0|         0|            2.0|     Core staff|  0|\n",
      "+---------+-----------+------------+---------------+------------+----------------+----------------+--------------------+------------------+-----------------+----------+-------------+----------+---------------+----------+----------+---------------+---------------+---+\n",
      "only showing top 5 rows\n",
      "\n"
     ]
    }
   ],
   "source": [
    "train = spark.read.parquet('/kaggle/input/npl-train/train-eda.parquet/')\n",
    "train.show(5)"
   ]
  },
  {
   "cell_type": "markdown",
   "id": "d7622658",
   "metadata": {
    "papermill": {
     "duration": 0.035786,
     "end_time": "2024-03-21T23:33:07.444747",
     "exception": false,
     "start_time": "2024-03-21T23:33:07.408961",
     "status": "completed"
    },
    "tags": []
   },
   "source": [
    "<h3 style='font-size:30px;font-style:italic'> Job Labels' Transformer</h3>\n",
    "<div> \n",
    "    <ul style='font-size:20px'> \n",
    "        <li>   \n",
    "            Before making our numeralization process, we must re-implement the 'OCCUPATION_TYPE' column logic that we've written in a formal \n",
    "            PySpark Transformer class. In that way, we'll be able to apply the transformations in the test set as well.\n",
    "        </li>\n",
    "    </ul>\n",
    "</div>"
   ]
  },
  {
   "cell_type": "code",
   "execution_count": 40,
   "id": "88603bf1",
   "metadata": {
    "execution": {
     "iopub.execute_input": "2024-03-21T23:33:07.519111Z",
     "iopub.status.busy": "2024-03-21T23:33:07.518711Z",
     "iopub.status.idle": "2024-03-21T23:33:07.614341Z",
     "shell.execute_reply": "2024-03-21T23:33:07.613295Z"
    },
    "papermill": {
     "duration": 0.136107,
     "end_time": "2024-03-21T23:33:07.617302",
     "exception": false,
     "start_time": "2024-03-21T23:33:07.481195",
     "status": "completed"
    },
    "tags": []
   },
   "outputs": [],
   "source": [
    "from pyspark.ml.param.shared import HasInputCol, HasInputCols, HasOutputCol, HasOutputCols, Param, Params, TypeConverters\n",
    "from pyspark.ml.util import DefaultParamsReadable, DefaultParamsWritable\n",
    "from pyspark import keyword_only\n",
    "from pyspark.ml import Transformer\n",
    "from typing import List\n",
    "\n",
    "class _BaseTransformer(Transformer, HasInputCol, HasInputCols, HasOutputCol, HasOutputCols, DefaultParamsReadable, DefaultParamsWritable):\n",
    "    '''\n",
    "        A class that provide the basic functionalities for the project's custom transformers.\n",
    "        \n",
    "        If you consider that your object will require even more customization, you can just overwrite any of the default methods when creating it. Also,\n",
    "        remember that any extra parameter must be set with a `self._setDefault` method right in the `__init__` function, mentioned in the `self.setParams`\n",
    "        method and own a getter function.\n",
    "        \n",
    "        Lastly, don't forget to define the `_transform` function!\n",
    "        \n",
    "        Parameters\n",
    "        ----------\n",
    "        `inputCol`: str\n",
    "            The name of the input column.\n",
    "        `inputCols`: List[str]\n",
    "            List containing the name of input columns.\n",
    "        `outputCol`: str\n",
    "            The name of the output column.\n",
    "        `outputCols`: List[str]\n",
    "            List containing the name of output columns.\n",
    "        \n",
    "        References\n",
    "        ----------\n",
    "        https://medium.com/@zeid.zandi/utilizing-the-power-of-pyspark-pipelines-in-data-science-projects-benefits-and-limitations-2-2-9063e4bebd05\n",
    "        https://www.crowdstrike.com/blog/deep-dive-into-custom-spark-transformers-for-machine-learning-pipelines/\n",
    "    '''\n",
    "    @keyword_only\n",
    "    def __init__(self, inputCol:str=None, inputCols:List[str]=None, outputCol:str=None, outputCols:List[str]=None, *args)->None:\n",
    "        super().__init__()\n",
    "        kwargs = self._input_kwargs\n",
    "        self.setParams(**kwargs)\n",
    "        \n",
    "    @keyword_only\n",
    "    def setParams(self, inputCol=None, inputCols=None, outputCol=None, outputCols=None): \n",
    "        kwargs = self._input_kwargs                                                          \n",
    "        return self._set(**kwargs)\n",
    "    \n",
    "    def setInputCol(self, value):\n",
    "        return self.setParams(inputCol=value)\n",
    "    \n",
    "    def setInputCols(self, value):\n",
    "        self.setParams(inputCols=value)\n",
    "    \n",
    "    def setOutputCol(self, value):\n",
    "        return self.setParams(outputCol=value)\n",
    "    \n",
    "    def setOutputCols(self, value):\n",
    "        return self.setParams(outputCols=value)"
   ]
  },
  {
   "cell_type": "code",
   "execution_count": 41,
   "id": "8897daaa",
   "metadata": {
    "execution": {
     "iopub.execute_input": "2024-03-21T23:33:07.690096Z",
     "iopub.status.busy": "2024-03-21T23:33:07.689718Z",
     "iopub.status.idle": "2024-03-21T23:33:07.699415Z",
     "shell.execute_reply": "2024-03-21T23:33:07.698267Z"
    },
    "papermill": {
     "duration": 0.048704,
     "end_time": "2024-03-21T23:33:07.701755",
     "exception": false,
     "start_time": "2024-03-21T23:33:07.653051",
     "status": "completed"
    },
    "tags": []
   },
   "outputs": [],
   "source": [
    "from pyspark.sql import DataFrame\n",
    "from pyspark.sql.functions import udf\n",
    "from pyspark.sql.types import StringType\n",
    "\n",
    "class ImputeOccupation(_BaseTransformer):\n",
    "    '''\n",
    "        A Transformer encharged of imputing proper OCCUPATION_TYPE values for rows that are NULL in such column.  \n",
    "        \n",
    "        Parameters\n",
    "        ----------\n",
    "        `inputCol`: str\n",
    "            The name of the input column.\n",
    "            \n",
    "        Method\n",
    "        ------\n",
    "        `_transform`: Applies the mentioned imputation process,\n",
    "    '''\n",
    "    @staticmethod\n",
    "    @udf(returnType=StringType())\n",
    "    def __impute_occupation(col_occupation:str, col_days_employed:int)->str:\n",
    "        '''\n",
    "        Assigns new categories to the OCCUPATION_TYPE column, if it is null. \n",
    "        \n",
    "        In case the row's DAYS_EMPLOYED shows that the client is currently employed, we impute 'UNDEFINED'; otherwise, we insert 'UNEMPLOYED'.\n",
    "        \n",
    "        Parameters\n",
    "        ----------\n",
    "        `col_occupation`: str\n",
    "            The row's OCCUPATION_TYPE value.\n",
    "        `col_days_employed`: int\n",
    "            The row's DAYS_EMPLOYED value.\n",
    "        \n",
    "        Returns\n",
    "        -------\n",
    "        The row's OCCUPATION_TYPE treated value.\n",
    "        '''\n",
    "        # 'Undefined' profession logic.\n",
    "        if (col_occupation is None) and (col_days_employed<=0):\n",
    "            return 'Undefined'\n",
    "\n",
    "        # 'Unemployed' logic.\n",
    "        elif (col_occupation is None) and (col_days_employed>0):\n",
    "            return 'Unemployed'\n",
    "        \n",
    "        # Otherwise, it outputs the current value.\n",
    "        else:\n",
    "            return col_occupation\n",
    "    \n",
    "    def _transform(self, dataset:DataFrame)->DataFrame:\n",
    "        '''\n",
    "            Performs the new occupation categories imputation.\n",
    "            \n",
    "            Parameter\n",
    "            ---------\n",
    "            `dataset`: `pyspark.sql.DataFrame`\n",
    "                The project's independent variables.\n",
    "                \n",
    "            Returns\n",
    "            -------\n",
    "            The DataFrame with the treated 'OCCUPATION_TYPE' column.\n",
    "        '''\n",
    "        x = self.getInputCol()\n",
    "        dataset = dataset.withColumn(x, self.__impute_occupation(x, 'DAYS_EMPLOYED'))\n",
    "        return dataset"
   ]
  },
  {
   "cell_type": "markdown",
   "id": "93379df9",
   "metadata": {
    "papermill": {
     "duration": 0.035777,
     "end_time": "2024-03-21T23:33:07.773746",
     "exception": false,
     "start_time": "2024-03-21T23:33:07.737969",
     "status": "completed"
    },
    "tags": []
   },
   "source": [
    "<h3 style='font-size:30px;font-style:italic'> String Columns Numeralization</h3>\n",
    "<div> \n",
    "    <ul style='font-size:20px'> \n",
    "        <li>   \n",
    "            The first transformation we must conduct is turning string columns into float format.\n",
    "        </li>\n",
    "        <li> \n",
    "            As a solution, I'ĺl replace the given category for the its proportion of instances that are defaulted. I think that will be a worthier way \n",
    "            of generating numerical information than just providing a One-Hot Encoding.\n",
    "        </li>\n",
    "    </ul>\n",
    "</div>"
   ]
  },
  {
   "cell_type": "code",
   "execution_count": 42,
   "id": "f9b7a5c5",
   "metadata": {
    "execution": {
     "iopub.execute_input": "2024-03-21T23:33:07.847814Z",
     "iopub.status.busy": "2024-03-21T23:33:07.847395Z",
     "iopub.status.idle": "2024-03-21T23:33:07.856737Z",
     "shell.execute_reply": "2024-03-21T23:33:07.855676Z"
    },
    "papermill": {
     "duration": 0.048479,
     "end_time": "2024-03-21T23:33:07.858684",
     "exception": false,
     "start_time": "2024-03-21T23:33:07.810205",
     "status": "completed"
    },
    "tags": []
   },
   "outputs": [],
   "source": [
    "from pyspark.ml.pipeline import Estimator, Model, Pipeline\n",
    "from pyspark.ml.param.shared import HasPredictionCol, Param, Params, TypeConverters\n",
    "from typing import Dict\n",
    "\n",
    "doc = '''\n",
    "    Parameter that stores the proportions of defaulted individuals for each X features' categories.\n",
    "'''\n",
    "class HasDefaultProportions(Params):\n",
    "    '''\n",
    "        A class dedicated to store the categories' proportion of indebted individuals. \n",
    "    '''\n",
    "    defaultProportions:Dict[str, Dict[str, float]] = Param(Params._dummy(), 'defaultProportions', doc)\n",
    "    \n",
    "    def __init__(self):\n",
    "        super(HasDefaultProportions, self).__init__()\n",
    "    \n",
    "    def setDefaultProportions(self, value):\n",
    "        return self._set(defaultProportions=value)\n",
    "    \n",
    "    def getDefaultProportions(self):\n",
    "        return self.getOrDefault(self.defaultProportions)\n",
    "    \n",
    "list_col_strings = [col for col, dtype in train.dtypes if dtype=='string' and col !='NPL']"
   ]
  },
  {
   "cell_type": "code",
   "execution_count": 43,
   "id": "4bd2608b",
   "metadata": {
    "execution": {
     "iopub.execute_input": "2024-03-21T23:33:07.931433Z",
     "iopub.status.busy": "2024-03-21T23:33:07.931014Z",
     "iopub.status.idle": "2024-03-21T23:33:07.940054Z",
     "shell.execute_reply": "2024-03-21T23:33:07.938944Z"
    },
    "papermill": {
     "duration": 0.047846,
     "end_time": "2024-03-21T23:33:07.942267",
     "exception": false,
     "start_time": "2024-03-21T23:33:07.894421",
     "status": "completed"
    },
    "tags": []
   },
   "outputs": [],
   "source": [
    "from pyspark.sql.dataframe import DataFrame\n",
    "\n",
    "class DefaultProportionsModel(Model, HasInputCols, HasDefaultProportions, DefaultParamsReadable, DefaultParamsWritable):\n",
    "    '''\n",
    "        The `pyspark.ml.pipeline.Model` that replaces categorical values for their respective proportion of defaulted individuals.\n",
    "        \n",
    "        Parameters\n",
    "        ---------\n",
    "        `inputCols: List[str]\n",
    "            A list of the categorical features names.\n",
    "        `defaultProportions`: Dict[str, DataFrame]\n",
    "            A dictionary mapping the name of the categorical column to a DataFrame storing the proportions.\n",
    "            \n",
    "        Method\n",
    "        -------\n",
    "        `_transform`: Performs the replacements.\n",
    "    '''\n",
    "    @keyword_only\n",
    "    def __init__(self, inputCols:List[str], defaultProportions:Dict[str, DataFrame]):\n",
    "        super(DefaultProportionsModel, self).__init__()\n",
    "        kwargs = self._input_kwargs\n",
    "        self.setParams(**kwargs)\n",
    "        \n",
    "    @keyword_only\n",
    "    def setParams(self, inputCols:List[str], defaultProportions:Dict[str, DataFrame]):\n",
    "        kwargs = self._input_kwargs\n",
    "        return self._set(**kwargs)\n",
    "    \n",
    "    def _transform(self, dataset:DataFrame)->DataFrame:\n",
    "        '''\n",
    "            Method that exchanges the categorical values for their proportion of defaulted individuals of the training set.\n",
    "            \n",
    "            Parameter\n",
    "            ---------\n",
    "            `dataset`: DataFrame\n",
    "                A `pyspark.sql.dataframe.DataFrame` with the project's data.\n",
    "                \n",
    "            Returns\n",
    "            -------\n",
    "            The DataFrame with the mentioned transformation.\n",
    "        '''\n",
    "        x = self.getInputCols()\n",
    "        defaultProportions = self.getDefaultProportions()\n",
    "        for c in x:\n",
    "            dataset = dataset.join(defaultProportions[c], on=c, how='left').drop(c)\n",
    "        return dataset"
   ]
  },
  {
   "cell_type": "code",
   "execution_count": 44,
   "id": "9a154dbb",
   "metadata": {
    "execution": {
     "iopub.execute_input": "2024-03-21T23:33:08.015781Z",
     "iopub.status.busy": "2024-03-21T23:33:08.015347Z",
     "iopub.status.idle": "2024-03-21T23:33:08.029795Z",
     "shell.execute_reply": "2024-03-21T23:33:08.028207Z"
    },
    "papermill": {
     "duration": 0.053767,
     "end_time": "2024-03-21T23:33:08.032218",
     "exception": false,
     "start_time": "2024-03-21T23:33:07.978451",
     "status": "completed"
    },
    "tags": []
   },
   "outputs": [],
   "source": [
    "from pyspark.sql.functions import col\n",
    "from pyspark.sql.types import DecimalType\n",
    "\n",
    "class DefaultProportions(Estimator, HasInputCols, HasDefaultProportions, DefaultParamsReadable, DefaultParamsWritable):\n",
    "    '''\n",
    "        An Estimator encharged for measuring the categorical values proportions of defaulted individuals.\n",
    "    \n",
    "        Parameter\n",
    "        ---------\n",
    "        `inputCols`: List[str]\n",
    "            A list with the categorical columns names.\n",
    "            \n",
    "        Method\n",
    "        ------\n",
    "        `_fit`: Measures the proportions and stores them in a DataFrame.\n",
    "    '''\n",
    "    @keyword_only\n",
    "    def __init__(self, inputCols:List[str]):\n",
    "        super(DefaultProportions, self).__init__()\n",
    "        kwargs = self._input_kwargs\n",
    "        self.setParams(**kwargs)\n",
    "    \n",
    "    @keyword_only\n",
    "    def setParams(self, inputCols:List[str]):\n",
    "        kwargs = self._input_kwargs\n",
    "        return self._set(**kwargs)\n",
    "        \n",
    "    def setInputCols(self, value:List[str]):\n",
    "        return self.setParams(inputCols=value)\n",
    "    \n",
    "    def setPredictionCol(self, value:str):\n",
    "        return self.setParams(predictionCol=value)\n",
    "    \n",
    "    @staticmethod\n",
    "    def __measure_proportions(dataset:DataFrame, input_cols:List[str], target:str)->Dict[str, DataFrame]:\n",
    "        '''\n",
    "            Responsible for quantifying the categories' proportions of indebted individuals. They will be stored in a `pyspark.sql.dataframe.DataFrame`\n",
    "            object. Each dataframe is kept in the `defaultedProportions` dictionary, which maps them to the categorical column's name.\n",
    "            \n",
    "            Paramters\n",
    "            ---------\n",
    "            `dataset`: DataFrame\n",
    "                A `pyspark.sql.dataframe.DataFrame` with the project's data.\n",
    "            `inputCols`: List[str]\n",
    "                A list with the categorical columns names.    \n",
    "            `target`: str\n",
    "                The `dataset`'s target name.\n",
    "            \n",
    "            Returns\n",
    "            -------\n",
    "            A dictionary mapping the categorical columns' names to the DataFrame that stores the classes proportions.\n",
    "        '''\n",
    "        defaultProportions = {}\n",
    "        len_df = dataset.count()\n",
    "        for c in input_cols:\n",
    "            col_prop = c+'_NPL_PROP'\n",
    "            df_gb = dataset.groupBy([c, target]).count()\n",
    "            df_props = (df_gb\n",
    "                        .where(f'{target}==1')\n",
    "                        .withColumn(col_prop, (col('count')/len_df)\n",
    "                        .cast(DecimalType(8,7)))\n",
    "                        .select([c, col_prop]))\n",
    "            defaultProportions[c] = df_props\n",
    "        return defaultProportions\n",
    "            \n",
    "    def _fit(self, dataset:DataFrame, target:str='NPL')->DefaultProportionsModel:\n",
    "        '''\n",
    "            Measures the proportions of indebted individuals from each dataset's categorical columns.\n",
    "            \n",
    "            Parameters\n",
    "            ---------\n",
    "            `dataset`: DataFrame\n",
    "                A `pyspark.sql.dataframe.DataFrame` with the project's data.   \n",
    "            `target`: str\n",
    "                The `dataset`'s target name.\n",
    "                \n",
    "            Returns\n",
    "            -------\n",
    "            A fitted DefaultProportionsModel ready for transforming the dataset.\n",
    "        '''\n",
    "        x = self.getInputCols()\n",
    "        defaultProportions = self.__measure_proportions(dataset, x, target)\n",
    "        return DefaultProportionsModel(inputCols=x, defaultProportions=defaultProportions)"
   ]
  },
  {
   "cell_type": "code",
   "execution_count": 45,
   "id": "dbf65c5f",
   "metadata": {
    "execution": {
     "iopub.execute_input": "2024-03-21T23:33:08.106921Z",
     "iopub.status.busy": "2024-03-21T23:33:08.106529Z",
     "iopub.status.idle": "2024-03-21T23:33:08.112131Z",
     "shell.execute_reply": "2024-03-21T23:33:08.111100Z"
    },
    "papermill": {
     "duration": 0.045421,
     "end_time": "2024-03-21T23:33:08.114082",
     "exception": false,
     "start_time": "2024-03-21T23:33:08.068661",
     "status": "completed"
    },
    "tags": []
   },
   "outputs": [],
   "source": [
    "# Finally, we can insert both custom classes inside a pyspark pipeline!\n",
    "impute_occupation = ImputeOccupation(inputCol='OCCUPATION_TYPE')\n",
    "default_prop = DefaultProportions(inputCols=list_col_strings[1:])\n",
    "\n",
    "# Creating the pipe.\n",
    "pipe1 = Pipeline(stages=[impute_occupation, default_prop])"
   ]
  },
  {
   "cell_type": "code",
   "execution_count": 46,
   "id": "8e44e50a",
   "metadata": {
    "execution": {
     "iopub.execute_input": "2024-03-21T23:33:08.188731Z",
     "iopub.status.busy": "2024-03-21T23:33:08.188293Z",
     "iopub.status.idle": "2024-03-21T23:33:08.303431Z",
     "shell.execute_reply": "2024-03-21T23:33:08.302621Z"
    },
    "papermill": {
     "duration": 0.156902,
     "end_time": "2024-03-21T23:33:08.306634",
     "exception": false,
     "start_time": "2024-03-21T23:33:08.149732",
     "status": "completed"
    },
    "tags": []
   },
   "outputs": [
    {
     "name": "stdout",
     "output_type": "stream",
     "text": [
      "+-----------+------------+---------------+------------+----------------+----------------+--------------------+------------------+-----------------+----------+-------------+----------+---------------+----------+----------+---------------+---------------+---+\n",
      "|CODE_GENDER|FLAG_OWN_CAR|FLAG_OWN_REALTY|CNT_CHILDREN|AMT_INCOME_TOTAL|NAME_INCOME_TYPE| NAME_EDUCATION_TYPE|NAME_FAMILY_STATUS|NAME_HOUSING_TYPE|DAYS_BIRTH|DAYS_EMPLOYED|FLAG_MOBIL|FLAG_WORK_PHONE|FLAG_PHONE|FLAG_EMAIL|CNT_FAM_MEMBERS|OCCUPATION_TYPE|NPL|\n",
      "+-----------+------------+---------------+------------+----------------+----------------+--------------------+------------------+-----------------+----------+-------------+----------+---------------+----------+----------+---------------+---------------+---+\n",
      "|          F|           N|              N|           0|         67500.0|         Working|Secondary / secon...|           Married|House / apartment|    -20075|        -7013|         1|              1|         1|         0|            2.0|    Sales staff|  0|\n",
      "|          F|           N|              N|           0|        112500.0|         Working|Secondary / secon...|           Married|House / apartment|     -9865|         -196|         1|              1|         0|         0|            2.0|       Laborers|  0|\n",
      "|          F|           N|              N|           0|        135000.0|   State servant|    Higher education|           Married|House / apartment|    -12490|        -1191|         1|              1|         1|         0|            2.0|     Core staff|  0|\n",
      "|          F|           N|              N|           0|        157500.0|       Pensioner|Secondary / secon...|           Married|House / apartment|    -22828|       365243|         1|              0|         0|         0|            2.0|     Unemployed|  0|\n",
      "|          F|           N|              N|           0|        157500.0|         Working|   Incomplete higher|           Married|House / apartment|    -16888|        -2687|         1|              0|         0|         0|            2.0|     Core staff|  0|\n",
      "+-----------+------------+---------------+------------+----------------+----------------+--------------------+------------------+-----------------+----------+-------------+----------+---------------+----------+----------+---------------+---------------+---+\n",
      "only showing top 5 rows\n",
      "\n"
     ]
    }
   ],
   "source": [
    "# We can discard the ID_CLIENT column, since it has no predictive value.\n",
    "train = train.drop('ID_CLIENT')\n",
    "train.show(5)"
   ]
  },
  {
   "cell_type": "markdown",
   "id": "a912487e",
   "metadata": {
    "papermill": {
     "duration": 0.035523,
     "end_time": "2024-03-21T23:33:08.396891",
     "exception": false,
     "start_time": "2024-03-21T23:33:08.361368",
     "status": "completed"
    },
    "tags": []
   },
   "source": [
    "<h3 style='font-size:30px;font-style:italic'> Imputing and Standardization</h3>\n",
    "<div> \n",
    "    <ul style='font-size:20px'> \n",
    "        <li>   \n",
    "            As a last step, we also need to guarantee that our instances will have no NULL values. I'll use standardization (...)\n",
    "        </li>\n",
    "    </ul>\n",
    "</div>"
   ]
  },
  {
   "cell_type": "code",
   "execution_count": 47,
   "id": "3147c40f",
   "metadata": {
    "execution": {
     "iopub.execute_input": "2024-03-21T23:33:08.470138Z",
     "iopub.status.busy": "2024-03-21T23:33:08.469611Z",
     "iopub.status.idle": "2024-03-21T23:33:08.518777Z",
     "shell.execute_reply": "2024-03-21T23:33:08.517883Z"
    },
    "papermill": {
     "duration": 0.088535,
     "end_time": "2024-03-21T23:33:08.521245",
     "exception": false,
     "start_time": "2024-03-21T23:33:08.432710",
     "status": "completed"
    },
    "tags": []
   },
   "outputs": [],
   "source": [
    "# With all our features properly in numerical format, we can add a second Pipeline that handles imputing and standardization.\n",
    "from pyspark.ml.feature import Imputer, StandardScaler, VectorAssembler\n",
    "\n",
    "list_features = [c for c in train.columns if c!='NPL']\n",
    "imputer = Imputer(inputCols=list_features, outputCols=list_features)\n",
    "\n",
    "vector_assembler = VectorAssembler(inputCols=list_features, outputCol='features', handleInvalid='skip')\n",
    "scaler = StandardScaler(inputCol='features', outputCol='scaled_features', withMean=True)\n",
    "pipe2 = Pipeline(stages=[imputer, vector_assembler, scaler])"
   ]
  },
  {
   "cell_type": "code",
   "execution_count": 48,
   "id": "cfa820a2",
   "metadata": {
    "execution": {
     "iopub.execute_input": "2024-03-21T23:33:08.594699Z",
     "iopub.status.busy": "2024-03-21T23:33:08.594285Z",
     "iopub.status.idle": "2024-03-21T23:33:08.599640Z",
     "shell.execute_reply": "2024-03-21T23:33:08.598493Z"
    },
    "papermill": {
     "duration": 0.044589,
     "end_time": "2024-03-21T23:33:08.601732",
     "exception": false,
     "start_time": "2024-03-21T23:33:08.557143",
     "status": "completed"
    },
    "tags": []
   },
   "outputs": [],
   "source": [
    "pipe = Pipeline(stages=[pipe1, pipe2])"
   ]
  },
  {
   "cell_type": "code",
   "execution_count": 49,
   "id": "75d1756d",
   "metadata": {
    "execution": {
     "iopub.execute_input": "2024-03-21T23:33:08.675268Z",
     "iopub.status.busy": "2024-03-21T23:33:08.674879Z",
     "iopub.status.idle": "2024-03-21T23:33:08.680494Z",
     "shell.execute_reply": "2024-03-21T23:33:08.679343Z"
    },
    "papermill": {
     "duration": 0.044773,
     "end_time": "2024-03-21T23:33:08.682664",
     "exception": false,
     "start_time": "2024-03-21T23:33:08.637891",
     "status": "completed"
    },
    "tags": []
   },
   "outputs": [],
   "source": [
    "a = pipe1.copy()"
   ]
  },
  {
   "cell_type": "code",
   "execution_count": 50,
   "id": "a3d3f7d4",
   "metadata": {
    "execution": {
     "iopub.execute_input": "2024-03-21T23:33:08.755825Z",
     "iopub.status.busy": "2024-03-21T23:33:08.755439Z",
     "iopub.status.idle": "2024-03-21T23:33:12.992834Z",
     "shell.execute_reply": "2024-03-21T23:33:12.988842Z"
    },
    "papermill": {
     "duration": 4.278121,
     "end_time": "2024-03-21T23:33:12.996769",
     "exception": false,
     "start_time": "2024-03-21T23:33:08.718648",
     "status": "completed"
    },
    "tags": []
   },
   "outputs": [
    {
     "name": "stderr",
     "output_type": "stream",
     "text": [
      "                                                                                \r"
     ]
    },
    {
     "name": "stdout",
     "output_type": "stream",
     "text": [
      "+------------+----------------+----------+-------------+---------------+---+--------------------+---------------------+------------------------+-------------------------+----------------------------+---------------------------+--------------------------+-------------------+------------------------+-------------------+-------------------+------------------------+\n",
      "|CNT_CHILDREN|AMT_INCOME_TOTAL|DAYS_BIRTH|DAYS_EMPLOYED|CNT_FAM_MEMBERS|NPL|CODE_GENDER_NPL_PROP|FLAG_OWN_CAR_NPL_PROP|FLAG_OWN_REALTY_NPL_PROP|NAME_INCOME_TYPE_NPL_PROP|NAME_EDUCATION_TYPE_NPL_PROP|NAME_FAMILY_STATUS_NPL_PROP|NAME_HOUSING_TYPE_NPL_PROP|FLAG_MOBIL_NPL_PROP|FLAG_WORK_PHONE_NPL_PROP|FLAG_PHONE_NPL_PROP|FLAG_EMAIL_NPL_PROP|OCCUPATION_TYPE_NPL_PROP|\n",
      "+------------+----------------+----------+-------------+---------------+---+--------------------+---------------------+------------------------+-------------------------+----------------------------+---------------------------+--------------------------+-------------------+------------------------+-------------------+-------------------+------------------------+\n",
      "|           0|         67500.0|    -20075|        -7013|            2.0|  0|           0.0139699|            0.0153262|               0.0096297|                0.0104435|                   0.0147837|                  0.0160043|                 0.0200732|          0.0233284|               0.0059677|          0.0078665|          0.0214295|               0.0017632|\n",
      "|           0|        112500.0|     -9865|         -196|            2.0|  0|           0.0139699|            0.0153262|               0.0096297|                0.0104435|                   0.0147837|                  0.0160043|                 0.0200732|          0.0233284|               0.0059677|          0.0154618|          0.0214295|               0.0036620|\n",
      "|           0|        135000.0|    -12490|        -1191|            2.0|  0|           0.0139699|            0.0153262|               0.0096297|                0.0018988|                   0.0063746|                  0.0160043|                 0.0200732|          0.0233284|               0.0059677|          0.0078665|          0.0214295|               0.0032551|\n",
      "|           0|        157500.0|    -22828|       365243|            2.0|  0|           0.0139699|            0.0153262|               0.0096297|                0.0048827|                   0.0147837|                  0.0160043|                 0.0200732|          0.0233284|               0.0173606|          0.0154618|          0.0214295|               0.0042045|\n",
      "|           0|        157500.0|    -16888|        -2687|            2.0|  0|           0.0139699|            0.0153262|               0.0096297|                0.0104435|                   0.0014919|                  0.0160043|                 0.0200732|          0.0233284|               0.0173606|          0.0154618|          0.0214295|               0.0032551|\n",
      "+------------+----------------+----------+-------------+---------------+---+--------------------+---------------------+------------------------+-------------------------+----------------------------+---------------------------+--------------------------+-------------------+------------------------+-------------------+-------------------+------------------------+\n",
      "only showing top 5 rows\n",
      "\n"
     ]
    }
   ],
   "source": [
    "a.fit(train).transform(train).show(5)"
   ]
  },
  {
   "cell_type": "markdown",
   "id": "5e47141f",
   "metadata": {
    "papermill": {
     "duration": 0.066942,
     "end_time": "2024-03-21T23:33:13.151343",
     "exception": false,
     "start_time": "2024-03-21T23:33:13.084401",
     "status": "completed"
    },
    "tags": []
   },
   "source": [
    "<p style='color:red'>  train_test_split antes da padronização e imputing: Pipeline oficial feita com aninhamentos de pipelines? (Ver esquema do papel) </p>"
   ]
  }
 ],
 "metadata": {
  "kaggle": {
   "accelerator": "none",
   "dataSources": [
    {
     "datasetId": 426827,
     "sourceId": 1031720,
     "sourceType": "datasetVersion"
    },
    {
     "datasetId": 3941029,
     "sourceId": 6856406,
     "sourceType": "datasetVersion"
    },
    {
     "datasetId": 3950752,
     "sourceId": 6875350,
     "sourceType": "datasetVersion"
    },
    {
     "datasetId": 3950750,
     "sourceId": 7372877,
     "sourceType": "datasetVersion"
    }
   ],
   "dockerImageVersionId": 30558,
   "isGpuEnabled": false,
   "isInternetEnabled": true,
   "language": "python",
   "sourceType": "notebook"
  },
  "kernelspec": {
   "display_name": "Python 3",
   "language": "python",
   "name": "python3"
  },
  "language_info": {
   "codemirror_mode": {
    "name": "ipython",
    "version": 3
   },
   "file_extension": ".py",
   "mimetype": "text/x-python",
   "name": "python",
   "nbconvert_exporter": "python",
   "pygments_lexer": "ipython3",
   "version": "3.10.12"
  },
  "papermill": {
   "default_parameters": {},
   "duration": 370.567581,
   "end_time": "2024-03-21T23:33:15.830093",
   "environment_variables": {},
   "exception": null,
   "input_path": "__notebook__.ipynb",
   "output_path": "__notebook__.ipynb",
   "parameters": {},
   "start_time": "2024-03-21T23:27:05.262512",
   "version": "2.4.0"
  }
 },
 "nbformat": 4,
 "nbformat_minor": 5
}
