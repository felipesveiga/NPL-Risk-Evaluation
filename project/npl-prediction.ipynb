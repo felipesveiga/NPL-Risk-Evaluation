{
 "cells": [
  {
   "cell_type": "markdown",
   "id": "51495925",
   "metadata": {
    "papermill": {
     "duration": 0.023454,
     "end_time": "2024-04-11T22:26:07.202777",
     "exception": false,
     "start_time": "2024-04-11T22:26:07.179323",
     "status": "completed"
    },
    "tags": []
   },
   "source": [
    "<h1 style='font-size:40px'> NPL Risk Evaluation Modeling</h1>\n",
    "<div style='font-size:20px'> \n",
    "    <ul> \n",
    "        <li> \n",
    "            This project aims the conceiving of a Machine Learning Model focused on assisting a bank on its credit approval strategy.\n",
    "        </li>\n",
    "        <li> \n",
    "            The corporation has been scolded for its recent NPL levels by its shareholders. Thus, the executive team has decided that a more conservative \n",
    "            credit strategy must be adopted for new contracts.\n",
    "        </li>\n",
    "        <li> \n",
    "            During the planning meetings, the business team has made two major requests concerning the nature of the model.\n",
    "            <ul style='list-style-type:decimal'> \n",
    "                <li> \n",
    "                    It must be focused on predicting whether a given client might produce an NPL in the future.\n",
    "                </li>\n",
    "                <li> \n",
    "                    The output must be some kind of score suggesting the likelihood of the event to happen. They are not looking for \n",
    "                    an incisive \"yes or no\" answer.\n",
    "                </li>\n",
    "            </ul>\n",
    "        </li>\n",
    "    </ul>\n",
    "    <p style='margin-left:30px'> <strong> Note:</strong> The bank's NPL definition is any loan which payment is at least 90 days late.</p>\n",
    "</div>"
   ]
  },
  {
   "cell_type": "markdown",
   "id": "d620186f",
   "metadata": {
    "papermill": {
     "duration": 0.022397,
     "end_time": "2024-04-11T22:26:07.249414",
     "exception": false,
     "start_time": "2024-04-11T22:26:07.227017",
     "status": "completed"
    },
    "tags": []
   },
   "source": [
    "<h2 style='font-size:30px'> Data Importing</h2>\n",
    "<div> \n",
    "    <ul style='font-size:20px'> \n",
    "        <li> \n",
    "            The Data Engineers were able to provide two .csv views from the bank's database. The first one contains general information over the clients \n",
    "            and the second lists the loans they've contracted over some period of time.\n",
    "        </li>\n",
    "    </ul>\n",
    "</div>"
   ]
  },
  {
   "cell_type": "code",
   "execution_count": 1,
   "id": "822e3318",
   "metadata": {
    "execution": {
     "iopub.execute_input": "2024-04-11T22:26:07.299514Z",
     "iopub.status.busy": "2024-04-11T22:26:07.297858Z",
     "iopub.status.idle": "2024-04-11T22:27:05.884486Z",
     "shell.execute_reply": "2024-04-11T22:27:05.882673Z"
    },
    "papermill": {
     "duration": 58.614355,
     "end_time": "2024-04-11T22:27:05.887485",
     "exception": false,
     "start_time": "2024-04-11T22:26:07.273130",
     "status": "completed"
    },
    "tags": []
   },
   "outputs": [
    {
     "name": "stdout",
     "output_type": "stream",
     "text": [
      "Collecting pyspark\r\n",
      "  Downloading pyspark-3.5.1.tar.gz (317.0 MB)\r\n",
      "\u001b[2K     \u001b[90m━━━━━━━━━━━━━━━━━━━━━━━━━━━━━━━━━━━━━━━\u001b[0m \u001b[32m317.0/317.0 MB\u001b[0m \u001b[31m3.1 MB/s\u001b[0m eta \u001b[36m0:00:00\u001b[0m\r\n",
      "\u001b[?25h  Preparing metadata (setup.py) ... \u001b[?25l-\b \bdone\r\n",
      "\u001b[?25hRequirement already satisfied: py4j==0.10.9.7 in /opt/conda/lib/python3.10/site-packages (from pyspark) (0.10.9.7)\r\n",
      "Building wheels for collected packages: pyspark\r\n",
      "  Building wheel for pyspark (setup.py) ... \u001b[?25l-\b \b\\\b \b|\b \bdone\r\n",
      "\u001b[?25h  Created wheel for pyspark: filename=pyspark-3.5.1-py2.py3-none-any.whl size=317488497 sha256=0fdf637a513d93d1115bb47a75eb2e7a4f62e5f15f3d325aad88240160249b04\r\n",
      "  Stored in directory: /root/.cache/pip/wheels/80/1d/60/2c256ed38dddce2fdd93be545214a63e02fbd8d74fb0b7f3a6\r\n",
      "Successfully built pyspark\r\n",
      "Installing collected packages: pyspark\r\n",
      "Successfully installed pyspark-3.5.1\r\n",
      "Note: you may need to restart the kernel to use updated packages.\n"
     ]
    }
   ],
   "source": [
    "pip install pyspark"
   ]
  },
  {
   "cell_type": "code",
   "execution_count": 2,
   "id": "bc8bb301",
   "metadata": {
    "execution": {
     "iopub.execute_input": "2024-04-11T22:27:05.960591Z",
     "iopub.status.busy": "2024-04-11T22:27:05.960090Z",
     "iopub.status.idle": "2024-04-11T22:27:12.302637Z",
     "shell.execute_reply": "2024-04-11T22:27:12.301368Z"
    },
    "papermill": {
     "duration": 6.383125,
     "end_time": "2024-04-11T22:27:12.305475",
     "exception": false,
     "start_time": "2024-04-11T22:27:05.922350",
     "status": "completed"
    },
    "tags": []
   },
   "outputs": [
    {
     "name": "stderr",
     "output_type": "stream",
     "text": [
      "Setting default log level to \"WARN\".\n",
      "To adjust logging level use sc.setLogLevel(newLevel). For SparkR, use setLogLevel(newLevel).\n",
      "24/04/11 22:27:10 WARN NativeCodeLoader: Unable to load native-hadoop library for your platform... using builtin-java classes where applicable\n"
     ]
    },
    {
     "data": {
      "text/html": [
       "<style>pre { white-space: pre !important; }</style>"
      ],
      "text/plain": [
       "<IPython.core.display.HTML object>"
      ]
     },
     "metadata": {},
     "output_type": "display_data"
    }
   ],
   "source": [
    "from pyspark import SparkContext\n",
    "from pyspark.sql import SparkSession\n",
    "from IPython.core.display import HTML\n",
    "\n",
    "# Creating the project's SparkSession.\n",
    "spark = SparkSession.builder.appName('NPL').getOrCreate()\n",
    "\n",
    "# Also, modifying the session's log level.\n",
    "log_level = spark.sparkContext.setLogLevel('ERROR')\n",
    "\n",
    "# This tiny config enables us to scroll along the DataFrame's columns.\n",
    "display(HTML(\"<style>pre { white-space: pre !important; }</style>\"))"
   ]
  },
  {
   "cell_type": "markdown",
   "id": "d923bebc",
   "metadata": {
    "execution": {
     "iopub.execute_input": "2023-08-15T16:05:33.192895Z",
     "iopub.status.busy": "2023-08-15T16:05:33.192467Z",
     "iopub.status.idle": "2023-08-15T16:05:34.343874Z",
     "shell.execute_reply": "2023-08-15T16:05:34.342739Z",
     "shell.execute_reply.started": "2023-08-15T16:05:33.192858Z"
    },
    "papermill": {
     "duration": 0.035187,
     "end_time": "2024-04-11T22:27:12.378109",
     "exception": false,
     "start_time": "2024-04-11T22:27:12.342922",
     "status": "completed"
    },
    "tags": []
   },
   "source": [
    "<h3 style='font-size:30px;font-style:italic'> Clients Database</h3>\n",
    "<div> \n",
    "    <ul style='font-size:20px'> \n",
    "        <li> \n",
    "            This dataset is comprised of general information about the loans' clients.\n",
    "        </li>    \n",
    "        <li> \n",
    "            A particularity worth noting is that date columns show the negative amount of days since the given event took place. Positive numbers \n",
    "            indicate the number of days since the occurence ceased to exist - as it might happen with unemployed borrowers in the DAYS_EMPLOYED feature.\n",
    "        </li>\n",
    "    </ul>\n",
    "</div>"
   ]
  },
  {
   "cell_type": "code",
   "execution_count": 3,
   "id": "c537d2e5",
   "metadata": {
    "execution": {
     "iopub.execute_input": "2024-04-11T22:27:12.454987Z",
     "iopub.status.busy": "2024-04-11T22:27:12.454020Z",
     "iopub.status.idle": "2024-04-11T22:27:20.062492Z",
     "shell.execute_reply": "2024-04-11T22:27:20.060481Z"
    },
    "papermill": {
     "duration": 7.65093,
     "end_time": "2024-04-11T22:27:20.065568",
     "exception": false,
     "start_time": "2024-04-11T22:27:12.414638",
     "status": "completed"
    },
    "tags": []
   },
   "outputs": [
    {
     "name": "stderr",
     "output_type": "stream",
     "text": [
      "                                                                                \r"
     ]
    },
    {
     "name": "stdout",
     "output_type": "stream",
     "text": [
      "+-------+-----------+------------+---------------+------------+----------------+--------------------+--------------------+--------------------+-----------------+----------+-------------+----------+---------------+----------+----------+---------------+---------------+\n",
      "|     ID|CODE_GENDER|FLAG_OWN_CAR|FLAG_OWN_REALTY|CNT_CHILDREN|AMT_INCOME_TOTAL|    NAME_INCOME_TYPE| NAME_EDUCATION_TYPE|  NAME_FAMILY_STATUS|NAME_HOUSING_TYPE|DAYS_BIRTH|DAYS_EMPLOYED|FLAG_MOBIL|FLAG_WORK_PHONE|FLAG_PHONE|FLAG_EMAIL|OCCUPATION_TYPE|CNT_FAM_MEMBERS|\n",
      "+-------+-----------+------------+---------------+------------+----------------+--------------------+--------------------+--------------------+-----------------+----------+-------------+----------+---------------+----------+----------+---------------+---------------+\n",
      "|5008804|          M|           Y|              Y|           0|        427500.0|             Working|    Higher education|      Civil marriage| Rented apartment|    -12005|        -4542|         1|              1|         0|         0|           NULL|            2.0|\n",
      "|5008805|          M|           Y|              Y|           0|        427500.0|             Working|    Higher education|      Civil marriage| Rented apartment|    -12005|        -4542|         1|              1|         0|         0|           NULL|            2.0|\n",
      "|5008806|          M|           Y|              Y|           0|        112500.0|             Working|Secondary / secon...|             Married|House / apartment|    -21474|        -1134|         1|              0|         0|         0| Security staff|            2.0|\n",
      "|5008808|          F|           N|              Y|           0|        270000.0|Commercial associate|Secondary / secon...|Single / not married|House / apartment|    -19110|        -3051|         1|              0|         1|         1|    Sales staff|            1.0|\n",
      "|5008809|          F|           N|              Y|           0|        270000.0|Commercial associate|Secondary / secon...|Single / not married|House / apartment|    -19110|        -3051|         1|              0|         1|         1|    Sales staff|            1.0|\n",
      "+-------+-----------+------------+---------------+------------+----------------+--------------------+--------------------+--------------------+-----------------+----------+-------------+----------+---------------+----------+----------+---------------+---------------+\n",
      "only showing top 5 rows\n",
      "\n"
     ]
    }
   ],
   "source": [
    "path_clients = '/kaggle/input/credit-card-approval-prediction/application_record.csv'\n",
    "\n",
    "# Defining the data types from the clients dataset.\n",
    "schema_clients = '''\n",
    "`ID` STRING, `CODE_GENDER` STRING, `FLAG_OWN_CAR` STRING, `FLAG_OWN_REALTY` STRING, `CNT_CHILDREN` INT,\n",
    "`AMT_INCOME_TOTAL` FLOAT, `NAME_INCOME_TYPE` STRING, `NAME_EDUCATION_TYPE` STRING, `NAME_FAMILY_STATUS` STRING, `NAME_HOUSING_TYPE` STRING,\n",
    "`DAYS_BIRTH` INT, `DAYS_EMPLOYED` INT, `FLAG_MOBIL` STRING, `FLAG_WORK_PHONE` STRING, `FLAG_PHONE` STRING, `FLAG_EMAIL` STRING, \n",
    "`OCCUPATION_TYPE` STRING, `CNT_FAM_MEMBERS` DOUBLE\n",
    "'''\n",
    "\n",
    "# Reading the database with the created schema.\n",
    "df_clients = spark.read.csv(path_clients, header=True, schema=schema_clients)\n",
    "df_clients.show(5)"
   ]
  },
  {
   "cell_type": "markdown",
   "id": "10dc501d",
   "metadata": {
    "papermill": {
     "duration": 0.036489,
     "end_time": "2024-04-11T22:27:20.212499",
     "exception": false,
     "start_time": "2024-04-11T22:27:20.176010",
     "status": "completed"
    },
    "tags": []
   },
   "source": [
    "<h4 style='font-size:30px;font-style:italic;text-decoration:underline'> Duplicates Disclaimer</h4>\n",
    "<div> \n",
    "    <ul style='font-size:20px'> \n",
    "        <li> \n",
    "             Clients may not have unique rows in the dataset because the ID column identifies a contracted loan instead of a person.\n",
    "        </li>\n",
    "        <li> \n",
    "            Thus, I've found convenient for the project to create an ID column that assigns a code for each of the clients.\n",
    "        </li>\n",
    "    </ul>\n",
    "</div>"
   ]
  },
  {
   "cell_type": "code",
   "execution_count": 4,
   "id": "986e1bf6",
   "metadata": {
    "execution": {
     "iopub.execute_input": "2024-04-11T22:27:20.287608Z",
     "iopub.status.busy": "2024-04-11T22:27:20.287192Z",
     "iopub.status.idle": "2024-04-11T22:27:24.377496Z",
     "shell.execute_reply": "2024-04-11T22:27:24.376048Z"
    },
    "papermill": {
     "duration": 4.132421,
     "end_time": "2024-04-11T22:27:24.382621",
     "exception": false,
     "start_time": "2024-04-11T22:27:20.250200",
     "status": "completed"
    },
    "tags": []
   },
   "outputs": [
    {
     "name": "stderr",
     "output_type": "stream",
     "text": [
      "[Stage 1:>                                                          (0 + 4) / 4]\r"
     ]
    },
    {
     "name": "stdout",
     "output_type": "stream",
     "text": [
      "+-------+-----+\n",
      "|     ID|count|\n",
      "+-------+-----+\n",
      "|7742298|    2|\n",
      "|7174719|    2|\n",
      "|7091721|    2|\n",
      "|7089090|    2|\n",
      "|7022197|    2|\n",
      "+-------+-----+\n",
      "only showing top 5 rows\n",
      "\n"
     ]
    },
    {
     "name": "stderr",
     "output_type": "stream",
     "text": [
      "                                                                                \r"
     ]
    }
   ],
   "source": [
    "# Another issue unnoticed by the Data Engineers is that the database contains repeated Loan ID's.\n",
    "from pyspark.sql.functions import max as ps_max\n",
    "\n",
    "# Observe that there are Loans mentioned two times. It would be proper to disconsider them. \n",
    "data_duplicate_id = (df_clients\n",
    "                     .groupBy('ID')\n",
    "                     .count()\n",
    "                     .filter('`count`>1')\n",
    "                            )\n",
    "data_duplicate_id.show(5)"
   ]
  },
  {
   "cell_type": "code",
   "execution_count": 5,
   "id": "471a223c",
   "metadata": {
    "execution": {
     "iopub.execute_input": "2024-04-11T22:27:24.486512Z",
     "iopub.status.busy": "2024-04-11T22:27:24.486007Z",
     "iopub.status.idle": "2024-04-11T22:27:26.763362Z",
     "shell.execute_reply": "2024-04-11T22:27:26.762148Z"
    },
    "papermill": {
     "duration": 2.33107,
     "end_time": "2024-04-11T22:27:26.766027",
     "exception": false,
     "start_time": "2024-04-11T22:27:24.434957",
     "status": "completed"
    },
    "tags": []
   },
   "outputs": [
    {
     "name": "stderr",
     "output_type": "stream",
     "text": [
      "[Stage 5:===================>                                       (1 + 2) / 3]\r"
     ]
    },
    {
     "name": "stdout",
     "output_type": "stream",
     "text": [
      "+-------+-----------+------------+---------------+------------+----------------+----------------+--------------------+------------------+-----------------+----------+-------------+----------+---------------+----------+----------+---------------+---------------+\n",
      "|     ID|CODE_GENDER|FLAG_OWN_CAR|FLAG_OWN_REALTY|CNT_CHILDREN|AMT_INCOME_TOTAL|NAME_INCOME_TYPE| NAME_EDUCATION_TYPE|NAME_FAMILY_STATUS|NAME_HOUSING_TYPE|DAYS_BIRTH|DAYS_EMPLOYED|FLAG_MOBIL|FLAG_WORK_PHONE|FLAG_PHONE|FLAG_EMAIL|OCCUPATION_TYPE|CNT_FAM_MEMBERS|\n",
      "+-------+-----------+------------+---------------+------------+----------------+----------------+--------------------+------------------+-----------------+----------+-------------+----------+---------------+----------+----------+---------------+---------------+\n",
      "|7742298|          F|           N|              Y|           0|        144000.0|         Working|Secondary / secon...|             Widow|House / apartment|    -20626|        -1455|         1|              0|         0|         0|  Cooking staff|            1.0|\n",
      "|7742298|          M|           N|              N|           0|        112500.0|         Working|Secondary / secon...|           Married|House / apartment|    -18239|        -5428|         1|              1|         0|         0|           NULL|            2.0|\n",
      "+-------+-----------+------------+---------------+------------+----------------+----------------+--------------------+------------------+-----------------+----------+-------------+----------+---------------+----------+----------+---------------+---------------+\n",
      "\n"
     ]
    },
    {
     "name": "stderr",
     "output_type": "stream",
     "text": [
      "                                                                                \r"
     ]
    }
   ],
   "source": [
    "# If we take a peek on the first mentioned ID, we can notice that the presented loan actually is assigned to two different people!\n",
    "\n",
    "# Thus, the presence of such deals is potentially harmful to our model. It would be sensible to discard such ID's from the database.\n",
    "df_clients.filter('`ID`==7742298').show()"
   ]
  },
  {
   "cell_type": "code",
   "execution_count": 6,
   "id": "6c443ae5",
   "metadata": {
    "execution": {
     "iopub.execute_input": "2024-04-11T22:27:26.839958Z",
     "iopub.status.busy": "2024-04-11T22:27:26.839537Z",
     "iopub.status.idle": "2024-04-11T22:27:26.954372Z",
     "shell.execute_reply": "2024-04-11T22:27:26.953090Z"
    },
    "papermill": {
     "duration": 0.155716,
     "end_time": "2024-04-11T22:27:26.957875",
     "exception": false,
     "start_time": "2024-04-11T22:27:26.802159",
     "status": "completed"
    },
    "tags": []
   },
   "outputs": [],
   "source": [
    "# Dropping out the problematic loans.\n",
    "df_clients = data_duplicate_id.join(df_clients, how='right', on='ID').where('`count` IS NULL').drop('count')"
   ]
  },
  {
   "cell_type": "code",
   "execution_count": 7,
   "id": "798aec43",
   "metadata": {
    "execution": {
     "iopub.execute_input": "2024-04-11T22:27:27.066783Z",
     "iopub.status.busy": "2024-04-11T22:27:27.066166Z",
     "iopub.status.idle": "2024-04-11T22:27:27.107133Z",
     "shell.execute_reply": "2024-04-11T22:27:27.105981Z"
    },
    "papermill": {
     "duration": 0.100031,
     "end_time": "2024-04-11T22:27:27.110257",
     "exception": false,
     "start_time": "2024-04-11T22:27:27.010226",
     "status": "completed"
    },
    "tags": []
   },
   "outputs": [
    {
     "data": {
      "text/plain": [
       "['CODE_GENDER',\n",
       " 'FLAG_OWN_CAR',\n",
       " 'FLAG_OWN_REALTY',\n",
       " 'CNT_CHILDREN',\n",
       " 'AMT_INCOME_TOTAL',\n",
       " 'NAME_INCOME_TYPE',\n",
       " 'NAME_EDUCATION_TYPE',\n",
       " 'NAME_FAMILY_STATUS',\n",
       " 'NAME_HOUSING_TYPE',\n",
       " 'DAYS_BIRTH',\n",
       " 'DAYS_EMPLOYED',\n",
       " 'FLAG_MOBIL',\n",
       " 'FLAG_WORK_PHONE',\n",
       " 'FLAG_PHONE',\n",
       " 'FLAG_EMAIL',\n",
       " 'OCCUPATION_TYPE',\n",
       " 'CNT_FAM_MEMBERS']"
      ]
     },
     "execution_count": 7,
     "metadata": {},
     "output_type": "execute_result"
    }
   ],
   "source": [
    "# Listing the `df_clients` features with the exception of ID.\n",
    "features_clients = df_clients.columns\n",
    "features_clients.remove('ID')\n",
    "features_clients"
   ]
  },
  {
   "cell_type": "code",
   "execution_count": 8,
   "id": "22640681",
   "metadata": {
    "execution": {
     "iopub.execute_input": "2024-04-11T22:27:27.217034Z",
     "iopub.status.busy": "2024-04-11T22:27:27.216610Z",
     "iopub.status.idle": "2024-04-11T22:27:37.232562Z",
     "shell.execute_reply": "2024-04-11T22:27:37.227031Z"
    },
    "papermill": {
     "duration": 10.073827,
     "end_time": "2024-04-11T22:27:37.236673",
     "exception": false,
     "start_time": "2024-04-11T22:27:27.162846",
     "status": "completed"
    },
    "tags": []
   },
   "outputs": [
    {
     "name": "stderr",
     "output_type": "stream",
     "text": [
      "                                                                                \r"
     ]
    },
    {
     "name": "stdout",
     "output_type": "stream",
     "text": [
      "`df_clients` length: 438463\n"
     ]
    },
    {
     "name": "stderr",
     "output_type": "stream",
     "text": [
      "[Stage 15:===========================================>              (3 + 1) / 4]\r"
     ]
    },
    {
     "name": "stdout",
     "output_type": "stream",
     "text": [
      "Number of clients: 90084\n"
     ]
    },
    {
     "name": "stderr",
     "output_type": "stream",
     "text": [
      "                                                                                \r"
     ]
    }
   ],
   "source": [
    "# Now, getting back to the Client's ID issue, I'd like to present a brief analysis on it.\n",
    "# Note that the database's actual amount of clients is lower than its number of rows. \n",
    "data_clients = df_clients.dropDuplicates(features_clients) \n",
    "print(f'`df_clients` length: {df_clients.count()}')\n",
    "print(f'Number of clients: {data_clients.count()}')"
   ]
  },
  {
   "cell_type": "code",
   "execution_count": 9,
   "id": "f77fc6fb",
   "metadata": {
    "execution": {
     "iopub.execute_input": "2024-04-11T22:27:37.328931Z",
     "iopub.status.busy": "2024-04-11T22:27:37.328549Z",
     "iopub.status.idle": "2024-04-11T22:27:37.500495Z",
     "shell.execute_reply": "2024-04-11T22:27:37.499060Z"
    },
    "papermill": {
     "duration": 0.214457,
     "end_time": "2024-04-11T22:27:37.503574",
     "exception": false,
     "start_time": "2024-04-11T22:27:37.289117",
     "status": "completed"
    },
    "tags": []
   },
   "outputs": [],
   "source": [
    "# We'll assign an ID for every client mentioned in `df_clients`. \n",
    "from pyspark.sql.functions import cast, row_number\n",
    "from pyspark.sql.types import StringType\n",
    "from pyspark.sql.window import Window\n",
    "\n",
    "window = Window.orderBy(features_clients)\n",
    "row_window = row_number().over(window)\n",
    "\n",
    "# A DataFrame with the clients' data and actual ID.\n",
    "df_id_clients = data_clients.withColumn('ID_CLIENT', row_window.cast(StringType())).drop('ID')"
   ]
  },
  {
   "cell_type": "code",
   "execution_count": 10,
   "id": "8a90ecf5",
   "metadata": {
    "execution": {
     "iopub.execute_input": "2024-04-11T22:27:37.583135Z",
     "iopub.status.busy": "2024-04-11T22:27:37.582718Z",
     "iopub.status.idle": "2024-04-11T22:27:50.262410Z",
     "shell.execute_reply": "2024-04-11T22:27:50.261107Z"
    },
    "papermill": {
     "duration": 12.724446,
     "end_time": "2024-04-11T22:27:50.266923",
     "exception": false,
     "start_time": "2024-04-11T22:27:37.542477",
     "status": "completed"
    },
    "tags": []
   },
   "outputs": [
    {
     "name": "stderr",
     "output_type": "stream",
     "text": [
      "[Stage 35:>                                                         (0 + 1) / 1]\r"
     ]
    },
    {
     "name": "stdout",
     "output_type": "stream",
     "text": [
      "+-------+-----------+------------+---------------+------------+----------------+----------------+--------------------+------------------+-----------------+----------+-------------+----------+---------------+----------+----------+---------------+---------------+---------+\n",
      "|     ID|CODE_GENDER|FLAG_OWN_CAR|FLAG_OWN_REALTY|CNT_CHILDREN|AMT_INCOME_TOTAL|NAME_INCOME_TYPE| NAME_EDUCATION_TYPE|NAME_FAMILY_STATUS|NAME_HOUSING_TYPE|DAYS_BIRTH|DAYS_EMPLOYED|FLAG_MOBIL|FLAG_WORK_PHONE|FLAG_PHONE|FLAG_EMAIL|OCCUPATION_TYPE|CNT_FAM_MEMBERS|ID_CLIENT|\n",
      "+-------+-----------+------------+---------------+------------+----------------+----------------+--------------------+------------------+-----------------+----------+-------------+----------+---------------+----------+----------+---------------+---------------+---------+\n",
      "|5996382|          F|           N|              N|           0|         28800.0|       Pensioner|Secondary / secon...|           Married|House / apartment|    -20298|       365243|         1|              0|         1|         0|           NULL|            2.0|        7|\n",
      "|5996383|          F|           N|              N|           0|         28800.0|       Pensioner|Secondary / secon...|           Married|House / apartment|    -20298|       365243|         1|              0|         1|         0|           NULL|            2.0|        7|\n",
      "|5996384|          F|           N|              N|           0|         28800.0|       Pensioner|Secondary / secon...|           Married|House / apartment|    -20298|       365243|         1|              0|         1|         0|           NULL|            2.0|        7|\n",
      "|6499066|          F|           N|              N|           0|         29133.0|       Pensioner|Secondary / secon...|           Married|House / apartment|    -20945|       365243|         1|              0|         1|         0|           NULL|            2.0|        8|\n",
      "|6499067|          F|           N|              N|           0|         29133.0|       Pensioner|Secondary / secon...|           Married|House / apartment|    -20945|       365243|         1|              0|         1|         0|           NULL|            2.0|        8|\n",
      "+-------+-----------+------------+---------------+------------+----------------+----------------+--------------------+------------------+-----------------+----------+-------------+----------+---------------+----------+----------+---------------+---------------+---------+\n",
      "only showing top 5 rows\n",
      "\n"
     ]
    },
    {
     "name": "stderr",
     "output_type": "stream",
     "text": [
      "                                                                                \r"
     ]
    }
   ],
   "source": [
    "# We'll need to perform Null Safe JOIN's, since columns such as 'OCCUPATION_TYPE' contain null values.\n",
    "from functools import reduce\n",
    "\n",
    "# Creating the multiple null safe JOIN's condition.\n",
    "condition_id_client = reduce(lambda x,y: x&y, [df_clients[col].eqNullSafe(df_id_clients[col]) for col in features_clients])\n",
    "columns_join_id = ['df_clients.*', 'df_id_clients.ID_CLIENT'] # Listing the output columns.\n",
    "\n",
    "# Consolidating the final clients database.\n",
    "df_clients = (df_clients.alias('df_clients') # Resorting to aliases for both DataFrames present columns with same names.\n",
    "                 .join(df_id_clients.alias('df_id_clients'), condition_id_client)\n",
    "                 .select(columns_join_id))\n",
    "df_clients.show(5)"
   ]
  },
  {
   "cell_type": "markdown",
   "id": "47655fc0",
   "metadata": {
    "execution": {
     "iopub.execute_input": "2023-08-15T16:05:33.192895Z",
     "iopub.status.busy": "2023-08-15T16:05:33.192467Z",
     "iopub.status.idle": "2023-08-15T16:05:34.343874Z",
     "shell.execute_reply": "2023-08-15T16:05:34.342739Z",
     "shell.execute_reply.started": "2023-08-15T16:05:33.192858Z"
    },
    "papermill": {
     "duration": 0.049385,
     "end_time": "2024-04-11T22:27:50.378194",
     "exception": false,
     "start_time": "2024-04-11T22:27:50.328809",
     "status": "completed"
    },
    "tags": []
   },
   "source": [
    "<h3 style='font-size:30px;font-style:italic'> Loans Database</h3>\n",
    "<div> \n",
    "    <ul style='font-size:20px'> \n",
    "        <li> \n",
    "            This table contains the payments records for every loan since its contraction. \n",
    "        </li>\n",
    "        <li> \n",
    "            But in order to the dataset be adequate to our project's intent, two transformations are necessary: first, we need to bring the `ID_CLIENT`\n",
    "            column to it and after that, group the database so that it denounces individuals who've produced an NPL at least once.            \n",
    "        </li>\n",
    "    </ul>\n",
    "</div>"
   ]
  },
  {
   "cell_type": "code",
   "execution_count": 11,
   "id": "02c7c911",
   "metadata": {
    "execution": {
     "iopub.execute_input": "2024-04-11T22:27:50.457570Z",
     "iopub.status.busy": "2024-04-11T22:27:50.457098Z",
     "iopub.status.idle": "2024-04-11T22:27:50.664937Z",
     "shell.execute_reply": "2024-04-11T22:27:50.663779Z"
    },
    "papermill": {
     "duration": 0.25138,
     "end_time": "2024-04-11T22:27:50.668262",
     "exception": false,
     "start_time": "2024-04-11T22:27:50.416882",
     "status": "completed"
    },
    "tags": []
   },
   "outputs": [
    {
     "name": "stdout",
     "output_type": "stream",
     "text": [
      "+-------+--------------+------+\n",
      "|     ID|MONTHS_BALANCE|STATUS|\n",
      "+-------+--------------+------+\n",
      "|5001711|             0|     X|\n",
      "|5001711|            -1|     0|\n",
      "|5001711|            -2|     0|\n",
      "|5001711|            -3|     0|\n",
      "|5001712|             0|     C|\n",
      "+-------+--------------+------+\n",
      "only showing top 5 rows\n",
      "\n"
     ]
    }
   ],
   "source": [
    "# Bringing the dataset into our notebook.\n",
    "path_loans = '/kaggle/input/credit-card-approval-prediction/credit_record.csv'\n",
    "schema_loans = '`ID` STRING, `MONTHS_BALANCE` INT, `STATUS` STRING'\n",
    "df_loans = spark.read.csv(path_loans, header=True, schema=schema_loans)\n",
    "df_loans.show(5) "
   ]
  },
  {
   "cell_type": "code",
   "execution_count": 12,
   "id": "7150f502",
   "metadata": {
    "execution": {
     "iopub.execute_input": "2024-04-11T22:27:50.777908Z",
     "iopub.status.busy": "2024-04-11T22:27:50.777355Z",
     "iopub.status.idle": "2024-04-11T22:28:05.880675Z",
     "shell.execute_reply": "2024-04-11T22:28:05.877522Z"
    },
    "papermill": {
     "duration": 15.163189,
     "end_time": "2024-04-11T22:28:05.885160",
     "exception": false,
     "start_time": "2024-04-11T22:27:50.721971",
     "status": "completed"
    },
    "tags": []
   },
   "outputs": [
    {
     "name": "stderr",
     "output_type": "stream",
     "text": [
      "[Stage 52:=============================>                            (2 + 2) / 4]\r"
     ]
    },
    {
     "name": "stdout",
     "output_type": "stream",
     "text": [
      "+---------+-------+--------------+------+\n",
      "|ID_CLIENT|     ID|MONTHS_BALANCE|STATUS|\n",
      "+---------+-------+--------------+------+\n",
      "|    34269|5008810|             0|     C|\n",
      "|    34269|5008810|            -1|     C|\n",
      "|    34269|5008810|            -2|     C|\n",
      "|    34269|5008810|            -3|     C|\n",
      "|    34269|5008810|            -4|     C|\n",
      "+---------+-------+--------------+------+\n",
      "only showing top 5 rows\n",
      "\n"
     ]
    },
    {
     "name": "stderr",
     "output_type": "stream",
     "text": [
      "                                                                                \r"
     ]
    }
   ],
   "source": [
    "# Now, providing the loans' client ID.\n",
    "df_loans = df_loans.join(df_clients, ['ID']).select(['ID_CLIENT', 'ID', 'MONTHS_BALANCE', 'STATUS'])\n",
    "df_loans.show(5)"
   ]
  },
  {
   "cell_type": "markdown",
   "id": "78d38acc",
   "metadata": {
    "papermill": {
     "duration": 0.060156,
     "end_time": "2024-04-11T22:28:06.005540",
     "exception": false,
     "start_time": "2024-04-11T22:28:05.945384",
     "status": "completed"
    },
    "tags": []
   },
   "source": [
    "<h4 style='font-size:30px;font-style:italic;text-decoration:underline'> Conceiving the Target Variable</h4>\n",
    "<div> \n",
    "    <ul style='font-size:20px'> \n",
    "        <li> \n",
    "            The `STATUS` column presents a handful of codes that represent distinct status for a loan's payment. Their definition is as follows:\n",
    "            <table style='font-size:15px;margin-top:20px'> \n",
    "                <tr>\n",
    "                    <th> Code</th>\n",
    "                    <th> Definition</th>\n",
    "                </tr>\n",
    "                <tr> \n",
    "                    <td> C</td>\n",
    "                    <td> Paid off that month</td>\n",
    "                </tr>\n",
    "                <tr> \n",
    "                    <td> 0</td>\n",
    "                    <td> 1-29 days past due</td>\n",
    "                </tr>\n",
    "                <tr> \n",
    "                    <td> 1</td>\n",
    "                    <td> 30-59 days past due </td>\n",
    "                </tr>\n",
    "                <tr> \n",
    "                    <td> 2</td>\n",
    "                    <td> 60-89 days past due </td>\n",
    "                </tr>\n",
    "                <tr> \n",
    "                    <td> 3</td>\n",
    "                    <td> 90-119 days past due </td>\n",
    "                </tr>\n",
    "                <tr> \n",
    "                    <td> 4</td>\n",
    "                    <td> 120-149 days past due </td>\n",
    "                </tr>\n",
    "                <tr> \n",
    "                    <td> 5</td>\n",
    "                    <td> Overdue or bad debts,<p> write-offs for more than 150 days</p> </td>\n",
    "                </tr>\n",
    "                <tr> \n",
    "                    <td> X</td>\n",
    "                    <td> No loan for the month</td>\n",
    "                </tr>\n",
    "            </table>\n",
    "        </li>\n",
    "        <li style='margin-top:20px'> \n",
    "            Observe that in our case only the 3, 4 and 5 codes are of our interest. Thus it would be convenient to create a binary flag that denounces whether \n",
    "            the individual has ever caused an NPL.\n",
    "        </li>\n",
    "    </ul>\n",
    "</div>"
   ]
  },
  {
   "cell_type": "code",
   "execution_count": 13,
   "id": "7fc226e3",
   "metadata": {
    "execution": {
     "iopub.execute_input": "2024-04-11T22:28:06.129267Z",
     "iopub.status.busy": "2024-04-11T22:28:06.128676Z",
     "iopub.status.idle": "2024-04-11T22:28:07.364284Z",
     "shell.execute_reply": "2024-04-11T22:28:07.362866Z"
    },
    "papermill": {
     "duration": 1.302963,
     "end_time": "2024-04-11T22:28:07.367637",
     "exception": false,
     "start_time": "2024-04-11T22:28:06.064674",
     "status": "completed"
    },
    "tags": []
   },
   "outputs": [],
   "source": [
    "# The dependent variable's conception needs a custom GroupBy that PySpark is unable to perform by itself. Hence, we \n",
    "# are going to resort to pandas in this section.\n",
    "import pandas as pd\n",
    "\n",
    "# Defining the GroupBy's schema.\n",
    "schema_flag_npl = '`ID_CLIENT` STRING, `NPL` STRING'\n",
    "\n",
    "# This lambda expression signs whether a client has ever produced an NPL in the past.\n",
    "lambda_npl = lambda x: '1' if x.STATUS.isin(['3', '4', '5']).any() else '0'\n",
    "\n",
    "def has_npl(df:pd.DataFrame)->pd.DataFrame:\n",
    "    '''\n",
    "        Verifies if a client's  records contain any sort of Non-Performing Loan.\n",
    "        \n",
    "        Parameter\n",
    "        ---------\n",
    "        `df`: pd.DataFrame \n",
    "            The loan records of a certain client.\n",
    "        \n",
    "        Returns\n",
    "        -------\n",
    "        A `pd.DataFrame` with the client's ID and a flag indicating NPL existence in their loan history. \n",
    "    '''\n",
    "    output = df.groupby(['ID_CLIENT']).apply(lambda_npl) # `lambda_npl` takes care of the flags creation.\n",
    "    output.name = 'NPL' # Setting the flag column's name.\n",
    "    return output.reset_index()\n",
    "\n",
    "# Finally, generating our target-variable.\n",
    "target = df_loans.groupBy('ID_CLIENT').applyInPandas(has_npl, schema_flag_npl)"
   ]
  },
  {
   "cell_type": "markdown",
   "id": "5b9d0c7c",
   "metadata": {
    "papermill": {
     "duration": 0.040229,
     "end_time": "2024-04-11T22:28:07.454325",
     "exception": false,
     "start_time": "2024-04-11T22:28:07.414096",
     "status": "completed"
    },
    "tags": []
   },
   "source": [
    "<h2 style='font-size:30px'> Consolidating the Data</h2>\n",
    "<div> \n",
    "    <ul style='font-size:20px'> \n",
    "        <li> \n",
    "            With both datasets properly treated, we are able to JOIN them in a single table.\n",
    "        </li>\n",
    "    </ul>\n",
    "</div>"
   ]
  },
  {
   "cell_type": "code",
   "execution_count": 14,
   "id": "03741275",
   "metadata": {
    "execution": {
     "iopub.execute_input": "2024-04-11T22:28:07.538905Z",
     "iopub.status.busy": "2024-04-11T22:28:07.537466Z",
     "iopub.status.idle": "2024-04-11T22:28:07.612661Z",
     "shell.execute_reply": "2024-04-11T22:28:07.610979Z"
    },
    "papermill": {
     "duration": 0.12074,
     "end_time": "2024-04-11T22:28:07.616633",
     "exception": false,
     "start_time": "2024-04-11T22:28:07.495893",
     "status": "completed"
    },
    "tags": []
   },
   "outputs": [],
   "source": [
    "# Finally, enriching the clients information with the NPL flag.\n",
    "df = df_id_clients.join(target, how='inner', on='ID_CLIENT')"
   ]
  },
  {
   "cell_type": "code",
   "execution_count": 15,
   "id": "576eb7d7",
   "metadata": {
    "execution": {
     "iopub.execute_input": "2024-04-11T22:28:07.707209Z",
     "iopub.status.busy": "2024-04-11T22:28:07.706777Z",
     "iopub.status.idle": "2024-04-11T22:28:07.712256Z",
     "shell.execute_reply": "2024-04-11T22:28:07.710526Z"
    },
    "papermill": {
     "duration": 0.050501,
     "end_time": "2024-04-11T22:28:07.714908",
     "exception": false,
     "start_time": "2024-04-11T22:28:07.664407",
     "status": "completed"
    },
    "tags": []
   },
   "outputs": [],
   "source": [
    "#df.write.parquet('/kaggle/input/df-parquet', mode='overwrite')"
   ]
  },
  {
   "cell_type": "markdown",
   "id": "2aa46d75",
   "metadata": {
    "papermill": {
     "duration": 0.039218,
     "end_time": "2024-04-11T22:28:07.795129",
     "exception": false,
     "start_time": "2024-04-11T22:28:07.755911",
     "status": "completed"
    },
    "tags": []
   },
   "source": [
    "<h2 style='font-size:30px'> Dataset Splitting</h2>\n",
    "<div> \n",
    "    <ul style='font-size:20px'> \n",
    "        <li> \n",
    "            With the dataset properly treated, we are able to begin our EDA and model creation. But firstly we have to separate the data in \n",
    "            the training and test tables.\n",
    "        </li>\n",
    "    </ul>\n",
    "</div>"
   ]
  },
  {
   "cell_type": "code",
   "execution_count": 16,
   "id": "e3a8670e",
   "metadata": {
    "execution": {
     "iopub.execute_input": "2024-04-11T22:28:07.877472Z",
     "iopub.status.busy": "2024-04-11T22:28:07.876798Z",
     "iopub.status.idle": "2024-04-11T22:29:18.267574Z",
     "shell.execute_reply": "2024-04-11T22:29:18.266217Z"
    },
    "papermill": {
     "duration": 70.435941,
     "end_time": "2024-04-11T22:29:18.271253",
     "exception": false,
     "start_time": "2024-04-11T22:28:07.835312",
     "status": "completed"
    },
    "tags": []
   },
   "outputs": [
    {
     "name": "stderr",
     "output_type": "stream",
     "text": [
      "[Stage 132:==========================================>              (3 + 1) / 4]\r"
     ]
    },
    {
     "name": "stdout",
     "output_type": "stream",
     "text": [
      "+---+-----+-------------------+\n",
      "|NPL|count|         proportion|\n",
      "+---+-----+-------------------+\n",
      "|  0| 9509| 0.9774876644736842|\n",
      "|  1|  219|0.02251233552631579|\n",
      "+---+-----+-------------------+\n",
      "\n"
     ]
    },
    {
     "name": "stderr",
     "output_type": "stream",
     "text": [
      "                                                                                \r"
     ]
    }
   ],
   "source": [
    "# As we can see, we are dealing with an unbalanced dataset case. Thus it is interesting to maintain the target value proportions\n",
    "# in both training and test sets.\n",
    "from pyspark.sql.functions import col\n",
    "\n",
    "df.groupBy('NPL').count().withColumn('proportion', col('count')/df.count()).show()"
   ]
  },
  {
   "cell_type": "code",
   "execution_count": 17,
   "id": "37b353ed",
   "metadata": {
    "execution": {
     "iopub.execute_input": "2024-04-11T22:29:18.389728Z",
     "iopub.status.busy": "2024-04-11T22:29:18.389217Z",
     "iopub.status.idle": "2024-04-11T22:29:18.907097Z",
     "shell.execute_reply": "2024-04-11T22:29:18.905762Z"
    },
    "papermill": {
     "duration": 0.57405,
     "end_time": "2024-04-11T22:29:18.911565",
     "exception": false,
     "start_time": "2024-04-11T22:29:18.337515",
     "status": "completed"
    },
    "tags": []
   },
   "outputs": [],
   "source": [
    "# Creating the training and test sets.\n",
    "train = df.sampleBy('NPL', fractions={'0':.75, '1':.75}, seed=42)\n",
    "test = df.subtract(train)"
   ]
  },
  {
   "cell_type": "code",
   "execution_count": 18,
   "id": "fbc45fad",
   "metadata": {
    "execution": {
     "iopub.execute_input": "2024-04-11T22:29:19.042468Z",
     "iopub.status.busy": "2024-04-11T22:29:19.042070Z",
     "iopub.status.idle": "2024-04-11T22:31:18.137036Z",
     "shell.execute_reply": "2024-04-11T22:31:18.133458Z"
    },
    "papermill": {
     "duration": 119.162079,
     "end_time": "2024-04-11T22:31:18.143633",
     "exception": false,
     "start_time": "2024-04-11T22:29:18.981554",
     "status": "completed"
    },
    "tags": []
   },
   "outputs": [
    {
     "name": "stdout",
     "output_type": "stream",
     "text": [
      "*** TRAIN ***\n"
     ]
    },
    {
     "name": "stderr",
     "output_type": "stream",
     "text": [
      "                                                                                \r"
     ]
    },
    {
     "name": "stdout",
     "output_type": "stream",
     "text": [
      "+---+-----+--------------------+\n",
      "|NPL|count|          proportion|\n",
      "+---+-----+--------------------+\n",
      "|  0| 7205|  0.9785413554257776|\n",
      "|  1|  158|0.021458644574222464|\n",
      "+---+-----+--------------------+\n",
      "\n",
      "*** TEST ***\n"
     ]
    },
    {
     "name": "stderr",
     "output_type": "stream",
     "text": [
      "                                                                                \r"
     ]
    },
    {
     "name": "stdout",
     "output_type": "stream",
     "text": [
      "+---+-----+--------------------+\n",
      "|NPL|count|          proportion|\n",
      "+---+-----+--------------------+\n",
      "|  0| 2308|  0.9800424628450106|\n",
      "|  1|   47|0.019957537154989383|\n",
      "+---+-----+--------------------+\n",
      "\n"
     ]
    }
   ],
   "source": [
    "# Since the class proportions are relatively proximate, we are able to use them in our project.\n",
    "print('*** TRAIN ***')\n",
    "train.groupBy('NPL').count().withColumn('proportion', col('count')/train.count()).show()\n",
    "print('*** TEST ***')\n",
    "test.groupBy('NPL').count().withColumn('proportion', col('count')/test.count()).show()"
   ]
  },
  {
   "cell_type": "code",
   "execution_count": 19,
   "id": "1b422456",
   "metadata": {
    "execution": {
     "iopub.execute_input": "2024-04-11T22:31:18.267835Z",
     "iopub.status.busy": "2024-04-11T22:31:18.267358Z",
     "iopub.status.idle": "2024-04-11T22:31:18.272400Z",
     "shell.execute_reply": "2024-04-11T22:31:18.271179Z"
    },
    "papermill": {
     "duration": 0.06416,
     "end_time": "2024-04-11T22:31:18.274923",
     "exception": false,
     "start_time": "2024-04-11T22:31:18.210763",
     "status": "completed"
    },
    "tags": []
   },
   "outputs": [],
   "source": [
    "# Saving the datasets in distinct .parquet files.\n",
    "# train.write.parquet('/kaggle/working/train.parquet', mode='overwrite')\n",
    "# test.write.parquet('/kaggle/working/test.parquet', mode='overwrite')"
   ]
  },
  {
   "cell_type": "markdown",
   "id": "7b299a59",
   "metadata": {
    "execution": {
     "iopub.execute_input": "2023-08-15T16:05:33.192895Z",
     "iopub.status.busy": "2023-08-15T16:05:33.192467Z",
     "iopub.status.idle": "2023-08-15T16:05:34.343874Z",
     "shell.execute_reply": "2023-08-15T16:05:34.342739Z",
     "shell.execute_reply.started": "2023-08-15T16:05:33.192858Z"
    },
    "papermill": {
     "duration": 0.069252,
     "end_time": "2024-04-11T22:31:18.397176",
     "exception": false,
     "start_time": "2024-04-11T22:31:18.327924",
     "status": "completed"
    },
    "tags": []
   },
   "source": [
    "<h3 style='font-size:30px;font-style:italic'> Defining the Models' Metric</h3>\n",
    "<div> \n",
    "    <ul style='font-size:20px'> \n",
    "        <li> \n",
    "            Providing False Negatives would clearly be more harmful for the bank's equity than False Positives.         \n",
    "        </li>\n",
    "        <li> \n",
    "            Following conversations with the credit analysts, we've ended up defining the case's official metric\n",
    "            as an f-score with $\\beta=4$. So, we are giving to Recall an importance that is 4x higher than the Precision's.\n",
    "        </li>\n",
    "    </ul>\n",
    "</div>"
   ]
  },
  {
   "cell_type": "markdown",
   "id": "7f67d780",
   "metadata": {
    "papermill": {
     "duration": 0.054908,
     "end_time": "2024-04-11T22:31:18.509227",
     "exception": false,
     "start_time": "2024-04-11T22:31:18.454319",
     "status": "completed"
    },
    "tags": []
   },
   "source": [
    "<h2 style='font-size:30px'> Exploratory Data Analysis</h2>\n",
    "<div> \n",
    "    <ul style='font-size:20px'> \n",
    "        <li> \n",
    "            With the data properly segregated, let's briefly analyze its content and see whether we can spot differences \n",
    "            among the classes. \n",
    "        </li>\n",
    "    </ul>\n",
    "</div>"
   ]
  },
  {
   "cell_type": "code",
   "execution_count": 20,
   "id": "2c6c58ec",
   "metadata": {
    "execution": {
     "iopub.execute_input": "2024-04-11T22:31:18.629860Z",
     "iopub.status.busy": "2024-04-11T22:31:18.629370Z",
     "iopub.status.idle": "2024-04-11T22:31:33.214380Z",
     "shell.execute_reply": "2024-04-11T22:31:33.212622Z"
    },
    "papermill": {
     "duration": 14.645358,
     "end_time": "2024-04-11T22:31:33.217147",
     "exception": false,
     "start_time": "2024-04-11T22:31:18.571789",
     "status": "completed"
    },
    "tags": []
   },
   "outputs": [
    {
     "name": "stdout",
     "output_type": "stream",
     "text": [
      "Requirement already satisfied: pyspark in /opt/conda/lib/python3.10/site-packages (3.5.1)\r\n",
      "Requirement already satisfied: py4j==0.10.9.7 in /opt/conda/lib/python3.10/site-packages (from pyspark) (0.10.9.7)\r\n",
      "Note: you may need to restart the kernel to use updated packages.\n"
     ]
    }
   ],
   "source": [
    "pip install pyspark"
   ]
  },
  {
   "cell_type": "code",
   "execution_count": 21,
   "id": "71274278",
   "metadata": {
    "execution": {
     "iopub.execute_input": "2024-04-11T22:31:33.330502Z",
     "iopub.status.busy": "2024-04-11T22:31:33.329966Z",
     "iopub.status.idle": "2024-04-11T22:31:33.349382Z",
     "shell.execute_reply": "2024-04-11T22:31:33.347977Z"
    },
    "papermill": {
     "duration": 0.080868,
     "end_time": "2024-04-11T22:31:33.352354",
     "exception": false,
     "start_time": "2024-04-11T22:31:33.271486",
     "status": "completed"
    },
    "tags": []
   },
   "outputs": [
    {
     "data": {
      "text/html": [
       "<style>pre { white-space: pre !important; }</style>"
      ],
      "text/plain": [
       "<IPython.core.display.HTML object>"
      ]
     },
     "metadata": {},
     "output_type": "display_data"
    }
   ],
   "source": [
    "from pyspark import SparkContext\n",
    "from pyspark.sql import SparkSession\n",
    "from IPython.core.display import HTML\n",
    "\n",
    "# Creating the project's SparkSession.\n",
    "spark = SparkSession.builder.appName('NPL').getOrCreate()\n",
    "\n",
    "# Also, modifying the session's log level.\n",
    "log_level = spark.sparkContext.setLogLevel('ERROR')\n",
    "\n",
    "# This tiny config enables us to scroll along the DataFrame's columns.\n",
    "display(HTML(\"<style>pre { white-space: pre !important; }</style>\"))"
   ]
  },
  {
   "cell_type": "code",
   "execution_count": 22,
   "id": "58f573b2",
   "metadata": {
    "execution": {
     "iopub.execute_input": "2024-04-11T22:31:33.462594Z",
     "iopub.status.busy": "2024-04-11T22:31:33.462165Z",
     "iopub.status.idle": "2024-04-11T22:31:34.686188Z",
     "shell.execute_reply": "2024-04-11T22:31:34.684917Z"
    },
    "papermill": {
     "duration": 1.281326,
     "end_time": "2024-04-11T22:31:34.689875",
     "exception": false,
     "start_time": "2024-04-11T22:31:33.408549",
     "status": "completed"
    },
    "tags": []
   },
   "outputs": [
    {
     "name": "stdout",
     "output_type": "stream",
     "text": [
      "+---------+-----------+------------+---------------+------------+----------------+----------------+--------------------+------------------+-----------------+----------+-------------+----------+---------------+----------+----------+---------------+---------------+---+\n",
      "|ID_CLIENT|CODE_GENDER|FLAG_OWN_CAR|FLAG_OWN_REALTY|CNT_CHILDREN|AMT_INCOME_TOTAL|NAME_INCOME_TYPE| NAME_EDUCATION_TYPE|NAME_FAMILY_STATUS|NAME_HOUSING_TYPE|DAYS_BIRTH|DAYS_EMPLOYED|FLAG_MOBIL|FLAG_WORK_PHONE|FLAG_PHONE|FLAG_EMAIL|OCCUPATION_TYPE|CNT_FAM_MEMBERS|NPL|\n",
      "+---------+-----------+------------+---------------+------------+----------------+----------------+--------------------+------------------+-----------------+----------+-------------+----------+---------------+----------+----------+---------------+---------------+---+\n",
      "|      691|          F|           N|              N|           0|         67500.0|         Working|Secondary / secon...|           Married|House / apartment|    -20075|        -7013|         1|              1|         1|         0|    Sales staff|            2.0|  0|\n",
      "|     3606|          F|           N|              N|           0|        112500.0|         Working|Secondary / secon...|           Married|House / apartment|     -9865|         -196|         1|              1|         0|         0|       Laborers|            2.0|  0|\n",
      "|     4821|          F|           N|              N|           0|        135000.0|   State servant|    Higher education|           Married|House / apartment|    -12490|        -1191|         1|              1|         1|         0|     Core staff|            2.0|  0|\n",
      "|     5925|          F|           N|              N|           0|        157500.0|       Pensioner|Secondary / secon...|           Married|House / apartment|    -22828|       365243|         1|              0|         0|         0|           NULL|            2.0|  0|\n",
      "|     6194|          F|           N|              N|           0|        157500.0|         Working|   Incomplete higher|           Married|House / apartment|    -16888|        -2687|         1|              0|         0|         0|     Core staff|            2.0|  0|\n",
      "+---------+-----------+------------+---------------+------------+----------------+----------------+--------------------+------------------+-----------------+----------+-------------+----------+---------------+----------+----------+---------------+---------------+---+\n",
      "only showing top 5 rows\n",
      "\n"
     ]
    }
   ],
   "source": [
    "train = spark.read.parquet('/kaggle/input/npl-train/train.parquet/')\n",
    "train.show(5)"
   ]
  },
  {
   "cell_type": "markdown",
   "id": "529a4ba1",
   "metadata": {
    "execution": {
     "iopub.execute_input": "2023-08-15T16:05:33.192895Z",
     "iopub.status.busy": "2023-08-15T16:05:33.192467Z",
     "iopub.status.idle": "2023-08-15T16:05:34.343874Z",
     "shell.execute_reply": "2023-08-15T16:05:34.342739Z",
     "shell.execute_reply.started": "2023-08-15T16:05:33.192858Z"
    },
    "papermill": {
     "duration": 0.053133,
     "end_time": "2024-04-11T22:31:34.799618",
     "exception": false,
     "start_time": "2024-04-11T22:31:34.746485",
     "status": "completed"
    },
    "tags": []
   },
   "source": [
    "<h3 style='font-size:30px;font-style:italic'> Assessing the Classes' Incomes</h3>\n",
    "<div> \n",
    "    <ul style='font-size:20px'> \n",
    "        <li> \n",
    "            Let's analyze whether there is any revenue difference between individuals who produced an NPL and those who didn't. \n",
    "        </li>\n",
    "        <li> \n",
    "            Since we are dealing with an continuous outcome from two independent samples, I'll use the z-score formula below to examine the \n",
    "            income differences:\n",
    "            <center style='margin-top:20px'> \n",
    "                    $z=\\frac{\\overline{X}_{1}-\\overline{X}_{2}}{S_{p}\\sqrt{\\frac{1}{n_{1}}+\\frac{1}{n_{2}}}}$ | $S_{p}=\\sqrt{\\frac{(n_{1}-1)s_{1}^{2}+(n_{2}-1)s_{2}^{2}}{n_{1}+n_{2}-2}}$\n",
    "           </center>\n",
    "        </li>\n",
    "    </ul>\n",
    "</div>"
   ]
  },
  {
   "cell_type": "code",
   "execution_count": 23,
   "id": "4c5e0a03",
   "metadata": {
    "execution": {
     "iopub.execute_input": "2024-04-11T22:31:34.907917Z",
     "iopub.status.busy": "2024-04-11T22:31:34.907473Z",
     "iopub.status.idle": "2024-04-11T22:31:35.306353Z",
     "shell.execute_reply": "2024-04-11T22:31:35.305005Z"
    },
    "papermill": {
     "duration": 0.456025,
     "end_time": "2024-04-11T22:31:35.309325",
     "exception": false,
     "start_time": "2024-04-11T22:31:34.853300",
     "status": "completed"
    },
    "tags": []
   },
   "outputs": [
    {
     "name": "stdout",
     "output_type": "stream",
     "text": [
      "+---+------------------------+\n",
      "|NPL|stddev(AMT_INCOME_TOTAL)|\n",
      "+---+------------------------+\n",
      "|  0|        99647.7510722535|\n",
      "|  1|       96639.80531139452|\n",
      "+---+------------------------+\n",
      "\n"
     ]
    }
   ],
   "source": [
    "# The formula above is only valid for samples with similar std's (0.5<s1/s2<2). So we ought to firstly guarantee that the incomes' std's\n",
    "# are in accordance to that rule.\n",
    "df_income_std = train.groupBy('NPL').agg({'AMT_INCOME_TOTAL':'std'})\n",
    "df_income_std.show()"
   ]
  },
  {
   "cell_type": "code",
   "execution_count": 24,
   "id": "4a5a5453",
   "metadata": {
    "execution": {
     "iopub.execute_input": "2024-04-11T22:31:35.422753Z",
     "iopub.status.busy": "2024-04-11T22:31:35.422293Z",
     "iopub.status.idle": "2024-04-11T22:31:35.705689Z",
     "shell.execute_reply": "2024-04-11T22:31:35.704517Z"
    },
    "papermill": {
     "duration": 0.344266,
     "end_time": "2024-04-11T22:31:35.709219",
     "exception": false,
     "start_time": "2024-04-11T22:31:35.364953",
     "status": "completed"
    },
    "tags": []
   },
   "outputs": [
    {
     "data": {
      "text/plain": [
       "1.0311253292695148"
      ]
     },
     "execution_count": 24,
     "metadata": {},
     "output_type": "execute_result"
    }
   ],
   "source": [
    "# Because the std ratio is in the desired interval, we can proceed in using the formula.\n",
    "list_std = [row['stddev(AMT_INCOME_TOTAL)'] for row in df_income_std.collect()]\n",
    "list_std[0] / list_std[1]"
   ]
  },
  {
   "cell_type": "code",
   "execution_count": 25,
   "id": "57803f77",
   "metadata": {
    "execution": {
     "iopub.execute_input": "2024-04-11T22:31:35.842474Z",
     "iopub.status.busy": "2024-04-11T22:31:35.841686Z",
     "iopub.status.idle": "2024-04-11T22:31:37.872941Z",
     "shell.execute_reply": "2024-04-11T22:31:37.871453Z"
    },
    "papermill": {
     "duration": 2.096967,
     "end_time": "2024-04-11T22:31:37.876459",
     "exception": false,
     "start_time": "2024-04-11T22:31:35.779492",
     "status": "completed"
    },
    "tags": []
   },
   "outputs": [
    {
     "data": {
      "text/plain": [
       "0.7972574858186637"
      ]
     },
     "execution_count": 25,
     "metadata": {},
     "output_type": "execute_result"
    }
   ],
   "source": [
    "# By setting our alpha=.05, we can see that there is no statistical evidence that people with no NPL receive higher incomes\n",
    "# than the other group.\n",
    "from statsmodels.stats.weightstats import ztest\n",
    "\n",
    "zeros = [row['AMT_INCOME_TOTAL'] for row in train.select('AMT_INCOME_TOTAL').where('NPL==0').collect()]\n",
    "ones = [row['AMT_INCOME_TOTAL'] for row in train.select('AMT_INCOME_TOTAL').where('NPL==1').collect()]\n",
    "\n",
    "ztest(zeros, ones, alternative='larger')[1] # Computing our p-value."
   ]
  },
  {
   "cell_type": "markdown",
   "id": "9d2c3995",
   "metadata": {
    "papermill": {
     "duration": 0.052032,
     "end_time": "2024-04-11T22:31:37.981182",
     "exception": false,
     "start_time": "2024-04-11T22:31:37.929150",
     "status": "completed"
    },
    "tags": []
   },
   "source": [
    "<h3 style='font-size:30px;font-style:italic'> Valuable Assets Analysis</h3>\n",
    "<div> \n",
    "    <ul style='font-size:20px'> \n",
    "        <li> \n",
    "            The dataset contains columns representing whether the client possesses real state or a vehicle.\n",
    "        </li>\n",
    "        <li> \n",
    "            We can verify if people that own such properties have lower chance of producing an NPL, because they could sell them if they don't have enough \n",
    "            cash to pay the loans. \n",
    "        </li>\n",
    "    </ul>\n",
    "</div>"
   ]
  },
  {
   "cell_type": "code",
   "execution_count": 26,
   "id": "80c3fa74",
   "metadata": {
    "execution": {
     "iopub.execute_input": "2024-04-11T22:31:38.093907Z",
     "iopub.status.busy": "2024-04-11T22:31:38.092247Z",
     "iopub.status.idle": "2024-04-11T22:31:38.528863Z",
     "shell.execute_reply": "2024-04-11T22:31:38.527599Z"
    },
    "papermill": {
     "duration": 0.496011,
     "end_time": "2024-04-11T22:31:38.533333",
     "exception": false,
     "start_time": "2024-04-11T22:31:38.037322",
     "status": "completed"
    },
    "tags": []
   },
   "outputs": [
    {
     "name": "stdout",
     "output_type": "stream",
     "text": [
      "+------------+---+\n",
      "|OWN_VALUABLE|NPL|\n",
      "+------------+---+\n",
      "|           0|  0|\n",
      "|           0|  0|\n",
      "|           0|  0|\n",
      "|           0|  0|\n",
      "|           0|  0|\n",
      "+------------+---+\n",
      "only showing top 5 rows\n",
      "\n"
     ]
    }
   ],
   "source": [
    "from pyspark.sql.functions import udf\n",
    "from pyspark.sql.types import StringType\n",
    "\n",
    "@udf(returnType=StringType())\n",
    "def own_valuable(col_car:str, col_realty:str)->str:\n",
    "    '''\n",
    "        Signs whether a client possesses a valuable asset that can be sold for paying their loans.\n",
    "        \n",
    "        Parameters\n",
    "        ----------\n",
    "        `col_car` str\n",
    "            The value of the flag that indicates the ownership of a car.\n",
    "        `col_realty`: str\n",
    "            The value of the flag that indicates the ownership of a real state.\n",
    "            \n",
    "        Returns\n",
    "        -------\n",
    "        A flag indicating the possession of a car or real state (valuable assets). \n",
    "    '''\n",
    "    if (col_car=='Y') or (col_realty=='Y'):\n",
    "        return '1'\n",
    "    return '0'\n",
    "\n",
    "# Creating the DataFrame that will be used for conducting the Hypothesis Test.\n",
    "df_valuable = train.select(own_valuable('FLAG_OWN_CAR', 'FLAG_OWN_REALTY').alias('OWN_VALUABLE'), 'NPL')\n",
    "df_valuable.show(5)"
   ]
  },
  {
   "cell_type": "code",
   "execution_count": 27,
   "id": "2f6f160a",
   "metadata": {
    "execution": {
     "iopub.execute_input": "2024-04-11T22:31:38.679250Z",
     "iopub.status.busy": "2024-04-11T22:31:38.678857Z",
     "iopub.status.idle": "2024-04-11T22:31:39.625143Z",
     "shell.execute_reply": "2024-04-11T22:31:39.623537Z"
    },
    "papermill": {
     "duration": 1.018238,
     "end_time": "2024-04-11T22:31:39.628371",
     "exception": false,
     "start_time": "2024-04-11T22:31:38.610133",
     "status": "completed"
    },
    "tags": []
   },
   "outputs": [
    {
     "name": "stderr",
     "output_type": "stream",
     "text": [
      "[Stage 373:>                                                        (0 + 4) / 4]\r"
     ]
    },
    {
     "name": "stdout",
     "output_type": "stream",
     "text": [
      "+---+------------+-----+\n",
      "|NPL|OWN_VALUABLE|count|\n",
      "+---+------------+-----+\n",
      "|  0|           1| 5747|\n",
      "|  1|           1|  126|\n",
      "|  0|           0| 1454|\n",
      "|  1|           0|   46|\n",
      "+---+------------+-----+\n",
      "\n"
     ]
    },
    {
     "name": "stderr",
     "output_type": "stream",
     "text": [
      "                                                                                \r"
     ]
    }
   ],
   "source": [
    "# Counting the amount of who own or not a valuable asset per target.\n",
    "gb_valuable = (df_valuable\n",
    "     .groupBy(['NPL', 'OWN_VALUABLE'])\n",
    "     .count())\n",
    "\n",
    "gb_valuable.show()"
   ]
  },
  {
   "cell_type": "code",
   "execution_count": 28,
   "id": "f733ccb6",
   "metadata": {
    "execution": {
     "iopub.execute_input": "2024-04-11T22:31:39.744129Z",
     "iopub.status.busy": "2024-04-11T22:31:39.743739Z",
     "iopub.status.idle": "2024-04-11T22:31:40.778224Z",
     "shell.execute_reply": "2024-04-11T22:31:40.776711Z"
    },
    "papermill": {
     "duration": 1.094111,
     "end_time": "2024-04-11T22:31:40.781767",
     "exception": false,
     "start_time": "2024-04-11T22:31:39.687656",
     "status": "completed"
    },
    "tags": []
   },
   "outputs": [
    {
     "name": "stdout",
     "output_type": "stream",
     "text": [
      "+---+-----------------------+---------------+------------------+\n",
      "|NPL|INSTANCES_WITH_VALUABLE|TOTAL_INSTANCES| PROP_OWN_VALUABLE|\n",
      "+---+-----------------------+---------------+------------------+\n",
      "|  0|                   5747|           7201|0.7980835995000695|\n",
      "|  1|                    126|            172|0.7325581395348837|\n",
      "+---+-----------------------+---------------+------------------+\n",
      "\n"
     ]
    }
   ],
   "source": [
    "# Now, using `gb_valuable` in order to estimate the proportion of clients with a valuable asset for each target.\n",
    "from pyspark.sql.functions import col\n",
    "from pyspark.sql.functions import sum as ps_sum\n",
    "from pyspark.sql.window import Window\n",
    "\n",
    "window = Window.partitionBy('NPL')\n",
    "\n",
    "# It's noticeable that there is a rough 7% difference between the proportions. But can we regard that as statistically significant? \n",
    "(gb_valuable\n",
    "     .withColumn('TOTAL_INSTANCES', ps_sum(col('count')).over(window)) # Total quantity of instances for each target.\n",
    "     .withColumn('PROP_OWN_VALUABLE', col('count')/ps_sum(col('count')).over(window)) # % of clients who own valuable assets per target.\n",
    "     .withColumnRenamed('count', 'INSTANCES_WITH_VALUABLE') \n",
    "     .where('`OWN_VALUABLE`==1')\n",
    "     .select(['NPL', 'INSTANCES_WITH_VALUABLE', 'TOTAL_INSTANCES', 'PROP_OWN_VALUABLE'])).show()"
   ]
  },
  {
   "cell_type": "code",
   "execution_count": 29,
   "id": "0b4aba0c",
   "metadata": {
    "execution": {
     "iopub.execute_input": "2024-04-11T22:31:40.901316Z",
     "iopub.status.busy": "2024-04-11T22:31:40.900910Z",
     "iopub.status.idle": "2024-04-11T22:31:40.939858Z",
     "shell.execute_reply": "2024-04-11T22:31:40.938882Z"
    },
    "papermill": {
     "duration": 0.098698,
     "end_time": "2024-04-11T22:31:40.942911",
     "exception": false,
     "start_time": "2024-04-11T22:31:40.844213",
     "status": "completed"
    },
    "tags": []
   },
   "outputs": [
    {
     "data": {
      "text/plain": [
       "0.033767448873365"
      ]
     },
     "execution_count": 29,
     "metadata": {},
     "output_type": "execute_result"
    }
   ],
   "source": [
    "# H0: People who honor their debts have the same probability of possessing a valuable asset as the clients in default.\n",
    "# H1: People who honor their debts have higher probability of possessing a valuable asset compared to clients in default.\n",
    "\n",
    "# By using the table's data in a Hypothesis Test for proportions, we get a p-value below our significance degree (alpha=.05).\n",
    "\n",
    "# Therefore, we are able to reject H0 and state we possess sufficient information to say that people who have never produced an NPL have a higher\n",
    "# tendency of possessing a valuable asset.\n",
    "\n",
    "from statsmodels.stats.proportion import test_proportions_2indep\n",
    "test_proportions_2indep(5747, 7201, 126, 172, compare='ratio', alternative='larger').pvalue"
   ]
  },
  {
   "cell_type": "code",
   "execution_count": 30,
   "id": "1c2553f9",
   "metadata": {
    "execution": {
     "iopub.execute_input": "2024-04-11T22:31:41.057612Z",
     "iopub.status.busy": "2024-04-11T22:31:41.057098Z",
     "iopub.status.idle": "2024-04-11T22:31:41.069592Z",
     "shell.execute_reply": "2024-04-11T22:31:41.068337Z"
    },
    "papermill": {
     "duration": 0.069356,
     "end_time": "2024-04-11T22:31:41.072097",
     "exception": false,
     "start_time": "2024-04-11T22:31:41.002741",
     "status": "completed"
    },
    "tags": []
   },
   "outputs": [
    {
     "data": {
      "text/plain": [
       "0.15495270778483095"
      ]
     },
     "execution_count": 30,
     "metadata": {},
     "output_type": "execute_result"
    }
   ],
   "source": [
    "# With the difference proved real, let's analyze it with the use of a Cohen's h.\n",
    "from numpy import arcsin, sqrt\n",
    "def cohen_h(p1:float, p2:float)->float:\n",
    "    '''\n",
    "        Computes the Cohen's h coefficient for the difference between two proportions.\n",
    "        \n",
    "        Parameters\n",
    "        ----------\n",
    "        `p1`: float\n",
    "            The first probability.\n",
    "        `p2`: float\n",
    "            The second probability.\n",
    "            \n",
    "        Returns\n",
    "        -------\n",
    "        The Cohen's h coefficient for the given proportions.\n",
    "    '''\n",
    "    phi1 = 2*arcsin(sqrt(p1))\n",
    "    phi2 = 2*arcsin(sqrt(p2))\n",
    "    return phi1-phi2\n",
    "\n",
    "# By observing the returned h, we can conclude that the difference is of a small magnitude, since it is lower than 0.2.\n",
    "cohen_h(0.7980835995000695, 0.7325581395348837)"
   ]
  },
  {
   "cell_type": "markdown",
   "id": "5604130a",
   "metadata": {
    "papermill": {
     "duration": 0.057105,
     "end_time": "2024-04-11T22:31:41.185198",
     "exception": false,
     "start_time": "2024-04-11T22:31:41.128093",
     "status": "completed"
    },
    "tags": []
   },
   "source": [
    "<h3 style='font-size:30px;font-style:italic'> Employment Impact Analysis</h3>\n",
    "<div> \n",
    "    <ul style='font-size:20px'> \n",
    "        <li> \n",
    "            Finally, it would be interesting if we could verify whether unemployment can impair loan payments.  \n",
    "        </li>\n",
    "    </ul>\n",
    "</div>"
   ]
  },
  {
   "cell_type": "markdown",
   "id": "56ab5718",
   "metadata": {
    "papermill": {
     "duration": 0.05501,
     "end_time": "2024-04-11T22:31:41.295513",
     "exception": false,
     "start_time": "2024-04-11T22:31:41.240503",
     "status": "completed"
    },
    "tags": []
   },
   "source": [
    "<h4 style='font-size:30px;font-style:italic;text-decoration:underline'> Cleaning up Inconsistent Instances</h4>\n",
    "<div> \n",
    "    <ul style='font-size:20px'> \n",
    "        <li> \n",
    "            The dataset contains individuals who present their OCCUPATION_TYPE value as NULL, although they show up as employed (DAYS_EMPLOYED$\\leq{0}$)\n",
    "        </li>\n",
    "        <li>\n",
    "            In order to they not be regarded as unemployed clients (who also present OCCUPATION_TYPE as NULL), I thought it would be convenient to assign \n",
    "            another category to them.\n",
    "        </li>\n",
    "    </ul>\n",
    "</div>"
   ]
  },
  {
   "cell_type": "code",
   "execution_count": 31,
   "id": "ed129d6a",
   "metadata": {
    "execution": {
     "iopub.execute_input": "2024-04-11T22:31:41.409039Z",
     "iopub.status.busy": "2024-04-11T22:31:41.408587Z",
     "iopub.status.idle": "2024-04-11T22:31:41.416767Z",
     "shell.execute_reply": "2024-04-11T22:31:41.415543Z"
    },
    "papermill": {
     "duration": 0.066122,
     "end_time": "2024-04-11T22:31:41.419389",
     "exception": false,
     "start_time": "2024-04-11T22:31:41.353267",
     "status": "completed"
    },
    "tags": []
   },
   "outputs": [],
   "source": [
    "@udf(returnType=StringType())\n",
    "def impute_occupation(col_occupation:str, col_days_employed:int)->str:\n",
    "    '''\n",
    "        Assigns new categories to the OCCUPATION_TYPE column if it is null for any given row. \n",
    "        \n",
    "        In case the DAYS_EMPLOYED shows that the client is currently employed, we impute 'UNDEFINED'; otherwise, we insert 'UNEMPLOYED'.\n",
    "        \n",
    "        Parameters\n",
    "        ----------\n",
    "        `col_occupation`: str\n",
    "            The row's OCCUPATION_TYPE value.\n",
    "        `col_days_employed`: int\n",
    "            The row's DAYS_EMPLOYED value.\n",
    "        \n",
    "        Returns\n",
    "        -------\n",
    "        The row's OCCUPATION_TYPE treated value.\n",
    "    '''\n",
    "    # 'Undefined' profession logic.\n",
    "    if (col_occupation is None) and (col_days_employed<=0):\n",
    "        return 'Undefined'\n",
    "    \n",
    "    # 'Unemployed' logic.\n",
    "    elif (col_occupation is None) and (col_days_employed>0):\n",
    "        return 'Unemployed'\n",
    "    \n",
    "    else:\n",
    "        pass\n",
    "    \n",
    "    return col_occupation"
   ]
  },
  {
   "cell_type": "code",
   "execution_count": 32,
   "id": "e93a8cb8",
   "metadata": {
    "execution": {
     "iopub.execute_input": "2024-04-11T22:31:41.530901Z",
     "iopub.status.busy": "2024-04-11T22:31:41.529583Z",
     "iopub.status.idle": "2024-04-11T22:31:41.563051Z",
     "shell.execute_reply": "2024-04-11T22:31:41.562001Z"
    },
    "papermill": {
     "duration": 0.09258,
     "end_time": "2024-04-11T22:31:41.565639",
     "exception": false,
     "start_time": "2024-04-11T22:31:41.473059",
     "status": "completed"
    },
    "tags": []
   },
   "outputs": [
    {
     "data": {
      "text/plain": [
       "['ID_CLIENT',\n",
       " 'CODE_GENDER',\n",
       " 'FLAG_OWN_CAR',\n",
       " 'FLAG_OWN_REALTY',\n",
       " 'CNT_CHILDREN',\n",
       " 'AMT_INCOME_TOTAL',\n",
       " 'NAME_INCOME_TYPE',\n",
       " 'NAME_EDUCATION_TYPE',\n",
       " 'NAME_FAMILY_STATUS',\n",
       " 'NAME_HOUSING_TYPE',\n",
       " 'DAYS_BIRTH',\n",
       " 'DAYS_EMPLOYED',\n",
       " 'FLAG_MOBIL',\n",
       " 'FLAG_WORK_PHONE',\n",
       " 'FLAG_PHONE',\n",
       " 'FLAG_EMAIL',\n",
       " 'CNT_FAM_MEMBERS',\n",
       " Column<'impute_occupation(OCCUPATION_TYPE, DAYS_EMPLOYED) AS OCCUPATION_TYPE'>,\n",
       " 'NPL']"
      ]
     },
     "execution_count": 32,
     "metadata": {},
     "output_type": "execute_result"
    }
   ],
   "source": [
    "# `list_select_occupation` will be used so that we can redefine the `train` DataFrame with the transformed OCCUPATION_TYPE feature.\n",
    "list_select_occupation = train.columns\n",
    "list_select_occupation.remove('OCCUPATION_TYPE')\n",
    "list_select_occupation.insert(-1, impute_occupation('OCCUPATION_TYPE', 'DAYS_EMPLOYED').alias('OCCUPATION_TYPE'))\n",
    "list_select_occupation"
   ]
  },
  {
   "cell_type": "code",
   "execution_count": 33,
   "id": "7b17ffc8",
   "metadata": {
    "execution": {
     "iopub.execute_input": "2024-04-11T22:31:41.678180Z",
     "iopub.status.busy": "2024-04-11T22:31:41.677025Z",
     "iopub.status.idle": "2024-04-11T22:31:42.077726Z",
     "shell.execute_reply": "2024-04-11T22:31:42.076368Z"
    },
    "papermill": {
     "duration": 0.459865,
     "end_time": "2024-04-11T22:31:42.081643",
     "exception": false,
     "start_time": "2024-04-11T22:31:41.621778",
     "status": "completed"
    },
    "tags": []
   },
   "outputs": [
    {
     "name": "stdout",
     "output_type": "stream",
     "text": [
      "+---------+-----------+------------+---------------+------------+----------------+----------------+--------------------+------------------+-----------------+----------+-------------+----------+---------------+----------+----------+---------------+---------------+---+\n",
      "|ID_CLIENT|CODE_GENDER|FLAG_OWN_CAR|FLAG_OWN_REALTY|CNT_CHILDREN|AMT_INCOME_TOTAL|NAME_INCOME_TYPE| NAME_EDUCATION_TYPE|NAME_FAMILY_STATUS|NAME_HOUSING_TYPE|DAYS_BIRTH|DAYS_EMPLOYED|FLAG_MOBIL|FLAG_WORK_PHONE|FLAG_PHONE|FLAG_EMAIL|CNT_FAM_MEMBERS|OCCUPATION_TYPE|NPL|\n",
      "+---------+-----------+------------+---------------+------------+----------------+----------------+--------------------+------------------+-----------------+----------+-------------+----------+---------------+----------+----------+---------------+---------------+---+\n",
      "|      691|          F|           N|              N|           0|         67500.0|         Working|Secondary / secon...|           Married|House / apartment|    -20075|        -7013|         1|              1|         1|         0|            2.0|    Sales staff|  0|\n",
      "|     3606|          F|           N|              N|           0|        112500.0|         Working|Secondary / secon...|           Married|House / apartment|     -9865|         -196|         1|              1|         0|         0|            2.0|       Laborers|  0|\n",
      "|     4821|          F|           N|              N|           0|        135000.0|   State servant|    Higher education|           Married|House / apartment|    -12490|        -1191|         1|              1|         1|         0|            2.0|     Core staff|  0|\n",
      "|     5925|          F|           N|              N|           0|        157500.0|       Pensioner|Secondary / secon...|           Married|House / apartment|    -22828|       365243|         1|              0|         0|         0|            2.0|     Unemployed|  0|\n",
      "|     6194|          F|           N|              N|           0|        157500.0|         Working|   Incomplete higher|           Married|House / apartment|    -16888|        -2687|         1|              0|         0|         0|            2.0|     Core staff|  0|\n",
      "+---------+-----------+------------+---------------+------------+----------------+----------------+--------------------+------------------+-----------------+----------+-------------+----------+---------------+----------+----------+---------------+---------------+---+\n",
      "only showing top 5 rows\n",
      "\n"
     ]
    }
   ],
   "source": [
    "# Applying the modifications to `train`.\n",
    "train = train.select(list_select_occupation)\n",
    "train.show(5)"
   ]
  },
  {
   "cell_type": "markdown",
   "id": "0f4db0db",
   "metadata": {
    "papermill": {
     "duration": 0.053767,
     "end_time": "2024-04-11T22:31:42.211902",
     "exception": false,
     "start_time": "2024-04-11T22:31:42.158135",
     "status": "completed"
    },
    "tags": []
   },
   "source": [
    "<h4 style='font-size:30px;font-style:italic;text-decoration:underline'> Back to the EDA...</h4>"
   ]
  },
  {
   "cell_type": "code",
   "execution_count": 34,
   "id": "83f1f977",
   "metadata": {
    "execution": {
     "iopub.execute_input": "2024-04-11T22:31:42.326902Z",
     "iopub.status.busy": "2024-04-11T22:31:42.325563Z",
     "iopub.status.idle": "2024-04-11T22:31:43.211591Z",
     "shell.execute_reply": "2024-04-11T22:31:43.210204Z"
    },
    "papermill": {
     "duration": 0.948404,
     "end_time": "2024-04-11T22:31:43.214541",
     "exception": false,
     "start_time": "2024-04-11T22:31:42.266137",
     "status": "completed"
    },
    "tags": []
   },
   "outputs": [
    {
     "name": "stdout",
     "output_type": "stream",
     "text": [
      "+---+--------+-----+\n",
      "|NPL|EMPLOYED|count|\n",
      "+---+--------+-----+\n",
      "|  0|       0| 1269|\n",
      "|  0|       1| 5932|\n",
      "|  1|       0|   31|\n",
      "|  1|       1|  141|\n",
      "+---+--------+-----+\n",
      "\n"
     ]
    }
   ],
   "source": [
    "# Counting the amount of employed and unemployed individuals per target group.\n",
    "from pyspark.sql.functions import when\n",
    "(train\n",
    "     .withColumn('EMPLOYED', when(col('OCCUPATION_TYPE') == 'Unemployed', 0).otherwise(1))\n",
    "     .groupBy('NPL', 'EMPLOYED')\n",
    "     .count()\n",
    "     .orderBy('NPL', 'EMPLOYED')).show(5)"
   ]
  },
  {
   "cell_type": "code",
   "execution_count": 35,
   "id": "fde8e9fe",
   "metadata": {
    "execution": {
     "iopub.execute_input": "2024-04-11T22:31:43.329388Z",
     "iopub.status.busy": "2024-04-11T22:31:43.328705Z",
     "iopub.status.idle": "2024-04-11T22:31:43.339676Z",
     "shell.execute_reply": "2024-04-11T22:31:43.337584Z"
    },
    "papermill": {
     "duration": 0.072153,
     "end_time": "2024-04-11T22:31:43.342384",
     "exception": false,
     "start_time": "2024-04-11T22:31:43.270231",
     "status": "completed"
    },
    "tags": []
   },
   "outputs": [
    {
     "data": {
      "text/plain": [
       "0.41442347321737816"
      ]
     },
     "execution_count": 35,
     "metadata": {},
     "output_type": "execute_result"
    }
   ],
   "source": [
    "# H0: The proportion of unemployed among people with honored debts is the same as with those who didn't.\n",
    "# H1: The proportion of unemployed among people with honored debts is lower than that of those who didn't.\n",
    "\n",
    "# By looking at the p-value, we don't have sufficient statistical evidence to reject H0.\n",
    "test_proportions_2indep(1269, 7201, 31, 172, compare='ratio', alternative='smaller', ).pvalue"
   ]
  },
  {
   "cell_type": "code",
   "execution_count": 36,
   "id": "1efdca2d",
   "metadata": {
    "execution": {
     "iopub.execute_input": "2024-04-11T22:31:43.457783Z",
     "iopub.status.busy": "2024-04-11T22:31:43.457113Z",
     "iopub.status.idle": "2024-04-11T22:31:44.956283Z",
     "shell.execute_reply": "2024-04-11T22:31:44.955203Z"
    },
    "papermill": {
     "duration": 1.559282,
     "end_time": "2024-04-11T22:31:44.959048",
     "exception": false,
     "start_time": "2024-04-11T22:31:43.399766",
     "status": "completed"
    },
    "tags": []
   },
   "outputs": [
    {
     "name": "stderr",
     "output_type": "stream",
     "text": [
      "                                                                                \r"
     ]
    }
   ],
   "source": [
    "# Saving the newly transformed `train` dataset.\n",
    "train.write.parquet('/kaggle/working/train.parquet', mode='overwrite')"
   ]
  },
  {
   "cell_type": "markdown",
   "id": "fb60935e",
   "metadata": {
    "papermill": {
     "duration": 0.055156,
     "end_time": "2024-04-11T22:31:45.069775",
     "exception": false,
     "start_time": "2024-04-11T22:31:45.014619",
     "status": "completed"
    },
    "tags": []
   },
   "source": [
    "<h2 style='font-size:30px'> Data Transforming </h2>\n",
    "<div> \n",
    "    <ul style='font-size:20px'> \n",
    "        <li> \n",
    "            We are very close to begin the creation of our models. But we must remind that the data firstly needs to go under a numeralization procedure.\n",
    "        </li>\n",
    "    </ul>\n",
    "</div>"
   ]
  },
  {
   "cell_type": "code",
   "execution_count": 37,
   "id": "a762e6d3",
   "metadata": {
    "execution": {
     "iopub.execute_input": "2024-04-11T22:31:45.182320Z",
     "iopub.status.busy": "2024-04-11T22:31:45.181937Z",
     "iopub.status.idle": "2024-04-11T22:31:59.624470Z",
     "shell.execute_reply": "2024-04-11T22:31:59.622326Z"
    },
    "papermill": {
     "duration": 14.502657,
     "end_time": "2024-04-11T22:31:59.627960",
     "exception": false,
     "start_time": "2024-04-11T22:31:45.125303",
     "status": "completed"
    },
    "tags": []
   },
   "outputs": [
    {
     "name": "stdout",
     "output_type": "stream",
     "text": [
      "Requirement already satisfied: pyspark in /opt/conda/lib/python3.10/site-packages (3.5.1)\r\n",
      "Requirement already satisfied: py4j==0.10.9.7 in /opt/conda/lib/python3.10/site-packages (from pyspark) (0.10.9.7)\r\n",
      "Note: you may need to restart the kernel to use updated packages.\n"
     ]
    }
   ],
   "source": [
    "pip install pyspark"
   ]
  },
  {
   "cell_type": "code",
   "execution_count": 38,
   "id": "5d35c4eb",
   "metadata": {
    "execution": {
     "iopub.execute_input": "2024-04-11T22:31:59.741277Z",
     "iopub.status.busy": "2024-04-11T22:31:59.740752Z",
     "iopub.status.idle": "2024-04-11T22:31:59.753987Z",
     "shell.execute_reply": "2024-04-11T22:31:59.752813Z"
    },
    "papermill": {
     "duration": 0.073635,
     "end_time": "2024-04-11T22:31:59.756741",
     "exception": false,
     "start_time": "2024-04-11T22:31:59.683106",
     "status": "completed"
    },
    "tags": []
   },
   "outputs": [
    {
     "data": {
      "text/html": [
       "<style>pre { white-space: pre !important; }</style>"
      ],
      "text/plain": [
       "<IPython.core.display.HTML object>"
      ]
     },
     "metadata": {},
     "output_type": "display_data"
    }
   ],
   "source": [
    "from pyspark import SparkContext\n",
    "from pyspark.sql import SparkSession\n",
    "from IPython.core.display import HTML\n",
    "\n",
    "# Creating the project's SparkSession.\n",
    "spark = SparkSession.builder.appName('NPL').getOrCreate()\n",
    "\n",
    "# Also, modifying the session's log level.\n",
    "log_level = spark.sparkContext.setLogLevel('ERROR')\n",
    "\n",
    "# This tiny config enables us to scroll along the DataFrame's columns.\n",
    "display(HTML(\"<style>pre { white-space: pre !important; }</style>\"))"
   ]
  },
  {
   "cell_type": "code",
   "execution_count": 39,
   "id": "8c39d32c",
   "metadata": {
    "execution": {
     "iopub.execute_input": "2024-04-11T22:31:59.869040Z",
     "iopub.status.busy": "2024-04-11T22:31:59.868591Z",
     "iopub.status.idle": "2024-04-11T22:32:00.161842Z",
     "shell.execute_reply": "2024-04-11T22:32:00.160599Z"
    },
    "papermill": {
     "duration": 0.353126,
     "end_time": "2024-04-11T22:32:00.165816",
     "exception": false,
     "start_time": "2024-04-11T22:31:59.812690",
     "status": "completed"
    },
    "tags": []
   },
   "outputs": [
    {
     "name": "stdout",
     "output_type": "stream",
     "text": [
      "+---------+-----------+------------+---------------+------------+----------------+----------------+--------------------+------------------+-----------------+----------+-------------+----------+---------------+----------+----------+---------------+---------------+---+\n",
      "|ID_CLIENT|CODE_GENDER|FLAG_OWN_CAR|FLAG_OWN_REALTY|CNT_CHILDREN|AMT_INCOME_TOTAL|NAME_INCOME_TYPE| NAME_EDUCATION_TYPE|NAME_FAMILY_STATUS|NAME_HOUSING_TYPE|DAYS_BIRTH|DAYS_EMPLOYED|FLAG_MOBIL|FLAG_WORK_PHONE|FLAG_PHONE|FLAG_EMAIL|CNT_FAM_MEMBERS|OCCUPATION_TYPE|NPL|\n",
      "+---------+-----------+------------+---------------+------------+----------------+----------------+--------------------+------------------+-----------------+----------+-------------+----------+---------------+----------+----------+---------------+---------------+---+\n",
      "|      691|          F|           N|              N|           0|         67500.0|         Working|Secondary / secon...|           Married|House / apartment|    -20075|        -7013|         1|              1|         1|         0|            2.0|    Sales staff|  0|\n",
      "|     3606|          F|           N|              N|           0|        112500.0|         Working|Secondary / secon...|           Married|House / apartment|     -9865|         -196|         1|              1|         0|         0|            2.0|       Laborers|  0|\n",
      "|     4821|          F|           N|              N|           0|        135000.0|   State servant|    Higher education|           Married|House / apartment|    -12490|        -1191|         1|              1|         1|         0|            2.0|     Core staff|  0|\n",
      "|     5925|          F|           N|              N|           0|        157500.0|       Pensioner|Secondary / secon...|           Married|House / apartment|    -22828|       365243|         1|              0|         0|         0|            2.0|     Unemployed|  0|\n",
      "|     6194|          F|           N|              N|           0|        157500.0|         Working|   Incomplete higher|           Married|House / apartment|    -16888|        -2687|         1|              0|         0|         0|            2.0|     Core staff|  0|\n",
      "+---------+-----------+------------+---------------+------------+----------------+----------------+--------------------+------------------+-----------------+----------+-------------+----------+---------------+----------+----------+---------------+---------------+---+\n",
      "only showing top 5 rows\n",
      "\n"
     ]
    }
   ],
   "source": [
    "train = spark.read.parquet('/kaggle/input/npl-train/train-eda.parquet/')\n",
    "train.show(5)"
   ]
  },
  {
   "cell_type": "markdown",
   "id": "e566a88f",
   "metadata": {
    "papermill": {
     "duration": 0.055408,
     "end_time": "2024-04-11T22:32:00.289891",
     "exception": false,
     "start_time": "2024-04-11T22:32:00.234483",
     "status": "completed"
    },
    "tags": []
   },
   "source": [
    "<h3 style='font-size:30px;font-style:italic'> Job Labels' Transformer</h3>\n",
    "<div> \n",
    "    <ul style='font-size:20px'> \n",
    "        <li>   \n",
    "            Before making our numeralization process, we must re-implement the 'OCCUPATION_TYPE' column logic that we've written in a formal \n",
    "            PySpark Transformer class. In that way, we'll be able to apply the transformations in the test set as well.\n",
    "        </li>\n",
    "    </ul>\n",
    "</div>"
   ]
  },
  {
   "cell_type": "code",
   "execution_count": 40,
   "id": "2f50bfea",
   "metadata": {
    "execution": {
     "iopub.execute_input": "2024-04-11T22:32:00.402861Z",
     "iopub.status.busy": "2024-04-11T22:32:00.402410Z",
     "iopub.status.idle": "2024-04-11T22:32:00.518772Z",
     "shell.execute_reply": "2024-04-11T22:32:00.517137Z"
    },
    "papermill": {
     "duration": 0.177405,
     "end_time": "2024-04-11T22:32:00.522600",
     "exception": false,
     "start_time": "2024-04-11T22:32:00.345195",
     "status": "completed"
    },
    "tags": []
   },
   "outputs": [],
   "source": [
    "from pyspark.ml.param.shared import HasInputCol, HasInputCols, HasOutputCol, HasOutputCols, Param, Params, TypeConverters\n",
    "from pyspark.ml.util import DefaultParamsReadable, DefaultParamsWritable\n",
    "from pyspark import keyword_only\n",
    "from pyspark.ml import Transformer\n",
    "from typing import List\n",
    "\n",
    "class _BaseTransformer(Transformer, HasInputCol, HasInputCols, HasOutputCol, HasOutputCols, DefaultParamsReadable, DefaultParamsWritable):\n",
    "    '''\n",
    "        A class that provide the basic functionalities for the project's custom transformers.\n",
    "        \n",
    "        If you consider that your object will require even more customization, you can just overwrite any of the default methods when creating it. Also,\n",
    "        remember that any extra parameter must be set with a `self._setDefault` method right in the `__init__` function, mentioned in the `self.setParams`\n",
    "        method and own a getter function.\n",
    "        \n",
    "        Lastly, don't forget to define the `_transform` function!\n",
    "        \n",
    "        Parameters\n",
    "        ----------\n",
    "        `inputCol`: str\n",
    "            The name of the input column.\n",
    "        `inputCols`: List[str]\n",
    "            List containing the name of input columns.\n",
    "        `outputCol`: str\n",
    "            The name of the output column.\n",
    "        `outputCols`: List[str]\n",
    "            List containing the name of output columns.\n",
    "        \n",
    "        References\n",
    "        ----------\n",
    "        https://medium.com/@zeid.zandi/utilizing-the-power-of-pyspark-pipelines-in-data-science-projects-benefits-and-limitations-2-2-9063e4bebd05\n",
    "        https://www.crowdstrike.com/blog/deep-dive-into-custom-spark-transformers-for-machine-learning-pipelines/\n",
    "    '''\n",
    "    @keyword_only\n",
    "    def __init__(self, inputCol:str=None, inputCols:List[str]=None, outputCol:str=None, outputCols:List[str]=None, *args)->None:\n",
    "        super().__init__()\n",
    "        kwargs = self._input_kwargs\n",
    "        self.setParams(**kwargs)\n",
    "        \n",
    "    @keyword_only\n",
    "    def setParams(self, inputCol=None, inputCols=None, outputCol=None, outputCols=None): \n",
    "        kwargs = self._input_kwargs                                                          \n",
    "        return self._set(**kwargs)\n",
    "    \n",
    "    def setInputCol(self, value):\n",
    "        return self.setParams(inputCol=value)\n",
    "    \n",
    "    def setInputCols(self, value):\n",
    "        self.setParams(inputCols=value)\n",
    "    \n",
    "    def setOutputCol(self, value):\n",
    "        return self.setParams(outputCol=value)\n",
    "    \n",
    "    def setOutputCols(self, value):\n",
    "        return self.setParams(outputCols=value)"
   ]
  },
  {
   "cell_type": "code",
   "execution_count": 41,
   "id": "5b934970",
   "metadata": {
    "execution": {
     "iopub.execute_input": "2024-04-11T22:32:00.636414Z",
     "iopub.status.busy": "2024-04-11T22:32:00.635823Z",
     "iopub.status.idle": "2024-04-11T22:32:00.648171Z",
     "shell.execute_reply": "2024-04-11T22:32:00.646790Z"
    },
    "papermill": {
     "duration": 0.072461,
     "end_time": "2024-04-11T22:32:00.650817",
     "exception": false,
     "start_time": "2024-04-11T22:32:00.578356",
     "status": "completed"
    },
    "tags": []
   },
   "outputs": [],
   "source": [
    "from pyspark.sql import DataFrame\n",
    "from pyspark.sql.functions import udf\n",
    "from pyspark.sql.types import StringType\n",
    "\n",
    "class ImputeOccupation(_BaseTransformer):\n",
    "    '''\n",
    "        A Transformer encharged of imputing proper OCCUPATION_TYPE values for rows that are NULL in such column.  \n",
    "        \n",
    "        Parameters\n",
    "        ----------\n",
    "        `inputCol`: str\n",
    "            The name of the input column.\n",
    "            \n",
    "        Method\n",
    "        ------\n",
    "        `_transform`: Applies the mentioned imputation process,\n",
    "    '''\n",
    "    @staticmethod\n",
    "    @udf(returnType=StringType())\n",
    "    def __impute_occupation(col_occupation:str, col_days_employed:int)->str:\n",
    "        '''\n",
    "        Assigns new categories to the OCCUPATION_TYPE column, if it is null. \n",
    "        \n",
    "        In case the row's DAYS_EMPLOYED shows that the client is currently employed, we impute 'UNDEFINED'; otherwise, we insert 'UNEMPLOYED'.\n",
    "        \n",
    "        Parameters\n",
    "        ----------\n",
    "        `col_occupation`: str\n",
    "            The row's OCCUPATION_TYPE value.\n",
    "        `col_days_employed`: int\n",
    "            The row's DAYS_EMPLOYED value.\n",
    "        \n",
    "        Returns\n",
    "        -------\n",
    "        The row's OCCUPATION_TYPE treated value.\n",
    "        '''\n",
    "        # 'Undefined' profession logic.\n",
    "        if (col_occupation is None) and (col_days_employed<=0):\n",
    "            return 'Undefined'\n",
    "\n",
    "        # 'Unemployed' logic.\n",
    "        elif (col_occupation is None) and (col_days_employed>0):\n",
    "            return 'Unemployed'\n",
    "        \n",
    "        # Otherwise, it outputs the current value.\n",
    "        else:\n",
    "            return col_occupation\n",
    "    \n",
    "    def _transform(self, dataset:DataFrame)->DataFrame:\n",
    "        '''\n",
    "            Performs the new occupation categories imputation.\n",
    "            \n",
    "            Parameter\n",
    "            ---------\n",
    "            `dataset`: `pyspark.sql.DataFrame`\n",
    "                The project's independent variables.\n",
    "                \n",
    "            Returns\n",
    "            -------\n",
    "            The DataFrame with the treated 'OCCUPATION_TYPE' column.\n",
    "        '''\n",
    "        x = self.getInputCol()\n",
    "        dataset = dataset.withColumn(x, self.__impute_occupation(x, 'DAYS_EMPLOYED'))\n",
    "        return dataset"
   ]
  },
  {
   "cell_type": "markdown",
   "id": "f9d634ae",
   "metadata": {
    "papermill": {
     "duration": 0.054518,
     "end_time": "2024-04-11T22:32:00.760573",
     "exception": false,
     "start_time": "2024-04-11T22:32:00.706055",
     "status": "completed"
    },
    "tags": []
   },
   "source": [
    "<h3 style='font-size:30px;font-style:italic'> String Columns Numeralization</h3>\n",
    "<div> \n",
    "    <ul style='font-size:20px'> \n",
    "        <li>   \n",
    "            The first transformation we must conduct is turning string columns into float format.\n",
    "        </li>\n",
    "        <li> \n",
    "            As a solution, I'ĺl replace the given category for the its proportion of instances that are defaulted. I think that will be a worthier way \n",
    "            of generating numerical information than just providing a One-Hot Encoding.\n",
    "        </li>\n",
    "    </ul>\n",
    "</div>"
   ]
  },
  {
   "cell_type": "code",
   "execution_count": 42,
   "id": "f0785b2f",
   "metadata": {
    "execution": {
     "iopub.execute_input": "2024-04-11T22:32:00.870357Z",
     "iopub.status.busy": "2024-04-11T22:32:00.869973Z",
     "iopub.status.idle": "2024-04-11T22:32:00.881714Z",
     "shell.execute_reply": "2024-04-11T22:32:00.880527Z"
    },
    "papermill": {
     "duration": 0.069723,
     "end_time": "2024-04-11T22:32:00.884394",
     "exception": false,
     "start_time": "2024-04-11T22:32:00.814671",
     "status": "completed"
    },
    "tags": []
   },
   "outputs": [],
   "source": [
    "from pyspark.ml.pipeline import Estimator, Model, Pipeline, PipelineModel\n",
    "from pyspark.ml.param.shared import HasPredictionCol, Param, Params, TypeConverters\n",
    "from typing import Dict, List, Union\n",
    "\n",
    "doc = '''\n",
    "    Parameter that stores the proportions of defaulted individuals for each X features' categories.\n",
    "'''\n",
    "class HasDefaultProportions(Params):\n",
    "    '''\n",
    "        A class dedicated to store the categories' proportion of indebted individuals. \n",
    "    '''\n",
    "    defaultProportions:Dict[str, Dict[str, float]] = Param(Params._dummy(), 'defaultProportions', doc)\n",
    "    \n",
    "    def __init__(self):\n",
    "        super(HasDefaultProportions, self).__init__()\n",
    "    \n",
    "    def setDefaultProportions(self, value):\n",
    "        return self._set(defaultProportions=value)\n",
    "    \n",
    "    def getDefaultProportions(self):\n",
    "        return self.getOrDefault(self.defaultProportions)\n",
    "    \n",
    "list_col_strings = [col for col, dtype in train.dtypes if dtype=='string' and col !='NPL']"
   ]
  },
  {
   "cell_type": "code",
   "execution_count": 43,
   "id": "cd5dc63c",
   "metadata": {
    "execution": {
     "iopub.execute_input": "2024-04-11T22:32:01.001396Z",
     "iopub.status.busy": "2024-04-11T22:32:01.000107Z",
     "iopub.status.idle": "2024-04-11T22:32:01.013852Z",
     "shell.execute_reply": "2024-04-11T22:32:01.012523Z"
    },
    "papermill": {
     "duration": 0.074107,
     "end_time": "2024-04-11T22:32:01.017310",
     "exception": false,
     "start_time": "2024-04-11T22:32:00.943203",
     "status": "completed"
    },
    "tags": []
   },
   "outputs": [],
   "source": [
    "from pyspark.sql.dataframe import DataFrame\n",
    "\n",
    "class DefaultProportionsModel(Model, HasInputCols, HasDefaultProportions, DefaultParamsReadable, DefaultParamsWritable):\n",
    "    '''\n",
    "        The `pyspark.ml.pipeline.Model` that replaces categorical values for their respective proportion of defaulted individuals.\n",
    "        \n",
    "        Parameters\n",
    "        ---------\n",
    "        `inputCols: List[str]\n",
    "            A list of the categorical features names.\n",
    "        `defaultProportions`: Dict[str, DataFrame]\n",
    "            A dictionary mapping the name of the categorical column to a DataFrame storing the proportions.\n",
    "            \n",
    "        Method\n",
    "        -------\n",
    "        `_transform`: Performs the replacements.\n",
    "    '''\n",
    "    @keyword_only\n",
    "    def __init__(self, inputCols:List[str]=None, defaultProportions:Dict[str,List[Dict[str, Union[str, float]]]]=None):\n",
    "        super(DefaultProportionsModel, self).__init__()\n",
    "        kwargs = self._input_kwargs\n",
    "        self.setParams(**kwargs)\n",
    "        \n",
    "    @keyword_only\n",
    "    def setParams(self, inputCols:List[str]=None, defaultProportions:Dict[str,List[Dict[str, Union[str, float]]]]=None):\n",
    "        kwargs = self._input_kwargs\n",
    "        return self._set(**kwargs)\n",
    "    \n",
    "    def _transform(self, dataset:DataFrame)->DataFrame:\n",
    "        '''\n",
    "            Method that exchanges the categorical values for their proportion of defaulted individuals of the training set.\n",
    "            \n",
    "            Parameter\n",
    "            ---------\n",
    "            `dataset`: `pyspark.sql.dataframe.DataFrame` \n",
    "                A `pyspark.sql.dataframe.DataFrame` with the project's data.\n",
    "                \n",
    "            Returns\n",
    "            -------\n",
    "            The DataFrame with the mentioned transformation.\n",
    "        '''\n",
    "        x = self.getInputCols()\n",
    "        defaultProportions = self.getDefaultProportions()\n",
    "        for c in x:\n",
    "            df = spark.createDataFrame(defaultProportions[c]) # Converting our list of dicts into a DataFrame.\n",
    "            dataset = dataset.join(df, on=c, how='left').drop(c)\n",
    "        return dataset"
   ]
  },
  {
   "cell_type": "code",
   "execution_count": 44,
   "id": "8397a1d9",
   "metadata": {
    "execution": {
     "iopub.execute_input": "2024-04-11T22:32:01.133981Z",
     "iopub.status.busy": "2024-04-11T22:32:01.132845Z",
     "iopub.status.idle": "2024-04-11T22:32:01.151037Z",
     "shell.execute_reply": "2024-04-11T22:32:01.149473Z"
    },
    "papermill": {
     "duration": 0.079758,
     "end_time": "2024-04-11T22:32:01.154120",
     "exception": false,
     "start_time": "2024-04-11T22:32:01.074362",
     "status": "completed"
    },
    "tags": []
   },
   "outputs": [],
   "source": [
    "from pyspark.sql.functions import col\n",
    "from pyspark.sql.types import DecimalType, FloatType\n",
    "\n",
    "class DefaultProportions(Estimator, HasInputCols, HasDefaultProportions, DefaultParamsReadable, DefaultParamsWritable):\n",
    "    '''\n",
    "        An Estimator encharged for measuring the categorical values proportions of defaulted individuals.\n",
    "    \n",
    "        Parameter\n",
    "        ---------\n",
    "        `inputCols`: List[str]\n",
    "            A list with the categorical columns names.\n",
    "            \n",
    "        Method\n",
    "        ------\n",
    "        `_fit`: Measures the proportions and stores them in a DataFrame.\n",
    "        \n",
    "        References\n",
    "        ----------\n",
    "        https://stackoverflow.com/questions/37270446/how-to-create-a-custom-estimator-in-pyspark\n",
    "    '''\n",
    "    @keyword_only\n",
    "    def __init__(self, inputCols:List[str]=None):\n",
    "        super(DefaultProportions, self).__init__()\n",
    "        kwargs = self._input_kwargs\n",
    "        self.setParams(**kwargs)\n",
    "    \n",
    "    @keyword_only\n",
    "    def setParams(self, inputCols:List[str]=None):\n",
    "        kwargs = self._input_kwargs\n",
    "        return self._set(**kwargs)\n",
    "        \n",
    "    def setInputCols(self, value:List[str]):\n",
    "        return self.setParams(inputCols=value)\n",
    "    \n",
    "    def setPredictionCol(self, value:str):\n",
    "        return self.setParams(predictionCol=value)\n",
    "    \n",
    "    @staticmethod\n",
    "    def __measure_proportions(dataset:DataFrame, input_cols:List[str], target:str)->Dict[str, DataFrame]:\n",
    "        '''\n",
    "            Responsible for quantifying the categories' proportions of indebted individuals. They will be stored in a `pyspark.sql.dataframe.DataFrame`\n",
    "            object. Each dataframe is kept in the `defaultedProportions` dictionary, which maps them to the categorical column's name.\n",
    "            \n",
    "            Paramters\n",
    "            ---------\n",
    "            `dataset`: DataFrame\n",
    "                A `pyspark.sql.dataframe.DataFrame` with the project's data.\n",
    "            `inputCols`: List[str]\n",
    "                A list with the categorical columns names.    \n",
    "            `target`: str\n",
    "                The `dataset`'s target name.\n",
    "            \n",
    "            Returns\n",
    "            -------\n",
    "            A dictionary mapping the categorical columns' names to the DataFrame that stores the classes proportions.\n",
    "        '''\n",
    "        defaultProportions = {}\n",
    "        len_df = dataset.count()\n",
    "        for c in input_cols:\n",
    "            col_prop = c+'_NPL_PROP'\n",
    "            df_gb = dataset.groupBy([c, target]).count()\n",
    "            df_props = (df_gb\n",
    "                        .where(f'{target}==1')\n",
    "                        .withColumn(col_prop, (col('count')/len_df)\n",
    "                        .cast(FloatType()))#DecimalType(8,7)))\n",
    "                        .select([c, col_prop])) # De onde vem esse `row`?\n",
    "            defaultProportions[c] = list(map(lambda row: row.asDict(), df_props.collect())) # DF to list so we can be able saving the class.\n",
    "            print(defaultProportions[c])\n",
    "        return defaultProportions\n",
    "            \n",
    "    def _fit(self, dataset:DataFrame, target:str='NPL')->DefaultProportionsModel:\n",
    "        '''\n",
    "            Measures the proportions of indebted individuals from each of the dataset's independent categories.\n",
    "            \n",
    "            Parameters\n",
    "            ---------\n",
    "            `dataset`: `pyspark.sql.dataframe.DataFrame`\n",
    "                A `pyspark.sql.dataframe.DataFrame` with the project's data.   \n",
    "            `target`: str\n",
    "                The `dataset`'s target name.\n",
    "                \n",
    "            Returns\n",
    "            -------\n",
    "            A fitted DefaultProportionsModel ready for transforming the dataset.\n",
    "        '''\n",
    "        x = self.getInputCols()\n",
    "        defaultProportions = self.__measure_proportions(dataset, x, target)\n",
    "        return DefaultProportionsModel(inputCols=x, defaultProportions=defaultProportions)"
   ]
  },
  {
   "cell_type": "code",
   "execution_count": 45,
   "id": "a023407e",
   "metadata": {
    "execution": {
     "iopub.execute_input": "2024-04-11T22:32:01.265611Z",
     "iopub.status.busy": "2024-04-11T22:32:01.265149Z",
     "iopub.status.idle": "2024-04-11T22:32:05.505254Z",
     "shell.execute_reply": "2024-04-11T22:32:05.503323Z"
    },
    "papermill": {
     "duration": 4.300716,
     "end_time": "2024-04-11T22:32:05.509947",
     "exception": false,
     "start_time": "2024-04-11T22:32:01.209231",
     "status": "completed"
    },
    "tags": []
   },
   "outputs": [
    {
     "name": "stdout",
     "output_type": "stream",
     "text": [
      "[{'CODE_GENDER': 'M', 'CODE_GENDER_NPL_PROP': 0.00935847032815218}, {'CODE_GENDER': 'F', 'CODE_GENDER_NPL_PROP': 0.013969889841973782}]\n",
      "[{'FLAG_OWN_CAR': 'Y', 'FLAG_OWN_CAR_NPL_PROP': 0.008002170361578465}, {'FLAG_OWN_CAR': 'N', 'FLAG_OWN_CAR_NPL_PROP': 0.015326189808547497}]\n",
      "[{'FLAG_OWN_REALTY': 'Y', 'FLAG_OWN_REALTY_NPL_PROP': 0.013698630034923553}, {'FLAG_OWN_REALTY': 'N', 'FLAG_OWN_REALTY_NPL_PROP': 0.009629730135202408}]\n",
      "[{'NAME_INCOME_TYPE': 'Commercial associate', 'NAME_INCOME_TYPE_NPL_PROP': 0.0061033498495817184}, {'NAME_INCOME_TYPE': 'Working', 'NAME_INCOME_TYPE_NPL_PROP': 0.010443510487675667}, {'NAME_INCOME_TYPE': 'Pensioner', 'NAME_INCOME_TYPE_NPL_PROP': 0.004882680252194405}, {'NAME_INCOME_TYPE': 'State servant', 'NAME_INCOME_TYPE_NPL_PROP': 0.0018988200463354588}]\n",
      "[{'NAME_EDUCATION_TYPE': 'Secondary / secondary special', 'NAME_EDUCATION_TYPE_NPL_PROP': 0.01478367019444704}, {'NAME_EDUCATION_TYPE': 'Lower secondary', 'NAME_EDUCATION_TYPE_NPL_PROP': 0.0006781499832868576}, {'NAME_EDUCATION_TYPE': 'Incomplete higher', 'NAME_EDUCATION_TYPE_NPL_PROP': 0.001491929986514151}, {'NAME_EDUCATION_TYPE': 'Higher education', 'NAME_EDUCATION_TYPE_NPL_PROP': 0.006374610122293234}]\n",
      "[{'NAME_FAMILY_STATUS': 'Separated', 'NAME_FAMILY_STATUS_NPL_PROP': 0.0017631900263950229}, {'NAME_FAMILY_STATUS': 'Civil marriage', 'NAME_FAMILY_STATUS_NPL_PROP': 0.0005425200215540826}, {'NAME_FAMILY_STATUS': 'Married', 'NAME_FAMILY_STATUS_NPL_PROP': 0.01600434072315693}, {'NAME_FAMILY_STATUS': 'Widow', 'NAME_FAMILY_STATUS_NPL_PROP': 0.001491929986514151}, {'NAME_FAMILY_STATUS': 'Single / not married', 'NAME_FAMILY_STATUS_NPL_PROP': 0.0035263800527900457}]\n",
      "[{'NAME_HOUSING_TYPE': 'Municipal apartment', 'NAME_HOUSING_TYPE_NPL_PROP': 0.0017631900263950229}, {'NAME_HOUSING_TYPE': 'Co-op apartment', 'NAME_HOUSING_TYPE_NPL_PROP': 0.0002712600107770413}, {'NAME_HOUSING_TYPE': 'With parents', 'NAME_HOUSING_TYPE_NPL_PROP': 0.00040689000161364675}, {'NAME_HOUSING_TYPE': 'House / apartment', 'NAME_HOUSING_TYPE_NPL_PROP': 0.020073240622878075}, {'NAME_HOUSING_TYPE': 'Rented apartment', 'NAME_HOUSING_TYPE_NPL_PROP': 0.0005425200215540826}, {'NAME_HOUSING_TYPE': 'Office apartment', 'NAME_HOUSING_TYPE_NPL_PROP': 0.0002712600107770413}]\n",
      "[{'FLAG_MOBIL': '1', 'FLAG_MOBIL_NPL_PROP': 0.02332836017012596}]\n",
      "[{'FLAG_WORK_PHONE': '1', 'FLAG_WORK_PHONE_NPL_PROP': 0.005967719946056604}, {'FLAG_WORK_PHONE': '0', 'FLAG_WORK_PHONE_NPL_PROP': 0.017360640689730644}]\n",
      "[{'FLAG_PHONE': '0', 'FLAG_PHONE_NPL_PROP': 0.015461820177733898}, {'FLAG_PHONE': '1', 'FLAG_PHONE_NPL_PROP': 0.007866539992392063}]\n",
      "[{'FLAG_EMAIL': '0', 'FLAG_EMAIL_NPL_PROP': 0.02142954058945179}, {'FLAG_EMAIL': '1', 'FLAG_EMAIL_NPL_PROP': 0.0018988200463354588}]\n",
      "[{'OCCUPATION_TYPE': 'Undefined', 'OCCUPATION_TYPE_NPL_PROP': 0.003255120012909174}, {'OCCUPATION_TYPE': 'Core staff', 'OCCUPATION_TYPE_NPL_PROP': 0.003255120012909174}, {'OCCUPATION_TYPE': 'High skill tech staff', 'OCCUPATION_TYPE_NPL_PROP': 0.0009494100231677294}, {'OCCUPATION_TYPE': 'Managers', 'OCCUPATION_TYPE_NPL_PROP': 0.0018988200463354588}, {'OCCUPATION_TYPE': 'Cleaning staff', 'OCCUPATION_TYPE_NPL_PROP': 0.00040689000161364675}, {'OCCUPATION_TYPE': 'Sales staff', 'OCCUPATION_TYPE_NPL_PROP': 0.0017631900263950229}, {'OCCUPATION_TYPE': 'Laborers', 'OCCUPATION_TYPE_NPL_PROP': 0.00366200995631516}, {'OCCUPATION_TYPE': 'Unemployed', 'OCCUPATION_TYPE_NPL_PROP': 0.004204530268907547}, {'OCCUPATION_TYPE': 'Security staff', 'OCCUPATION_TYPE_NPL_PROP': 0.0005425200215540826}, {'OCCUPATION_TYPE': 'Secretaries', 'OCCUPATION_TYPE_NPL_PROP': 0.00013563000538852066}, {'OCCUPATION_TYPE': 'Medicine staff', 'OCCUPATION_TYPE_NPL_PROP': 0.0006781499832868576}, {'OCCUPATION_TYPE': 'Cooking staff', 'OCCUPATION_TYPE_NPL_PROP': 0.00040689000161364675}, {'OCCUPATION_TYPE': 'Accountants', 'OCCUPATION_TYPE_NPL_PROP': 0.0006781499832868576}, {'OCCUPATION_TYPE': 'Drivers', 'OCCUPATION_TYPE_NPL_PROP': 0.0010850400431081653}, {'OCCUPATION_TYPE': 'Waiters/barmen staff', 'OCCUPATION_TYPE_NPL_PROP': 0.00013563000538852066}, {'OCCUPATION_TYPE': 'IT staff', 'OCCUPATION_TYPE_NPL_PROP': 0.00013563000538852066}, {'OCCUPATION_TYPE': 'Low-skill Laborers', 'OCCUPATION_TYPE_NPL_PROP': 0.00013563000538852066}]\n"
     ]
    }
   ],
   "source": [
    "# Finally, we can insert both custom classes inside a pyspark pipeline!\n",
    "impute_occupation = ImputeOccupation(inputCol='OCCUPATION_TYPE')\n",
    "default_prop = DefaultProportions(inputCols=list_col_strings[1:])\n",
    "\n",
    "# Creating the pipe.\n",
    "pipe1 = Pipeline(stages=[impute_occupation, default_prop]).fit(train)\n",
    "train_num = pipe1.transform(train)"
   ]
  },
  {
   "cell_type": "code",
   "execution_count": 46,
   "id": "b61aa93c",
   "metadata": {
    "execution": {
     "iopub.execute_input": "2024-04-11T22:32:05.630045Z",
     "iopub.status.busy": "2024-04-11T22:32:05.629629Z",
     "iopub.status.idle": "2024-04-11T22:32:13.889385Z",
     "shell.execute_reply": "2024-04-11T22:32:13.887979Z"
    },
    "papermill": {
     "duration": 8.321643,
     "end_time": "2024-04-11T22:32:13.892825",
     "exception": false,
     "start_time": "2024-04-11T22:32:05.571182",
     "status": "completed"
    },
    "tags": []
   },
   "outputs": [
    {
     "name": "stderr",
     "output_type": "stream",
     "text": [
      "                                                                                \r"
     ]
    },
    {
     "name": "stdout",
     "output_type": "stream",
     "text": [
      "+------------+----------------+----------+-------------+---------------+---+--------------------+---------------------+------------------------+-------------------------+----------------------------+---------------------------+--------------------------+-------------------+------------------------+--------------------+-------------------+------------------------+\n",
      "|CNT_CHILDREN|AMT_INCOME_TOTAL|DAYS_BIRTH|DAYS_EMPLOYED|CNT_FAM_MEMBERS|NPL|CODE_GENDER_NPL_PROP|FLAG_OWN_CAR_NPL_PROP|FLAG_OWN_REALTY_NPL_PROP|NAME_INCOME_TYPE_NPL_PROP|NAME_EDUCATION_TYPE_NPL_PROP|NAME_FAMILY_STATUS_NPL_PROP|NAME_HOUSING_TYPE_NPL_PROP|FLAG_MOBIL_NPL_PROP|FLAG_WORK_PHONE_NPL_PROP| FLAG_PHONE_NPL_PROP|FLAG_EMAIL_NPL_PROP|OCCUPATION_TYPE_NPL_PROP|\n",
      "+------------+----------------+----------+-------------+---------------+---+--------------------+---------------------+------------------------+-------------------------+----------------------------+---------------------------+--------------------------+-------------------+------------------------+--------------------+-------------------+------------------------+\n",
      "|           0|        112500.0|     -9865|         -196|            2.0|  0|0.013969889841973782| 0.015326189808547497|    0.009629730135202408|     0.010443510487675667|         0.01478367019444704|        0.01600434072315693|      0.020073240622878075|0.02332836017012596|    0.005967719946056604|0.015461820177733898|0.02142954058945179|     0.00366200995631516|\n",
      "|           0|         67500.0|    -20075|        -7013|            2.0|  0|0.013969889841973782| 0.015326189808547497|    0.009629730135202408|     0.010443510487675667|         0.01478367019444704|        0.01600434072315693|      0.020073240622878075|0.02332836017012596|    0.005967719946056604|0.007866539992392063|0.02142954058945179|    0.001763190026395...|\n",
      "|           0|        364500.0|    -17204|        -1028|            2.0|  0|0.013969889841973782| 0.015326189808547497|    0.009629730135202408|     0.010443510487675667|         0.01478367019444704|       5.425200215540826E-4|      0.020073240622878075|0.02332836017012596|    0.017360640689730644|0.015461820177733898|0.02142954058945179|    0.001763190026395...|\n",
      "|           0|        135000.0|    -12490|        -1191|            2.0|  0|0.013969889841973782| 0.015326189808547497|    0.009629730135202408|     0.001898820046335...|        0.006374610122293234|        0.01600434072315693|      0.020073240622878075|0.02332836017012596|    0.005967719946056604|0.007866539992392063|0.02142954058945179|    0.003255120012909174|\n",
      "|           0|        157500.0|    -16888|        -2687|            2.0|  0|0.013969889841973782| 0.015326189808547497|    0.009629730135202408|     0.010443510487675667|        0.001491929986514151|        0.01600434072315693|      0.020073240622878075|0.02332836017012596|    0.017360640689730644|0.015461820177733898|0.02142954058945179|    0.003255120012909174|\n",
      "+------------+----------------+----------+-------------+---------------+---+--------------------+---------------------+------------------------+-------------------------+----------------------------+---------------------------+--------------------------+-------------------+------------------------+--------------------+-------------------+------------------------+\n",
      "only showing top 5 rows\n",
      "\n"
     ]
    }
   ],
   "source": [
    "# We can discard the ID_CLIENT column, since it has no predictive value.\n",
    "train_num = train_num.drop('ID_CLIENT')\n",
    "train_num.show(5)"
   ]
  },
  {
   "cell_type": "markdown",
   "id": "61e50574",
   "metadata": {
    "papermill": {
     "duration": 0.057288,
     "end_time": "2024-04-11T22:32:14.017003",
     "exception": false,
     "start_time": "2024-04-11T22:32:13.959715",
     "status": "completed"
    },
    "tags": []
   },
   "source": [
    "<h3 style='font-size:30px;font-style:italic'> Imputing and Standardization</h3>\n",
    "<div> \n",
    "    <ul style='font-size:20px'> \n",
    "        <li>   \n",
    "            As a last step, we also need to guarantee that our instances will have no NULL values. Also, we must standardize our numbers, in line\n",
    "            with ML best practices.\n",
    "        </li>\n",
    "    </ul>\n",
    "</div>"
   ]
  },
  {
   "cell_type": "code",
   "execution_count": 47,
   "id": "8f0183d8",
   "metadata": {
    "execution": {
     "iopub.execute_input": "2024-04-11T22:32:14.136547Z",
     "iopub.status.busy": "2024-04-11T22:32:14.136031Z",
     "iopub.status.idle": "2024-04-11T22:32:30.249707Z",
     "shell.execute_reply": "2024-04-11T22:32:30.248367Z"
    },
    "papermill": {
     "duration": 16.177542,
     "end_time": "2024-04-11T22:32:30.253819",
     "exception": false,
     "start_time": "2024-04-11T22:32:14.076277",
     "status": "completed"
    },
    "tags": []
   },
   "outputs": [
    {
     "name": "stderr",
     "output_type": "stream",
     "text": [
      "                                                                                \r"
     ]
    }
   ],
   "source": [
    "# With all our features properly in numerical format, we can add a second Pipeline that handles imputing and standardization.\n",
    "from pyspark.ml.feature import Imputer, StandardScaler, VectorAssembler\n",
    "\n",
    "list_features = [c for c in train_num.columns if c!='NPL']\n",
    "\n",
    "imputer = Imputer(inputCols=list_features, outputCols=list_features)\n",
    "\n",
    "vector_assembler = VectorAssembler(inputCols=list_features, outputCol='features', handleInvalid='skip')\n",
    "scaler = StandardScaler(inputCol='features', outputCol='scaled_features', withMean=True)\n",
    "pipe2 = Pipeline(stages=[imputer, vector_assembler, scaler]).fit(train_num)"
   ]
  },
  {
   "cell_type": "code",
   "execution_count": 48,
   "id": "50a4fd02",
   "metadata": {
    "execution": {
     "iopub.execute_input": "2024-04-11T22:32:30.415362Z",
     "iopub.status.busy": "2024-04-11T22:32:30.414821Z",
     "iopub.status.idle": "2024-04-11T22:32:38.282704Z",
     "shell.execute_reply": "2024-04-11T22:32:38.281225Z"
    },
    "papermill": {
     "duration": 7.945293,
     "end_time": "2024-04-11T22:32:38.286837",
     "exception": false,
     "start_time": "2024-04-11T22:32:30.341544",
     "status": "completed"
    },
    "tags": []
   },
   "outputs": [
    {
     "name": "stderr",
     "output_type": "stream",
     "text": [
      "                                                                                \r"
     ]
    },
    {
     "name": "stdout",
     "output_type": "stream",
     "text": [
      "+--------------------+---+\n",
      "|     scaled_features|NPL|\n",
      "+--------------------+---+\n",
      "|[-0.5716041269164...|  0|\n",
      "|[-0.5716041269164...|  0|\n",
      "|[-0.5716041269164...|  0|\n",
      "|[0.79229141604638...|  0|\n",
      "|[2.15618695900926...|  0|\n",
      "+--------------------+---+\n",
      "only showing top 5 rows\n",
      "\n"
     ]
    }
   ],
   "source": [
    "# Finally, creating the project's official transformation Pipeline! \n",
    "# We can declare it as a PipelineModel, since its sub-pipelines have already been fitted!\n",
    "pipe = PipelineModel(stages=[pipe1, pipe2])\n",
    "train_num = pipe.transform(train).select(['scaled_features', 'NPL'])\n",
    "train_num.show(5)"
   ]
  },
  {
   "cell_type": "code",
   "execution_count": 49,
   "id": "d96d97df",
   "metadata": {
    "execution": {
     "iopub.execute_input": "2024-04-11T22:32:38.465343Z",
     "iopub.status.busy": "2024-04-11T22:32:38.464790Z",
     "iopub.status.idle": "2024-04-11T22:32:45.906227Z",
     "shell.execute_reply": "2024-04-11T22:32:45.904901Z"
    },
    "papermill": {
     "duration": 7.532237,
     "end_time": "2024-04-11T22:32:45.909230",
     "exception": false,
     "start_time": "2024-04-11T22:32:38.376993",
     "status": "completed"
    },
    "tags": []
   },
   "outputs": [
    {
     "name": "stderr",
     "output_type": "stream",
     "text": [
      "                                                                                \r"
     ]
    }
   ],
   "source": [
    "# It's a good idea to save our numerical training set.\n",
    "train_num.write.parquet('/kaggle/working/train_num.parquet', mode='overwrite')"
   ]
  },
  {
   "cell_type": "code",
   "execution_count": 50,
   "id": "9032c5ac",
   "metadata": {
    "execution": {
     "iopub.execute_input": "2024-04-11T22:32:46.098411Z",
     "iopub.status.busy": "2024-04-11T22:32:46.097970Z",
     "iopub.status.idle": "2024-04-11T22:32:46.103470Z",
     "shell.execute_reply": "2024-04-11T22:32:46.102325Z"
    },
    "papermill": {
     "duration": 0.10493,
     "end_time": "2024-04-11T22:32:46.106445",
     "exception": false,
     "start_time": "2024-04-11T22:32:46.001515",
     "status": "completed"
    },
    "tags": []
   },
   "outputs": [],
   "source": [
    "# Also, registering our test set.\n",
    "#test_num = pipe.transform(test).select(['scaled_features', 'NPL'])\n",
    "#test_num.write.parquet('/kaggle/working/test_num.parquet', mode='overwrite')"
   ]
  },
  {
   "cell_type": "code",
   "execution_count": 51,
   "id": "1a97cb34",
   "metadata": {
    "execution": {
     "iopub.execute_input": "2024-04-11T22:32:46.258224Z",
     "iopub.status.busy": "2024-04-11T22:32:46.257818Z",
     "iopub.status.idle": "2024-04-11T22:32:48.584576Z",
     "shell.execute_reply": "2024-04-11T22:32:48.583236Z"
    },
    "papermill": {
     "duration": 2.393415,
     "end_time": "2024-04-11T22:32:48.587320",
     "exception": false,
     "start_time": "2024-04-11T22:32:46.193905",
     "status": "completed"
    },
    "tags": []
   },
   "outputs": [],
   "source": [
    "# Saving the model for future use.\n",
    "pipe.save('../working/pipe')"
   ]
  },
  {
   "cell_type": "markdown",
   "id": "81cf69b6",
   "metadata": {
    "papermill": {
     "duration": 0.061659,
     "end_time": "2024-04-11T22:32:48.713789",
     "exception": false,
     "start_time": "2024-04-11T22:32:48.652130",
     "status": "completed"
    },
    "tags": []
   },
   "source": [
    "<h2 style='font-size:30px'> Modeling Phase </h2>\n",
    "<div> \n",
    "    <ul style='font-size:20px'> \n",
    "        <li> \n",
    "            Since we already have our features in numerical format, we can begin this section by briefly analyzing the distribution of the features \n",
    "            throughout the space. \n",
    "        </li>\n",
    "    </ul>\n",
    "</div>"
   ]
  },
  {
   "cell_type": "code",
   "execution_count": 52,
   "id": "6a7ec5e7",
   "metadata": {
    "execution": {
     "iopub.execute_input": "2024-04-11T22:32:48.846336Z",
     "iopub.status.busy": "2024-04-11T22:32:48.845922Z",
     "iopub.status.idle": "2024-04-11T22:33:03.470560Z",
     "shell.execute_reply": "2024-04-11T22:33:03.468686Z"
    },
    "papermill": {
     "duration": 14.697987,
     "end_time": "2024-04-11T22:33:03.473567",
     "exception": false,
     "start_time": "2024-04-11T22:32:48.775580",
     "status": "completed"
    },
    "tags": []
   },
   "outputs": [
    {
     "name": "stdout",
     "output_type": "stream",
     "text": [
      "Requirement already satisfied: pyspark in /opt/conda/lib/python3.10/site-packages (3.5.1)\r\n",
      "Requirement already satisfied: py4j==0.10.9.7 in /opt/conda/lib/python3.10/site-packages (from pyspark) (0.10.9.7)\r\n",
      "Note: you may need to restart the kernel to use updated packages.\n"
     ]
    }
   ],
   "source": [
    "pip install pyspark"
   ]
  },
  {
   "cell_type": "code",
   "execution_count": 53,
   "id": "34dfa969",
   "metadata": {
    "execution": {
     "iopub.execute_input": "2024-04-11T22:33:03.605101Z",
     "iopub.status.busy": "2024-04-11T22:33:03.604672Z",
     "iopub.status.idle": "2024-04-11T22:33:03.618715Z",
     "shell.execute_reply": "2024-04-11T22:33:03.617364Z"
    },
    "papermill": {
     "duration": 0.083202,
     "end_time": "2024-04-11T22:33:03.621817",
     "exception": false,
     "start_time": "2024-04-11T22:33:03.538615",
     "status": "completed"
    },
    "tags": []
   },
   "outputs": [
    {
     "data": {
      "text/html": [
       "<style>pre { white-space: pre !important; }</style>"
      ],
      "text/plain": [
       "<IPython.core.display.HTML object>"
      ]
     },
     "metadata": {},
     "output_type": "display_data"
    }
   ],
   "source": [
    "from pyspark import SparkContext\n",
    "from pyspark.sql import SparkSession\n",
    "from IPython.core.display import HTML\n",
    "\n",
    "# Creating the project's SparkSession.\n",
    "spark = SparkSession.builder.appName('NPL').getOrCreate()\n",
    "\n",
    "# Also, modifying the session's log level.\n",
    "log_level = spark.sparkContext.setLogLevel('ERROR')\n",
    "\n",
    "# This tiny config enables us to scroll along the DataFrame's columns.\n",
    "display(HTML(\"<style>pre { white-space: pre !important; }</style>\"))"
   ]
  },
  {
   "cell_type": "code",
   "execution_count": 54,
   "id": "31cd9389",
   "metadata": {
    "execution": {
     "iopub.execute_input": "2024-04-11T22:33:03.756260Z",
     "iopub.status.busy": "2024-04-11T22:33:03.755759Z",
     "iopub.status.idle": "2024-04-11T22:33:04.029130Z",
     "shell.execute_reply": "2024-04-11T22:33:04.027252Z"
    },
    "papermill": {
     "duration": 0.344467,
     "end_time": "2024-04-11T22:33:04.032042",
     "exception": false,
     "start_time": "2024-04-11T22:33:03.687575",
     "status": "completed"
    },
    "tags": []
   },
   "outputs": [
    {
     "name": "stdout",
     "output_type": "stream",
     "text": [
      "+--------------------+---+\n",
      "|     scaled_features|NPL|\n",
      "+--------------------+---+\n",
      "|[-0.5716041269164...|  0|\n",
      "|[-0.5716041269164...|  0|\n",
      "|[-0.5716041269164...|  0|\n",
      "|[0.79229141604638...|  0|\n",
      "|[2.15618695900926...|  0|\n",
      "+--------------------+---+\n",
      "only showing top 5 rows\n",
      "\n"
     ]
    }
   ],
   "source": [
    "train_num = spark.read.parquet('/kaggle/input/npl-train/train-num.parquet')\n",
    "train_num.show(5)"
   ]
  },
  {
   "cell_type": "code",
   "execution_count": 55,
   "id": "e0036c98",
   "metadata": {
    "execution": {
     "iopub.execute_input": "2024-04-11T22:33:04.169633Z",
     "iopub.status.busy": "2024-04-11T22:33:04.169197Z",
     "iopub.status.idle": "2024-04-11T22:33:05.017350Z",
     "shell.execute_reply": "2024-04-11T22:33:05.016150Z"
    },
    "papermill": {
     "duration": 0.917629,
     "end_time": "2024-04-11T22:33:05.020085",
     "exception": false,
     "start_time": "2024-04-11T22:33:04.102456",
     "status": "completed"
    },
    "tags": []
   },
   "outputs": [
    {
     "name": "stderr",
     "output_type": "stream",
     "text": [
      "/opt/conda/lib/python3.10/site-packages/pyspark/pandas/__init__.py:50: UserWarning: 'PYARROW_IGNORE_TIMEZONE' environment variable was not set. It is required to set this environment variable to '1' in both driver and executor sides if you use pyarrow>=2.0.0. pandas-on-Spark will set it for you but it does not work if there is a Spark context already launched.\n",
      "  warnings.warn(\n"
     ]
    },
    {
     "data": {
      "text/plain": [
       "array([[-0.57160413,  5.40806897, -1.12940746, ..., -1.5621053 ,\n",
       "         0.31170409, -0.57240866],\n",
       "       [-0.57160413, -0.24083046, -0.75915062, ..., -1.5621053 ,\n",
       "         0.31170409, -0.57240866],\n",
       "       [-0.57160413,  1.34086138,  0.73555503, ...,  0.64007489,\n",
       "         0.31170409, -0.57240866],\n",
       "       ...,\n",
       "       [-0.57160413, -0.69274241, -1.0772885 , ...,  0.64007489,\n",
       "         0.31170409,  1.20354664],\n",
       "       [-0.57160413, -0.96388958, -1.44306453, ..., -1.5621053 ,\n",
       "         0.31170409,  1.20354664],\n",
       "       [-0.57160413, -0.96388958, -1.78596482, ..., -1.5621053 ,\n",
       "         0.31170409,  1.20354664]])"
      ]
     },
     "execution_count": 55,
     "metadata": {},
     "output_type": "execute_result"
    }
   ],
   "source": [
    "import numpy as np\n",
    "from pyspark.ml.feature import PCA\n",
    "from pyspark.pandas import DataFrame as pd_DataFrame\n",
    "# pca = PCA(k=2, inputCol='scaled_features', outputCol='pca_features').fit(train_num)\n",
    "# train_num = pca.transform(train_num)\n",
    "array = np.array(train_num.select('scaled_features').collect())[:,0,:]\n",
    "array"
   ]
  },
  {
   "cell_type": "code",
   "execution_count": 56,
   "id": "f2dafa64",
   "metadata": {
    "execution": {
     "iopub.execute_input": "2024-04-11T22:33:05.163153Z",
     "iopub.status.busy": "2024-04-11T22:33:05.162078Z",
     "iopub.status.idle": "2024-04-11T22:33:48.401010Z",
     "shell.execute_reply": "2024-04-11T22:33:48.399526Z"
    },
    "papermill": {
     "duration": 43.38014,
     "end_time": "2024-04-11T22:33:48.472401",
     "exception": false,
     "start_time": "2024-04-11T22:33:05.092261",
     "status": "completed"
    },
    "tags": []
   },
   "outputs": [
    {
     "data": {
      "image/png": "[encoded data removed]",
      "text/plain": [
       "<Figure size 800x800 with 1 Axes>"
      ]
     },
     "metadata": {},
     "output_type": "display_data"
    }
   ],
   "source": [
    "import matplotlib.pyplot as plt\n",
    "from sklearn.manifold import TSNE\n",
    "\n",
    "array = TSNE().fit_transform(array)\n",
    "fig = plt.figure(figsize=(8, 8))\n",
    "#ax = fig.add_subplot(projection='3d')\n",
    "\n",
    "plt.scatter(array[:,0], array[:,1], c=np.array(train_num.select('NPL').collect()).astype('int').flatten(),\n",
    "           cmap='Accent')\n",
    "\n",
    "plt.show()"
   ]
  },
  {
   "cell_type": "markdown",
   "id": "21a47a57",
   "metadata": {
    "papermill": {
     "duration": 0.068149,
     "end_time": "2024-04-11T22:33:48.607247",
     "exception": false,
     "start_time": "2024-04-11T22:33:48.539098",
     "status": "completed"
    },
    "tags": []
   },
   "source": [
    "<p style='color:red'> PCA, nem TSNE mostrou que existe padrão entre as instâncias. Tentar fazer uma filtragem das features (RandomForest, correlação...)</p>"
   ]
  }
 ],
 "metadata": {
  "kaggle": {
   "accelerator": "none",
   "dataSources": [
    {
     "datasetId": 426827,
     "sourceId": 1031720,
     "sourceType": "datasetVersion"
    },
    {
     "datasetId": 3941029,
     "sourceId": 6856406,
     "sourceType": "datasetVersion"
    },
    {
     "datasetId": 3950750,
     "sourceId": 8048943,
     "sourceType": "datasetVersion"
    },
    {
     "datasetId": 3950752,
     "sourceId": 8048950,
     "sourceType": "datasetVersion"
    }
   ],
   "dockerImageVersionId": 30558,
   "isGpuEnabled": false,
   "isInternetEnabled": true,
   "language": "python",
   "sourceType": "notebook"
  },
  "kernelspec": {
   "display_name": "Python 3",
   "language": "python",
   "name": "python3"
  },
  "language_info": {
   "codemirror_mode": {
    "name": "ipython",
    "version": 3
   },
   "file_extension": ".py",
   "mimetype": "text/x-python",
   "name": "python",
   "nbconvert_exporter": "python",
   "pygments_lexer": "ipython3",
   "version": "3.10.12"
  },
  "papermill": {
   "default_parameters": {},
   "duration": 468.840256,
   "end_time": "2024-04-11T22:33:51.295073",
   "environment_variables": {},
   "exception": null,
   "input_path": "__notebook__.ipynb",
   "output_path": "__notebook__.ipynb",
   "parameters": {},
   "start_time": "2024-04-11T22:26:02.454817",
   "version": "2.4.0"
  }
 },
 "nbformat": 4,
 "nbformat_minor": 5
}
