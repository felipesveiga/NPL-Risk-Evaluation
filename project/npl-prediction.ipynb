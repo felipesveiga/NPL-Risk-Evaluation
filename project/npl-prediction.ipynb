{
 "cells": [
  {
   "cell_type": "markdown",
   "id": "423779c3",
   "metadata": {
    "papermill": {
     "duration": 0.02481,
     "end_time": "2024-04-14T00:06:38.513340",
     "exception": false,
     "start_time": "2024-04-14T00:06:38.488530",
     "status": "completed"
    },
    "tags": []
   },
   "source": [
    "<h1 style='font-size:40px'> NPL Risk Evaluation Modeling</h1>\n",
    "<div style='font-size:20px'> \n",
    "    <ul> \n",
    "        <li> \n",
    "            This project aims the conceiving of a Machine Learning Model focused on assisting a bank on its credit approval strategy.\n",
    "        </li>\n",
    "        <li> \n",
    "            The corporation has been scolded for its recent NPL levels by its shareholders. Thus, the executive team has decided that a more conservative \n",
    "            credit strategy must be adopted for new contracts.\n",
    "        </li>\n",
    "        <li> \n",
    "            During the planning meetings, the business team has made two major requests concerning the nature of the model.\n",
    "            <ul style='list-style-type:decimal'> \n",
    "                <li> \n",
    "                    It must be focused on predicting whether a given client might produce an NPL in the future.\n",
    "                </li>\n",
    "                <li> \n",
    "                    The output must be some kind of score suggesting the likelihood of the event to happen. They are not looking for \n",
    "                    an incisive \"yes or no\" answer.\n",
    "                </li>\n",
    "            </ul>\n",
    "        </li>\n",
    "    </ul>\n",
    "    <p style='margin-left:30px'> <strong> Note:</strong> The bank's NPL definition is any loan which payment is at least 90 days late.</p>\n",
    "</div>"
   ]
  },
  {
   "cell_type": "markdown",
   "id": "9a869156",
   "metadata": {
    "papermill": {
     "duration": 0.023678,
     "end_time": "2024-04-14T00:06:38.563558",
     "exception": false,
     "start_time": "2024-04-14T00:06:38.539880",
     "status": "completed"
    },
    "tags": []
   },
   "source": [
    "<h2 style='font-size:30px'> Data Importing</h2>\n",
    "<div> \n",
    "    <ul style='font-size:20px'> \n",
    "        <li> \n",
    "            The Data Engineers were able to provide two .csv views from the bank's database. The first one contains general information over the clients \n",
    "            and the second lists the loans they've contracted over some period of time.\n",
    "        </li>\n",
    "    </ul>\n",
    "</div>"
   ]
  },
  {
   "cell_type": "code",
   "execution_count": 1,
   "id": "f2754030",
   "metadata": {
    "execution": {
     "iopub.execute_input": "2024-04-14T00:06:38.618081Z",
     "iopub.status.busy": "2024-04-14T00:06:38.616873Z",
     "iopub.status.idle": "2024-04-14T00:07:35.526180Z",
     "shell.execute_reply": "2024-04-14T00:07:35.524096Z"
    },
    "papermill": {
     "duration": 56.940255,
     "end_time": "2024-04-14T00:07:35.529430",
     "exception": false,
     "start_time": "2024-04-14T00:06:38.589175",
     "status": "completed"
    },
    "tags": []
   },
   "outputs": [
    {
     "name": "stdout",
     "output_type": "stream",
     "text": [
      "Collecting pyspark\r\n",
      "  Downloading pyspark-3.5.1.tar.gz (317.0 MB)\r\n",
      "\u001b[2K     \u001b[90m━━━━━━━━━━━━━━━━━━━━━━━━━━━━━━━━━━━━━━━\u001b[0m \u001b[32m317.0/317.0 MB\u001b[0m \u001b[31m3.1 MB/s\u001b[0m eta \u001b[36m0:00:00\u001b[0m\r\n",
      "\u001b[?25h  Preparing metadata (setup.py) ... \u001b[?25l-\b \bdone\r\n",
      "\u001b[?25hRequirement already satisfied: py4j==0.10.9.7 in /opt/conda/lib/python3.10/site-packages (from pyspark) (0.10.9.7)\r\n",
      "Building wheels for collected packages: pyspark\r\n",
      "  Building wheel for pyspark (setup.py) ... \u001b[?25l-\b \b\\\b \b|\b \bdone\r\n",
      "\u001b[?25h  Created wheel for pyspark: filename=pyspark-3.5.1-py2.py3-none-any.whl size=317488497 sha256=8eba9a1b9e65f0700389457fdd7c75bd5ebab3c823cccc6e778eee900e17a371\r\n",
      "  Stored in directory: /root/.cache/pip/wheels/80/1d/60/2c256ed38dddce2fdd93be545214a63e02fbd8d74fb0b7f3a6\r\n",
      "Successfully built pyspark\r\n",
      "Installing collected packages: pyspark\r\n",
      "Successfully installed pyspark-3.5.1\r\n",
      "Note: you may need to restart the kernel to use updated packages.\n"
     ]
    }
   ],
   "source": [
    "pip install pyspark"
   ]
  },
  {
   "cell_type": "code",
   "execution_count": 2,
   "id": "e158010c",
   "metadata": {
    "execution": {
     "iopub.execute_input": "2024-04-14T00:07:35.601358Z",
     "iopub.status.busy": "2024-04-14T00:07:35.600921Z",
     "iopub.status.idle": "2024-04-14T00:07:41.994758Z",
     "shell.execute_reply": "2024-04-14T00:07:41.993477Z"
    },
    "papermill": {
     "duration": 6.433594,
     "end_time": "2024-04-14T00:07:41.998146",
     "exception": false,
     "start_time": "2024-04-14T00:07:35.564552",
     "status": "completed"
    },
    "tags": []
   },
   "outputs": [
    {
     "name": "stderr",
     "output_type": "stream",
     "text": [
      "Setting default log level to \"WARN\".\n",
      "To adjust logging level use sc.setLogLevel(newLevel). For SparkR, use setLogLevel(newLevel).\n",
      "24/04/14 00:07:39 WARN NativeCodeLoader: Unable to load native-hadoop library for your platform... using builtin-java classes where applicable\n"
     ]
    },
    {
     "data": {
      "text/html": [
       "<style>pre { white-space: pre !important; }</style>"
      ],
      "text/plain": [
       "<IPython.core.display.HTML object>"
      ]
     },
     "metadata": {},
     "output_type": "display_data"
    }
   ],
   "source": [
    "from pyspark import SparkContext\n",
    "from pyspark.sql import SparkSession\n",
    "from IPython.core.display import HTML\n",
    "\n",
    "# Creating the project's SparkSession.\n",
    "spark = SparkSession.builder.appName('NPL').getOrCreate()\n",
    "\n",
    "# Also, modifying the session's log level.\n",
    "log_level = spark.sparkContext.setLogLevel('ERROR')\n",
    "\n",
    "# This tiny config enables us to scroll along the DataFrame's columns.\n",
    "display(HTML(\"<style>pre { white-space: pre !important; }</style>\"))"
   ]
  },
  {
   "cell_type": "markdown",
   "id": "ab79d614",
   "metadata": {
    "execution": {
     "iopub.execute_input": "2023-08-15T16:05:33.192895Z",
     "iopub.status.busy": "2023-08-15T16:05:33.192467Z",
     "iopub.status.idle": "2023-08-15T16:05:34.343874Z",
     "shell.execute_reply": "2023-08-15T16:05:34.342739Z",
     "shell.execute_reply.started": "2023-08-15T16:05:33.192858Z"
    },
    "papermill": {
     "duration": 0.035629,
     "end_time": "2024-04-14T00:07:42.070223",
     "exception": false,
     "start_time": "2024-04-14T00:07:42.034594",
     "status": "completed"
    },
    "tags": []
   },
   "source": [
    "<h3 style='font-size:30px;font-style:italic'> Clients Database</h3>\n",
    "<div> \n",
    "    <ul style='font-size:20px'> \n",
    "        <li> \n",
    "            This dataset is comprised of general information about the loans' clients.\n",
    "        </li>    \n",
    "        <li> \n",
    "            A particularity worth noting is that date columns show the negative amount of days since the given event took place. Positive numbers \n",
    "            indicate the number of days since the occurence ceased to exist - as it might happen with unemployed borrowers in the DAYS_EMPLOYED feature.\n",
    "        </li>\n",
    "    </ul>\n",
    "</div>"
   ]
  },
  {
   "cell_type": "code",
   "execution_count": 3,
   "id": "d38bae25",
   "metadata": {
    "execution": {
     "iopub.execute_input": "2024-04-14T00:07:42.246790Z",
     "iopub.status.busy": "2024-04-14T00:07:42.246000Z",
     "iopub.status.idle": "2024-04-14T00:07:50.425280Z",
     "shell.execute_reply": "2024-04-14T00:07:50.423904Z"
    },
    "papermill": {
     "duration": 8.221571,
     "end_time": "2024-04-14T00:07:50.428823",
     "exception": false,
     "start_time": "2024-04-14T00:07:42.207252",
     "status": "completed"
    },
    "tags": []
   },
   "outputs": [
    {
     "name": "stderr",
     "output_type": "stream",
     "text": [
      "                                                                                \r"
     ]
    },
    {
     "name": "stdout",
     "output_type": "stream",
     "text": [
      "+-------+-----------+------------+---------------+------------+----------------+--------------------+--------------------+--------------------+-----------------+----------+-------------+----------+---------------+----------+----------+---------------+---------------+\n",
      "|     ID|CODE_GENDER|FLAG_OWN_CAR|FLAG_OWN_REALTY|CNT_CHILDREN|AMT_INCOME_TOTAL|    NAME_INCOME_TYPE| NAME_EDUCATION_TYPE|  NAME_FAMILY_STATUS|NAME_HOUSING_TYPE|DAYS_BIRTH|DAYS_EMPLOYED|FLAG_MOBIL|FLAG_WORK_PHONE|FLAG_PHONE|FLAG_EMAIL|OCCUPATION_TYPE|CNT_FAM_MEMBERS|\n",
      "+-------+-----------+------------+---------------+------------+----------------+--------------------+--------------------+--------------------+-----------------+----------+-------------+----------+---------------+----------+----------+---------------+---------------+\n",
      "|5008804|          M|           Y|              Y|           0|        427500.0|             Working|    Higher education|      Civil marriage| Rented apartment|    -12005|        -4542|         1|              1|         0|         0|           NULL|            2.0|\n",
      "|5008805|          M|           Y|              Y|           0|        427500.0|             Working|    Higher education|      Civil marriage| Rented apartment|    -12005|        -4542|         1|              1|         0|         0|           NULL|            2.0|\n",
      "|5008806|          M|           Y|              Y|           0|        112500.0|             Working|Secondary / secon...|             Married|House / apartment|    -21474|        -1134|         1|              0|         0|         0| Security staff|            2.0|\n",
      "|5008808|          F|           N|              Y|           0|        270000.0|Commercial associate|Secondary / secon...|Single / not married|House / apartment|    -19110|        -3051|         1|              0|         1|         1|    Sales staff|            1.0|\n",
      "|5008809|          F|           N|              Y|           0|        270000.0|Commercial associate|Secondary / secon...|Single / not married|House / apartment|    -19110|        -3051|         1|              0|         1|         1|    Sales staff|            1.0|\n",
      "+-------+-----------+------------+---------------+------------+----------------+--------------------+--------------------+--------------------+-----------------+----------+-------------+----------+---------------+----------+----------+---------------+---------------+\n",
      "only showing top 5 rows\n",
      "\n"
     ]
    }
   ],
   "source": [
    "path_clients = '/kaggle/input/credit-card-approval-prediction/application_record.csv'\n",
    "\n",
    "# Defining the data types from the clients dataset.\n",
    "schema_clients = '''\n",
    "`ID` STRING, `CODE_GENDER` STRING, `FLAG_OWN_CAR` STRING, `FLAG_OWN_REALTY` STRING, `CNT_CHILDREN` INT,\n",
    "`AMT_INCOME_TOTAL` FLOAT, `NAME_INCOME_TYPE` STRING, `NAME_EDUCATION_TYPE` STRING, `NAME_FAMILY_STATUS` STRING, `NAME_HOUSING_TYPE` STRING,\n",
    "`DAYS_BIRTH` INT, `DAYS_EMPLOYED` INT, `FLAG_MOBIL` STRING, `FLAG_WORK_PHONE` STRING, `FLAG_PHONE` STRING, `FLAG_EMAIL` STRING, \n",
    "`OCCUPATION_TYPE` STRING, `CNT_FAM_MEMBERS` DOUBLE\n",
    "'''\n",
    "\n",
    "# Reading the database with the created schema.\n",
    "df_clients = spark.read.csv(path_clients, header=True, schema=schema_clients)\n",
    "df_clients.show(5)"
   ]
  },
  {
   "cell_type": "markdown",
   "id": "dcc55ebd",
   "metadata": {
    "papermill": {
     "duration": 0.036394,
     "end_time": "2024-04-14T00:07:50.508340",
     "exception": false,
     "start_time": "2024-04-14T00:07:50.471946",
     "status": "completed"
    },
    "tags": []
   },
   "source": [
    "<h4 style='font-size:30px;font-style:italic;text-decoration:underline'> Duplicates Disclaimer</h4>\n",
    "<div> \n",
    "    <ul style='font-size:20px'> \n",
    "        <li> \n",
    "             Clients may not have unique rows in the dataset because the ID column identifies a contracted loan instead of a person.\n",
    "        </li>\n",
    "        <li> \n",
    "            Thus, I've found convenient for the project to create an ID column that assigns a code for each of the clients.\n",
    "        </li>\n",
    "    </ul>\n",
    "</div>"
   ]
  },
  {
   "cell_type": "code",
   "execution_count": 4,
   "id": "c1a98509",
   "metadata": {
    "execution": {
     "iopub.execute_input": "2024-04-14T00:07:50.584498Z",
     "iopub.status.busy": "2024-04-14T00:07:50.584033Z",
     "iopub.status.idle": "2024-04-14T00:07:55.376187Z",
     "shell.execute_reply": "2024-04-14T00:07:55.374804Z"
    },
    "papermill": {
     "duration": 4.836447,
     "end_time": "2024-04-14T00:07:55.381768",
     "exception": false,
     "start_time": "2024-04-14T00:07:50.545321",
     "status": "completed"
    },
    "tags": []
   },
   "outputs": [
    {
     "name": "stderr",
     "output_type": "stream",
     "text": [
      "[Stage 1:==============>                                            (1 + 3) / 4]\r"
     ]
    },
    {
     "name": "stdout",
     "output_type": "stream",
     "text": [
      "+-------+-----+\n",
      "|     ID|count|\n",
      "+-------+-----+\n",
      "|7742298|    2|\n",
      "|7174719|    2|\n",
      "|7091721|    2|\n",
      "|7089090|    2|\n",
      "|7022197|    2|\n",
      "+-------+-----+\n",
      "only showing top 5 rows\n",
      "\n"
     ]
    },
    {
     "name": "stderr",
     "output_type": "stream",
     "text": [
      "                                                                                \r"
     ]
    }
   ],
   "source": [
    "# Another issue unnoticed by the Data Engineers is that the database contains repeated Loan ID's.\n",
    "from pyspark.sql.functions import max as ps_max\n",
    "\n",
    "# Observe that there are Loans mentioned two times. It would be proper to disconsider them. \n",
    "data_duplicate_id = (df_clients\n",
    "                     .groupBy('ID')\n",
    "                     .count()\n",
    "                     .filter('`count`>1')\n",
    "                            )\n",
    "data_duplicate_id.show(5)"
   ]
  },
  {
   "cell_type": "code",
   "execution_count": 5,
   "id": "3167e159",
   "metadata": {
    "execution": {
     "iopub.execute_input": "2024-04-14T00:07:55.460814Z",
     "iopub.status.busy": "2024-04-14T00:07:55.460346Z",
     "iopub.status.idle": "2024-04-14T00:07:58.419753Z",
     "shell.execute_reply": "2024-04-14T00:07:58.418520Z"
    },
    "papermill": {
     "duration": 3.00763,
     "end_time": "2024-04-14T00:07:58.428895",
     "exception": false,
     "start_time": "2024-04-14T00:07:55.421265",
     "status": "completed"
    },
    "tags": []
   },
   "outputs": [
    {
     "name": "stderr",
     "output_type": "stream",
     "text": [
      "[Stage 5:===================>                                       (1 + 2) / 3]\r"
     ]
    },
    {
     "name": "stdout",
     "output_type": "stream",
     "text": [
      "+-------+-----------+------------+---------------+------------+----------------+----------------+--------------------+------------------+-----------------+----------+-------------+----------+---------------+----------+----------+---------------+---------------+\n",
      "|     ID|CODE_GENDER|FLAG_OWN_CAR|FLAG_OWN_REALTY|CNT_CHILDREN|AMT_INCOME_TOTAL|NAME_INCOME_TYPE| NAME_EDUCATION_TYPE|NAME_FAMILY_STATUS|NAME_HOUSING_TYPE|DAYS_BIRTH|DAYS_EMPLOYED|FLAG_MOBIL|FLAG_WORK_PHONE|FLAG_PHONE|FLAG_EMAIL|OCCUPATION_TYPE|CNT_FAM_MEMBERS|\n",
      "+-------+-----------+------------+---------------+------------+----------------+----------------+--------------------+------------------+-----------------+----------+-------------+----------+---------------+----------+----------+---------------+---------------+\n",
      "|7742298|          F|           N|              Y|           0|        144000.0|         Working|Secondary / secon...|             Widow|House / apartment|    -20626|        -1455|         1|              0|         0|         0|  Cooking staff|            1.0|\n",
      "|7742298|          M|           N|              N|           0|        112500.0|         Working|Secondary / secon...|           Married|House / apartment|    -18239|        -5428|         1|              1|         0|         0|           NULL|            2.0|\n",
      "+-------+-----------+------------+---------------+------------+----------------+----------------+--------------------+------------------+-----------------+----------+-------------+----------+---------------+----------+----------+---------------+---------------+\n",
      "\n"
     ]
    },
    {
     "name": "stderr",
     "output_type": "stream",
     "text": [
      "                                                                                \r"
     ]
    }
   ],
   "source": [
    "# If we take a peek on the first mentioned ID, we can notice that the presented loan actually is assigned to two different people!\n",
    "\n",
    "# Thus, the presence of such deals is potentially harmful to our model. It would be sensible to discard such ID's from the database.\n",
    "df_clients.filter('`ID`==7742298').show()"
   ]
  },
  {
   "cell_type": "code",
   "execution_count": 6,
   "id": "e5db1742",
   "metadata": {
    "execution": {
     "iopub.execute_input": "2024-04-14T00:07:58.513146Z",
     "iopub.status.busy": "2024-04-14T00:07:58.512612Z",
     "iopub.status.idle": "2024-04-14T00:07:58.631900Z",
     "shell.execute_reply": "2024-04-14T00:07:58.630588Z"
    },
    "papermill": {
     "duration": 0.160647,
     "end_time": "2024-04-14T00:07:58.635091",
     "exception": false,
     "start_time": "2024-04-14T00:07:58.474444",
     "status": "completed"
    },
    "tags": []
   },
   "outputs": [],
   "source": [
    "# Dropping out the problematic loans.\n",
    "df_clients = data_duplicate_id.join(df_clients, how='right', on='ID').where('`count` IS NULL').drop('count')"
   ]
  },
  {
   "cell_type": "code",
   "execution_count": 7,
   "id": "7c1d8b68",
   "metadata": {
    "execution": {
     "iopub.execute_input": "2024-04-14T00:07:58.746314Z",
     "iopub.status.busy": "2024-04-14T00:07:58.745758Z",
     "iopub.status.idle": "2024-04-14T00:07:58.792574Z",
     "shell.execute_reply": "2024-04-14T00:07:58.791368Z"
    },
    "papermill": {
     "duration": 0.108488,
     "end_time": "2024-04-14T00:07:58.796345",
     "exception": false,
     "start_time": "2024-04-14T00:07:58.687857",
     "status": "completed"
    },
    "tags": []
   },
   "outputs": [
    {
     "data": {
      "text/plain": [
       "['CODE_GENDER',\n",
       " 'FLAG_OWN_CAR',\n",
       " 'FLAG_OWN_REALTY',\n",
       " 'CNT_CHILDREN',\n",
       " 'AMT_INCOME_TOTAL',\n",
       " 'NAME_INCOME_TYPE',\n",
       " 'NAME_EDUCATION_TYPE',\n",
       " 'NAME_FAMILY_STATUS',\n",
       " 'NAME_HOUSING_TYPE',\n",
       " 'DAYS_BIRTH',\n",
       " 'DAYS_EMPLOYED',\n",
       " 'FLAG_MOBIL',\n",
       " 'FLAG_WORK_PHONE',\n",
       " 'FLAG_PHONE',\n",
       " 'FLAG_EMAIL',\n",
       " 'OCCUPATION_TYPE',\n",
       " 'CNT_FAM_MEMBERS']"
      ]
     },
     "execution_count": 7,
     "metadata": {},
     "output_type": "execute_result"
    }
   ],
   "source": [
    "# Listing the `df_clients` features with the exception of ID.\n",
    "features_clients = df_clients.columns\n",
    "features_clients.remove('ID')\n",
    "features_clients"
   ]
  },
  {
   "cell_type": "code",
   "execution_count": 8,
   "id": "ef48f6aa",
   "metadata": {
    "execution": {
     "iopub.execute_input": "2024-04-14T00:07:58.906236Z",
     "iopub.status.busy": "2024-04-14T00:07:58.904895Z",
     "iopub.status.idle": "2024-04-14T00:08:09.052178Z",
     "shell.execute_reply": "2024-04-14T00:08:09.050926Z"
    },
    "papermill": {
     "duration": 10.20487,
     "end_time": "2024-04-14T00:08:09.056271",
     "exception": false,
     "start_time": "2024-04-14T00:07:58.851401",
     "status": "completed"
    },
    "tags": []
   },
   "outputs": [
    {
     "name": "stderr",
     "output_type": "stream",
     "text": [
      "                                                                                \r"
     ]
    },
    {
     "name": "stdout",
     "output_type": "stream",
     "text": [
      "`df_clients` length: 438463\n"
     ]
    },
    {
     "name": "stderr",
     "output_type": "stream",
     "text": [
      "[Stage 15:=============================>                            (2 + 2) / 4]\r"
     ]
    },
    {
     "name": "stdout",
     "output_type": "stream",
     "text": [
      "Number of clients: 90084\n"
     ]
    },
    {
     "name": "stderr",
     "output_type": "stream",
     "text": [
      "                                                                                \r"
     ]
    }
   ],
   "source": [
    "# Now, getting back to the Client's ID issue, I'd like to present a brief analysis on it.\n",
    "# Note that the database's actual amount of clients is lower than its number of rows. \n",
    "data_clients = df_clients.dropDuplicates(features_clients) \n",
    "print(f'`df_clients` length: {df_clients.count()}')\n",
    "print(f'Number of clients: {data_clients.count()}')"
   ]
  },
  {
   "cell_type": "code",
   "execution_count": 9,
   "id": "ff018afb",
   "metadata": {
    "execution": {
     "iopub.execute_input": "2024-04-14T00:08:09.168005Z",
     "iopub.status.busy": "2024-04-14T00:08:09.167440Z",
     "iopub.status.idle": "2024-04-14T00:08:09.399735Z",
     "shell.execute_reply": "2024-04-14T00:08:09.398424Z"
    },
    "papermill": {
     "duration": 0.291224,
     "end_time": "2024-04-14T00:08:09.404115",
     "exception": false,
     "start_time": "2024-04-14T00:08:09.112891",
     "status": "completed"
    },
    "tags": []
   },
   "outputs": [],
   "source": [
    "# We'll assign an ID for every client mentioned in `df_clients`. \n",
    "from pyspark.sql.functions import cast, row_number\n",
    "from pyspark.sql.types import StringType\n",
    "from pyspark.sql.window import Window\n",
    "\n",
    "window = Window.orderBy(features_clients)\n",
    "row_window = row_number().over(window)\n",
    "\n",
    "# A DataFrame with the clients' data and actual ID.\n",
    "df_id_clients = data_clients.withColumn('ID_CLIENT', row_window.cast(StringType())).drop('ID')"
   ]
  },
  {
   "cell_type": "code",
   "execution_count": 10,
   "id": "89eb9456",
   "metadata": {
    "execution": {
     "iopub.execute_input": "2024-04-14T00:08:09.499753Z",
     "iopub.status.busy": "2024-04-14T00:08:09.499242Z",
     "iopub.status.idle": "2024-04-14T00:08:22.050239Z",
     "shell.execute_reply": "2024-04-14T00:08:22.048959Z"
    },
    "papermill": {
     "duration": 12.598796,
     "end_time": "2024-04-14T00:08:22.056474",
     "exception": false,
     "start_time": "2024-04-14T00:08:09.457678",
     "status": "completed"
    },
    "tags": []
   },
   "outputs": [
    {
     "name": "stderr",
     "output_type": "stream",
     "text": [
      "[Stage 35:>                                                         (0 + 1) / 1]\r"
     ]
    },
    {
     "name": "stdout",
     "output_type": "stream",
     "text": [
      "+-------+-----------+------------+---------------+------------+----------------+----------------+--------------------+------------------+-----------------+----------+-------------+----------+---------------+----------+----------+---------------+---------------+---------+\n",
      "|     ID|CODE_GENDER|FLAG_OWN_CAR|FLAG_OWN_REALTY|CNT_CHILDREN|AMT_INCOME_TOTAL|NAME_INCOME_TYPE| NAME_EDUCATION_TYPE|NAME_FAMILY_STATUS|NAME_HOUSING_TYPE|DAYS_BIRTH|DAYS_EMPLOYED|FLAG_MOBIL|FLAG_WORK_PHONE|FLAG_PHONE|FLAG_EMAIL|OCCUPATION_TYPE|CNT_FAM_MEMBERS|ID_CLIENT|\n",
      "+-------+-----------+------------+---------------+------------+----------------+----------------+--------------------+------------------+-----------------+----------+-------------+----------+---------------+----------+----------+---------------+---------------+---------+\n",
      "|5996382|          F|           N|              N|           0|         28800.0|       Pensioner|Secondary / secon...|           Married|House / apartment|    -20298|       365243|         1|              0|         1|         0|           NULL|            2.0|        7|\n",
      "|5996383|          F|           N|              N|           0|         28800.0|       Pensioner|Secondary / secon...|           Married|House / apartment|    -20298|       365243|         1|              0|         1|         0|           NULL|            2.0|        7|\n",
      "|5996384|          F|           N|              N|           0|         28800.0|       Pensioner|Secondary / secon...|           Married|House / apartment|    -20298|       365243|         1|              0|         1|         0|           NULL|            2.0|        7|\n",
      "|6499066|          F|           N|              N|           0|         29133.0|       Pensioner|Secondary / secon...|           Married|House / apartment|    -20945|       365243|         1|              0|         1|         0|           NULL|            2.0|        8|\n",
      "|6499067|          F|           N|              N|           0|         29133.0|       Pensioner|Secondary / secon...|           Married|House / apartment|    -20945|       365243|         1|              0|         1|         0|           NULL|            2.0|        8|\n",
      "+-------+-----------+------------+---------------+------------+----------------+----------------+--------------------+------------------+-----------------+----------+-------------+----------+---------------+----------+----------+---------------+---------------+---------+\n",
      "only showing top 5 rows\n",
      "\n"
     ]
    },
    {
     "name": "stderr",
     "output_type": "stream",
     "text": [
      "                                                                                \r"
     ]
    }
   ],
   "source": [
    "# We'll need to perform Null Safe JOIN's, since columns such as 'OCCUPATION_TYPE' contain null values.\n",
    "from functools import reduce\n",
    "\n",
    "# Creating the multiple null safe JOIN's condition.\n",
    "condition_id_client = reduce(lambda x,y: x&y, [df_clients[col].eqNullSafe(df_id_clients[col]) for col in features_clients])\n",
    "columns_join_id = ['df_clients.*', 'df_id_clients.ID_CLIENT'] # Listing the output columns.\n",
    "\n",
    "# Consolidating the final clients database.\n",
    "df_clients = (df_clients.alias('df_clients') # Resorting to aliases for both DataFrames present columns with same names.\n",
    "                 .join(df_id_clients.alias('df_id_clients'), condition_id_client)\n",
    "                 .select(columns_join_id))\n",
    "df_clients.show(5)"
   ]
  },
  {
   "cell_type": "markdown",
   "id": "f09950b1",
   "metadata": {
    "execution": {
     "iopub.execute_input": "2023-08-15T16:05:33.192895Z",
     "iopub.status.busy": "2023-08-15T16:05:33.192467Z",
     "iopub.status.idle": "2023-08-15T16:05:34.343874Z",
     "shell.execute_reply": "2023-08-15T16:05:34.342739Z",
     "shell.execute_reply.started": "2023-08-15T16:05:33.192858Z"
    },
    "papermill": {
     "duration": 0.041556,
     "end_time": "2024-04-14T00:08:22.156038",
     "exception": false,
     "start_time": "2024-04-14T00:08:22.114482",
     "status": "completed"
    },
    "tags": []
   },
   "source": [
    "<h3 style='font-size:30px;font-style:italic'> Loans Database</h3>\n",
    "<div> \n",
    "    <ul style='font-size:20px'> \n",
    "        <li> \n",
    "            This table contains the payments records for every loan since its contraction. \n",
    "        </li>\n",
    "        <li> \n",
    "            But in order to the dataset be adequate to our project's intent, two transformations are necessary: first, we need to bring the `ID_CLIENT`\n",
    "            column to it and after that, group the database so that it denounces individuals who've produced an NPL at least once.            \n",
    "        </li>\n",
    "    </ul>\n",
    "</div>"
   ]
  },
  {
   "cell_type": "code",
   "execution_count": 11,
   "id": "cd4405da",
   "metadata": {
    "execution": {
     "iopub.execute_input": "2024-04-14T00:08:22.239553Z",
     "iopub.status.busy": "2024-04-14T00:08:22.239091Z",
     "iopub.status.idle": "2024-04-14T00:08:22.428915Z",
     "shell.execute_reply": "2024-04-14T00:08:22.427923Z"
    },
    "papermill": {
     "duration": 0.236535,
     "end_time": "2024-04-14T00:08:22.433258",
     "exception": false,
     "start_time": "2024-04-14T00:08:22.196723",
     "status": "completed"
    },
    "tags": []
   },
   "outputs": [
    {
     "name": "stdout",
     "output_type": "stream",
     "text": [
      "+-------+--------------+------+\n",
      "|     ID|MONTHS_BALANCE|STATUS|\n",
      "+-------+--------------+------+\n",
      "|5001711|             0|     X|\n",
      "|5001711|            -1|     0|\n",
      "|5001711|            -2|     0|\n",
      "|5001711|            -3|     0|\n",
      "|5001712|             0|     C|\n",
      "+-------+--------------+------+\n",
      "only showing top 5 rows\n",
      "\n"
     ]
    }
   ],
   "source": [
    "# Bringing the dataset into our notebook.\n",
    "path_loans = '/kaggle/input/credit-card-approval-prediction/credit_record.csv'\n",
    "schema_loans = '`ID` STRING, `MONTHS_BALANCE` INT, `STATUS` STRING'\n",
    "df_loans = spark.read.csv(path_loans, header=True, schema=schema_loans)\n",
    "df_loans.show(5) "
   ]
  },
  {
   "cell_type": "code",
   "execution_count": 12,
   "id": "42f3674e",
   "metadata": {
    "execution": {
     "iopub.execute_input": "2024-04-14T00:08:22.552987Z",
     "iopub.status.busy": "2024-04-14T00:08:22.552144Z",
     "iopub.status.idle": "2024-04-14T00:08:38.015696Z",
     "shell.execute_reply": "2024-04-14T00:08:38.014251Z"
    },
    "papermill": {
     "duration": 15.529463,
     "end_time": "2024-04-14T00:08:38.022378",
     "exception": false,
     "start_time": "2024-04-14T00:08:22.492915",
     "status": "completed"
    },
    "tags": []
   },
   "outputs": [
    {
     "name": "stderr",
     "output_type": "stream",
     "text": [
      "[Stage 52:==============>                                           (1 + 3) / 4]\r"
     ]
    },
    {
     "name": "stdout",
     "output_type": "stream",
     "text": [
      "+---------+-------+--------------+------+\n",
      "|ID_CLIENT|     ID|MONTHS_BALANCE|STATUS|\n",
      "+---------+-------+--------------+------+\n",
      "|    34269|5008810|             0|     C|\n",
      "|    34269|5008810|            -1|     C|\n",
      "|    34269|5008810|            -2|     C|\n",
      "|    34269|5008810|            -3|     C|\n",
      "|    34269|5008810|            -4|     C|\n",
      "+---------+-------+--------------+------+\n",
      "only showing top 5 rows\n",
      "\n"
     ]
    },
    {
     "name": "stderr",
     "output_type": "stream",
     "text": [
      "                                                                                \r"
     ]
    }
   ],
   "source": [
    "# Now, providing the loans' client ID.\n",
    "df_loans = df_loans.join(df_clients, ['ID']).select(['ID_CLIENT', 'ID', 'MONTHS_BALANCE', 'STATUS'])\n",
    "df_loans.show(5)"
   ]
  },
  {
   "cell_type": "markdown",
   "id": "82794983",
   "metadata": {
    "papermill": {
     "duration": 0.059217,
     "end_time": "2024-04-14T00:08:38.141104",
     "exception": false,
     "start_time": "2024-04-14T00:08:38.081887",
     "status": "completed"
    },
    "tags": []
   },
   "source": [
    "<h4 style='font-size:30px;font-style:italic;text-decoration:underline'> Conceiving the Target Variable</h4>\n",
    "<div> \n",
    "    <ul style='font-size:20px'> \n",
    "        <li> \n",
    "            The `STATUS` column presents a handful of codes that represent distinct status for a loan's payment. Their definition is as follows:\n",
    "            <table style='font-size:15px;margin-top:20px'> \n",
    "                <tr>\n",
    "                    <th> Code</th>\n",
    "                    <th> Definition</th>\n",
    "                </tr>\n",
    "                <tr> \n",
    "                    <td> C</td>\n",
    "                    <td> Paid off that month</td>\n",
    "                </tr>\n",
    "                <tr> \n",
    "                    <td> 0</td>\n",
    "                    <td> 1-29 days past due</td>\n",
    "                </tr>\n",
    "                <tr> \n",
    "                    <td> 1</td>\n",
    "                    <td> 30-59 days past due </td>\n",
    "                </tr>\n",
    "                <tr> \n",
    "                    <td> 2</td>\n",
    "                    <td> 60-89 days past due </td>\n",
    "                </tr>\n",
    "                <tr> \n",
    "                    <td> 3</td>\n",
    "                    <td> 90-119 days past due </td>\n",
    "                </tr>\n",
    "                <tr> \n",
    "                    <td> 4</td>\n",
    "                    <td> 120-149 days past due </td>\n",
    "                </tr>\n",
    "                <tr> \n",
    "                    <td> 5</td>\n",
    "                    <td> Overdue or bad debts,<p> write-offs for more than 150 days</p> </td>\n",
    "                </tr>\n",
    "                <tr> \n",
    "                    <td> X</td>\n",
    "                    <td> No loan for the month</td>\n",
    "                </tr>\n",
    "            </table>\n",
    "        </li>\n",
    "        <li style='margin-top:20px'> \n",
    "            Observe that in our case only the 3, 4 and 5 codes are of our interest. Thus it would be convenient to create a binary flag that denounces whether \n",
    "            the individual has ever caused an NPL.\n",
    "        </li>\n",
    "    </ul>\n",
    "</div>"
   ]
  },
  {
   "cell_type": "code",
   "execution_count": 13,
   "id": "b276d417",
   "metadata": {
    "execution": {
     "iopub.execute_input": "2024-04-14T00:08:38.261728Z",
     "iopub.status.busy": "2024-04-14T00:08:38.261019Z",
     "iopub.status.idle": "2024-04-14T00:08:39.541122Z",
     "shell.execute_reply": "2024-04-14T00:08:39.539166Z"
    },
    "papermill": {
     "duration": 1.34824,
     "end_time": "2024-04-14T00:08:39.548829",
     "exception": false,
     "start_time": "2024-04-14T00:08:38.200589",
     "status": "completed"
    },
    "tags": []
   },
   "outputs": [],
   "source": [
    "# The dependent variable's conception needs a custom GroupBy that PySpark is unable to perform by itself. Hence, we \n",
    "# are going to resort to pandas in this section.\n",
    "import pandas as pd\n",
    "\n",
    "# Defining the GroupBy's schema.\n",
    "schema_flag_npl = '`ID_CLIENT` STRING, `NPL` STRING'\n",
    "\n",
    "# This lambda expression signs whether a client has ever produced an NPL in the past.\n",
    "lambda_npl = lambda x: '1' if x.STATUS.isin(['3', '4', '5']).any() else '0'\n",
    "\n",
    "def has_npl(df:pd.DataFrame)->pd.DataFrame:\n",
    "    '''\n",
    "        Verifies if a client's  records contain any sort of Non-Performing Loan.\n",
    "        \n",
    "        Parameter\n",
    "        ---------\n",
    "        `df`: pd.DataFrame \n",
    "            The loan records of a certain client.\n",
    "        \n",
    "        Returns\n",
    "        -------\n",
    "        A `pd.DataFrame` with the client's ID and a flag indicating NPL existence in their loan history. \n",
    "    '''\n",
    "    output = df.groupby(['ID_CLIENT']).apply(lambda_npl) # `lambda_npl` takes care of the flags creation.\n",
    "    output.name = 'NPL' # Setting the flag column's name.\n",
    "    return output.reset_index()\n",
    "\n",
    "# Finally, generating our target-variable.\n",
    "target = df_loans.groupBy('ID_CLIENT').applyInPandas(has_npl, schema_flag_npl)"
   ]
  },
  {
   "cell_type": "markdown",
   "id": "c241563b",
   "metadata": {
    "papermill": {
     "duration": 0.050682,
     "end_time": "2024-04-14T00:08:39.654019",
     "exception": false,
     "start_time": "2024-04-14T00:08:39.603337",
     "status": "completed"
    },
    "tags": []
   },
   "source": [
    "<h2 style='font-size:30px'> Consolidating the Data</h2>\n",
    "<div> \n",
    "    <ul style='font-size:20px'> \n",
    "        <li> \n",
    "            With both datasets properly treated, we are able to JOIN them in a single table.\n",
    "        </li>\n",
    "    </ul>\n",
    "</div>"
   ]
  },
  {
   "cell_type": "code",
   "execution_count": 14,
   "id": "60443b84",
   "metadata": {
    "execution": {
     "iopub.execute_input": "2024-04-14T00:08:39.740739Z",
     "iopub.status.busy": "2024-04-14T00:08:39.740072Z",
     "iopub.status.idle": "2024-04-14T00:08:39.817374Z",
     "shell.execute_reply": "2024-04-14T00:08:39.816062Z"
    },
    "papermill": {
     "duration": 0.124782,
     "end_time": "2024-04-14T00:08:39.821859",
     "exception": false,
     "start_time": "2024-04-14T00:08:39.697077",
     "status": "completed"
    },
    "tags": []
   },
   "outputs": [],
   "source": [
    "# Finally, enriching the clients information with the NPL flag.\n",
    "df = df_id_clients.join(target, how='inner', on='ID_CLIENT')"
   ]
  },
  {
   "cell_type": "code",
   "execution_count": 15,
   "id": "58d5b702",
   "metadata": {
    "execution": {
     "iopub.execute_input": "2024-04-14T00:08:39.914329Z",
     "iopub.status.busy": "2024-04-14T00:08:39.913886Z",
     "iopub.status.idle": "2024-04-14T00:08:39.919038Z",
     "shell.execute_reply": "2024-04-14T00:08:39.917657Z"
    },
    "papermill": {
     "duration": 0.050985,
     "end_time": "2024-04-14T00:08:39.921502",
     "exception": false,
     "start_time": "2024-04-14T00:08:39.870517",
     "status": "completed"
    },
    "tags": []
   },
   "outputs": [],
   "source": [
    "#df.write.parquet('/kaggle/input/df-parquet', mode='overwrite')"
   ]
  },
  {
   "cell_type": "markdown",
   "id": "8553c7d6",
   "metadata": {
    "papermill": {
     "duration": 0.040666,
     "end_time": "2024-04-14T00:08:40.003973",
     "exception": false,
     "start_time": "2024-04-14T00:08:39.963307",
     "status": "completed"
    },
    "tags": []
   },
   "source": [
    "<h2 style='font-size:30px'> Dataset Splitting</h2>\n",
    "<div> \n",
    "    <ul style='font-size:20px'> \n",
    "        <li> \n",
    "            With the dataset properly treated, we are able to begin our EDA and model creation. But firstly we have to separate the data in \n",
    "            the training and test tables.\n",
    "        </li>\n",
    "    </ul>\n",
    "</div>"
   ]
  },
  {
   "cell_type": "code",
   "execution_count": 16,
   "id": "5f009054",
   "metadata": {
    "execution": {
     "iopub.execute_input": "2024-04-14T00:08:40.092307Z",
     "iopub.status.busy": "2024-04-14T00:08:40.091867Z",
     "iopub.status.idle": "2024-04-14T00:09:51.259978Z",
     "shell.execute_reply": "2024-04-14T00:09:51.258746Z"
    },
    "papermill": {
     "duration": 71.214261,
     "end_time": "2024-04-14T00:09:51.262829",
     "exception": false,
     "start_time": "2024-04-14T00:08:40.048568",
     "status": "completed"
    },
    "tags": []
   },
   "outputs": [
    {
     "name": "stderr",
     "output_type": "stream",
     "text": [
      "[Stage 132:============================>                            (2 + 2) / 4]\r"
     ]
    },
    {
     "name": "stdout",
     "output_type": "stream",
     "text": [
      "+---+-----+-------------------+\n",
      "|NPL|count|         proportion|\n",
      "+---+-----+-------------------+\n",
      "|  0| 9509| 0.9774876644736842|\n",
      "|  1|  219|0.02251233552631579|\n",
      "+---+-----+-------------------+\n",
      "\n"
     ]
    },
    {
     "name": "stderr",
     "output_type": "stream",
     "text": [
      "                                                                                \r"
     ]
    }
   ],
   "source": [
    "# As we can see, we are dealing with an unbalanced dataset case. Thus it is interesting to maintain the target value proportions\n",
    "# in both training and test sets.\n",
    "from pyspark.sql.functions import col\n",
    "\n",
    "df.groupBy('NPL').count().withColumn('proportion', col('count')/df.count()).show()"
   ]
  },
  {
   "cell_type": "code",
   "execution_count": 17,
   "id": "cdb273e6",
   "metadata": {
    "execution": {
     "iopub.execute_input": "2024-04-14T00:09:51.368917Z",
     "iopub.status.busy": "2024-04-14T00:09:51.368453Z",
     "iopub.status.idle": "2024-04-14T00:09:51.854389Z",
     "shell.execute_reply": "2024-04-14T00:09:51.852878Z"
    },
    "papermill": {
     "duration": 0.536415,
     "end_time": "2024-04-14T00:09:51.858465",
     "exception": false,
     "start_time": "2024-04-14T00:09:51.322050",
     "status": "completed"
    },
    "tags": []
   },
   "outputs": [],
   "source": [
    "# Creating the training and test sets.\n",
    "train = df.sampleBy('NPL', fractions={'0':.75, '1':.75}, seed=42)\n",
    "test = df.subtract(train)"
   ]
  },
  {
   "cell_type": "code",
   "execution_count": 18,
   "id": "2c5943cc",
   "metadata": {
    "execution": {
     "iopub.execute_input": "2024-04-14T00:09:51.954065Z",
     "iopub.status.busy": "2024-04-14T00:09:51.953598Z",
     "iopub.status.idle": "2024-04-14T00:11:56.455176Z",
     "shell.execute_reply": "2024-04-14T00:11:56.454161Z"
    },
    "papermill": {
     "duration": 124.554718,
     "end_time": "2024-04-14T00:11:56.458751",
     "exception": false,
     "start_time": "2024-04-14T00:09:51.904033",
     "status": "completed"
    },
    "tags": []
   },
   "outputs": [
    {
     "name": "stdout",
     "output_type": "stream",
     "text": [
      "*** TRAIN ***\n"
     ]
    },
    {
     "name": "stderr",
     "output_type": "stream",
     "text": [
      "                                                                                \r"
     ]
    },
    {
     "name": "stdout",
     "output_type": "stream",
     "text": [
      "+---+-----+--------------------+\n",
      "|NPL|count|          proportion|\n",
      "+---+-----+--------------------+\n",
      "|  0| 7205|  0.9785413554257776|\n",
      "|  1|  158|0.021458644574222464|\n",
      "+---+-----+--------------------+\n",
      "\n",
      "*** TEST ***\n"
     ]
    },
    {
     "name": "stderr",
     "output_type": "stream",
     "text": [
      "                                                                                \r"
     ]
    },
    {
     "name": "stdout",
     "output_type": "stream",
     "text": [
      "+---+-----+--------------------+\n",
      "|NPL|count|          proportion|\n",
      "+---+-----+--------------------+\n",
      "|  0| 2308|  0.9800424628450106|\n",
      "|  1|   47|0.019957537154989383|\n",
      "+---+-----+--------------------+\n",
      "\n"
     ]
    }
   ],
   "source": [
    "# Since the class proportions are relatively proximate, we are able to use them in our project.\n",
    "print('*** TRAIN ***')\n",
    "train.groupBy('NPL').count().withColumn('proportion', col('count')/train.count()).show()\n",
    "print('*** TEST ***')\n",
    "test.groupBy('NPL').count().withColumn('proportion', col('count')/test.count()).show()"
   ]
  },
  {
   "cell_type": "code",
   "execution_count": 19,
   "id": "86a0b044",
   "metadata": {
    "execution": {
     "iopub.execute_input": "2024-04-14T00:11:56.604568Z",
     "iopub.status.busy": "2024-04-14T00:11:56.604122Z",
     "iopub.status.idle": "2024-04-14T00:11:56.609561Z",
     "shell.execute_reply": "2024-04-14T00:11:56.608334Z"
    },
    "papermill": {
     "duration": 0.07546,
     "end_time": "2024-04-14T00:11:56.612584",
     "exception": false,
     "start_time": "2024-04-14T00:11:56.537124",
     "status": "completed"
    },
    "tags": []
   },
   "outputs": [],
   "source": [
    "# Saving the datasets in distinct .parquet files.\n",
    "# train.write.parquet('/kaggle/working/train.parquet', mode='overwrite')\n",
    "# test.write.parquet('/kaggle/working/test.parquet', mode='overwrite')"
   ]
  },
  {
   "cell_type": "markdown",
   "id": "3b65194a",
   "metadata": {
    "execution": {
     "iopub.execute_input": "2023-08-15T16:05:33.192895Z",
     "iopub.status.busy": "2023-08-15T16:05:33.192467Z",
     "iopub.status.idle": "2023-08-15T16:05:34.343874Z",
     "shell.execute_reply": "2023-08-15T16:05:34.342739Z",
     "shell.execute_reply.started": "2023-08-15T16:05:33.192858Z"
    },
    "papermill": {
     "duration": 0.053284,
     "end_time": "2024-04-14T00:11:56.729932",
     "exception": false,
     "start_time": "2024-04-14T00:11:56.676648",
     "status": "completed"
    },
    "tags": []
   },
   "source": [
    "<h3 style='font-size:30px;font-style:italic'> Defining the Models' Metric</h3>\n",
    "<div> \n",
    "    <ul style='font-size:20px'> \n",
    "        <li> \n",
    "            Providing False Negatives would clearly be more harmful for the bank's equity than False Positives.         \n",
    "        </li>\n",
    "        <li> \n",
    "            Following conversations with the credit analysts, we've ended up defining the case's official metric\n",
    "            as an f-score with $\\beta=4$. So, we are giving to Recall an importance that is 4x higher than the Precision's.\n",
    "        </li>\n",
    "    </ul>\n",
    "</div>"
   ]
  },
  {
   "cell_type": "markdown",
   "id": "ff45bcf0",
   "metadata": {
    "papermill": {
     "duration": 0.052087,
     "end_time": "2024-04-14T00:11:56.834412",
     "exception": false,
     "start_time": "2024-04-14T00:11:56.782325",
     "status": "completed"
    },
    "tags": []
   },
   "source": [
    "<h2 style='font-size:30px'> Exploratory Data Analysis</h2>\n",
    "<div> \n",
    "    <ul style='font-size:20px'> \n",
    "        <li> \n",
    "            With the data properly segregated, let's briefly analyze its content and see whether we can spot differences \n",
    "            among the classes. \n",
    "        </li>\n",
    "    </ul>\n",
    "</div>"
   ]
  },
  {
   "cell_type": "code",
   "execution_count": 20,
   "id": "84e24ec5",
   "metadata": {
    "execution": {
     "iopub.execute_input": "2024-04-14T00:11:56.943134Z",
     "iopub.status.busy": "2024-04-14T00:11:56.942662Z",
     "iopub.status.idle": "2024-04-14T00:12:11.289658Z",
     "shell.execute_reply": "2024-04-14T00:12:11.288019Z"
    },
    "papermill": {
     "duration": 14.406001,
     "end_time": "2024-04-14T00:12:11.292692",
     "exception": false,
     "start_time": "2024-04-14T00:11:56.886691",
     "status": "completed"
    },
    "tags": []
   },
   "outputs": [
    {
     "name": "stdout",
     "output_type": "stream",
     "text": [
      "Requirement already satisfied: pyspark in /opt/conda/lib/python3.10/site-packages (3.5.1)\r\n",
      "Requirement already satisfied: py4j==0.10.9.7 in /opt/conda/lib/python3.10/site-packages (from pyspark) (0.10.9.7)\r\n",
      "Note: you may need to restart the kernel to use updated packages.\n"
     ]
    }
   ],
   "source": [
    "pip install pyspark"
   ]
  },
  {
   "cell_type": "code",
   "execution_count": 21,
   "id": "007cfc33",
   "metadata": {
    "execution": {
     "iopub.execute_input": "2024-04-14T00:12:11.409117Z",
     "iopub.status.busy": "2024-04-14T00:12:11.408119Z",
     "iopub.status.idle": "2024-04-14T00:12:11.435442Z",
     "shell.execute_reply": "2024-04-14T00:12:11.434206Z"
    },
    "papermill": {
     "duration": 0.090915,
     "end_time": "2024-04-14T00:12:11.438174",
     "exception": false,
     "start_time": "2024-04-14T00:12:11.347259",
     "status": "completed"
    },
    "tags": []
   },
   "outputs": [
    {
     "data": {
      "text/html": [
       "<style>pre { white-space: pre !important; }</style>"
      ],
      "text/plain": [
       "<IPython.core.display.HTML object>"
      ]
     },
     "metadata": {},
     "output_type": "display_data"
    }
   ],
   "source": [
    "from pyspark import SparkContext\n",
    "from pyspark.sql import SparkSession\n",
    "from IPython.core.display import HTML\n",
    "\n",
    "# Creating the project's SparkSession.\n",
    "spark = SparkSession.builder.appName('NPL').getOrCreate()\n",
    "\n",
    "# Also, modifying the session's log level.\n",
    "log_level = spark.sparkContext.setLogLevel('ERROR')\n",
    "\n",
    "# This tiny config enables us to scroll along the DataFrame's columns.\n",
    "display(HTML(\"<style>pre { white-space: pre !important; }</style>\"))"
   ]
  },
  {
   "cell_type": "code",
   "execution_count": 22,
   "id": "ca3cf71d",
   "metadata": {
    "execution": {
     "iopub.execute_input": "2024-04-14T00:12:11.558338Z",
     "iopub.status.busy": "2024-04-14T00:12:11.557308Z",
     "iopub.status.idle": "2024-04-14T00:12:12.910547Z",
     "shell.execute_reply": "2024-04-14T00:12:12.909618Z"
    },
    "papermill": {
     "duration": 1.418447,
     "end_time": "2024-04-14T00:12:12.914408",
     "exception": false,
     "start_time": "2024-04-14T00:12:11.495961",
     "status": "completed"
    },
    "tags": []
   },
   "outputs": [
    {
     "name": "stdout",
     "output_type": "stream",
     "text": [
      "+---------+-----------+------------+---------------+------------+----------------+----------------+--------------------+------------------+-----------------+----------+-------------+----------+---------------+----------+----------+---------------+---------------+---+\n",
      "|ID_CLIENT|CODE_GENDER|FLAG_OWN_CAR|FLAG_OWN_REALTY|CNT_CHILDREN|AMT_INCOME_TOTAL|NAME_INCOME_TYPE| NAME_EDUCATION_TYPE|NAME_FAMILY_STATUS|NAME_HOUSING_TYPE|DAYS_BIRTH|DAYS_EMPLOYED|FLAG_MOBIL|FLAG_WORK_PHONE|FLAG_PHONE|FLAG_EMAIL|OCCUPATION_TYPE|CNT_FAM_MEMBERS|NPL|\n",
      "+---------+-----------+------------+---------------+------------+----------------+----------------+--------------------+------------------+-----------------+----------+-------------+----------+---------------+----------+----------+---------------+---------------+---+\n",
      "|      691|          F|           N|              N|           0|         67500.0|         Working|Secondary / secon...|           Married|House / apartment|    -20075|        -7013|         1|              1|         1|         0|    Sales staff|            2.0|  0|\n",
      "|     3606|          F|           N|              N|           0|        112500.0|         Working|Secondary / secon...|           Married|House / apartment|     -9865|         -196|         1|              1|         0|         0|       Laborers|            2.0|  0|\n",
      "|     4821|          F|           N|              N|           0|        135000.0|   State servant|    Higher education|           Married|House / apartment|    -12490|        -1191|         1|              1|         1|         0|     Core staff|            2.0|  0|\n",
      "|     5925|          F|           N|              N|           0|        157500.0|       Pensioner|Secondary / secon...|           Married|House / apartment|    -22828|       365243|         1|              0|         0|         0|           NULL|            2.0|  0|\n",
      "|     6194|          F|           N|              N|           0|        157500.0|         Working|   Incomplete higher|           Married|House / apartment|    -16888|        -2687|         1|              0|         0|         0|     Core staff|            2.0|  0|\n",
      "+---------+-----------+------------+---------------+------------+----------------+----------------+--------------------+------------------+-----------------+----------+-------------+----------+---------------+----------+----------+---------------+---------------+---+\n",
      "only showing top 5 rows\n",
      "\n"
     ]
    }
   ],
   "source": [
    "train = spark.read.parquet('/kaggle/input/npl-train/train.parquet/')\n",
    "train.show(5)"
   ]
  },
  {
   "cell_type": "markdown",
   "id": "f81c7f0c",
   "metadata": {
    "execution": {
     "iopub.execute_input": "2023-08-15T16:05:33.192895Z",
     "iopub.status.busy": "2023-08-15T16:05:33.192467Z",
     "iopub.status.idle": "2023-08-15T16:05:34.343874Z",
     "shell.execute_reply": "2023-08-15T16:05:34.342739Z",
     "shell.execute_reply.started": "2023-08-15T16:05:33.192858Z"
    },
    "papermill": {
     "duration": 0.05389,
     "end_time": "2024-04-14T00:12:13.022516",
     "exception": false,
     "start_time": "2024-04-14T00:12:12.968626",
     "status": "completed"
    },
    "tags": []
   },
   "source": [
    "<h3 style='font-size:30px;font-style:italic'> Assessing the Classes' Incomes</h3>\n",
    "<div> \n",
    "    <ul style='font-size:20px'> \n",
    "        <li> \n",
    "            Let's analyze whether there is any revenue difference between individuals who produced an NPL and those who didn't. \n",
    "        </li>\n",
    "        <li> \n",
    "            Since we are dealing with an continuous outcome from two independent samples, I'll use the z-score formula below to examine the \n",
    "            income differences:\n",
    "            <center style='margin-top:20px'> \n",
    "                    $z=\\frac{\\overline{X}_{1}-\\overline{X}_{2}}{S_{p}\\sqrt{\\frac{1}{n_{1}}+\\frac{1}{n_{2}}}}$ | $S_{p}=\\sqrt{\\frac{(n_{1}-1)s_{1}^{2}+(n_{2}-1)s_{2}^{2}}{n_{1}+n_{2}-2}}$\n",
    "           </center>\n",
    "        </li>\n",
    "    </ul>\n",
    "</div>"
   ]
  },
  {
   "cell_type": "code",
   "execution_count": 23,
   "id": "970ff231",
   "metadata": {
    "execution": {
     "iopub.execute_input": "2024-04-14T00:12:13.133161Z",
     "iopub.status.busy": "2024-04-14T00:12:13.132746Z",
     "iopub.status.idle": "2024-04-14T00:12:13.666408Z",
     "shell.execute_reply": "2024-04-14T00:12:13.665187Z"
    },
    "papermill": {
     "duration": 0.593775,
     "end_time": "2024-04-14T00:12:13.670043",
     "exception": false,
     "start_time": "2024-04-14T00:12:13.076268",
     "status": "completed"
    },
    "tags": []
   },
   "outputs": [
    {
     "name": "stdout",
     "output_type": "stream",
     "text": [
      "+---+------------------------+\n",
      "|NPL|stddev(AMT_INCOME_TOTAL)|\n",
      "+---+------------------------+\n",
      "|  0|        99647.7510722535|\n",
      "|  1|       96639.80531139452|\n",
      "+---+------------------------+\n",
      "\n"
     ]
    }
   ],
   "source": [
    "# The formula above is only valid for samples with similar std's (0.5<s1/s2<2). So we ought to firstly guarantee that the incomes' std's\n",
    "# are in accordance to that rule.\n",
    "df_income_std = train.groupBy('NPL').agg({'AMT_INCOME_TOTAL':'std'})\n",
    "df_income_std.show()"
   ]
  },
  {
   "cell_type": "code",
   "execution_count": 24,
   "id": "b97787a0",
   "metadata": {
    "execution": {
     "iopub.execute_input": "2024-04-14T00:12:13.779907Z",
     "iopub.status.busy": "2024-04-14T00:12:13.779430Z",
     "iopub.status.idle": "2024-04-14T00:12:14.021285Z",
     "shell.execute_reply": "2024-04-14T00:12:14.019779Z"
    },
    "papermill": {
     "duration": 0.300785,
     "end_time": "2024-04-14T00:12:14.024344",
     "exception": false,
     "start_time": "2024-04-14T00:12:13.723559",
     "status": "completed"
    },
    "tags": []
   },
   "outputs": [
    {
     "data": {
      "text/plain": [
       "1.0311253292695148"
      ]
     },
     "execution_count": 24,
     "metadata": {},
     "output_type": "execute_result"
    }
   ],
   "source": [
    "# Because the std ratio is in the desired interval, we can proceed in using the formula.\n",
    "list_std = [row['stddev(AMT_INCOME_TOTAL)'] for row in df_income_std.collect()]\n",
    "list_std[0] / list_std[1]"
   ]
  },
  {
   "cell_type": "code",
   "execution_count": 25,
   "id": "77e4118a",
   "metadata": {
    "execution": {
     "iopub.execute_input": "2024-04-14T00:12:14.133881Z",
     "iopub.status.busy": "2024-04-14T00:12:14.133403Z",
     "iopub.status.idle": "2024-04-14T00:12:16.217721Z",
     "shell.execute_reply": "2024-04-14T00:12:16.216734Z"
    },
    "papermill": {
     "duration": 2.143292,
     "end_time": "2024-04-14T00:12:16.220428",
     "exception": false,
     "start_time": "2024-04-14T00:12:14.077136",
     "status": "completed"
    },
    "tags": []
   },
   "outputs": [
    {
     "data": {
      "text/plain": [
       "0.7972574858186637"
      ]
     },
     "execution_count": 25,
     "metadata": {},
     "output_type": "execute_result"
    }
   ],
   "source": [
    "# By setting our alpha=.05, we can see that there is no statistical evidence that people with no NPL receive higher incomes\n",
    "# than the other group.\n",
    "from statsmodels.stats.weightstats import ztest\n",
    "\n",
    "zeros = [row['AMT_INCOME_TOTAL'] for row in train.select('AMT_INCOME_TOTAL').where('NPL==0').collect()]\n",
    "ones = [row['AMT_INCOME_TOTAL'] for row in train.select('AMT_INCOME_TOTAL').where('NPL==1').collect()]\n",
    "\n",
    "ztest(zeros, ones, alternative='larger')[1] # Computing our p-value."
   ]
  },
  {
   "cell_type": "markdown",
   "id": "3042653d",
   "metadata": {
    "papermill": {
     "duration": 0.070706,
     "end_time": "2024-04-14T00:12:16.344581",
     "exception": false,
     "start_time": "2024-04-14T00:12:16.273875",
     "status": "completed"
    },
    "tags": []
   },
   "source": [
    "<h3 style='font-size:30px;font-style:italic'> Valuable Assets Analysis</h3>\n",
    "<div> \n",
    "    <ul style='font-size:20px'> \n",
    "        <li> \n",
    "            The dataset contains columns representing whether the client possesses real state or a vehicle.\n",
    "        </li>\n",
    "        <li> \n",
    "            We can verify if people that own such properties have lower chance of producing an NPL, because they could sell them if they don't have enough \n",
    "            cash to pay the loans. \n",
    "        </li>\n",
    "    </ul>\n",
    "</div>"
   ]
  },
  {
   "cell_type": "code",
   "execution_count": 26,
   "id": "f98d3978",
   "metadata": {
    "execution": {
     "iopub.execute_input": "2024-04-14T00:12:16.496232Z",
     "iopub.status.busy": "2024-04-14T00:12:16.495046Z",
     "iopub.status.idle": "2024-04-14T00:12:16.949358Z",
     "shell.execute_reply": "2024-04-14T00:12:16.947951Z"
    },
    "papermill": {
     "duration": 0.535168,
     "end_time": "2024-04-14T00:12:16.953269",
     "exception": false,
     "start_time": "2024-04-14T00:12:16.418101",
     "status": "completed"
    },
    "tags": []
   },
   "outputs": [
    {
     "name": "stdout",
     "output_type": "stream",
     "text": [
      "+------------+---+\n",
      "|OWN_VALUABLE|NPL|\n",
      "+------------+---+\n",
      "|           0|  0|\n",
      "|           0|  0|\n",
      "|           0|  0|\n",
      "|           0|  0|\n",
      "|           0|  0|\n",
      "+------------+---+\n",
      "only showing top 5 rows\n",
      "\n"
     ]
    }
   ],
   "source": [
    "from pyspark.sql.functions import udf\n",
    "from pyspark.sql.types import StringType\n",
    "\n",
    "@udf(returnType=StringType())\n",
    "def own_valuable(col_car:str, col_realty:str)->str:\n",
    "    '''\n",
    "        Signs whether a client possesses a valuable asset that can be sold for paying their loans.\n",
    "        \n",
    "        Parameters\n",
    "        ----------\n",
    "        `col_car` str\n",
    "            The value of the flag that indicates the ownership of a car.\n",
    "        `col_realty`: str\n",
    "            The value of the flag that indicates the ownership of a real state.\n",
    "            \n",
    "        Returns\n",
    "        -------\n",
    "        A flag indicating the possession of a car or real state (valuable assets). \n",
    "    '''\n",
    "    if (col_car=='Y') or (col_realty=='Y'):\n",
    "        return '1'\n",
    "    return '0'\n",
    "\n",
    "# Creating the DataFrame that will be used for conducting the Hypothesis Test.\n",
    "df_valuable = train.select(own_valuable('FLAG_OWN_CAR', 'FLAG_OWN_REALTY').alias('OWN_VALUABLE'), 'NPL')\n",
    "df_valuable.show(5)"
   ]
  },
  {
   "cell_type": "code",
   "execution_count": 27,
   "id": "1331d1de",
   "metadata": {
    "execution": {
     "iopub.execute_input": "2024-04-14T00:12:17.063886Z",
     "iopub.status.busy": "2024-04-14T00:12:17.063446Z",
     "iopub.status.idle": "2024-04-14T00:12:17.961328Z",
     "shell.execute_reply": "2024-04-14T00:12:17.959621Z"
    },
    "papermill": {
     "duration": 0.957555,
     "end_time": "2024-04-14T00:12:17.965684",
     "exception": false,
     "start_time": "2024-04-14T00:12:17.008129",
     "status": "completed"
    },
    "tags": []
   },
   "outputs": [
    {
     "name": "stderr",
     "output_type": "stream",
     "text": [
      "[Stage 373:>                                                        (0 + 4) / 4]\r"
     ]
    },
    {
     "name": "stdout",
     "output_type": "stream",
     "text": [
      "+---+------------+-----+\n",
      "|NPL|OWN_VALUABLE|count|\n",
      "+---+------------+-----+\n",
      "|  0|           1| 5747|\n",
      "|  1|           1|  126|\n",
      "|  0|           0| 1454|\n",
      "|  1|           0|   46|\n",
      "+---+------------+-----+\n",
      "\n"
     ]
    },
    {
     "name": "stderr",
     "output_type": "stream",
     "text": [
      "                                                                                \r"
     ]
    }
   ],
   "source": [
    "# Counting the amount of who own or not a valuable asset per target.\n",
    "gb_valuable = (df_valuable\n",
    "     .groupBy(['NPL', 'OWN_VALUABLE'])\n",
    "     .count())\n",
    "\n",
    "gb_valuable.show()"
   ]
  },
  {
   "cell_type": "code",
   "execution_count": 28,
   "id": "06684f9b",
   "metadata": {
    "execution": {
     "iopub.execute_input": "2024-04-14T00:12:18.121297Z",
     "iopub.status.busy": "2024-04-14T00:12:18.120724Z",
     "iopub.status.idle": "2024-04-14T00:12:19.194481Z",
     "shell.execute_reply": "2024-04-14T00:12:19.192514Z"
    },
    "papermill": {
     "duration": 1.155894,
     "end_time": "2024-04-14T00:12:19.198264",
     "exception": false,
     "start_time": "2024-04-14T00:12:18.042370",
     "status": "completed"
    },
    "tags": []
   },
   "outputs": [
    {
     "name": "stderr",
     "output_type": "stream",
     "text": [
      "[Stage 376:==========================================>              (3 + 1) / 4]\r"
     ]
    },
    {
     "name": "stdout",
     "output_type": "stream",
     "text": [
      "+---+-----------------------+---------------+------------------+\n",
      "|NPL|INSTANCES_WITH_VALUABLE|TOTAL_INSTANCES| PROP_OWN_VALUABLE|\n",
      "+---+-----------------------+---------------+------------------+\n",
      "|  0|                   5747|           7201|0.7980835995000695|\n",
      "|  1|                    126|            172|0.7325581395348837|\n",
      "+---+-----------------------+---------------+------------------+\n",
      "\n"
     ]
    },
    {
     "name": "stderr",
     "output_type": "stream",
     "text": [
      "                                                                                \r"
     ]
    }
   ],
   "source": [
    "# Now, using `gb_valuable` in order to estimate the proportion of clients with a valuable asset for each target.\n",
    "from pyspark.sql.functions import col\n",
    "from pyspark.sql.functions import sum as ps_sum\n",
    "from pyspark.sql.window import Window\n",
    "\n",
    "window = Window.partitionBy('NPL')\n",
    "\n",
    "# It's noticeable that there is a rough 7% difference between the proportions. But can we regard that as statistically significant? \n",
    "(gb_valuable\n",
    "     .withColumn('TOTAL_INSTANCES', ps_sum(col('count')).over(window)) # Total quantity of instances for each target.\n",
    "     .withColumn('PROP_OWN_VALUABLE', col('count')/ps_sum(col('count')).over(window)) # % of clients who own valuable assets per target.\n",
    "     .withColumnRenamed('count', 'INSTANCES_WITH_VALUABLE') \n",
    "     .where('`OWN_VALUABLE`==1')\n",
    "     .select(['NPL', 'INSTANCES_WITH_VALUABLE', 'TOTAL_INSTANCES', 'PROP_OWN_VALUABLE'])).show()"
   ]
  },
  {
   "cell_type": "code",
   "execution_count": 29,
   "id": "b38e38c3",
   "metadata": {
    "execution": {
     "iopub.execute_input": "2024-04-14T00:12:19.321939Z",
     "iopub.status.busy": "2024-04-14T00:12:19.321489Z",
     "iopub.status.idle": "2024-04-14T00:12:19.359741Z",
     "shell.execute_reply": "2024-04-14T00:12:19.358344Z"
    },
    "papermill": {
     "duration": 0.107671,
     "end_time": "2024-04-14T00:12:19.364924",
     "exception": false,
     "start_time": "2024-04-14T00:12:19.257253",
     "status": "completed"
    },
    "tags": []
   },
   "outputs": [
    {
     "data": {
      "text/plain": [
       "0.033767448873365"
      ]
     },
     "execution_count": 29,
     "metadata": {},
     "output_type": "execute_result"
    }
   ],
   "source": [
    "# H0: People who honor their debts have the same probability of possessing a valuable asset as the clients in default.\n",
    "# H1: People who honor their debts have higher probability of possessing a valuable asset compared to clients in default.\n",
    "\n",
    "# By using the table's data in a Hypothesis Test for proportions, we get a p-value below our significance degree (alpha=.05).\n",
    "\n",
    "# Therefore, we are able to reject H0 and state we possess sufficient information to say that people who have never produced an NPL have a higher\n",
    "# tendency of possessing a valuable asset.\n",
    "\n",
    "from statsmodels.stats.proportion import test_proportions_2indep\n",
    "test_proportions_2indep(5747, 7201, 126, 172, compare='ratio', alternative='larger').pvalue"
   ]
  },
  {
   "cell_type": "code",
   "execution_count": 30,
   "id": "9cc7c3ac",
   "metadata": {
    "execution": {
     "iopub.execute_input": "2024-04-14T00:12:19.491908Z",
     "iopub.status.busy": "2024-04-14T00:12:19.491425Z",
     "iopub.status.idle": "2024-04-14T00:12:19.503997Z",
     "shell.execute_reply": "2024-04-14T00:12:19.502782Z"
    },
    "papermill": {
     "duration": 0.074203,
     "end_time": "2024-04-14T00:12:19.506383",
     "exception": false,
     "start_time": "2024-04-14T00:12:19.432180",
     "status": "completed"
    },
    "tags": []
   },
   "outputs": [
    {
     "data": {
      "text/plain": [
       "0.15495270778483095"
      ]
     },
     "execution_count": 30,
     "metadata": {},
     "output_type": "execute_result"
    }
   ],
   "source": [
    "# With the difference proved real, let's analyze it with the use of a Cohen's h.\n",
    "from numpy import arcsin, sqrt\n",
    "def cohen_h(p1:float, p2:float)->float:\n",
    "    '''\n",
    "        Computes the Cohen's h coefficient for the difference between two proportions.\n",
    "        \n",
    "        Parameters\n",
    "        ----------\n",
    "        `p1`: float\n",
    "            The first probability.\n",
    "        `p2`: float\n",
    "            The second probability.\n",
    "            \n",
    "        Returns\n",
    "        -------\n",
    "        The Cohen's h coefficient for the given proportions.\n",
    "    '''\n",
    "    phi1 = 2*arcsin(sqrt(p1))\n",
    "    phi2 = 2*arcsin(sqrt(p2))\n",
    "    return phi1-phi2\n",
    "\n",
    "# By observing the returned h, we can conclude that the difference is of a small magnitude, since it is lower than 0.2.\n",
    "cohen_h(0.7980835995000695, 0.7325581395348837)"
   ]
  },
  {
   "cell_type": "markdown",
   "id": "bd2ca0b8",
   "metadata": {
    "papermill": {
     "duration": 0.071025,
     "end_time": "2024-04-14T00:12:19.636020",
     "exception": false,
     "start_time": "2024-04-14T00:12:19.564995",
     "status": "completed"
    },
    "tags": []
   },
   "source": [
    "<h3 style='font-size:30px;font-style:italic'> Employment Impact Analysis</h3>\n",
    "<div> \n",
    "    <ul style='font-size:20px'> \n",
    "        <li> \n",
    "            Finally, it would be interesting if we could verify whether unemployment can impair loan payments.  \n",
    "        </li>\n",
    "    </ul>\n",
    "</div>"
   ]
  },
  {
   "cell_type": "markdown",
   "id": "223e33d9",
   "metadata": {
    "papermill": {
     "duration": 0.054156,
     "end_time": "2024-04-14T00:12:19.744751",
     "exception": false,
     "start_time": "2024-04-14T00:12:19.690595",
     "status": "completed"
    },
    "tags": []
   },
   "source": [
    "<h4 style='font-size:30px;font-style:italic;text-decoration:underline'> Cleaning up Inconsistent Instances</h4>\n",
    "<div> \n",
    "    <ul style='font-size:20px'> \n",
    "        <li> \n",
    "            The dataset contains individuals who present their OCCUPATION_TYPE value as NULL, although they show up as employed (DAYS_EMPLOYED$\\leq{0}$)\n",
    "        </li>\n",
    "        <li>\n",
    "            In order to they not be regarded as unemployed clients (who also present OCCUPATION_TYPE as NULL), I thought it would be convenient to assign \n",
    "            another category to them.\n",
    "        </li>\n",
    "    </ul>\n",
    "</div>"
   ]
  },
  {
   "cell_type": "code",
   "execution_count": 31,
   "id": "035e2b30",
   "metadata": {
    "execution": {
     "iopub.execute_input": "2024-04-14T00:12:19.859769Z",
     "iopub.status.busy": "2024-04-14T00:12:19.859043Z",
     "iopub.status.idle": "2024-04-14T00:12:19.867648Z",
     "shell.execute_reply": "2024-04-14T00:12:19.866250Z"
    },
    "papermill": {
     "duration": 0.070117,
     "end_time": "2024-04-14T00:12:19.870683",
     "exception": false,
     "start_time": "2024-04-14T00:12:19.800566",
     "status": "completed"
    },
    "tags": []
   },
   "outputs": [],
   "source": [
    "@udf(returnType=StringType())\n",
    "def impute_occupation(col_occupation:str, col_days_employed:int)->str:\n",
    "    '''\n",
    "        Assigns new categories to the OCCUPATION_TYPE column if it is null for any given row. \n",
    "        \n",
    "        In case the DAYS_EMPLOYED shows that the client is currently employed, we impute 'UNDEFINED'; otherwise, we insert 'UNEMPLOYED'.\n",
    "        \n",
    "        Parameters\n",
    "        ----------\n",
    "        `col_occupation`: str\n",
    "            The row's OCCUPATION_TYPE value.\n",
    "        `col_days_employed`: int\n",
    "            The row's DAYS_EMPLOYED value.\n",
    "        \n",
    "        Returns\n",
    "        -------\n",
    "        The row's OCCUPATION_TYPE treated value.\n",
    "    '''\n",
    "    # 'Undefined' profession logic.\n",
    "    if (col_occupation is None) and (col_days_employed<=0):\n",
    "        return 'Undefined'\n",
    "    \n",
    "    # 'Unemployed' logic.\n",
    "    elif (col_occupation is None) and (col_days_employed>0):\n",
    "        return 'Unemployed'\n",
    "    \n",
    "    else:\n",
    "        pass\n",
    "    \n",
    "    return col_occupation"
   ]
  },
  {
   "cell_type": "code",
   "execution_count": 32,
   "id": "8ea9efeb",
   "metadata": {
    "execution": {
     "iopub.execute_input": "2024-04-14T00:12:19.984522Z",
     "iopub.status.busy": "2024-04-14T00:12:19.984044Z",
     "iopub.status.idle": "2024-04-14T00:12:20.022131Z",
     "shell.execute_reply": "2024-04-14T00:12:20.020951Z"
    },
    "papermill": {
     "duration": 0.097419,
     "end_time": "2024-04-14T00:12:20.024604",
     "exception": false,
     "start_time": "2024-04-14T00:12:19.927185",
     "status": "completed"
    },
    "tags": []
   },
   "outputs": [
    {
     "data": {
      "text/plain": [
       "['ID_CLIENT',\n",
       " 'CODE_GENDER',\n",
       " 'FLAG_OWN_CAR',\n",
       " 'FLAG_OWN_REALTY',\n",
       " 'CNT_CHILDREN',\n",
       " 'AMT_INCOME_TOTAL',\n",
       " 'NAME_INCOME_TYPE',\n",
       " 'NAME_EDUCATION_TYPE',\n",
       " 'NAME_FAMILY_STATUS',\n",
       " 'NAME_HOUSING_TYPE',\n",
       " 'DAYS_BIRTH',\n",
       " 'DAYS_EMPLOYED',\n",
       " 'FLAG_MOBIL',\n",
       " 'FLAG_WORK_PHONE',\n",
       " 'FLAG_PHONE',\n",
       " 'FLAG_EMAIL',\n",
       " 'CNT_FAM_MEMBERS',\n",
       " Column<'impute_occupation(OCCUPATION_TYPE, DAYS_EMPLOYED) AS OCCUPATION_TYPE'>,\n",
       " 'NPL']"
      ]
     },
     "execution_count": 32,
     "metadata": {},
     "output_type": "execute_result"
    }
   ],
   "source": [
    "# `list_select_occupation` will be used so that we can redefine the `train` DataFrame with the transformed OCCUPATION_TYPE feature.\n",
    "list_select_occupation = train.columns\n",
    "list_select_occupation.remove('OCCUPATION_TYPE')\n",
    "list_select_occupation.insert(-1, impute_occupation('OCCUPATION_TYPE', 'DAYS_EMPLOYED').alias('OCCUPATION_TYPE'))\n",
    "list_select_occupation"
   ]
  },
  {
   "cell_type": "code",
   "execution_count": 33,
   "id": "f21fcfe7",
   "metadata": {
    "execution": {
     "iopub.execute_input": "2024-04-14T00:12:20.139117Z",
     "iopub.status.busy": "2024-04-14T00:12:20.137793Z",
     "iopub.status.idle": "2024-04-14T00:12:20.646459Z",
     "shell.execute_reply": "2024-04-14T00:12:20.645227Z"
    },
    "papermill": {
     "duration": 0.570331,
     "end_time": "2024-04-14T00:12:20.649859",
     "exception": false,
     "start_time": "2024-04-14T00:12:20.079528",
     "status": "completed"
    },
    "tags": []
   },
   "outputs": [
    {
     "name": "stdout",
     "output_type": "stream",
     "text": [
      "+---------+-----------+------------+---------------+------------+----------------+----------------+--------------------+------------------+-----------------+----------+-------------+----------+---------------+----------+----------+---------------+---------------+---+\n",
      "|ID_CLIENT|CODE_GENDER|FLAG_OWN_CAR|FLAG_OWN_REALTY|CNT_CHILDREN|AMT_INCOME_TOTAL|NAME_INCOME_TYPE| NAME_EDUCATION_TYPE|NAME_FAMILY_STATUS|NAME_HOUSING_TYPE|DAYS_BIRTH|DAYS_EMPLOYED|FLAG_MOBIL|FLAG_WORK_PHONE|FLAG_PHONE|FLAG_EMAIL|CNT_FAM_MEMBERS|OCCUPATION_TYPE|NPL|\n",
      "+---------+-----------+------------+---------------+------------+----------------+----------------+--------------------+------------------+-----------------+----------+-------------+----------+---------------+----------+----------+---------------+---------------+---+\n",
      "|      691|          F|           N|              N|           0|         67500.0|         Working|Secondary / secon...|           Married|House / apartment|    -20075|        -7013|         1|              1|         1|         0|            2.0|    Sales staff|  0|\n",
      "|     3606|          F|           N|              N|           0|        112500.0|         Working|Secondary / secon...|           Married|House / apartment|     -9865|         -196|         1|              1|         0|         0|            2.0|       Laborers|  0|\n",
      "|     4821|          F|           N|              N|           0|        135000.0|   State servant|    Higher education|           Married|House / apartment|    -12490|        -1191|         1|              1|         1|         0|            2.0|     Core staff|  0|\n",
      "|     5925|          F|           N|              N|           0|        157500.0|       Pensioner|Secondary / secon...|           Married|House / apartment|    -22828|       365243|         1|              0|         0|         0|            2.0|     Unemployed|  0|\n",
      "|     6194|          F|           N|              N|           0|        157500.0|         Working|   Incomplete higher|           Married|House / apartment|    -16888|        -2687|         1|              0|         0|         0|            2.0|     Core staff|  0|\n",
      "+---------+-----------+------------+---------------+------------+----------------+----------------+--------------------+------------------+-----------------+----------+-------------+----------+---------------+----------+----------+---------------+---------------+---+\n",
      "only showing top 5 rows\n",
      "\n"
     ]
    }
   ],
   "source": [
    "# Applying the modifications to `train`.\n",
    "train = train.select(list_select_occupation)\n",
    "train.show(5)"
   ]
  },
  {
   "cell_type": "markdown",
   "id": "faafa5f1",
   "metadata": {
    "papermill": {
     "duration": 0.055436,
     "end_time": "2024-04-14T00:12:20.763656",
     "exception": false,
     "start_time": "2024-04-14T00:12:20.708220",
     "status": "completed"
    },
    "tags": []
   },
   "source": [
    "<h4 style='font-size:30px;font-style:italic;text-decoration:underline'> Back to the EDA...</h4>"
   ]
  },
  {
   "cell_type": "code",
   "execution_count": 34,
   "id": "ac3e5dab",
   "metadata": {
    "execution": {
     "iopub.execute_input": "2024-04-14T00:12:20.880086Z",
     "iopub.status.busy": "2024-04-14T00:12:20.879586Z",
     "iopub.status.idle": "2024-04-14T00:12:21.743178Z",
     "shell.execute_reply": "2024-04-14T00:12:21.741954Z"
    },
    "papermill": {
     "duration": 0.927055,
     "end_time": "2024-04-14T00:12:21.747360",
     "exception": false,
     "start_time": "2024-04-14T00:12:20.820305",
     "status": "completed"
    },
    "tags": []
   },
   "outputs": [
    {
     "name": "stdout",
     "output_type": "stream",
     "text": [
      "+---+--------+-----+\n",
      "|NPL|EMPLOYED|count|\n",
      "+---+--------+-----+\n",
      "|  0|       0| 1269|\n",
      "|  0|       1| 5932|\n",
      "|  1|       0|   31|\n",
      "|  1|       1|  141|\n",
      "+---+--------+-----+\n",
      "\n"
     ]
    },
    {
     "name": "stderr",
     "output_type": "stream",
     "text": [
      "                                                                                \r"
     ]
    }
   ],
   "source": [
    "# Counting the amount of employed and unemployed individuals per target group.\n",
    "from pyspark.sql.functions import when\n",
    "(train\n",
    "     .withColumn('EMPLOYED', when(col('OCCUPATION_TYPE') == 'Unemployed', 0).otherwise(1))\n",
    "     .groupBy('NPL', 'EMPLOYED')\n",
    "     .count()\n",
    "     .orderBy('NPL', 'EMPLOYED')).show(5)"
   ]
  },
  {
   "cell_type": "code",
   "execution_count": 35,
   "id": "b710013f",
   "metadata": {
    "execution": {
     "iopub.execute_input": "2024-04-14T00:12:21.859509Z",
     "iopub.status.busy": "2024-04-14T00:12:21.859001Z",
     "iopub.status.idle": "2024-04-14T00:12:21.867940Z",
     "shell.execute_reply": "2024-04-14T00:12:21.867045Z"
    },
    "papermill": {
     "duration": 0.067195,
     "end_time": "2024-04-14T00:12:21.870017",
     "exception": false,
     "start_time": "2024-04-14T00:12:21.802822",
     "status": "completed"
    },
    "tags": []
   },
   "outputs": [
    {
     "data": {
      "text/plain": [
       "0.41442347321737816"
      ]
     },
     "execution_count": 35,
     "metadata": {},
     "output_type": "execute_result"
    }
   ],
   "source": [
    "# H0: The proportion of unemployed among people with honored debts is the same as with those who didn't.\n",
    "# H1: The proportion of unemployed among people with honored debts is lower than that of those who didn't.\n",
    "\n",
    "# By looking at the p-value, we don't have sufficient statistical evidence to reject H0.\n",
    "test_proportions_2indep(1269, 7201, 31, 172, compare='ratio', alternative='smaller', ).pvalue"
   ]
  },
  {
   "cell_type": "code",
   "execution_count": 36,
   "id": "afefdc46",
   "metadata": {
    "execution": {
     "iopub.execute_input": "2024-04-14T00:12:21.984102Z",
     "iopub.status.busy": "2024-04-14T00:12:21.983263Z",
     "iopub.status.idle": "2024-04-14T00:12:23.541402Z",
     "shell.execute_reply": "2024-04-14T00:12:23.539813Z"
    },
    "papermill": {
     "duration": 1.617339,
     "end_time": "2024-04-14T00:12:23.543954",
     "exception": false,
     "start_time": "2024-04-14T00:12:21.926615",
     "status": "completed"
    },
    "tags": []
   },
   "outputs": [
    {
     "name": "stderr",
     "output_type": "stream",
     "text": [
      "                                                                                \r"
     ]
    }
   ],
   "source": [
    "# Saving the newly transformed `train` dataset.\n",
    "train.write.parquet('/kaggle/working/train.parquet', mode='overwrite')"
   ]
  },
  {
   "cell_type": "markdown",
   "id": "d5f494fe",
   "metadata": {
    "papermill": {
     "duration": 0.054779,
     "end_time": "2024-04-14T00:12:23.655092",
     "exception": false,
     "start_time": "2024-04-14T00:12:23.600313",
     "status": "completed"
    },
    "tags": []
   },
   "source": [
    "<h2 style='font-size:30px'> Data Transforming </h2>\n",
    "<div> \n",
    "    <ul style='font-size:20px'> \n",
    "        <li> \n",
    "            We are very close to begin the creation of our models. But we must remind that the data firstly needs to go under a numeralization procedure.\n",
    "        </li>\n",
    "    </ul>\n",
    "</div>"
   ]
  },
  {
   "cell_type": "code",
   "execution_count": 37,
   "id": "6b980f8f",
   "metadata": {
    "execution": {
     "iopub.execute_input": "2024-04-14T00:12:23.769228Z",
     "iopub.status.busy": "2024-04-14T00:12:23.768774Z",
     "iopub.status.idle": "2024-04-14T00:12:38.261636Z",
     "shell.execute_reply": "2024-04-14T00:12:38.259439Z"
    },
    "papermill": {
     "duration": 14.554603,
     "end_time": "2024-04-14T00:12:38.265202",
     "exception": false,
     "start_time": "2024-04-14T00:12:23.710599",
     "status": "completed"
    },
    "tags": []
   },
   "outputs": [
    {
     "name": "stdout",
     "output_type": "stream",
     "text": [
      "Requirement already satisfied: pyspark in /opt/conda/lib/python3.10/site-packages (3.5.1)\r\n",
      "Requirement already satisfied: py4j==0.10.9.7 in /opt/conda/lib/python3.10/site-packages (from pyspark) (0.10.9.7)\r\n",
      "Note: you may need to restart the kernel to use updated packages.\n"
     ]
    }
   ],
   "source": [
    "pip install pyspark"
   ]
  },
  {
   "cell_type": "code",
   "execution_count": 38,
   "id": "8c9a4dc0",
   "metadata": {
    "execution": {
     "iopub.execute_input": "2024-04-14T00:12:38.378655Z",
     "iopub.status.busy": "2024-04-14T00:12:38.378162Z",
     "iopub.status.idle": "2024-04-14T00:12:38.393998Z",
     "shell.execute_reply": "2024-04-14T00:12:38.392521Z"
    },
    "papermill": {
     "duration": 0.075096,
     "end_time": "2024-04-14T00:12:38.396647",
     "exception": false,
     "start_time": "2024-04-14T00:12:38.321551",
     "status": "completed"
    },
    "tags": []
   },
   "outputs": [
    {
     "data": {
      "text/html": [
       "<style>pre { white-space: pre !important; }</style>"
      ],
      "text/plain": [
       "<IPython.core.display.HTML object>"
      ]
     },
     "metadata": {},
     "output_type": "display_data"
    }
   ],
   "source": [
    "from pyspark import SparkContext\n",
    "from pyspark.sql import SparkSession\n",
    "from IPython.core.display import HTML\n",
    "\n",
    "# Creating the project's SparkSession.\n",
    "spark = SparkSession.builder.appName('NPL').getOrCreate()\n",
    "\n",
    "# Also, modifying the session's log level.\n",
    "log_level = spark.sparkContext.setLogLevel('ERROR')\n",
    "\n",
    "# This tiny config enables us to scroll along the DataFrame's columns.\n",
    "display(HTML(\"<style>pre { white-space: pre !important; }</style>\"))"
   ]
  },
  {
   "cell_type": "code",
   "execution_count": 39,
   "id": "1061465f",
   "metadata": {
    "execution": {
     "iopub.execute_input": "2024-04-14T00:12:38.508540Z",
     "iopub.status.busy": "2024-04-14T00:12:38.508094Z",
     "iopub.status.idle": "2024-04-14T00:12:38.767333Z",
     "shell.execute_reply": "2024-04-14T00:12:38.766313Z"
    },
    "papermill": {
     "duration": 0.318537,
     "end_time": "2024-04-14T00:12:38.770024",
     "exception": false,
     "start_time": "2024-04-14T00:12:38.451487",
     "status": "completed"
    },
    "tags": []
   },
   "outputs": [
    {
     "name": "stdout",
     "output_type": "stream",
     "text": [
      "+---------+-----------+------------+---------------+------------+----------------+----------------+--------------------+------------------+-----------------+----------+-------------+----------+---------------+----------+----------+---------------+---------------+---+\n",
      "|ID_CLIENT|CODE_GENDER|FLAG_OWN_CAR|FLAG_OWN_REALTY|CNT_CHILDREN|AMT_INCOME_TOTAL|NAME_INCOME_TYPE| NAME_EDUCATION_TYPE|NAME_FAMILY_STATUS|NAME_HOUSING_TYPE|DAYS_BIRTH|DAYS_EMPLOYED|FLAG_MOBIL|FLAG_WORK_PHONE|FLAG_PHONE|FLAG_EMAIL|CNT_FAM_MEMBERS|OCCUPATION_TYPE|NPL|\n",
      "+---------+-----------+------------+---------------+------------+----------------+----------------+--------------------+------------------+-----------------+----------+-------------+----------+---------------+----------+----------+---------------+---------------+---+\n",
      "|      691|          F|           N|              N|           0|         67500.0|         Working|Secondary / secon...|           Married|House / apartment|    -20075|        -7013|         1|              1|         1|         0|            2.0|    Sales staff|  0|\n",
      "|     3606|          F|           N|              N|           0|        112500.0|         Working|Secondary / secon...|           Married|House / apartment|     -9865|         -196|         1|              1|         0|         0|            2.0|       Laborers|  0|\n",
      "|     4821|          F|           N|              N|           0|        135000.0|   State servant|    Higher education|           Married|House / apartment|    -12490|        -1191|         1|              1|         1|         0|            2.0|     Core staff|  0|\n",
      "|     5925|          F|           N|              N|           0|        157500.0|       Pensioner|Secondary / secon...|           Married|House / apartment|    -22828|       365243|         1|              0|         0|         0|            2.0|     Unemployed|  0|\n",
      "|     6194|          F|           N|              N|           0|        157500.0|         Working|   Incomplete higher|           Married|House / apartment|    -16888|        -2687|         1|              0|         0|         0|            2.0|     Core staff|  0|\n",
      "+---------+-----------+------------+---------------+------------+----------------+----------------+--------------------+------------------+-----------------+----------+-------------+----------+---------------+----------+----------+---------------+---------------+---+\n",
      "only showing top 5 rows\n",
      "\n"
     ]
    }
   ],
   "source": [
    "train = spark.read.parquet('/kaggle/input/npl-train/train-eda.parquet/')\n",
    "train.show(5)"
   ]
  },
  {
   "cell_type": "markdown",
   "id": "d75c51a5",
   "metadata": {
    "papermill": {
     "duration": 0.057078,
     "end_time": "2024-04-14T00:12:38.882747",
     "exception": false,
     "start_time": "2024-04-14T00:12:38.825669",
     "status": "completed"
    },
    "tags": []
   },
   "source": [
    "<h3 style='font-size:30px;font-style:italic'> Job Labels' Transformer</h3>\n",
    "<div> \n",
    "    <ul style='font-size:20px'> \n",
    "        <li>   \n",
    "            Before making our numeralization process, we must re-implement the 'OCCUPATION_TYPE' column logic that we've written in a formal \n",
    "            PySpark Transformer class. In that way, we'll be able to apply the transformations in the test set as well.\n",
    "        </li>\n",
    "    </ul>\n",
    "</div>"
   ]
  },
  {
   "cell_type": "code",
   "execution_count": 40,
   "id": "c839e030",
   "metadata": {
    "execution": {
     "iopub.execute_input": "2024-04-14T00:12:38.999842Z",
     "iopub.status.busy": "2024-04-14T00:12:38.999357Z",
     "iopub.status.idle": "2024-04-14T00:12:39.115243Z",
     "shell.execute_reply": "2024-04-14T00:12:39.113594Z"
    },
    "papermill": {
     "duration": 0.177491,
     "end_time": "2024-04-14T00:12:39.118501",
     "exception": false,
     "start_time": "2024-04-14T00:12:38.941010",
     "status": "completed"
    },
    "tags": []
   },
   "outputs": [],
   "source": [
    "from pyspark.ml.param.shared import HasInputCol, HasInputCols, HasOutputCol, HasOutputCols, Param, Params, TypeConverters\n",
    "from pyspark.ml.util import DefaultParamsReadable, DefaultParamsWritable\n",
    "from pyspark import keyword_only\n",
    "from pyspark.ml import Transformer\n",
    "from typing import List\n",
    "\n",
    "class _BaseTransformer(Transformer, HasInputCol, HasInputCols, HasOutputCol, HasOutputCols, DefaultParamsReadable, DefaultParamsWritable):\n",
    "    '''\n",
    "        A class that provide the basic functionalities for the project's custom transformers.\n",
    "        \n",
    "        If you consider that your object will require even more customization, you can just overwrite any of the default methods when creating it. Also,\n",
    "        remember that any extra parameter must be set with a `self._setDefault` method right in the `__init__` function, mentioned in the `self.setParams`\n",
    "        method and own a getter function.\n",
    "        \n",
    "        Lastly, don't forget to define the `_transform` function!\n",
    "        \n",
    "        Parameters\n",
    "        ----------\n",
    "        `inputCol`: str\n",
    "            The name of the input column.\n",
    "        `inputCols`: List[str]\n",
    "            List containing the name of input columns.\n",
    "        `outputCol`: str\n",
    "            The name of the output column.\n",
    "        `outputCols`: List[str]\n",
    "            List containing the name of output columns.\n",
    "        \n",
    "        References\n",
    "        ----------\n",
    "        https://medium.com/@zeid.zandi/utilizing-the-power-of-pyspark-pipelines-in-data-science-projects-benefits-and-limitations-2-2-9063e4bebd05\n",
    "        https://www.crowdstrike.com/blog/deep-dive-into-custom-spark-transformers-for-machine-learning-pipelines/\n",
    "    '''\n",
    "    @keyword_only\n",
    "    def __init__(self, inputCol:str=None, inputCols:List[str]=None, outputCol:str=None, outputCols:List[str]=None, *args)->None:\n",
    "        super().__init__()\n",
    "        kwargs = self._input_kwargs\n",
    "        self.setParams(**kwargs)\n",
    "        \n",
    "    @keyword_only\n",
    "    def setParams(self, inputCol=None, inputCols=None, outputCol=None, outputCols=None): \n",
    "        kwargs = self._input_kwargs                                                          \n",
    "        return self._set(**kwargs)\n",
    "    \n",
    "    def setInputCol(self, value):\n",
    "        return self.setParams(inputCol=value)\n",
    "    \n",
    "    def setInputCols(self, value):\n",
    "        self.setParams(inputCols=value)\n",
    "    \n",
    "    def setOutputCol(self, value):\n",
    "        return self.setParams(outputCol=value)\n",
    "    \n",
    "    def setOutputCols(self, value):\n",
    "        return self.setParams(outputCols=value)"
   ]
  },
  {
   "cell_type": "code",
   "execution_count": 41,
   "id": "7b926b11",
   "metadata": {
    "execution": {
     "iopub.execute_input": "2024-04-14T00:12:39.230884Z",
     "iopub.status.busy": "2024-04-14T00:12:39.230308Z",
     "iopub.status.idle": "2024-04-14T00:12:39.243315Z",
     "shell.execute_reply": "2024-04-14T00:12:39.241805Z"
    },
    "papermill": {
     "duration": 0.07293,
     "end_time": "2024-04-14T00:12:39.245979",
     "exception": false,
     "start_time": "2024-04-14T00:12:39.173049",
     "status": "completed"
    },
    "tags": []
   },
   "outputs": [],
   "source": [
    "from pyspark.sql import DataFrame\n",
    "from pyspark.sql.functions import udf\n",
    "from pyspark.sql.types import StringType\n",
    "\n",
    "class ImputeOccupation(_BaseTransformer):\n",
    "    '''\n",
    "        A Transformer encharged of imputing proper OCCUPATION_TYPE values for rows that are NULL in such column.  \n",
    "        \n",
    "        Parameters\n",
    "        ----------\n",
    "        `inputCol`: str\n",
    "            The name of the input column.\n",
    "            \n",
    "        Method\n",
    "        ------\n",
    "        `_transform`: Applies the mentioned imputation process,\n",
    "    '''\n",
    "    @staticmethod\n",
    "    @udf(returnType=StringType())\n",
    "    def __impute_occupation(col_occupation:str, col_days_employed:int)->str:\n",
    "        '''\n",
    "        Assigns new categories to the OCCUPATION_TYPE column, if it is null. \n",
    "        \n",
    "        In case the row's DAYS_EMPLOYED shows that the client is currently employed, we impute 'UNDEFINED'; otherwise, we insert 'UNEMPLOYED'.\n",
    "        \n",
    "        Parameters\n",
    "        ----------\n",
    "        `col_occupation`: str\n",
    "            The row's OCCUPATION_TYPE value.\n",
    "        `col_days_employed`: int\n",
    "            The row's DAYS_EMPLOYED value.\n",
    "        \n",
    "        Returns\n",
    "        -------\n",
    "        The row's OCCUPATION_TYPE treated value.\n",
    "        '''\n",
    "        # 'Undefined' profession logic.\n",
    "        if (col_occupation is None) and (col_days_employed<=0):\n",
    "            return 'Undefined'\n",
    "\n",
    "        # 'Unemployed' logic.\n",
    "        elif (col_occupation is None) and (col_days_employed>0):\n",
    "            return 'Unemployed'\n",
    "        \n",
    "        # Otherwise, it outputs the current value.\n",
    "        else:\n",
    "            return col_occupation\n",
    "    \n",
    "    def _transform(self, dataset:DataFrame)->DataFrame:\n",
    "        '''\n",
    "            Performs the new occupation categories imputation.\n",
    "            \n",
    "            Parameter\n",
    "            ---------\n",
    "            `dataset`: `pyspark.sql.DataFrame`\n",
    "                The project's independent variables.\n",
    "                \n",
    "            Returns\n",
    "            -------\n",
    "            The DataFrame with the treated 'OCCUPATION_TYPE' column.\n",
    "        '''\n",
    "        x = self.getInputCol()\n",
    "        dataset = dataset.withColumn(x, self.__impute_occupation(x, 'DAYS_EMPLOYED'))\n",
    "        return dataset"
   ]
  },
  {
   "cell_type": "markdown",
   "id": "419be2d5",
   "metadata": {
    "papermill": {
     "duration": 0.059515,
     "end_time": "2024-04-14T00:12:39.360629",
     "exception": false,
     "start_time": "2024-04-14T00:12:39.301114",
     "status": "completed"
    },
    "tags": []
   },
   "source": [
    "<h3 style='font-size:30px;font-style:italic'> String Columns Numeralization</h3>\n",
    "<div> \n",
    "    <ul style='font-size:20px'> \n",
    "        <li>   \n",
    "            The first transformation we must conduct is turning string columns into float format.\n",
    "        </li>\n",
    "        <li> \n",
    "            As a solution, I'ĺl replace the given category for the its proportion of instances that are defaulted. I think that will be a worthier way \n",
    "            of generating numerical information than just providing a One-Hot Encoding.\n",
    "        </li>\n",
    "    </ul>\n",
    "</div>"
   ]
  },
  {
   "cell_type": "code",
   "execution_count": 42,
   "id": "2a1278fe",
   "metadata": {
    "execution": {
     "iopub.execute_input": "2024-04-14T00:12:39.474020Z",
     "iopub.status.busy": "2024-04-14T00:12:39.473486Z",
     "iopub.status.idle": "2024-04-14T00:12:39.485612Z",
     "shell.execute_reply": "2024-04-14T00:12:39.484612Z"
    },
    "papermill": {
     "duration": 0.073167,
     "end_time": "2024-04-14T00:12:39.488339",
     "exception": false,
     "start_time": "2024-04-14T00:12:39.415172",
     "status": "completed"
    },
    "tags": []
   },
   "outputs": [],
   "source": [
    "from pyspark.ml.pipeline import Estimator, Model, Pipeline, PipelineModel\n",
    "from pyspark.ml.param.shared import HasPredictionCol, Param, Params, TypeConverters\n",
    "from typing import Dict, List, Union\n",
    "\n",
    "doc = '''\n",
    "    Parameter that stores the proportions of defaulted individuals for each X features' categories.\n",
    "'''\n",
    "class HasDefaultProportions(Params):\n",
    "    '''\n",
    "        A class dedicated to store the categories' proportion of indebted individuals. \n",
    "    '''\n",
    "    defaultProportions:Dict[str, Dict[str, float]] = Param(Params._dummy(), 'defaultProportions', doc)\n",
    "    \n",
    "    def __init__(self):\n",
    "        super(HasDefaultProportions, self).__init__()\n",
    "    \n",
    "    def setDefaultProportions(self, value):\n",
    "        return self._set(defaultProportions=value)\n",
    "    \n",
    "    def getDefaultProportions(self):\n",
    "        return self.getOrDefault(self.defaultProportions)\n",
    "    \n",
    "list_col_strings = [col for col, dtype in train.dtypes if dtype=='string' and col !='NPL']"
   ]
  },
  {
   "cell_type": "code",
   "execution_count": 43,
   "id": "5f46fc14",
   "metadata": {
    "execution": {
     "iopub.execute_input": "2024-04-14T00:12:39.619142Z",
     "iopub.status.busy": "2024-04-14T00:12:39.617620Z",
     "iopub.status.idle": "2024-04-14T00:12:39.634072Z",
     "shell.execute_reply": "2024-04-14T00:12:39.632227Z"
    },
    "papermill": {
     "duration": 0.090451,
     "end_time": "2024-04-14T00:12:39.637035",
     "exception": false,
     "start_time": "2024-04-14T00:12:39.546584",
     "status": "completed"
    },
    "tags": []
   },
   "outputs": [],
   "source": [
    "from pyspark.sql.dataframe import DataFrame\n",
    "\n",
    "class DefaultProportionsModel(Model, HasInputCols, HasDefaultProportions, DefaultParamsReadable, DefaultParamsWritable):\n",
    "    '''\n",
    "        The `pyspark.ml.pipeline.Model` that replaces categorical values for their respective proportion of defaulted individuals.\n",
    "        \n",
    "        Parameters\n",
    "        ---------\n",
    "        `inputCols: List[str]\n",
    "            A list of the categorical features names.\n",
    "        `defaultProportions`: Dict[str, DataFrame]\n",
    "            A dictionary mapping the name of the categorical column to a DataFrame storing the proportions.\n",
    "            \n",
    "        Method\n",
    "        -------\n",
    "        `_transform`: Performs the replacements.\n",
    "    '''\n",
    "    @keyword_only\n",
    "    def __init__(self, inputCols:List[str]=None, defaultProportions:Dict[str,List[Dict[str, Union[str, float]]]]=None):\n",
    "        super(DefaultProportionsModel, self).__init__()\n",
    "        kwargs = self._input_kwargs\n",
    "        self.setParams(**kwargs)\n",
    "        \n",
    "    @keyword_only\n",
    "    def setParams(self, inputCols:List[str]=None, defaultProportions:Dict[str,List[Dict[str, Union[str, float]]]]=None):\n",
    "        kwargs = self._input_kwargs\n",
    "        return self._set(**kwargs)\n",
    "    \n",
    "    def _transform(self, dataset:DataFrame)->DataFrame:\n",
    "        '''\n",
    "            Method that exchanges the categorical values for their proportion of defaulted individuals of the training set.\n",
    "            \n",
    "            Parameter\n",
    "            ---------\n",
    "            `dataset`: `pyspark.sql.dataframe.DataFrame` \n",
    "                A `pyspark.sql.dataframe.DataFrame` with the project's data.\n",
    "                \n",
    "            Returns\n",
    "            -------\n",
    "            The DataFrame with the mentioned transformation.\n",
    "        '''\n",
    "        x = self.getInputCols()\n",
    "        defaultProportions = self.getDefaultProportions()\n",
    "        for c in x:\n",
    "            df = spark.createDataFrame(defaultProportions[c]) # Converting our list of dicts into a DataFrame.\n",
    "            dataset = dataset.join(df, on=c, how='left').drop(c)\n",
    "        return dataset"
   ]
  },
  {
   "cell_type": "code",
   "execution_count": 44,
   "id": "a8805a6a",
   "metadata": {
    "execution": {
     "iopub.execute_input": "2024-04-14T00:12:39.751482Z",
     "iopub.status.busy": "2024-04-14T00:12:39.750778Z",
     "iopub.status.idle": "2024-04-14T00:12:39.768986Z",
     "shell.execute_reply": "2024-04-14T00:12:39.767447Z"
    },
    "papermill": {
     "duration": 0.07958,
     "end_time": "2024-04-14T00:12:39.772383",
     "exception": false,
     "start_time": "2024-04-14T00:12:39.692803",
     "status": "completed"
    },
    "tags": []
   },
   "outputs": [],
   "source": [
    "from pyspark.sql.functions import col\n",
    "from pyspark.sql.types import DecimalType, FloatType\n",
    "\n",
    "class DefaultProportions(Estimator, HasInputCols, HasDefaultProportions, DefaultParamsReadable, DefaultParamsWritable):\n",
    "    '''\n",
    "        An Estimator encharged for measuring the categorical values proportions of defaulted individuals.\n",
    "    \n",
    "        Parameter\n",
    "        ---------\n",
    "        `inputCols`: List[str]\n",
    "            A list with the categorical columns names.\n",
    "            \n",
    "        Method\n",
    "        ------\n",
    "        `_fit`: Measures the proportions and stores them in a DataFrame.\n",
    "        \n",
    "        References\n",
    "        ----------\n",
    "        https://stackoverflow.com/questions/37270446/how-to-create-a-custom-estimator-in-pyspark\n",
    "    '''\n",
    "    @keyword_only\n",
    "    def __init__(self, inputCols:List[str]=None):\n",
    "        super(DefaultProportions, self).__init__()\n",
    "        kwargs = self._input_kwargs\n",
    "        self.setParams(**kwargs)\n",
    "    \n",
    "    @keyword_only\n",
    "    def setParams(self, inputCols:List[str]=None):\n",
    "        kwargs = self._input_kwargs\n",
    "        return self._set(**kwargs)\n",
    "        \n",
    "    def setInputCols(self, value:List[str]):\n",
    "        return self.setParams(inputCols=value)\n",
    "    \n",
    "    def setPredictionCol(self, value:str):\n",
    "        return self.setParams(predictionCol=value)\n",
    "    \n",
    "    @staticmethod\n",
    "    def __measure_proportions(dataset:DataFrame, input_cols:List[str], target:str)->Dict[str, DataFrame]:\n",
    "        '''\n",
    "            Responsible for quantifying the categories' proportions of indebted individuals. They will be stored in a `pyspark.sql.dataframe.DataFrame`\n",
    "            object. Each dataframe is kept in the `defaultedProportions` dictionary, which maps them to the categorical column's name.\n",
    "            \n",
    "            Paramters\n",
    "            ---------\n",
    "            `dataset`: DataFrame\n",
    "                A `pyspark.sql.dataframe.DataFrame` with the project's data.\n",
    "            `inputCols`: List[str]\n",
    "                A list with the categorical columns names.    \n",
    "            `target`: str\n",
    "                The `dataset`'s target name.\n",
    "            \n",
    "            Returns\n",
    "            -------\n",
    "            A dictionary mapping the categorical columns' names to the DataFrame that stores the classes proportions.\n",
    "        '''\n",
    "        defaultProportions = {}\n",
    "        len_df = dataset.count()\n",
    "        for c in input_cols:\n",
    "            col_prop = c+'_NPL_PROP'\n",
    "            df_gb = dataset.groupBy([c, target]).count()\n",
    "            df_props = (df_gb\n",
    "                        .where(f'{target}==1')\n",
    "                        .withColumn(col_prop, (col('count')/len_df)\n",
    "                        .cast(FloatType()))#DecimalType(8,7)))\n",
    "                        .select([c, col_prop])) # De onde vem esse `row`?\n",
    "            defaultProportions[c] = list(map(lambda row: row.asDict(), df_props.collect())) # DF to list so we can be able saving the class.\n",
    "            print(defaultProportions[c])\n",
    "        return defaultProportions\n",
    "            \n",
    "    def _fit(self, dataset:DataFrame, target:str='NPL')->DefaultProportionsModel:\n",
    "        '''\n",
    "            Measures the proportions of indebted individuals from each of the dataset's independent categories.\n",
    "            \n",
    "            Parameters\n",
    "            ---------\n",
    "            `dataset`: `pyspark.sql.dataframe.DataFrame`\n",
    "                A `pyspark.sql.dataframe.DataFrame` with the project's data.   \n",
    "            `target`: str\n",
    "                The `dataset`'s target name.\n",
    "                \n",
    "            Returns\n",
    "            -------\n",
    "            A fitted DefaultProportionsModel ready for transforming the dataset.\n",
    "        '''\n",
    "        x = self.getInputCols()\n",
    "        defaultProportions = self.__measure_proportions(dataset, x, target)\n",
    "        return DefaultProportionsModel(inputCols=x, defaultProportions=defaultProportions)"
   ]
  },
  {
   "cell_type": "code",
   "execution_count": 45,
   "id": "fe323f3f",
   "metadata": {
    "execution": {
     "iopub.execute_input": "2024-04-14T00:12:39.888078Z",
     "iopub.status.busy": "2024-04-14T00:12:39.887112Z",
     "iopub.status.idle": "2024-04-14T00:12:44.708969Z",
     "shell.execute_reply": "2024-04-14T00:12:44.707660Z"
    },
    "papermill": {
     "duration": 4.884548,
     "end_time": "2024-04-14T00:12:44.713280",
     "exception": false,
     "start_time": "2024-04-14T00:12:39.828732",
     "status": "completed"
    },
    "tags": []
   },
   "outputs": [
    {
     "name": "stdout",
     "output_type": "stream",
     "text": [
      "[{'CODE_GENDER': 'M', 'CODE_GENDER_NPL_PROP': 0.00935847032815218}, {'CODE_GENDER': 'F', 'CODE_GENDER_NPL_PROP': 0.013969889841973782}]\n",
      "[{'FLAG_OWN_CAR': 'Y', 'FLAG_OWN_CAR_NPL_PROP': 0.008002170361578465}, {'FLAG_OWN_CAR': 'N', 'FLAG_OWN_CAR_NPL_PROP': 0.015326189808547497}]\n",
      "[{'FLAG_OWN_REALTY': 'Y', 'FLAG_OWN_REALTY_NPL_PROP': 0.013698630034923553}, {'FLAG_OWN_REALTY': 'N', 'FLAG_OWN_REALTY_NPL_PROP': 0.009629730135202408}]\n",
      "[{'NAME_INCOME_TYPE': 'Commercial associate', 'NAME_INCOME_TYPE_NPL_PROP': 0.0061033498495817184}, {'NAME_INCOME_TYPE': 'Working', 'NAME_INCOME_TYPE_NPL_PROP': 0.010443510487675667}, {'NAME_INCOME_TYPE': 'Pensioner', 'NAME_INCOME_TYPE_NPL_PROP': 0.004882680252194405}, {'NAME_INCOME_TYPE': 'State servant', 'NAME_INCOME_TYPE_NPL_PROP': 0.0018988200463354588}]\n",
      "[{'NAME_EDUCATION_TYPE': 'Secondary / secondary special', 'NAME_EDUCATION_TYPE_NPL_PROP': 0.01478367019444704}, {'NAME_EDUCATION_TYPE': 'Lower secondary', 'NAME_EDUCATION_TYPE_NPL_PROP': 0.0006781499832868576}, {'NAME_EDUCATION_TYPE': 'Incomplete higher', 'NAME_EDUCATION_TYPE_NPL_PROP': 0.001491929986514151}, {'NAME_EDUCATION_TYPE': 'Higher education', 'NAME_EDUCATION_TYPE_NPL_PROP': 0.006374610122293234}]\n",
      "[{'NAME_FAMILY_STATUS': 'Separated', 'NAME_FAMILY_STATUS_NPL_PROP': 0.0017631900263950229}, {'NAME_FAMILY_STATUS': 'Civil marriage', 'NAME_FAMILY_STATUS_NPL_PROP': 0.0005425200215540826}, {'NAME_FAMILY_STATUS': 'Married', 'NAME_FAMILY_STATUS_NPL_PROP': 0.01600434072315693}, {'NAME_FAMILY_STATUS': 'Widow', 'NAME_FAMILY_STATUS_NPL_PROP': 0.001491929986514151}, {'NAME_FAMILY_STATUS': 'Single / not married', 'NAME_FAMILY_STATUS_NPL_PROP': 0.0035263800527900457}]\n",
      "[{'NAME_HOUSING_TYPE': 'Municipal apartment', 'NAME_HOUSING_TYPE_NPL_PROP': 0.0017631900263950229}, {'NAME_HOUSING_TYPE': 'Co-op apartment', 'NAME_HOUSING_TYPE_NPL_PROP': 0.0002712600107770413}, {'NAME_HOUSING_TYPE': 'With parents', 'NAME_HOUSING_TYPE_NPL_PROP': 0.00040689000161364675}, {'NAME_HOUSING_TYPE': 'House / apartment', 'NAME_HOUSING_TYPE_NPL_PROP': 0.020073240622878075}, {'NAME_HOUSING_TYPE': 'Rented apartment', 'NAME_HOUSING_TYPE_NPL_PROP': 0.0005425200215540826}, {'NAME_HOUSING_TYPE': 'Office apartment', 'NAME_HOUSING_TYPE_NPL_PROP': 0.0002712600107770413}]\n",
      "[{'FLAG_MOBIL': '1', 'FLAG_MOBIL_NPL_PROP': 0.02332836017012596}]\n",
      "[{'FLAG_WORK_PHONE': '1', 'FLAG_WORK_PHONE_NPL_PROP': 0.005967719946056604}, {'FLAG_WORK_PHONE': '0', 'FLAG_WORK_PHONE_NPL_PROP': 0.017360640689730644}]\n",
      "[{'FLAG_PHONE': '0', 'FLAG_PHONE_NPL_PROP': 0.015461820177733898}, {'FLAG_PHONE': '1', 'FLAG_PHONE_NPL_PROP': 0.007866539992392063}]\n",
      "[{'FLAG_EMAIL': '0', 'FLAG_EMAIL_NPL_PROP': 0.02142954058945179}, {'FLAG_EMAIL': '1', 'FLAG_EMAIL_NPL_PROP': 0.0018988200463354588}]\n"
     ]
    },
    {
     "name": "stderr",
     "output_type": "stream",
     "text": [
      "                                                                                \r"
     ]
    },
    {
     "name": "stdout",
     "output_type": "stream",
     "text": [
      "[{'OCCUPATION_TYPE': 'Undefined', 'OCCUPATION_TYPE_NPL_PROP': 0.003255120012909174}, {'OCCUPATION_TYPE': 'Core staff', 'OCCUPATION_TYPE_NPL_PROP': 0.003255120012909174}, {'OCCUPATION_TYPE': 'High skill tech staff', 'OCCUPATION_TYPE_NPL_PROP': 0.0009494100231677294}, {'OCCUPATION_TYPE': 'Managers', 'OCCUPATION_TYPE_NPL_PROP': 0.0018988200463354588}, {'OCCUPATION_TYPE': 'Cleaning staff', 'OCCUPATION_TYPE_NPL_PROP': 0.00040689000161364675}, {'OCCUPATION_TYPE': 'Sales staff', 'OCCUPATION_TYPE_NPL_PROP': 0.0017631900263950229}, {'OCCUPATION_TYPE': 'Laborers', 'OCCUPATION_TYPE_NPL_PROP': 0.00366200995631516}, {'OCCUPATION_TYPE': 'Unemployed', 'OCCUPATION_TYPE_NPL_PROP': 0.004204530268907547}, {'OCCUPATION_TYPE': 'Security staff', 'OCCUPATION_TYPE_NPL_PROP': 0.0005425200215540826}, {'OCCUPATION_TYPE': 'Secretaries', 'OCCUPATION_TYPE_NPL_PROP': 0.00013563000538852066}, {'OCCUPATION_TYPE': 'Medicine staff', 'OCCUPATION_TYPE_NPL_PROP': 0.0006781499832868576}, {'OCCUPATION_TYPE': 'Cooking staff', 'OCCUPATION_TYPE_NPL_PROP': 0.00040689000161364675}, {'OCCUPATION_TYPE': 'Accountants', 'OCCUPATION_TYPE_NPL_PROP': 0.0006781499832868576}, {'OCCUPATION_TYPE': 'Drivers', 'OCCUPATION_TYPE_NPL_PROP': 0.0010850400431081653}, {'OCCUPATION_TYPE': 'Waiters/barmen staff', 'OCCUPATION_TYPE_NPL_PROP': 0.00013563000538852066}, {'OCCUPATION_TYPE': 'IT staff', 'OCCUPATION_TYPE_NPL_PROP': 0.00013563000538852066}, {'OCCUPATION_TYPE': 'Low-skill Laborers', 'OCCUPATION_TYPE_NPL_PROP': 0.00013563000538852066}]\n"
     ]
    }
   ],
   "source": [
    "# Finally, we can insert both custom classes inside a pyspark pipeline!\n",
    "impute_occupation = ImputeOccupation(inputCol='OCCUPATION_TYPE')\n",
    "default_prop = DefaultProportions(inputCols=list_col_strings[1:])\n",
    "\n",
    "# Creating the pipe.\n",
    "pipe1 = Pipeline(stages=[impute_occupation, default_prop]).fit(train)\n",
    "train_num = pipe1.transform(train)"
   ]
  },
  {
   "cell_type": "code",
   "execution_count": 46,
   "id": "9fcc1117",
   "metadata": {
    "execution": {
     "iopub.execute_input": "2024-04-14T00:12:44.841375Z",
     "iopub.status.busy": "2024-04-14T00:12:44.840928Z",
     "iopub.status.idle": "2024-04-14T00:12:53.500626Z",
     "shell.execute_reply": "2024-04-14T00:12:53.499619Z"
    },
    "papermill": {
     "duration": 8.722751,
     "end_time": "2024-04-14T00:12:53.504323",
     "exception": false,
     "start_time": "2024-04-14T00:12:44.781572",
     "status": "completed"
    },
    "tags": []
   },
   "outputs": [
    {
     "name": "stderr",
     "output_type": "stream",
     "text": [
      "                                                                                \r"
     ]
    },
    {
     "name": "stdout",
     "output_type": "stream",
     "text": [
      "+------------+----------------+----------+-------------+---------------+---+--------------------+---------------------+------------------------+-------------------------+----------------------------+---------------------------+--------------------------+-------------------+------------------------+--------------------+-------------------+------------------------+\n",
      "|CNT_CHILDREN|AMT_INCOME_TOTAL|DAYS_BIRTH|DAYS_EMPLOYED|CNT_FAM_MEMBERS|NPL|CODE_GENDER_NPL_PROP|FLAG_OWN_CAR_NPL_PROP|FLAG_OWN_REALTY_NPL_PROP|NAME_INCOME_TYPE_NPL_PROP|NAME_EDUCATION_TYPE_NPL_PROP|NAME_FAMILY_STATUS_NPL_PROP|NAME_HOUSING_TYPE_NPL_PROP|FLAG_MOBIL_NPL_PROP|FLAG_WORK_PHONE_NPL_PROP| FLAG_PHONE_NPL_PROP|FLAG_EMAIL_NPL_PROP|OCCUPATION_TYPE_NPL_PROP|\n",
      "+------------+----------------+----------+-------------+---------------+---+--------------------+---------------------+------------------------+-------------------------+----------------------------+---------------------------+--------------------------+-------------------+------------------------+--------------------+-------------------+------------------------+\n",
      "|           0|        112500.0|     -9865|         -196|            2.0|  0|0.013969889841973782| 0.015326189808547497|    0.009629730135202408|     0.010443510487675667|         0.01478367019444704|        0.01600434072315693|      0.020073240622878075|0.02332836017012596|    0.005967719946056604|0.015461820177733898|0.02142954058945179|     0.00366200995631516|\n",
      "|           0|         67500.0|    -20075|        -7013|            2.0|  0|0.013969889841973782| 0.015326189808547497|    0.009629730135202408|     0.010443510487675667|         0.01478367019444704|        0.01600434072315693|      0.020073240622878075|0.02332836017012596|    0.005967719946056604|0.007866539992392063|0.02142954058945179|    0.001763190026395...|\n",
      "|           0|        364500.0|    -17204|        -1028|            2.0|  0|0.013969889841973782| 0.015326189808547497|    0.009629730135202408|     0.010443510487675667|         0.01478367019444704|       5.425200215540826E-4|      0.020073240622878075|0.02332836017012596|    0.017360640689730644|0.015461820177733898|0.02142954058945179|    0.001763190026395...|\n",
      "|           0|        135000.0|    -12490|        -1191|            2.0|  0|0.013969889841973782| 0.015326189808547497|    0.009629730135202408|     0.001898820046335...|        0.006374610122293234|        0.01600434072315693|      0.020073240622878075|0.02332836017012596|    0.005967719946056604|0.007866539992392063|0.02142954058945179|    0.003255120012909174|\n",
      "|           0|        157500.0|    -16888|        -2687|            2.0|  0|0.013969889841973782| 0.015326189808547497|    0.009629730135202408|     0.010443510487675667|        0.001491929986514151|        0.01600434072315693|      0.020073240622878075|0.02332836017012596|    0.017360640689730644|0.015461820177733898|0.02142954058945179|    0.003255120012909174|\n",
      "+------------+----------------+----------+-------------+---------------+---+--------------------+---------------------+------------------------+-------------------------+----------------------------+---------------------------+--------------------------+-------------------+------------------------+--------------------+-------------------+------------------------+\n",
      "only showing top 5 rows\n",
      "\n"
     ]
    }
   ],
   "source": [
    "# We can discard the ID_CLIENT column, since it has no predictive value.\n",
    "train_num = train_num.drop('ID_CLIENT')\n",
    "train_num.show(5)"
   ]
  },
  {
   "cell_type": "markdown",
   "id": "f6c6e25b",
   "metadata": {
    "papermill": {
     "duration": 0.057804,
     "end_time": "2024-04-14T00:12:53.624495",
     "exception": false,
     "start_time": "2024-04-14T00:12:53.566691",
     "status": "completed"
    },
    "tags": []
   },
   "source": [
    "<h3 style='font-size:30px;font-style:italic'> Imputing and Standardization</h3>\n",
    "<div> \n",
    "    <ul style='font-size:20px'> \n",
    "        <li>   \n",
    "            As a last step, we also need to guarantee that our instances will have no NULL values. Also, we must standardize our numbers, in line\n",
    "            with ML best practices.\n",
    "        </li>\n",
    "    </ul>\n",
    "</div>"
   ]
  },
  {
   "cell_type": "code",
   "execution_count": 47,
   "id": "06620675",
   "metadata": {
    "execution": {
     "iopub.execute_input": "2024-04-14T00:12:53.745334Z",
     "iopub.status.busy": "2024-04-14T00:12:53.744866Z",
     "iopub.status.idle": "2024-04-14T00:13:09.792320Z",
     "shell.execute_reply": "2024-04-14T00:13:09.791043Z"
    },
    "papermill": {
     "duration": 16.11343,
     "end_time": "2024-04-14T00:13:09.796422",
     "exception": false,
     "start_time": "2024-04-14T00:12:53.682992",
     "status": "completed"
    },
    "tags": []
   },
   "outputs": [
    {
     "name": "stderr",
     "output_type": "stream",
     "text": [
      "                                                                                \r"
     ]
    }
   ],
   "source": [
    "# With all our features properly in numerical format, we can add a second Pipeline that handles imputing and standardization.\n",
    "from pyspark.ml.feature import Imputer, StandardScaler, VectorAssembler\n",
    "\n",
    "list_features = [c for c in train_num.columns if c!='NPL']\n",
    "\n",
    "imputer = Imputer(inputCols=list_features, outputCols=list_features)\n",
    "\n",
    "vector_assembler = VectorAssembler(inputCols=list_features, outputCol='features', handleInvalid='skip')\n",
    "scaler = StandardScaler(inputCol='features', outputCol='scaled_features', withMean=True)\n",
    "pipe2 = Pipeline(stages=[imputer, vector_assembler, scaler]).fit(train_num)"
   ]
  },
  {
   "cell_type": "code",
   "execution_count": 48,
   "id": "79ccf9bf",
   "metadata": {
    "execution": {
     "iopub.execute_input": "2024-04-14T00:13:09.942974Z",
     "iopub.status.busy": "2024-04-14T00:13:09.942511Z",
     "iopub.status.idle": "2024-04-14T00:13:18.498993Z",
     "shell.execute_reply": "2024-04-14T00:13:18.497450Z"
    },
    "papermill": {
     "duration": 8.625887,
     "end_time": "2024-04-14T00:13:18.504058",
     "exception": false,
     "start_time": "2024-04-14T00:13:09.878171",
     "status": "completed"
    },
    "tags": []
   },
   "outputs": [
    {
     "name": "stderr",
     "output_type": "stream",
     "text": [
      "                                                                                \r"
     ]
    },
    {
     "name": "stdout",
     "output_type": "stream",
     "text": [
      "+--------------------+---+\n",
      "|     scaled_features|NPL|\n",
      "+--------------------+---+\n",
      "|[-0.5716041269164...|  0|\n",
      "|[-0.5716041269164...|  0|\n",
      "|[-0.5716041269164...|  0|\n",
      "|[0.79229141604638...|  0|\n",
      "|[2.15618695900926...|  0|\n",
      "+--------------------+---+\n",
      "only showing top 5 rows\n",
      "\n"
     ]
    }
   ],
   "source": [
    "# Finally, creating the project's official transformation Pipeline! \n",
    "# We can declare it as a PipelineModel, since its sub-pipelines have already been fitted!\n",
    "pipe = PipelineModel(stages=[pipe1, pipe2])\n",
    "train_num = pipe.transform(train).select(['scaled_features', 'NPL'])\n",
    "train_num.show(5)"
   ]
  },
  {
   "cell_type": "code",
   "execution_count": 49,
   "id": "7d08831c",
   "metadata": {
    "execution": {
     "iopub.execute_input": "2024-04-14T00:13:18.653638Z",
     "iopub.status.busy": "2024-04-14T00:13:18.651945Z",
     "iopub.status.idle": "2024-04-14T00:13:26.369950Z",
     "shell.execute_reply": "2024-04-14T00:13:26.367757Z"
    },
    "papermill": {
     "duration": 7.789234,
     "end_time": "2024-04-14T00:13:26.374439",
     "exception": false,
     "start_time": "2024-04-14T00:13:18.585205",
     "status": "completed"
    },
    "tags": []
   },
   "outputs": [
    {
     "name": "stderr",
     "output_type": "stream",
     "text": [
      "                                                                                \r"
     ]
    }
   ],
   "source": [
    "# It's a good idea to save our numerical training set.\n",
    "train_num.write.parquet('/kaggle/working/train_num.parquet', mode='overwrite')"
   ]
  },
  {
   "cell_type": "code",
   "execution_count": 50,
   "id": "da9f88e5",
   "metadata": {
    "execution": {
     "iopub.execute_input": "2024-04-14T00:13:26.517396Z",
     "iopub.status.busy": "2024-04-14T00:13:26.516928Z",
     "iopub.status.idle": "2024-04-14T00:13:26.523169Z",
     "shell.execute_reply": "2024-04-14T00:13:26.521620Z"
    },
    "papermill": {
     "duration": 0.077381,
     "end_time": "2024-04-14T00:13:26.526067",
     "exception": false,
     "start_time": "2024-04-14T00:13:26.448686",
     "status": "completed"
    },
    "tags": []
   },
   "outputs": [],
   "source": [
    "# Also, registering our test set.\n",
    "#test_num = pipe.transform(test).select(['scaled_features', 'NPL'])\n",
    "#test_num.write.parquet('/kaggle/working/test_num.parquet', mode='overwrite')"
   ]
  },
  {
   "cell_type": "code",
   "execution_count": 51,
   "id": "8fe97ebb",
   "metadata": {
    "execution": {
     "iopub.execute_input": "2024-04-14T00:13:26.660499Z",
     "iopub.status.busy": "2024-04-14T00:13:26.660044Z",
     "iopub.status.idle": "2024-04-14T00:13:28.961733Z",
     "shell.execute_reply": "2024-04-14T00:13:28.960520Z"
    },
    "papermill": {
     "duration": 2.372999,
     "end_time": "2024-04-14T00:13:28.964849",
     "exception": false,
     "start_time": "2024-04-14T00:13:26.591850",
     "status": "completed"
    },
    "tags": []
   },
   "outputs": [],
   "source": [
    "# Saving the model for future use.\n",
    "pipe.save('../working/pipe')"
   ]
  },
  {
   "cell_type": "markdown",
   "id": "58bdb4e9",
   "metadata": {
    "papermill": {
     "duration": 0.068364,
     "end_time": "2024-04-14T00:13:29.101803",
     "exception": false,
     "start_time": "2024-04-14T00:13:29.033439",
     "status": "completed"
    },
    "tags": []
   },
   "source": [
    "<h2 style='font-size:30px'> Modeling Phase </h2>\n",
    "<div> \n",
    "    <ul style='font-size:20px'> \n",
    "        <li> \n",
    "            Since we already have our features in numerical format, we can begin this section by briefly analyzing the distribution of the features \n",
    "            throughout the space. \n",
    "        </li>\n",
    "    </ul>\n",
    "</div>"
   ]
  },
  {
   "cell_type": "code",
   "execution_count": 52,
   "id": "bba07df3",
   "metadata": {
    "execution": {
     "iopub.execute_input": "2024-04-14T00:13:29.236205Z",
     "iopub.status.busy": "2024-04-14T00:13:29.235385Z",
     "iopub.status.idle": "2024-04-14T00:13:43.829352Z",
     "shell.execute_reply": "2024-04-14T00:13:43.827329Z"
    },
    "papermill": {
     "duration": 14.665293,
     "end_time": "2024-04-14T00:13:43.832414",
     "exception": false,
     "start_time": "2024-04-14T00:13:29.167121",
     "status": "completed"
    },
    "tags": []
   },
   "outputs": [
    {
     "name": "stdout",
     "output_type": "stream",
     "text": [
      "Requirement already satisfied: pyspark in /opt/conda/lib/python3.10/site-packages (3.5.1)\r\n",
      "Requirement already satisfied: py4j==0.10.9.7 in /opt/conda/lib/python3.10/site-packages (from pyspark) (0.10.9.7)\r\n",
      "Note: you may need to restart the kernel to use updated packages.\n"
     ]
    }
   ],
   "source": [
    "pip install pyspark"
   ]
  },
  {
   "cell_type": "code",
   "execution_count": 53,
   "id": "4be56768",
   "metadata": {
    "execution": {
     "iopub.execute_input": "2024-04-14T00:13:43.974066Z",
     "iopub.status.busy": "2024-04-14T00:13:43.973486Z",
     "iopub.status.idle": "2024-04-14T00:13:43.993416Z",
     "shell.execute_reply": "2024-04-14T00:13:43.991620Z"
    },
    "papermill": {
     "duration": 0.096231,
     "end_time": "2024-04-14T00:13:43.997403",
     "exception": false,
     "start_time": "2024-04-14T00:13:43.901172",
     "status": "completed"
    },
    "tags": []
   },
   "outputs": [
    {
     "data": {
      "text/html": [
       "<style>pre { white-space: pre !important; }</style>"
      ],
      "text/plain": [
       "<IPython.core.display.HTML object>"
      ]
     },
     "metadata": {},
     "output_type": "display_data"
    }
   ],
   "source": [
    "from pyspark import SparkContext\n",
    "from pyspark.sql import SparkSession\n",
    "from IPython.core.display import HTML\n",
    "\n",
    "# Creating the project's SparkSession.\n",
    "spark = SparkSession.builder.appName('NPL').getOrCreate()\n",
    "\n",
    "# Also, modifying the session's log level.\n",
    "log_level = spark.sparkContext.setLogLevel('ERROR')\n",
    "\n",
    "# This tiny config enables us to scroll along the DataFrame's columns.\n",
    "display(HTML(\"<style>pre { white-space: pre !important; }</style>\"))"
   ]
  },
  {
   "cell_type": "code",
   "execution_count": 54,
   "id": "8a8c513c",
   "metadata": {
    "execution": {
     "iopub.execute_input": "2024-04-14T00:13:44.138539Z",
     "iopub.status.busy": "2024-04-14T00:13:44.137481Z",
     "iopub.status.idle": "2024-04-14T00:13:44.406015Z",
     "shell.execute_reply": "2024-04-14T00:13:44.404798Z"
    },
    "papermill": {
     "duration": 0.342599,
     "end_time": "2024-04-14T00:13:44.409287",
     "exception": false,
     "start_time": "2024-04-14T00:13:44.066688",
     "status": "completed"
    },
    "tags": []
   },
   "outputs": [
    {
     "name": "stdout",
     "output_type": "stream",
     "text": [
      "+--------------------+---+\n",
      "|     scaled_features|NPL|\n",
      "+--------------------+---+\n",
      "|[-0.5716041269164...|  0|\n",
      "|[-0.5716041269164...|  0|\n",
      "|[-0.5716041269164...|  0|\n",
      "|[0.79229141604638...|  0|\n",
      "|[2.15618695900926...|  0|\n",
      "+--------------------+---+\n",
      "only showing top 5 rows\n",
      "\n"
     ]
    }
   ],
   "source": [
    "train_num = spark.read.parquet('/kaggle/input/npl-train/train-num.parquet')\n",
    "train_num.show(5)"
   ]
  },
  {
   "cell_type": "markdown",
   "id": "08d5ed11",
   "metadata": {
    "papermill": {
     "duration": 0.071634,
     "end_time": "2024-04-14T00:13:44.551690",
     "exception": false,
     "start_time": "2024-04-14T00:13:44.480056",
     "status": "completed"
    },
    "tags": []
   },
   "source": [
    "<h3 style='font-size:30px;font-style:italic'> Instances Distribution Analysis</h3>\n",
    "<div> \n",
    "    <ul style='font-size:20px'> \n",
    "        <li> \n",
    "            Before directly diving into model trainings, I consider prudent to firstly check how our instances are distributed throughout the \n",
    "            feature space.\n",
    "        </li>\n",
    "        <li>\n",
    "            To support us in such task, I've decided to resort to t-SNE which will enable us to reduce the dataset's dimensionality.\n",
    "        </li>\n",
    "    </ul>\n",
    "</div>"
   ]
  },
  {
   "cell_type": "code",
   "execution_count": 55,
   "id": "dc5dd54f",
   "metadata": {
    "execution": {
     "iopub.execute_input": "2024-04-14T00:13:44.696026Z",
     "iopub.status.busy": "2024-04-14T00:13:44.695538Z",
     "iopub.status.idle": "2024-04-14T00:14:28.489282Z",
     "shell.execute_reply": "2024-04-14T00:14:28.487774Z"
    },
    "papermill": {
     "duration": 43.92536,
     "end_time": "2024-04-14T00:14:28.548176",
     "exception": false,
     "start_time": "2024-04-14T00:13:44.622816",
     "status": "completed"
    },
    "tags": []
   },
   "outputs": [
    {
     "data": {
      "text/plain": [
       "array([[ 13.404507 , -16.28144  ],\n",
       "       [ -7.5589724, -74.266815 ],\n",
       "       [ 26.591373 ,  24.428307 ],\n",
       "       ...,\n",
       "       [-47.695724 ,  34.699482 ],\n",
       "       [-57.492462 ,  35.707924 ],\n",
       "       [-67.026    ,  25.59745  ]], dtype=float32)"
      ]
     },
     "execution_count": 55,
     "metadata": {},
     "output_type": "execute_result"
    }
   ],
   "source": [
    "# Since PySpark does not include a built-in implementation of t-SNE, I felt obliged to use numpy and sklearn\n",
    "# just for the sake of the analysis.\n",
    "import numpy as np\n",
    "from sklearn.manifold import TSNE\n",
    "\n",
    "# Applying t-SNE to our dataset.\n",
    "array = np.array(train_num.select('scaled_features').collect())[:,0,:]\n",
    "array = TSNE().fit_transform(array)\n",
    "array"
   ]
  },
  {
   "cell_type": "code",
   "execution_count": 56,
   "id": "0489db24",
   "metadata": {
    "execution": {
     "iopub.execute_input": "2024-04-14T00:14:28.680843Z",
     "iopub.status.busy": "2024-04-14T00:14:28.680086Z",
     "iopub.status.idle": "2024-04-14T00:14:29.942971Z",
     "shell.execute_reply": "2024-04-14T00:14:29.941831Z"
    },
    "papermill": {
     "duration": 1.333213,
     "end_time": "2024-04-14T00:14:29.946386",
     "exception": false,
     "start_time": "2024-04-14T00:14:28.613173",
     "status": "completed"
    },
    "tags": []
   },
   "outputs": [
    {
     "data": {
      "text/plain": [
       "<matplotlib.legend.Legend at 0x7b582b1c3220>"
      ]
     },
     "execution_count": 56,
     "metadata": {},
     "output_type": "execute_result"
    },
    {
     "data": {
      "image/png": "[encoded data removed]",
      "text/plain": [
       "<Figure size 800x600 with 1 Axes>"
      ]
     },
     "metadata": {},
     "output_type": "display_data"
    }
   ],
   "source": [
    "# Plotting the instances distribution.\n",
    "import matplotlib.pyplot as plt\n",
    "\n",
    "target = np.array(train_num.select('NPL').collect()).astype('int').flatten()\n",
    "fig = plt.figure(figsize=(8, 6))\n",
    "scatter = plt.scatter(array[:,0], array[:,1], c=target, s=30,\n",
    "           cmap='Accent')\n",
    "\n",
    "plt.title('Original Dataset Instances Distribution (t-SNE)')\n",
    "plt.legend(*scatter.legend_elements(), title='NPL')"
   ]
  },
  {
   "cell_type": "markdown",
   "id": "c4725035",
   "metadata": {
    "papermill": {
     "duration": 0.065876,
     "end_time": "2024-04-14T00:14:30.079447",
     "exception": false,
     "start_time": "2024-04-14T00:14:30.013571",
     "status": "completed"
    },
    "tags": []
   },
   "source": [
    "<div> \n",
    "    <ul style='font-size:20px'> \n",
    "        <li> \n",
    "            It must be disappointing to see such inconsistent distribution. We positively cannot expect nothing great from methods such as Linear SVM\n",
    "            or even tree-based algorithms with such dataset.\n",
    "        </li>\n",
    "        <li> \n",
    "            What we can do is to attempt to filter out a handful of features that may be generating such instability.\n",
    "        </li>\n",
    "    </ul>\n",
    "</div>"
   ]
  },
  {
   "cell_type": "markdown",
   "id": "ab4d8d28",
   "metadata": {
    "papermill": {
     "duration": 0.065693,
     "end_time": "2024-04-14T00:14:30.211343",
     "exception": false,
     "start_time": "2024-04-14T00:14:30.145650",
     "status": "completed"
    },
    "tags": []
   },
   "source": [
    "<p style='color:red'> Tentar fazer uma filtragem das features (correlação, wrapper...)</p>"
   ]
  }
 ],
 "metadata": {
  "kaggle": {
   "accelerator": "none",
   "dataSources": [
    {
     "datasetId": 426827,
     "sourceId": 1031720,
     "sourceType": "datasetVersion"
    },
    {
     "datasetId": 3941029,
     "sourceId": 6856406,
     "sourceType": "datasetVersion"
    },
    {
     "datasetId": 3950750,
     "sourceId": 8048943,
     "sourceType": "datasetVersion"
    },
    {
     "datasetId": 3950752,
     "sourceId": 8048950,
     "sourceType": "datasetVersion"
    }
   ],
   "dockerImageVersionId": 30558,
   "isGpuEnabled": false,
   "isInternetEnabled": true,
   "language": "python",
   "sourceType": "notebook"
  },
  "kernelspec": {
   "display_name": "Python 3",
   "language": "python",
   "name": "python3"
  },
  "language_info": {
   "codemirror_mode": {
    "name": "ipython",
    "version": 3
   },
   "file_extension": ".py",
   "mimetype": "text/x-python",
   "name": "python",
   "nbconvert_exporter": "python",
   "pygments_lexer": "ipython3",
   "version": "3.10.12"
  },
  "papermill": {
   "default_parameters": {},
   "duration": 479.163473,
   "end_time": "2024-04-14T00:14:32.901793",
   "environment_variables": {},
   "exception": null,
   "input_path": "__notebook__.ipynb",
   "output_path": "__notebook__.ipynb",
   "parameters": {},
   "start_time": "2024-04-14T00:06:33.738320",
   "version": "2.4.0"
  }
 },
 "nbformat": 4,
 "nbformat_minor": 5
}
