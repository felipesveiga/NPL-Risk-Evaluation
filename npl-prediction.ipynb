{
 "cells": [
  {
   "cell_type": "markdown",
   "id": "6df1bc6c",
   "metadata": {
    "papermill": {
     "duration": 0.002412,
     "end_time": "2023-08-07T15:46:44.215509",
     "exception": false,
     "start_time": "2023-08-07T15:46:44.213097",
     "status": "completed"
    },
    "tags": []
   },
   "source": [
    "<h1 style='font-size:40px'> NPL Risk Evaluation Modeling</h1>\n",
    "<div> \n",
    "    <ul style='font-size:20px'> \n",
    "        <li> \n",
    "            This project aims the conceiving of a Machine Learning Model focused on assisting a bank on its credit approval strategy.\n",
    "        </li>\n",
    "        <li> \n",
    "            During the planning meetings, the business team has made two major requests concerning the nature of the model.\n",
    "            <ul style='list-style-type:decimal'> \n",
    "                <li> \n",
    "                    It must be focused on predicting potential NPL's based on a set of clients' information.\n",
    "                </li>\n",
    "                <li> \n",
    "                    The output must be some kind of score suggesting the likelihood of the loan to become non-performing. They are not looking for an incisive \"yes or no\" answer.\n",
    "                </li>\n",
    "            </ul>\n",
    "        </li>\n",
    "    </ul>\n",
    "</div>"
   ]
  },
  {
   "cell_type": "markdown",
   "id": "9ca89c5b",
   "metadata": {
    "papermill": {
     "duration": 0.001595,
     "end_time": "2023-08-07T15:46:44.219402",
     "exception": false,
     "start_time": "2023-08-07T15:46:44.217807",
     "status": "completed"
    },
    "tags": []
   },
   "source": [
    "<h2 style='font-size:40px'> Data Importing</h2>"
   ]
  },
  {
   "cell_type": "markdown",
   "id": "48ce7e9e",
   "metadata": {
    "papermill": {
     "duration": 0.001521,
     "end_time": "2023-08-07T15:46:44.222764",
     "exception": false,
     "start_time": "2023-08-07T15:46:44.221243",
     "status": "completed"
    },
    "tags": []
   },
   "source": [
    "<p style='color:red'> Importação dos dados</p>"
   ]
  }
 ],
 "metadata": {
  "kernelspec": {
   "display_name": "Python 3",
   "language": "python",
   "name": "python3"
  },
  "language_info": {
   "codemirror_mode": {
    "name": "ipython",
    "version": 3
   },
   "file_extension": ".py",
   "mimetype": "text/x-python",
   "name": "python",
   "nbconvert_exporter": "python",
   "pygments_lexer": "ipython3",
   "version": "3.10.12"
  },
  "papermill": {
   "default_parameters": {},
   "duration": 12.654503,
   "end_time": "2023-08-07T15:46:45.049235",
   "environment_variables": {},
   "exception": null,
   "input_path": "__notebook__.ipynb",
   "output_path": "__notebook__.ipynb",
   "parameters": {},
   "start_time": "2023-08-07T15:46:32.394732",
   "version": "2.4.0"
  }
 },
 "nbformat": 4,
 "nbformat_minor": 5
}
