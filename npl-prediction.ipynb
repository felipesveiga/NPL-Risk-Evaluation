{
 "cells": [
  {
   "cell_type": "markdown",
   "id": "0210d772",
   "metadata": {
    "papermill": {
     "duration": 0.006906,
     "end_time": "2023-09-08T16:00:22.310851",
     "exception": false,
     "start_time": "2023-09-08T16:00:22.303945",
     "status": "completed"
    },
    "tags": []
   },
   "source": [
    "<h1 style='font-size:40px'> NPL Risk Evaluation Modeling</h1>\n",
    "<div> \n",
    "    <ul style='font-size:20px'> \n",
    "        <li> \n",
    "            This project aims the conceiving of a Machine Learning Model focused on assisting a bank on its credit approval strategy.\n",
    "        </li>\n",
    "        <li> \n",
    "            The corporation has been scolded for its recent NPL levels by its shareholders. Thus, the executive team has decided that a more conservative \n",
    "            credit strategy must be adopted for new contracts.\n",
    "        </li>\n",
    "        <li> \n",
    "            During the planning meetings, the business team has made two major requests concerning the nature of the model.\n",
    "            <ul style='list-style-type:decimal'> \n",
    "                <li> \n",
    "                    It must be focused on predicting whether a given client might produce an NPL in the future.\n",
    "                </li>\n",
    "                <li> \n",
    "                    The output must be some kind of score suggesting the likelihood of the event to happen. They are not looking for \n",
    "                    an incisive \"yes or no\" answer.\n",
    "                </li>\n",
    "            </ul>\n",
    "        </li>\n",
    "    </ul>\n",
    "</div>"
   ]
  },
  {
   "cell_type": "markdown",
   "id": "bf0ea3ef",
   "metadata": {
    "papermill": {
     "duration": 0.005969,
     "end_time": "2023-09-08T16:00:22.323830",
     "exception": false,
     "start_time": "2023-09-08T16:00:22.317861",
     "status": "completed"
    },
    "tags": []
   },
   "source": [
    "<h2 style='font-size:30px'> Data Importing</h2>\n",
    "<div> \n",
    "    <ul style='font-size:20px'> \n",
    "        <li> \n",
    "            The Data Engineers were able to provide two .csv views from the bank's database. The first one contains general information over the clients \n",
    "            and the second lists the loans they've contracted over some period of time.\n",
    "        </li>\n",
    "    </ul>\n",
    "</div>"
   ]
  },
  {
   "cell_type": "code",
   "execution_count": 1,
   "id": "a7ed2733",
   "metadata": {
    "execution": {
     "iopub.execute_input": "2023-09-08T16:00:22.340207Z",
     "iopub.status.busy": "2023-09-08T16:00:22.339475Z",
     "iopub.status.idle": "2023-09-08T16:01:15.264378Z",
     "shell.execute_reply": "2023-09-08T16:01:15.262907Z"
    },
    "papermill": {
     "duration": 52.936605,
     "end_time": "2023-09-08T16:01:15.267137",
     "exception": false,
     "start_time": "2023-09-08T16:00:22.330532",
     "status": "completed"
    },
    "tags": []
   },
   "outputs": [
    {
     "name": "stdout",
     "output_type": "stream",
     "text": [
      "Collecting pyspark\r\n",
      "  Downloading pyspark-3.4.1.tar.gz (310.8 MB)\r\n",
      "\u001b[2K     \u001b[90m━━━━━━━━━━━━━━━━━━━━━━━━━━━━━━━━━━━━━━━\u001b[0m \u001b[32m310.8/310.8 MB\u001b[0m \u001b[31m3.3 MB/s\u001b[0m eta \u001b[36m0:00:00\u001b[0m\r\n",
      "\u001b[?25h  Preparing metadata (setup.py) ... \u001b[?25l-\b \b\\\b \b|\b \bdone\r\n",
      "\u001b[?25hRequirement already satisfied: py4j==0.10.9.7 in /opt/conda/lib/python3.10/site-packages (from pyspark) (0.10.9.7)\r\n",
      "Building wheels for collected packages: pyspark\r\n",
      "  Building wheel for pyspark (setup.py) ... \u001b[?25l-\b \b\\\b \b|\b \b/\b \b-\b \b\\\b \b|\b \b/\b \b-\b \b\\\b \b|\b \b/\b \b-\b \b\\\b \bdone\r\n",
      "\u001b[?25h  Created wheel for pyspark: filename=pyspark-3.4.1-py2.py3-none-any.whl size=311285413 sha256=7c2f43f38a6597827cf492005090ac3e3c04d485c4c7f275730af5c89e0aa802\r\n",
      "  Stored in directory: /root/.cache/pip/wheels/0d/77/a3/ff2f74cc9ab41f8f594dabf0579c2a7c6de920d584206e0834\r\n",
      "Successfully built pyspark\r\n",
      "Installing collected packages: pyspark\r\n",
      "Successfully installed pyspark-3.4.1\r\n",
      "Note: you may need to restart the kernel to use updated packages.\n"
     ]
    }
   ],
   "source": [
    "pip install pyspark"
   ]
  },
  {
   "cell_type": "code",
   "execution_count": 2,
   "id": "ae8f2953",
   "metadata": {
    "execution": {
     "iopub.execute_input": "2023-09-08T16:01:15.307012Z",
     "iopub.status.busy": "2023-09-08T16:01:15.306624Z",
     "iopub.status.idle": "2023-09-08T16:01:21.390072Z",
     "shell.execute_reply": "2023-09-08T16:01:21.389009Z"
    },
    "papermill": {
     "duration": 6.106913,
     "end_time": "2023-09-08T16:01:21.392365",
     "exception": false,
     "start_time": "2023-09-08T16:01:15.285452",
     "status": "completed"
    },
    "tags": []
   },
   "outputs": [
    {
     "name": "stderr",
     "output_type": "stream",
     "text": [
      "Setting default log level to \"WARN\".\n",
      "To adjust logging level use sc.setLogLevel(newLevel). For SparkR, use setLogLevel(newLevel).\n",
      "23/09/08 16:01:19 WARN NativeCodeLoader: Unable to load native-hadoop library for your platform... using builtin-java classes where applicable\n"
     ]
    },
    {
     "data": {
      "text/html": [
       "<style>pre { white-space: pre !important; }</style>"
      ],
      "text/plain": [
       "<IPython.core.display.HTML object>"
      ]
     },
     "metadata": {},
     "output_type": "display_data"
    }
   ],
   "source": [
    "from pyspark import SparkContext\n",
    "from pyspark.sql import SparkSession\n",
    "from IPython.core.display import HTML\n",
    "\n",
    "# Creating the project's SparkSession.\n",
    "spark = SparkSession.builder.appName('NPL').getOrCreate()\n",
    "\n",
    "# Also, modifying the session's log level.\n",
    "log_level = spark.sparkContext.setLogLevel('ERROR')\n",
    "\n",
    "# This tiny config enables us to scroll along the DataFrame's columns.\n",
    "display(HTML(\"<style>pre { white-space: pre !important; }</style>\"))"
   ]
  },
  {
   "cell_type": "markdown",
   "id": "6c0883aa",
   "metadata": {
    "execution": {
     "iopub.execute_input": "2023-08-15T16:05:33.192895Z",
     "iopub.status.busy": "2023-08-15T16:05:33.192467Z",
     "iopub.status.idle": "2023-08-15T16:05:34.343874Z",
     "shell.execute_reply": "2023-08-15T16:05:34.342739Z",
     "shell.execute_reply.started": "2023-08-15T16:05:33.192858Z"
    },
    "papermill": {
     "duration": 0.018275,
     "end_time": "2023-09-08T16:01:21.429645",
     "exception": false,
     "start_time": "2023-09-08T16:01:21.411370",
     "status": "completed"
    },
    "tags": []
   },
   "source": [
    "<h3 style='font-size:30px;font-style:italic'> Clients Database</h3>\n",
    "<div> \n",
    "    <ul style='font-size:20px'> \n",
    "        <li> \n",
    "            This dataset is comprised of general personal and professional information about the loans' clients.\n",
    "        </li>    \n",
    "        <li> \n",
    "            A particularity worth noting is that date columns show the negative amount of days since the given event took place. Positive numbers \n",
    "            indicate the number of days since the occurence ceased to exist - as it might happen with unemployed borrowers in the DAYS_EMPLOYED feature.\n",
    "        </li>\n",
    "    </ul>\n",
    "</div>"
   ]
  },
  {
   "cell_type": "code",
   "execution_count": 3,
   "id": "be209f4a",
   "metadata": {
    "execution": {
     "iopub.execute_input": "2023-09-08T16:01:21.469435Z",
     "iopub.status.busy": "2023-09-08T16:01:21.468686Z",
     "iopub.status.idle": "2023-09-08T16:01:28.358071Z",
     "shell.execute_reply": "2023-09-08T16:01:28.356951Z"
    },
    "papermill": {
     "duration": 6.913786,
     "end_time": "2023-09-08T16:01:28.361906",
     "exception": false,
     "start_time": "2023-09-08T16:01:21.448120",
     "status": "completed"
    },
    "tags": []
   },
   "outputs": [
    {
     "name": "stdout",
     "output_type": "stream",
     "text": [
      "+-------+-----------+------------+---------------+------------+----------------+--------------------+--------------------+--------------------+-----------------+----------+-------------+----------+---------------+----------+----------+---------------+---------------+\n",
      "|     ID|CODE_GENDER|FLAG_OWN_CAR|FLAG_OWN_REALTY|CNT_CHILDREN|AMT_INCOME_TOTAL|    NAME_INCOME_TYPE| NAME_EDUCATION_TYPE|  NAME_FAMILY_STATUS|NAME_HOUSING_TYPE|DAYS_BIRTH|DAYS_EMPLOYED|FLAG_MOBIL|FLAG_WORK_PHONE|FLAG_PHONE|FLAG_EMAIL|OCCUPATION_TYPE|CNT_FAM_MEMBERS|\n",
      "+-------+-----------+------------+---------------+------------+----------------+--------------------+--------------------+--------------------+-----------------+----------+-------------+----------+---------------+----------+----------+---------------+---------------+\n",
      "|5008804|          M|           Y|              Y|           0|        427500.0|             Working|    Higher education|      Civil marriage| Rented apartment|    -12005|        -4542|         1|              1|         0|         0|           null|            2.0|\n",
      "|5008805|          M|           Y|              Y|           0|        427500.0|             Working|    Higher education|      Civil marriage| Rented apartment|    -12005|        -4542|         1|              1|         0|         0|           null|            2.0|\n",
      "|5008806|          M|           Y|              Y|           0|        112500.0|             Working|Secondary / secon...|             Married|House / apartment|    -21474|        -1134|         1|              0|         0|         0| Security staff|            2.0|\n",
      "|5008808|          F|           N|              Y|           0|        270000.0|Commercial associate|Secondary / secon...|Single / not married|House / apartment|    -19110|        -3051|         1|              0|         1|         1|    Sales staff|            1.0|\n",
      "|5008809|          F|           N|              Y|           0|        270000.0|Commercial associate|Secondary / secon...|Single / not married|House / apartment|    -19110|        -3051|         1|              0|         1|         1|    Sales staff|            1.0|\n",
      "+-------+-----------+------------+---------------+------------+----------------+--------------------+--------------------+--------------------+-----------------+----------+-------------+----------+---------------+----------+----------+---------------+---------------+\n",
      "only showing top 5 rows\n",
      "\n"
     ]
    },
    {
     "name": "stderr",
     "output_type": "stream",
     "text": [
      "                                                                                \r"
     ]
    }
   ],
   "source": [
    "path_clients = '/kaggle/input/credit-card-approval-prediction/application_record.csv'\n",
    "\n",
    "# Defining the data types from the clients dataset.\n",
    "schema_clients = '''\n",
    "`ID` STRING, `CODE_GENDER` STRING, `FLAG_OWN_CAR` STRING, `FLAG_OWN_REALTY` STRING, `CNT_CHILDREN` INT,\n",
    "`AMT_INCOME_TOTAL` FLOAT, `NAME_INCOME_TYPE` STRING, `NAME_EDUCATION_TYPE` STRING, `NAME_FAMILY_STATUS` STRING, `NAME_HOUSING_TYPE` STRING,\n",
    "`DAYS_BIRTH` INT, `DAYS_EMPLOYED` INT, `FLAG_MOBIL` STRING, `FLAG_WORK_PHONE` STRING, `FLAG_PHONE` STRING, `FLAG_EMAIL` STRING, \n",
    "`OCCUPATION_TYPE` STRING, `CNT_FAM_MEMBERS` DOUBLE\n",
    "'''\n",
    "\n",
    "# Reading the database with the created schema.\n",
    "df_clients = spark.read.csv(path_clients, header=True, schema=schema_clients)\n",
    "df_clients.show(5)"
   ]
  },
  {
   "cell_type": "markdown",
   "id": "552c68f4",
   "metadata": {
    "papermill": {
     "duration": 0.026529,
     "end_time": "2023-09-08T16:01:28.418517",
     "exception": false,
     "start_time": "2023-09-08T16:01:28.391988",
     "status": "completed"
    },
    "tags": []
   },
   "source": [
    "<h4 style='font-size:30px;font-style:italic;text-decoration:underline'> Duplicates Disclaimer</h4>\n",
    "<div> \n",
    "    <ul style='font-size:20px'> \n",
    "        <li> \n",
    "             Clients may not have unique rows in the dataset because the ID column identifies a loan contracted instead of a person.\n",
    "        </li>\n",
    "        <li> \n",
    "            Thus, I've found convenient for the project to create an ID column that assigns a code for the clients\n",
    "        </li>\n",
    "    </ul>\n",
    "</div>"
   ]
  },
  {
   "cell_type": "code",
   "execution_count": 4,
   "id": "cc914b75",
   "metadata": {
    "execution": {
     "iopub.execute_input": "2023-09-08T16:01:28.466875Z",
     "iopub.status.busy": "2023-09-08T16:01:28.466355Z",
     "iopub.status.idle": "2023-09-08T16:01:28.501029Z",
     "shell.execute_reply": "2023-09-08T16:01:28.500256Z"
    },
    "papermill": {
     "duration": 0.057962,
     "end_time": "2023-09-08T16:01:28.503200",
     "exception": false,
     "start_time": "2023-09-08T16:01:28.445238",
     "status": "completed"
    },
    "tags": []
   },
   "outputs": [
    {
     "data": {
      "text/plain": [
       "['CODE_GENDER',\n",
       " 'FLAG_OWN_CAR',\n",
       " 'FLAG_OWN_REALTY',\n",
       " 'CNT_CHILDREN',\n",
       " 'AMT_INCOME_TOTAL',\n",
       " 'NAME_INCOME_TYPE',\n",
       " 'NAME_EDUCATION_TYPE',\n",
       " 'NAME_FAMILY_STATUS',\n",
       " 'NAME_HOUSING_TYPE',\n",
       " 'DAYS_BIRTH',\n",
       " 'DAYS_EMPLOYED',\n",
       " 'FLAG_MOBIL',\n",
       " 'FLAG_WORK_PHONE',\n",
       " 'FLAG_PHONE',\n",
       " 'FLAG_EMAIL',\n",
       " 'OCCUPATION_TYPE',\n",
       " 'CNT_FAM_MEMBERS']"
      ]
     },
     "execution_count": 4,
     "metadata": {},
     "output_type": "execute_result"
    }
   ],
   "source": [
    "# Listing the `df_clients` features with the exception of ID.\n",
    "features_clients = df_clients.columns\n",
    "features_clients.remove('ID')\n",
    "features_clients"
   ]
  },
  {
   "cell_type": "code",
   "execution_count": 5,
   "id": "a0f0e2df",
   "metadata": {
    "execution": {
     "iopub.execute_input": "2023-09-08T16:01:28.544058Z",
     "iopub.status.busy": "2023-09-08T16:01:28.543671Z",
     "iopub.status.idle": "2023-09-08T16:01:34.442390Z",
     "shell.execute_reply": "2023-09-08T16:01:34.441385Z"
    },
    "papermill": {
     "duration": 5.927381,
     "end_time": "2023-09-08T16:01:34.450288",
     "exception": false,
     "start_time": "2023-09-08T16:01:28.522907",
     "status": "completed"
    },
    "tags": []
   },
   "outputs": [
    {
     "name": "stderr",
     "output_type": "stream",
     "text": [
      "                                                                                \r"
     ]
    },
    {
     "name": "stdout",
     "output_type": "stream",
     "text": [
      "`df_clients` length: 438557\n"
     ]
    },
    {
     "name": "stderr",
     "output_type": "stream",
     "text": [
      "[Stage 4:==============>                                            (1 + 3) / 4]\r"
     ]
    },
    {
     "name": "stdout",
     "output_type": "stream",
     "text": [
      "Number of clients: 90085\n"
     ]
    },
    {
     "name": "stderr",
     "output_type": "stream",
     "text": [
      "                                                                                \r"
     ]
    }
   ],
   "source": [
    "# Note that the database's actual amount of clients is lower than its number of rows. \n",
    "data_clients = df_clients.dropDuplicates(features_clients)\n",
    "print(f'`df_clients` length: {df_clients.count()}')\n",
    "print(f'Number of clients: {data_clients.count()}')"
   ]
  },
  {
   "cell_type": "code",
   "execution_count": 6,
   "id": "65f6f52d",
   "metadata": {
    "execution": {
     "iopub.execute_input": "2023-09-08T16:01:34.495857Z",
     "iopub.status.busy": "2023-09-08T16:01:34.495458Z",
     "iopub.status.idle": "2023-09-08T16:01:34.736725Z",
     "shell.execute_reply": "2023-09-08T16:01:34.735446Z"
    },
    "papermill": {
     "duration": 0.265699,
     "end_time": "2023-09-08T16:01:34.740304",
     "exception": false,
     "start_time": "2023-09-08T16:01:34.474605",
     "status": "completed"
    },
    "tags": []
   },
   "outputs": [],
   "source": [
    "# We'll assign a Client ID for every Loan ID present in `df_clients`. \n",
    "from pyspark.sql.functions import cast, row_number\n",
    "from pyspark.sql.types import StringType\n",
    "from pyspark.sql.window import Window\n",
    "\n",
    "window = Window.orderBy(features_clients)\n",
    "row_window = row_number().over(window)\n",
    "id_clients = data_clients.withColumn('ID_CLIENT', row_window.cast(StringType())).drop('ID')"
   ]
  },
  {
   "cell_type": "code",
   "execution_count": 7,
   "id": "563d9b05",
   "metadata": {
    "execution": {
     "iopub.execute_input": "2023-09-08T16:01:34.798923Z",
     "iopub.status.busy": "2023-09-08T16:01:34.798387Z",
     "iopub.status.idle": "2023-09-08T16:01:44.333802Z",
     "shell.execute_reply": "2023-09-08T16:01:44.332614Z"
    },
    "papermill": {
     "duration": 9.568932,
     "end_time": "2023-09-08T16:01:44.337438",
     "exception": false,
     "start_time": "2023-09-08T16:01:34.768506",
     "status": "completed"
    },
    "tags": []
   },
   "outputs": [
    {
     "name": "stderr",
     "output_type": "stream",
     "text": [
      "[Stage 21:>                                                         (0 + 1) / 1]\r"
     ]
    },
    {
     "name": "stdout",
     "output_type": "stream",
     "text": [
      "+-----------+------------+---------------+------------+----------------+----------------+--------------------+------------------+-----------------+----------+-------------+----------+---------------+----------+----------+---------------+---------------+-------+---------+\n",
      "|CODE_GENDER|FLAG_OWN_CAR|FLAG_OWN_REALTY|CNT_CHILDREN|AMT_INCOME_TOTAL|NAME_INCOME_TYPE| NAME_EDUCATION_TYPE|NAME_FAMILY_STATUS|NAME_HOUSING_TYPE|DAYS_BIRTH|DAYS_EMPLOYED|FLAG_MOBIL|FLAG_WORK_PHONE|FLAG_PHONE|FLAG_EMAIL|OCCUPATION_TYPE|CNT_FAM_MEMBERS|     ID|ID_CLIENT|\n",
      "+-----------+------------+---------------+------------+----------------+----------------+--------------------+------------------+-----------------+----------+-------------+----------+---------------+----------+----------+---------------+---------------+-------+---------+\n",
      "|          F|           N|              N|           0|         36000.0|         Working|Secondary / secon...|           Married|House / apartment|    -13673|        -3687|         1|              0|         0|         0|     Core staff|            2.0|5609571|       42|\n",
      "|          F|           N|              N|           0|         36000.0|         Working|Secondary / secon...|           Married|House / apartment|    -13673|        -3687|         1|              0|         0|         0|     Core staff|            2.0|5609572|       42|\n",
      "|          F|           N|              N|           0|         36000.0|         Working|Secondary / secon...|           Married|House / apartment|    -13673|        -3687|         1|              0|         0|         0|     Core staff|            2.0|5609573|       42|\n",
      "|          F|           N|              N|           0|         36000.0|         Working|Secondary / secon...|           Married|     With parents|    -14500|         -459|         1|              1|         0|         0|     Core staff|            2.0|5090400|       45|\n",
      "|          F|           N|              N|           0|         36000.0|         Working|Secondary / secon...|           Married|     With parents|    -14500|         -459|         1|              1|         0|         0|     Core staff|            2.0|5787892|       45|\n",
      "+-----------+------------+---------------+------------+----------------+----------------+--------------------+------------------+-----------------+----------+-------------+----------+---------------+----------+----------+---------------+---------------+-------+---------+\n",
      "only showing top 5 rows\n",
      "\n"
     ]
    },
    {
     "name": "stderr",
     "output_type": "stream",
     "text": [
      "                                                                                \r"
     ]
    }
   ],
   "source": [
    "# Now, we only need to enrich `df_clients` with the clients' actual identification.\n",
    "\n",
    "# Performing an INNER JOIN between `df_clients` and `id_clients` using all non-ID columns as keys.\n",
    "df_clients = df_clients.join(id_clients, on=features_clients)\n",
    "df_clients.show(5)"
   ]
  },
  {
   "cell_type": "markdown",
   "id": "3057d9fd",
   "metadata": {
    "execution": {
     "iopub.execute_input": "2023-08-15T16:05:33.192895Z",
     "iopub.status.busy": "2023-08-15T16:05:33.192467Z",
     "iopub.status.idle": "2023-08-15T16:05:34.343874Z",
     "shell.execute_reply": "2023-08-15T16:05:34.342739Z",
     "shell.execute_reply.started": "2023-08-15T16:05:33.192858Z"
    },
    "papermill": {
     "duration": 0.030141,
     "end_time": "2023-09-08T16:01:44.397684",
     "exception": false,
     "start_time": "2023-09-08T16:01:44.367543",
     "status": "completed"
    },
    "tags": []
   },
   "source": [
    "<h3 style='font-size:30px;font-style:italic'> Loans Database</h3>\n",
    "<div> \n",
    "    <ul style='font-size:20px'> \n",
    "        <li> \n",
    "            This table contains the payments records for every loan since its contraction. \n",
    "        </li>\n",
    "        <li> \n",
    "            But in order to the dataset to be adequate to our project's intent, two transformations are necessary: first, we need to bring the `ID_CLIENT`\n",
    "            column to it and after that, group the database so that it denounces individuals who've produced an NPL at least once.            \n",
    "        </li>\n",
    "    </ul>\n",
    "</div>"
   ]
  },
  {
   "cell_type": "code",
   "execution_count": 8,
   "id": "9bd28ddd",
   "metadata": {
    "execution": {
     "iopub.execute_input": "2023-09-08T16:01:44.461793Z",
     "iopub.status.busy": "2023-09-08T16:01:44.460596Z",
     "iopub.status.idle": "2023-09-08T16:01:44.664129Z",
     "shell.execute_reply": "2023-09-08T16:01:44.663020Z"
    },
    "papermill": {
     "duration": 0.238789,
     "end_time": "2023-09-08T16:01:44.667766",
     "exception": false,
     "start_time": "2023-09-08T16:01:44.428977",
     "status": "completed"
    },
    "tags": []
   },
   "outputs": [
    {
     "name": "stdout",
     "output_type": "stream",
     "text": [
      "+-------+--------------+------+\n",
      "|     ID|MONTHS_BALANCE|STATUS|\n",
      "+-------+--------------+------+\n",
      "|5001711|             0|     X|\n",
      "|5001711|            -1|     0|\n",
      "|5001711|            -2|     0|\n",
      "|5001711|            -3|     0|\n",
      "|5001712|             0|     C|\n",
      "+-------+--------------+------+\n",
      "only showing top 5 rows\n",
      "\n"
     ]
    }
   ],
   "source": [
    "# Bringing the dataset into our notebook.\n",
    "path_loans = '/kaggle/input/credit-card-approval-prediction/credit_record.csv'\n",
    "schema_loans = '`ID` STRING, `MONTHS_BALANCE` INT, `STATUS` STRING'\n",
    "df_loans = spark.read.csv(path_loans, header=True, schema=schema_loans)\n",
    "df_loans.show(5)"
   ]
  },
  {
   "cell_type": "code",
   "execution_count": 9,
   "id": "7c9ac49a",
   "metadata": {
    "execution": {
     "iopub.execute_input": "2023-09-08T16:01:44.731710Z",
     "iopub.status.busy": "2023-09-08T16:01:44.731132Z",
     "iopub.status.idle": "2023-09-08T16:01:54.700541Z",
     "shell.execute_reply": "2023-09-08T16:01:54.699308Z"
    },
    "papermill": {
     "duration": 10.005159,
     "end_time": "2023-09-08T16:01:54.704279",
     "exception": false,
     "start_time": "2023-09-08T16:01:44.699120",
     "status": "completed"
    },
    "tags": []
   },
   "outputs": [
    {
     "name": "stderr",
     "output_type": "stream",
     "text": [
      "[Stage 35:==============>                                           (1 + 3) / 4]\r"
     ]
    },
    {
     "name": "stdout",
     "output_type": "stream",
     "text": [
      "+---------+-------+--------------+------+\n",
      "|ID_CLIENT|     ID|MONTHS_BALANCE|STATUS|\n",
      "+---------+-------+--------------+------+\n",
      "|    34270|5008810|             0|     C|\n",
      "|    34270|5008810|            -1|     C|\n",
      "|    34270|5008810|            -2|     C|\n",
      "|    34270|5008810|            -3|     C|\n",
      "|    34270|5008810|            -4|     C|\n",
      "+---------+-------+--------------+------+\n",
      "only showing top 5 rows\n",
      "\n"
     ]
    },
    {
     "name": "stderr",
     "output_type": "stream",
     "text": [
      "                                                                                \r"
     ]
    }
   ],
   "source": [
    "# Now, providing the loans' client ID.\n",
    "df_loans = df_loans.join(df_clients, ['ID']).select(['ID_CLIENT', 'ID', 'MONTHS_BALANCE', 'STATUS'])\n",
    "df_loans.show(5)"
   ]
  },
  {
   "cell_type": "markdown",
   "id": "9f4e18e0",
   "metadata": {
    "papermill": {
     "duration": 0.031172,
     "end_time": "2023-09-08T16:01:54.767879",
     "exception": false,
     "start_time": "2023-09-08T16:01:54.736707",
     "status": "completed"
    },
    "tags": []
   },
   "source": [
    "<h4 style='font-size:30px;font-style:italic;text-decoration:underline'> Conceiving the Target Variable</h4>\n",
    "<div> \n",
    "    <ul style='font-size:20px'> \n",
    "        <li> \n",
    "            The `STATUS` column presents a handful of codes that represent distinct status for a loan's payment. Their definition is as follows:\n",
    "            <table style='font-size:15px;margin-top:20px'> \n",
    "                <tr>\n",
    "                    <th> Code</th>\n",
    "                    <th> Definition</th>\n",
    "                </tr>\n",
    "                <tr> \n",
    "                    <td> C</td>\n",
    "                    <td> Paid off that month</td>\n",
    "                </tr>\n",
    "                <tr> \n",
    "                    <td> 0</td>\n",
    "                    <td> 1-29 days past due</td>\n",
    "                </tr>\n",
    "                <tr> \n",
    "                    <td> 1</td>\n",
    "                    <td> 30-59 days past due </td>\n",
    "                </tr>\n",
    "                <tr> \n",
    "                    <td> 2</td>\n",
    "                    <td> 60-89 days past due </td>\n",
    "                </tr>\n",
    "                <tr> \n",
    "                    <td> 3</td>\n",
    "                    <td> 90-119 days past due </td>\n",
    "                </tr>\n",
    "                <tr> \n",
    "                    <td> 4</td>\n",
    "                    <td> 120-149 days past due </td>\n",
    "                </tr>\n",
    "                <tr> \n",
    "                    <td> 5</td>\n",
    "                    <td> Overdue or bad debts,<p> write-offs for more than 150 days</p> </td>\n",
    "                </tr>\n",
    "                <tr> \n",
    "                    <td> X</td>\n",
    "                    <td> No loan for the month</td>\n",
    "                </tr>\n",
    "            </table>\n",
    "        </li>\n",
    "    </ul>\n",
    "</div>"
   ]
  },
  {
   "cell_type": "code",
   "execution_count": 10,
   "id": "fec71364",
   "metadata": {
    "execution": {
     "iopub.execute_input": "2023-09-08T16:01:54.821855Z",
     "iopub.status.busy": "2023-09-08T16:01:54.821477Z",
     "iopub.status.idle": "2023-09-08T16:01:54.874668Z",
     "shell.execute_reply": "2023-09-08T16:01:54.873828Z"
    },
    "papermill": {
     "duration": 0.079718,
     "end_time": "2023-09-08T16:01:54.877696",
     "exception": false,
     "start_time": "2023-09-08T16:01:54.797978",
     "status": "completed"
    },
    "tags": []
   },
   "outputs": [
    {
     "data": {
      "text/plain": [
       "DataFrame[ID_CLIENT: string, ID: string, MONTHS_BALANCE: int, STATUS: string, NPL: int]"
      ]
     },
     "execution_count": 10,
     "metadata": {},
     "output_type": "execute_result"
    }
   ],
   "source": [
    "from pyspark.sql.functions import when\n",
    "df_loans.withColumn('NPL', when(df_loans.STATUS ==3, 1).otherwise(0))"
   ]
  },
  {
   "cell_type": "code",
   "execution_count": 11,
   "id": "f3a8416d",
   "metadata": {
    "execution": {
     "iopub.execute_input": "2023-09-08T16:01:54.929197Z",
     "iopub.status.busy": "2023-09-08T16:01:54.928823Z",
     "iopub.status.idle": "2023-09-08T16:02:02.417852Z",
     "shell.execute_reply": "2023-09-08T16:02:02.416543Z"
    },
    "papermill": {
     "duration": 7.516017,
     "end_time": "2023-09-08T16:02:02.421679",
     "exception": false,
     "start_time": "2023-09-08T16:01:54.905662",
     "status": "completed"
    },
    "tags": []
   },
   "outputs": [
    {
     "name": "stderr",
     "output_type": "stream",
     "text": [
      "[Stage 51:>                                                         (0 + 4) / 4]\r"
     ]
    },
    {
     "name": "stdout",
     "output_type": "stream",
     "text": [
      "+-------+\n",
      "|     ID|\n",
      "+-------+\n",
      "|5078867|\n",
      "|5148962|\n",
      "|5112594|\n",
      "|5021831|\n",
      "|5118476|\n",
      "|5105322|\n",
      "|5024053|\n",
      "|5116149|\n",
      "|5113295|\n",
      "|5056011|\n",
      "|5113366|\n",
      "|5100417|\n",
      "|5045994|\n",
      "|5116353|\n",
      "|5023549|\n",
      "|5008944|\n",
      "|5025203|\n",
      "|5028932|\n",
      "|5028940|\n",
      "|5116431|\n",
      "+-------+\n",
      "only showing top 20 rows\n",
      "\n"
     ]
    },
    {
     "name": "stderr",
     "output_type": "stream",
     "text": [
      "                                                                                \r"
     ]
    }
   ],
   "source": [
    "df_loans.select('ID').where(df_loans.STATUS=='X').distinct().show(20)"
   ]
  },
  {
   "cell_type": "markdown",
   "id": "30c6c94f",
   "metadata": {
    "papermill": {
     "duration": 0.022705,
     "end_time": "2023-09-08T16:02:02.469402",
     "exception": false,
     "start_time": "2023-09-08T16:02:02.446697",
     "status": "completed"
    },
    "tags": []
   },
   "source": [
    "<p style='color:red'> Fazer CASE para Target</p>"
   ]
  }
 ],
 "metadata": {
  "kernelspec": {
   "display_name": "Python 3",
   "language": "python",
   "name": "python3"
  },
  "language_info": {
   "codemirror_mode": {
    "name": "ipython",
    "version": 3
   },
   "file_extension": ".py",
   "mimetype": "text/x-python",
   "name": "python",
   "nbconvert_exporter": "python",
   "pygments_lexer": "ipython3",
   "version": "3.10.12"
  },
  "papermill": {
   "default_parameters": {},
   "duration": 116.243724,
   "end_time": "2023-09-08T16:02:05.112705",
   "environment_variables": {},
   "exception": null,
   "input_path": "__notebook__.ipynb",
   "output_path": "__notebook__.ipynb",
   "parameters": {},
   "start_time": "2023-09-08T16:00:08.868981",
   "version": "2.4.0"
  }
 },
 "nbformat": 4,
 "nbformat_minor": 5
}
