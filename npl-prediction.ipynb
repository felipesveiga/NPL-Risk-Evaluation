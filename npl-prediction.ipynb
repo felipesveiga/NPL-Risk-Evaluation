{
 "cells": [
  {
   "cell_type": "markdown",
   "id": "256a6433",
   "metadata": {
    "papermill": {
     "duration": 0.003698,
     "end_time": "2023-08-09T15:45:59.872946",
     "exception": false,
     "start_time": "2023-08-09T15:45:59.869248",
     "status": "completed"
    },
    "tags": []
   },
   "source": [
    "<h1 style='font-size:40px'> NPL Risk Evaluation Modeling</h1>\n",
    "<div> \n",
    "    <ul style='font-size:20px'> \n",
    "        <li> \n",
    "            This project aims the conceiving of a Machine Learning Model focused on assisting a bank on its credit approval strategy.\n",
    "        </li>\n",
    "        <li> \n",
    "            During the planning meetings, the business team has made two major requests concerning the nature of the model.\n",
    "            <ul style='list-style-type:decimal'> \n",
    "                <li> \n",
    "                    It must be focused on predicting potential NPL's based on a set of clients' information.\n",
    "                </li>\n",
    "                <li> \n",
    "                    The output must be some kind of score suggesting the likelihood of the loan to become non-performing. They are not looking for an incisive \"yes or no\" answer.\n",
    "                </li>\n",
    "            </ul>\n",
    "        </li>\n",
    "    </ul>\n",
    "</div>"
   ]
  },
  {
   "cell_type": "markdown",
   "id": "ee895a0b",
   "metadata": {
    "papermill": {
     "duration": 0.002656,
     "end_time": "2023-08-09T15:45:59.879023",
     "exception": false,
     "start_time": "2023-08-09T15:45:59.876367",
     "status": "completed"
    },
    "tags": []
   },
   "source": [
    "<h2 style='font-size:40px'> Data Importing</h2>"
   ]
  },
  {
   "cell_type": "code",
   "execution_count": 1,
   "id": "19fe1294",
   "metadata": {
    "execution": {
     "iopub.execute_input": "2023-08-09T15:45:59.886967Z",
     "iopub.status.busy": "2023-08-09T15:45:59.886517Z",
     "iopub.status.idle": "2023-08-09T15:46:56.609273Z",
     "shell.execute_reply": "2023-08-09T15:46:56.607396Z"
    },
    "papermill": {
     "duration": 56.730416,
     "end_time": "2023-08-09T15:46:56.612315",
     "exception": false,
     "start_time": "2023-08-09T15:45:59.881899",
     "status": "completed"
    },
    "tags": []
   },
   "outputs": [
    {
     "name": "stdout",
     "output_type": "stream",
     "text": [
      "Collecting pyspark\r\n",
      "  Downloading pyspark-3.4.1.tar.gz (310.8 MB)\r\n",
      "\u001b[2K     \u001b[90m━━━━━━━━━━━━━━━━━━━━━━━━━━━━━━━━━━━━━━━\u001b[0m \u001b[32m310.8/310.8 MB\u001b[0m \u001b[31m2.9 MB/s\u001b[0m eta \u001b[36m0:00:00\u001b[0m\r\n",
      "\u001b[?25h  Preparing metadata (setup.py) ... \u001b[?25l-\b \b\\\b \b|\b \bdone\r\n",
      "\u001b[?25hRequirement already satisfied: py4j==0.10.9.7 in /opt/conda/lib/python3.10/site-packages (from pyspark) (0.10.9.7)\r\n",
      "Building wheels for collected packages: pyspark\r\n",
      "  Building wheel for pyspark (setup.py) ... \u001b[?25l-\b \b\\\b \b|\b \b/\b \b-\b \b\\\b \b|\b \b/\b \b-\b \b\\\b \b|\b \b/\b \b-\b \b\\\b \b|\b \bdone\r\n",
      "\u001b[?25h  Created wheel for pyspark: filename=pyspark-3.4.1-py2.py3-none-any.whl size=311285413 sha256=4bb1af366e8155343137cffd6fbb764e7755fefd5aaf264899af172f1be9a852\r\n",
      "  Stored in directory: /root/.cache/pip/wheels/0d/77/a3/ff2f74cc9ab41f8f594dabf0579c2a7c6de920d584206e0834\r\n",
      "Successfully built pyspark\r\n",
      "Installing collected packages: pyspark\r\n",
      "Successfully installed pyspark-3.4.1\r\n",
      "Note: you may need to restart the kernel to use updated packages.\n"
     ]
    }
   ],
   "source": [
    "pip install pyspark"
   ]
  },
  {
   "cell_type": "code",
   "execution_count": 2,
   "id": "40b12bae",
   "metadata": {
    "execution": {
     "iopub.execute_input": "2023-08-09T15:46:56.648368Z",
     "iopub.status.busy": "2023-08-09T15:46:56.647827Z",
     "iopub.status.idle": "2023-08-09T15:47:04.051787Z",
     "shell.execute_reply": "2023-08-09T15:47:04.050391Z"
    },
    "papermill": {
     "duration": 7.42653,
     "end_time": "2023-08-09T15:47:04.055637",
     "exception": false,
     "start_time": "2023-08-09T15:46:56.629107",
     "status": "completed"
    },
    "tags": []
   },
   "outputs": [
    {
     "name": "stderr",
     "output_type": "stream",
     "text": [
      "Setting default log level to \"WARN\".\n",
      "To adjust logging level use sc.setLogLevel(newLevel). For SparkR, use setLogLevel(newLevel).\n",
      "23/08/09 15:47:01 WARN NativeCodeLoader: Unable to load native-hadoop library for your platform... using builtin-java classes where applicable\n"
     ]
    },
    {
     "data": {
      "text/html": [
       "<style>pre { white-space: pre !important; }</style>"
      ],
      "text/plain": [
       "<IPython.core.display.HTML object>"
      ]
     },
     "metadata": {},
     "output_type": "display_data"
    }
   ],
   "source": [
    "from pyspark.sql import SparkSession\n",
    "from IPython.core.display import HTML\n",
    "\n",
    "# Creating the project's SparkSession.\n",
    "spark = SparkSession.builder.appName('NPL').getOrCreate()\n",
    "\n",
    "# This tiny config enables us to scroll along the DataFrame's columns.\n",
    "display(HTML(\"<style>pre { white-space: pre !important; }</style>\"))"
   ]
  },
  {
   "cell_type": "code",
   "execution_count": 3,
   "id": "fc9aeaa0",
   "metadata": {
    "execution": {
     "iopub.execute_input": "2023-08-09T15:47:04.101033Z",
     "iopub.status.busy": "2023-08-09T15:47:04.100135Z",
     "iopub.status.idle": "2023-08-09T15:47:12.394067Z",
     "shell.execute_reply": "2023-08-09T15:47:12.393158Z"
    },
    "papermill": {
     "duration": 8.316362,
     "end_time": "2023-08-09T15:47:12.396800",
     "exception": false,
     "start_time": "2023-08-09T15:47:04.080438",
     "status": "completed"
    },
    "tags": []
   },
   "outputs": [
    {
     "data": {
      "text/plain": [
       "DataFrame[ID: string, CODE_GENDER: string, FLAG_OWN_CAR: string, FLAG_OWN_REALTY: string, CNT_CHILDREN: string, AMT_INCOME_TOTAL: string, NAME_INCOME_TYPE: string, NAME_EDUCATION_TYPE: string, NAME_FAMILY_STATUS: string, NAME_HOUSING_TYPE: string, DAYS_BIRTH: string, DAYS_EMPLOYED: string, FLAG_MOBIL: string, FLAG_WORK_PHONE: string, FLAG_PHONE: string, FLAG_EMAIL: string, OCCUPATION_TYPE: string, CNT_FAM_MEMBERS: string]"
      ]
     },
     "execution_count": 3,
     "metadata": {},
     "output_type": "execute_result"
    }
   ],
   "source": [
    "spark.read.csv('/kaggle/input/credit-card-approval-prediction/application_record.csv', header=True)"
   ]
  },
  {
   "cell_type": "markdown",
   "id": "e10e0622",
   "metadata": {
    "papermill": {
     "duration": 0.016425,
     "end_time": "2023-08-09T15:47:12.432077",
     "exception": false,
     "start_time": "2023-08-09T15:47:12.415652",
     "status": "completed"
    },
    "tags": []
   },
   "source": [
    "<p style='color:red'> Esclarecimento sobre colunas de tempo; schemas</p>"
   ]
  }
 ],
 "metadata": {
  "kernelspec": {
   "display_name": "Python 3",
   "language": "python",
   "name": "python3"
  },
  "language_info": {
   "codemirror_mode": {
    "name": "ipython",
    "version": 3
   },
   "file_extension": ".py",
   "mimetype": "text/x-python",
   "name": "python",
   "nbconvert_exporter": "python",
   "pygments_lexer": "ipython3",
   "version": "3.10.12"
  },
  "papermill": {
   "default_parameters": {},
   "duration": 88.847084,
   "end_time": "2023-08-09T15:47:15.070981",
   "environment_variables": {},
   "exception": null,
   "input_path": "__notebook__.ipynb",
   "output_path": "__notebook__.ipynb",
   "parameters": {},
   "start_time": "2023-08-09T15:45:46.223897",
   "version": "2.4.0"
  }
 },
 "nbformat": 4,
 "nbformat_minor": 5
}
