{
 "cells": [
  {
   "cell_type": "markdown",
   "id": "8ef2b9b5",
   "metadata": {
    "papermill": {
     "duration": 0.010192,
     "end_time": "2023-10-28T11:54:11.314883",
     "exception": false,
     "start_time": "2023-10-28T11:54:11.304691",
     "status": "completed"
    },
    "tags": []
   },
   "source": [
    "<h1 style='font-size:40px'> NPL Risk Evaluation Modeling</h1>\n",
    "<div style='font-size:20px'> \n",
    "    <ul> \n",
    "        <li> \n",
    "            This project aims the conceiving of a Machine Learning Model focused on assisting a bank on its credit approval strategy.\n",
    "        </li>\n",
    "        <li> \n",
    "            The corporation has been scolded for its recent NPL levels by its shareholders. Thus, the executive team has decided that a more conservative \n",
    "            credit strategy must be adopted for new contracts.\n",
    "        </li>\n",
    "        <li> \n",
    "            During the planning meetings, the business team has made two major requests concerning the nature of the model.\n",
    "            <ul style='list-style-type:decimal'> \n",
    "                <li> \n",
    "                    It must be focused on predicting whether a given client might produce an NPL in the future.\n",
    "                </li>\n",
    "                <li> \n",
    "                    The output must be some kind of score suggesting the likelihood of the event to happen. They are not looking for \n",
    "                    an incisive \"yes or no\" answer.\n",
    "                </li>\n",
    "            </ul>\n",
    "        </li>\n",
    "    </ul>\n",
    "    <p style='margin-left:30px'> <strong> Note:</strong> The bank's NPL definition is any loan which payment is at least 90 days late.</p>\n",
    "</div>"
   ]
  },
  {
   "cell_type": "markdown",
   "id": "17a27adb",
   "metadata": {
    "papermill": {
     "duration": 0.009816,
     "end_time": "2023-10-28T11:54:11.334550",
     "exception": false,
     "start_time": "2023-10-28T11:54:11.324734",
     "status": "completed"
    },
    "tags": []
   },
   "source": [
    "<h2 style='font-size:30px'> Data Importing</h2>\n",
    "<div> \n",
    "    <ul style='font-size:20px'> \n",
    "        <li> \n",
    "            The Data Engineers were able to provide two .csv views from the bank's database. The first one contains general information over the clients \n",
    "            and the second lists the loans they've contracted over some period of time.\n",
    "        </li>\n",
    "    </ul>\n",
    "</div>"
   ]
  },
  {
   "cell_type": "code",
   "execution_count": 1,
   "id": "be574a2d",
   "metadata": {
    "execution": {
     "iopub.execute_input": "2023-10-28T11:54:11.356588Z",
     "iopub.status.busy": "2023-10-28T11:54:11.355666Z",
     "iopub.status.idle": "2023-10-28T11:55:05.231848Z",
     "shell.execute_reply": "2023-10-28T11:55:05.230335Z"
    },
    "papermill": {
     "duration": 53.890193,
     "end_time": "2023-10-28T11:55:05.234412",
     "exception": false,
     "start_time": "2023-10-28T11:54:11.344219",
     "status": "completed"
    },
    "tags": []
   },
   "outputs": [
    {
     "name": "stdout",
     "output_type": "stream",
     "text": [
      "Collecting pyspark\r\n",
      "  Downloading pyspark-3.5.0.tar.gz (316.9 MB)\r\n",
      "\u001b[2K     \u001b[90m━━━━━━━━━━━━━━━━━━━━━━━━━━━━━━━━━━━━━━━\u001b[0m \u001b[32m316.9/316.9 MB\u001b[0m \u001b[31m3.4 MB/s\u001b[0m eta \u001b[36m0:00:00\u001b[0m\r\n",
      "\u001b[?25h  Preparing metadata (setup.py) ... \u001b[?25l-\b \bdone\r\n",
      "\u001b[?25hRequirement already satisfied: py4j==0.10.9.7 in /opt/conda/lib/python3.10/site-packages (from pyspark) (0.10.9.7)\r\n",
      "Building wheels for collected packages: pyspark\r\n",
      "  Building wheel for pyspark (setup.py) ... \u001b[?25l-\b \b\\\b \b|\b \bdone\r\n",
      "\u001b[?25h  Created wheel for pyspark: filename=pyspark-3.5.0-py2.py3-none-any.whl size=317425350 sha256=52ec51f86239de13f86ebc50bb8efad61c5b96846a881a68e71efc9932b92946\r\n",
      "  Stored in directory: /root/.cache/pip/wheels/41/4e/10/c2cf2467f71c678cfc8a6b9ac9241e5e44a01940da8fbb17fc\r\n",
      "Successfully built pyspark\r\n",
      "Installing collected packages: pyspark\r\n",
      "Successfully installed pyspark-3.5.0\r\n",
      "Note: you may need to restart the kernel to use updated packages.\n"
     ]
    }
   ],
   "source": [
    "pip install pyspark"
   ]
  },
  {
   "cell_type": "code",
   "execution_count": 2,
   "id": "8631f4d2",
   "metadata": {
    "execution": {
     "iopub.execute_input": "2023-10-28T11:55:05.278737Z",
     "iopub.status.busy": "2023-10-28T11:55:05.278314Z",
     "iopub.status.idle": "2023-10-28T11:55:11.481207Z",
     "shell.execute_reply": "2023-10-28T11:55:11.480212Z"
    },
    "papermill": {
     "duration": 6.228409,
     "end_time": "2023-10-28T11:55:11.483863",
     "exception": false,
     "start_time": "2023-10-28T11:55:05.255454",
     "status": "completed"
    },
    "tags": []
   },
   "outputs": [
    {
     "name": "stderr",
     "output_type": "stream",
     "text": [
      "Setting default log level to \"WARN\".\n",
      "To adjust logging level use sc.setLogLevel(newLevel). For SparkR, use setLogLevel(newLevel).\n",
      "23/10/28 11:55:09 WARN NativeCodeLoader: Unable to load native-hadoop library for your platform... using builtin-java classes where applicable\n"
     ]
    },
    {
     "data": {
      "text/html": [
       "<style>pre { white-space: pre !important; }</style>"
      ],
      "text/plain": [
       "<IPython.core.display.HTML object>"
      ]
     },
     "metadata": {},
     "output_type": "display_data"
    }
   ],
   "source": [
    "from pyspark import SparkContext\n",
    "from pyspark.sql import SparkSession\n",
    "from IPython.core.display import HTML\n",
    "\n",
    "# Creating the project's SparkSession.\n",
    "spark = SparkSession.builder.appName('NPL').getOrCreate()\n",
    "\n",
    "# Also, modifying the session's log level.\n",
    "log_level = spark.sparkContext.setLogLevel('ERROR')\n",
    "\n",
    "# This tiny config enables us to scroll along the DataFrame's columns.\n",
    "display(HTML(\"<style>pre { white-space: pre !important; }</style>\"))"
   ]
  },
  {
   "cell_type": "markdown",
   "id": "4180f683",
   "metadata": {
    "execution": {
     "iopub.execute_input": "2023-08-15T16:05:33.192895Z",
     "iopub.status.busy": "2023-08-15T16:05:33.192467Z",
     "iopub.status.idle": "2023-08-15T16:05:34.343874Z",
     "shell.execute_reply": "2023-08-15T16:05:34.342739Z",
     "shell.execute_reply.started": "2023-08-15T16:05:33.192858Z"
    },
    "papermill": {
     "duration": 0.020778,
     "end_time": "2023-10-28T11:55:11.526123",
     "exception": false,
     "start_time": "2023-10-28T11:55:11.505345",
     "status": "completed"
    },
    "tags": []
   },
   "source": [
    "<h3 style='font-size:30px;font-style:italic'> Clients Database</h3>\n",
    "<div> \n",
    "    <ul style='font-size:20px'> \n",
    "        <li> \n",
    "            This dataset is comprised of general information about the loans' clients.\n",
    "        </li>    \n",
    "        <li> \n",
    "            A particularity worth noting is that date columns show the negative amount of days since the given event took place. Positive numbers \n",
    "            indicate the number of days since the occurence ceased to exist - as it might happen with unemployed borrowers in the DAYS_EMPLOYED feature.\n",
    "        </li>\n",
    "    </ul>\n",
    "</div>"
   ]
  },
  {
   "cell_type": "code",
   "execution_count": 3,
   "id": "6ebe5be0",
   "metadata": {
    "execution": {
     "iopub.execute_input": "2023-10-28T11:55:11.570601Z",
     "iopub.status.busy": "2023-10-28T11:55:11.569945Z",
     "iopub.status.idle": "2023-10-28T11:55:19.166736Z",
     "shell.execute_reply": "2023-10-28T11:55:19.165375Z"
    },
    "papermill": {
     "duration": 7.622655,
     "end_time": "2023-10-28T11:55:19.169803",
     "exception": false,
     "start_time": "2023-10-28T11:55:11.547148",
     "status": "completed"
    },
    "tags": []
   },
   "outputs": [
    {
     "name": "stderr",
     "output_type": "stream",
     "text": [
      "                                                                                \r"
     ]
    },
    {
     "name": "stdout",
     "output_type": "stream",
     "text": [
      "+-------+-----------+------------+---------------+------------+----------------+--------------------+--------------------+--------------------+-----------------+----------+-------------+----------+---------------+----------+----------+---------------+---------------+\n",
      "|     ID|CODE_GENDER|FLAG_OWN_CAR|FLAG_OWN_REALTY|CNT_CHILDREN|AMT_INCOME_TOTAL|    NAME_INCOME_TYPE| NAME_EDUCATION_TYPE|  NAME_FAMILY_STATUS|NAME_HOUSING_TYPE|DAYS_BIRTH|DAYS_EMPLOYED|FLAG_MOBIL|FLAG_WORK_PHONE|FLAG_PHONE|FLAG_EMAIL|OCCUPATION_TYPE|CNT_FAM_MEMBERS|\n",
      "+-------+-----------+------------+---------------+------------+----------------+--------------------+--------------------+--------------------+-----------------+----------+-------------+----------+---------------+----------+----------+---------------+---------------+\n",
      "|5008804|          M|           Y|              Y|           0|        427500.0|             Working|    Higher education|      Civil marriage| Rented apartment|    -12005|        -4542|         1|              1|         0|         0|           NULL|            2.0|\n",
      "|5008805|          M|           Y|              Y|           0|        427500.0|             Working|    Higher education|      Civil marriage| Rented apartment|    -12005|        -4542|         1|              1|         0|         0|           NULL|            2.0|\n",
      "|5008806|          M|           Y|              Y|           0|        112500.0|             Working|Secondary / secon...|             Married|House / apartment|    -21474|        -1134|         1|              0|         0|         0| Security staff|            2.0|\n",
      "|5008808|          F|           N|              Y|           0|        270000.0|Commercial associate|Secondary / secon...|Single / not married|House / apartment|    -19110|        -3051|         1|              0|         1|         1|    Sales staff|            1.0|\n",
      "|5008809|          F|           N|              Y|           0|        270000.0|Commercial associate|Secondary / secon...|Single / not married|House / apartment|    -19110|        -3051|         1|              0|         1|         1|    Sales staff|            1.0|\n",
      "+-------+-----------+------------+---------------+------------+----------------+--------------------+--------------------+--------------------+-----------------+----------+-------------+----------+---------------+----------+----------+---------------+---------------+\n",
      "only showing top 5 rows\n",
      "\n"
     ]
    }
   ],
   "source": [
    "path_clients = '/kaggle/input/credit-card-approval-prediction/application_record.csv'\n",
    "\n",
    "# Defining the data types from the clients dataset.\n",
    "schema_clients = '''\n",
    "`ID` STRING, `CODE_GENDER` STRING, `FLAG_OWN_CAR` STRING, `FLAG_OWN_REALTY` STRING, `CNT_CHILDREN` INT,\n",
    "`AMT_INCOME_TOTAL` FLOAT, `NAME_INCOME_TYPE` STRING, `NAME_EDUCATION_TYPE` STRING, `NAME_FAMILY_STATUS` STRING, `NAME_HOUSING_TYPE` STRING,\n",
    "`DAYS_BIRTH` INT, `DAYS_EMPLOYED` INT, `FLAG_MOBIL` STRING, `FLAG_WORK_PHONE` STRING, `FLAG_PHONE` STRING, `FLAG_EMAIL` STRING, \n",
    "`OCCUPATION_TYPE` STRING, `CNT_FAM_MEMBERS` DOUBLE\n",
    "'''\n",
    "\n",
    "# Reading the database with the created schema.\n",
    "df_clients = spark.read.csv(path_clients, header=True, schema=schema_clients)\n",
    "df_clients.show(5)"
   ]
  },
  {
   "cell_type": "markdown",
   "id": "d735d7dd",
   "metadata": {
    "papermill": {
     "duration": 0.021538,
     "end_time": "2023-10-28T11:55:19.213585",
     "exception": false,
     "start_time": "2023-10-28T11:55:19.192047",
     "status": "completed"
    },
    "tags": []
   },
   "source": [
    "<h4 style='font-size:30px;font-style:italic;text-decoration:underline'> Duplicates Disclaimer</h4>\n",
    "<div> \n",
    "    <ul style='font-size:20px'> \n",
    "        <li> \n",
    "             Clients may not have unique rows in the dataset because the ID column identifies a contracted loan instead of a person.\n",
    "        </li>\n",
    "        <li> \n",
    "            Thus, I've found convenient for the project to create an ID column that assigns a code for each of the clients.\n",
    "        </li>\n",
    "    </ul>\n",
    "</div>"
   ]
  },
  {
   "cell_type": "code",
   "execution_count": 4,
   "id": "c4978087",
   "metadata": {
    "execution": {
     "iopub.execute_input": "2023-10-28T11:55:19.259363Z",
     "iopub.status.busy": "2023-10-28T11:55:19.258904Z",
     "iopub.status.idle": "2023-10-28T11:55:23.043418Z",
     "shell.execute_reply": "2023-10-28T11:55:23.042219Z"
    },
    "papermill": {
     "duration": 3.81185,
     "end_time": "2023-10-28T11:55:23.047334",
     "exception": false,
     "start_time": "2023-10-28T11:55:19.235484",
     "status": "completed"
    },
    "tags": []
   },
   "outputs": [
    {
     "name": "stderr",
     "output_type": "stream",
     "text": [
      "[Stage 1:>                                                          (0 + 4) / 4]\r"
     ]
    },
    {
     "name": "stdout",
     "output_type": "stream",
     "text": [
      "+-------+-----+\n",
      "|     ID|count|\n",
      "+-------+-----+\n",
      "|7742298|    2|\n",
      "|7174719|    2|\n",
      "|7091721|    2|\n",
      "|7089090|    2|\n",
      "|7022197|    2|\n",
      "+-------+-----+\n",
      "only showing top 5 rows\n",
      "\n"
     ]
    },
    {
     "name": "stderr",
     "output_type": "stream",
     "text": [
      "                                                                                \r"
     ]
    }
   ],
   "source": [
    "# Another issue unnoticed by the Data Engineers is that the database contains repeated Loan ID's.\n",
    "from pyspark.sql.functions import max as ps_max\n",
    "\n",
    "# Observe that there are Loans mentioned two times. It would be proper to disconsider such cases. \n",
    "data_duplicate_id = (df_clients\n",
    "                     .groupBy('ID')\n",
    "                     .count()\n",
    "                     .filter('`count`>1')\n",
    "                            )\n",
    "data_duplicate_id.show(5)"
   ]
  },
  {
   "cell_type": "code",
   "execution_count": 5,
   "id": "f9fdc44f",
   "metadata": {
    "execution": {
     "iopub.execute_input": "2023-10-28T11:55:23.094566Z",
     "iopub.status.busy": "2023-10-28T11:55:23.094175Z",
     "iopub.status.idle": "2023-10-28T11:55:26.404944Z",
     "shell.execute_reply": "2023-10-28T11:55:26.403675Z"
    },
    "papermill": {
     "duration": 3.338189,
     "end_time": "2023-10-28T11:55:26.409151",
     "exception": false,
     "start_time": "2023-10-28T11:55:23.070962",
     "status": "completed"
    },
    "tags": []
   },
   "outputs": [
    {
     "name": "stderr",
     "output_type": "stream",
     "text": [
      "[Stage 5:>                                                          (0 + 3) / 3]\r"
     ]
    },
    {
     "name": "stdout",
     "output_type": "stream",
     "text": [
      "+-------+-----------+------------+---------------+------------+----------------+----------------+--------------------+------------------+-----------------+----------+-------------+----------+---------------+----------+----------+---------------+---------------+\n",
      "|     ID|CODE_GENDER|FLAG_OWN_CAR|FLAG_OWN_REALTY|CNT_CHILDREN|AMT_INCOME_TOTAL|NAME_INCOME_TYPE| NAME_EDUCATION_TYPE|NAME_FAMILY_STATUS|NAME_HOUSING_TYPE|DAYS_BIRTH|DAYS_EMPLOYED|FLAG_MOBIL|FLAG_WORK_PHONE|FLAG_PHONE|FLAG_EMAIL|OCCUPATION_TYPE|CNT_FAM_MEMBERS|\n",
      "+-------+-----------+------------+---------------+------------+----------------+----------------+--------------------+------------------+-----------------+----------+-------------+----------+---------------+----------+----------+---------------+---------------+\n",
      "|7742298|          F|           N|              Y|           0|        144000.0|         Working|Secondary / secon...|             Widow|House / apartment|    -20626|        -1455|         1|              0|         0|         0|  Cooking staff|            1.0|\n",
      "|7742298|          M|           N|              N|           0|        112500.0|         Working|Secondary / secon...|           Married|House / apartment|    -18239|        -5428|         1|              1|         0|         0|           NULL|            2.0|\n",
      "+-------+-----------+------------+---------------+------------+----------------+----------------+--------------------+------------------+-----------------+----------+-------------+----------+---------------+----------+----------+---------------+---------------+\n",
      "\n"
     ]
    },
    {
     "name": "stderr",
     "output_type": "stream",
     "text": [
      "                                                                                \r"
     ]
    }
   ],
   "source": [
    "# If we take a peek on the first mentioned ID, we see that the presented loan actually is assigned to two different people!\n",
    "\n",
    "# Thus, the presence of such deals is potentially harmful to our model. It would be sensible to discard such ID's from the database.\n",
    "df_clients.filter('`ID`==7742298').show()"
   ]
  },
  {
   "cell_type": "code",
   "execution_count": 6,
   "id": "faccb2ae",
   "metadata": {
    "execution": {
     "iopub.execute_input": "2023-10-28T11:55:26.466891Z",
     "iopub.status.busy": "2023-10-28T11:55:26.466432Z",
     "iopub.status.idle": "2023-10-28T11:55:26.586429Z",
     "shell.execute_reply": "2023-10-28T11:55:26.585055Z"
    },
    "papermill": {
     "duration": 0.147383,
     "end_time": "2023-10-28T11:55:26.589544",
     "exception": false,
     "start_time": "2023-10-28T11:55:26.442161",
     "status": "completed"
    },
    "tags": []
   },
   "outputs": [],
   "source": [
    "# Dropping out the problematic loans.\n",
    "df_clients = data_duplicate_id.join(df_clients, how='right', on='ID').drop('count').where('`count` IS NULL')"
   ]
  },
  {
   "cell_type": "code",
   "execution_count": 7,
   "id": "b508a26e",
   "metadata": {
    "execution": {
     "iopub.execute_input": "2023-10-28T11:55:26.636824Z",
     "iopub.status.busy": "2023-10-28T11:55:26.636432Z",
     "iopub.status.idle": "2023-10-28T11:55:26.669730Z",
     "shell.execute_reply": "2023-10-28T11:55:26.668560Z"
    },
    "papermill": {
     "duration": 0.061336,
     "end_time": "2023-10-28T11:55:26.674017",
     "exception": false,
     "start_time": "2023-10-28T11:55:26.612681",
     "status": "completed"
    },
    "tags": []
   },
   "outputs": [
    {
     "data": {
      "text/plain": [
       "['CODE_GENDER',\n",
       " 'FLAG_OWN_CAR',\n",
       " 'FLAG_OWN_REALTY',\n",
       " 'CNT_CHILDREN',\n",
       " 'AMT_INCOME_TOTAL',\n",
       " 'NAME_INCOME_TYPE',\n",
       " 'NAME_EDUCATION_TYPE',\n",
       " 'NAME_FAMILY_STATUS',\n",
       " 'NAME_HOUSING_TYPE',\n",
       " 'DAYS_BIRTH',\n",
       " 'DAYS_EMPLOYED',\n",
       " 'FLAG_MOBIL',\n",
       " 'FLAG_WORK_PHONE',\n",
       " 'FLAG_PHONE',\n",
       " 'FLAG_EMAIL',\n",
       " 'OCCUPATION_TYPE',\n",
       " 'CNT_FAM_MEMBERS']"
      ]
     },
     "execution_count": 7,
     "metadata": {},
     "output_type": "execute_result"
    }
   ],
   "source": [
    "# Listing the `df_clients` features with the exception of ID.\n",
    "features_clients = df_clients.columns\n",
    "features_clients.remove('ID')\n",
    "features_clients"
   ]
  },
  {
   "cell_type": "code",
   "execution_count": 8,
   "id": "ee79cc8d",
   "metadata": {
    "execution": {
     "iopub.execute_input": "2023-10-28T11:55:26.741822Z",
     "iopub.status.busy": "2023-10-28T11:55:26.741269Z",
     "iopub.status.idle": "2023-10-28T11:55:35.836479Z",
     "shell.execute_reply": "2023-10-28T11:55:35.835008Z"
    },
    "papermill": {
     "duration": 9.133105,
     "end_time": "2023-10-28T11:55:35.840405",
     "exception": false,
     "start_time": "2023-10-28T11:55:26.707300",
     "status": "completed"
    },
    "tags": []
   },
   "outputs": [
    {
     "name": "stderr",
     "output_type": "stream",
     "text": [
      "                                                                                \r"
     ]
    },
    {
     "name": "stdout",
     "output_type": "stream",
     "text": [
      "`df_clients` length: 438463\n"
     ]
    },
    {
     "name": "stderr",
     "output_type": "stream",
     "text": [
      "[Stage 15:==============>                                           (1 + 3) / 4]\r"
     ]
    },
    {
     "name": "stdout",
     "output_type": "stream",
     "text": [
      "Number of clients: 90084\n"
     ]
    },
    {
     "name": "stderr",
     "output_type": "stream",
     "text": [
      "                                                                                \r"
     ]
    }
   ],
   "source": [
    "# Note that the database's actual amount of clients is lower than its number of rows. \n",
    "data_clients = df_clients.dropDuplicates(features_clients) \n",
    "print(f'`df_clients` length: {df_clients.count()}')\n",
    "print(f'Number of clients: {data_clients.count()}')"
   ]
  },
  {
   "cell_type": "code",
   "execution_count": 9,
   "id": "870635d0",
   "metadata": {
    "execution": {
     "iopub.execute_input": "2023-10-28T11:55:35.968950Z",
     "iopub.status.busy": "2023-10-28T11:55:35.968265Z",
     "iopub.status.idle": "2023-10-28T11:55:36.160853Z",
     "shell.execute_reply": "2023-10-28T11:55:36.159492Z"
    },
    "papermill": {
     "duration": 0.291048,
     "end_time": "2023-10-28T11:55:36.164618",
     "exception": false,
     "start_time": "2023-10-28T11:55:35.873570",
     "status": "completed"
    },
    "tags": []
   },
   "outputs": [],
   "source": [
    "# We'll assign a Client ID for every loan mentioned in `df_clients`. \n",
    "from pyspark.sql.functions import cast, row_number\n",
    "from pyspark.sql.types import StringType\n",
    "from pyspark.sql.window import Window\n",
    "\n",
    "window = Window.orderBy(features_clients)\n",
    "row_window = row_number().over(window)\n",
    "\n",
    "# A DataFrame with the clients' data and actual ID.\n",
    "df_id_clients = data_clients.withColumn('ID_CLIENT', row_window.cast(StringType())).drop('ID')"
   ]
  },
  {
   "cell_type": "code",
   "execution_count": 10,
   "id": "484dd971",
   "metadata": {
    "execution": {
     "iopub.execute_input": "2023-10-28T11:55:36.223060Z",
     "iopub.status.busy": "2023-10-28T11:55:36.222632Z",
     "iopub.status.idle": "2023-10-28T11:55:48.509406Z",
     "shell.execute_reply": "2023-10-28T11:55:48.508121Z"
    },
    "papermill": {
     "duration": 12.316086,
     "end_time": "2023-10-28T11:55:48.513397",
     "exception": false,
     "start_time": "2023-10-28T11:55:36.197311",
     "status": "completed"
    },
    "tags": []
   },
   "outputs": [
    {
     "name": "stderr",
     "output_type": "stream",
     "text": [
      "[Stage 35:>                                                         (0 + 1) / 1]\r"
     ]
    },
    {
     "name": "stdout",
     "output_type": "stream",
     "text": [
      "+-------+-----------+------------+---------------+------------+----------------+----------------+--------------------+------------------+-----------------+----------+-------------+----------+---------------+----------+----------+---------------+---------------+---------+\n",
      "|     ID|CODE_GENDER|FLAG_OWN_CAR|FLAG_OWN_REALTY|CNT_CHILDREN|AMT_INCOME_TOTAL|NAME_INCOME_TYPE| NAME_EDUCATION_TYPE|NAME_FAMILY_STATUS|NAME_HOUSING_TYPE|DAYS_BIRTH|DAYS_EMPLOYED|FLAG_MOBIL|FLAG_WORK_PHONE|FLAG_PHONE|FLAG_EMAIL|OCCUPATION_TYPE|CNT_FAM_MEMBERS|ID_CLIENT|\n",
      "+-------+-----------+------------+---------------+------------+----------------+----------------+--------------------+------------------+-----------------+----------+-------------+----------+---------------+----------+----------+---------------+---------------+---------+\n",
      "|5996382|          F|           N|              N|           0|         28800.0|       Pensioner|Secondary / secon...|           Married|House / apartment|    -20298|       365243|         1|              0|         1|         0|           NULL|            2.0|        7|\n",
      "|5996383|          F|           N|              N|           0|         28800.0|       Pensioner|Secondary / secon...|           Married|House / apartment|    -20298|       365243|         1|              0|         1|         0|           NULL|            2.0|        7|\n",
      "|5996384|          F|           N|              N|           0|         28800.0|       Pensioner|Secondary / secon...|           Married|House / apartment|    -20298|       365243|         1|              0|         1|         0|           NULL|            2.0|        7|\n",
      "|6499066|          F|           N|              N|           0|         29133.0|       Pensioner|Secondary / secon...|           Married|House / apartment|    -20945|       365243|         1|              0|         1|         0|           NULL|            2.0|        8|\n",
      "|6499067|          F|           N|              N|           0|         29133.0|       Pensioner|Secondary / secon...|           Married|House / apartment|    -20945|       365243|         1|              0|         1|         0|           NULL|            2.0|        8|\n",
      "+-------+-----------+------------+---------------+------------+----------------+----------------+--------------------+------------------+-----------------+----------+-------------+----------+---------------+----------+----------+---------------+---------------+---------+\n",
      "only showing top 5 rows\n",
      "\n"
     ]
    },
    {
     "name": "stderr",
     "output_type": "stream",
     "text": [
      "                                                                                \r"
     ]
    }
   ],
   "source": [
    "# We'll need to perform Null Safe JOIN's, since columns such as 'OCCUPATION_TYPE' contain null values.\n",
    "from functools import reduce\n",
    "\n",
    "# Creating the multiple null safe JOIN's condition.\n",
    "condition_id_client = reduce(lambda x,y: x&y, [df_clients[col].eqNullSafe(df_id_clients[col]) for col in features_clients])\n",
    "columns_join_id = ['df_clients.*', 'df_id_clients.ID_CLIENT'] # Listing the JOIN columns.\n",
    "\n",
    "# Consolidating the final clients database.\n",
    "df_clients = (df_clients.alias('df_clients') # Resorting to aliases for both DataFrames present columns with same names.\n",
    "                 .join(df_id_clients.alias('df_id_clients'), condition_id_client)\n",
    "                 .select(columns_join_id))\n",
    "df_clients.show(5)"
   ]
  },
  {
   "cell_type": "markdown",
   "id": "54ede8d7",
   "metadata": {
    "execution": {
     "iopub.execute_input": "2023-08-15T16:05:33.192895Z",
     "iopub.status.busy": "2023-08-15T16:05:33.192467Z",
     "iopub.status.idle": "2023-08-15T16:05:34.343874Z",
     "shell.execute_reply": "2023-08-15T16:05:34.342739Z",
     "shell.execute_reply.started": "2023-08-15T16:05:33.192858Z"
    },
    "papermill": {
     "duration": 0.036548,
     "end_time": "2023-10-28T11:55:48.586558",
     "exception": false,
     "start_time": "2023-10-28T11:55:48.550010",
     "status": "completed"
    },
    "tags": []
   },
   "source": [
    "<h3 style='font-size:30px;font-style:italic'> Loans Database</h3>\n",
    "<div> \n",
    "    <ul style='font-size:20px'> \n",
    "        <li> \n",
    "            This table contains the payments records for every loan since its contraction. \n",
    "        </li>\n",
    "        <li> \n",
    "            But in order to the dataset be adequate to our project's intent, two transformations are necessary: first, we need to bring the `ID_CLIENT`\n",
    "            column to it and after that, group the database so that it denounces individuals who've produced an NPL at least once.            \n",
    "        </li>\n",
    "    </ul>\n",
    "</div>"
   ]
  },
  {
   "cell_type": "code",
   "execution_count": 11,
   "id": "339a6684",
   "metadata": {
    "execution": {
     "iopub.execute_input": "2023-10-28T11:55:48.663571Z",
     "iopub.status.busy": "2023-10-28T11:55:48.663029Z",
     "iopub.status.idle": "2023-10-28T11:55:48.878010Z",
     "shell.execute_reply": "2023-10-28T11:55:48.876830Z"
    },
    "papermill": {
     "duration": 0.258301,
     "end_time": "2023-10-28T11:55:48.881676",
     "exception": false,
     "start_time": "2023-10-28T11:55:48.623375",
     "status": "completed"
    },
    "tags": []
   },
   "outputs": [
    {
     "name": "stdout",
     "output_type": "stream",
     "text": [
      "+-------+--------------+------+\n",
      "|     ID|MONTHS_BALANCE|STATUS|\n",
      "+-------+--------------+------+\n",
      "|5001711|             0|     X|\n",
      "|5001711|            -1|     0|\n",
      "|5001711|            -2|     0|\n",
      "|5001711|            -3|     0|\n",
      "|5001712|             0|     C|\n",
      "+-------+--------------+------+\n",
      "only showing top 5 rows\n",
      "\n"
     ]
    }
   ],
   "source": [
    "# Bringing the dataset into our notebook.\n",
    "path_loans = '/kaggle/input/credit-card-approval-prediction/credit_record.csv'\n",
    "schema_loans = '`ID` STRING, `MONTHS_BALANCE` INT, `STATUS` STRING'\n",
    "df_loans = spark.read.csv(path_loans, header=True, schema=schema_loans)\n",
    "df_loans.show(5) "
   ]
  },
  {
   "cell_type": "code",
   "execution_count": 12,
   "id": "f684be45",
   "metadata": {
    "execution": {
     "iopub.execute_input": "2023-10-28T11:55:48.951185Z",
     "iopub.status.busy": "2023-10-28T11:55:48.950022Z",
     "iopub.status.idle": "2023-10-28T11:56:03.351898Z",
     "shell.execute_reply": "2023-10-28T11:56:03.350458Z"
    },
    "papermill": {
     "duration": 14.437006,
     "end_time": "2023-10-28T11:56:03.355899",
     "exception": false,
     "start_time": "2023-10-28T11:55:48.918893",
     "status": "completed"
    },
    "tags": []
   },
   "outputs": [
    {
     "name": "stderr",
     "output_type": "stream",
     "text": [
      "[Stage 52:=============================>                            (2 + 2) / 4]\r"
     ]
    },
    {
     "name": "stdout",
     "output_type": "stream",
     "text": [
      "+---------+-------+--------------+------+\n",
      "|ID_CLIENT|     ID|MONTHS_BALANCE|STATUS|\n",
      "+---------+-------+--------------+------+\n",
      "|    34269|5008810|             0|     C|\n",
      "|    34269|5008810|            -1|     C|\n",
      "|    34269|5008810|            -2|     C|\n",
      "|    34269|5008810|            -3|     C|\n",
      "|    34269|5008810|            -4|     C|\n",
      "+---------+-------+--------------+------+\n",
      "only showing top 5 rows\n",
      "\n"
     ]
    },
    {
     "name": "stderr",
     "output_type": "stream",
     "text": [
      "                                                                                \r"
     ]
    }
   ],
   "source": [
    "# Now, providing the loans' client ID.\n",
    "df_loans = df_loans.join(df_clients, ['ID']).select(['ID_CLIENT', 'ID', 'MONTHS_BALANCE', 'STATUS'])\n",
    "df_loans.show(5)"
   ]
  },
  {
   "cell_type": "markdown",
   "id": "ad42456b",
   "metadata": {
    "papermill": {
     "duration": 0.037784,
     "end_time": "2023-10-28T11:56:03.432523",
     "exception": false,
     "start_time": "2023-10-28T11:56:03.394739",
     "status": "completed"
    },
    "tags": []
   },
   "source": [
    "<h4 style='font-size:30px;font-style:italic;text-decoration:underline'> Conceiving the Target Variable</h4>\n",
    "<div> \n",
    "    <ul style='font-size:20px'> \n",
    "        <li> \n",
    "            The `STATUS` column presents a handful of codes that represent distinct status for a loan's payment. Their definition is as follows:\n",
    "            <table style='font-size:15px;margin-top:20px'> \n",
    "                <tr>\n",
    "                    <th> Code</th>\n",
    "                    <th> Definition</th>\n",
    "                </tr>\n",
    "                <tr> \n",
    "                    <td> C</td>\n",
    "                    <td> Paid off that month</td>\n",
    "                </tr>\n",
    "                <tr> \n",
    "                    <td> 0</td>\n",
    "                    <td> 1-29 days past due</td>\n",
    "                </tr>\n",
    "                <tr> \n",
    "                    <td> 1</td>\n",
    "                    <td> 30-59 days past due </td>\n",
    "                </tr>\n",
    "                <tr> \n",
    "                    <td> 2</td>\n",
    "                    <td> 60-89 days past due </td>\n",
    "                </tr>\n",
    "                <tr> \n",
    "                    <td> 3</td>\n",
    "                    <td> 90-119 days past due </td>\n",
    "                </tr>\n",
    "                <tr> \n",
    "                    <td> 4</td>\n",
    "                    <td> 120-149 days past due </td>\n",
    "                </tr>\n",
    "                <tr> \n",
    "                    <td> 5</td>\n",
    "                    <td> Overdue or bad debts,<p> write-offs for more than 150 days</p> </td>\n",
    "                </tr>\n",
    "                <tr> \n",
    "                    <td> X</td>\n",
    "                    <td> No loan for the month</td>\n",
    "                </tr>\n",
    "            </table>\n",
    "        </li>\n",
    "        <li style='margin-top:20px'> \n",
    "            Observe that in our case only the 3, 4 and 5 codes are of our interest. Thus it would be convenient to create a binary flag that denounces whether \n",
    "            the individual has ever caused an NPL.\n",
    "        </li>\n",
    "    </ul>\n",
    "</div>"
   ]
  },
  {
   "cell_type": "code",
   "execution_count": 13,
   "id": "5bedcd3f",
   "metadata": {
    "execution": {
     "iopub.execute_input": "2023-10-28T11:56:03.513474Z",
     "iopub.status.busy": "2023-10-28T11:56:03.512820Z",
     "iopub.status.idle": "2023-10-28T11:56:04.169436Z",
     "shell.execute_reply": "2023-10-28T11:56:04.167957Z"
    },
    "papermill": {
     "duration": 0.700668,
     "end_time": "2023-10-28T11:56:04.173326",
     "exception": false,
     "start_time": "2023-10-28T11:56:03.472658",
     "status": "completed"
    },
    "tags": []
   },
   "outputs": [],
   "source": [
    "# The dependent variable's conception needs a custom GroupBy that PySpark is unable to perform by itself. Hence, we \n",
    "# are going to resort to pandas in this section.\n",
    "import pandas as pd\n",
    "\n",
    "# Defining the GroupBy's schema.\n",
    "schema_flag_npl = '`ID_CLIENT` STRING, `NPL` STRING'\n",
    "\n",
    "# This lambda expression signs whether a client has produced an NPL in the past.\n",
    "lambda_npl = lambda x: '1' if x.STATUS.isin(['3', '4', '5']).any() else '0'\n",
    "\n",
    "def has_npl(df:pd.DataFrame)->pd.DataFrame:\n",
    "    '''\n",
    "        Verifies if a client's  records contain any sort of Non-Performing Loan.\n",
    "        \n",
    "        Parameter\n",
    "        ---------\n",
    "        `df`: pd.DataFrame \n",
    "            The loan records of a certain client.\n",
    "        \n",
    "        Returns\n",
    "        -------\n",
    "        A `pd.DataFrame` with the client's ID and a flag indicating NPL existence in their loan history. \n",
    "    '''\n",
    "    output = df.groupby(['ID_CLIENT']).apply(lambda_npl) # `lambda_npl` takes care of the flags creation.\n",
    "    output.name = 'NPL' # Setting the flag column name.\n",
    "    return output.reset_index()\n",
    "\n",
    "# Finally, generating our target-variable.\n",
    "target = df_loans.groupBy('ID_CLIENT').applyInPandas(has_npl, schema_flag_npl)"
   ]
  },
  {
   "cell_type": "markdown",
   "id": "9694b29c",
   "metadata": {
    "papermill": {
     "duration": 0.04048,
     "end_time": "2023-10-28T11:56:04.259078",
     "exception": false,
     "start_time": "2023-10-28T11:56:04.218598",
     "status": "completed"
    },
    "tags": []
   },
   "source": [
    "<h2 style='font-size:30px'> Consolidating the Data</h2>\n",
    "<div> \n",
    "    <ul style='font-size:20px'> \n",
    "        <li> \n",
    "            With both datasets properly treated, we are able to JOIN them in a single table.\n",
    "        </li>\n",
    "    </ul>\n",
    "</div>"
   ]
  },
  {
   "cell_type": "code",
   "execution_count": 14,
   "id": "b9e00fa9",
   "metadata": {
    "execution": {
     "iopub.execute_input": "2023-10-28T11:56:04.339043Z",
     "iopub.status.busy": "2023-10-28T11:56:04.338328Z",
     "iopub.status.idle": "2023-10-28T11:56:04.409198Z",
     "shell.execute_reply": "2023-10-28T11:56:04.407735Z"
    },
    "papermill": {
     "duration": 0.114415,
     "end_time": "2023-10-28T11:56:04.412143",
     "exception": false,
     "start_time": "2023-10-28T11:56:04.297728",
     "status": "completed"
    },
    "tags": []
   },
   "outputs": [],
   "source": [
    "# Finally, enriching the clients information with the NPL flag.\n",
    "df = df_id_clients.join(target, how='inner', on='ID_CLIENT')"
   ]
  },
  {
   "cell_type": "code",
   "execution_count": 15,
   "id": "2ab91860",
   "metadata": {
    "execution": {
     "iopub.execute_input": "2023-10-28T11:56:04.469145Z",
     "iopub.status.busy": "2023-10-28T11:56:04.467741Z",
     "iopub.status.idle": "2023-10-28T11:56:43.127238Z",
     "shell.execute_reply": "2023-10-28T11:56:43.125945Z"
    },
    "papermill": {
     "duration": 38.691362,
     "end_time": "2023-10-28T11:56:43.130926",
     "exception": false,
     "start_time": "2023-10-28T11:56:04.439564",
     "status": "completed"
    },
    "tags": []
   },
   "outputs": [
    {
     "name": "stderr",
     "output_type": "stream",
     "text": [
      "                                                                                \r"
     ]
    }
   ],
   "source": [
    "df.write.parquet('/kaggle/working/df.parquet', mode='overwrite')"
   ]
  },
  {
   "cell_type": "markdown",
   "id": "bb48b11f",
   "metadata": {
    "papermill": {
     "duration": 0.037945,
     "end_time": "2023-10-28T11:56:43.211809",
     "exception": false,
     "start_time": "2023-10-28T11:56:43.173864",
     "status": "completed"
    },
    "tags": []
   },
   "source": [
    "<h2 style='font-size:30px'> Dataset Splitting</h2>\n",
    "<div> \n",
    "    <ul style='font-size:20px'> \n",
    "        <li> \n",
    "            With the dataset properly treated, we are able to begin our EDA and model creation. But firstly we have to separate the data in \n",
    "            the training and test tables.\n",
    "        </li>\n",
    "    </ul>\n",
    "</div>"
   ]
  },
  {
   "cell_type": "code",
   "execution_count": 16,
   "id": "3af54cd7",
   "metadata": {
    "execution": {
     "iopub.execute_input": "2023-10-28T11:56:43.271232Z",
     "iopub.status.busy": "2023-10-28T11:56:43.270819Z",
     "iopub.status.idle": "2023-10-28T11:57:14.961447Z",
     "shell.execute_reply": "2023-10-28T11:57:14.960237Z"
    },
    "papermill": {
     "duration": 31.725351,
     "end_time": "2023-10-28T11:57:14.965877",
     "exception": false,
     "start_time": "2023-10-28T11:56:43.240526",
     "status": "completed"
    },
    "tags": []
   },
   "outputs": [
    {
     "name": "stderr",
     "output_type": "stream",
     "text": [
      "[Stage 136:==========================================>              (3 + 1) / 4]\r"
     ]
    },
    {
     "name": "stdout",
     "output_type": "stream",
     "text": [
      "+---+-----+\n",
      "|NPL|count|\n",
      "+---+-----+\n",
      "|  0| 9509|\n",
      "|  1|  219|\n",
      "+---+-----+\n",
      "\n"
     ]
    },
    {
     "name": "stderr",
     "output_type": "stream",
     "text": [
      "                                                                                \r"
     ]
    }
   ],
   "source": [
    "# As we can see, we are dealing with an unbalanced dataset case. Thus it is interesting to maintain the target value proportions\n",
    "# in both training and test sets.\n",
    "df.groupBy('NPL').count().show()"
   ]
  },
  {
   "cell_type": "code",
   "execution_count": 17,
   "id": "babbb1a4",
   "metadata": {
    "execution": {
     "iopub.execute_input": "2023-10-28T11:57:15.045001Z",
     "iopub.status.busy": "2023-10-28T11:57:15.044550Z",
     "iopub.status.idle": "2023-10-28T11:57:15.581092Z",
     "shell.execute_reply": "2023-10-28T11:57:15.579786Z"
    },
    "papermill": {
     "duration": 0.576746,
     "end_time": "2023-10-28T11:57:15.585553",
     "exception": false,
     "start_time": "2023-10-28T11:57:15.008807",
     "status": "completed"
    },
    "tags": []
   },
   "outputs": [],
   "source": [
    "train = df.sampleBy('NPL', fractions={'0':.75, '1':.75}, seed=42)\n",
    "test = df.subtract(train)"
   ]
  },
  {
   "cell_type": "code",
   "execution_count": 18,
   "id": "6bdc38e0",
   "metadata": {
    "execution": {
     "iopub.execute_input": "2023-10-28T11:57:15.655503Z",
     "iopub.status.busy": "2023-10-28T11:57:15.654577Z",
     "iopub.status.idle": "2023-10-28T11:57:41.931199Z",
     "shell.execute_reply": "2023-10-28T11:57:41.929643Z"
    },
    "papermill": {
     "duration": 26.31199,
     "end_time": "2023-10-28T11:57:41.934071",
     "exception": false,
     "start_time": "2023-10-28T11:57:15.622081",
     "status": "completed"
    },
    "tags": []
   },
   "outputs": [
    {
     "name": "stderr",
     "output_type": "stream",
     "text": [
      "[Stage 177:============================>                            (2 + 2) / 4]\r"
     ]
    },
    {
     "name": "stdout",
     "output_type": "stream",
     "text": [
      "+---+-----+\n",
      "|NPL|count|\n",
      "+---+-----+\n",
      "|  0| 7205|\n",
      "|  1|  158|\n",
      "+---+-----+\n",
      "\n"
     ]
    },
    {
     "name": "stderr",
     "output_type": "stream",
     "text": [
      "                                                                                \r"
     ]
    }
   ],
   "source": [
    "train.groupBy('NPL').count().show()"
   ]
  },
  {
   "cell_type": "code",
   "execution_count": 19,
   "id": "3e9f3de8",
   "metadata": {
    "execution": {
     "iopub.execute_input": "2023-10-28T11:57:42.005919Z",
     "iopub.status.busy": "2023-10-28T11:57:42.005494Z",
     "iopub.status.idle": "2023-10-28T11:57:42.012771Z",
     "shell.execute_reply": "2023-10-28T11:57:42.011632Z"
    },
    "papermill": {
     "duration": 0.043756,
     "end_time": "2023-10-28T11:57:42.015212",
     "exception": false,
     "start_time": "2023-10-28T11:57:41.971456",
     "status": "completed"
    },
    "tags": []
   },
   "outputs": [
    {
     "data": {
      "text/plain": [
       "0.021458644574222464"
      ]
     },
     "execution_count": 19,
     "metadata": {},
     "output_type": "execute_result"
    }
   ],
   "source": [
    "158/(7205+158)"
   ]
  },
  {
   "cell_type": "code",
   "execution_count": 20,
   "id": "23624102",
   "metadata": {
    "execution": {
     "iopub.execute_input": "2023-10-28T11:57:42.082098Z",
     "iopub.status.busy": "2023-10-28T11:57:42.081315Z",
     "iopub.status.idle": "2023-10-28T11:58:14.893387Z",
     "shell.execute_reply": "2023-10-28T11:58:14.892079Z"
    },
    "papermill": {
     "duration": 32.849961,
     "end_time": "2023-10-28T11:58:14.897356",
     "exception": false,
     "start_time": "2023-10-28T11:57:42.047395",
     "status": "completed"
    },
    "tags": []
   },
   "outputs": [
    {
     "name": "stderr",
     "output_type": "stream",
     "text": [
      "                                                                                \r"
     ]
    },
    {
     "name": "stdout",
     "output_type": "stream",
     "text": [
      "+---+-----+\n",
      "|NPL|count|\n",
      "+---+-----+\n",
      "|  0| 2308|\n",
      "|  1|   47|\n",
      "+---+-----+\n",
      "\n"
     ]
    }
   ],
   "source": [
    "test.groupBy('NPL').count().show()"
   ]
  },
  {
   "cell_type": "code",
   "execution_count": 21,
   "id": "c4b3b0a7",
   "metadata": {
    "execution": {
     "iopub.execute_input": "2023-10-28T11:58:14.998228Z",
     "iopub.status.busy": "2023-10-28T11:58:14.997814Z",
     "iopub.status.idle": "2023-10-28T11:58:15.004487Z",
     "shell.execute_reply": "2023-10-28T11:58:15.003617Z"
    },
    "papermill": {
     "duration": 0.050213,
     "end_time": "2023-10-28T11:58:15.006866",
     "exception": false,
     "start_time": "2023-10-28T11:58:14.956653",
     "status": "completed"
    },
    "tags": []
   },
   "outputs": [
    {
     "data": {
      "text/plain": [
       "0.019957537154989383"
      ]
     },
     "execution_count": 21,
     "metadata": {},
     "output_type": "execute_result"
    }
   ],
   "source": [
    "47/(2308+47)"
   ]
  },
  {
   "cell_type": "markdown",
   "id": "7f9c99be",
   "metadata": {
    "papermill": {
     "duration": 0.03498,
     "end_time": "2023-10-28T11:58:15.075925",
     "exception": false,
     "start_time": "2023-10-28T11:58:15.040945",
     "status": "completed"
    },
    "tags": []
   },
   "source": [
    "<h2 style='font-size:30px'> Exploratory Data Analysis</h2>\n",
    "<div> \n",
    "    <ul style='font-size:20px'> \n",
    "        <li> \n",
    "            With the dataset properly treated for the project's intent, let's briefly analyze its content and see whether we can recognize differences \n",
    "            among the classes. \n",
    "        </li>\n",
    "    </ul>\n",
    "</div>"
   ]
  },
  {
   "cell_type": "markdown",
   "id": "b719ac24",
   "metadata": {
    "papermill": {
     "duration": 0.033792,
     "end_time": "2023-10-28T11:58:15.144340",
     "exception": false,
     "start_time": "2023-10-28T11:58:15.110548",
     "status": "completed"
    },
    "tags": []
   },
   "source": [
    "<p style='color:red'> <a href='https://stackoverflow.com/questions/47637760/stratified-sampling-with-pyspark'> Dividir dataset</a> antes da EDA. Mostrar proporções, ao invés de contagem</p>"
   ]
  }
 ],
 "metadata": {
  "kernelspec": {
   "display_name": "Python 3",
   "language": "python",
   "name": "python3"
  },
  "language_info": {
   "codemirror_mode": {
    "name": "ipython",
    "version": 3
   },
   "file_extension": ".py",
   "mimetype": "text/x-python",
   "name": "python",
   "nbconvert_exporter": "python",
   "pygments_lexer": "ipython3",
   "version": "3.10.12"
  },
  "papermill": {
   "default_parameters": {},
   "duration": 250.157876,
   "end_time": "2023-10-28T11:58:17.801712",
   "environment_variables": {},
   "exception": null,
   "input_path": "__notebook__.ipynb",
   "output_path": "__notebook__.ipynb",
   "parameters": {},
   "start_time": "2023-10-28T11:54:07.643836",
   "version": "2.4.0"
  }
 },
 "nbformat": 4,
 "nbformat_minor": 5
}
