{
 "cells": [
  {
   "cell_type": "markdown",
   "id": "6b0a9e01",
   "metadata": {
    "papermill": {
     "duration": 0.01047,
     "end_time": "2024-01-02T21:59:05.792770",
     "exception": false,
     "start_time": "2024-01-02T21:59:05.782300",
     "status": "completed"
    },
    "tags": []
   },
   "source": [
    "<h1 style='font-size:40px'> NPL Risk Evaluation Modeling</h1>\n",
    "<div style='font-size:20px'> \n",
    "    <ul> \n",
    "        <li> \n",
    "            This project aims the conceiving of a Machine Learning Model focused on assisting a bank on its credit approval strategy.\n",
    "        </li>\n",
    "        <li> \n",
    "            The corporation has been scolded for its recent NPL levels by its shareholders. Thus, the executive team has decided that a more conservative \n",
    "            credit strategy must be adopted for new contracts.\n",
    "        </li>\n",
    "        <li> \n",
    "            During the planning meetings, the business team has made two major requests concerning the nature of the model.\n",
    "            <ul style='list-style-type:decimal'> \n",
    "                <li> \n",
    "                    It must be focused on predicting whether a given client might produce an NPL in the future.\n",
    "                </li>\n",
    "                <li> \n",
    "                    The output must be some kind of score suggesting the likelihood of the event to happen. They are not looking for \n",
    "                    an incisive \"yes or no\" answer.\n",
    "                </li>\n",
    "            </ul>\n",
    "        </li>\n",
    "    </ul>\n",
    "    <p style='margin-left:30px'> <strong> Note:</strong> The bank's NPL definition is any loan which payment is at least 90 days late.</p>\n",
    "</div>"
   ]
  },
  {
   "cell_type": "markdown",
   "id": "6567d025",
   "metadata": {
    "papermill": {
     "duration": 0.010087,
     "end_time": "2024-01-02T21:59:05.813625",
     "exception": false,
     "start_time": "2024-01-02T21:59:05.803538",
     "status": "completed"
    },
    "tags": []
   },
   "source": [
    "<h2 style='font-size:30px'> Data Importing</h2>\n",
    "<div> \n",
    "    <ul style='font-size:20px'> \n",
    "        <li> \n",
    "            The Data Engineers were able to provide two .csv views from the bank's database. The first one contains general information over the clients \n",
    "            and the second lists the loans they've contracted over some period of time.\n",
    "        </li>\n",
    "    </ul>\n",
    "</div>"
   ]
  },
  {
   "cell_type": "code",
   "execution_count": 1,
   "id": "cdea385d",
   "metadata": {
    "execution": {
     "iopub.execute_input": "2024-01-02T21:59:05.835038Z",
     "iopub.status.busy": "2024-01-02T21:59:05.834359Z",
     "iopub.status.idle": "2024-01-02T21:59:47.468404Z",
     "shell.execute_reply": "2024-01-02T21:59:47.467285Z"
    },
    "papermill": {
     "duration": 41.647095,
     "end_time": "2024-01-02T21:59:47.470289",
     "exception": false,
     "start_time": "2024-01-02T21:59:05.823194",
     "status": "completed"
    },
    "tags": []
   },
   "outputs": [
    {
     "name": "stdout",
     "output_type": "stream",
     "text": [
      "Collecting pyspark\r\n",
      "  Downloading pyspark-3.5.0.tar.gz (316.9 MB)\r\n",
      "\u001b[2K     \u001b[90m━━━━━━━━━━━━━━━━━━━━━━━━━━━━━━━━━━━━━━━\u001b[0m \u001b[32m316.9/316.9 MB\u001b[0m \u001b[31m4.3 MB/s\u001b[0m eta \u001b[36m0:00:00\u001b[0m\r\n",
      "\u001b[?25h  Preparing metadata (setup.py) ... \u001b[?25l-\b \bdone\r\n",
      "\u001b[?25hRequirement already satisfied: py4j==0.10.9.7 in /opt/conda/lib/python3.10/site-packages (from pyspark) (0.10.9.7)\r\n",
      "Building wheels for collected packages: pyspark\r\n",
      "  Building wheel for pyspark (setup.py) ... \u001b[?25l-\b \b\\\b \b|\b \bdone\r\n",
      "\u001b[?25h  Created wheel for pyspark: filename=pyspark-3.5.0-py2.py3-none-any.whl size=317425350 sha256=f9f806ed55dd70e7c32d696aafd1688795ecef346ab36fcd4eb0e50b91919cc6\r\n",
      "  Stored in directory: /root/.cache/pip/wheels/41/4e/10/c2cf2467f71c678cfc8a6b9ac9241e5e44a01940da8fbb17fc\r\n",
      "Successfully built pyspark\r\n",
      "Installing collected packages: pyspark\r\n",
      "Successfully installed pyspark-3.5.0\r\n",
      "Note: you may need to restart the kernel to use updated packages.\n"
     ]
    }
   ],
   "source": [
    "pip install pyspark"
   ]
  },
  {
   "cell_type": "code",
   "execution_count": 2,
   "id": "f3d52b6e",
   "metadata": {
    "execution": {
     "iopub.execute_input": "2024-01-02T21:59:47.504483Z",
     "iopub.status.busy": "2024-01-02T21:59:47.504087Z",
     "iopub.status.idle": "2024-01-02T21:59:52.809605Z",
     "shell.execute_reply": "2024-01-02T21:59:52.808336Z"
    },
    "papermill": {
     "duration": 5.326286,
     "end_time": "2024-01-02T21:59:52.812071",
     "exception": false,
     "start_time": "2024-01-02T21:59:47.485785",
     "status": "completed"
    },
    "tags": []
   },
   "outputs": [
    {
     "name": "stderr",
     "output_type": "stream",
     "text": [
      "Setting default log level to \"WARN\".\n",
      "To adjust logging level use sc.setLogLevel(newLevel). For SparkR, use setLogLevel(newLevel).\n",
      "24/01/02 21:59:51 WARN NativeCodeLoader: Unable to load native-hadoop library for your platform... using builtin-java classes where applicable\n"
     ]
    },
    {
     "data": {
      "text/html": [
       "<style>pre { white-space: pre !important; }</style>"
      ],
      "text/plain": [
       "<IPython.core.display.HTML object>"
      ]
     },
     "metadata": {},
     "output_type": "display_data"
    }
   ],
   "source": [
    "from pyspark import SparkContext\n",
    "from pyspark.sql import SparkSession\n",
    "from IPython.core.display import HTML\n",
    "\n",
    "# Creating the project's SparkSession.\n",
    "spark = SparkSession.builder.appName('NPL').getOrCreate()\n",
    "\n",
    "# Also, modifying the session's log level.\n",
    "log_level = spark.sparkContext.setLogLevel('ERROR')\n",
    "\n",
    "# This tiny config enables us to scroll along the DataFrame's columns.\n",
    "display(HTML(\"<style>pre { white-space: pre !important; }</style>\"))"
   ]
  },
  {
   "cell_type": "markdown",
   "id": "e9e78aa9",
   "metadata": {
    "execution": {
     "iopub.execute_input": "2023-08-15T16:05:33.192895Z",
     "iopub.status.busy": "2023-08-15T16:05:33.192467Z",
     "iopub.status.idle": "2023-08-15T16:05:34.343874Z",
     "shell.execute_reply": "2023-08-15T16:05:34.342739Z",
     "shell.execute_reply.started": "2023-08-15T16:05:33.192858Z"
    },
    "papermill": {
     "duration": 0.016815,
     "end_time": "2024-01-02T21:59:52.844536",
     "exception": false,
     "start_time": "2024-01-02T21:59:52.827721",
     "status": "completed"
    },
    "tags": []
   },
   "source": [
    "<h3 style='font-size:30px;font-style:italic'> Clients Database</h3>\n",
    "<div> \n",
    "    <ul style='font-size:20px'> \n",
    "        <li> \n",
    "            This dataset is comprised of general information about the loans' clients.\n",
    "        </li>    \n",
    "        <li> \n",
    "            A particularity worth noting is that date columns show the negative amount of days since the given event took place. Positive numbers \n",
    "            indicate the number of days since the occurence ceased to exist - as it might happen with unemployed borrowers in the DAYS_EMPLOYED feature.\n",
    "        </li>\n",
    "    </ul>\n",
    "</div>"
   ]
  },
  {
   "cell_type": "code",
   "execution_count": 3,
   "id": "8bf8f7c1",
   "metadata": {
    "execution": {
     "iopub.execute_input": "2024-01-02T21:59:52.878781Z",
     "iopub.status.busy": "2024-01-02T21:59:52.878267Z",
     "iopub.status.idle": "2024-01-02T21:59:58.826365Z",
     "shell.execute_reply": "2024-01-02T21:59:58.825410Z"
    },
    "papermill": {
     "duration": 5.967847,
     "end_time": "2024-01-02T21:59:58.828986",
     "exception": false,
     "start_time": "2024-01-02T21:59:52.861139",
     "status": "completed"
    },
    "tags": []
   },
   "outputs": [
    {
     "name": "stderr",
     "output_type": "stream",
     "text": [
      "                                                                                \r"
     ]
    },
    {
     "name": "stdout",
     "output_type": "stream",
     "text": [
      "+-------+-----------+------------+---------------+------------+----------------+--------------------+--------------------+--------------------+-----------------+----------+-------------+----------+---------------+----------+----------+---------------+---------------+\n",
      "|     ID|CODE_GENDER|FLAG_OWN_CAR|FLAG_OWN_REALTY|CNT_CHILDREN|AMT_INCOME_TOTAL|    NAME_INCOME_TYPE| NAME_EDUCATION_TYPE|  NAME_FAMILY_STATUS|NAME_HOUSING_TYPE|DAYS_BIRTH|DAYS_EMPLOYED|FLAG_MOBIL|FLAG_WORK_PHONE|FLAG_PHONE|FLAG_EMAIL|OCCUPATION_TYPE|CNT_FAM_MEMBERS|\n",
      "+-------+-----------+------------+---------------+------------+----------------+--------------------+--------------------+--------------------+-----------------+----------+-------------+----------+---------------+----------+----------+---------------+---------------+\n",
      "|5008804|          M|           Y|              Y|           0|        427500.0|             Working|    Higher education|      Civil marriage| Rented apartment|    -12005|        -4542|         1|              1|         0|         0|           NULL|            2.0|\n",
      "|5008805|          M|           Y|              Y|           0|        427500.0|             Working|    Higher education|      Civil marriage| Rented apartment|    -12005|        -4542|         1|              1|         0|         0|           NULL|            2.0|\n",
      "|5008806|          M|           Y|              Y|           0|        112500.0|             Working|Secondary / secon...|             Married|House / apartment|    -21474|        -1134|         1|              0|         0|         0| Security staff|            2.0|\n",
      "|5008808|          F|           N|              Y|           0|        270000.0|Commercial associate|Secondary / secon...|Single / not married|House / apartment|    -19110|        -3051|         1|              0|         1|         1|    Sales staff|            1.0|\n",
      "|5008809|          F|           N|              Y|           0|        270000.0|Commercial associate|Secondary / secon...|Single / not married|House / apartment|    -19110|        -3051|         1|              0|         1|         1|    Sales staff|            1.0|\n",
      "+-------+-----------+------------+---------------+------------+----------------+--------------------+--------------------+--------------------+-----------------+----------+-------------+----------+---------------+----------+----------+---------------+---------------+\n",
      "only showing top 5 rows\n",
      "\n"
     ]
    }
   ],
   "source": [
    "path_clients = '/kaggle/input/credit-card-approval-prediction/application_record.csv'\n",
    "\n",
    "# Defining the data types from the clients dataset.\n",
    "schema_clients = '''\n",
    "`ID` STRING, `CODE_GENDER` STRING, `FLAG_OWN_CAR` STRING, `FLAG_OWN_REALTY` STRING, `CNT_CHILDREN` INT,\n",
    "`AMT_INCOME_TOTAL` FLOAT, `NAME_INCOME_TYPE` STRING, `NAME_EDUCATION_TYPE` STRING, `NAME_FAMILY_STATUS` STRING, `NAME_HOUSING_TYPE` STRING,\n",
    "`DAYS_BIRTH` INT, `DAYS_EMPLOYED` INT, `FLAG_MOBIL` STRING, `FLAG_WORK_PHONE` STRING, `FLAG_PHONE` STRING, `FLAG_EMAIL` STRING, \n",
    "`OCCUPATION_TYPE` STRING, `CNT_FAM_MEMBERS` DOUBLE\n",
    "'''\n",
    "\n",
    "# Reading the database with the created schema.\n",
    "df_clients = spark.read.csv(path_clients, header=True, schema=schema_clients)\n",
    "df_clients.show(5)"
   ]
  },
  {
   "cell_type": "markdown",
   "id": "68664350",
   "metadata": {
    "papermill": {
     "duration": 0.022491,
     "end_time": "2024-01-02T21:59:58.874800",
     "exception": false,
     "start_time": "2024-01-02T21:59:58.852309",
     "status": "completed"
    },
    "tags": []
   },
   "source": [
    "<h4 style='font-size:30px;font-style:italic;text-decoration:underline'> Duplicates Disclaimer</h4>\n",
    "<div> \n",
    "    <ul style='font-size:20px'> \n",
    "        <li> \n",
    "             Clients may not have unique rows in the dataset because the ID column identifies a contracted loan instead of a person.\n",
    "        </li>\n",
    "        <li> \n",
    "            Thus, I've found convenient for the project to create an ID column that assigns a code for each of the clients.\n",
    "        </li>\n",
    "    </ul>\n",
    "</div>"
   ]
  },
  {
   "cell_type": "code",
   "execution_count": 4,
   "id": "c078162d",
   "metadata": {
    "execution": {
     "iopub.execute_input": "2024-01-02T21:59:58.914241Z",
     "iopub.status.busy": "2024-01-02T21:59:58.913941Z",
     "iopub.status.idle": "2024-01-02T22:00:02.253786Z",
     "shell.execute_reply": "2024-01-02T22:00:02.252798Z"
    },
    "papermill": {
     "duration": 3.363533,
     "end_time": "2024-01-02T22:00:02.259509",
     "exception": false,
     "start_time": "2024-01-02T21:59:58.895976",
     "status": "completed"
    },
    "tags": []
   },
   "outputs": [
    {
     "name": "stderr",
     "output_type": "stream",
     "text": [
      "[Stage 1:>                                                          (0 + 4) / 4]\r"
     ]
    },
    {
     "name": "stdout",
     "output_type": "stream",
     "text": [
      "+-------+-----+\n",
      "|     ID|count|\n",
      "+-------+-----+\n",
      "|7742298|    2|\n",
      "|7174719|    2|\n",
      "|7091721|    2|\n",
      "|7089090|    2|\n",
      "|7022197|    2|\n",
      "+-------+-----+\n",
      "only showing top 5 rows\n",
      "\n"
     ]
    },
    {
     "name": "stderr",
     "output_type": "stream",
     "text": [
      "                                                                                \r"
     ]
    }
   ],
   "source": [
    "# Another issue unnoticed by the Data Engineers is that the database contains repeated Loan ID's.\n",
    "from pyspark.sql.functions import max as ps_max\n",
    "\n",
    "# Observe that there are Loans mentioned two times. It would be proper to disconsider them. \n",
    "data_duplicate_id = (df_clients\n",
    "                     .groupBy('ID')\n",
    "                     .count()\n",
    "                     .filter('`count`>1')\n",
    "                            )\n",
    "data_duplicate_id.show(5)"
   ]
  },
  {
   "cell_type": "code",
   "execution_count": 5,
   "id": "22ee335e",
   "metadata": {
    "execution": {
     "iopub.execute_input": "2024-01-02T22:00:02.318017Z",
     "iopub.status.busy": "2024-01-02T22:00:02.317562Z",
     "iopub.status.idle": "2024-01-02T22:00:04.615127Z",
     "shell.execute_reply": "2024-01-02T22:00:04.614212Z"
    },
    "papermill": {
     "duration": 2.330865,
     "end_time": "2024-01-02T22:00:04.617930",
     "exception": false,
     "start_time": "2024-01-02T22:00:02.287065",
     "status": "completed"
    },
    "tags": []
   },
   "outputs": [
    {
     "name": "stderr",
     "output_type": "stream",
     "text": [
      "[Stage 5:===================>                                       (1 + 2) / 3]\r"
     ]
    },
    {
     "name": "stdout",
     "output_type": "stream",
     "text": [
      "+-------+-----------+------------+---------------+------------+----------------+----------------+--------------------+------------------+-----------------+----------+-------------+----------+---------------+----------+----------+---------------+---------------+\n",
      "|     ID|CODE_GENDER|FLAG_OWN_CAR|FLAG_OWN_REALTY|CNT_CHILDREN|AMT_INCOME_TOTAL|NAME_INCOME_TYPE| NAME_EDUCATION_TYPE|NAME_FAMILY_STATUS|NAME_HOUSING_TYPE|DAYS_BIRTH|DAYS_EMPLOYED|FLAG_MOBIL|FLAG_WORK_PHONE|FLAG_PHONE|FLAG_EMAIL|OCCUPATION_TYPE|CNT_FAM_MEMBERS|\n",
      "+-------+-----------+------------+---------------+------------+----------------+----------------+--------------------+------------------+-----------------+----------+-------------+----------+---------------+----------+----------+---------------+---------------+\n",
      "|7742298|          F|           N|              Y|           0|        144000.0|         Working|Secondary / secon...|             Widow|House / apartment|    -20626|        -1455|         1|              0|         0|         0|  Cooking staff|            1.0|\n",
      "|7742298|          M|           N|              N|           0|        112500.0|         Working|Secondary / secon...|           Married|House / apartment|    -18239|        -5428|         1|              1|         0|         0|           NULL|            2.0|\n",
      "+-------+-----------+------------+---------------+------------+----------------+----------------+--------------------+------------------+-----------------+----------+-------------+----------+---------------+----------+----------+---------------+---------------+\n",
      "\n"
     ]
    },
    {
     "name": "stderr",
     "output_type": "stream",
     "text": [
      "                                                                                \r"
     ]
    }
   ],
   "source": [
    "# If we take a peek on the first mentioned ID, we can notice that the presented loan actually is assigned to two different people!\n",
    "\n",
    "# Thus, the presence of such deals is potentially harmful for our model. It would be sensible to discard such ID's from the database.\n",
    "df_clients.filter('`ID`==7742298').show()"
   ]
  },
  {
   "cell_type": "code",
   "execution_count": 6,
   "id": "ef3ece0a",
   "metadata": {
    "execution": {
     "iopub.execute_input": "2024-01-02T22:00:04.665390Z",
     "iopub.status.busy": "2024-01-02T22:00:04.665077Z",
     "iopub.status.idle": "2024-01-02T22:00:04.767757Z",
     "shell.execute_reply": "2024-01-02T22:00:04.766744Z"
    },
    "papermill": {
     "duration": 0.129132,
     "end_time": "2024-01-02T22:00:04.771211",
     "exception": false,
     "start_time": "2024-01-02T22:00:04.642079",
     "status": "completed"
    },
    "tags": []
   },
   "outputs": [],
   "source": [
    "# Dropping out the problematic loans.\n",
    "df_clients = data_duplicate_id.join(df_clients, how='right', on='ID').where('`count` IS NULL').drop('count')"
   ]
  },
  {
   "cell_type": "code",
   "execution_count": 7,
   "id": "21f64816",
   "metadata": {
    "execution": {
     "iopub.execute_input": "2024-01-02T22:00:04.828251Z",
     "iopub.status.busy": "2024-01-02T22:00:04.827595Z",
     "iopub.status.idle": "2024-01-02T22:00:04.865445Z",
     "shell.execute_reply": "2024-01-02T22:00:04.864573Z"
    },
    "papermill": {
     "duration": 0.068019,
     "end_time": "2024-01-02T22:00:04.867977",
     "exception": false,
     "start_time": "2024-01-02T22:00:04.799958",
     "status": "completed"
    },
    "tags": []
   },
   "outputs": [
    {
     "data": {
      "text/plain": [
       "['CODE_GENDER',\n",
       " 'FLAG_OWN_CAR',\n",
       " 'FLAG_OWN_REALTY',\n",
       " 'CNT_CHILDREN',\n",
       " 'AMT_INCOME_TOTAL',\n",
       " 'NAME_INCOME_TYPE',\n",
       " 'NAME_EDUCATION_TYPE',\n",
       " 'NAME_FAMILY_STATUS',\n",
       " 'NAME_HOUSING_TYPE',\n",
       " 'DAYS_BIRTH',\n",
       " 'DAYS_EMPLOYED',\n",
       " 'FLAG_MOBIL',\n",
       " 'FLAG_WORK_PHONE',\n",
       " 'FLAG_PHONE',\n",
       " 'FLAG_EMAIL',\n",
       " 'OCCUPATION_TYPE',\n",
       " 'CNT_FAM_MEMBERS']"
      ]
     },
     "execution_count": 7,
     "metadata": {},
     "output_type": "execute_result"
    }
   ],
   "source": [
    "# Listing the `df_clients` features with the exception of ID.\n",
    "features_clients = df_clients.columns\n",
    "features_clients.remove('ID')\n",
    "features_clients"
   ]
  },
  {
   "cell_type": "code",
   "execution_count": 8,
   "id": "179ed4e8",
   "metadata": {
    "execution": {
     "iopub.execute_input": "2024-01-02T22:00:04.997405Z",
     "iopub.status.busy": "2024-01-02T22:00:04.996108Z",
     "iopub.status.idle": "2024-01-02T22:00:11.437174Z",
     "shell.execute_reply": "2024-01-02T22:00:11.436314Z"
    },
    "papermill": {
     "duration": 6.471649,
     "end_time": "2024-01-02T22:00:11.441613",
     "exception": false,
     "start_time": "2024-01-02T22:00:04.969964",
     "status": "completed"
    },
    "tags": []
   },
   "outputs": [
    {
     "name": "stderr",
     "output_type": "stream",
     "text": [
      "                                                                                \r"
     ]
    },
    {
     "name": "stdout",
     "output_type": "stream",
     "text": [
      "`df_clients` length: 438463\n"
     ]
    },
    {
     "name": "stderr",
     "output_type": "stream",
     "text": [
      "[Stage 15:>                                                         (0 + 4) / 4]\r"
     ]
    },
    {
     "name": "stdout",
     "output_type": "stream",
     "text": [
      "Number of clients: 90084\n"
     ]
    },
    {
     "name": "stderr",
     "output_type": "stream",
     "text": [
      "                                                                                \r"
     ]
    }
   ],
   "source": [
    "# Now, getting back to the Client's ID issue, I'd like to present a brief analysis on it.\n",
    "# Note that the database's actual amount of clients is lower than its number of rows. \n",
    "data_clients = df_clients.dropDuplicates(features_clients) \n",
    "print(f'`df_clients` length: {df_clients.count()}')\n",
    "print(f'Number of clients: {data_clients.count()}')"
   ]
  },
  {
   "cell_type": "code",
   "execution_count": 9,
   "id": "173abe1f",
   "metadata": {
    "execution": {
     "iopub.execute_input": "2024-01-02T22:00:11.488268Z",
     "iopub.status.busy": "2024-01-02T22:00:11.487933Z",
     "iopub.status.idle": "2024-01-02T22:00:11.628953Z",
     "shell.execute_reply": "2024-01-02T22:00:11.628129Z"
    },
    "papermill": {
     "duration": 0.167333,
     "end_time": "2024-01-02T22:00:11.631541",
     "exception": false,
     "start_time": "2024-01-02T22:00:11.464208",
     "status": "completed"
    },
    "tags": []
   },
   "outputs": [],
   "source": [
    "# We'll assign an ID for every client mentioned in `df_clients`. \n",
    "from pyspark.sql.functions import cast, row_number\n",
    "from pyspark.sql.types import StringType\n",
    "from pyspark.sql.window import Window\n",
    "\n",
    "window = Window.orderBy(features_clients)\n",
    "row_window = row_number().over(window)\n",
    "\n",
    "# A DataFrame with the clients' data and actual ID.\n",
    "df_id_clients = data_clients.withColumn('ID_CLIENT', row_window.cast(StringType())).drop('ID')"
   ]
  },
  {
   "cell_type": "code",
   "execution_count": 10,
   "id": "fa622e2c",
   "metadata": {
    "execution": {
     "iopub.execute_input": "2024-01-02T22:00:11.673084Z",
     "iopub.status.busy": "2024-01-02T22:00:11.672698Z",
     "iopub.status.idle": "2024-01-02T22:00:20.910345Z",
     "shell.execute_reply": "2024-01-02T22:00:20.909478Z"
    },
    "papermill": {
     "duration": 9.259848,
     "end_time": "2024-01-02T22:00:20.912870",
     "exception": false,
     "start_time": "2024-01-02T22:00:11.653022",
     "status": "completed"
    },
    "tags": []
   },
   "outputs": [
    {
     "name": "stderr",
     "output_type": "stream",
     "text": [
      "[Stage 35:>                                                         (0 + 1) / 1]\r"
     ]
    },
    {
     "name": "stdout",
     "output_type": "stream",
     "text": [
      "+-------+-----------+------------+---------------+------------+----------------+----------------+--------------------+------------------+-----------------+----------+-------------+----------+---------------+----------+----------+---------------+---------------+---------+\n",
      "|     ID|CODE_GENDER|FLAG_OWN_CAR|FLAG_OWN_REALTY|CNT_CHILDREN|AMT_INCOME_TOTAL|NAME_INCOME_TYPE| NAME_EDUCATION_TYPE|NAME_FAMILY_STATUS|NAME_HOUSING_TYPE|DAYS_BIRTH|DAYS_EMPLOYED|FLAG_MOBIL|FLAG_WORK_PHONE|FLAG_PHONE|FLAG_EMAIL|OCCUPATION_TYPE|CNT_FAM_MEMBERS|ID_CLIENT|\n",
      "+-------+-----------+------------+---------------+------------+----------------+----------------+--------------------+------------------+-----------------+----------+-------------+----------+---------------+----------+----------+---------------+---------------+---------+\n",
      "|5996382|          F|           N|              N|           0|         28800.0|       Pensioner|Secondary / secon...|           Married|House / apartment|    -20298|       365243|         1|              0|         1|         0|           NULL|            2.0|        7|\n",
      "|5996383|          F|           N|              N|           0|         28800.0|       Pensioner|Secondary / secon...|           Married|House / apartment|    -20298|       365243|         1|              0|         1|         0|           NULL|            2.0|        7|\n",
      "|5996384|          F|           N|              N|           0|         28800.0|       Pensioner|Secondary / secon...|           Married|House / apartment|    -20298|       365243|         1|              0|         1|         0|           NULL|            2.0|        7|\n",
      "|6499066|          F|           N|              N|           0|         29133.0|       Pensioner|Secondary / secon...|           Married|House / apartment|    -20945|       365243|         1|              0|         1|         0|           NULL|            2.0|        8|\n",
      "|6499067|          F|           N|              N|           0|         29133.0|       Pensioner|Secondary / secon...|           Married|House / apartment|    -20945|       365243|         1|              0|         1|         0|           NULL|            2.0|        8|\n",
      "+-------+-----------+------------+---------------+------------+----------------+----------------+--------------------+------------------+-----------------+----------+-------------+----------+---------------+----------+----------+---------------+---------------+---------+\n",
      "only showing top 5 rows\n",
      "\n"
     ]
    },
    {
     "name": "stderr",
     "output_type": "stream",
     "text": [
      "                                                                                \r"
     ]
    }
   ],
   "source": [
    "# We'll need to perform Null Safe JOIN's, since columns such as 'OCCUPATION_TYPE' contain null values.\n",
    "from functools import reduce\n",
    "\n",
    "# Creating the multiple null safe JOIN's condition.\n",
    "condition_id_client = reduce(lambda x,y: x&y, [df_clients[col].eqNullSafe(df_id_clients[col]) for col in features_clients])\n",
    "columns_join_id = ['df_clients.*', 'df_id_clients.ID_CLIENT'] # Listing the JOIN columns.\n",
    "\n",
    "# Consolidating the final clients database.\n",
    "df_clients = (df_clients.alias('df_clients') # Resorting to aliases for both DataFrames present columns with same names.\n",
    "                 .join(df_id_clients.alias('df_id_clients'), condition_id_client)\n",
    "                 .select(columns_join_id))\n",
    "df_clients.show(5)"
   ]
  },
  {
   "cell_type": "markdown",
   "id": "83b0b57e",
   "metadata": {
    "execution": {
     "iopub.execute_input": "2023-08-15T16:05:33.192895Z",
     "iopub.status.busy": "2023-08-15T16:05:33.192467Z",
     "iopub.status.idle": "2023-08-15T16:05:34.343874Z",
     "shell.execute_reply": "2023-08-15T16:05:34.342739Z",
     "shell.execute_reply.started": "2023-08-15T16:05:33.192858Z"
    },
    "papermill": {
     "duration": 0.024686,
     "end_time": "2024-01-02T22:00:20.965292",
     "exception": false,
     "start_time": "2024-01-02T22:00:20.940606",
     "status": "completed"
    },
    "tags": []
   },
   "source": [
    "<h3 style='font-size:30px;font-style:italic'> Loans Database</h3>\n",
    "<div> \n",
    "    <ul style='font-size:20px'> \n",
    "        <li> \n",
    "            This table contains the payments records for every loan since its contraction. \n",
    "        </li>\n",
    "        <li> \n",
    "            But in order to the dataset be adequate to our project's intent, two transformations are necessary: first, we need to bring the `ID_CLIENT`\n",
    "            column to it and after that, group the database so that it denounces individuals who've produced an NPL at least once.            \n",
    "        </li>\n",
    "    </ul>\n",
    "</div>"
   ]
  },
  {
   "cell_type": "code",
   "execution_count": 11,
   "id": "521aca20",
   "metadata": {
    "execution": {
     "iopub.execute_input": "2024-01-02T22:00:21.006171Z",
     "iopub.status.busy": "2024-01-02T22:00:21.005783Z",
     "iopub.status.idle": "2024-01-02T22:00:21.144546Z",
     "shell.execute_reply": "2024-01-02T22:00:21.143627Z"
    },
    "papermill": {
     "duration": 0.158986,
     "end_time": "2024-01-02T22:00:21.146728",
     "exception": false,
     "start_time": "2024-01-02T22:00:20.987742",
     "status": "completed"
    },
    "tags": []
   },
   "outputs": [
    {
     "name": "stdout",
     "output_type": "stream",
     "text": [
      "+-------+--------------+------+\n",
      "|     ID|MONTHS_BALANCE|STATUS|\n",
      "+-------+--------------+------+\n",
      "|5001711|             0|     X|\n",
      "|5001711|            -1|     0|\n",
      "|5001711|            -2|     0|\n",
      "|5001711|            -3|     0|\n",
      "|5001712|             0|     C|\n",
      "+-------+--------------+------+\n",
      "only showing top 5 rows\n",
      "\n"
     ]
    }
   ],
   "source": [
    "# Bringing the dataset into our notebook.\n",
    "path_loans = '/kaggle/input/credit-card-approval-prediction/credit_record.csv'\n",
    "schema_loans = '`ID` STRING, `MONTHS_BALANCE` INT, `STATUS` STRING'\n",
    "df_loans = spark.read.csv(path_loans, header=True, schema=schema_loans)\n",
    "df_loans.show(5) "
   ]
  },
  {
   "cell_type": "code",
   "execution_count": 12,
   "id": "70a341d4",
   "metadata": {
    "execution": {
     "iopub.execute_input": "2024-01-02T22:00:21.197924Z",
     "iopub.status.busy": "2024-01-02T22:00:21.197530Z",
     "iopub.status.idle": "2024-01-02T22:00:30.714811Z",
     "shell.execute_reply": "2024-01-02T22:00:30.713872Z"
    },
    "papermill": {
     "duration": 9.547347,
     "end_time": "2024-01-02T22:00:30.718386",
     "exception": false,
     "start_time": "2024-01-02T22:00:21.171039",
     "status": "completed"
    },
    "tags": []
   },
   "outputs": [
    {
     "name": "stderr",
     "output_type": "stream",
     "text": [
      "[Stage 52:>                                                         (0 + 4) / 4]\r"
     ]
    },
    {
     "name": "stdout",
     "output_type": "stream",
     "text": [
      "+---------+-------+--------------+------+\n",
      "|ID_CLIENT|     ID|MONTHS_BALANCE|STATUS|\n",
      "+---------+-------+--------------+------+\n",
      "|    34269|5008810|             0|     C|\n",
      "|    34269|5008810|            -1|     C|\n",
      "|    34269|5008810|            -2|     C|\n",
      "|    34269|5008810|            -3|     C|\n",
      "|    34269|5008810|            -4|     C|\n",
      "+---------+-------+--------------+------+\n",
      "only showing top 5 rows\n",
      "\n"
     ]
    },
    {
     "name": "stderr",
     "output_type": "stream",
     "text": [
      "                                                                                \r"
     ]
    }
   ],
   "source": [
    "# Now, providing the loans' client ID.\n",
    "df_loans = df_loans.join(df_clients, ['ID']).select(['ID_CLIENT', 'ID', 'MONTHS_BALANCE', 'STATUS'])\n",
    "df_loans.show(5)"
   ]
  },
  {
   "cell_type": "markdown",
   "id": "8c1a260f",
   "metadata": {
    "papermill": {
     "duration": 0.02666,
     "end_time": "2024-01-02T22:00:30.771591",
     "exception": false,
     "start_time": "2024-01-02T22:00:30.744931",
     "status": "completed"
    },
    "tags": []
   },
   "source": [
    "<h4 style='font-size:30px;font-style:italic;text-decoration:underline'> Conceiving the Target Variable</h4>\n",
    "<div> \n",
    "    <ul style='font-size:20px'> \n",
    "        <li> \n",
    "            The `STATUS` column presents a handful of codes that represent distinct status for a loan's payment. Their definition is as follows:\n",
    "            <table style='font-size:15px;margin-top:20px'> \n",
    "                <tr>\n",
    "                    <th> Code</th>\n",
    "                    <th> Definition</th>\n",
    "                </tr>\n",
    "                <tr> \n",
    "                    <td> C</td>\n",
    "                    <td> Paid off that month</td>\n",
    "                </tr>\n",
    "                <tr> \n",
    "                    <td> 0</td>\n",
    "                    <td> 1-29 days past due</td>\n",
    "                </tr>\n",
    "                <tr> \n",
    "                    <td> 1</td>\n",
    "                    <td> 30-59 days past due </td>\n",
    "                </tr>\n",
    "                <tr> \n",
    "                    <td> 2</td>\n",
    "                    <td> 60-89 days past due </td>\n",
    "                </tr>\n",
    "                <tr> \n",
    "                    <td> 3</td>\n",
    "                    <td> 90-119 days past due </td>\n",
    "                </tr>\n",
    "                <tr> \n",
    "                    <td> 4</td>\n",
    "                    <td> 120-149 days past due </td>\n",
    "                </tr>\n",
    "                <tr> \n",
    "                    <td> 5</td>\n",
    "                    <td> Overdue or bad debts,<p> write-offs for more than 150 days</p> </td>\n",
    "                </tr>\n",
    "                <tr> \n",
    "                    <td> X</td>\n",
    "                    <td> No loan for the month</td>\n",
    "                </tr>\n",
    "            </table>\n",
    "        </li>\n",
    "        <li style='margin-top:20px'> \n",
    "            Observe that in our case only the 3, 4 and 5 codes are of our interest. Thus it would be convenient to create a binary flag that denounces whether \n",
    "            the individual has ever caused an NPL.\n",
    "        </li>\n",
    "    </ul>\n",
    "</div>"
   ]
  },
  {
   "cell_type": "code",
   "execution_count": 13,
   "id": "3710d428",
   "metadata": {
    "execution": {
     "iopub.execute_input": "2024-01-02T22:00:30.829270Z",
     "iopub.status.busy": "2024-01-02T22:00:30.828797Z",
     "iopub.status.idle": "2024-01-02T22:00:31.915979Z",
     "shell.execute_reply": "2024-01-02T22:00:31.914551Z"
    },
    "papermill": {
     "duration": 1.119458,
     "end_time": "2024-01-02T22:00:31.919235",
     "exception": false,
     "start_time": "2024-01-02T22:00:30.799777",
     "status": "completed"
    },
    "tags": []
   },
   "outputs": [],
   "source": [
    "# The dependent variable's conception needs a custom GroupBy that PySpark is unable to perform by itself. Hence, we \n",
    "# are going to resort to pandas in this section.\n",
    "import pandas as pd\n",
    "\n",
    "# Defining the GroupBy's schema.\n",
    "schema_flag_npl = '`ID_CLIENT` STRING, `NPL` STRING'\n",
    "\n",
    "# This lambda expression signs whether a client has ever produced an NPL in the past.\n",
    "lambda_npl = lambda x: '1' if x.STATUS.isin(['3', '4', '5']).any() else '0'\n",
    "\n",
    "def has_npl(df:pd.DataFrame)->pd.DataFrame:\n",
    "    '''\n",
    "        Verifies if a client's  records contain any sort of Non-Performing Loan.\n",
    "        \n",
    "        Parameter\n",
    "        ---------\n",
    "        `df`: pd.DataFrame \n",
    "            The loan records of a certain client.\n",
    "        \n",
    "        Returns\n",
    "        -------\n",
    "        A `pd.DataFrame` with the client's ID and a flag indicating NPL existence in their loan history. \n",
    "    '''\n",
    "    output = df.groupby(['ID_CLIENT']).apply(lambda_npl) # `lambda_npl` takes care of the flags creation.\n",
    "    output.name = 'NPL' # Setting the flag column's name.\n",
    "    return output.reset_index()\n",
    "\n",
    "# Finally, generating our target-variable.\n",
    "target = df_loans.groupBy('ID_CLIENT').applyInPandas(has_npl, schema_flag_npl)"
   ]
  },
  {
   "cell_type": "markdown",
   "id": "7c23c84b",
   "metadata": {
    "papermill": {
     "duration": 0.024073,
     "end_time": "2024-01-02T22:00:31.971569",
     "exception": false,
     "start_time": "2024-01-02T22:00:31.947496",
     "status": "completed"
    },
    "tags": []
   },
   "source": [
    "<h2 style='font-size:30px'> Consolidating the Data</h2>\n",
    "<div> \n",
    "    <ul style='font-size:20px'> \n",
    "        <li> \n",
    "            With both datasets properly treated, we are able to JOIN them in a single table.\n",
    "        </li>\n",
    "    </ul>\n",
    "</div>"
   ]
  },
  {
   "cell_type": "code",
   "execution_count": 14,
   "id": "82a4ffcc",
   "metadata": {
    "execution": {
     "iopub.execute_input": "2024-01-02T22:00:32.012285Z",
     "iopub.status.busy": "2024-01-02T22:00:32.011751Z",
     "iopub.status.idle": "2024-01-02T22:00:32.076318Z",
     "shell.execute_reply": "2024-01-02T22:00:32.074692Z"
    },
    "papermill": {
     "duration": 0.087113,
     "end_time": "2024-01-02T22:00:32.078779",
     "exception": false,
     "start_time": "2024-01-02T22:00:31.991666",
     "status": "completed"
    },
    "tags": []
   },
   "outputs": [],
   "source": [
    "# Finally, enriching the clients information with the NPL flag.\n",
    "df = df_id_clients.join(target, how='inner', on='ID_CLIENT')"
   ]
  },
  {
   "cell_type": "code",
   "execution_count": 15,
   "id": "3d96efb8",
   "metadata": {
    "execution": {
     "iopub.execute_input": "2024-01-02T22:00:32.125685Z",
     "iopub.status.busy": "2024-01-02T22:00:32.125265Z",
     "iopub.status.idle": "2024-01-02T22:00:32.129620Z",
     "shell.execute_reply": "2024-01-02T22:00:32.128742Z"
    },
    "papermill": {
     "duration": 0.030215,
     "end_time": "2024-01-02T22:00:32.131797",
     "exception": false,
     "start_time": "2024-01-02T22:00:32.101582",
     "status": "completed"
    },
    "tags": []
   },
   "outputs": [],
   "source": [
    "#df.write.parquet('/kaggle/input/df-parquet', mode='overwrite')"
   ]
  },
  {
   "cell_type": "markdown",
   "id": "f8b0564d",
   "metadata": {
    "papermill": {
     "duration": 0.019298,
     "end_time": "2024-01-02T22:00:32.171748",
     "exception": false,
     "start_time": "2024-01-02T22:00:32.152450",
     "status": "completed"
    },
    "tags": []
   },
   "source": [
    "<h2 style='font-size:30px'> Dataset Splitting</h2>\n",
    "<div> \n",
    "    <ul style='font-size:20px'> \n",
    "        <li> \n",
    "            With the dataset properly treated, we are able to begin our EDA and model creation. But firstly we have to separate the data in \n",
    "            the training and test tables.\n",
    "        </li>\n",
    "    </ul>\n",
    "</div>"
   ]
  },
  {
   "cell_type": "code",
   "execution_count": 16,
   "id": "a83b6f7e",
   "metadata": {
    "execution": {
     "iopub.execute_input": "2024-01-02T22:00:32.215897Z",
     "iopub.status.busy": "2024-01-02T22:00:32.215505Z",
     "iopub.status.idle": "2024-01-02T22:01:19.464671Z",
     "shell.execute_reply": "2024-01-02T22:01:19.463897Z"
    },
    "papermill": {
     "duration": 47.276479,
     "end_time": "2024-01-02T22:01:19.468147",
     "exception": false,
     "start_time": "2024-01-02T22:00:32.191668",
     "status": "completed"
    },
    "tags": []
   },
   "outputs": [
    {
     "name": "stderr",
     "output_type": "stream",
     "text": [
      "[Stage 132:==========================================>              (3 + 1) / 4]\r"
     ]
    },
    {
     "name": "stdout",
     "output_type": "stream",
     "text": [
      "+---+-----+-------------------+\n",
      "|NPL|count|         proportion|\n",
      "+---+-----+-------------------+\n",
      "|  0| 9509| 0.9774876644736842|\n",
      "|  1|  219|0.02251233552631579|\n",
      "+---+-----+-------------------+\n",
      "\n"
     ]
    },
    {
     "name": "stderr",
     "output_type": "stream",
     "text": [
      "                                                                                \r"
     ]
    }
   ],
   "source": [
    "# As we can see, we are dealing with an unbalanced dataset case. Thus it is interesting to maintain the target value proportions\n",
    "# in both training and test sets.\n",
    "from pyspark.sql.functions import col\n",
    "\n",
    "df.groupBy('NPL').count().withColumn('proportion', col('count')/df.count()).show()"
   ]
  },
  {
   "cell_type": "code",
   "execution_count": 17,
   "id": "e39b86a7",
   "metadata": {
    "execution": {
     "iopub.execute_input": "2024-01-02T22:01:19.521883Z",
     "iopub.status.busy": "2024-01-02T22:01:19.521541Z",
     "iopub.status.idle": "2024-01-02T22:01:19.907076Z",
     "shell.execute_reply": "2024-01-02T22:01:19.905503Z"
    },
    "papermill": {
     "duration": 0.411729,
     "end_time": "2024-01-02T22:01:19.909604",
     "exception": false,
     "start_time": "2024-01-02T22:01:19.497875",
     "status": "completed"
    },
    "tags": []
   },
   "outputs": [],
   "source": [
    "# Creating the training and test sets.\n",
    "train = df.sampleBy('NPL', fractions={'0':.75, '1':.75}, seed=42)\n",
    "test = df.subtract(train)"
   ]
  },
  {
   "cell_type": "code",
   "execution_count": 18,
   "id": "4d638bcb",
   "metadata": {
    "execution": {
     "iopub.execute_input": "2024-01-02T22:01:19.953234Z",
     "iopub.status.busy": "2024-01-02T22:01:19.952891Z",
     "iopub.status.idle": "2024-01-02T22:02:42.136788Z",
     "shell.execute_reply": "2024-01-02T22:02:42.136044Z"
    },
    "papermill": {
     "duration": 82.207417,
     "end_time": "2024-01-02T22:02:42.139015",
     "exception": false,
     "start_time": "2024-01-02T22:01:19.931598",
     "status": "completed"
    },
    "tags": []
   },
   "outputs": [
    {
     "name": "stdout",
     "output_type": "stream",
     "text": [
      "*** TRAIN ***\n"
     ]
    },
    {
     "name": "stderr",
     "output_type": "stream",
     "text": [
      "                                                                                \r"
     ]
    },
    {
     "name": "stdout",
     "output_type": "stream",
     "text": [
      "+---+-----+--------------------+\n",
      "|NPL|count|          proportion|\n",
      "+---+-----+--------------------+\n",
      "|  0| 7205|  0.9785413554257776|\n",
      "|  1|  158|0.021458644574222464|\n",
      "+---+-----+--------------------+\n",
      "\n",
      "*** TEST ***\n"
     ]
    },
    {
     "name": "stderr",
     "output_type": "stream",
     "text": [
      "                                                                                \r"
     ]
    },
    {
     "name": "stdout",
     "output_type": "stream",
     "text": [
      "+---+-----+--------------------+\n",
      "|NPL|count|          proportion|\n",
      "+---+-----+--------------------+\n",
      "|  0| 2308|  0.9800424628450106|\n",
      "|  1|   47|0.019957537154989383|\n",
      "+---+-----+--------------------+\n",
      "\n"
     ]
    }
   ],
   "source": [
    "# Since the class proportions are relatively proximate, we are able to use them in our project.\n",
    "print('*** TRAIN ***')\n",
    "train.groupBy('NPL').count().withColumn('proportion', col('count')/train.count()).show()\n",
    "print('*** TEST ***')\n",
    "test.groupBy('NPL').count().withColumn('proportion', col('count')/test.count()).show()"
   ]
  },
  {
   "cell_type": "code",
   "execution_count": 19,
   "id": "ecaf1ac1",
   "metadata": {
    "execution": {
     "iopub.execute_input": "2024-01-02T22:02:42.204252Z",
     "iopub.status.busy": "2024-01-02T22:02:42.203907Z",
     "iopub.status.idle": "2024-01-02T22:03:26.170595Z",
     "shell.execute_reply": "2024-01-02T22:03:26.169776Z"
    },
    "papermill": {
     "duration": 44.003033,
     "end_time": "2024-01-02T22:03:26.173472",
     "exception": false,
     "start_time": "2024-01-02T22:02:42.170439",
     "status": "completed"
    },
    "tags": []
   },
   "outputs": [
    {
     "name": "stderr",
     "output_type": "stream",
     "text": [
      "                                                                                \r"
     ]
    }
   ],
   "source": [
    "# Saving the datasets in distinct .parquet files.\n",
    "train.write.parquet('/kaggle/working/train.parquet', mode='overwrite')\n",
    "test.write.parquet('/kaggle/working/test.parquet', mode='overwrite')"
   ]
  },
  {
   "cell_type": "markdown",
   "id": "ea21a30e",
   "metadata": {
    "execution": {
     "iopub.execute_input": "2023-08-15T16:05:33.192895Z",
     "iopub.status.busy": "2023-08-15T16:05:33.192467Z",
     "iopub.status.idle": "2023-08-15T16:05:34.343874Z",
     "shell.execute_reply": "2023-08-15T16:05:34.342739Z",
     "shell.execute_reply.started": "2023-08-15T16:05:33.192858Z"
    },
    "papermill": {
     "duration": 0.033456,
     "end_time": "2024-01-02T22:03:26.244016",
     "exception": false,
     "start_time": "2024-01-02T22:03:26.210560",
     "status": "completed"
    },
    "tags": []
   },
   "source": [
    "<h3 style='font-size:30px;font-style:italic'> Defining the Models' Metric</h3>\n",
    "<div> \n",
    "    <ul style='font-size:20px'> \n",
    "        <li> \n",
    "            Providing False Negatives would clearly be more harmful for the bank's equity than False Positives.         \n",
    "        </li>\n",
    "        <li> \n",
    "            Following conversations with the credit analysts, we've ended up defining the case's official metric\n",
    "            as an f-score with $\\beta=4$. So, we are giving to Recall an importance 4x higher than the Precision's.\n",
    "        </li>\n",
    "    </ul>\n",
    "</div>"
   ]
  },
  {
   "cell_type": "markdown",
   "id": "af852d9b",
   "metadata": {
    "papermill": {
     "duration": 0.03667,
     "end_time": "2024-01-02T22:03:26.317970",
     "exception": false,
     "start_time": "2024-01-02T22:03:26.281300",
     "status": "completed"
    },
    "tags": []
   },
   "source": [
    "<h2 style='font-size:30px'> Exploratory Data Analysis</h2>\n",
    "<div> \n",
    "    <ul style='font-size:20px'> \n",
    "        <li> \n",
    "            With the data properly segregated, let's briefly analyze its content and see whether we can spot differences \n",
    "            among the classes. \n",
    "        </li>\n",
    "    </ul>\n",
    "</div>"
   ]
  },
  {
   "cell_type": "code",
   "execution_count": 20,
   "id": "814c3535",
   "metadata": {
    "execution": {
     "iopub.execute_input": "2024-01-02T22:03:26.393179Z",
     "iopub.status.busy": "2024-01-02T22:03:26.392785Z",
     "iopub.status.idle": "2024-01-02T22:03:36.045073Z",
     "shell.execute_reply": "2024-01-02T22:03:36.043535Z"
    },
    "papermill": {
     "duration": 9.692279,
     "end_time": "2024-01-02T22:03:36.047007",
     "exception": false,
     "start_time": "2024-01-02T22:03:26.354728",
     "status": "completed"
    },
    "tags": []
   },
   "outputs": [
    {
     "name": "stdout",
     "output_type": "stream",
     "text": [
      "Requirement already satisfied: pyspark in /opt/conda/lib/python3.10/site-packages (3.5.0)\r\n",
      "Requirement already satisfied: py4j==0.10.9.7 in /opt/conda/lib/python3.10/site-packages (from pyspark) (0.10.9.7)\r\n",
      "Note: you may need to restart the kernel to use updated packages.\n"
     ]
    }
   ],
   "source": [
    "pip install pyspark"
   ]
  },
  {
   "cell_type": "code",
   "execution_count": 21,
   "id": "5e63e8b4",
   "metadata": {
    "execution": {
     "iopub.execute_input": "2024-01-02T22:03:36.101953Z",
     "iopub.status.busy": "2024-01-02T22:03:36.101562Z",
     "iopub.status.idle": "2024-01-02T22:03:36.113093Z",
     "shell.execute_reply": "2024-01-02T22:03:36.111715Z"
    },
    "papermill": {
     "duration": 0.042803,
     "end_time": "2024-01-02T22:03:36.115612",
     "exception": false,
     "start_time": "2024-01-02T22:03:36.072809",
     "status": "completed"
    },
    "tags": []
   },
   "outputs": [
    {
     "data": {
      "text/html": [
       "<style>pre { white-space: pre !important; }</style>"
      ],
      "text/plain": [
       "<IPython.core.display.HTML object>"
      ]
     },
     "metadata": {},
     "output_type": "display_data"
    }
   ],
   "source": [
    "from pyspark import SparkContext\n",
    "from pyspark.sql import SparkSession\n",
    "from IPython.core.display import HTML\n",
    "\n",
    "# Creating the project's SparkSession.\n",
    "spark = SparkSession.builder.appName('NPL').getOrCreate()\n",
    "\n",
    "# Also, modifying the session's log level.\n",
    "log_level = spark.sparkContext.setLogLevel('ERROR')\n",
    "\n",
    "# This tiny config enables us to scroll along the DataFrame's columns.\n",
    "display(HTML(\"<style>pre { white-space: pre !important; }</style>\"))"
   ]
  },
  {
   "cell_type": "code",
   "execution_count": 22,
   "id": "7d21e24c",
   "metadata": {
    "execution": {
     "iopub.execute_input": "2024-01-02T22:03:36.171111Z",
     "iopub.status.busy": "2024-01-02T22:03:36.170548Z",
     "iopub.status.idle": "2024-01-02T22:03:36.566869Z",
     "shell.execute_reply": "2024-01-02T22:03:36.565903Z"
    },
    "papermill": {
     "duration": 0.425785,
     "end_time": "2024-01-02T22:03:36.568672",
     "exception": false,
     "start_time": "2024-01-02T22:03:36.142887",
     "status": "completed"
    },
    "tags": []
   },
   "outputs": [
    {
     "name": "stdout",
     "output_type": "stream",
     "text": [
      "+---------+-----------+------------+---------------+------------+----------------+----------------+--------------------+------------------+-----------------+----------+-------------+----------+---------------+----------+----------+---------------+---------------+---+\n",
      "|ID_CLIENT|CODE_GENDER|FLAG_OWN_CAR|FLAG_OWN_REALTY|CNT_CHILDREN|AMT_INCOME_TOTAL|NAME_INCOME_TYPE| NAME_EDUCATION_TYPE|NAME_FAMILY_STATUS|NAME_HOUSING_TYPE|DAYS_BIRTH|DAYS_EMPLOYED|FLAG_MOBIL|FLAG_WORK_PHONE|FLAG_PHONE|FLAG_EMAIL|OCCUPATION_TYPE|CNT_FAM_MEMBERS|NPL|\n",
      "+---------+-----------+------------+---------------+------------+----------------+----------------+--------------------+------------------+-----------------+----------+-------------+----------+---------------+----------+----------+---------------+---------------+---+\n",
      "|      691|          F|           N|              N|           0|         67500.0|         Working|Secondary / secon...|           Married|House / apartment|    -20075|        -7013|         1|              1|         1|         0|    Sales staff|            2.0|  0|\n",
      "|     3606|          F|           N|              N|           0|        112500.0|         Working|Secondary / secon...|           Married|House / apartment|     -9865|         -196|         1|              1|         0|         0|       Laborers|            2.0|  0|\n",
      "|     4821|          F|           N|              N|           0|        135000.0|   State servant|    Higher education|           Married|House / apartment|    -12490|        -1191|         1|              1|         1|         0|     Core staff|            2.0|  0|\n",
      "|     5925|          F|           N|              N|           0|        157500.0|       Pensioner|Secondary / secon...|           Married|House / apartment|    -22828|       365243|         1|              0|         0|         0|           NULL|            2.0|  0|\n",
      "|     6194|          F|           N|              N|           0|        157500.0|         Working|   Incomplete higher|           Married|House / apartment|    -16888|        -2687|         1|              0|         0|         0|     Core staff|            2.0|  0|\n",
      "+---------+-----------+------------+---------------+------------+----------------+----------------+--------------------+------------------+-----------------+----------+-------------+----------+---------------+----------+----------+---------------+---------------+---+\n",
      "only showing top 5 rows\n",
      "\n"
     ]
    }
   ],
   "source": [
    "train = spark.read.parquet('/kaggle/input/npl-train/train.parquet/')\n",
    "train.show(5)"
   ]
  },
  {
   "cell_type": "markdown",
   "id": "0f34bc60",
   "metadata": {
    "execution": {
     "iopub.execute_input": "2023-08-15T16:05:33.192895Z",
     "iopub.status.busy": "2023-08-15T16:05:33.192467Z",
     "iopub.status.idle": "2023-08-15T16:05:34.343874Z",
     "shell.execute_reply": "2023-08-15T16:05:34.342739Z",
     "shell.execute_reply.started": "2023-08-15T16:05:33.192858Z"
    },
    "papermill": {
     "duration": 0.024701,
     "end_time": "2024-01-02T22:03:36.619650",
     "exception": false,
     "start_time": "2024-01-02T22:03:36.594949",
     "status": "completed"
    },
    "tags": []
   },
   "source": [
    "<h3 style='font-size:30px;font-style:italic'> Assessing the Classes' Incomes</h3>\n",
    "<div> \n",
    "    <ul style='font-size:20px'> \n",
    "        <li> \n",
    "            Let's analyze whether there is any revenue difference between individuals who produced an NPL and those who didn't. \n",
    "        </li>\n",
    "        <li> \n",
    "            Since we are dealing with an continuous outcome from two independent samples, I'll use the z-score formula below to examine the \n",
    "            income differences:\n",
    "            <center style='margin-top:20px'> \n",
    "                    $z=\\frac{\\overline{X}_{1}-\\overline{X}_{2}}{S_{p}\\sqrt{\\frac{1}{n_{1}}+\\frac{1}{n_{2}}}}$ | $S_{p}=\\sqrt{\\frac{(n_{1}-1)s_{1}^{2}+(n_{2}-1)s_{2}^{2}}{n_{1}+n_{2}-2}}$\n",
    "           </center>\n",
    "        </li>\n",
    "    </ul>\n",
    "</div>"
   ]
  },
  {
   "cell_type": "code",
   "execution_count": 23,
   "id": "35046b99",
   "metadata": {
    "execution": {
     "iopub.execute_input": "2024-01-02T22:03:36.672124Z",
     "iopub.status.busy": "2024-01-02T22:03:36.671772Z",
     "iopub.status.idle": "2024-01-02T22:03:36.962707Z",
     "shell.execute_reply": "2024-01-02T22:03:36.961819Z"
    },
    "papermill": {
     "duration": 0.320738,
     "end_time": "2024-01-02T22:03:36.965486",
     "exception": false,
     "start_time": "2024-01-02T22:03:36.644748",
     "status": "completed"
    },
    "tags": []
   },
   "outputs": [
    {
     "name": "stdout",
     "output_type": "stream",
     "text": [
      "+---+------------------------+\n",
      "|NPL|stddev(AMT_INCOME_TOTAL)|\n",
      "+---+------------------------+\n",
      "|  0|        99647.7510722535|\n",
      "|  1|       96639.80531139452|\n",
      "+---+------------------------+\n",
      "\n"
     ]
    }
   ],
   "source": [
    "# The formula above is only valid for samples with similar std's (0.5<s1/s2<2). So we ought to firstly guarantee that the incomes' std's\n",
    "# are in accordance to that rule.\n",
    "df_income_std = train.groupBy('NPL').agg({'AMT_INCOME_TOTAL':'std'})\n",
    "df_income_std.show()"
   ]
  },
  {
   "cell_type": "code",
   "execution_count": 24,
   "id": "ca2b1ca8",
   "metadata": {
    "execution": {
     "iopub.execute_input": "2024-01-02T22:03:37.028426Z",
     "iopub.status.busy": "2024-01-02T22:03:37.028078Z",
     "iopub.status.idle": "2024-01-02T22:03:37.293029Z",
     "shell.execute_reply": "2024-01-02T22:03:37.292186Z"
    },
    "papermill": {
     "duration": 0.296838,
     "end_time": "2024-01-02T22:03:37.295568",
     "exception": false,
     "start_time": "2024-01-02T22:03:36.998730",
     "status": "completed"
    },
    "tags": []
   },
   "outputs": [
    {
     "data": {
      "text/plain": [
       "1.0311253292695148"
      ]
     },
     "execution_count": 24,
     "metadata": {},
     "output_type": "execute_result"
    }
   ],
   "source": [
    "# Because the std ratio is in the desired interval, we can proceed in using the formula.\n",
    "list_std = [row['stddev(AMT_INCOME_TOTAL)'] for row in df_income_std.collect()]\n",
    "list_std[0] / list_std[1]"
   ]
  },
  {
   "cell_type": "code",
   "execution_count": 25,
   "id": "8c09ec6d",
   "metadata": {
    "execution": {
     "iopub.execute_input": "2024-01-02T22:03:37.372715Z",
     "iopub.status.busy": "2024-01-02T22:03:37.371965Z",
     "iopub.status.idle": "2024-01-02T22:03:39.042636Z",
     "shell.execute_reply": "2024-01-02T22:03:39.041851Z"
    },
    "papermill": {
     "duration": 1.712105,
     "end_time": "2024-01-02T22:03:39.044747",
     "exception": false,
     "start_time": "2024-01-02T22:03:37.332642",
     "status": "completed"
    },
    "tags": []
   },
   "outputs": [
    {
     "data": {
      "text/plain": [
       "0.7972574858186637"
      ]
     },
     "execution_count": 25,
     "metadata": {},
     "output_type": "execute_result"
    }
   ],
   "source": [
    "# By setting our alpha=.05, we can see that there is no statistical evidence that people with no NPL receive higher incomes\n",
    "# than the other group.\n",
    "from statsmodels.stats.weightstats import ztest\n",
    "\n",
    "zeros = [row['AMT_INCOME_TOTAL'] for row in train.select('AMT_INCOME_TOTAL').where('NPL==0').collect()]\n",
    "ones = [row['AMT_INCOME_TOTAL'] for row in train.select('AMT_INCOME_TOTAL').where('NPL==1').collect()]\n",
    "\n",
    "ztest(zeros, ones, alternative='larger')[1] # Computing our p-value."
   ]
  },
  {
   "cell_type": "markdown",
   "id": "166d2e3b",
   "metadata": {
    "papermill": {
     "duration": 0.03508,
     "end_time": "2024-01-02T22:03:39.115619",
     "exception": false,
     "start_time": "2024-01-02T22:03:39.080539",
     "status": "completed"
    },
    "tags": []
   },
   "source": [
    "<h3 style='font-size:30px;font-style:italic'> Valuable Assets Analysis</h3>\n",
    "<div> \n",
    "    <ul style='font-size:20px'> \n",
    "        <li> \n",
    "            The dataset contains columns representing whether the client possesses real state or a vehicle.\n",
    "        </li>\n",
    "        <li> \n",
    "            We can verify if people that own such properties have lower chance of producing an NPL, because they could sell them if they don't have enough \n",
    "            cash to pay the loans. \n",
    "        </li>\n",
    "    </ul>\n",
    "</div>"
   ]
  },
  {
   "cell_type": "code",
   "execution_count": 26,
   "id": "4234c886",
   "metadata": {
    "execution": {
     "iopub.execute_input": "2024-01-02T22:03:39.187718Z",
     "iopub.status.busy": "2024-01-02T22:03:39.187420Z",
     "iopub.status.idle": "2024-01-02T22:03:39.480959Z",
     "shell.execute_reply": "2024-01-02T22:03:39.480155Z"
    },
    "papermill": {
     "duration": 0.332218,
     "end_time": "2024-01-02T22:03:39.483963",
     "exception": false,
     "start_time": "2024-01-02T22:03:39.151745",
     "status": "completed"
    },
    "tags": []
   },
   "outputs": [
    {
     "name": "stdout",
     "output_type": "stream",
     "text": [
      "+------------+---+\n",
      "|OWN_VALUABLE|NPL|\n",
      "+------------+---+\n",
      "|           0|  0|\n",
      "|           0|  0|\n",
      "|           0|  0|\n",
      "|           0|  0|\n",
      "|           0|  0|\n",
      "+------------+---+\n",
      "only showing top 5 rows\n",
      "\n"
     ]
    }
   ],
   "source": [
    "from pyspark.sql.functions import udf\n",
    "from pyspark.sql.types import StringType\n",
    "\n",
    "@udf(returnType=StringType())\n",
    "def own_valuable(col_car:str, col_realty:str)->str:\n",
    "    '''\n",
    "        Signs whether a client possesses a valuable asset that can be sold for paying their loans.\n",
    "        \n",
    "        Parameters\n",
    "        ----------\n",
    "        `col_car` str\n",
    "            The value of the flag that indicates the ownership of a car.\n",
    "        `col_realty`: str\n",
    "            The value of the flag that indicates the ownership of a real state.\n",
    "            \n",
    "        Returns\n",
    "        -------\n",
    "        A flag indicating the possession of a car or real state (valuable assets). \n",
    "    '''\n",
    "    if (col_car=='Y') or (col_realty=='Y'):\n",
    "        return '1'\n",
    "    return '0'\n",
    "\n",
    "# Creating the DataFrame that will be used for conducting the Hypothesis Test.\n",
    "df_valuable = train.select(own_valuable('FLAG_OWN_CAR', 'FLAG_OWN_REALTY').alias('OWN_VALUABLE'), 'NPL')\n",
    "df_valuable.show(5)"
   ]
  },
  {
   "cell_type": "code",
   "execution_count": 27,
   "id": "b29cf707",
   "metadata": {
    "execution": {
     "iopub.execute_input": "2024-01-02T22:03:39.548189Z",
     "iopub.status.busy": "2024-01-02T22:03:39.547742Z",
     "iopub.status.idle": "2024-01-02T22:03:40.095994Z",
     "shell.execute_reply": "2024-01-02T22:03:40.094552Z"
    },
    "papermill": {
     "duration": 0.58238,
     "end_time": "2024-01-02T22:03:40.098993",
     "exception": false,
     "start_time": "2024-01-02T22:03:39.516613",
     "status": "completed"
    },
    "tags": []
   },
   "outputs": [
    {
     "name": "stdout",
     "output_type": "stream",
     "text": [
      "+---+------------+-----+\n",
      "|NPL|OWN_VALUABLE|count|\n",
      "+---+------------+-----+\n",
      "|  0|           1| 5747|\n",
      "|  1|           1|  126|\n",
      "|  0|           0| 1454|\n",
      "|  1|           0|   46|\n",
      "+---+------------+-----+\n",
      "\n"
     ]
    }
   ],
   "source": [
    "# Counting the amount of who own or not a valuable asset per target.\n",
    "gb_valuable = (df_valuable\n",
    "     .groupBy(['NPL', 'OWN_VALUABLE'])\n",
    "     .count())\n",
    "\n",
    "gb_valuable.show()"
   ]
  },
  {
   "cell_type": "code",
   "execution_count": 28,
   "id": "a2745a5f",
   "metadata": {
    "execution": {
     "iopub.execute_input": "2024-01-02T22:03:40.153385Z",
     "iopub.status.busy": "2024-01-02T22:03:40.153053Z",
     "iopub.status.idle": "2024-01-02T22:03:40.847402Z",
     "shell.execute_reply": "2024-01-02T22:03:40.846550Z"
    },
    "papermill": {
     "duration": 0.724725,
     "end_time": "2024-01-02T22:03:40.850306",
     "exception": false,
     "start_time": "2024-01-02T22:03:40.125581",
     "status": "completed"
    },
    "tags": []
   },
   "outputs": [
    {
     "name": "stdout",
     "output_type": "stream",
     "text": [
      "+---+-----------------------+---------------+------------------+\n",
      "|NPL|INSTANCES_WITH_VALUABLE|TOTAL_INSTANCES| PROP_OWN_VALUABLE|\n",
      "+---+-----------------------+---------------+------------------+\n",
      "|  0|                   5747|           7201|0.7980835995000695|\n",
      "|  1|                    126|            172|0.7325581395348837|\n",
      "+---+-----------------------+---------------+------------------+\n",
      "\n"
     ]
    }
   ],
   "source": [
    "# Now, using `gb_valuable` in order to estimate the proportion of clients with a valuable asset for each target.\n",
    "from pyspark.sql.functions import col\n",
    "from pyspark.sql.functions import sum as ps_sum\n",
    "from pyspark.sql.window import Window\n",
    "\n",
    "window = Window.partitionBy('NPL')\n",
    "\n",
    "# It's noticeable that there is a rough 7% difference between the proportions. But can we regard that as statistically significant? \n",
    "(gb_valuable\n",
    "     .withColumn('TOTAL_INSTANCES', ps_sum(col('count')).over(window)) # Total quantity of instances for each target.\n",
    "     .withColumn('PROP_OWN_VALUABLE', col('count')/ps_sum(col('count')).over(window)) # % of clients who own valuable assets per target.\n",
    "     .withColumnRenamed('count', 'INSTANCES_WITH_VALUABLE') \n",
    "     .where('`OWN_VALUABLE`==1')\n",
    "     .select(['NPL', 'INSTANCES_WITH_VALUABLE', 'TOTAL_INSTANCES', 'PROP_OWN_VALUABLE'])).show()"
   ]
  },
  {
   "cell_type": "code",
   "execution_count": 29,
   "id": "7bcc218c",
   "metadata": {
    "execution": {
     "iopub.execute_input": "2024-01-02T22:03:40.909822Z",
     "iopub.status.busy": "2024-01-02T22:03:40.909488Z",
     "iopub.status.idle": "2024-01-02T22:03:40.935180Z",
     "shell.execute_reply": "2024-01-02T22:03:40.934074Z"
    },
    "papermill": {
     "duration": 0.055492,
     "end_time": "2024-01-02T22:03:40.937282",
     "exception": false,
     "start_time": "2024-01-02T22:03:40.881790",
     "status": "completed"
    },
    "tags": []
   },
   "outputs": [
    {
     "data": {
      "text/plain": [
       "0.033767448873365"
      ]
     },
     "execution_count": 29,
     "metadata": {},
     "output_type": "execute_result"
    }
   ],
   "source": [
    "# H0: People who honor their debts have the same probability of possessing a valuable asset as the clients in default.\n",
    "# H1: People who honor their debts have higher probability of possessing a valuable asset compared to clients in default.\n",
    "\n",
    "# By using the table's data in a Hypothesis Test for proportions, we get a p-value below our significance degree (alpha=.05).\n",
    "\n",
    "# Therefore, we are able to reject H0 and state we possess sufficient information to say that people who have never produced an NPL have a higher\n",
    "# tendency of possessing a valuable asset.\n",
    "\n",
    "from statsmodels.stats.proportion import test_proportions_2indep\n",
    "test_proportions_2indep(5747, 7201, 126, 172, compare='ratio', alternative='larger').pvalue"
   ]
  },
  {
   "cell_type": "code",
   "execution_count": 30,
   "id": "1cb63f30",
   "metadata": {
    "execution": {
     "iopub.execute_input": "2024-01-02T22:03:40.994477Z",
     "iopub.status.busy": "2024-01-02T22:03:40.993110Z",
     "iopub.status.idle": "2024-01-02T22:03:41.004726Z",
     "shell.execute_reply": "2024-01-02T22:03:41.003254Z"
    },
    "papermill": {
     "duration": 0.042223,
     "end_time": "2024-01-02T22:03:41.007159",
     "exception": false,
     "start_time": "2024-01-02T22:03:40.964936",
     "status": "completed"
    },
    "tags": []
   },
   "outputs": [
    {
     "data": {
      "text/plain": [
       "0.15495270778483095"
      ]
     },
     "execution_count": 30,
     "metadata": {},
     "output_type": "execute_result"
    }
   ],
   "source": [
    "# With the difference proved real, let's analyze it with the use of a Cohen's h.\n",
    "from numpy import arcsin, sqrt\n",
    "def cohen_h(p1:float, p2:float)->float:\n",
    "    '''\n",
    "        Computes the Cohen's h coefficient for the difference between two proportions.\n",
    "        \n",
    "        Parameters\n",
    "        ----------\n",
    "        `p1`: float\n",
    "            The first probability.\n",
    "        `p2`: float\n",
    "            The second probability.\n",
    "            \n",
    "        Returns\n",
    "        -------\n",
    "        The Cohen's h coefficient for the given proportions.\n",
    "    '''\n",
    "    phi1 = 2*arcsin(sqrt(p1))\n",
    "    phi2 = 2*arcsin(sqrt(p2))\n",
    "    return phi1-phi2\n",
    "\n",
    "# By observing the returned h, we can conclude that the difference is of a small magnitude, since it is lower than 0.2.\n",
    "cohen_h(0.7980835995000695, 0.7325581395348837)"
   ]
  },
  {
   "cell_type": "markdown",
   "id": "90483fd0",
   "metadata": {
    "papermill": {
     "duration": 0.026663,
     "end_time": "2024-01-02T22:03:41.061606",
     "exception": false,
     "start_time": "2024-01-02T22:03:41.034943",
     "status": "completed"
    },
    "tags": []
   },
   "source": [
    "<h3 style='font-size:30px;font-style:italic'> Employment Impact Analysis</h3>\n",
    "<div> \n",
    "    <ul style='font-size:20px'> \n",
    "        <li> \n",
    "            Finally, it would be interesting if we could verify whether unemployment can impair loan payments.  \n",
    "        </li>\n",
    "    </ul>\n",
    "</div>"
   ]
  },
  {
   "cell_type": "markdown",
   "id": "c83fe58a",
   "metadata": {
    "papermill": {
     "duration": 0.027634,
     "end_time": "2024-01-02T22:03:41.115440",
     "exception": false,
     "start_time": "2024-01-02T22:03:41.087806",
     "status": "completed"
    },
    "tags": []
   },
   "source": [
    "<h4 style='font-size:30px;font-style:italic;text-decoration:underline'> Cleaning up Inconsistent Instances</h4>\n",
    "<div> \n",
    "    <ul style='font-size:20px'> \n",
    "        <li> \n",
    "            The dataset contains individuals who present their OCCUPATION_TYPE value as NULL, although they show up as employed (DAYS_EMPLOYED$\\leq{0}$)\n",
    "        </li>\n",
    "        <li>\n",
    "            In order to they not be regarded as unemployed clients (who also present OCCUPATION_TYPE as NULL), I thought it would be convenient to assign \n",
    "            another category to them.\n",
    "        </li>\n",
    "    </ul>\n",
    "</div>"
   ]
  },
  {
   "cell_type": "code",
   "execution_count": 31,
   "id": "54a596af",
   "metadata": {
    "execution": {
     "iopub.execute_input": "2024-01-02T22:03:41.170490Z",
     "iopub.status.busy": "2024-01-02T22:03:41.170062Z",
     "iopub.status.idle": "2024-01-02T22:03:41.178356Z",
     "shell.execute_reply": "2024-01-02T22:03:41.177067Z"
    },
    "papermill": {
     "duration": 0.038121,
     "end_time": "2024-01-02T22:03:41.180797",
     "exception": false,
     "start_time": "2024-01-02T22:03:41.142676",
     "status": "completed"
    },
    "tags": []
   },
   "outputs": [
    {
     "data": {
      "text/plain": [
       "['ID_CLIENT',\n",
       " 'CODE_GENDER',\n",
       " 'FLAG_OWN_CAR',\n",
       " 'FLAG_OWN_REALTY',\n",
       " 'CNT_CHILDREN',\n",
       " 'AMT_INCOME_TOTAL',\n",
       " 'NAME_INCOME_TYPE',\n",
       " 'NAME_EDUCATION_TYPE',\n",
       " 'NAME_FAMILY_STATUS',\n",
       " 'NAME_HOUSING_TYPE',\n",
       " 'DAYS_BIRTH',\n",
       " 'DAYS_EMPLOYED',\n",
       " 'FLAG_MOBIL',\n",
       " 'FLAG_WORK_PHONE',\n",
       " 'FLAG_PHONE',\n",
       " 'FLAG_EMAIL',\n",
       " 'CNT_FAM_MEMBERS',\n",
       " 'NPL']"
      ]
     },
     "execution_count": 31,
     "metadata": {},
     "output_type": "execute_result"
    }
   ],
   "source": [
    "list_select_occupation = train.columns\n",
    "list_select_occupation.remove('OCCUPATION_TYPE')\n",
    "list_select_occupation"
   ]
  },
  {
   "cell_type": "code",
   "execution_count": 32,
   "id": "13313f9d",
   "metadata": {
    "execution": {
     "iopub.execute_input": "2024-01-02T22:03:41.236186Z",
     "iopub.status.busy": "2024-01-02T22:03:41.235778Z",
     "iopub.status.idle": "2024-01-02T22:03:41.475059Z",
     "shell.execute_reply": "2024-01-02T22:03:41.472564Z"
    },
    "papermill": {
     "duration": 0.269819,
     "end_time": "2024-01-02T22:03:41.477321",
     "exception": false,
     "start_time": "2024-01-02T22:03:41.207502",
     "status": "completed"
    },
    "tags": []
   },
   "outputs": [
    {
     "name": "stdout",
     "output_type": "stream",
     "text": [
      "+--------------------+-------------+----------------------------------------------------+\n",
      "|     OCCUPATION_TYPE|DAYS_EMPLOYED|undefined_occupation(OCCUPATION_TYPE, DAYS_EMPLOYED)|\n",
      "+--------------------+-------------+----------------------------------------------------+\n",
      "|         Sales staff|        -7013|                                         Sales staff|\n",
      "|            Laborers|         -196|                                            Laborers|\n",
      "|          Core staff|        -1191|                                          Core staff|\n",
      "|                NULL|       365243|                                          UNEMPLOYED|\n",
      "|          Core staff|        -2687|                                          Core staff|\n",
      "|         Sales staff|        -1028|                                         Sales staff|\n",
      "|                NULL|       365243|                                          UNEMPLOYED|\n",
      "|                NULL|        -7752|                                           UNDEFINED|\n",
      "|                NULL|       365243|                                          UNEMPLOYED|\n",
      "|                NULL|       365243|                                          UNEMPLOYED|\n",
      "|                NULL|         -720|                                           UNDEFINED|\n",
      "|            Laborers|        -8152|                                            Laborers|\n",
      "|                NULL|       365243|                                          UNEMPLOYED|\n",
      "|      Cleaning staff|        -1128|                                      Cleaning staff|\n",
      "|High skill tech s...|         -689|                                High skill tech s...|\n",
      "|            Laborers|        -3170|                                            Laborers|\n",
      "|         Secretaries|         -433|                                         Secretaries|\n",
      "|                NULL|         -307|                                           UNDEFINED|\n",
      "|                NULL|       365243|                                          UNEMPLOYED|\n",
      "|                NULL|       365243|                                          UNEMPLOYED|\n",
      "+--------------------+-------------+----------------------------------------------------+\n",
      "only showing top 20 rows\n",
      "\n"
     ]
    }
   ],
   "source": [
    "@udf(returnType=StringType())\n",
    "def undefined_occupation(col_occupation:str, col_days_employed:int)->str:\n",
    "    '''\n",
    "        Treats the OCCUPATION_TYPE column, imputing categories according to row's DAYS_EMPLOYED value.\n",
    "    '''\n",
    "    if (col_occupation is None) and (col_days_employed<=0):\n",
    "        return 'UNDEFINED'\n",
    "    if (col_occupation is None) and (col_days_employed>0):\n",
    "        return 'UNEMPLOYED'\n",
    "    return col_occupation\n",
    "\n",
    "train.select(col('OCCUPATION_TYPE'), col('DAYS_EMPLOYED'), undefined_occupation(col('OCCUPATION_TYPE'), col('DAYS_EMPLOYED'))).show()#.groupBy('OCCUPATION_TYPE').count().show()"
   ]
  },
  {
   "cell_type": "code",
   "execution_count": 33,
   "id": "9d8a5ea1",
   "metadata": {
    "execution": {
     "iopub.execute_input": "2024-01-02T22:03:41.540403Z",
     "iopub.status.busy": "2024-01-02T22:03:41.539109Z",
     "iopub.status.idle": "2024-01-02T22:03:41.722472Z",
     "shell.execute_reply": "2024-01-02T22:03:41.721584Z"
    },
    "papermill": {
     "duration": 0.215038,
     "end_time": "2024-01-02T22:03:41.724742",
     "exception": false,
     "start_time": "2024-01-02T22:03:41.509704",
     "status": "completed"
    },
    "tags": []
   },
   "outputs": [
    {
     "name": "stdout",
     "output_type": "stream",
     "text": [
      "+---+-----+\n",
      "|NPL|count|\n",
      "+---+-----+\n",
      "+---+-----+\n",
      "\n"
     ]
    }
   ],
   "source": [
    "train.where('`OCCUPATION_TYPE` IS NOT NULL AND `DAYS_EMPLOYED`>=0').groupBy('NPL').count().show()"
   ]
  },
  {
   "cell_type": "code",
   "execution_count": 34,
   "id": "0634cc65",
   "metadata": {
    "execution": {
     "iopub.execute_input": "2024-01-02T22:03:41.789535Z",
     "iopub.status.busy": "2024-01-02T22:03:41.789175Z",
     "iopub.status.idle": "2024-01-02T22:03:41.999587Z",
     "shell.execute_reply": "2024-01-02T22:03:41.998731Z"
    },
    "papermill": {
     "duration": 0.24104,
     "end_time": "2024-01-02T22:03:42.002341",
     "exception": false,
     "start_time": "2024-01-02T22:03:41.761301",
     "status": "completed"
    },
    "tags": []
   },
   "outputs": [
    {
     "name": "stdout",
     "output_type": "stream",
     "text": [
      "+---+-----+\n",
      "|NPL|count|\n",
      "+---+-----+\n",
      "|  0| 1269|\n",
      "|  1|   31|\n",
      "+---+-----+\n",
      "\n"
     ]
    }
   ],
   "source": [
    "train.where('`OCCUPATION_TYPE` IS NULL AND `DAYS_EMPLOYED`>=0').groupBy('NPL').count().show()"
   ]
  },
  {
   "cell_type": "code",
   "execution_count": 35,
   "id": "ba146024",
   "metadata": {
    "execution": {
     "iopub.execute_input": "2024-01-02T22:03:42.072039Z",
     "iopub.status.busy": "2024-01-02T22:03:42.071733Z",
     "iopub.status.idle": "2024-01-02T22:03:42.271722Z",
     "shell.execute_reply": "2024-01-02T22:03:42.270761Z"
    },
    "papermill": {
     "duration": 0.234406,
     "end_time": "2024-01-02T22:03:42.274009",
     "exception": false,
     "start_time": "2024-01-02T22:03:42.039603",
     "status": "completed"
    },
    "tags": []
   },
   "outputs": [
    {
     "name": "stdout",
     "output_type": "stream",
     "text": [
      "+---+-----+\n",
      "|NPL|count|\n",
      "+---+-----+\n",
      "|  0|  954|\n",
      "|  1|   24|\n",
      "+---+-----+\n",
      "\n"
     ]
    }
   ],
   "source": [
    "train.where('`OCCUPATION_TYPE` IS NULL AND `DAYS_EMPLOYED`<0').groupBy('NPL').count().show()"
   ]
  },
  {
   "cell_type": "markdown",
   "id": "e5cc5e30",
   "metadata": {
    "papermill": {
     "duration": 0.028591,
     "end_time": "2024-01-02T22:03:42.330983",
     "exception": false,
     "start_time": "2024-01-02T22:03:42.302392",
     "status": "completed"
    },
    "tags": []
   },
   "source": [
    "<p style='color:red'> Documentar `undefined_occupation`</p>"
   ]
  },
  {
   "cell_type": "markdown",
   "id": "516f30df",
   "metadata": {
    "papermill": {
     "duration": 0.025975,
     "end_time": "2024-01-02T22:03:42.384100",
     "exception": false,
     "start_time": "2024-01-02T22:03:42.358125",
     "status": "completed"
    },
    "tags": []
   },
   "source": [
    "<p style='color:red'> </p>"
   ]
  }
 ],
 "metadata": {
  "kaggle": {
   "accelerator": "none",
   "dataSources": [
    {
     "datasetId": 426827,
     "sourceId": 1031720,
     "sourceType": "datasetVersion"
    },
    {
     "datasetId": 3941029,
     "sourceId": 6856406,
     "sourceType": "datasetVersion"
    },
    {
     "datasetId": 3950750,
     "sourceId": 6875348,
     "sourceType": "datasetVersion"
    },
    {
     "datasetId": 3950752,
     "sourceId": 6875350,
     "sourceType": "datasetVersion"
    }
   ],
   "dockerImageVersionId": 30558,
   "isGpuEnabled": false,
   "isInternetEnabled": true,
   "language": "python",
   "sourceType": "notebook"
  },
  "kernelspec": {
   "display_name": "Python 3",
   "language": "python",
   "name": "python3"
  },
  "language_info": {
   "codemirror_mode": {
    "name": "ipython",
    "version": 3
   },
   "file_extension": ".py",
   "mimetype": "text/x-python",
   "name": "python",
   "nbconvert_exporter": "python",
   "pygments_lexer": "ipython3",
   "version": "3.10.12"
  },
  "papermill": {
   "default_parameters": {},
   "duration": 283.097388,
   "end_time": "2024-01-02T22:03:45.030347",
   "environment_variables": {},
   "exception": null,
   "input_path": "__notebook__.ipynb",
   "output_path": "__notebook__.ipynb",
   "parameters": {},
   "start_time": "2024-01-02T21:59:01.932959",
   "version": "2.4.0"
  }
 },
 "nbformat": 4,
 "nbformat_minor": 5
}
