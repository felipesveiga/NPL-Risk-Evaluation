{
 "cells": [
  {
   "cell_type": "markdown",
   "id": "01147037",
   "metadata": {
    "papermill": {
     "duration": 0.005005,
     "end_time": "2023-08-25T15:49:11.520914",
     "exception": false,
     "start_time": "2023-08-25T15:49:11.515909",
     "status": "completed"
    },
    "tags": []
   },
   "source": [
    "<h1 style='font-size:40px'> NPL Risk Evaluation Modeling</h1>\n",
    "<div> \n",
    "    <ul style='font-size:20px'> \n",
    "        <li> \n",
    "            This project aims the conceiving of a Machine Learning Model focused on assisting a bank on its credit approval strategy.\n",
    "        </li>\n",
    "        <li> \n",
    "            During the planning meetings, the business team has made two major requests concerning the nature of the model.\n",
    "            <ul style='list-style-type:decimal'> \n",
    "                <li> \n",
    "                    It must be focused on predicting potential NPL's based on a set of clients' information.\n",
    "                </li>\n",
    "                <li> \n",
    "                    The output must be some kind of score suggesting the likelihood of the loan to become non-performing. They are not looking for an incisive \"yes or no\" answer.\n",
    "                </li>\n",
    "            </ul>\n",
    "        </li>\n",
    "    </ul>\n",
    "</div>"
   ]
  },
  {
   "cell_type": "markdown",
   "id": "fb928bb2",
   "metadata": {
    "papermill": {
     "duration": 0.004071,
     "end_time": "2023-08-25T15:49:11.529628",
     "exception": false,
     "start_time": "2023-08-25T15:49:11.525557",
     "status": "completed"
    },
    "tags": []
   },
   "source": [
    "<h2 style='font-size:30px'> Data Importing</h2>\n",
    "<div> \n",
    "    <ul style='font-size:20px'> \n",
    "        <li> \n",
    "            The Data Engineers were able to provide two .csv views from the bank's database. The first one contains general information over the clients \n",
    "            and the second lists the loans they've contracted over some period of time.\n",
    "        </li>\n",
    "    </ul>\n",
    "</div>"
   ]
  },
  {
   "cell_type": "code",
   "execution_count": 1,
   "id": "fcc6743b",
   "metadata": {
    "execution": {
     "iopub.execute_input": "2023-08-25T15:49:11.540456Z",
     "iopub.status.busy": "2023-08-25T15:49:11.539788Z",
     "iopub.status.idle": "2023-08-25T15:50:04.582504Z",
     "shell.execute_reply": "2023-08-25T15:50:04.580725Z"
    },
    "papermill": {
     "duration": 53.051388,
     "end_time": "2023-08-25T15:50:04.585333",
     "exception": false,
     "start_time": "2023-08-25T15:49:11.533945",
     "status": "completed"
    },
    "tags": []
   },
   "outputs": [
    {
     "name": "stdout",
     "output_type": "stream",
     "text": [
      "Collecting pyspark\r\n",
      "  Downloading pyspark-3.4.1.tar.gz (310.8 MB)\r\n",
      "\u001b[2K     \u001b[90m━━━━━━━━━━━━━━━━━━━━━━━━━━━━━━━━━━━━━━━\u001b[0m \u001b[32m310.8/310.8 MB\u001b[0m \u001b[31m3.4 MB/s\u001b[0m eta \u001b[36m0:00:00\u001b[0m\r\n",
      "\u001b[?25h  Preparing metadata (setup.py) ... \u001b[?25l-\b \b\\\b \b|\b \bdone\r\n",
      "\u001b[?25hRequirement already satisfied: py4j==0.10.9.7 in /opt/conda/lib/python3.10/site-packages (from pyspark) (0.10.9.7)\r\n",
      "Building wheels for collected packages: pyspark\r\n",
      "  Building wheel for pyspark (setup.py) ... \u001b[?25l-\b \b\\\b \b|\b \b/\b \b-\b \b\\\b \b|\b \b/\b \b-\b \b\\\b \b|\b \b/\b \b-\b \b\\\b \b|\b \bdone\r\n",
      "\u001b[?25h  Created wheel for pyspark: filename=pyspark-3.4.1-py2.py3-none-any.whl size=311285413 sha256=13d642997aafe8226136e039516e2991015a50fb6d2052ee12ee40ee3eeb42a7\r\n",
      "  Stored in directory: /root/.cache/pip/wheels/0d/77/a3/ff2f74cc9ab41f8f594dabf0579c2a7c6de920d584206e0834\r\n",
      "Successfully built pyspark\r\n",
      "Installing collected packages: pyspark\r\n",
      "Successfully installed pyspark-3.4.1\r\n",
      "Note: you may need to restart the kernel to use updated packages.\n"
     ]
    }
   ],
   "source": [
    "pip install pyspark"
   ]
  },
  {
   "cell_type": "code",
   "execution_count": 2,
   "id": "e5a4ec5a",
   "metadata": {
    "execution": {
     "iopub.execute_input": "2023-08-25T15:50:04.620600Z",
     "iopub.status.busy": "2023-08-25T15:50:04.620162Z",
     "iopub.status.idle": "2023-08-25T15:50:10.794477Z",
     "shell.execute_reply": "2023-08-25T15:50:10.793429Z"
    },
    "papermill": {
     "duration": 6.19521,
     "end_time": "2023-08-25T15:50:10.797089",
     "exception": false,
     "start_time": "2023-08-25T15:50:04.601879",
     "status": "completed"
    },
    "tags": []
   },
   "outputs": [
    {
     "name": "stderr",
     "output_type": "stream",
     "text": [
      "Setting default log level to \"WARN\".\n",
      "To adjust logging level use sc.setLogLevel(newLevel). For SparkR, use setLogLevel(newLevel).\n",
      "23/08/25 15:50:08 WARN NativeCodeLoader: Unable to load native-hadoop library for your platform... using builtin-java classes where applicable\n"
     ]
    },
    {
     "data": {
      "text/html": [
       "<style>pre { white-space: pre !important; }</style>"
      ],
      "text/plain": [
       "<IPython.core.display.HTML object>"
      ]
     },
     "metadata": {},
     "output_type": "display_data"
    }
   ],
   "source": [
    "from pyspark.sql import SparkSession\n",
    "from IPython.core.display import HTML\n",
    "\n",
    "# Creating the project's SparkSession.\n",
    "spark = SparkSession.builder.appName('NPL').getOrCreate()\n",
    "\n",
    "# This tiny config enables us to scroll along the DataFrame's columns.\n",
    "display(HTML(\"<style>pre { white-space: pre !important; }</style>\"))"
   ]
  },
  {
   "cell_type": "markdown",
   "id": "cb944263",
   "metadata": {
    "execution": {
     "iopub.execute_input": "2023-08-15T16:05:33.192895Z",
     "iopub.status.busy": "2023-08-15T16:05:33.192467Z",
     "iopub.status.idle": "2023-08-15T16:05:34.343874Z",
     "shell.execute_reply": "2023-08-15T16:05:34.342739Z",
     "shell.execute_reply.started": "2023-08-15T16:05:33.192858Z"
    },
    "papermill": {
     "duration": 0.016517,
     "end_time": "2023-08-25T15:50:10.832433",
     "exception": false,
     "start_time": "2023-08-25T15:50:10.815916",
     "status": "completed"
    },
    "tags": []
   },
   "source": [
    "<h3 style='font-size:30px;font-style:italic'> Clients Database</h3>\n",
    "<div> \n",
    "    <ul style='font-size:20px'> \n",
    "        <li> \n",
    "            This dataset is comprised of general personal and professional information about the loans' clients.\n",
    "        </li>    \n",
    "        <li> \n",
    "            A particularity worth noting is that date columns show the negative amount of days since the given event took place. Positive numbers \n",
    "            indicate the number of days since the occurence ceased to exist - as it might happen with unemployed borrowers in the DAYS_EMPLOYED feature.\n",
    "        </li>\n",
    "    </ul>\n",
    "</div>"
   ]
  },
  {
   "cell_type": "code",
   "execution_count": 3,
   "id": "56d017f1",
   "metadata": {
    "execution": {
     "iopub.execute_input": "2023-08-25T15:50:10.870557Z",
     "iopub.status.busy": "2023-08-25T15:50:10.869699Z",
     "iopub.status.idle": "2023-08-25T15:50:17.857891Z",
     "shell.execute_reply": "2023-08-25T15:50:17.856754Z"
    },
    "papermill": {
     "duration": 7.011431,
     "end_time": "2023-08-25T15:50:17.862530",
     "exception": false,
     "start_time": "2023-08-25T15:50:10.851099",
     "status": "completed"
    },
    "tags": []
   },
   "outputs": [
    {
     "name": "stdout",
     "output_type": "stream",
     "text": [
      "+-------+-----------+------------+---------------+------------+----------------+--------------------+--------------------+--------------------+-----------------+----------+-------------+----------+---------------+----------+----------+---------------+---------------+\n",
      "|     ID|CODE_GENDER|FLAG_OWN_CAR|FLAG_OWN_REALTY|CNT_CHILDREN|AMT_INCOME_TOTAL|    NAME_INCOME_TYPE| NAME_EDUCATION_TYPE|  NAME_FAMILY_STATUS|NAME_HOUSING_TYPE|DAYS_BIRTH|DAYS_EMPLOYED|FLAG_MOBIL|FLAG_WORK_PHONE|FLAG_PHONE|FLAG_EMAIL|OCCUPATION_TYPE|CNT_FAM_MEMBERS|\n",
      "+-------+-----------+------------+---------------+------------+----------------+--------------------+--------------------+--------------------+-----------------+----------+-------------+----------+---------------+----------+----------+---------------+---------------+\n",
      "|5008804|          M|           Y|              Y|           0|        427500.0|             Working|    Higher education|      Civil marriage| Rented apartment|    -12005|        -4542|         1|              1|         0|         0|           null|            2.0|\n",
      "|5008805|          M|           Y|              Y|           0|        427500.0|             Working|    Higher education|      Civil marriage| Rented apartment|    -12005|        -4542|         1|              1|         0|         0|           null|            2.0|\n",
      "|5008806|          M|           Y|              Y|           0|        112500.0|             Working|Secondary / secon...|             Married|House / apartment|    -21474|        -1134|         1|              0|         0|         0| Security staff|            2.0|\n",
      "|5008808|          F|           N|              Y|           0|        270000.0|Commercial associate|Secondary / secon...|Single / not married|House / apartment|    -19110|        -3051|         1|              0|         1|         1|    Sales staff|            1.0|\n",
      "|5008809|          F|           N|              Y|           0|        270000.0|Commercial associate|Secondary / secon...|Single / not married|House / apartment|    -19110|        -3051|         1|              0|         1|         1|    Sales staff|            1.0|\n",
      "+-------+-----------+------------+---------------+------------+----------------+--------------------+--------------------+--------------------+-----------------+----------+-------------+----------+---------------+----------+----------+---------------+---------------+\n",
      "only showing top 5 rows\n",
      "\n"
     ]
    },
    {
     "name": "stderr",
     "output_type": "stream",
     "text": [
      "                                                                                \r"
     ]
    }
   ],
   "source": [
    "path_clients = '/kaggle/input/credit-card-approval-prediction/application_record.csv'\n",
    "\n",
    "# Defining the data types from the clients dataset.\n",
    "schema_clients = '''\n",
    "`ID` STRING, `CODE_GENDER` STRING, `FLAG_OWN_CAR` STRING, `FLAG_OWN_REALTY` STRING, `CNT_CHILDREN` INT,\n",
    "`AMT_INCOME_TOTAL` FLOAT, `NAME_INCOME_TYPE` STRING, `NAME_EDUCATION_TYPE` STRING, `NAME_FAMILY_STATUS` STRING, `NAME_HOUSING_TYPE` STRING,\n",
    "`DAYS_BIRTH` INT, `DAYS_EMPLOYED` INT, `FLAG_MOBIL` STRING, `FLAG_WORK_PHONE` STRING, `FLAG_PHONE` STRING, `FLAG_EMAIL` STRING, \n",
    "`OCCUPATION_TYPE` STRING, `CNT_FAM_MEMBERS` DOUBLE\n",
    "'''\n",
    "\n",
    "# Reading the database with the created schema.\n",
    "df_clients = spark.read.csv(path_clients, header=True, schema=schema_clients)\n",
    "df_clients.show(5)"
   ]
  },
  {
   "cell_type": "markdown",
   "id": "6d184100",
   "metadata": {
    "papermill": {
     "duration": 0.02408,
     "end_time": "2023-08-25T15:50:17.911658",
     "exception": false,
     "start_time": "2023-08-25T15:50:17.887578",
     "status": "completed"
    },
    "tags": []
   },
   "source": [
    "<h4 style='font-size:30px;font-style:italic;text-decoration:underline'> Duplicates Disclaimer</h4>\n",
    "<div> \n",
    "    <ul style='font-size:20px'> \n",
    "        <li> \n",
    "             Clients may not have unique rows in the dataset because the ID column identifies a loan contracted instead of a person.\n",
    "        </li>\n",
    "        <li> \n",
    "            Thus, I've found convenient for the project to create an ID column that assigns a code for the clients\n",
    "        </li>\n",
    "    </ul>\n",
    "</div>"
   ]
  },
  {
   "cell_type": "code",
   "execution_count": 4,
   "id": "4b4d80ad",
   "metadata": {
    "execution": {
     "iopub.execute_input": "2023-08-25T15:50:17.962798Z",
     "iopub.status.busy": "2023-08-25T15:50:17.962269Z",
     "iopub.status.idle": "2023-08-25T15:50:18.001915Z",
     "shell.execute_reply": "2023-08-25T15:50:18.000751Z"
    },
    "papermill": {
     "duration": 0.068811,
     "end_time": "2023-08-25T15:50:18.004816",
     "exception": false,
     "start_time": "2023-08-25T15:50:17.936005",
     "status": "completed"
    },
    "tags": []
   },
   "outputs": [
    {
     "data": {
      "text/plain": [
       "['CODE_GENDER',\n",
       " 'FLAG_OWN_CAR',\n",
       " 'FLAG_OWN_REALTY',\n",
       " 'CNT_CHILDREN',\n",
       " 'AMT_INCOME_TOTAL',\n",
       " 'NAME_INCOME_TYPE',\n",
       " 'NAME_EDUCATION_TYPE',\n",
       " 'NAME_FAMILY_STATUS',\n",
       " 'NAME_HOUSING_TYPE',\n",
       " 'DAYS_BIRTH',\n",
       " 'DAYS_EMPLOYED',\n",
       " 'FLAG_MOBIL',\n",
       " 'FLAG_WORK_PHONE',\n",
       " 'FLAG_PHONE',\n",
       " 'FLAG_EMAIL',\n",
       " 'OCCUPATION_TYPE',\n",
       " 'CNT_FAM_MEMBERS']"
      ]
     },
     "execution_count": 4,
     "metadata": {},
     "output_type": "execute_result"
    }
   ],
   "source": [
    "# Listing the `df_clients` features with the exception of ID.\n",
    "features_clients = df_clients.columns\n",
    "features_clients.remove('ID')\n",
    "features_clients"
   ]
  },
  {
   "cell_type": "code",
   "execution_count": 5,
   "id": "3392c396",
   "metadata": {
    "execution": {
     "iopub.execute_input": "2023-08-25T15:50:18.055980Z",
     "iopub.status.busy": "2023-08-25T15:50:18.054953Z",
     "iopub.status.idle": "2023-08-25T15:50:23.704776Z",
     "shell.execute_reply": "2023-08-25T15:50:23.703666Z"
    },
    "papermill": {
     "duration": 5.680276,
     "end_time": "2023-08-25T15:50:23.709458",
     "exception": false,
     "start_time": "2023-08-25T15:50:18.029182",
     "status": "completed"
    },
    "tags": []
   },
   "outputs": [
    {
     "name": "stderr",
     "output_type": "stream",
     "text": [
      "                                                                                \r"
     ]
    },
    {
     "name": "stdout",
     "output_type": "stream",
     "text": [
      "`df_clients` length: 438557\n"
     ]
    },
    {
     "name": "stderr",
     "output_type": "stream",
     "text": [
      "[Stage 4:=============================>                             (2 + 2) / 4]\r"
     ]
    },
    {
     "name": "stdout",
     "output_type": "stream",
     "text": [
      "Number of clients: 90085\n"
     ]
    },
    {
     "name": "stderr",
     "output_type": "stream",
     "text": [
      "                                                                                \r"
     ]
    }
   ],
   "source": [
    "# Note that the database's actual amount of clients is lower than its length. \n",
    "print(f'`df_clients` length: {df_clients.count()}')\n",
    "print(f'Number of clients: {df_clients.dropDuplicates(features_clients).count()}')"
   ]
  },
  {
   "cell_type": "markdown",
   "id": "d9af752f",
   "metadata": {
    "execution": {
     "iopub.execute_input": "2023-08-15T16:05:33.192895Z",
     "iopub.status.busy": "2023-08-15T16:05:33.192467Z",
     "iopub.status.idle": "2023-08-15T16:05:34.343874Z",
     "shell.execute_reply": "2023-08-15T16:05:34.342739Z",
     "shell.execute_reply.started": "2023-08-15T16:05:33.192858Z"
    },
    "papermill": {
     "duration": 0.027146,
     "end_time": "2023-08-25T15:50:23.762842",
     "exception": false,
     "start_time": "2023-08-25T15:50:23.735696",
     "status": "completed"
    },
    "tags": []
   },
   "source": [
    "<h3 style='font-size:30px;font-style:italic'> Loans Database</h3>\n",
    "<div> \n",
    "    <ul style='font-size:20px'> \n",
    "        <li> \n",
    "            \n",
    "        </li>\n",
    "    </ul>\n",
    "</div>"
   ]
  },
  {
   "cell_type": "code",
   "execution_count": 6,
   "id": "3d851a86",
   "metadata": {
    "execution": {
     "iopub.execute_input": "2023-08-25T15:50:23.815321Z",
     "iopub.status.busy": "2023-08-25T15:50:23.814768Z",
     "iopub.status.idle": "2023-08-25T15:50:27.454467Z",
     "shell.execute_reply": "2023-08-25T15:50:27.453222Z"
    },
    "papermill": {
     "duration": 3.670059,
     "end_time": "2023-08-25T15:50:27.458113",
     "exception": false,
     "start_time": "2023-08-25T15:50:23.788054",
     "status": "completed"
    },
    "tags": []
   },
   "outputs": [
    {
     "name": "stderr",
     "output_type": "stream",
     "text": [
      "                                                                                \r"
     ]
    },
    {
     "name": "stdout",
     "output_type": "stream",
     "text": [
      "+-------+\n",
      "|     ID|\n",
      "+-------+\n",
      "|5001858|\n",
      "|5002083|\n",
      "|5002574|\n",
      "|5003166|\n",
      "|5003224|\n",
      "|5004169|\n",
      "|5004491|\n",
      "|5004785|\n",
      "|5004980|\n",
      "|5005588|\n",
      "+-------+\n",
      "only showing top 10 rows\n",
      "\n",
      "+-------+--------------+------+\n",
      "|     ID|MONTHS_BALANCE|STATUS|\n",
      "+-------+--------------+------+\n",
      "|5112591|             0|     C|\n",
      "|5112591|            -1|     C|\n",
      "|5112591|            -2|     C|\n",
      "|5112591|            -3|     C|\n",
      "|5112591|            -4|     C|\n",
      "|5112591|            -5|     C|\n",
      "|5112591|            -6|     C|\n",
      "|5112591|            -7|     C|\n",
      "|5112591|            -8|     C|\n",
      "|5112591|            -9|     C|\n",
      "|5112591|           -10|     C|\n",
      "|5112591|           -11|     C|\n",
      "|5112591|           -12|     C|\n",
      "|5112591|           -13|     0|\n",
      "|5112593|             0|     C|\n",
      "|5112593|            -1|     C|\n",
      "|5112593|            -2|     C|\n",
      "|5112593|            -3|     C|\n",
      "|5112593|            -4|     C|\n",
      "|5112593|            -5|     C|\n",
      "|5112593|            -6|     C|\n",
      "|5112593|            -7|     C|\n",
      "|5112593|            -8|     C|\n",
      "|5112593|            -9|     C|\n",
      "|5112593|           -10|     C|\n",
      "|5112593|           -11|     C|\n",
      "|5112593|           -12|     C|\n",
      "|5112593|           -13|     C|\n",
      "|5112593|           -14|     C|\n",
      "|5112593|           -15|     C|\n",
      "|5112593|           -16|     C|\n",
      "|5112593|           -17|     0|\n",
      "|5112593|           -18|     0|\n",
      "|5112593|           -19|     X|\n",
      "|5112593|           -20|     X|\n",
      "|5112593|           -21|     0|\n",
      "|5112593|           -22|     X|\n",
      "|5112593|           -23|     X|\n",
      "|5112593|           -24|     X|\n",
      "|5112593|           -25|     0|\n",
      "|5112593|           -26|     X|\n",
      "|5112593|           -27|     X|\n",
      "|5112593|           -28|     0|\n",
      "|5112593|           -29|     X|\n",
      "|5112593|           -30|     0|\n",
      "|5112593|           -31|     X|\n",
      "|5112593|           -32|     0|\n",
      "|5112593|           -33|     0|\n",
      "|5112593|           -34|     0|\n",
      "|5112593|           -35|     0|\n",
      "|5112593|           -36|     X|\n",
      "|5112593|           -37|     0|\n",
      "|5112593|           -38|     X|\n",
      "|5112593|           -39|     X|\n",
      "|5112593|           -40|     X|\n",
      "+-------+--------------+------+\n",
      "\n"
     ]
    }
   ],
   "source": [
    "# 5001711\n",
    "path_loans = '/kaggle/input/credit-card-approval-prediction/credit_record.csv'\n",
    "schema_loans = '`ID` STRING, `MONTHS_BALANCE` INT, `STATUS` STRING'\n",
    "df_loans = spark.read.csv(path_loans, header=True, schema=schema_loans)\n",
    "(df_loans\n",
    " .select(df_loans.ID)\n",
    ".distinct()\n",
    ").show(10)\n",
    "df_loans.filter((df_loans.ID=='5112591')| (df_loans.ID=='5112593')).show(60)"
   ]
  },
  {
   "cell_type": "markdown",
   "id": "3c56e19e",
   "metadata": {
    "papermill": {
     "duration": 0.026346,
     "end_time": "2023-08-25T15:50:27.511998",
     "exception": false,
     "start_time": "2023-08-25T15:50:27.485652",
     "status": "completed"
    },
    "tags": []
   },
   "source": [
    "<p style='color:red'> Criar ID's de Clientes; Regra de NPL's para clientes</p>"
   ]
  }
 ],
 "metadata": {
  "kernelspec": {
   "display_name": "Python 3",
   "language": "python",
   "name": "python3"
  },
  "language_info": {
   "codemirror_mode": {
    "name": "ipython",
    "version": 3
   },
   "file_extension": ".py",
   "mimetype": "text/x-python",
   "name": "python",
   "nbconvert_exporter": "python",
   "pygments_lexer": "ipython3",
   "version": "3.10.12"
  },
  "papermill": {
   "default_parameters": {},
   "duration": 90.159367,
   "end_time": "2023-08-25T15:50:30.157725",
   "environment_variables": {},
   "exception": null,
   "input_path": "__notebook__.ipynb",
   "output_path": "__notebook__.ipynb",
   "parameters": {},
   "start_time": "2023-08-25T15:48:59.998358",
   "version": "2.4.0"
  }
 },
 "nbformat": 4,
 "nbformat_minor": 5
}
