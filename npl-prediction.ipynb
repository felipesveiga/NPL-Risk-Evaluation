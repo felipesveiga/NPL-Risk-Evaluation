{
 "cells": [
  {
   "cell_type": "markdown",
   "id": "4255e705",
   "metadata": {
    "papermill": {
     "duration": 0.012421,
     "end_time": "2024-02-26T20:32:24.584885",
     "exception": false,
     "start_time": "2024-02-26T20:32:24.572464",
     "status": "completed"
    },
    "tags": []
   },
   "source": [
    "<h1 style='font-size:40px'> NPL Risk Evaluation Modeling</h1>\n",
    "<div style='font-size:20px'> \n",
    "    <ul> \n",
    "        <li> \n",
    "            This project aims the conceiving of a Machine Learning Model focused on assisting a bank on its credit approval strategy.\n",
    "        </li>\n",
    "        <li> \n",
    "            The corporation has been scolded for its recent NPL levels by its shareholders. Thus, the executive team has decided that a more conservative \n",
    "            credit strategy must be adopted for new contracts.\n",
    "        </li>\n",
    "        <li> \n",
    "            During the planning meetings, the business team has made two major requests concerning the nature of the model.\n",
    "            <ul style='list-style-type:decimal'> \n",
    "                <li> \n",
    "                    It must be focused on predicting whether a given client might produce an NPL in the future.\n",
    "                </li>\n",
    "                <li> \n",
    "                    The output must be some kind of score suggesting the likelihood of the event to happen. They are not looking for \n",
    "                    an incisive \"yes or no\" answer.\n",
    "                </li>\n",
    "            </ul>\n",
    "        </li>\n",
    "    </ul>\n",
    "    <p style='margin-left:30px'> <strong> Note:</strong> The bank's NPL definition is any loan which payment is at least 90 days late.</p>\n",
    "</div>"
   ]
  },
  {
   "cell_type": "markdown",
   "id": "4f4c3872",
   "metadata": {
    "papermill": {
     "duration": 0.011445,
     "end_time": "2024-02-26T20:32:24.608268",
     "exception": false,
     "start_time": "2024-02-26T20:32:24.596823",
     "status": "completed"
    },
    "tags": []
   },
   "source": [
    "<h2 style='font-size:30px'> Data Importing</h2>\n",
    "<div> \n",
    "    <ul style='font-size:20px'> \n",
    "        <li> \n",
    "            The Data Engineers were able to provide two .csv views from the bank's database. The first one contains general information over the clients \n",
    "            and the second lists the loans they've contracted over some period of time.\n",
    "        </li>\n",
    "    </ul>\n",
    "</div>"
   ]
  },
  {
   "cell_type": "code",
   "execution_count": 1,
   "id": "92be29f4",
   "metadata": {
    "execution": {
     "iopub.execute_input": "2024-02-26T20:32:24.633830Z",
     "iopub.status.busy": "2024-02-26T20:32:24.633478Z",
     "iopub.status.idle": "2024-02-26T20:33:04.802769Z",
     "shell.execute_reply": "2024-02-26T20:33:04.801972Z"
    },
    "papermill": {
     "duration": 40.184261,
     "end_time": "2024-02-26T20:33:04.804637",
     "exception": false,
     "start_time": "2024-02-26T20:32:24.620376",
     "status": "completed"
    },
    "tags": []
   },
   "outputs": [
    {
     "name": "stdout",
     "output_type": "stream",
     "text": [
      "Collecting pyspark\r\n",
      "  Downloading pyspark-3.5.1.tar.gz (317.0 MB)\r\n",
      "\u001b[2K     \u001b[90m━━━━━━━━━━━━━━━━━━━━━━━━━━━━━━━━━━━━━━━\u001b[0m \u001b[32m317.0/317.0 MB\u001b[0m \u001b[31m3.7 MB/s\u001b[0m eta \u001b[36m0:00:00\u001b[0m\r\n",
      "\u001b[?25h  Preparing metadata (setup.py) ... \u001b[?25l-\b \bdone\r\n",
      "\u001b[?25hRequirement already satisfied: py4j==0.10.9.7 in /opt/conda/lib/python3.10/site-packages (from pyspark) (0.10.9.7)\r\n",
      "Building wheels for collected packages: pyspark\r\n",
      "  Building wheel for pyspark (setup.py) ... \u001b[?25l-\b \b\\\b \b|\b \bdone\r\n",
      "\u001b[?25h  Created wheel for pyspark: filename=pyspark-3.5.1-py2.py3-none-any.whl size=317488497 sha256=37d1cad30f51937efa032e4952a205803bc249728a63e9254e4b0e6283d1ff0f\r\n",
      "  Stored in directory: /root/.cache/pip/wheels/80/1d/60/2c256ed38dddce2fdd93be545214a63e02fbd8d74fb0b7f3a6\r\n",
      "Successfully built pyspark\r\n",
      "Installing collected packages: pyspark\r\n",
      "Successfully installed pyspark-3.5.1\r\n",
      "Note: you may need to restart the kernel to use updated packages.\n"
     ]
    }
   ],
   "source": [
    "pip install pyspark"
   ]
  },
  {
   "cell_type": "code",
   "execution_count": 2,
   "id": "2342e539",
   "metadata": {
    "execution": {
     "iopub.execute_input": "2024-02-26T20:33:04.841968Z",
     "iopub.status.busy": "2024-02-26T20:33:04.841608Z",
     "iopub.status.idle": "2024-02-26T20:33:09.631153Z",
     "shell.execute_reply": "2024-02-26T20:33:09.630038Z"
    },
    "papermill": {
     "duration": 4.811264,
     "end_time": "2024-02-26T20:33:09.633704",
     "exception": false,
     "start_time": "2024-02-26T20:33:04.822440",
     "status": "completed"
    },
    "tags": []
   },
   "outputs": [
    {
     "name": "stderr",
     "output_type": "stream",
     "text": [
      "Setting default log level to \"WARN\".\n",
      "To adjust logging level use sc.setLogLevel(newLevel). For SparkR, use setLogLevel(newLevel).\n",
      "24/02/26 20:33:07 WARN NativeCodeLoader: Unable to load native-hadoop library for your platform... using builtin-java classes where applicable\n"
     ]
    },
    {
     "data": {
      "text/html": [
       "<style>pre { white-space: pre !important; }</style>"
      ],
      "text/plain": [
       "<IPython.core.display.HTML object>"
      ]
     },
     "metadata": {},
     "output_type": "display_data"
    }
   ],
   "source": [
    "from pyspark import SparkContext\n",
    "from pyspark.sql import SparkSession\n",
    "from IPython.core.display import HTML\n",
    "\n",
    "# Creating the project's SparkSession.\n",
    "spark = SparkSession.builder.appName('NPL').getOrCreate()\n",
    "\n",
    "# Also, modifying the session's log level.\n",
    "log_level = spark.sparkContext.setLogLevel('ERROR')\n",
    "\n",
    "# This tiny config enables us to scroll along the DataFrame's columns.\n",
    "display(HTML(\"<style>pre { white-space: pre !important; }</style>\"))"
   ]
  },
  {
   "cell_type": "markdown",
   "id": "827e2015",
   "metadata": {
    "execution": {
     "iopub.execute_input": "2023-08-15T16:05:33.192895Z",
     "iopub.status.busy": "2023-08-15T16:05:33.192467Z",
     "iopub.status.idle": "2023-08-15T16:05:34.343874Z",
     "shell.execute_reply": "2023-08-15T16:05:34.342739Z",
     "shell.execute_reply.started": "2023-08-15T16:05:33.192858Z"
    },
    "papermill": {
     "duration": 0.017788,
     "end_time": "2024-02-26T20:33:09.673291",
     "exception": false,
     "start_time": "2024-02-26T20:33:09.655503",
     "status": "completed"
    },
    "tags": []
   },
   "source": [
    "<h3 style='font-size:30px;font-style:italic'> Clients Database</h3>\n",
    "<div> \n",
    "    <ul style='font-size:20px'> \n",
    "        <li> \n",
    "            This dataset is comprised of general information about the loans' clients.\n",
    "        </li>    \n",
    "        <li> \n",
    "            A particularity worth noting is that date columns show the negative amount of days since the given event took place. Positive numbers \n",
    "            indicate the number of days since the occurence ceased to exist - as it might happen with unemployed borrowers in the DAYS_EMPLOYED feature.\n",
    "        </li>\n",
    "    </ul>\n",
    "</div>"
   ]
  },
  {
   "cell_type": "code",
   "execution_count": 3,
   "id": "2f4d9bcc",
   "metadata": {
    "execution": {
     "iopub.execute_input": "2024-02-26T20:33:09.710876Z",
     "iopub.status.busy": "2024-02-26T20:33:09.710396Z",
     "iopub.status.idle": "2024-02-26T20:33:15.215479Z",
     "shell.execute_reply": "2024-02-26T20:33:15.214042Z"
    },
    "papermill": {
     "duration": 5.526704,
     "end_time": "2024-02-26T20:33:15.218384",
     "exception": false,
     "start_time": "2024-02-26T20:33:09.691680",
     "status": "completed"
    },
    "tags": []
   },
   "outputs": [
    {
     "name": "stderr",
     "output_type": "stream",
     "text": [
      "                                                                                \r"
     ]
    },
    {
     "name": "stdout",
     "output_type": "stream",
     "text": [
      "+-------+-----------+------------+---------------+------------+----------------+--------------------+--------------------+--------------------+-----------------+----------+-------------+----------+---------------+----------+----------+---------------+---------------+\n",
      "|     ID|CODE_GENDER|FLAG_OWN_CAR|FLAG_OWN_REALTY|CNT_CHILDREN|AMT_INCOME_TOTAL|    NAME_INCOME_TYPE| NAME_EDUCATION_TYPE|  NAME_FAMILY_STATUS|NAME_HOUSING_TYPE|DAYS_BIRTH|DAYS_EMPLOYED|FLAG_MOBIL|FLAG_WORK_PHONE|FLAG_PHONE|FLAG_EMAIL|OCCUPATION_TYPE|CNT_FAM_MEMBERS|\n",
      "+-------+-----------+------------+---------------+------------+----------------+--------------------+--------------------+--------------------+-----------------+----------+-------------+----------+---------------+----------+----------+---------------+---------------+\n",
      "|5008804|          M|           Y|              Y|           0|        427500.0|             Working|    Higher education|      Civil marriage| Rented apartment|    -12005|        -4542|         1|              1|         0|         0|           NULL|            2.0|\n",
      "|5008805|          M|           Y|              Y|           0|        427500.0|             Working|    Higher education|      Civil marriage| Rented apartment|    -12005|        -4542|         1|              1|         0|         0|           NULL|            2.0|\n",
      "|5008806|          M|           Y|              Y|           0|        112500.0|             Working|Secondary / secon...|             Married|House / apartment|    -21474|        -1134|         1|              0|         0|         0| Security staff|            2.0|\n",
      "|5008808|          F|           N|              Y|           0|        270000.0|Commercial associate|Secondary / secon...|Single / not married|House / apartment|    -19110|        -3051|         1|              0|         1|         1|    Sales staff|            1.0|\n",
      "|5008809|          F|           N|              Y|           0|        270000.0|Commercial associate|Secondary / secon...|Single / not married|House / apartment|    -19110|        -3051|         1|              0|         1|         1|    Sales staff|            1.0|\n",
      "+-------+-----------+------------+---------------+------------+----------------+--------------------+--------------------+--------------------+-----------------+----------+-------------+----------+---------------+----------+----------+---------------+---------------+\n",
      "only showing top 5 rows\n",
      "\n"
     ]
    }
   ],
   "source": [
    "path_clients = '/kaggle/input/credit-card-approval-prediction/application_record.csv'\n",
    "\n",
    "# Defining the data types from the clients dataset.\n",
    "schema_clients = '''\n",
    "`ID` STRING, `CODE_GENDER` STRING, `FLAG_OWN_CAR` STRING, `FLAG_OWN_REALTY` STRING, `CNT_CHILDREN` INT,\n",
    "`AMT_INCOME_TOTAL` FLOAT, `NAME_INCOME_TYPE` STRING, `NAME_EDUCATION_TYPE` STRING, `NAME_FAMILY_STATUS` STRING, `NAME_HOUSING_TYPE` STRING,\n",
    "`DAYS_BIRTH` INT, `DAYS_EMPLOYED` INT, `FLAG_MOBIL` STRING, `FLAG_WORK_PHONE` STRING, `FLAG_PHONE` STRING, `FLAG_EMAIL` STRING, \n",
    "`OCCUPATION_TYPE` STRING, `CNT_FAM_MEMBERS` DOUBLE\n",
    "'''\n",
    "\n",
    "# Reading the database with the created schema.\n",
    "df_clients = spark.read.csv(path_clients, header=True, schema=schema_clients)\n",
    "df_clients.show(5)"
   ]
  },
  {
   "cell_type": "markdown",
   "id": "106d8c7d",
   "metadata": {
    "papermill": {
     "duration": 0.024559,
     "end_time": "2024-02-26T20:33:15.272006",
     "exception": false,
     "start_time": "2024-02-26T20:33:15.247447",
     "status": "completed"
    },
    "tags": []
   },
   "source": [
    "<h4 style='font-size:30px;font-style:italic;text-decoration:underline'> Duplicates Disclaimer</h4>\n",
    "<div> \n",
    "    <ul style='font-size:20px'> \n",
    "        <li> \n",
    "             Clients may not have unique rows in the dataset because the ID column identifies a contracted loan instead of a person.\n",
    "        </li>\n",
    "        <li> \n",
    "            Thus, I've found convenient for the project to create an ID column that assigns a code for each of the clients.\n",
    "        </li>\n",
    "    </ul>\n",
    "</div>"
   ]
  },
  {
   "cell_type": "code",
   "execution_count": 4,
   "id": "f395db3b",
   "metadata": {
    "execution": {
     "iopub.execute_input": "2024-02-26T20:33:15.312584Z",
     "iopub.status.busy": "2024-02-26T20:33:15.312274Z",
     "iopub.status.idle": "2024-02-26T20:33:18.108497Z",
     "shell.execute_reply": "2024-02-26T20:33:18.107501Z"
    },
    "papermill": {
     "duration": 2.822493,
     "end_time": "2024-02-26T20:33:18.115956",
     "exception": false,
     "start_time": "2024-02-26T20:33:15.293463",
     "status": "completed"
    },
    "tags": []
   },
   "outputs": [
    {
     "name": "stderr",
     "output_type": "stream",
     "text": [
      "[Stage 1:>                                                          (0 + 4) / 4]\r"
     ]
    },
    {
     "name": "stdout",
     "output_type": "stream",
     "text": [
      "+-------+-----+\n",
      "|     ID|count|\n",
      "+-------+-----+\n",
      "|7742298|    2|\n",
      "|7174719|    2|\n",
      "|7091721|    2|\n",
      "|7089090|    2|\n",
      "|7022197|    2|\n",
      "+-------+-----+\n",
      "only showing top 5 rows\n",
      "\n"
     ]
    },
    {
     "name": "stderr",
     "output_type": "stream",
     "text": [
      "                                                                                \r"
     ]
    }
   ],
   "source": [
    "# Another issue unnoticed by the Data Engineers is that the database contains repeated Loan ID's.\n",
    "from pyspark.sql.functions import max as ps_max\n",
    "\n",
    "# Observe that there are Loans mentioned two times. It would be proper to disconsider them. \n",
    "data_duplicate_id = (df_clients\n",
    "                     .groupBy('ID')\n",
    "                     .count()\n",
    "                     .filter('`count`>1')\n",
    "                            )\n",
    "data_duplicate_id.show(5)"
   ]
  },
  {
   "cell_type": "code",
   "execution_count": 5,
   "id": "2ce7a195",
   "metadata": {
    "execution": {
     "iopub.execute_input": "2024-02-26T20:33:18.158690Z",
     "iopub.status.busy": "2024-02-26T20:33:18.158380Z",
     "iopub.status.idle": "2024-02-26T20:33:20.065108Z",
     "shell.execute_reply": "2024-02-26T20:33:20.063604Z"
    },
    "papermill": {
     "duration": 1.928176,
     "end_time": "2024-02-26T20:33:20.067493",
     "exception": false,
     "start_time": "2024-02-26T20:33:18.139317",
     "status": "completed"
    },
    "tags": []
   },
   "outputs": [
    {
     "name": "stderr",
     "output_type": "stream",
     "text": [
      "[Stage 5:===================>                                       (1 + 2) / 3]\r"
     ]
    },
    {
     "name": "stdout",
     "output_type": "stream",
     "text": [
      "+-------+-----------+------------+---------------+------------+----------------+----------------+--------------------+------------------+-----------------+----------+-------------+----------+---------------+----------+----------+---------------+---------------+\n",
      "|     ID|CODE_GENDER|FLAG_OWN_CAR|FLAG_OWN_REALTY|CNT_CHILDREN|AMT_INCOME_TOTAL|NAME_INCOME_TYPE| NAME_EDUCATION_TYPE|NAME_FAMILY_STATUS|NAME_HOUSING_TYPE|DAYS_BIRTH|DAYS_EMPLOYED|FLAG_MOBIL|FLAG_WORK_PHONE|FLAG_PHONE|FLAG_EMAIL|OCCUPATION_TYPE|CNT_FAM_MEMBERS|\n",
      "+-------+-----------+------------+---------------+------------+----------------+----------------+--------------------+------------------+-----------------+----------+-------------+----------+---------------+----------+----------+---------------+---------------+\n",
      "|7742298|          F|           N|              Y|           0|        144000.0|         Working|Secondary / secon...|             Widow|House / apartment|    -20626|        -1455|         1|              0|         0|         0|  Cooking staff|            1.0|\n",
      "|7742298|          M|           N|              N|           0|        112500.0|         Working|Secondary / secon...|           Married|House / apartment|    -18239|        -5428|         1|              1|         0|         0|           NULL|            2.0|\n",
      "+-------+-----------+------------+---------------+------------+----------------+----------------+--------------------+------------------+-----------------+----------+-------------+----------+---------------+----------+----------+---------------+---------------+\n",
      "\n"
     ]
    },
    {
     "name": "stderr",
     "output_type": "stream",
     "text": [
      "                                                                                \r"
     ]
    }
   ],
   "source": [
    "# If we take a peek on the first mentioned ID, we can notice that the presented loan actually is assigned to two different people!\n",
    "\n",
    "# Thus, the presence of such deals is potentially harmful for our model. It would be sensible to discard such ID's from the database.\n",
    "df_clients.filter('`ID`==7742298').show()"
   ]
  },
  {
   "cell_type": "code",
   "execution_count": 6,
   "id": "bba7fcec",
   "metadata": {
    "execution": {
     "iopub.execute_input": "2024-02-26T20:33:20.170471Z",
     "iopub.status.busy": "2024-02-26T20:33:20.170091Z",
     "iopub.status.idle": "2024-02-26T20:33:20.261654Z",
     "shell.execute_reply": "2024-02-26T20:33:20.260644Z"
    },
    "papermill": {
     "duration": 0.176963,
     "end_time": "2024-02-26T20:33:20.264467",
     "exception": false,
     "start_time": "2024-02-26T20:33:20.087504",
     "status": "completed"
    },
    "tags": []
   },
   "outputs": [],
   "source": [
    "# Dropping out the problematic loans.\n",
    "df_clients = data_duplicate_id.join(df_clients, how='right', on='ID').where('`count` IS NULL').drop('count')"
   ]
  },
  {
   "cell_type": "code",
   "execution_count": 7,
   "id": "5c7a3ede",
   "metadata": {
    "execution": {
     "iopub.execute_input": "2024-02-26T20:33:20.325269Z",
     "iopub.status.busy": "2024-02-26T20:33:20.324878Z",
     "iopub.status.idle": "2024-02-26T20:33:20.358350Z",
     "shell.execute_reply": "2024-02-26T20:33:20.357482Z"
    },
    "papermill": {
     "duration": 0.064346,
     "end_time": "2024-02-26T20:33:20.360420",
     "exception": false,
     "start_time": "2024-02-26T20:33:20.296074",
     "status": "completed"
    },
    "tags": []
   },
   "outputs": [
    {
     "data": {
      "text/plain": [
       "['CODE_GENDER',\n",
       " 'FLAG_OWN_CAR',\n",
       " 'FLAG_OWN_REALTY',\n",
       " 'CNT_CHILDREN',\n",
       " 'AMT_INCOME_TOTAL',\n",
       " 'NAME_INCOME_TYPE',\n",
       " 'NAME_EDUCATION_TYPE',\n",
       " 'NAME_FAMILY_STATUS',\n",
       " 'NAME_HOUSING_TYPE',\n",
       " 'DAYS_BIRTH',\n",
       " 'DAYS_EMPLOYED',\n",
       " 'FLAG_MOBIL',\n",
       " 'FLAG_WORK_PHONE',\n",
       " 'FLAG_PHONE',\n",
       " 'FLAG_EMAIL',\n",
       " 'OCCUPATION_TYPE',\n",
       " 'CNT_FAM_MEMBERS']"
      ]
     },
     "execution_count": 7,
     "metadata": {},
     "output_type": "execute_result"
    }
   ],
   "source": [
    "# Listing the `df_clients` features with the exception of ID.\n",
    "features_clients = df_clients.columns\n",
    "features_clients.remove('ID')\n",
    "features_clients"
   ]
  },
  {
   "cell_type": "code",
   "execution_count": 8,
   "id": "3629fb2a",
   "metadata": {
    "execution": {
     "iopub.execute_input": "2024-02-26T20:33:20.417889Z",
     "iopub.status.busy": "2024-02-26T20:33:20.417159Z",
     "iopub.status.idle": "2024-02-26T20:33:26.557098Z",
     "shell.execute_reply": "2024-02-26T20:33:26.555985Z"
    },
    "papermill": {
     "duration": 6.171542,
     "end_time": "2024-02-26T20:33:26.560231",
     "exception": false,
     "start_time": "2024-02-26T20:33:20.388689",
     "status": "completed"
    },
    "tags": []
   },
   "outputs": [
    {
     "name": "stderr",
     "output_type": "stream",
     "text": [
      "                                                                                \r"
     ]
    },
    {
     "name": "stdout",
     "output_type": "stream",
     "text": [
      "`df_clients` length: 438463\n"
     ]
    },
    {
     "name": "stderr",
     "output_type": "stream",
     "text": [
      "[Stage 15:=============================>                            (2 + 2) / 4]\r"
     ]
    },
    {
     "name": "stdout",
     "output_type": "stream",
     "text": [
      "Number of clients: 90084\n"
     ]
    },
    {
     "name": "stderr",
     "output_type": "stream",
     "text": [
      "                                                                                \r"
     ]
    }
   ],
   "source": [
    "# Now, getting back to the Client's ID issue, I'd like to present a brief analysis on it.\n",
    "# Note that the database's actual amount of clients is lower than its number of rows. \n",
    "data_clients = df_clients.dropDuplicates(features_clients) \n",
    "print(f'`df_clients` length: {df_clients.count()}')\n",
    "print(f'Number of clients: {data_clients.count()}')"
   ]
  },
  {
   "cell_type": "code",
   "execution_count": 9,
   "id": "93ca32ee",
   "metadata": {
    "execution": {
     "iopub.execute_input": "2024-02-26T20:33:26.620822Z",
     "iopub.status.busy": "2024-02-26T20:33:26.619723Z",
     "iopub.status.idle": "2024-02-26T20:33:26.779841Z",
     "shell.execute_reply": "2024-02-26T20:33:26.778983Z"
    },
    "papermill": {
     "duration": 0.193006,
     "end_time": "2024-02-26T20:33:26.783026",
     "exception": false,
     "start_time": "2024-02-26T20:33:26.590020",
     "status": "completed"
    },
    "tags": []
   },
   "outputs": [],
   "source": [
    "# We'll assign an ID for every client mentioned in `df_clients`. \n",
    "from pyspark.sql.functions import cast, row_number\n",
    "from pyspark.sql.types import StringType\n",
    "from pyspark.sql.window import Window\n",
    "\n",
    "window = Window.orderBy(features_clients)\n",
    "row_window = row_number().over(window)\n",
    "\n",
    "# A DataFrame with the clients' data and actual ID.\n",
    "df_id_clients = data_clients.withColumn('ID_CLIENT', row_window.cast(StringType())).drop('ID')"
   ]
  },
  {
   "cell_type": "code",
   "execution_count": 10,
   "id": "8f87b79c",
   "metadata": {
    "execution": {
     "iopub.execute_input": "2024-02-26T20:33:26.827058Z",
     "iopub.status.busy": "2024-02-26T20:33:26.826709Z",
     "iopub.status.idle": "2024-02-26T20:33:35.021720Z",
     "shell.execute_reply": "2024-02-26T20:33:35.019298Z"
    },
    "papermill": {
     "duration": 8.218045,
     "end_time": "2024-02-26T20:33:35.024209",
     "exception": false,
     "start_time": "2024-02-26T20:33:26.806164",
     "status": "completed"
    },
    "tags": []
   },
   "outputs": [
    {
     "name": "stderr",
     "output_type": "stream",
     "text": [
      "[Stage 35:>                                                         (0 + 1) / 1]\r"
     ]
    },
    {
     "name": "stdout",
     "output_type": "stream",
     "text": [
      "+-------+-----------+------------+---------------+------------+----------------+----------------+--------------------+------------------+-----------------+----------+-------------+----------+---------------+----------+----------+---------------+---------------+---------+\n",
      "|     ID|CODE_GENDER|FLAG_OWN_CAR|FLAG_OWN_REALTY|CNT_CHILDREN|AMT_INCOME_TOTAL|NAME_INCOME_TYPE| NAME_EDUCATION_TYPE|NAME_FAMILY_STATUS|NAME_HOUSING_TYPE|DAYS_BIRTH|DAYS_EMPLOYED|FLAG_MOBIL|FLAG_WORK_PHONE|FLAG_PHONE|FLAG_EMAIL|OCCUPATION_TYPE|CNT_FAM_MEMBERS|ID_CLIENT|\n",
      "+-------+-----------+------------+---------------+------------+----------------+----------------+--------------------+------------------+-----------------+----------+-------------+----------+---------------+----------+----------+---------------+---------------+---------+\n",
      "|5996382|          F|           N|              N|           0|         28800.0|       Pensioner|Secondary / secon...|           Married|House / apartment|    -20298|       365243|         1|              0|         1|         0|           NULL|            2.0|        7|\n",
      "|5996383|          F|           N|              N|           0|         28800.0|       Pensioner|Secondary / secon...|           Married|House / apartment|    -20298|       365243|         1|              0|         1|         0|           NULL|            2.0|        7|\n",
      "|5996384|          F|           N|              N|           0|         28800.0|       Pensioner|Secondary / secon...|           Married|House / apartment|    -20298|       365243|         1|              0|         1|         0|           NULL|            2.0|        7|\n",
      "|6499066|          F|           N|              N|           0|         29133.0|       Pensioner|Secondary / secon...|           Married|House / apartment|    -20945|       365243|         1|              0|         1|         0|           NULL|            2.0|        8|\n",
      "|6499067|          F|           N|              N|           0|         29133.0|       Pensioner|Secondary / secon...|           Married|House / apartment|    -20945|       365243|         1|              0|         1|         0|           NULL|            2.0|        8|\n",
      "+-------+-----------+------------+---------------+------------+----------------+----------------+--------------------+------------------+-----------------+----------+-------------+----------+---------------+----------+----------+---------------+---------------+---------+\n",
      "only showing top 5 rows\n",
      "\n"
     ]
    },
    {
     "name": "stderr",
     "output_type": "stream",
     "text": [
      "                                                                                \r"
     ]
    }
   ],
   "source": [
    "# We'll need to perform Null Safe JOIN's, since columns such as 'OCCUPATION_TYPE' contain null values.\n",
    "from functools import reduce\n",
    "\n",
    "# Creating the multiple null safe JOIN's condition.\n",
    "condition_id_client = reduce(lambda x,y: x&y, [df_clients[col].eqNullSafe(df_id_clients[col]) for col in features_clients])\n",
    "columns_join_id = ['df_clients.*', 'df_id_clients.ID_CLIENT'] # Listing the JOIN columns.\n",
    "\n",
    "# Consolidating the final clients database.\n",
    "df_clients = (df_clients.alias('df_clients') # Resorting to aliases for both DataFrames present columns with same names.\n",
    "                 .join(df_id_clients.alias('df_id_clients'), condition_id_client)\n",
    "                 .select(columns_join_id))\n",
    "df_clients.show(5)"
   ]
  },
  {
   "cell_type": "markdown",
   "id": "ed1c9e94",
   "metadata": {
    "execution": {
     "iopub.execute_input": "2023-08-15T16:05:33.192895Z",
     "iopub.status.busy": "2023-08-15T16:05:33.192467Z",
     "iopub.status.idle": "2023-08-15T16:05:34.343874Z",
     "shell.execute_reply": "2023-08-15T16:05:34.342739Z",
     "shell.execute_reply.started": "2023-08-15T16:05:33.192858Z"
    },
    "papermill": {
     "duration": 0.030076,
     "end_time": "2024-02-26T20:33:35.081835",
     "exception": false,
     "start_time": "2024-02-26T20:33:35.051759",
     "status": "completed"
    },
    "tags": []
   },
   "source": [
    "<h3 style='font-size:30px;font-style:italic'> Loans Database</h3>\n",
    "<div> \n",
    "    <ul style='font-size:20px'> \n",
    "        <li> \n",
    "            This table contains the payments records for every loan since its contraction. \n",
    "        </li>\n",
    "        <li> \n",
    "            But in order to the dataset be adequate to our project's intent, two transformations are necessary: first, we need to bring the `ID_CLIENT`\n",
    "            column to it and after that, group the database so that it denounces individuals who've produced an NPL at least once.            \n",
    "        </li>\n",
    "    </ul>\n",
    "</div>"
   ]
  },
  {
   "cell_type": "code",
   "execution_count": 11,
   "id": "7005dc67",
   "metadata": {
    "execution": {
     "iopub.execute_input": "2024-02-26T20:33:35.135515Z",
     "iopub.status.busy": "2024-02-26T20:33:35.135223Z",
     "iopub.status.idle": "2024-02-26T20:33:35.285807Z",
     "shell.execute_reply": "2024-02-26T20:33:35.284560Z"
    },
    "papermill": {
     "duration": 0.178325,
     "end_time": "2024-02-26T20:33:35.287742",
     "exception": false,
     "start_time": "2024-02-26T20:33:35.109417",
     "status": "completed"
    },
    "tags": []
   },
   "outputs": [
    {
     "name": "stdout",
     "output_type": "stream",
     "text": [
      "+-------+--------------+------+\n",
      "|     ID|MONTHS_BALANCE|STATUS|\n",
      "+-------+--------------+------+\n",
      "|5001711|             0|     X|\n",
      "|5001711|            -1|     0|\n",
      "|5001711|            -2|     0|\n",
      "|5001711|            -3|     0|\n",
      "|5001712|             0|     C|\n",
      "+-------+--------------+------+\n",
      "only showing top 5 rows\n",
      "\n"
     ]
    }
   ],
   "source": [
    "# Bringing the dataset into our notebook.\n",
    "path_loans = '/kaggle/input/credit-card-approval-prediction/credit_record.csv'\n",
    "schema_loans = '`ID` STRING, `MONTHS_BALANCE` INT, `STATUS` STRING'\n",
    "df_loans = spark.read.csv(path_loans, header=True, schema=schema_loans)\n",
    "df_loans.show(5) "
   ]
  },
  {
   "cell_type": "code",
   "execution_count": 12,
   "id": "590dbafa",
   "metadata": {
    "execution": {
     "iopub.execute_input": "2024-02-26T20:33:35.328332Z",
     "iopub.status.busy": "2024-02-26T20:33:35.328012Z",
     "iopub.status.idle": "2024-02-26T20:33:44.982064Z",
     "shell.execute_reply": "2024-02-26T20:33:44.981218Z"
    },
    "papermill": {
     "duration": 9.677081,
     "end_time": "2024-02-26T20:33:44.984412",
     "exception": false,
     "start_time": "2024-02-26T20:33:35.307331",
     "status": "completed"
    },
    "tags": []
   },
   "outputs": [
    {
     "name": "stderr",
     "output_type": "stream",
     "text": [
      "[Stage 52:>                                                         (0 + 4) / 4]\r"
     ]
    },
    {
     "name": "stdout",
     "output_type": "stream",
     "text": [
      "+---------+-------+--------------+------+\n",
      "|ID_CLIENT|     ID|MONTHS_BALANCE|STATUS|\n",
      "+---------+-------+--------------+------+\n",
      "|    34269|5008810|             0|     C|\n",
      "|    34269|5008810|            -1|     C|\n",
      "|    34269|5008810|            -2|     C|\n",
      "|    34269|5008810|            -3|     C|\n",
      "|    34269|5008810|            -4|     C|\n",
      "+---------+-------+--------------+------+\n",
      "only showing top 5 rows\n",
      "\n"
     ]
    },
    {
     "name": "stderr",
     "output_type": "stream",
     "text": [
      "                                                                                \r"
     ]
    }
   ],
   "source": [
    "# Now, providing the loans' client ID.\n",
    "df_loans = df_loans.join(df_clients, ['ID']).select(['ID_CLIENT', 'ID', 'MONTHS_BALANCE', 'STATUS'])\n",
    "df_loans.show(5)"
   ]
  },
  {
   "cell_type": "markdown",
   "id": "3b5507c1",
   "metadata": {
    "papermill": {
     "duration": 0.026605,
     "end_time": "2024-02-26T20:33:45.038362",
     "exception": false,
     "start_time": "2024-02-26T20:33:45.011757",
     "status": "completed"
    },
    "tags": []
   },
   "source": [
    "<h4 style='font-size:30px;font-style:italic;text-decoration:underline'> Conceiving the Target Variable</h4>\n",
    "<div> \n",
    "    <ul style='font-size:20px'> \n",
    "        <li> \n",
    "            The `STATUS` column presents a handful of codes that represent distinct status for a loan's payment. Their definition is as follows:\n",
    "            <table style='font-size:15px;margin-top:20px'> \n",
    "                <tr>\n",
    "                    <th> Code</th>\n",
    "                    <th> Definition</th>\n",
    "                </tr>\n",
    "                <tr> \n",
    "                    <td> C</td>\n",
    "                    <td> Paid off that month</td>\n",
    "                </tr>\n",
    "                <tr> \n",
    "                    <td> 0</td>\n",
    "                    <td> 1-29 days past due</td>\n",
    "                </tr>\n",
    "                <tr> \n",
    "                    <td> 1</td>\n",
    "                    <td> 30-59 days past due </td>\n",
    "                </tr>\n",
    "                <tr> \n",
    "                    <td> 2</td>\n",
    "                    <td> 60-89 days past due </td>\n",
    "                </tr>\n",
    "                <tr> \n",
    "                    <td> 3</td>\n",
    "                    <td> 90-119 days past due </td>\n",
    "                </tr>\n",
    "                <tr> \n",
    "                    <td> 4</td>\n",
    "                    <td> 120-149 days past due </td>\n",
    "                </tr>\n",
    "                <tr> \n",
    "                    <td> 5</td>\n",
    "                    <td> Overdue or bad debts,<p> write-offs for more than 150 days</p> </td>\n",
    "                </tr>\n",
    "                <tr> \n",
    "                    <td> X</td>\n",
    "                    <td> No loan for the month</td>\n",
    "                </tr>\n",
    "            </table>\n",
    "        </li>\n",
    "        <li style='margin-top:20px'> \n",
    "            Observe that in our case only the 3, 4 and 5 codes are of our interest. Thus it would be convenient to create a binary flag that denounces whether \n",
    "            the individual has ever caused an NPL.\n",
    "        </li>\n",
    "    </ul>\n",
    "</div>"
   ]
  },
  {
   "cell_type": "code",
   "execution_count": 13,
   "id": "452a2b11",
   "metadata": {
    "execution": {
     "iopub.execute_input": "2024-02-26T20:33:45.094406Z",
     "iopub.status.busy": "2024-02-26T20:33:45.094010Z",
     "iopub.status.idle": "2024-02-26T20:33:45.991869Z",
     "shell.execute_reply": "2024-02-26T20:33:45.990859Z"
    },
    "papermill": {
     "duration": 0.928517,
     "end_time": "2024-02-26T20:33:45.994372",
     "exception": false,
     "start_time": "2024-02-26T20:33:45.065855",
     "status": "completed"
    },
    "tags": []
   },
   "outputs": [],
   "source": [
    "# The dependent variable's conception needs a custom GroupBy that PySpark is unable to perform by itself. Hence, we \n",
    "# are going to resort to pandas in this section.\n",
    "import pandas as pd\n",
    "\n",
    "# Defining the GroupBy's schema.\n",
    "schema_flag_npl = '`ID_CLIENT` STRING, `NPL` STRING'\n",
    "\n",
    "# This lambda expression signs whether a client has ever produced an NPL in the past.\n",
    "lambda_npl = lambda x: '1' if x.STATUS.isin(['3', '4', '5']).any() else '0'\n",
    "\n",
    "def has_npl(df:pd.DataFrame)->pd.DataFrame:\n",
    "    '''\n",
    "        Verifies if a client's  records contain any sort of Non-Performing Loan.\n",
    "        \n",
    "        Parameter\n",
    "        ---------\n",
    "        `df`: pd.DataFrame \n",
    "            The loan records of a certain client.\n",
    "        \n",
    "        Returns\n",
    "        -------\n",
    "        A `pd.DataFrame` with the client's ID and a flag indicating NPL existence in their loan history. \n",
    "    '''\n",
    "    output = df.groupby(['ID_CLIENT']).apply(lambda_npl) # `lambda_npl` takes care of the flags creation.\n",
    "    output.name = 'NPL' # Setting the flag column's name.\n",
    "    return output.reset_index()\n",
    "\n",
    "# Finally, generating our target-variable.\n",
    "target = df_loans.groupBy('ID_CLIENT').applyInPandas(has_npl, schema_flag_npl)"
   ]
  },
  {
   "cell_type": "markdown",
   "id": "7738f95f",
   "metadata": {
    "papermill": {
     "duration": 0.019594,
     "end_time": "2024-02-26T20:33:46.034335",
     "exception": false,
     "start_time": "2024-02-26T20:33:46.014741",
     "status": "completed"
    },
    "tags": []
   },
   "source": [
    "<h2 style='font-size:30px'> Consolidating the Data</h2>\n",
    "<div> \n",
    "    <ul style='font-size:20px'> \n",
    "        <li> \n",
    "            With both datasets properly treated, we are able to JOIN them in a single table.\n",
    "        </li>\n",
    "    </ul>\n",
    "</div>"
   ]
  },
  {
   "cell_type": "code",
   "execution_count": 14,
   "id": "adff5692",
   "metadata": {
    "execution": {
     "iopub.execute_input": "2024-02-26T20:33:46.076448Z",
     "iopub.status.busy": "2024-02-26T20:33:46.076009Z",
     "iopub.status.idle": "2024-02-26T20:33:46.122737Z",
     "shell.execute_reply": "2024-02-26T20:33:46.121843Z"
    },
    "papermill": {
     "duration": 0.070984,
     "end_time": "2024-02-26T20:33:46.125428",
     "exception": false,
     "start_time": "2024-02-26T20:33:46.054444",
     "status": "completed"
    },
    "tags": []
   },
   "outputs": [],
   "source": [
    "# Finally, enriching the clients information with the NPL flag.\n",
    "df = df_id_clients.join(target, how='inner', on='ID_CLIENT')"
   ]
  },
  {
   "cell_type": "code",
   "execution_count": 15,
   "id": "6ecb2b54",
   "metadata": {
    "execution": {
     "iopub.execute_input": "2024-02-26T20:33:46.183433Z",
     "iopub.status.busy": "2024-02-26T20:33:46.183052Z",
     "iopub.status.idle": "2024-02-26T20:33:46.186875Z",
     "shell.execute_reply": "2024-02-26T20:33:46.186207Z"
    },
    "papermill": {
     "duration": 0.034864,
     "end_time": "2024-02-26T20:33:46.188875",
     "exception": false,
     "start_time": "2024-02-26T20:33:46.154011",
     "status": "completed"
    },
    "tags": []
   },
   "outputs": [],
   "source": [
    "#df.write.parquet('/kaggle/input/df-parquet', mode='overwrite')"
   ]
  },
  {
   "cell_type": "markdown",
   "id": "e07001e0",
   "metadata": {
    "papermill": {
     "duration": 0.02742,
     "end_time": "2024-02-26T20:33:46.244421",
     "exception": false,
     "start_time": "2024-02-26T20:33:46.217001",
     "status": "completed"
    },
    "tags": []
   },
   "source": [
    "<h2 style='font-size:30px'> Dataset Splitting</h2>\n",
    "<div> \n",
    "    <ul style='font-size:20px'> \n",
    "        <li> \n",
    "            With the dataset properly treated, we are able to begin our EDA and model creation. But firstly we have to separate the data in \n",
    "            the training and test tables.\n",
    "        </li>\n",
    "    </ul>\n",
    "</div>"
   ]
  },
  {
   "cell_type": "code",
   "execution_count": 16,
   "id": "2baf0887",
   "metadata": {
    "execution": {
     "iopub.execute_input": "2024-02-26T20:33:46.288636Z",
     "iopub.status.busy": "2024-02-26T20:33:46.288010Z",
     "iopub.status.idle": "2024-02-26T20:34:30.407705Z",
     "shell.execute_reply": "2024-02-26T20:34:30.405959Z"
    },
    "papermill": {
     "duration": 44.145193,
     "end_time": "2024-02-26T20:34:30.411760",
     "exception": false,
     "start_time": "2024-02-26T20:33:46.266567",
     "status": "completed"
    },
    "tags": []
   },
   "outputs": [
    {
     "name": "stderr",
     "output_type": "stream",
     "text": [
      "[Stage 132:============================>                            (2 + 2) / 4]\r"
     ]
    },
    {
     "name": "stdout",
     "output_type": "stream",
     "text": [
      "+---+-----+-------------------+\n",
      "|NPL|count|         proportion|\n",
      "+---+-----+-------------------+\n",
      "|  0| 9509| 0.9774876644736842|\n",
      "|  1|  219|0.02251233552631579|\n",
      "+---+-----+-------------------+\n",
      "\n"
     ]
    },
    {
     "name": "stderr",
     "output_type": "stream",
     "text": [
      "                                                                                \r"
     ]
    }
   ],
   "source": [
    "# As we can see, we are dealing with an unbalanced dataset case. Thus it is interesting to maintain the target value proportions\n",
    "# in both training and test sets.\n",
    "from pyspark.sql.functions import col\n",
    "\n",
    "df.groupBy('NPL').count().withColumn('proportion', col('count')/df.count()).show()"
   ]
  },
  {
   "cell_type": "code",
   "execution_count": 17,
   "id": "6939e294",
   "metadata": {
    "execution": {
     "iopub.execute_input": "2024-02-26T20:34:30.478284Z",
     "iopub.status.busy": "2024-02-26T20:34:30.477858Z",
     "iopub.status.idle": "2024-02-26T20:34:30.833619Z",
     "shell.execute_reply": "2024-02-26T20:34:30.832679Z"
    },
    "papermill": {
     "duration": 0.39037,
     "end_time": "2024-02-26T20:34:30.835927",
     "exception": false,
     "start_time": "2024-02-26T20:34:30.445557",
     "status": "completed"
    },
    "tags": []
   },
   "outputs": [],
   "source": [
    "# Creating the training and test sets.\n",
    "train = df.sampleBy('NPL', fractions={'0':.75, '1':.75}, seed=42)\n",
    "test = df.subtract(train)"
   ]
  },
  {
   "cell_type": "code",
   "execution_count": 18,
   "id": "19721cdd",
   "metadata": {
    "execution": {
     "iopub.execute_input": "2024-02-26T20:34:30.883595Z",
     "iopub.status.busy": "2024-02-26T20:34:30.882111Z",
     "iopub.status.idle": "2024-02-26T20:35:51.247848Z",
     "shell.execute_reply": "2024-02-26T20:35:51.246989Z"
    },
    "papermill": {
     "duration": 80.393123,
     "end_time": "2024-02-26T20:35:51.250501",
     "exception": false,
     "start_time": "2024-02-26T20:34:30.857378",
     "status": "completed"
    },
    "tags": []
   },
   "outputs": [
    {
     "name": "stdout",
     "output_type": "stream",
     "text": [
      "*** TRAIN ***\n"
     ]
    },
    {
     "name": "stderr",
     "output_type": "stream",
     "text": [
      "                                                                                \r"
     ]
    },
    {
     "name": "stdout",
     "output_type": "stream",
     "text": [
      "+---+-----+--------------------+\n",
      "|NPL|count|          proportion|\n",
      "+---+-----+--------------------+\n",
      "|  0| 7205|  0.9785413554257776|\n",
      "|  1|  158|0.021458644574222464|\n",
      "+---+-----+--------------------+\n",
      "\n",
      "*** TEST ***\n"
     ]
    },
    {
     "name": "stderr",
     "output_type": "stream",
     "text": [
      "                                                                                \r"
     ]
    },
    {
     "name": "stdout",
     "output_type": "stream",
     "text": [
      "+---+-----+--------------------+\n",
      "|NPL|count|          proportion|\n",
      "+---+-----+--------------------+\n",
      "|  0| 2308|  0.9800424628450106|\n",
      "|  1|   47|0.019957537154989383|\n",
      "+---+-----+--------------------+\n",
      "\n"
     ]
    }
   ],
   "source": [
    "# Since the class proportions are relatively proximate, we are able to use them in our project.\n",
    "print('*** TRAIN ***')\n",
    "train.groupBy('NPL').count().withColumn('proportion', col('count')/train.count()).show()\n",
    "print('*** TEST ***')\n",
    "test.groupBy('NPL').count().withColumn('proportion', col('count')/test.count()).show()"
   ]
  },
  {
   "cell_type": "code",
   "execution_count": 19,
   "id": "4a748ea4",
   "metadata": {
    "execution": {
     "iopub.execute_input": "2024-02-26T20:35:51.319800Z",
     "iopub.status.busy": "2024-02-26T20:35:51.319436Z",
     "iopub.status.idle": "2024-02-26T20:36:35.126761Z",
     "shell.execute_reply": "2024-02-26T20:36:35.125965Z"
    },
    "papermill": {
     "duration": 43.845005,
     "end_time": "2024-02-26T20:36:35.129584",
     "exception": false,
     "start_time": "2024-02-26T20:35:51.284579",
     "status": "completed"
    },
    "tags": []
   },
   "outputs": [
    {
     "name": "stderr",
     "output_type": "stream",
     "text": [
      "                                                                                \r"
     ]
    }
   ],
   "source": [
    "# Saving the datasets in distinct .parquet files.\n",
    "train.write.parquet('/kaggle/working/train.parquet', mode='overwrite')\n",
    "test.write.parquet('/kaggle/working/test.parquet', mode='overwrite')"
   ]
  },
  {
   "cell_type": "markdown",
   "id": "3d0093b9",
   "metadata": {
    "execution": {
     "iopub.execute_input": "2023-08-15T16:05:33.192895Z",
     "iopub.status.busy": "2023-08-15T16:05:33.192467Z",
     "iopub.status.idle": "2023-08-15T16:05:34.343874Z",
     "shell.execute_reply": "2023-08-15T16:05:34.342739Z",
     "shell.execute_reply.started": "2023-08-15T16:05:33.192858Z"
    },
    "papermill": {
     "duration": 0.037225,
     "end_time": "2024-02-26T20:36:35.204483",
     "exception": false,
     "start_time": "2024-02-26T20:36:35.167258",
     "status": "completed"
    },
    "tags": []
   },
   "source": [
    "<h3 style='font-size:30px;font-style:italic'> Defining the Models' Metric</h3>\n",
    "<div> \n",
    "    <ul style='font-size:20px'> \n",
    "        <li> \n",
    "            Providing False Negatives would clearly be more harmful for the bank's equity than False Positives.         \n",
    "        </li>\n",
    "        <li> \n",
    "            Following conversations with the credit analysts, we've ended up defining the case's official metric\n",
    "            as an f-score with $\\beta=4$. So, we are giving to Recall an importance 4x higher than the Precision's.\n",
    "        </li>\n",
    "    </ul>\n",
    "</div>"
   ]
  },
  {
   "cell_type": "markdown",
   "id": "1ed06b33",
   "metadata": {
    "papermill": {
     "duration": 0.035851,
     "end_time": "2024-02-26T20:36:35.278674",
     "exception": false,
     "start_time": "2024-02-26T20:36:35.242823",
     "status": "completed"
    },
    "tags": []
   },
   "source": [
    "<h2 style='font-size:30px'> Exploratory Data Analysis</h2>\n",
    "<div> \n",
    "    <ul style='font-size:20px'> \n",
    "        <li> \n",
    "            With the data properly segregated, let's briefly analyze its content and see whether we can spot differences \n",
    "            among the classes. \n",
    "        </li>\n",
    "    </ul>\n",
    "</div>"
   ]
  },
  {
   "cell_type": "code",
   "execution_count": 20,
   "id": "c712de49",
   "metadata": {
    "execution": {
     "iopub.execute_input": "2024-02-26T20:36:35.344360Z",
     "iopub.status.busy": "2024-02-26T20:36:35.343913Z",
     "iopub.status.idle": "2024-02-26T20:36:44.898394Z",
     "shell.execute_reply": "2024-02-26T20:36:44.896593Z"
    },
    "papermill": {
     "duration": 9.586105,
     "end_time": "2024-02-26T20:36:44.901223",
     "exception": false,
     "start_time": "2024-02-26T20:36:35.315118",
     "status": "completed"
    },
    "tags": []
   },
   "outputs": [
    {
     "name": "stdout",
     "output_type": "stream",
     "text": [
      "Requirement already satisfied: pyspark in /opt/conda/lib/python3.10/site-packages (3.5.1)\r\n",
      "Requirement already satisfied: py4j==0.10.9.7 in /opt/conda/lib/python3.10/site-packages (from pyspark) (0.10.9.7)\r\n",
      "Note: you may need to restart the kernel to use updated packages.\n"
     ]
    }
   ],
   "source": [
    "pip install pyspark"
   ]
  },
  {
   "cell_type": "code",
   "execution_count": 21,
   "id": "32352dcd",
   "metadata": {
    "execution": {
     "iopub.execute_input": "2024-02-26T20:36:44.959328Z",
     "iopub.status.busy": "2024-02-26T20:36:44.958957Z",
     "iopub.status.idle": "2024-02-26T20:36:44.972196Z",
     "shell.execute_reply": "2024-02-26T20:36:44.971004Z"
    },
    "papermill": {
     "duration": 0.044782,
     "end_time": "2024-02-26T20:36:44.974051",
     "exception": false,
     "start_time": "2024-02-26T20:36:44.929269",
     "status": "completed"
    },
    "tags": []
   },
   "outputs": [
    {
     "data": {
      "text/html": [
       "<style>pre { white-space: pre !important; }</style>"
      ],
      "text/plain": [
       "<IPython.core.display.HTML object>"
      ]
     },
     "metadata": {},
     "output_type": "display_data"
    }
   ],
   "source": [
    "from pyspark import SparkContext\n",
    "from pyspark.sql import SparkSession\n",
    "from IPython.core.display import HTML\n",
    "\n",
    "# Creating the project's SparkSession.\n",
    "spark = SparkSession.builder.appName('NPL').getOrCreate()\n",
    "\n",
    "# Also, modifying the session's log level.\n",
    "log_level = spark.sparkContext.setLogLevel('ERROR')\n",
    "\n",
    "# This tiny config enables us to scroll along the DataFrame's columns.\n",
    "display(HTML(\"<style>pre { white-space: pre !important; }</style>\"))"
   ]
  },
  {
   "cell_type": "code",
   "execution_count": 22,
   "id": "408879f1",
   "metadata": {
    "execution": {
     "iopub.execute_input": "2024-02-26T20:36:45.030950Z",
     "iopub.status.busy": "2024-02-26T20:36:45.030569Z",
     "iopub.status.idle": "2024-02-26T20:36:45.433336Z",
     "shell.execute_reply": "2024-02-26T20:36:45.432306Z"
    },
    "papermill": {
     "duration": 0.433361,
     "end_time": "2024-02-26T20:36:45.435497",
     "exception": false,
     "start_time": "2024-02-26T20:36:45.002136",
     "status": "completed"
    },
    "tags": []
   },
   "outputs": [
    {
     "name": "stdout",
     "output_type": "stream",
     "text": [
      "+---------+-----------+------------+---------------+------------+----------------+----------------+--------------------+------------------+-----------------+----------+-------------+----------+---------------+----------+----------+---------------+---------------+---+\n",
      "|ID_CLIENT|CODE_GENDER|FLAG_OWN_CAR|FLAG_OWN_REALTY|CNT_CHILDREN|AMT_INCOME_TOTAL|NAME_INCOME_TYPE| NAME_EDUCATION_TYPE|NAME_FAMILY_STATUS|NAME_HOUSING_TYPE|DAYS_BIRTH|DAYS_EMPLOYED|FLAG_MOBIL|FLAG_WORK_PHONE|FLAG_PHONE|FLAG_EMAIL|OCCUPATION_TYPE|CNT_FAM_MEMBERS|NPL|\n",
      "+---------+-----------+------------+---------------+------------+----------------+----------------+--------------------+------------------+-----------------+----------+-------------+----------+---------------+----------+----------+---------------+---------------+---+\n",
      "|      691|          F|           N|              N|           0|         67500.0|         Working|Secondary / secon...|           Married|House / apartment|    -20075|        -7013|         1|              1|         1|         0|    Sales staff|            2.0|  0|\n",
      "|     3606|          F|           N|              N|           0|        112500.0|         Working|Secondary / secon...|           Married|House / apartment|     -9865|         -196|         1|              1|         0|         0|       Laborers|            2.0|  0|\n",
      "|     4821|          F|           N|              N|           0|        135000.0|   State servant|    Higher education|           Married|House / apartment|    -12490|        -1191|         1|              1|         1|         0|     Core staff|            2.0|  0|\n",
      "|     5925|          F|           N|              N|           0|        157500.0|       Pensioner|Secondary / secon...|           Married|House / apartment|    -22828|       365243|         1|              0|         0|         0|           NULL|            2.0|  0|\n",
      "|     6194|          F|           N|              N|           0|        157500.0|         Working|   Incomplete higher|           Married|House / apartment|    -16888|        -2687|         1|              0|         0|         0|     Core staff|            2.0|  0|\n",
      "+---------+-----------+------------+---------------+------------+----------------+----------------+--------------------+------------------+-----------------+----------+-------------+----------+---------------+----------+----------+---------------+---------------+---+\n",
      "only showing top 5 rows\n",
      "\n"
     ]
    }
   ],
   "source": [
    "train = spark.read.parquet('/kaggle/input/npl-train/train.parquet/')\n",
    "train.show(5)"
   ]
  },
  {
   "cell_type": "markdown",
   "id": "759d4226",
   "metadata": {
    "execution": {
     "iopub.execute_input": "2023-08-15T16:05:33.192895Z",
     "iopub.status.busy": "2023-08-15T16:05:33.192467Z",
     "iopub.status.idle": "2023-08-15T16:05:34.343874Z",
     "shell.execute_reply": "2023-08-15T16:05:34.342739Z",
     "shell.execute_reply.started": "2023-08-15T16:05:33.192858Z"
    },
    "papermill": {
     "duration": 0.031533,
     "end_time": "2024-02-26T20:36:45.504774",
     "exception": false,
     "start_time": "2024-02-26T20:36:45.473241",
     "status": "completed"
    },
    "tags": []
   },
   "source": [
    "<h3 style='font-size:30px;font-style:italic'> Assessing the Classes' Incomes</h3>\n",
    "<div> \n",
    "    <ul style='font-size:20px'> \n",
    "        <li> \n",
    "            Let's analyze whether there is any revenue difference between individuals who produced an NPL and those who didn't. \n",
    "        </li>\n",
    "        <li> \n",
    "            Since we are dealing with an continuous outcome from two independent samples, I'll use the z-score formula below to examine the \n",
    "            income differences:\n",
    "            <center style='margin-top:20px'> \n",
    "                    $z=\\frac{\\overline{X}_{1}-\\overline{X}_{2}}{S_{p}\\sqrt{\\frac{1}{n_{1}}+\\frac{1}{n_{2}}}}$ | $S_{p}=\\sqrt{\\frac{(n_{1}-1)s_{1}^{2}+(n_{2}-1)s_{2}^{2}}{n_{1}+n_{2}-2}}$\n",
    "           </center>\n",
    "        </li>\n",
    "    </ul>\n",
    "</div>"
   ]
  },
  {
   "cell_type": "code",
   "execution_count": 23,
   "id": "2e77ba12",
   "metadata": {
    "execution": {
     "iopub.execute_input": "2024-02-26T20:36:45.562408Z",
     "iopub.status.busy": "2024-02-26T20:36:45.562094Z",
     "iopub.status.idle": "2024-02-26T20:36:45.861426Z",
     "shell.execute_reply": "2024-02-26T20:36:45.860120Z"
    },
    "papermill": {
     "duration": 0.330755,
     "end_time": "2024-02-26T20:36:45.863362",
     "exception": false,
     "start_time": "2024-02-26T20:36:45.532607",
     "status": "completed"
    },
    "tags": []
   },
   "outputs": [
    {
     "name": "stdout",
     "output_type": "stream",
     "text": [
      "+---+------------------------+\n",
      "|NPL|stddev(AMT_INCOME_TOTAL)|\n",
      "+---+------------------------+\n",
      "|  0|        99647.7510722535|\n",
      "|  1|       96639.80531139452|\n",
      "+---+------------------------+\n",
      "\n"
     ]
    }
   ],
   "source": [
    "# The formula above is only valid for samples with similar std's (0.5<s1/s2<2). So we ought to firstly guarantee that the incomes' std's\n",
    "# are in accordance to that rule.\n",
    "df_income_std = train.groupBy('NPL').agg({'AMT_INCOME_TOTAL':'std'})\n",
    "df_income_std.show()"
   ]
  },
  {
   "cell_type": "code",
   "execution_count": 24,
   "id": "94ca5336",
   "metadata": {
    "execution": {
     "iopub.execute_input": "2024-02-26T20:36:45.921774Z",
     "iopub.status.busy": "2024-02-26T20:36:45.921432Z",
     "iopub.status.idle": "2024-02-26T20:36:46.098212Z",
     "shell.execute_reply": "2024-02-26T20:36:46.097493Z"
    },
    "papermill": {
     "duration": 0.208325,
     "end_time": "2024-02-26T20:36:46.100368",
     "exception": false,
     "start_time": "2024-02-26T20:36:45.892043",
     "status": "completed"
    },
    "tags": []
   },
   "outputs": [
    {
     "data": {
      "text/plain": [
       "1.0311253292695148"
      ]
     },
     "execution_count": 24,
     "metadata": {},
     "output_type": "execute_result"
    }
   ],
   "source": [
    "# Because the std ratio is in the desired interval, we can proceed in using the formula.\n",
    "list_std = [row['stddev(AMT_INCOME_TOTAL)'] for row in df_income_std.collect()]\n",
    "list_std[0] / list_std[1]"
   ]
  },
  {
   "cell_type": "code",
   "execution_count": 25,
   "id": "0bdf6eaf",
   "metadata": {
    "execution": {
     "iopub.execute_input": "2024-02-26T20:36:46.158427Z",
     "iopub.status.busy": "2024-02-26T20:36:46.158086Z",
     "iopub.status.idle": "2024-02-26T20:36:47.805074Z",
     "shell.execute_reply": "2024-02-26T20:36:47.804313Z"
    },
    "papermill": {
     "duration": 1.678873,
     "end_time": "2024-02-26T20:36:47.806953",
     "exception": false,
     "start_time": "2024-02-26T20:36:46.128080",
     "status": "completed"
    },
    "tags": []
   },
   "outputs": [
    {
     "data": {
      "text/plain": [
       "0.7972574858186637"
      ]
     },
     "execution_count": 25,
     "metadata": {},
     "output_type": "execute_result"
    }
   ],
   "source": [
    "# By setting our alpha=.05, we can see that there is no statistical evidence that people with no NPL receive higher incomes\n",
    "# than the other group.\n",
    "from statsmodels.stats.weightstats import ztest\n",
    "\n",
    "zeros = [row['AMT_INCOME_TOTAL'] for row in train.select('AMT_INCOME_TOTAL').where('NPL==0').collect()]\n",
    "ones = [row['AMT_INCOME_TOTAL'] for row in train.select('AMT_INCOME_TOTAL').where('NPL==1').collect()]\n",
    "\n",
    "ztest(zeros, ones, alternative='larger')[1] # Computing our p-value."
   ]
  },
  {
   "cell_type": "markdown",
   "id": "7e21b4d0",
   "metadata": {
    "papermill": {
     "duration": 0.042296,
     "end_time": "2024-02-26T20:36:47.886891",
     "exception": false,
     "start_time": "2024-02-26T20:36:47.844595",
     "status": "completed"
    },
    "tags": []
   },
   "source": [
    "<h3 style='font-size:30px;font-style:italic'> Valuable Assets Analysis</h3>\n",
    "<div> \n",
    "    <ul style='font-size:20px'> \n",
    "        <li> \n",
    "            The dataset contains columns representing whether the client possesses real state or a vehicle.\n",
    "        </li>\n",
    "        <li> \n",
    "            We can verify if people that own such properties have lower chance of producing an NPL, because they could sell them if they don't have enough \n",
    "            cash to pay the loans. \n",
    "        </li>\n",
    "    </ul>\n",
    "</div>"
   ]
  },
  {
   "cell_type": "code",
   "execution_count": 26,
   "id": "9b3c84c2",
   "metadata": {
    "execution": {
     "iopub.execute_input": "2024-02-26T20:36:47.965302Z",
     "iopub.status.busy": "2024-02-26T20:36:47.964869Z",
     "iopub.status.idle": "2024-02-26T20:36:48.278251Z",
     "shell.execute_reply": "2024-02-26T20:36:48.277350Z"
    },
    "papermill": {
     "duration": 0.356365,
     "end_time": "2024-02-26T20:36:48.280427",
     "exception": false,
     "start_time": "2024-02-26T20:36:47.924062",
     "status": "completed"
    },
    "tags": []
   },
   "outputs": [
    {
     "name": "stdout",
     "output_type": "stream",
     "text": [
      "+------------+---+\n",
      "|OWN_VALUABLE|NPL|\n",
      "+------------+---+\n",
      "|           0|  0|\n",
      "|           0|  0|\n",
      "|           0|  0|\n",
      "|           0|  0|\n",
      "|           0|  0|\n",
      "+------------+---+\n",
      "only showing top 5 rows\n",
      "\n"
     ]
    }
   ],
   "source": [
    "from pyspark.sql.functions import udf\n",
    "from pyspark.sql.types import StringType\n",
    "\n",
    "@udf(returnType=StringType())\n",
    "def own_valuable(col_car:str, col_realty:str)->str:\n",
    "    '''\n",
    "        Signs whether a client possesses a valuable asset that can be sold for paying their loans.\n",
    "        \n",
    "        Parameters\n",
    "        ----------\n",
    "        `col_car` str\n",
    "            The value of the flag that indicates the ownership of a car.\n",
    "        `col_realty`: str\n",
    "            The value of the flag that indicates the ownership of a real state.\n",
    "            \n",
    "        Returns\n",
    "        -------\n",
    "        A flag indicating the possession of a car or real state (valuable assets). \n",
    "    '''\n",
    "    if (col_car=='Y') or (col_realty=='Y'):\n",
    "        return '1'\n",
    "    return '0'\n",
    "\n",
    "# Creating the DataFrame that will be used for conducting the Hypothesis Test.\n",
    "df_valuable = train.select(own_valuable('FLAG_OWN_CAR', 'FLAG_OWN_REALTY').alias('OWN_VALUABLE'), 'NPL')\n",
    "df_valuable.show(5)"
   ]
  },
  {
   "cell_type": "code",
   "execution_count": 27,
   "id": "f157a4fc",
   "metadata": {
    "execution": {
     "iopub.execute_input": "2024-02-26T20:36:48.343222Z",
     "iopub.status.busy": "2024-02-26T20:36:48.342074Z",
     "iopub.status.idle": "2024-02-26T20:36:48.884297Z",
     "shell.execute_reply": "2024-02-26T20:36:48.883412Z"
    },
    "papermill": {
     "duration": 0.576872,
     "end_time": "2024-02-26T20:36:48.886357",
     "exception": false,
     "start_time": "2024-02-26T20:36:48.309485",
     "status": "completed"
    },
    "tags": []
   },
   "outputs": [
    {
     "name": "stdout",
     "output_type": "stream",
     "text": [
      "+---+------------+-----+\n",
      "|NPL|OWN_VALUABLE|count|\n",
      "+---+------------+-----+\n",
      "|  0|           1| 5747|\n",
      "|  1|           1|  126|\n",
      "|  0|           0| 1454|\n",
      "|  1|           0|   46|\n",
      "+---+------------+-----+\n",
      "\n"
     ]
    }
   ],
   "source": [
    "# Counting the amount of who own or not a valuable asset per target.\n",
    "gb_valuable = (df_valuable\n",
    "     .groupBy(['NPL', 'OWN_VALUABLE'])\n",
    "     .count())\n",
    "\n",
    "gb_valuable.show()"
   ]
  },
  {
   "cell_type": "code",
   "execution_count": 28,
   "id": "33a93b22",
   "metadata": {
    "execution": {
     "iopub.execute_input": "2024-02-26T20:36:48.958126Z",
     "iopub.status.busy": "2024-02-26T20:36:48.957758Z",
     "iopub.status.idle": "2024-02-26T20:36:49.591534Z",
     "shell.execute_reply": "2024-02-26T20:36:49.590740Z"
    },
    "papermill": {
     "duration": 0.667842,
     "end_time": "2024-02-26T20:36:49.594060",
     "exception": false,
     "start_time": "2024-02-26T20:36:48.926218",
     "status": "completed"
    },
    "tags": []
   },
   "outputs": [
    {
     "name": "stdout",
     "output_type": "stream",
     "text": [
      "+---+-----------------------+---------------+------------------+\n",
      "|NPL|INSTANCES_WITH_VALUABLE|TOTAL_INSTANCES| PROP_OWN_VALUABLE|\n",
      "+---+-----------------------+---------------+------------------+\n",
      "|  0|                   5747|           7201|0.7980835995000695|\n",
      "|  1|                    126|            172|0.7325581395348837|\n",
      "+---+-----------------------+---------------+------------------+\n",
      "\n"
     ]
    }
   ],
   "source": [
    "# Now, using `gb_valuable` in order to estimate the proportion of clients with a valuable asset for each target.\n",
    "from pyspark.sql.functions import col\n",
    "from pyspark.sql.functions import sum as ps_sum\n",
    "from pyspark.sql.window import Window\n",
    "\n",
    "window = Window.partitionBy('NPL')\n",
    "\n",
    "# It's noticeable that there is a rough 7% difference between the proportions. But can we regard that as statistically significant? \n",
    "(gb_valuable\n",
    "     .withColumn('TOTAL_INSTANCES', ps_sum(col('count')).over(window)) # Total quantity of instances for each target.\n",
    "     .withColumn('PROP_OWN_VALUABLE', col('count')/ps_sum(col('count')).over(window)) # % of clients who own valuable assets per target.\n",
    "     .withColumnRenamed('count', 'INSTANCES_WITH_VALUABLE') \n",
    "     .where('`OWN_VALUABLE`==1')\n",
    "     .select(['NPL', 'INSTANCES_WITH_VALUABLE', 'TOTAL_INSTANCES', 'PROP_OWN_VALUABLE'])).show()"
   ]
  },
  {
   "cell_type": "code",
   "execution_count": 29,
   "id": "9a1181f2",
   "metadata": {
    "execution": {
     "iopub.execute_input": "2024-02-26T20:36:49.660787Z",
     "iopub.status.busy": "2024-02-26T20:36:49.660356Z",
     "iopub.status.idle": "2024-02-26T20:36:49.689290Z",
     "shell.execute_reply": "2024-02-26T20:36:49.688118Z"
    },
    "papermill": {
     "duration": 0.061243,
     "end_time": "2024-02-26T20:36:49.691240",
     "exception": false,
     "start_time": "2024-02-26T20:36:49.629997",
     "status": "completed"
    },
    "tags": []
   },
   "outputs": [
    {
     "data": {
      "text/plain": [
       "0.033767448873365"
      ]
     },
     "execution_count": 29,
     "metadata": {},
     "output_type": "execute_result"
    }
   ],
   "source": [
    "# H0: People who honor their debts have the same probability of possessing a valuable asset as the clients in default.\n",
    "# H1: People who honor their debts have higher probability of possessing a valuable asset compared to clients in default.\n",
    "\n",
    "# By using the table's data in a Hypothesis Test for proportions, we get a p-value below our significance degree (alpha=.05).\n",
    "\n",
    "# Therefore, we are able to reject H0 and state we possess sufficient information to say that people who have never produced an NPL have a higher\n",
    "# tendency of possessing a valuable asset.\n",
    "\n",
    "from statsmodels.stats.proportion import test_proportions_2indep\n",
    "test_proportions_2indep(5747, 7201, 126, 172, compare='ratio', alternative='larger').pvalue"
   ]
  },
  {
   "cell_type": "code",
   "execution_count": 30,
   "id": "cb7f938d",
   "metadata": {
    "execution": {
     "iopub.execute_input": "2024-02-26T20:36:49.751363Z",
     "iopub.status.busy": "2024-02-26T20:36:49.750250Z",
     "iopub.status.idle": "2024-02-26T20:36:49.759766Z",
     "shell.execute_reply": "2024-02-26T20:36:49.758764Z"
    },
    "papermill": {
     "duration": 0.041409,
     "end_time": "2024-02-26T20:36:49.761429",
     "exception": false,
     "start_time": "2024-02-26T20:36:49.720020",
     "status": "completed"
    },
    "tags": []
   },
   "outputs": [
    {
     "data": {
      "text/plain": [
       "0.15495270778483095"
      ]
     },
     "execution_count": 30,
     "metadata": {},
     "output_type": "execute_result"
    }
   ],
   "source": [
    "# With the difference proved real, let's analyze it with the use of a Cohen's h.\n",
    "from numpy import arcsin, sqrt\n",
    "def cohen_h(p1:float, p2:float)->float:\n",
    "    '''\n",
    "        Computes the Cohen's h coefficient for the difference between two proportions.\n",
    "        \n",
    "        Parameters\n",
    "        ----------\n",
    "        `p1`: float\n",
    "            The first probability.\n",
    "        `p2`: float\n",
    "            The second probability.\n",
    "            \n",
    "        Returns\n",
    "        -------\n",
    "        The Cohen's h coefficient for the given proportions.\n",
    "    '''\n",
    "    phi1 = 2*arcsin(sqrt(p1))\n",
    "    phi2 = 2*arcsin(sqrt(p2))\n",
    "    return phi1-phi2\n",
    "\n",
    "# By observing the returned h, we can conclude that the difference is of a small magnitude, since it is lower than 0.2.\n",
    "cohen_h(0.7980835995000695, 0.7325581395348837)"
   ]
  },
  {
   "cell_type": "markdown",
   "id": "7db6f3a0",
   "metadata": {
    "papermill": {
     "duration": 0.02755,
     "end_time": "2024-02-26T20:36:49.817217",
     "exception": false,
     "start_time": "2024-02-26T20:36:49.789667",
     "status": "completed"
    },
    "tags": []
   },
   "source": [
    "<h3 style='font-size:30px;font-style:italic'> Employment Impact Analysis</h3>\n",
    "<div> \n",
    "    <ul style='font-size:20px'> \n",
    "        <li> \n",
    "            Finally, it would be interesting if we could verify whether unemployment can impair loan payments.  \n",
    "        </li>\n",
    "    </ul>\n",
    "</div>"
   ]
  },
  {
   "cell_type": "markdown",
   "id": "e078dc52",
   "metadata": {
    "papermill": {
     "duration": 0.028292,
     "end_time": "2024-02-26T20:36:49.874810",
     "exception": false,
     "start_time": "2024-02-26T20:36:49.846518",
     "status": "completed"
    },
    "tags": []
   },
   "source": [
    "<h4 style='font-size:30px;font-style:italic;text-decoration:underline'> Cleaning up Inconsistent Instances</h4>\n",
    "<div> \n",
    "    <ul style='font-size:20px'> \n",
    "        <li> \n",
    "            The dataset contains individuals who present their OCCUPATION_TYPE value as NULL, although they show up as employed (DAYS_EMPLOYED$\\leq{0}$)\n",
    "        </li>\n",
    "        <li>\n",
    "            In order to they not be regarded as unemployed clients (who also present OCCUPATION_TYPE as NULL), I thought it would be convenient to assign \n",
    "            another category to them.\n",
    "        </li>\n",
    "    </ul>\n",
    "</div>"
   ]
  },
  {
   "cell_type": "code",
   "execution_count": 31,
   "id": "514b5012",
   "metadata": {
    "execution": {
     "iopub.execute_input": "2024-02-26T20:36:49.934692Z",
     "iopub.status.busy": "2024-02-26T20:36:49.934332Z",
     "iopub.status.idle": "2024-02-26T20:36:49.940486Z",
     "shell.execute_reply": "2024-02-26T20:36:49.939555Z"
    },
    "papermill": {
     "duration": 0.037959,
     "end_time": "2024-02-26T20:36:49.942305",
     "exception": false,
     "start_time": "2024-02-26T20:36:49.904346",
     "status": "completed"
    },
    "tags": []
   },
   "outputs": [],
   "source": [
    "@udf(returnType=StringType())\n",
    "def impute_occupation(col_occupation:str, col_days_employed:int)->str:\n",
    "    '''\n",
    "        Assigns new categories to the OCCUPATION_TYPE column if it is null for any given row. \n",
    "        \n",
    "        In case the DAYS_EMPLOYED shows that the client is currently employed, we impute 'UNDEFINED'; otherwise, we insert 'UNEMPLOYED'.\n",
    "        \n",
    "        Parameters\n",
    "        ----------\n",
    "        `col_occupation`: str\n",
    "            The row's OCCUPATION_TYPE value.\n",
    "        `col_days_employed`: int\n",
    "            The row's DAYS_EMPLOYED value.\n",
    "        \n",
    "        Returns\n",
    "        -------\n",
    "        The row's OCCUPATION_TYPE treated value.\n",
    "    '''\n",
    "    # 'Undefined' profession logic.\n",
    "    if (col_occupation is None) and (col_days_employed<=0):\n",
    "        return 'Undefined'\n",
    "    \n",
    "    # 'Unemployed' logic.\n",
    "    elif (col_occupation is None) and (col_days_employed>0):\n",
    "        return 'Unemployed'\n",
    "    \n",
    "    else:\n",
    "        pass\n",
    "    \n",
    "    return col_occupation"
   ]
  },
  {
   "cell_type": "code",
   "execution_count": 32,
   "id": "d1709610",
   "metadata": {
    "execution": {
     "iopub.execute_input": "2024-02-26T20:36:50.001292Z",
     "iopub.status.busy": "2024-02-26T20:36:50.000673Z",
     "iopub.status.idle": "2024-02-26T20:36:50.031950Z",
     "shell.execute_reply": "2024-02-26T20:36:50.030983Z"
    },
    "papermill": {
     "duration": 0.062833,
     "end_time": "2024-02-26T20:36:50.033769",
     "exception": false,
     "start_time": "2024-02-26T20:36:49.970936",
     "status": "completed"
    },
    "tags": []
   },
   "outputs": [
    {
     "data": {
      "text/plain": [
       "['ID_CLIENT',\n",
       " 'CODE_GENDER',\n",
       " 'FLAG_OWN_CAR',\n",
       " 'FLAG_OWN_REALTY',\n",
       " 'CNT_CHILDREN',\n",
       " 'AMT_INCOME_TOTAL',\n",
       " 'NAME_INCOME_TYPE',\n",
       " 'NAME_EDUCATION_TYPE',\n",
       " 'NAME_FAMILY_STATUS',\n",
       " 'NAME_HOUSING_TYPE',\n",
       " 'DAYS_BIRTH',\n",
       " 'DAYS_EMPLOYED',\n",
       " 'FLAG_MOBIL',\n",
       " 'FLAG_WORK_PHONE',\n",
       " 'FLAG_PHONE',\n",
       " 'FLAG_EMAIL',\n",
       " 'CNT_FAM_MEMBERS',\n",
       " Column<'impute_occupation(OCCUPATION_TYPE, DAYS_EMPLOYED) AS OCCUPATION_TYPE'>,\n",
       " 'NPL']"
      ]
     },
     "execution_count": 32,
     "metadata": {},
     "output_type": "execute_result"
    }
   ],
   "source": [
    "# `list_select_occupation` will be used so that we can redefine the `train` DataFrame with the transformed OCCUPATION_TYPE feature.\n",
    "list_select_occupation = train.columns\n",
    "list_select_occupation.remove('OCCUPATION_TYPE')\n",
    "list_select_occupation.insert(-1, impute_occupation('OCCUPATION_TYPE', 'DAYS_EMPLOYED').alias('OCCUPATION_TYPE'))\n",
    "list_select_occupation"
   ]
  },
  {
   "cell_type": "code",
   "execution_count": 33,
   "id": "9909d745",
   "metadata": {
    "execution": {
     "iopub.execute_input": "2024-02-26T20:36:50.096192Z",
     "iopub.status.busy": "2024-02-26T20:36:50.095779Z",
     "iopub.status.idle": "2024-02-26T20:36:50.346661Z",
     "shell.execute_reply": "2024-02-26T20:36:50.345831Z"
    },
    "papermill": {
     "duration": 0.283974,
     "end_time": "2024-02-26T20:36:50.348587",
     "exception": false,
     "start_time": "2024-02-26T20:36:50.064613",
     "status": "completed"
    },
    "tags": []
   },
   "outputs": [
    {
     "name": "stdout",
     "output_type": "stream",
     "text": [
      "+---------+-----------+------------+---------------+------------+----------------+----------------+--------------------+------------------+-----------------+----------+-------------+----------+---------------+----------+----------+---------------+---------------+---+\n",
      "|ID_CLIENT|CODE_GENDER|FLAG_OWN_CAR|FLAG_OWN_REALTY|CNT_CHILDREN|AMT_INCOME_TOTAL|NAME_INCOME_TYPE| NAME_EDUCATION_TYPE|NAME_FAMILY_STATUS|NAME_HOUSING_TYPE|DAYS_BIRTH|DAYS_EMPLOYED|FLAG_MOBIL|FLAG_WORK_PHONE|FLAG_PHONE|FLAG_EMAIL|CNT_FAM_MEMBERS|OCCUPATION_TYPE|NPL|\n",
      "+---------+-----------+------------+---------------+------------+----------------+----------------+--------------------+------------------+-----------------+----------+-------------+----------+---------------+----------+----------+---------------+---------------+---+\n",
      "|      691|          F|           N|              N|           0|         67500.0|         Working|Secondary / secon...|           Married|House / apartment|    -20075|        -7013|         1|              1|         1|         0|            2.0|    Sales staff|  0|\n",
      "|     3606|          F|           N|              N|           0|        112500.0|         Working|Secondary / secon...|           Married|House / apartment|     -9865|         -196|         1|              1|         0|         0|            2.0|       Laborers|  0|\n",
      "|     4821|          F|           N|              N|           0|        135000.0|   State servant|    Higher education|           Married|House / apartment|    -12490|        -1191|         1|              1|         1|         0|            2.0|     Core staff|  0|\n",
      "|     5925|          F|           N|              N|           0|        157500.0|       Pensioner|Secondary / secon...|           Married|House / apartment|    -22828|       365243|         1|              0|         0|         0|            2.0|     Unemployed|  0|\n",
      "|     6194|          F|           N|              N|           0|        157500.0|         Working|   Incomplete higher|           Married|House / apartment|    -16888|        -2687|         1|              0|         0|         0|            2.0|     Core staff|  0|\n",
      "+---------+-----------+------------+---------------+------------+----------------+----------------+--------------------+------------------+-----------------+----------+-------------+----------+---------------+----------+----------+---------------+---------------+---+\n",
      "only showing top 5 rows\n",
      "\n"
     ]
    }
   ],
   "source": [
    "# Applying the modifications to `train`.\n",
    "train = train.select(list_select_occupation)\n",
    "train.show(5)"
   ]
  },
  {
   "cell_type": "markdown",
   "id": "26ad66d8",
   "metadata": {
    "papermill": {
     "duration": 0.030848,
     "end_time": "2024-02-26T20:36:50.407839",
     "exception": false,
     "start_time": "2024-02-26T20:36:50.376991",
     "status": "completed"
    },
    "tags": []
   },
   "source": [
    "<h4 style='font-size:30px;font-style:italic;text-decoration:underline'> Back to the EDA...</h4>"
   ]
  },
  {
   "cell_type": "code",
   "execution_count": 34,
   "id": "24dc8b6d",
   "metadata": {
    "execution": {
     "iopub.execute_input": "2024-02-26T20:36:50.464726Z",
     "iopub.status.busy": "2024-02-26T20:36:50.464355Z",
     "iopub.status.idle": "2024-02-26T20:36:51.143205Z",
     "shell.execute_reply": "2024-02-26T20:36:51.142315Z"
    },
    "papermill": {
     "duration": 0.709908,
     "end_time": "2024-02-26T20:36:51.145534",
     "exception": false,
     "start_time": "2024-02-26T20:36:50.435626",
     "status": "completed"
    },
    "tags": []
   },
   "outputs": [
    {
     "name": "stdout",
     "output_type": "stream",
     "text": [
      "+---+--------+-----+\n",
      "|NPL|EMPLOYED|count|\n",
      "+---+--------+-----+\n",
      "|  0|       0| 1269|\n",
      "|  0|       1| 5932|\n",
      "|  1|       0|   31|\n",
      "|  1|       1|  141|\n",
      "+---+--------+-----+\n",
      "\n"
     ]
    }
   ],
   "source": [
    "# Counting the amount of employed and unemployed individuals per target group.\n",
    "from pyspark.sql.functions import when\n",
    "(train\n",
    "     .withColumn('EMPLOYED', when(col('OCCUPATION_TYPE') == 'Unemployed', 0).otherwise(1))\n",
    "     .groupBy('NPL', 'EMPLOYED')\n",
    "     .count()\n",
    "     .orderBy('NPL', 'EMPLOYED')).show(5)"
   ]
  },
  {
   "cell_type": "code",
   "execution_count": 35,
   "id": "f4f961a8",
   "metadata": {
    "execution": {
     "iopub.execute_input": "2024-02-26T20:36:51.212691Z",
     "iopub.status.busy": "2024-02-26T20:36:51.212323Z",
     "iopub.status.idle": "2024-02-26T20:36:51.220641Z",
     "shell.execute_reply": "2024-02-26T20:36:51.219360Z"
    },
    "papermill": {
     "duration": 0.042003,
     "end_time": "2024-02-26T20:36:51.223281",
     "exception": false,
     "start_time": "2024-02-26T20:36:51.181278",
     "status": "completed"
    },
    "tags": []
   },
   "outputs": [
    {
     "data": {
      "text/plain": [
       "0.41442347321737816"
      ]
     },
     "execution_count": 35,
     "metadata": {},
     "output_type": "execute_result"
    }
   ],
   "source": [
    "# H0: The proportion of unemployed among people with honored debts is the same as with those who didn't.\n",
    "# H1: The proportion of unemployed among people with honored debts is lower than that of those who didn't.\n",
    "\n",
    "# By looking at the p-value, we don't have sufficient statistical evidence to reject H0.\n",
    "test_proportions_2indep(1269, 7201, 31, 172, compare='ratio', alternative='smaller', ).pvalue"
   ]
  },
  {
   "cell_type": "code",
   "execution_count": 36,
   "id": "6056bdb8",
   "metadata": {
    "execution": {
     "iopub.execute_input": "2024-02-26T20:36:51.283863Z",
     "iopub.status.busy": "2024-02-26T20:36:51.283500Z",
     "iopub.status.idle": "2024-02-26T20:36:52.103129Z",
     "shell.execute_reply": "2024-02-26T20:36:52.102189Z"
    },
    "papermill": {
     "duration": 0.853132,
     "end_time": "2024-02-26T20:36:52.105820",
     "exception": false,
     "start_time": "2024-02-26T20:36:51.252688",
     "status": "completed"
    },
    "tags": []
   },
   "outputs": [
    {
     "name": "stderr",
     "output_type": "stream",
     "text": [
      "                                                                                \r"
     ]
    }
   ],
   "source": [
    "# Saving the newly transformed `train` dataset.\n",
    "train.write.parquet('/kaggle/working/train.parquet', mode='overwrite')"
   ]
  },
  {
   "cell_type": "markdown",
   "id": "933fa91b",
   "metadata": {
    "papermill": {
     "duration": 0.028967,
     "end_time": "2024-02-26T20:36:52.164569",
     "exception": false,
     "start_time": "2024-02-26T20:36:52.135602",
     "status": "completed"
    },
    "tags": []
   },
   "source": [
    "<h2 style='font-size:30px'> Modeling Phase</h2>\n",
    "<div> \n",
    "    <ul style='font-size:20px'> \n",
    "        <li> \n",
    "            With the Exploratory Analysis concluded, we can move towards making our AI models that we've promised to the credit team.\n",
    "        </li>\n",
    "        <li> \n",
    "            But firstly, we have to conceive a Pipeline that will transform all our features into numerical format.\n",
    "        </li>\n",
    "    </ul>\n",
    "</div>"
   ]
  },
  {
   "cell_type": "code",
   "execution_count": 37,
   "id": "36919f58",
   "metadata": {
    "execution": {
     "iopub.execute_input": "2024-02-26T20:36:52.227692Z",
     "iopub.status.busy": "2024-02-26T20:36:52.227286Z",
     "iopub.status.idle": "2024-02-26T20:37:01.595720Z",
     "shell.execute_reply": "2024-02-26T20:37:01.594491Z"
    },
    "papermill": {
     "duration": 9.40314,
     "end_time": "2024-02-26T20:37:01.598083",
     "exception": false,
     "start_time": "2024-02-26T20:36:52.194943",
     "status": "completed"
    },
    "tags": []
   },
   "outputs": [
    {
     "name": "stdout",
     "output_type": "stream",
     "text": [
      "Requirement already satisfied: pyspark in /opt/conda/lib/python3.10/site-packages (3.5.1)\r\n",
      "Requirement already satisfied: py4j==0.10.9.7 in /opt/conda/lib/python3.10/site-packages (from pyspark) (0.10.9.7)\r\n",
      "Note: you may need to restart the kernel to use updated packages.\n"
     ]
    }
   ],
   "source": [
    "pip install pyspark"
   ]
  },
  {
   "cell_type": "code",
   "execution_count": 38,
   "id": "1da508a8",
   "metadata": {
    "execution": {
     "iopub.execute_input": "2024-02-26T20:37:01.659391Z",
     "iopub.status.busy": "2024-02-26T20:37:01.659005Z",
     "iopub.status.idle": "2024-02-26T20:37:01.669841Z",
     "shell.execute_reply": "2024-02-26T20:37:01.669228Z"
    },
    "papermill": {
     "duration": 0.043914,
     "end_time": "2024-02-26T20:37:01.671661",
     "exception": false,
     "start_time": "2024-02-26T20:37:01.627747",
     "status": "completed"
    },
    "tags": []
   },
   "outputs": [
    {
     "data": {
      "text/html": [
       "<style>pre { white-space: pre !important; }</style>"
      ],
      "text/plain": [
       "<IPython.core.display.HTML object>"
      ]
     },
     "metadata": {},
     "output_type": "display_data"
    }
   ],
   "source": [
    "from pyspark import SparkContext\n",
    "from pyspark.sql import SparkSession\n",
    "from IPython.core.display import HTML\n",
    "\n",
    "# Creating the project's SparkSession.\n",
    "spark = SparkSession.builder.appName('NPL').getOrCreate()\n",
    "\n",
    "# Also, modifying the session's log level.\n",
    "log_level = spark.sparkContext.setLogLevel('ERROR')\n",
    "\n",
    "# This tiny config enables us to scroll along the DataFrame's columns.\n",
    "display(HTML(\"<style>pre { white-space: pre !important; }</style>\"))"
   ]
  },
  {
   "cell_type": "code",
   "execution_count": 39,
   "id": "b148468f",
   "metadata": {
    "execution": {
     "iopub.execute_input": "2024-02-26T20:37:01.733422Z",
     "iopub.status.busy": "2024-02-26T20:37:01.733066Z",
     "iopub.status.idle": "2024-02-26T20:37:01.923191Z",
     "shell.execute_reply": "2024-02-26T20:37:01.921697Z"
    },
    "papermill": {
     "duration": 0.223858,
     "end_time": "2024-02-26T20:37:01.925577",
     "exception": false,
     "start_time": "2024-02-26T20:37:01.701719",
     "status": "completed"
    },
    "tags": []
   },
   "outputs": [
    {
     "name": "stdout",
     "output_type": "stream",
     "text": [
      "+---------+-----------+------------+---------------+------------+----------------+----------------+--------------------+------------------+-----------------+----------+-------------+----------+---------------+----------+----------+---------------+---------------+---+\n",
      "|ID_CLIENT|CODE_GENDER|FLAG_OWN_CAR|FLAG_OWN_REALTY|CNT_CHILDREN|AMT_INCOME_TOTAL|NAME_INCOME_TYPE| NAME_EDUCATION_TYPE|NAME_FAMILY_STATUS|NAME_HOUSING_TYPE|DAYS_BIRTH|DAYS_EMPLOYED|FLAG_MOBIL|FLAG_WORK_PHONE|FLAG_PHONE|FLAG_EMAIL|CNT_FAM_MEMBERS|OCCUPATION_TYPE|NPL|\n",
      "+---------+-----------+------------+---------------+------------+----------------+----------------+--------------------+------------------+-----------------+----------+-------------+----------+---------------+----------+----------+---------------+---------------+---+\n",
      "|      691|          F|           N|              N|           0|         67500.0|         Working|Secondary / secon...|           Married|House / apartment|    -20075|        -7013|         1|              1|         1|         0|            2.0|    Sales staff|  0|\n",
      "|     3606|          F|           N|              N|           0|        112500.0|         Working|Secondary / secon...|           Married|House / apartment|     -9865|         -196|         1|              1|         0|         0|            2.0|       Laborers|  0|\n",
      "|     4821|          F|           N|              N|           0|        135000.0|   State servant|    Higher education|           Married|House / apartment|    -12490|        -1191|         1|              1|         1|         0|            2.0|     Core staff|  0|\n",
      "|     5925|          F|           N|              N|           0|        157500.0|       Pensioner|Secondary / secon...|           Married|House / apartment|    -22828|       365243|         1|              0|         0|         0|            2.0|     Unemployed|  0|\n",
      "|     6194|          F|           N|              N|           0|        157500.0|         Working|   Incomplete higher|           Married|House / apartment|    -16888|        -2687|         1|              0|         0|         0|            2.0|     Core staff|  0|\n",
      "+---------+-----------+------------+---------------+------------+----------------+----------------+--------------------+------------------+-----------------+----------+-------------+----------+---------------+----------+----------+---------------+---------------+---+\n",
      "only showing top 5 rows\n",
      "\n"
     ]
    }
   ],
   "source": [
    "train = spark.read.parquet('/kaggle/input/npl-train/train-eda.parquet/')\n",
    "train.show(5)"
   ]
  },
  {
   "cell_type": "markdown",
   "id": "ee75ea2c",
   "metadata": {
    "papermill": {
     "duration": 0.030005,
     "end_time": "2024-02-26T20:37:01.990527",
     "exception": false,
     "start_time": "2024-02-26T20:37:01.960522",
     "status": "completed"
    },
    "tags": []
   },
   "source": [
    "<h3 style='font-size:30px;font-style:italic'> Job Labels' Transformer</h3>\n",
    "<div> \n",
    "    <ul style='font-size:20px'> \n",
    "        <li>   \n",
    "            Before making our numeralization process, we must re-implement the 'OCCUPATION_TYPE' column logic that we've written in a formal \n",
    "            PySpark Transformer class. In that way, we'll be able to apply the transformations in the test set as well.\n",
    "        </li>\n",
    "    </ul>\n",
    "</div>"
   ]
  },
  {
   "cell_type": "code",
   "execution_count": 40,
   "id": "709a2987",
   "metadata": {
    "execution": {
     "iopub.execute_input": "2024-02-26T20:37:02.050411Z",
     "iopub.status.busy": "2024-02-26T20:37:02.050045Z",
     "iopub.status.idle": "2024-02-26T20:37:02.130561Z",
     "shell.execute_reply": "2024-02-26T20:37:02.129468Z"
    },
    "papermill": {
     "duration": 0.113591,
     "end_time": "2024-02-26T20:37:02.133124",
     "exception": false,
     "start_time": "2024-02-26T20:37:02.019533",
     "status": "completed"
    },
    "tags": []
   },
   "outputs": [],
   "source": [
    "from pyspark.ml.param.shared import HasInputCol, HasInputCols, HasOutputCol, HasOutputCols, Param, Params, TypeConverters\n",
    "from pyspark.ml.util import DefaultParamsReadable, DefaultParamsWritable\n",
    "from pyspark import keyword_only\n",
    "from pyspark.ml import Transformer\n",
    "from typing import List\n",
    "\n",
    "class _BaseTransformer(Transformer, HasInputCol, HasInputCols, HasOutputCol, HasOutputCols, DefaultParamsReadable, DefaultParamsWritable):\n",
    "    '''\n",
    "        A class that provide the basic functionalities for the project's custom transformers.\n",
    "        \n",
    "        If you consider that your object will require even more customization, you can just overwrite any of the default methods when creating it. Also,\n",
    "        remember that any extra parameter must be set with a `self._setDefault` method right in the `__init__` function, mentioned in the `self.setParams`\n",
    "        method and own a getter function.\n",
    "        \n",
    "        Lastly, don't forget to define the `_transform` function!\n",
    "        \n",
    "        Parameters\n",
    "        ----------\n",
    "        `inputCol`: str\n",
    "            The name of the input column.\n",
    "        `inputCols`: List[str]\n",
    "            List containing the name of input columns.\n",
    "        `outputCol`: str\n",
    "            The name of the output column.\n",
    "        `outputCols`: List[str]\n",
    "            List containing the name of output columns.\n",
    "        \n",
    "        References\n",
    "        ----------\n",
    "        https://medium.com/@zeid.zandi/utilizing-the-power-of-pyspark-pipelines-in-data-science-projects-benefits-and-limitations-2-2-9063e4bebd05\n",
    "        https://www.crowdstrike.com/blog/deep-dive-into-custom-spark-transformers-for-machine-learning-pipelines/\n",
    "    '''\n",
    "    @keyword_only\n",
    "    def __init__(self, inputCol:str=None, inputCols:List[str]=None, outputCol:str=None, outputCols:List[str]=None, *args)->None:\n",
    "        super().__init__()\n",
    "        kwargs = self._input_kwargs\n",
    "        self.setParams(**kwargs)\n",
    "        \n",
    "    @keyword_only\n",
    "    def setParams(self, inputCol=None, inputCols=None, outputCol=None, outputCols=None): \n",
    "        kwargs = self._input_kwargs                                                          \n",
    "        return self._set(**kwargs)\n",
    "    \n",
    "    def setInputCol(self, value):\n",
    "        return self.setParams(inputCol=value)\n",
    "    \n",
    "    def setInputCols(self, value):\n",
    "        self.setParams(inputCols=value)\n",
    "    \n",
    "    def setOutputCol(self, value):\n",
    "        return self.setParams(outputCol=value)\n",
    "    \n",
    "    def setOutputCols(self, value):\n",
    "        return self.setParams(outputCols=value)"
   ]
  },
  {
   "cell_type": "code",
   "execution_count": 41,
   "id": "3773b356",
   "metadata": {
    "execution": {
     "iopub.execute_input": "2024-02-26T20:37:02.196516Z",
     "iopub.status.busy": "2024-02-26T20:37:02.196180Z",
     "iopub.status.idle": "2024-02-26T20:37:02.204674Z",
     "shell.execute_reply": "2024-02-26T20:37:02.203791Z"
    },
    "papermill": {
     "duration": 0.044155,
     "end_time": "2024-02-26T20:37:02.206543",
     "exception": false,
     "start_time": "2024-02-26T20:37:02.162388",
     "status": "completed"
    },
    "tags": []
   },
   "outputs": [],
   "source": [
    "from pyspark.sql import DataFrame\n",
    "from pyspark.sql.functions import udf\n",
    "from pyspark.sql.types import StringType\n",
    "\n",
    "class ImputeProp(_BaseTransformer):\n",
    "    \n",
    "    @staticmethod\n",
    "    @udf(returnType=StringType())\n",
    "    def __impute_occupation(col_occupation:str, col_days_employed:int)->str:\n",
    "        '''\n",
    "        Assigns new categories to the OCCUPATION_TYPE column if it is null for any given row. \n",
    "        \n",
    "        In case the DAYS_EMPLOYED shows that the client is currently employed, we impute 'UNDEFINED'; otherwise, we insert 'UNEMPLOYED'.\n",
    "        \n",
    "        Parameters\n",
    "        ----------\n",
    "        `col_occupation`: str\n",
    "            The row's OCCUPATION_TYPE value.\n",
    "        `col_days_employed`: int\n",
    "            The row's DAYS_EMPLOYED value.\n",
    "        \n",
    "        Returns\n",
    "        -------\n",
    "        The row's OCCUPATION_TYPE treated value.\n",
    "        '''\n",
    "        # 'Undefined' profession logic.\n",
    "        if (col_occupation is None) and (col_days_employed<=0):\n",
    "            return 'Undefined'\n",
    "\n",
    "        # 'Unemployed' logic.\n",
    "        elif (col_occupation is None) and (col_days_employed>0):\n",
    "            return 'Unemployed'\n",
    "\n",
    "        else:\n",
    "            pass\n",
    "\n",
    "        return col_occupation\n",
    "    \n",
    "    def _transform(self, X:DataFrame)->DataFrame:\n",
    "        '''\n",
    "            Performs the new occupation categories imputation.\n",
    "            \n",
    "            Parameter\n",
    "            ---------\n",
    "            `X`: `pyspark.sql.DataFrame`\n",
    "                The project's independent variables.\n",
    "                \n",
    "            Returns\n",
    "            -------\n",
    "            The DataFrame with the treated 'OCCUPATION_TYPE' column.\n",
    "        '''\n",
    "        X = X.withColumn('OCCUPATION_TYPE', self.__impute_occupation('NAME_INCOME_TYPE', 'DAYS_EMPLOYED'))\n",
    "        return X"
   ]
  },
  {
   "cell_type": "markdown",
   "id": "1eafbc7f",
   "metadata": {
    "papermill": {
     "duration": 0.028873,
     "end_time": "2024-02-26T20:37:02.264464",
     "exception": false,
     "start_time": "2024-02-26T20:37:02.235591",
     "status": "completed"
    },
    "tags": []
   },
   "source": [
    "<h3 style='font-size:30px;font-style:italic'> String Columns Numeralization</h3>\n",
    "<div> \n",
    "    <ul style='font-size:20px'> \n",
    "        <li>   \n",
    "            The first transformation we must conduct is turning string columns into float format.\n",
    "        </li>\n",
    "        <li> \n",
    "            As a solution, I'ĺl replace the given category for the its proportion of instances that are defaulted. I think that will be a worthier way \n",
    "            of generating numerical information than just providing a One-Hot Encoding.\n",
    "        </li>\n",
    "    </ul>\n",
    "</div>"
   ]
  },
  {
   "cell_type": "code",
   "execution_count": 42,
   "id": "976874a6",
   "metadata": {
    "execution": {
     "iopub.execute_input": "2024-02-26T20:37:02.325755Z",
     "iopub.status.busy": "2024-02-26T20:37:02.325370Z",
     "iopub.status.idle": "2024-02-26T20:37:02.331960Z",
     "shell.execute_reply": "2024-02-26T20:37:02.330983Z"
    },
    "papermill": {
     "duration": 0.040267,
     "end_time": "2024-02-26T20:37:02.334335",
     "exception": false,
     "start_time": "2024-02-26T20:37:02.294068",
     "status": "completed"
    },
    "tags": []
   },
   "outputs": [],
   "source": [
    "list_col_strings = [col for col, dtype in train.dtypes if dtype=='string' and col !='NPL']"
   ]
  },
  {
   "cell_type": "code",
   "execution_count": 43,
   "id": "65977d86",
   "metadata": {
    "execution": {
     "iopub.execute_input": "2024-02-26T20:37:02.395035Z",
     "iopub.status.busy": "2024-02-26T20:37:02.394675Z",
     "iopub.status.idle": "2024-02-26T20:37:02.399303Z",
     "shell.execute_reply": "2024-02-26T20:37:02.398274Z"
    },
    "papermill": {
     "duration": 0.036568,
     "end_time": "2024-02-26T20:37:02.400984",
     "exception": false,
     "start_time": "2024-02-26T20:37:02.364416",
     "status": "completed"
    },
    "tags": []
   },
   "outputs": [],
   "source": [
    "# Montar ImputeProp\n",
    "# TRANSFORMERS\n",
    "# Ler https://www.crowdstrike.com/blog/deep-dive-into-custom-spark-transformers-for-machine-learning-pipelines/\n",
    "# e depois o https://medium.com/@zeid.zandi/utilizing-the-power-of-pyspark-pipelines-in-data-science-projects-benefits-and-limitations-2-2-9063e4bebd05\n",
    "# antes de prosseguir com o código (nosso Transformer demandará mais de uma coluna de input)\n",
    "# Referência extra: https://stackoverflow.com/questions/41828391/transformer-operating-on-multiple-features-in-pyspark-ml\n",
    "\n",
    "# ESTIMATORS\n",
    "# https://stackoverflow.com/questions/37270446/how-to-create-a-custom-estimatgo/or-in-pyspark"
   ]
  },
  {
   "cell_type": "markdown",
   "id": "e2a83271",
   "metadata": {
    "papermill": {
     "duration": 0.028978,
     "end_time": "2024-02-26T20:37:02.459193",
     "exception": false,
     "start_time": "2024-02-26T20:37:02.430215",
     "status": "completed"
    },
    "tags": []
   },
   "source": [
    "<p style='color:red'>Fazer a classe de numeralização (.PIPELINE.md) </p>"
   ]
  }
 ],
 "metadata": {
  "kaggle": {
   "accelerator": "none",
   "dataSources": [
    {
     "datasetId": 426827,
     "sourceId": 1031720,
     "sourceType": "datasetVersion"
    },
    {
     "datasetId": 3941029,
     "sourceId": 6856406,
     "sourceType": "datasetVersion"
    },
    {
     "datasetId": 3950752,
     "sourceId": 6875350,
     "sourceType": "datasetVersion"
    },
    {
     "datasetId": 3950750,
     "sourceId": 7372877,
     "sourceType": "datasetVersion"
    }
   ],
   "dockerImageVersionId": 30558,
   "isGpuEnabled": false,
   "isInternetEnabled": true,
   "language": "python",
   "sourceType": "notebook"
  },
  "kernelspec": {
   "display_name": "Python 3",
   "language": "python",
   "name": "python3"
  },
  "language_info": {
   "codemirror_mode": {
    "name": "ipython",
    "version": 3
   },
   "file_extension": ".py",
   "mimetype": "text/x-python",
   "name": "python",
   "nbconvert_exporter": "python",
   "pygments_lexer": "ipython3",
   "version": "3.10.12"
  },
  "papermill": {
   "default_parameters": {},
   "duration": 284.077547,
   "end_time": "2024-02-26T20:37:05.108359",
   "environment_variables": {},
   "exception": null,
   "input_path": "__notebook__.ipynb",
   "output_path": "__notebook__.ipynb",
   "parameters": {},
   "start_time": "2024-02-26T20:32:21.030812",
   "version": "2.4.0"
  }
 },
 "nbformat": 4,
 "nbformat_minor": 5
}
