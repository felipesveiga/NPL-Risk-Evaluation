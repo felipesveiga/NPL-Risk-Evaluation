{
 "cells": [
  {
   "cell_type": "markdown",
   "id": "8daa6fb7",
   "metadata": {
    "papermill": {
     "duration": 0.012696,
     "end_time": "2024-01-27T23:02:10.304333",
     "exception": false,
     "start_time": "2024-01-27T23:02:10.291637",
     "status": "completed"
    },
    "tags": []
   },
   "source": [
    "<h1 style='font-size:40px'> NPL Risk Evaluation Modeling</h1>\n",
    "<div style='font-size:20px'> \n",
    "    <ul> \n",
    "        <li> \n",
    "            This project aims the conceiving of a Machine Learning Model focused on assisting a bank on its credit approval strategy.\n",
    "        </li>\n",
    "        <li> \n",
    "            The corporation has been scolded for its recent NPL levels by its shareholders. Thus, the executive team has decided that a more conservative \n",
    "            credit strategy must be adopted for new contracts.\n",
    "        </li>\n",
    "        <li> \n",
    "            During the planning meetings, the business team has made two major requests concerning the nature of the model.\n",
    "            <ul style='list-style-type:decimal'> \n",
    "                <li> \n",
    "                    It must be focused on predicting whether a given client might produce an NPL in the future.\n",
    "                </li>\n",
    "                <li> \n",
    "                    The output must be some kind of score suggesting the likelihood of the event to happen. They are not looking for \n",
    "                    an incisive \"yes or no\" answer.\n",
    "                </li>\n",
    "            </ul>\n",
    "        </li>\n",
    "    </ul>\n",
    "    <p style='margin-left:30px'> <strong> Note:</strong> The bank's NPL definition is any loan which payment is at least 90 days late.</p>\n",
    "</div>"
   ]
  },
  {
   "cell_type": "markdown",
   "id": "ed7f2aec",
   "metadata": {
    "papermill": {
     "duration": 0.011826,
     "end_time": "2024-01-27T23:02:10.328502",
     "exception": false,
     "start_time": "2024-01-27T23:02:10.316676",
     "status": "completed"
    },
    "tags": []
   },
   "source": [
    "<h2 style='font-size:30px'> Data Importing</h2>\n",
    "<div> \n",
    "    <ul style='font-size:20px'> \n",
    "        <li> \n",
    "            The Data Engineers were able to provide two .csv views from the bank's database. The first one contains general information over the clients \n",
    "            and the second lists the loans they've contracted over some period of time.\n",
    "        </li>\n",
    "    </ul>\n",
    "</div>"
   ]
  },
  {
   "cell_type": "code",
   "execution_count": 1,
   "id": "66e1022d",
   "metadata": {
    "execution": {
     "iopub.execute_input": "2024-01-27T23:02:10.354773Z",
     "iopub.status.busy": "2024-01-27T23:02:10.354169Z",
     "iopub.status.idle": "2024-01-27T23:02:58.098073Z",
     "shell.execute_reply": "2024-01-27T23:02:58.096727Z"
    },
    "papermill": {
     "duration": 47.759963,
     "end_time": "2024-01-27T23:02:58.100535",
     "exception": false,
     "start_time": "2024-01-27T23:02:10.340572",
     "status": "completed"
    },
    "tags": []
   },
   "outputs": [
    {
     "name": "stdout",
     "output_type": "stream",
     "text": [
      "Collecting pyspark\r\n",
      "  Downloading pyspark-3.5.0.tar.gz (316.9 MB)\r\n",
      "\u001b[2K     \u001b[90m━━━━━━━━━━━━━━━━━━━━━━━━━━━━━━━━━━━━━━━\u001b[0m \u001b[32m316.9/316.9 MB\u001b[0m \u001b[31m3.7 MB/s\u001b[0m eta \u001b[36m0:00:00\u001b[0m\r\n",
      "\u001b[?25h  Preparing metadata (setup.py) ... \u001b[?25l-\b \bdone\r\n",
      "\u001b[?25hRequirement already satisfied: py4j==0.10.9.7 in /opt/conda/lib/python3.10/site-packages (from pyspark) (0.10.9.7)\r\n",
      "Building wheels for collected packages: pyspark\r\n",
      "  Building wheel for pyspark (setup.py) ... \u001b[?25l-\b \b\\\b \b|\b \bdone\r\n",
      "\u001b[?25h  Created wheel for pyspark: filename=pyspark-3.5.0-py2.py3-none-any.whl size=317425350 sha256=ffcf17c981cf35af37c14c293e6046ceceff7f061a4576daf03885c2ffd16b95\r\n",
      "  Stored in directory: /root/.cache/pip/wheels/41/4e/10/c2cf2467f71c678cfc8a6b9ac9241e5e44a01940da8fbb17fc\r\n",
      "Successfully built pyspark\r\n",
      "Installing collected packages: pyspark\r\n",
      "Successfully installed pyspark-3.5.0\r\n",
      "Note: you may need to restart the kernel to use updated packages.\n"
     ]
    }
   ],
   "source": [
    "pip install pyspark"
   ]
  },
  {
   "cell_type": "code",
   "execution_count": 2,
   "id": "3fb43682",
   "metadata": {
    "execution": {
     "iopub.execute_input": "2024-01-27T23:02:58.140629Z",
     "iopub.status.busy": "2024-01-27T23:02:58.139534Z",
     "iopub.status.idle": "2024-01-27T23:03:03.536883Z",
     "shell.execute_reply": "2024-01-27T23:03:03.535943Z"
    },
    "papermill": {
     "duration": 5.419277,
     "end_time": "2024-01-27T23:03:03.539126",
     "exception": false,
     "start_time": "2024-01-27T23:02:58.119849",
     "status": "completed"
    },
    "tags": []
   },
   "outputs": [
    {
     "name": "stderr",
     "output_type": "stream",
     "text": [
      "Setting default log level to \"WARN\".\n",
      "To adjust logging level use sc.setLogLevel(newLevel). For SparkR, use setLogLevel(newLevel).\n",
      "24/01/27 23:03:01 WARN NativeCodeLoader: Unable to load native-hadoop library for your platform... using builtin-java classes where applicable\n"
     ]
    },
    {
     "data": {
      "text/html": [
       "<style>pre { white-space: pre !important; }</style>"
      ],
      "text/plain": [
       "<IPython.core.display.HTML object>"
      ]
     },
     "metadata": {},
     "output_type": "display_data"
    }
   ],
   "source": [
    "from pyspark import SparkContext\n",
    "from pyspark.sql import SparkSession\n",
    "from IPython.core.display import HTML\n",
    "\n",
    "# Creating the project's SparkSession.\n",
    "spark = SparkSession.builder.appName('NPL').getOrCreate()\n",
    "\n",
    "# Also, modifying the session's log level.\n",
    "log_level = spark.sparkContext.setLogLevel('ERROR')\n",
    "\n",
    "# This tiny config enables us to scroll along the DataFrame's columns.\n",
    "display(HTML(\"<style>pre { white-space: pre !important; }</style>\"))"
   ]
  },
  {
   "cell_type": "markdown",
   "id": "67d8cc4d",
   "metadata": {
    "execution": {
     "iopub.execute_input": "2023-08-15T16:05:33.192895Z",
     "iopub.status.busy": "2023-08-15T16:05:33.192467Z",
     "iopub.status.idle": "2023-08-15T16:05:34.343874Z",
     "shell.execute_reply": "2023-08-15T16:05:34.342739Z",
     "shell.execute_reply.started": "2023-08-15T16:05:33.192858Z"
    },
    "papermill": {
     "duration": 0.01859,
     "end_time": "2024-01-27T23:03:03.576730",
     "exception": false,
     "start_time": "2024-01-27T23:03:03.558140",
     "status": "completed"
    },
    "tags": []
   },
   "source": [
    "<h3 style='font-size:30px;font-style:italic'> Clients Database</h3>\n",
    "<div> \n",
    "    <ul style='font-size:20px'> \n",
    "        <li> \n",
    "            This dataset is comprised of general information about the loans' clients.\n",
    "        </li>    \n",
    "        <li> \n",
    "            A particularity worth noting is that date columns show the negative amount of days since the given event took place. Positive numbers \n",
    "            indicate the number of days since the occurence ceased to exist - as it might happen with unemployed borrowers in the DAYS_EMPLOYED feature.\n",
    "        </li>\n",
    "    </ul>\n",
    "</div>"
   ]
  },
  {
   "cell_type": "code",
   "execution_count": 3,
   "id": "696ca40e",
   "metadata": {
    "execution": {
     "iopub.execute_input": "2024-01-27T23:03:03.617330Z",
     "iopub.status.busy": "2024-01-27T23:03:03.616008Z",
     "iopub.status.idle": "2024-01-27T23:03:10.394225Z",
     "shell.execute_reply": "2024-01-27T23:03:10.393042Z"
    },
    "papermill": {
     "duration": 6.802362,
     "end_time": "2024-01-27T23:03:10.397638",
     "exception": false,
     "start_time": "2024-01-27T23:03:03.595276",
     "status": "completed"
    },
    "tags": []
   },
   "outputs": [
    {
     "name": "stderr",
     "output_type": "stream",
     "text": [
      "                                                                                \r"
     ]
    },
    {
     "name": "stdout",
     "output_type": "stream",
     "text": [
      "+-------+-----------+------------+---------------+------------+----------------+--------------------+--------------------+--------------------+-----------------+----------+-------------+----------+---------------+----------+----------+---------------+---------------+\n",
      "|     ID|CODE_GENDER|FLAG_OWN_CAR|FLAG_OWN_REALTY|CNT_CHILDREN|AMT_INCOME_TOTAL|    NAME_INCOME_TYPE| NAME_EDUCATION_TYPE|  NAME_FAMILY_STATUS|NAME_HOUSING_TYPE|DAYS_BIRTH|DAYS_EMPLOYED|FLAG_MOBIL|FLAG_WORK_PHONE|FLAG_PHONE|FLAG_EMAIL|OCCUPATION_TYPE|CNT_FAM_MEMBERS|\n",
      "+-------+-----------+------------+---------------+------------+----------------+--------------------+--------------------+--------------------+-----------------+----------+-------------+----------+---------------+----------+----------+---------------+---------------+\n",
      "|5008804|          M|           Y|              Y|           0|        427500.0|             Working|    Higher education|      Civil marriage| Rented apartment|    -12005|        -4542|         1|              1|         0|         0|           NULL|            2.0|\n",
      "|5008805|          M|           Y|              Y|           0|        427500.0|             Working|    Higher education|      Civil marriage| Rented apartment|    -12005|        -4542|         1|              1|         0|         0|           NULL|            2.0|\n",
      "|5008806|          M|           Y|              Y|           0|        112500.0|             Working|Secondary / secon...|             Married|House / apartment|    -21474|        -1134|         1|              0|         0|         0| Security staff|            2.0|\n",
      "|5008808|          F|           N|              Y|           0|        270000.0|Commercial associate|Secondary / secon...|Single / not married|House / apartment|    -19110|        -3051|         1|              0|         1|         1|    Sales staff|            1.0|\n",
      "|5008809|          F|           N|              Y|           0|        270000.0|Commercial associate|Secondary / secon...|Single / not married|House / apartment|    -19110|        -3051|         1|              0|         1|         1|    Sales staff|            1.0|\n",
      "+-------+-----------+------------+---------------+------------+----------------+--------------------+--------------------+--------------------+-----------------+----------+-------------+----------+---------------+----------+----------+---------------+---------------+\n",
      "only showing top 5 rows\n",
      "\n"
     ]
    }
   ],
   "source": [
    "path_clients = '/kaggle/input/credit-card-approval-prediction/application_record.csv'\n",
    "\n",
    "# Defining the data types from the clients dataset.\n",
    "schema_clients = '''\n",
    "`ID` STRING, `CODE_GENDER` STRING, `FLAG_OWN_CAR` STRING, `FLAG_OWN_REALTY` STRING, `CNT_CHILDREN` INT,\n",
    "`AMT_INCOME_TOTAL` FLOAT, `NAME_INCOME_TYPE` STRING, `NAME_EDUCATION_TYPE` STRING, `NAME_FAMILY_STATUS` STRING, `NAME_HOUSING_TYPE` STRING,\n",
    "`DAYS_BIRTH` INT, `DAYS_EMPLOYED` INT, `FLAG_MOBIL` STRING, `FLAG_WORK_PHONE` STRING, `FLAG_PHONE` STRING, `FLAG_EMAIL` STRING, \n",
    "`OCCUPATION_TYPE` STRING, `CNT_FAM_MEMBERS` DOUBLE\n",
    "'''\n",
    "\n",
    "# Reading the database with the created schema.\n",
    "df_clients = spark.read.csv(path_clients, header=True, schema=schema_clients)\n",
    "df_clients.show(5)"
   ]
  },
  {
   "cell_type": "markdown",
   "id": "9a51808f",
   "metadata": {
    "papermill": {
     "duration": 0.019174,
     "end_time": "2024-01-27T23:03:10.442979",
     "exception": false,
     "start_time": "2024-01-27T23:03:10.423805",
     "status": "completed"
    },
    "tags": []
   },
   "source": [
    "<h4 style='font-size:30px;font-style:italic;text-decoration:underline'> Duplicates Disclaimer</h4>\n",
    "<div> \n",
    "    <ul style='font-size:20px'> \n",
    "        <li> \n",
    "             Clients may not have unique rows in the dataset because the ID column identifies a contracted loan instead of a person.\n",
    "        </li>\n",
    "        <li> \n",
    "            Thus, I've found convenient for the project to create an ID column that assigns a code for each of the clients.\n",
    "        </li>\n",
    "    </ul>\n",
    "</div>"
   ]
  },
  {
   "cell_type": "code",
   "execution_count": 4,
   "id": "1b21b5af",
   "metadata": {
    "execution": {
     "iopub.execute_input": "2024-01-27T23:03:10.482634Z",
     "iopub.status.busy": "2024-01-27T23:03:10.482276Z",
     "iopub.status.idle": "2024-01-27T23:03:13.900442Z",
     "shell.execute_reply": "2024-01-27T23:03:13.899382Z"
    },
    "papermill": {
     "duration": 3.441551,
     "end_time": "2024-01-27T23:03:13.903720",
     "exception": false,
     "start_time": "2024-01-27T23:03:10.462169",
     "status": "completed"
    },
    "tags": []
   },
   "outputs": [
    {
     "name": "stderr",
     "output_type": "stream",
     "text": [
      "[Stage 1:==============>                                            (1 + 3) / 4]\r"
     ]
    },
    {
     "name": "stdout",
     "output_type": "stream",
     "text": [
      "+-------+-----+\n",
      "|     ID|count|\n",
      "+-------+-----+\n",
      "|7742298|    2|\n",
      "|7174719|    2|\n",
      "|7091721|    2|\n",
      "|7089090|    2|\n",
      "|7022197|    2|\n",
      "+-------+-----+\n",
      "only showing top 5 rows\n",
      "\n"
     ]
    },
    {
     "name": "stderr",
     "output_type": "stream",
     "text": [
      "                                                                                \r"
     ]
    }
   ],
   "source": [
    "# Another issue unnoticed by the Data Engineers is that the database contains repeated Loan ID's.\n",
    "from pyspark.sql.functions import max as ps_max\n",
    "\n",
    "# Observe that there are Loans mentioned two times. It would be proper to disconsider them. \n",
    "data_duplicate_id = (df_clients\n",
    "                     .groupBy('ID')\n",
    "                     .count()\n",
    "                     .filter('`count`>1')\n",
    "                            )\n",
    "data_duplicate_id.show(5)"
   ]
  },
  {
   "cell_type": "code",
   "execution_count": 5,
   "id": "5a2b9109",
   "metadata": {
    "execution": {
     "iopub.execute_input": "2024-01-27T23:03:13.967621Z",
     "iopub.status.busy": "2024-01-27T23:03:13.967119Z",
     "iopub.status.idle": "2024-01-27T23:03:16.486442Z",
     "shell.execute_reply": "2024-01-27T23:03:16.485364Z"
    },
    "papermill": {
     "duration": 2.555012,
     "end_time": "2024-01-27T23:03:16.489138",
     "exception": false,
     "start_time": "2024-01-27T23:03:13.934126",
     "status": "completed"
    },
    "tags": []
   },
   "outputs": [
    {
     "name": "stderr",
     "output_type": "stream",
     "text": [
      "[Stage 5:>                                                          (0 + 3) / 3]\r"
     ]
    },
    {
     "name": "stdout",
     "output_type": "stream",
     "text": [
      "+-------+-----------+------------+---------------+------------+----------------+----------------+--------------------+------------------+-----------------+----------+-------------+----------+---------------+----------+----------+---------------+---------------+\n",
      "|     ID|CODE_GENDER|FLAG_OWN_CAR|FLAG_OWN_REALTY|CNT_CHILDREN|AMT_INCOME_TOTAL|NAME_INCOME_TYPE| NAME_EDUCATION_TYPE|NAME_FAMILY_STATUS|NAME_HOUSING_TYPE|DAYS_BIRTH|DAYS_EMPLOYED|FLAG_MOBIL|FLAG_WORK_PHONE|FLAG_PHONE|FLAG_EMAIL|OCCUPATION_TYPE|CNT_FAM_MEMBERS|\n",
      "+-------+-----------+------------+---------------+------------+----------------+----------------+--------------------+------------------+-----------------+----------+-------------+----------+---------------+----------+----------+---------------+---------------+\n",
      "|7742298|          F|           N|              Y|           0|        144000.0|         Working|Secondary / secon...|             Widow|House / apartment|    -20626|        -1455|         1|              0|         0|         0|  Cooking staff|            1.0|\n",
      "|7742298|          M|           N|              N|           0|        112500.0|         Working|Secondary / secon...|           Married|House / apartment|    -18239|        -5428|         1|              1|         0|         0|           NULL|            2.0|\n",
      "+-------+-----------+------------+---------------+------------+----------------+----------------+--------------------+------------------+-----------------+----------+-------------+----------+---------------+----------+----------+---------------+---------------+\n",
      "\n"
     ]
    },
    {
     "name": "stderr",
     "output_type": "stream",
     "text": [
      "                                                                                \r"
     ]
    }
   ],
   "source": [
    "# If we take a peek on the first mentioned ID, we can notice that the presented loan actually is assigned to two different people!\n",
    "\n",
    "# Thus, the presence of such deals is potentially harmful for our model. It would be sensible to discard such ID's from the database.\n",
    "df_clients.filter('`ID`==7742298').show()"
   ]
  },
  {
   "cell_type": "code",
   "execution_count": 6,
   "id": "30f07a71",
   "metadata": {
    "execution": {
     "iopub.execute_input": "2024-01-27T23:03:16.589852Z",
     "iopub.status.busy": "2024-01-27T23:03:16.589475Z",
     "iopub.status.idle": "2024-01-27T23:03:16.685689Z",
     "shell.execute_reply": "2024-01-27T23:03:16.684560Z"
    },
    "papermill": {
     "duration": 0.176808,
     "end_time": "2024-01-27T23:03:16.688836",
     "exception": false,
     "start_time": "2024-01-27T23:03:16.512028",
     "status": "completed"
    },
    "tags": []
   },
   "outputs": [],
   "source": [
    "# Dropping out the problematic loans.\n",
    "df_clients = data_duplicate_id.join(df_clients, how='right', on='ID').where('`count` IS NULL').drop('count')"
   ]
  },
  {
   "cell_type": "code",
   "execution_count": 7,
   "id": "cc431f06",
   "metadata": {
    "execution": {
     "iopub.execute_input": "2024-01-27T23:03:16.753921Z",
     "iopub.status.busy": "2024-01-27T23:03:16.753118Z",
     "iopub.status.idle": "2024-01-27T23:03:16.788816Z",
     "shell.execute_reply": "2024-01-27T23:03:16.787753Z"
    },
    "papermill": {
     "duration": 0.07094,
     "end_time": "2024-01-27T23:03:16.791635",
     "exception": false,
     "start_time": "2024-01-27T23:03:16.720695",
     "status": "completed"
    },
    "tags": []
   },
   "outputs": [
    {
     "data": {
      "text/plain": [
       "['CODE_GENDER',\n",
       " 'FLAG_OWN_CAR',\n",
       " 'FLAG_OWN_REALTY',\n",
       " 'CNT_CHILDREN',\n",
       " 'AMT_INCOME_TOTAL',\n",
       " 'NAME_INCOME_TYPE',\n",
       " 'NAME_EDUCATION_TYPE',\n",
       " 'NAME_FAMILY_STATUS',\n",
       " 'NAME_HOUSING_TYPE',\n",
       " 'DAYS_BIRTH',\n",
       " 'DAYS_EMPLOYED',\n",
       " 'FLAG_MOBIL',\n",
       " 'FLAG_WORK_PHONE',\n",
       " 'FLAG_PHONE',\n",
       " 'FLAG_EMAIL',\n",
       " 'OCCUPATION_TYPE',\n",
       " 'CNT_FAM_MEMBERS']"
      ]
     },
     "execution_count": 7,
     "metadata": {},
     "output_type": "execute_result"
    }
   ],
   "source": [
    "# Listing the `df_clients` features with the exception of ID.\n",
    "features_clients = df_clients.columns\n",
    "features_clients.remove('ID')\n",
    "features_clients"
   ]
  },
  {
   "cell_type": "code",
   "execution_count": 8,
   "id": "1fb068cb",
   "metadata": {
    "execution": {
     "iopub.execute_input": "2024-01-27T23:03:16.859690Z",
     "iopub.status.busy": "2024-01-27T23:03:16.858748Z",
     "iopub.status.idle": "2024-01-27T23:03:24.818318Z",
     "shell.execute_reply": "2024-01-27T23:03:24.817147Z"
    },
    "papermill": {
     "duration": 7.996914,
     "end_time": "2024-01-27T23:03:24.821063",
     "exception": false,
     "start_time": "2024-01-27T23:03:16.824149",
     "status": "completed"
    },
    "tags": []
   },
   "outputs": [
    {
     "name": "stderr",
     "output_type": "stream",
     "text": [
      "                                                                                \r"
     ]
    },
    {
     "name": "stdout",
     "output_type": "stream",
     "text": [
      "`df_clients` length: 438463\n"
     ]
    },
    {
     "name": "stderr",
     "output_type": "stream",
     "text": [
      "[Stage 15:=============================>                            (2 + 2) / 4]\r"
     ]
    },
    {
     "name": "stdout",
     "output_type": "stream",
     "text": [
      "Number of clients: 90084\n"
     ]
    },
    {
     "name": "stderr",
     "output_type": "stream",
     "text": [
      "                                                                                \r"
     ]
    }
   ],
   "source": [
    "# Now, getting back to the Client's ID issue, I'd like to present a brief analysis on it.\n",
    "# Note that the database's actual amount of clients is lower than its number of rows. \n",
    "data_clients = df_clients.dropDuplicates(features_clients) \n",
    "print(f'`df_clients` length: {df_clients.count()}')\n",
    "print(f'Number of clients: {data_clients.count()}')"
   ]
  },
  {
   "cell_type": "code",
   "execution_count": 9,
   "id": "e7b133b0",
   "metadata": {
    "execution": {
     "iopub.execute_input": "2024-01-27T23:03:24.883650Z",
     "iopub.status.busy": "2024-01-27T23:03:24.883200Z",
     "iopub.status.idle": "2024-01-27T23:03:25.034818Z",
     "shell.execute_reply": "2024-01-27T23:03:25.033730Z"
    },
    "papermill": {
     "duration": 0.182871,
     "end_time": "2024-01-27T23:03:25.037850",
     "exception": false,
     "start_time": "2024-01-27T23:03:24.854979",
     "status": "completed"
    },
    "tags": []
   },
   "outputs": [],
   "source": [
    "# We'll assign an ID for every client mentioned in `df_clients`. \n",
    "from pyspark.sql.functions import cast, row_number\n",
    "from pyspark.sql.types import StringType\n",
    "from pyspark.sql.window import Window\n",
    "\n",
    "window = Window.orderBy(features_clients)\n",
    "row_window = row_number().over(window)\n",
    "\n",
    "# A DataFrame with the clients' data and actual ID.\n",
    "df_id_clients = data_clients.withColumn('ID_CLIENT', row_window.cast(StringType())).drop('ID')"
   ]
  },
  {
   "cell_type": "code",
   "execution_count": 10,
   "id": "cdb50974",
   "metadata": {
    "execution": {
     "iopub.execute_input": "2024-01-27T23:03:25.106548Z",
     "iopub.status.busy": "2024-01-27T23:03:25.106074Z",
     "iopub.status.idle": "2024-01-27T23:03:36.134046Z",
     "shell.execute_reply": "2024-01-27T23:03:36.132244Z"
    },
    "papermill": {
     "duration": 11.067556,
     "end_time": "2024-01-27T23:03:36.139043",
     "exception": false,
     "start_time": "2024-01-27T23:03:25.071487",
     "status": "completed"
    },
    "tags": []
   },
   "outputs": [
    {
     "name": "stderr",
     "output_type": "stream",
     "text": [
      "[Stage 35:>                                                         (0 + 1) / 1]\r"
     ]
    },
    {
     "name": "stdout",
     "output_type": "stream",
     "text": [
      "+-------+-----------+------------+---------------+------------+----------------+----------------+--------------------+------------------+-----------------+----------+-------------+----------+---------------+----------+----------+---------------+---------------+---------+\n",
      "|     ID|CODE_GENDER|FLAG_OWN_CAR|FLAG_OWN_REALTY|CNT_CHILDREN|AMT_INCOME_TOTAL|NAME_INCOME_TYPE| NAME_EDUCATION_TYPE|NAME_FAMILY_STATUS|NAME_HOUSING_TYPE|DAYS_BIRTH|DAYS_EMPLOYED|FLAG_MOBIL|FLAG_WORK_PHONE|FLAG_PHONE|FLAG_EMAIL|OCCUPATION_TYPE|CNT_FAM_MEMBERS|ID_CLIENT|\n",
      "+-------+-----------+------------+---------------+------------+----------------+----------------+--------------------+------------------+-----------------+----------+-------------+----------+---------------+----------+----------+---------------+---------------+---------+\n",
      "|5996382|          F|           N|              N|           0|         28800.0|       Pensioner|Secondary / secon...|           Married|House / apartment|    -20298|       365243|         1|              0|         1|         0|           NULL|            2.0|        7|\n",
      "|5996383|          F|           N|              N|           0|         28800.0|       Pensioner|Secondary / secon...|           Married|House / apartment|    -20298|       365243|         1|              0|         1|         0|           NULL|            2.0|        7|\n",
      "|5996384|          F|           N|              N|           0|         28800.0|       Pensioner|Secondary / secon...|           Married|House / apartment|    -20298|       365243|         1|              0|         1|         0|           NULL|            2.0|        7|\n",
      "|6499066|          F|           N|              N|           0|         29133.0|       Pensioner|Secondary / secon...|           Married|House / apartment|    -20945|       365243|         1|              0|         1|         0|           NULL|            2.0|        8|\n",
      "|6499067|          F|           N|              N|           0|         29133.0|       Pensioner|Secondary / secon...|           Married|House / apartment|    -20945|       365243|         1|              0|         1|         0|           NULL|            2.0|        8|\n",
      "+-------+-----------+------------+---------------+------------+----------------+----------------+--------------------+------------------+-----------------+----------+-------------+----------+---------------+----------+----------+---------------+---------------+---------+\n",
      "only showing top 5 rows\n",
      "\n"
     ]
    },
    {
     "name": "stderr",
     "output_type": "stream",
     "text": [
      "                                                                                \r"
     ]
    }
   ],
   "source": [
    "# We'll need to perform Null Safe JOIN's, since columns such as 'OCCUPATION_TYPE' contain null values.\n",
    "from functools import reduce\n",
    "\n",
    "# Creating the multiple null safe JOIN's condition.\n",
    "condition_id_client = reduce(lambda x,y: x&y, [df_clients[col].eqNullSafe(df_id_clients[col]) for col in features_clients])\n",
    "columns_join_id = ['df_clients.*', 'df_id_clients.ID_CLIENT'] # Listing the JOIN columns.\n",
    "\n",
    "# Consolidating the final clients database.\n",
    "df_clients = (df_clients.alias('df_clients') # Resorting to aliases for both DataFrames present columns with same names.\n",
    "                 .join(df_id_clients.alias('df_id_clients'), condition_id_client)\n",
    "                 .select(columns_join_id))\n",
    "df_clients.show(5)"
   ]
  },
  {
   "cell_type": "markdown",
   "id": "5abc83cf",
   "metadata": {
    "execution": {
     "iopub.execute_input": "2023-08-15T16:05:33.192895Z",
     "iopub.status.busy": "2023-08-15T16:05:33.192467Z",
     "iopub.status.idle": "2023-08-15T16:05:34.343874Z",
     "shell.execute_reply": "2023-08-15T16:05:34.342739Z",
     "shell.execute_reply.started": "2023-08-15T16:05:33.192858Z"
    },
    "papermill": {
     "duration": 0.032691,
     "end_time": "2024-01-27T23:03:36.205343",
     "exception": false,
     "start_time": "2024-01-27T23:03:36.172652",
     "status": "completed"
    },
    "tags": []
   },
   "source": [
    "<h3 style='font-size:30px;font-style:italic'> Loans Database</h3>\n",
    "<div> \n",
    "    <ul style='font-size:20px'> \n",
    "        <li> \n",
    "            This table contains the payments records for every loan since its contraction. \n",
    "        </li>\n",
    "        <li> \n",
    "            But in order to the dataset be adequate to our project's intent, two transformations are necessary: first, we need to bring the `ID_CLIENT`\n",
    "            column to it and after that, group the database so that it denounces individuals who've produced an NPL at least once.            \n",
    "        </li>\n",
    "    </ul>\n",
    "</div>"
   ]
  },
  {
   "cell_type": "code",
   "execution_count": 11,
   "id": "6932e901",
   "metadata": {
    "execution": {
     "iopub.execute_input": "2024-01-27T23:03:36.274149Z",
     "iopub.status.busy": "2024-01-27T23:03:36.273535Z",
     "iopub.status.idle": "2024-01-27T23:03:36.458953Z",
     "shell.execute_reply": "2024-01-27T23:03:36.457760Z"
    },
    "papermill": {
     "duration": 0.223473,
     "end_time": "2024-01-27T23:03:36.462325",
     "exception": false,
     "start_time": "2024-01-27T23:03:36.238852",
     "status": "completed"
    },
    "tags": []
   },
   "outputs": [
    {
     "name": "stdout",
     "output_type": "stream",
     "text": [
      "+-------+--------------+------+\n",
      "|     ID|MONTHS_BALANCE|STATUS|\n",
      "+-------+--------------+------+\n",
      "|5001711|             0|     X|\n",
      "|5001711|            -1|     0|\n",
      "|5001711|            -2|     0|\n",
      "|5001711|            -3|     0|\n",
      "|5001712|             0|     C|\n",
      "+-------+--------------+------+\n",
      "only showing top 5 rows\n",
      "\n"
     ]
    }
   ],
   "source": [
    "# Bringing the dataset into our notebook.\n",
    "path_loans = '/kaggle/input/credit-card-approval-prediction/credit_record.csv'\n",
    "schema_loans = '`ID` STRING, `MONTHS_BALANCE` INT, `STATUS` STRING'\n",
    "df_loans = spark.read.csv(path_loans, header=True, schema=schema_loans)\n",
    "df_loans.show(5) "
   ]
  },
  {
   "cell_type": "code",
   "execution_count": 12,
   "id": "e459eb94",
   "metadata": {
    "execution": {
     "iopub.execute_input": "2024-01-27T23:03:36.535873Z",
     "iopub.status.busy": "2024-01-27T23:03:36.534450Z",
     "iopub.status.idle": "2024-01-27T23:03:49.245980Z",
     "shell.execute_reply": "2024-01-27T23:03:49.244935Z"
    },
    "papermill": {
     "duration": 12.751852,
     "end_time": "2024-01-27T23:03:49.249103",
     "exception": false,
     "start_time": "2024-01-27T23:03:36.497251",
     "status": "completed"
    },
    "tags": []
   },
   "outputs": [
    {
     "name": "stderr",
     "output_type": "stream",
     "text": [
      "[Stage 52:>                                                         (0 + 4) / 4]\r"
     ]
    },
    {
     "name": "stdout",
     "output_type": "stream",
     "text": [
      "+---------+-------+--------------+------+\n",
      "|ID_CLIENT|     ID|MONTHS_BALANCE|STATUS|\n",
      "+---------+-------+--------------+------+\n",
      "|    34269|5008810|             0|     C|\n",
      "|    34269|5008810|            -1|     C|\n",
      "|    34269|5008810|            -2|     C|\n",
      "|    34269|5008810|            -3|     C|\n",
      "|    34269|5008810|            -4|     C|\n",
      "+---------+-------+--------------+------+\n",
      "only showing top 5 rows\n",
      "\n"
     ]
    },
    {
     "name": "stderr",
     "output_type": "stream",
     "text": [
      "                                                                                \r"
     ]
    }
   ],
   "source": [
    "# Now, providing the loans' client ID.\n",
    "df_loans = df_loans.join(df_clients, ['ID']).select(['ID_CLIENT', 'ID', 'MONTHS_BALANCE', 'STATUS'])\n",
    "df_loans.show(5)"
   ]
  },
  {
   "cell_type": "markdown",
   "id": "5e6daaee",
   "metadata": {
    "papermill": {
     "duration": 0.034333,
     "end_time": "2024-01-27T23:03:49.325414",
     "exception": false,
     "start_time": "2024-01-27T23:03:49.291081",
     "status": "completed"
    },
    "tags": []
   },
   "source": [
    "<h4 style='font-size:30px;font-style:italic;text-decoration:underline'> Conceiving the Target Variable</h4>\n",
    "<div> \n",
    "    <ul style='font-size:20px'> \n",
    "        <li> \n",
    "            The `STATUS` column presents a handful of codes that represent distinct status for a loan's payment. Their definition is as follows:\n",
    "            <table style='font-size:15px;margin-top:20px'> \n",
    "                <tr>\n",
    "                    <th> Code</th>\n",
    "                    <th> Definition</th>\n",
    "                </tr>\n",
    "                <tr> \n",
    "                    <td> C</td>\n",
    "                    <td> Paid off that month</td>\n",
    "                </tr>\n",
    "                <tr> \n",
    "                    <td> 0</td>\n",
    "                    <td> 1-29 days past due</td>\n",
    "                </tr>\n",
    "                <tr> \n",
    "                    <td> 1</td>\n",
    "                    <td> 30-59 days past due </td>\n",
    "                </tr>\n",
    "                <tr> \n",
    "                    <td> 2</td>\n",
    "                    <td> 60-89 days past due </td>\n",
    "                </tr>\n",
    "                <tr> \n",
    "                    <td> 3</td>\n",
    "                    <td> 90-119 days past due </td>\n",
    "                </tr>\n",
    "                <tr> \n",
    "                    <td> 4</td>\n",
    "                    <td> 120-149 days past due </td>\n",
    "                </tr>\n",
    "                <tr> \n",
    "                    <td> 5</td>\n",
    "                    <td> Overdue or bad debts,<p> write-offs for more than 150 days</p> </td>\n",
    "                </tr>\n",
    "                <tr> \n",
    "                    <td> X</td>\n",
    "                    <td> No loan for the month</td>\n",
    "                </tr>\n",
    "            </table>\n",
    "        </li>\n",
    "        <li style='margin-top:20px'> \n",
    "            Observe that in our case only the 3, 4 and 5 codes are of our interest. Thus it would be convenient to create a binary flag that denounces whether \n",
    "            the individual has ever caused an NPL.\n",
    "        </li>\n",
    "    </ul>\n",
    "</div>"
   ]
  },
  {
   "cell_type": "code",
   "execution_count": 13,
   "id": "5dce3d09",
   "metadata": {
    "execution": {
     "iopub.execute_input": "2024-01-27T23:03:49.396490Z",
     "iopub.status.busy": "2024-01-27T23:03:49.395974Z",
     "iopub.status.idle": "2024-01-27T23:03:50.332221Z",
     "shell.execute_reply": "2024-01-27T23:03:50.331242Z"
    },
    "papermill": {
     "duration": 0.974921,
     "end_time": "2024-01-27T23:03:50.334744",
     "exception": false,
     "start_time": "2024-01-27T23:03:49.359823",
     "status": "completed"
    },
    "tags": []
   },
   "outputs": [],
   "source": [
    "# The dependent variable's conception needs a custom GroupBy that PySpark is unable to perform by itself. Hence, we \n",
    "# are going to resort to pandas in this section.\n",
    "import pandas as pd\n",
    "\n",
    "# Defining the GroupBy's schema.\n",
    "schema_flag_npl = '`ID_CLIENT` STRING, `NPL` STRING'\n",
    "\n",
    "# This lambda expression signs whether a client has ever produced an NPL in the past.\n",
    "lambda_npl = lambda x: '1' if x.STATUS.isin(['3', '4', '5']).any() else '0'\n",
    "\n",
    "def has_npl(df:pd.DataFrame)->pd.DataFrame:\n",
    "    '''\n",
    "        Verifies if a client's  records contain any sort of Non-Performing Loan.\n",
    "        \n",
    "        Parameter\n",
    "        ---------\n",
    "        `df`: pd.DataFrame \n",
    "            The loan records of a certain client.\n",
    "        \n",
    "        Returns\n",
    "        -------\n",
    "        A `pd.DataFrame` with the client's ID and a flag indicating NPL existence in their loan history. \n",
    "    '''\n",
    "    output = df.groupby(['ID_CLIENT']).apply(lambda_npl) # `lambda_npl` takes care of the flags creation.\n",
    "    output.name = 'NPL' # Setting the flag column's name.\n",
    "    return output.reset_index()\n",
    "\n",
    "# Finally, generating our target-variable.\n",
    "target = df_loans.groupBy('ID_CLIENT').applyInPandas(has_npl, schema_flag_npl)"
   ]
  },
  {
   "cell_type": "markdown",
   "id": "1b025d24",
   "metadata": {
    "papermill": {
     "duration": 0.022171,
     "end_time": "2024-01-27T23:03:50.379766",
     "exception": false,
     "start_time": "2024-01-27T23:03:50.357595",
     "status": "completed"
    },
    "tags": []
   },
   "source": [
    "<h2 style='font-size:30px'> Consolidating the Data</h2>\n",
    "<div> \n",
    "    <ul style='font-size:20px'> \n",
    "        <li> \n",
    "            With both datasets properly treated, we are able to JOIN them in a single table.\n",
    "        </li>\n",
    "    </ul>\n",
    "</div>"
   ]
  },
  {
   "cell_type": "code",
   "execution_count": 14,
   "id": "b65c427c",
   "metadata": {
    "execution": {
     "iopub.execute_input": "2024-01-27T23:03:50.426032Z",
     "iopub.status.busy": "2024-01-27T23:03:50.425541Z",
     "iopub.status.idle": "2024-01-27T23:03:50.491636Z",
     "shell.execute_reply": "2024-01-27T23:03:50.490535Z"
    },
    "papermill": {
     "duration": 0.092513,
     "end_time": "2024-01-27T23:03:50.494648",
     "exception": false,
     "start_time": "2024-01-27T23:03:50.402135",
     "status": "completed"
    },
    "tags": []
   },
   "outputs": [],
   "source": [
    "# Finally, enriching the clients information with the NPL flag.\n",
    "df = df_id_clients.join(target, how='inner', on='ID_CLIENT')"
   ]
  },
  {
   "cell_type": "code",
   "execution_count": 15,
   "id": "7b8bc0ab",
   "metadata": {
    "execution": {
     "iopub.execute_input": "2024-01-27T23:03:50.567527Z",
     "iopub.status.busy": "2024-01-27T23:03:50.566883Z",
     "iopub.status.idle": "2024-01-27T23:03:50.572285Z",
     "shell.execute_reply": "2024-01-27T23:03:50.571078Z"
    },
    "papermill": {
     "duration": 0.045053,
     "end_time": "2024-01-27T23:03:50.576568",
     "exception": false,
     "start_time": "2024-01-27T23:03:50.531515",
     "status": "completed"
    },
    "tags": []
   },
   "outputs": [],
   "source": [
    "#df.write.parquet('/kaggle/input/df-parquet', mode='overwrite')"
   ]
  },
  {
   "cell_type": "markdown",
   "id": "f04e0e17",
   "metadata": {
    "papermill": {
     "duration": 0.034148,
     "end_time": "2024-01-27T23:03:50.646027",
     "exception": false,
     "start_time": "2024-01-27T23:03:50.611879",
     "status": "completed"
    },
    "tags": []
   },
   "source": [
    "<h2 style='font-size:30px'> Dataset Splitting</h2>\n",
    "<div> \n",
    "    <ul style='font-size:20px'> \n",
    "        <li> \n",
    "            With the dataset properly treated, we are able to begin our EDA and model creation. But firstly we have to separate the data in \n",
    "            the training and test tables.\n",
    "        </li>\n",
    "    </ul>\n",
    "</div>"
   ]
  },
  {
   "cell_type": "code",
   "execution_count": 16,
   "id": "78c31923",
   "metadata": {
    "execution": {
     "iopub.execute_input": "2024-01-27T23:03:50.696025Z",
     "iopub.status.busy": "2024-01-27T23:03:50.694831Z",
     "iopub.status.idle": "2024-01-27T23:04:48.530973Z",
     "shell.execute_reply": "2024-01-27T23:04:48.529782Z"
    },
    "papermill": {
     "duration": 57.865923,
     "end_time": "2024-01-27T23:04:48.534381",
     "exception": false,
     "start_time": "2024-01-27T23:03:50.668458",
     "status": "completed"
    },
    "tags": []
   },
   "outputs": [
    {
     "name": "stderr",
     "output_type": "stream",
     "text": [
      "[Stage 132:==========================================>              (3 + 1) / 4]\r"
     ]
    },
    {
     "name": "stdout",
     "output_type": "stream",
     "text": [
      "+---+-----+-------------------+\n",
      "|NPL|count|         proportion|\n",
      "+---+-----+-------------------+\n",
      "|  0| 9509| 0.9774876644736842|\n",
      "|  1|  219|0.02251233552631579|\n",
      "+---+-----+-------------------+\n",
      "\n"
     ]
    },
    {
     "name": "stderr",
     "output_type": "stream",
     "text": [
      "                                                                                \r"
     ]
    }
   ],
   "source": [
    "# As we can see, we are dealing with an unbalanced dataset case. Thus it is interesting to maintain the target value proportions\n",
    "# in both training and test sets.\n",
    "from pyspark.sql.functions import col\n",
    "\n",
    "df.groupBy('NPL').count().withColumn('proportion', col('count')/df.count()).show()"
   ]
  },
  {
   "cell_type": "code",
   "execution_count": 17,
   "id": "4860cf25",
   "metadata": {
    "execution": {
     "iopub.execute_input": "2024-01-27T23:04:48.615187Z",
     "iopub.status.busy": "2024-01-27T23:04:48.614710Z",
     "iopub.status.idle": "2024-01-27T23:04:49.089159Z",
     "shell.execute_reply": "2024-01-27T23:04:49.087954Z"
    },
    "papermill": {
     "duration": 0.517911,
     "end_time": "2024-01-27T23:04:49.092608",
     "exception": false,
     "start_time": "2024-01-27T23:04:48.574697",
     "status": "completed"
    },
    "tags": []
   },
   "outputs": [],
   "source": [
    "# Creating the training and test sets.\n",
    "train = df.sampleBy('NPL', fractions={'0':.75, '1':.75}, seed=42)\n",
    "test = df.subtract(train)"
   ]
  },
  {
   "cell_type": "code",
   "execution_count": 18,
   "id": "4449d38f",
   "metadata": {
    "execution": {
     "iopub.execute_input": "2024-01-27T23:04:49.145693Z",
     "iopub.status.busy": "2024-01-27T23:04:49.145179Z",
     "iopub.status.idle": "2024-01-27T23:06:29.400044Z",
     "shell.execute_reply": "2024-01-27T23:06:29.398916Z"
    },
    "papermill": {
     "duration": 100.284073,
     "end_time": "2024-01-27T23:06:29.403094",
     "exception": false,
     "start_time": "2024-01-27T23:04:49.119021",
     "status": "completed"
    },
    "tags": []
   },
   "outputs": [
    {
     "name": "stdout",
     "output_type": "stream",
     "text": [
      "*** TRAIN ***\n"
     ]
    },
    {
     "name": "stderr",
     "output_type": "stream",
     "text": [
      "                                                                                \r"
     ]
    },
    {
     "name": "stdout",
     "output_type": "stream",
     "text": [
      "+---+-----+--------------------+\n",
      "|NPL|count|          proportion|\n",
      "+---+-----+--------------------+\n",
      "|  0| 7205|  0.9785413554257776|\n",
      "|  1|  158|0.021458644574222464|\n",
      "+---+-----+--------------------+\n",
      "\n",
      "*** TEST ***\n"
     ]
    },
    {
     "name": "stderr",
     "output_type": "stream",
     "text": [
      "                                                                                \r"
     ]
    },
    {
     "name": "stdout",
     "output_type": "stream",
     "text": [
      "+---+-----+--------------------+\n",
      "|NPL|count|          proportion|\n",
      "+---+-----+--------------------+\n",
      "|  0| 2308|  0.9800424628450106|\n",
      "|  1|   47|0.019957537154989383|\n",
      "+---+-----+--------------------+\n",
      "\n"
     ]
    }
   ],
   "source": [
    "# Since the class proportions are relatively proximate, we are able to use them in our project.\n",
    "print('*** TRAIN ***')\n",
    "train.groupBy('NPL').count().withColumn('proportion', col('count')/train.count()).show()\n",
    "print('*** TEST ***')\n",
    "test.groupBy('NPL').count().withColumn('proportion', col('count')/test.count()).show()"
   ]
  },
  {
   "cell_type": "code",
   "execution_count": 19,
   "id": "06923a65",
   "metadata": {
    "execution": {
     "iopub.execute_input": "2024-01-27T23:06:29.485675Z",
     "iopub.status.busy": "2024-01-27T23:06:29.485292Z",
     "iopub.status.idle": "2024-01-27T23:07:25.395543Z",
     "shell.execute_reply": "2024-01-27T23:07:25.394018Z"
    },
    "papermill": {
     "duration": 55.948096,
     "end_time": "2024-01-27T23:07:25.398886",
     "exception": false,
     "start_time": "2024-01-27T23:06:29.450790",
     "status": "completed"
    },
    "tags": []
   },
   "outputs": [
    {
     "name": "stderr",
     "output_type": "stream",
     "text": [
      "                                                                                \r"
     ]
    }
   ],
   "source": [
    "# Saving the datasets in distinct .parquet files.\n",
    "train.write.parquet('/kaggle/working/train.parquet', mode='overwrite')\n",
    "test.write.parquet('/kaggle/working/test.parquet', mode='overwrite')"
   ]
  },
  {
   "cell_type": "markdown",
   "id": "56b4ae45",
   "metadata": {
    "execution": {
     "iopub.execute_input": "2023-08-15T16:05:33.192895Z",
     "iopub.status.busy": "2023-08-15T16:05:33.192467Z",
     "iopub.status.idle": "2023-08-15T16:05:34.343874Z",
     "shell.execute_reply": "2023-08-15T16:05:34.342739Z",
     "shell.execute_reply.started": "2023-08-15T16:05:33.192858Z"
    },
    "papermill": {
     "duration": 0.031533,
     "end_time": "2024-01-27T23:07:25.469941",
     "exception": false,
     "start_time": "2024-01-27T23:07:25.438408",
     "status": "completed"
    },
    "tags": []
   },
   "source": [
    "<h3 style='font-size:30px;font-style:italic'> Defining the Models' Metric</h3>\n",
    "<div> \n",
    "    <ul style='font-size:20px'> \n",
    "        <li> \n",
    "            Providing False Negatives would clearly be more harmful for the bank's equity than False Positives.         \n",
    "        </li>\n",
    "        <li> \n",
    "            Following conversations with the credit analysts, we've ended up defining the case's official metric\n",
    "            as an f-score with $\\beta=4$. So, we are giving to Recall an importance 4x higher than the Precision's.\n",
    "        </li>\n",
    "    </ul>\n",
    "</div>"
   ]
  },
  {
   "cell_type": "markdown",
   "id": "db524e9f",
   "metadata": {
    "papermill": {
     "duration": 0.031543,
     "end_time": "2024-01-27T23:07:25.533095",
     "exception": false,
     "start_time": "2024-01-27T23:07:25.501552",
     "status": "completed"
    },
    "tags": []
   },
   "source": [
    "<h2 style='font-size:30px'> Exploratory Data Analysis</h2>\n",
    "<div> \n",
    "    <ul style='font-size:20px'> \n",
    "        <li> \n",
    "            With the data properly segregated, let's briefly analyze its content and see whether we can spot differences \n",
    "            among the classes. \n",
    "        </li>\n",
    "    </ul>\n",
    "</div>"
   ]
  },
  {
   "cell_type": "code",
   "execution_count": 20,
   "id": "d51ba493",
   "metadata": {
    "execution": {
     "iopub.execute_input": "2024-01-27T23:07:25.598475Z",
     "iopub.status.busy": "2024-01-27T23:07:25.597966Z",
     "iopub.status.idle": "2024-01-27T23:07:36.652370Z",
     "shell.execute_reply": "2024-01-27T23:07:36.650653Z"
    },
    "papermill": {
     "duration": 11.089491,
     "end_time": "2024-01-27T23:07:36.654560",
     "exception": false,
     "start_time": "2024-01-27T23:07:25.565069",
     "status": "completed"
    },
    "tags": []
   },
   "outputs": [
    {
     "name": "stdout",
     "output_type": "stream",
     "text": [
      "Requirement already satisfied: pyspark in /opt/conda/lib/python3.10/site-packages (3.5.0)\r\n",
      "Requirement already satisfied: py4j==0.10.9.7 in /opt/conda/lib/python3.10/site-packages (from pyspark) (0.10.9.7)\r\n",
      "Note: you may need to restart the kernel to use updated packages.\n"
     ]
    }
   ],
   "source": [
    "pip install pyspark"
   ]
  },
  {
   "cell_type": "code",
   "execution_count": 21,
   "id": "fa60a83c",
   "metadata": {
    "execution": {
     "iopub.execute_input": "2024-01-27T23:07:36.721202Z",
     "iopub.status.busy": "2024-01-27T23:07:36.720789Z",
     "iopub.status.idle": "2024-01-27T23:07:36.734871Z",
     "shell.execute_reply": "2024-01-27T23:07:36.733744Z"
    },
    "papermill": {
     "duration": 0.050092,
     "end_time": "2024-01-27T23:07:36.736944",
     "exception": false,
     "start_time": "2024-01-27T23:07:36.686852",
     "status": "completed"
    },
    "tags": []
   },
   "outputs": [
    {
     "data": {
      "text/html": [
       "<style>pre { white-space: pre !important; }</style>"
      ],
      "text/plain": [
       "<IPython.core.display.HTML object>"
      ]
     },
     "metadata": {},
     "output_type": "display_data"
    }
   ],
   "source": [
    "from pyspark import SparkContext\n",
    "from pyspark.sql import SparkSession\n",
    "from IPython.core.display import HTML\n",
    "\n",
    "# Creating the project's SparkSession.\n",
    "spark = SparkSession.builder.appName('NPL').getOrCreate()\n",
    "\n",
    "# Also, modifying the session's log level.\n",
    "log_level = spark.sparkContext.setLogLevel('ERROR')\n",
    "\n",
    "# This tiny config enables us to scroll along the DataFrame's columns.\n",
    "display(HTML(\"<style>pre { white-space: pre !important; }</style>\"))"
   ]
  },
  {
   "cell_type": "code",
   "execution_count": 22,
   "id": "b5888d86",
   "metadata": {
    "execution": {
     "iopub.execute_input": "2024-01-27T23:07:36.804966Z",
     "iopub.status.busy": "2024-01-27T23:07:36.804570Z",
     "iopub.status.idle": "2024-01-27T23:07:37.224473Z",
     "shell.execute_reply": "2024-01-27T23:07:37.223383Z"
    },
    "papermill": {
     "duration": 0.457508,
     "end_time": "2024-01-27T23:07:37.226867",
     "exception": false,
     "start_time": "2024-01-27T23:07:36.769359",
     "status": "completed"
    },
    "tags": []
   },
   "outputs": [
    {
     "name": "stdout",
     "output_type": "stream",
     "text": [
      "+---------+-----------+------------+---------------+------------+----------------+----------------+--------------------+------------------+-----------------+----------+-------------+----------+---------------+----------+----------+---------------+---------------+---+\n",
      "|ID_CLIENT|CODE_GENDER|FLAG_OWN_CAR|FLAG_OWN_REALTY|CNT_CHILDREN|AMT_INCOME_TOTAL|NAME_INCOME_TYPE| NAME_EDUCATION_TYPE|NAME_FAMILY_STATUS|NAME_HOUSING_TYPE|DAYS_BIRTH|DAYS_EMPLOYED|FLAG_MOBIL|FLAG_WORK_PHONE|FLAG_PHONE|FLAG_EMAIL|OCCUPATION_TYPE|CNT_FAM_MEMBERS|NPL|\n",
      "+---------+-----------+------------+---------------+------------+----------------+----------------+--------------------+------------------+-----------------+----------+-------------+----------+---------------+----------+----------+---------------+---------------+---+\n",
      "|      691|          F|           N|              N|           0|         67500.0|         Working|Secondary / secon...|           Married|House / apartment|    -20075|        -7013|         1|              1|         1|         0|    Sales staff|            2.0|  0|\n",
      "|     3606|          F|           N|              N|           0|        112500.0|         Working|Secondary / secon...|           Married|House / apartment|     -9865|         -196|         1|              1|         0|         0|       Laborers|            2.0|  0|\n",
      "|     4821|          F|           N|              N|           0|        135000.0|   State servant|    Higher education|           Married|House / apartment|    -12490|        -1191|         1|              1|         1|         0|     Core staff|            2.0|  0|\n",
      "|     5925|          F|           N|              N|           0|        157500.0|       Pensioner|Secondary / secon...|           Married|House / apartment|    -22828|       365243|         1|              0|         0|         0|           NULL|            2.0|  0|\n",
      "|     6194|          F|           N|              N|           0|        157500.0|         Working|   Incomplete higher|           Married|House / apartment|    -16888|        -2687|         1|              0|         0|         0|     Core staff|            2.0|  0|\n",
      "+---------+-----------+------------+---------------+------------+----------------+----------------+--------------------+------------------+-----------------+----------+-------------+----------+---------------+----------+----------+---------------+---------------+---+\n",
      "only showing top 5 rows\n",
      "\n"
     ]
    }
   ],
   "source": [
    "train = spark.read.parquet('/kaggle/input/npl-train/train.parquet/')\n",
    "train.show(5)"
   ]
  },
  {
   "cell_type": "markdown",
   "id": "815f3339",
   "metadata": {
    "execution": {
     "iopub.execute_input": "2023-08-15T16:05:33.192895Z",
     "iopub.status.busy": "2023-08-15T16:05:33.192467Z",
     "iopub.status.idle": "2023-08-15T16:05:34.343874Z",
     "shell.execute_reply": "2023-08-15T16:05:34.342739Z",
     "shell.execute_reply.started": "2023-08-15T16:05:33.192858Z"
    },
    "papermill": {
     "duration": 0.032016,
     "end_time": "2024-01-27T23:07:37.292160",
     "exception": false,
     "start_time": "2024-01-27T23:07:37.260144",
     "status": "completed"
    },
    "tags": []
   },
   "source": [
    "<h3 style='font-size:30px;font-style:italic'> Assessing the Classes' Incomes</h3>\n",
    "<div> \n",
    "    <ul style='font-size:20px'> \n",
    "        <li> \n",
    "            Let's analyze whether there is any revenue difference between individuals who produced an NPL and those who didn't. \n",
    "        </li>\n",
    "        <li> \n",
    "            Since we are dealing with an continuous outcome from two independent samples, I'll use the z-score formula below to examine the \n",
    "            income differences:\n",
    "            <center style='margin-top:20px'> \n",
    "                    $z=\\frac{\\overline{X}_{1}-\\overline{X}_{2}}{S_{p}\\sqrt{\\frac{1}{n_{1}}+\\frac{1}{n_{2}}}}$ | $S_{p}=\\sqrt{\\frac{(n_{1}-1)s_{1}^{2}+(n_{2}-1)s_{2}^{2}}{n_{1}+n_{2}-2}}$\n",
    "           </center>\n",
    "        </li>\n",
    "    </ul>\n",
    "</div>"
   ]
  },
  {
   "cell_type": "code",
   "execution_count": 23,
   "id": "0b4308fd",
   "metadata": {
    "execution": {
     "iopub.execute_input": "2024-01-27T23:07:37.359879Z",
     "iopub.status.busy": "2024-01-27T23:07:37.359238Z",
     "iopub.status.idle": "2024-01-27T23:07:37.701121Z",
     "shell.execute_reply": "2024-01-27T23:07:37.699850Z"
    },
    "papermill": {
     "duration": 0.379092,
     "end_time": "2024-01-27T23:07:37.704254",
     "exception": false,
     "start_time": "2024-01-27T23:07:37.325162",
     "status": "completed"
    },
    "tags": []
   },
   "outputs": [
    {
     "name": "stdout",
     "output_type": "stream",
     "text": [
      "+---+------------------------+\n",
      "|NPL|stddev(AMT_INCOME_TOTAL)|\n",
      "+---+------------------------+\n",
      "|  0|        99647.7510722535|\n",
      "|  1|       96639.80531139452|\n",
      "+---+------------------------+\n",
      "\n"
     ]
    }
   ],
   "source": [
    "# The formula above is only valid for samples with similar std's (0.5<s1/s2<2). So we ought to firstly guarantee that the incomes' std's\n",
    "# are in accordance to that rule.\n",
    "df_income_std = train.groupBy('NPL').agg({'AMT_INCOME_TOTAL':'std'})\n",
    "df_income_std.show()"
   ]
  },
  {
   "cell_type": "code",
   "execution_count": 24,
   "id": "d79c6f11",
   "metadata": {
    "execution": {
     "iopub.execute_input": "2024-01-27T23:07:37.797618Z",
     "iopub.status.busy": "2024-01-27T23:07:37.797172Z",
     "iopub.status.idle": "2024-01-27T23:07:38.091428Z",
     "shell.execute_reply": "2024-01-27T23:07:38.090333Z"
    },
    "papermill": {
     "duration": 0.339051,
     "end_time": "2024-01-27T23:07:38.094138",
     "exception": false,
     "start_time": "2024-01-27T23:07:37.755087",
     "status": "completed"
    },
    "tags": []
   },
   "outputs": [
    {
     "data": {
      "text/plain": [
       "1.0311253292695148"
      ]
     },
     "execution_count": 24,
     "metadata": {},
     "output_type": "execute_result"
    }
   ],
   "source": [
    "# Because the std ratio is in the desired interval, we can proceed in using the formula.\n",
    "list_std = [row['stddev(AMT_INCOME_TOTAL)'] for row in df_income_std.collect()]\n",
    "list_std[0] / list_std[1]"
   ]
  },
  {
   "cell_type": "code",
   "execution_count": 25,
   "id": "929eeae2",
   "metadata": {
    "execution": {
     "iopub.execute_input": "2024-01-27T23:07:38.180274Z",
     "iopub.status.busy": "2024-01-27T23:07:38.179896Z",
     "iopub.status.idle": "2024-01-27T23:07:39.705777Z",
     "shell.execute_reply": "2024-01-27T23:07:39.704690Z"
    },
    "papermill": {
     "duration": 1.562395,
     "end_time": "2024-01-27T23:07:39.708293",
     "exception": false,
     "start_time": "2024-01-27T23:07:38.145898",
     "status": "completed"
    },
    "tags": []
   },
   "outputs": [
    {
     "data": {
      "text/plain": [
       "0.7972574858186637"
      ]
     },
     "execution_count": 25,
     "metadata": {},
     "output_type": "execute_result"
    }
   ],
   "source": [
    "# By setting our alpha=.05, we can see that there is no statistical evidence that people with no NPL receive higher incomes\n",
    "# than the other group.\n",
    "from statsmodels.stats.weightstats import ztest\n",
    "\n",
    "zeros = [row['AMT_INCOME_TOTAL'] for row in train.select('AMT_INCOME_TOTAL').where('NPL==0').collect()]\n",
    "ones = [row['AMT_INCOME_TOTAL'] for row in train.select('AMT_INCOME_TOTAL').where('NPL==1').collect()]\n",
    "\n",
    "ztest(zeros, ones, alternative='larger')[1] # Computing our p-value."
   ]
  },
  {
   "cell_type": "markdown",
   "id": "392d9050",
   "metadata": {
    "papermill": {
     "duration": 0.049672,
     "end_time": "2024-01-27T23:07:39.807425",
     "exception": false,
     "start_time": "2024-01-27T23:07:39.757753",
     "status": "completed"
    },
    "tags": []
   },
   "source": [
    "<h3 style='font-size:30px;font-style:italic'> Valuable Assets Analysis</h3>\n",
    "<div> \n",
    "    <ul style='font-size:20px'> \n",
    "        <li> \n",
    "            The dataset contains columns representing whether the client possesses real state or a vehicle.\n",
    "        </li>\n",
    "        <li> \n",
    "            We can verify if people that own such properties have lower chance of producing an NPL, because they could sell them if they don't have enough \n",
    "            cash to pay the loans. \n",
    "        </li>\n",
    "    </ul>\n",
    "</div>"
   ]
  },
  {
   "cell_type": "code",
   "execution_count": 26,
   "id": "1bdd4783",
   "metadata": {
    "execution": {
     "iopub.execute_input": "2024-01-27T23:07:39.910328Z",
     "iopub.status.busy": "2024-01-27T23:07:39.909374Z",
     "iopub.status.idle": "2024-01-27T23:07:40.212091Z",
     "shell.execute_reply": "2024-01-27T23:07:40.211302Z"
    },
    "papermill": {
     "duration": 0.358144,
     "end_time": "2024-01-27T23:07:40.215058",
     "exception": false,
     "start_time": "2024-01-27T23:07:39.856914",
     "status": "completed"
    },
    "tags": []
   },
   "outputs": [
    {
     "name": "stdout",
     "output_type": "stream",
     "text": [
      "+------------+---+\n",
      "|OWN_VALUABLE|NPL|\n",
      "+------------+---+\n",
      "|           0|  0|\n",
      "|           0|  0|\n",
      "|           0|  0|\n",
      "|           0|  0|\n",
      "|           0|  0|\n",
      "+------------+---+\n",
      "only showing top 5 rows\n",
      "\n"
     ]
    }
   ],
   "source": [
    "from pyspark.sql.functions import udf\n",
    "from pyspark.sql.types import StringType\n",
    "\n",
    "@udf(returnType=StringType())\n",
    "def own_valuable(col_car:str, col_realty:str)->str:\n",
    "    '''\n",
    "        Signs whether a client possesses a valuable asset that can be sold for paying their loans.\n",
    "        \n",
    "        Parameters\n",
    "        ----------\n",
    "        `col_car` str\n",
    "            The value of the flag that indicates the ownership of a car.\n",
    "        `col_realty`: str\n",
    "            The value of the flag that indicates the ownership of a real state.\n",
    "            \n",
    "        Returns\n",
    "        -------\n",
    "        A flag indicating the possession of a car or real state (valuable assets). \n",
    "    '''\n",
    "    if (col_car=='Y') or (col_realty=='Y'):\n",
    "        return '1'\n",
    "    return '0'\n",
    "\n",
    "# Creating the DataFrame that will be used for conducting the Hypothesis Test.\n",
    "df_valuable = train.select(own_valuable('FLAG_OWN_CAR', 'FLAG_OWN_REALTY').alias('OWN_VALUABLE'), 'NPL')\n",
    "df_valuable.show(5)"
   ]
  },
  {
   "cell_type": "code",
   "execution_count": 27,
   "id": "51c40870",
   "metadata": {
    "execution": {
     "iopub.execute_input": "2024-01-27T23:07:40.294479Z",
     "iopub.status.busy": "2024-01-27T23:07:40.294082Z",
     "iopub.status.idle": "2024-01-27T23:07:41.022691Z",
     "shell.execute_reply": "2024-01-27T23:07:41.021345Z"
    },
    "papermill": {
     "duration": 0.767471,
     "end_time": "2024-01-27T23:07:41.025278",
     "exception": false,
     "start_time": "2024-01-27T23:07:40.257807",
     "status": "completed"
    },
    "tags": []
   },
   "outputs": [
    {
     "name": "stdout",
     "output_type": "stream",
     "text": [
      "+---+------------+-----+\n",
      "|NPL|OWN_VALUABLE|count|\n",
      "+---+------------+-----+\n",
      "|  0|           1| 5747|\n",
      "|  1|           1|  126|\n",
      "|  0|           0| 1454|\n",
      "|  1|           0|   46|\n",
      "+---+------------+-----+\n",
      "\n"
     ]
    },
    {
     "name": "stderr",
     "output_type": "stream",
     "text": [
      "                                                                                \r"
     ]
    }
   ],
   "source": [
    "# Counting the amount of who own or not a valuable asset per target.\n",
    "gb_valuable = (df_valuable\n",
    "     .groupBy(['NPL', 'OWN_VALUABLE'])\n",
    "     .count())\n",
    "\n",
    "gb_valuable.show()"
   ]
  },
  {
   "cell_type": "code",
   "execution_count": 28,
   "id": "beda57d9",
   "metadata": {
    "execution": {
     "iopub.execute_input": "2024-01-27T23:07:41.092167Z",
     "iopub.status.busy": "2024-01-27T23:07:41.091099Z",
     "iopub.status.idle": "2024-01-27T23:07:41.818052Z",
     "shell.execute_reply": "2024-01-27T23:07:41.816937Z"
    },
    "papermill": {
     "duration": 0.762474,
     "end_time": "2024-01-27T23:07:41.820250",
     "exception": false,
     "start_time": "2024-01-27T23:07:41.057776",
     "status": "completed"
    },
    "tags": []
   },
   "outputs": [
    {
     "name": "stdout",
     "output_type": "stream",
     "text": [
      "+---+-----------------------+---------------+------------------+\n",
      "|NPL|INSTANCES_WITH_VALUABLE|TOTAL_INSTANCES| PROP_OWN_VALUABLE|\n",
      "+---+-----------------------+---------------+------------------+\n",
      "|  0|                   5747|           7201|0.7980835995000695|\n",
      "|  1|                    126|            172|0.7325581395348837|\n",
      "+---+-----------------------+---------------+------------------+\n",
      "\n"
     ]
    }
   ],
   "source": [
    "# Now, using `gb_valuable` in order to estimate the proportion of clients with a valuable asset for each target.\n",
    "from pyspark.sql.functions import col\n",
    "from pyspark.sql.functions import sum as ps_sum\n",
    "from pyspark.sql.window import Window\n",
    "\n",
    "window = Window.partitionBy('NPL')\n",
    "\n",
    "# It's noticeable that there is a rough 7% difference between the proportions. But can we regard that as statistically significant? \n",
    "(gb_valuable\n",
    "     .withColumn('TOTAL_INSTANCES', ps_sum(col('count')).over(window)) # Total quantity of instances for each target.\n",
    "     .withColumn('PROP_OWN_VALUABLE', col('count')/ps_sum(col('count')).over(window)) # % of clients who own valuable assets per target.\n",
    "     .withColumnRenamed('count', 'INSTANCES_WITH_VALUABLE') \n",
    "     .where('`OWN_VALUABLE`==1')\n",
    "     .select(['NPL', 'INSTANCES_WITH_VALUABLE', 'TOTAL_INSTANCES', 'PROP_OWN_VALUABLE'])).show()"
   ]
  },
  {
   "cell_type": "code",
   "execution_count": 29,
   "id": "041417b3",
   "metadata": {
    "execution": {
     "iopub.execute_input": "2024-01-27T23:07:41.887070Z",
     "iopub.status.busy": "2024-01-27T23:07:41.886099Z",
     "iopub.status.idle": "2024-01-27T23:07:41.911676Z",
     "shell.execute_reply": "2024-01-27T23:07:41.910607Z"
    },
    "papermill": {
     "duration": 0.061172,
     "end_time": "2024-01-27T23:07:41.913769",
     "exception": false,
     "start_time": "2024-01-27T23:07:41.852597",
     "status": "completed"
    },
    "tags": []
   },
   "outputs": [
    {
     "data": {
      "text/plain": [
       "0.033767448873365"
      ]
     },
     "execution_count": 29,
     "metadata": {},
     "output_type": "execute_result"
    }
   ],
   "source": [
    "# H0: People who honor their debts have the same probability of possessing a valuable asset as the clients in default.\n",
    "# H1: People who honor their debts have higher probability of possessing a valuable asset compared to clients in default.\n",
    "\n",
    "# By using the table's data in a Hypothesis Test for proportions, we get a p-value below our significance degree (alpha=.05).\n",
    "\n",
    "# Therefore, we are able to reject H0 and state we possess sufficient information to say that people who have never produced an NPL have a higher\n",
    "# tendency of possessing a valuable asset.\n",
    "\n",
    "from statsmodels.stats.proportion import test_proportions_2indep\n",
    "test_proportions_2indep(5747, 7201, 126, 172, compare='ratio', alternative='larger').pvalue"
   ]
  },
  {
   "cell_type": "code",
   "execution_count": 30,
   "id": "4cafd47f",
   "metadata": {
    "execution": {
     "iopub.execute_input": "2024-01-27T23:07:41.979921Z",
     "iopub.status.busy": "2024-01-27T23:07:41.979504Z",
     "iopub.status.idle": "2024-01-27T23:07:41.988610Z",
     "shell.execute_reply": "2024-01-27T23:07:41.987644Z"
    },
    "papermill": {
     "duration": 0.044733,
     "end_time": "2024-01-27T23:07:41.990651",
     "exception": false,
     "start_time": "2024-01-27T23:07:41.945918",
     "status": "completed"
    },
    "tags": []
   },
   "outputs": [
    {
     "data": {
      "text/plain": [
       "0.15495270778483095"
      ]
     },
     "execution_count": 30,
     "metadata": {},
     "output_type": "execute_result"
    }
   ],
   "source": [
    "# With the difference proved real, let's analyze it with the use of a Cohen's h.\n",
    "from numpy import arcsin, sqrt\n",
    "def cohen_h(p1:float, p2:float)->float:\n",
    "    '''\n",
    "        Computes the Cohen's h coefficient for the difference between two proportions.\n",
    "        \n",
    "        Parameters\n",
    "        ----------\n",
    "        `p1`: float\n",
    "            The first probability.\n",
    "        `p2`: float\n",
    "            The second probability.\n",
    "            \n",
    "        Returns\n",
    "        -------\n",
    "        The Cohen's h coefficient for the given proportions.\n",
    "    '''\n",
    "    phi1 = 2*arcsin(sqrt(p1))\n",
    "    phi2 = 2*arcsin(sqrt(p2))\n",
    "    return phi1-phi2\n",
    "\n",
    "# By observing the returned h, we can conclude that the difference is of a small magnitude, since it is lower than 0.2.\n",
    "cohen_h(0.7980835995000695, 0.7325581395348837)"
   ]
  },
  {
   "cell_type": "markdown",
   "id": "e7cc1afb",
   "metadata": {
    "papermill": {
     "duration": 0.031946,
     "end_time": "2024-01-27T23:07:42.054982",
     "exception": false,
     "start_time": "2024-01-27T23:07:42.023036",
     "status": "completed"
    },
    "tags": []
   },
   "source": [
    "<h3 style='font-size:30px;font-style:italic'> Employment Impact Analysis</h3>\n",
    "<div> \n",
    "    <ul style='font-size:20px'> \n",
    "        <li> \n",
    "            Finally, it would be interesting if we could verify whether unemployment can impair loan payments.  \n",
    "        </li>\n",
    "    </ul>\n",
    "</div>"
   ]
  },
  {
   "cell_type": "markdown",
   "id": "eebb31f5",
   "metadata": {
    "papermill": {
     "duration": 0.031741,
     "end_time": "2024-01-27T23:07:42.120635",
     "exception": false,
     "start_time": "2024-01-27T23:07:42.088894",
     "status": "completed"
    },
    "tags": []
   },
   "source": [
    "<h4 style='font-size:30px;font-style:italic;text-decoration:underline'> Cleaning up Inconsistent Instances</h4>\n",
    "<div> \n",
    "    <ul style='font-size:20px'> \n",
    "        <li> \n",
    "            The dataset contains individuals who present their OCCUPATION_TYPE value as NULL, although they show up as employed (DAYS_EMPLOYED$\\leq{0}$)\n",
    "        </li>\n",
    "        <li>\n",
    "            In order to they not be regarded as unemployed clients (who also present OCCUPATION_TYPE as NULL), I thought it would be convenient to assign \n",
    "            another category to them.\n",
    "        </li>\n",
    "    </ul>\n",
    "</div>"
   ]
  },
  {
   "cell_type": "code",
   "execution_count": 31,
   "id": "33ad7ba4",
   "metadata": {
    "execution": {
     "iopub.execute_input": "2024-01-27T23:07:42.188051Z",
     "iopub.status.busy": "2024-01-27T23:07:42.187358Z",
     "iopub.status.idle": "2024-01-27T23:07:42.194539Z",
     "shell.execute_reply": "2024-01-27T23:07:42.193835Z"
    },
    "papermill": {
     "duration": 0.043841,
     "end_time": "2024-01-27T23:07:42.196728",
     "exception": false,
     "start_time": "2024-01-27T23:07:42.152887",
     "status": "completed"
    },
    "tags": []
   },
   "outputs": [],
   "source": [
    "@udf(returnType=StringType())\n",
    "def impute_occupation(col_occupation:str, col_days_employed:int)->str:\n",
    "    '''\n",
    "        Assigns new categories to the OCCUPATION_TYPE column if it is null for any given row. \n",
    "        \n",
    "        In case the DAYS_EMPLOYED shows that the client is currently employed, we impute 'UNDEFINED'; otherwise, we insert 'UNEMPLOYED'.\n",
    "        \n",
    "        Parameters\n",
    "        ----------\n",
    "        `col_occupation`: str\n",
    "            The row's OCCUPATION_TYPE value.\n",
    "        `col_days_employed`: int\n",
    "            The row's DAYS_EMPLOYED value.\n",
    "        \n",
    "        Returns\n",
    "        -------\n",
    "        The row's OCCUPATION_TYPE treated value.\n",
    "    '''\n",
    "    # 'Undefined' profession logic.\n",
    "    if (col_occupation is None) and (col_days_employed<=0):\n",
    "        return 'Undefined'\n",
    "    \n",
    "    # 'Unemployed' profession logic.\n",
    "    elif (col_occupation is None) and (col_days_employed>0):\n",
    "        return 'Unemployed'\n",
    "    return col_occupation"
   ]
  },
  {
   "cell_type": "code",
   "execution_count": 32,
   "id": "6add052d",
   "metadata": {
    "execution": {
     "iopub.execute_input": "2024-01-27T23:07:42.266456Z",
     "iopub.status.busy": "2024-01-27T23:07:42.265682Z",
     "iopub.status.idle": "2024-01-27T23:07:42.297762Z",
     "shell.execute_reply": "2024-01-27T23:07:42.296985Z"
    },
    "papermill": {
     "duration": 0.070566,
     "end_time": "2024-01-27T23:07:42.299684",
     "exception": false,
     "start_time": "2024-01-27T23:07:42.229118",
     "status": "completed"
    },
    "tags": []
   },
   "outputs": [
    {
     "data": {
      "text/plain": [
       "['ID_CLIENT',\n",
       " 'CODE_GENDER',\n",
       " 'FLAG_OWN_CAR',\n",
       " 'FLAG_OWN_REALTY',\n",
       " 'CNT_CHILDREN',\n",
       " 'AMT_INCOME_TOTAL',\n",
       " 'NAME_INCOME_TYPE',\n",
       " 'NAME_EDUCATION_TYPE',\n",
       " 'NAME_FAMILY_STATUS',\n",
       " 'NAME_HOUSING_TYPE',\n",
       " 'DAYS_BIRTH',\n",
       " 'DAYS_EMPLOYED',\n",
       " 'FLAG_MOBIL',\n",
       " 'FLAG_WORK_PHONE',\n",
       " 'FLAG_PHONE',\n",
       " 'FLAG_EMAIL',\n",
       " 'CNT_FAM_MEMBERS',\n",
       " Column<'impute_occupation(OCCUPATION_TYPE, DAYS_EMPLOYED) AS OCCUPATION_TYPE'>,\n",
       " 'NPL']"
      ]
     },
     "execution_count": 32,
     "metadata": {},
     "output_type": "execute_result"
    }
   ],
   "source": [
    "# `list_select_occupation` will be used so that we can redefine the `train` DataFrame with the transformed OCCUPATION_TYPE feature.\n",
    "list_select_occupation = train.columns\n",
    "list_select_occupation.remove('OCCUPATION_TYPE')\n",
    "list_select_occupation.insert(-1, impute_occupation('OCCUPATION_TYPE', 'DAYS_EMPLOYED').alias('OCCUPATION_TYPE'))\n",
    "list_select_occupation"
   ]
  },
  {
   "cell_type": "code",
   "execution_count": 33,
   "id": "36c63e5e",
   "metadata": {
    "execution": {
     "iopub.execute_input": "2024-01-27T23:07:42.366997Z",
     "iopub.status.busy": "2024-01-27T23:07:42.366292Z",
     "iopub.status.idle": "2024-01-27T23:07:42.671892Z",
     "shell.execute_reply": "2024-01-27T23:07:42.671070Z"
    },
    "papermill": {
     "duration": 0.342281,
     "end_time": "2024-01-27T23:07:42.674632",
     "exception": false,
     "start_time": "2024-01-27T23:07:42.332351",
     "status": "completed"
    },
    "tags": []
   },
   "outputs": [
    {
     "name": "stdout",
     "output_type": "stream",
     "text": [
      "+---------+-----------+------------+---------------+------------+----------------+----------------+--------------------+------------------+-----------------+----------+-------------+----------+---------------+----------+----------+---------------+---------------+---+\n",
      "|ID_CLIENT|CODE_GENDER|FLAG_OWN_CAR|FLAG_OWN_REALTY|CNT_CHILDREN|AMT_INCOME_TOTAL|NAME_INCOME_TYPE| NAME_EDUCATION_TYPE|NAME_FAMILY_STATUS|NAME_HOUSING_TYPE|DAYS_BIRTH|DAYS_EMPLOYED|FLAG_MOBIL|FLAG_WORK_PHONE|FLAG_PHONE|FLAG_EMAIL|CNT_FAM_MEMBERS|OCCUPATION_TYPE|NPL|\n",
      "+---------+-----------+------------+---------------+------------+----------------+----------------+--------------------+------------------+-----------------+----------+-------------+----------+---------------+----------+----------+---------------+---------------+---+\n",
      "|      691|          F|           N|              N|           0|         67500.0|         Working|Secondary / secon...|           Married|House / apartment|    -20075|        -7013|         1|              1|         1|         0|            2.0|    Sales staff|  0|\n",
      "|     3606|          F|           N|              N|           0|        112500.0|         Working|Secondary / secon...|           Married|House / apartment|     -9865|         -196|         1|              1|         0|         0|            2.0|       Laborers|  0|\n",
      "|     4821|          F|           N|              N|           0|        135000.0|   State servant|    Higher education|           Married|House / apartment|    -12490|        -1191|         1|              1|         1|         0|            2.0|     Core staff|  0|\n",
      "|     5925|          F|           N|              N|           0|        157500.0|       Pensioner|Secondary / secon...|           Married|House / apartment|    -22828|       365243|         1|              0|         0|         0|            2.0|     Unemployed|  0|\n",
      "|     6194|          F|           N|              N|           0|        157500.0|         Working|   Incomplete higher|           Married|House / apartment|    -16888|        -2687|         1|              0|         0|         0|            2.0|     Core staff|  0|\n",
      "+---------+-----------+------------+---------------+------------+----------------+----------------+--------------------+------------------+-----------------+----------+-------------+----------+---------------+----------+----------+---------------+---------------+---+\n",
      "only showing top 5 rows\n",
      "\n"
     ]
    }
   ],
   "source": [
    "# Applying the modifications to `train`.\n",
    "train = train.select(list_select_occupation)\n",
    "train.show(5)"
   ]
  },
  {
   "cell_type": "markdown",
   "id": "fdedfa0c",
   "metadata": {
    "papermill": {
     "duration": 0.035415,
     "end_time": "2024-01-27T23:07:42.751043",
     "exception": false,
     "start_time": "2024-01-27T23:07:42.715628",
     "status": "completed"
    },
    "tags": []
   },
   "source": [
    "<h4 style='font-size:30px;font-style:italic;text-decoration:underline'> Back to the EDA...</h4>"
   ]
  },
  {
   "cell_type": "code",
   "execution_count": 34,
   "id": "394893bd",
   "metadata": {
    "execution": {
     "iopub.execute_input": "2024-01-27T23:07:42.817606Z",
     "iopub.status.busy": "2024-01-27T23:07:42.817173Z",
     "iopub.status.idle": "2024-01-27T23:07:43.578134Z",
     "shell.execute_reply": "2024-01-27T23:07:43.577047Z"
    },
    "papermill": {
     "duration": 0.797888,
     "end_time": "2024-01-27T23:07:43.581242",
     "exception": false,
     "start_time": "2024-01-27T23:07:42.783354",
     "status": "completed"
    },
    "tags": []
   },
   "outputs": [
    {
     "name": "stdout",
     "output_type": "stream",
     "text": [
      "+---+--------+-----+\n",
      "|NPL|EMPLOYED|count|\n",
      "+---+--------+-----+\n",
      "|  0|       0| 1269|\n",
      "|  0|       1| 5932|\n",
      "|  1|       0|   31|\n",
      "|  1|       1|  141|\n",
      "+---+--------+-----+\n",
      "\n"
     ]
    }
   ],
   "source": [
    "# Counting the amount of employed and unemployed individuals per target group.\n",
    "from pyspark.sql.functions import when\n",
    "(train\n",
    "     .withColumn('EMPLOYED', when(col('OCCUPATION_TYPE') == 'Unemployed', 0).otherwise(1))\n",
    "     .groupBy('NPL', 'EMPLOYED')\n",
    "     .count()\n",
    "     .orderBy('NPL', 'EMPLOYED')).show(5)"
   ]
  },
  {
   "cell_type": "code",
   "execution_count": 35,
   "id": "484010ad",
   "metadata": {
    "execution": {
     "iopub.execute_input": "2024-01-27T23:07:43.656474Z",
     "iopub.status.busy": "2024-01-27T23:07:43.656071Z",
     "iopub.status.idle": "2024-01-27T23:07:43.663205Z",
     "shell.execute_reply": "2024-01-27T23:07:43.662274Z"
    },
    "papermill": {
     "duration": 0.042716,
     "end_time": "2024-01-27T23:07:43.665287",
     "exception": false,
     "start_time": "2024-01-27T23:07:43.622571",
     "status": "completed"
    },
    "tags": []
   },
   "outputs": [
    {
     "data": {
      "text/plain": [
       "0.41442347321737816"
      ]
     },
     "execution_count": 35,
     "metadata": {},
     "output_type": "execute_result"
    }
   ],
   "source": [
    "# H0: The proportion of unemployed among people with honored debts is the same as with those who didn't.\n",
    "# H1: The proportion of unemployed among people with honored debts is lower than that of those who didn't.\n",
    "\n",
    "# By looking at the p-value, we don't have sufficient statistical evidence to reject H0.\n",
    "test_proportions_2indep(1269, 7201, 31, 172, compare='ratio', alternative='smaller', ).pvalue"
   ]
  },
  {
   "cell_type": "code",
   "execution_count": 36,
   "id": "dc1f9431",
   "metadata": {
    "execution": {
     "iopub.execute_input": "2024-01-27T23:07:43.732512Z",
     "iopub.status.busy": "2024-01-27T23:07:43.732151Z",
     "iopub.status.idle": "2024-01-27T23:07:44.594698Z",
     "shell.execute_reply": "2024-01-27T23:07:44.593636Z"
    },
    "papermill": {
     "duration": 0.899351,
     "end_time": "2024-01-27T23:07:44.597045",
     "exception": false,
     "start_time": "2024-01-27T23:07:43.697694",
     "status": "completed"
    },
    "tags": []
   },
   "outputs": [
    {
     "name": "stderr",
     "output_type": "stream",
     "text": [
      "                                                                                \r"
     ]
    }
   ],
   "source": [
    "# Saving the newly transformed `train` dataset.\n",
    "train.write.parquet('/kaggle/working/train.parquet', mode='overwrite')"
   ]
  },
  {
   "cell_type": "markdown",
   "id": "129ad9dc",
   "metadata": {
    "papermill": {
     "duration": 0.032884,
     "end_time": "2024-01-27T23:07:44.672524",
     "exception": false,
     "start_time": "2024-01-27T23:07:44.639640",
     "status": "completed"
    },
    "tags": []
   },
   "source": [
    "<h2 style='font-size:30px'> Modeling Phase</h2>\n",
    "<div> \n",
    "    <ul style='font-size:20px'> \n",
    "        <li> \n",
    "            With the Exploratory Analysis concluded, we can move towards making our AI models that we've promised to the credit team.\n",
    "        </li>\n",
    "        <li> \n",
    "            But firstly, we have to conceive a Pipeline that will transform all our features into numerical format.\n",
    "        </li>\n",
    "    </ul>\n",
    "</div>"
   ]
  },
  {
   "cell_type": "code",
   "execution_count": 37,
   "id": "c19ad7d7",
   "metadata": {
    "execution": {
     "iopub.execute_input": "2024-01-27T23:07:44.740302Z",
     "iopub.status.busy": "2024-01-27T23:07:44.739080Z",
     "iopub.status.idle": "2024-01-27T23:07:55.599422Z",
     "shell.execute_reply": "2024-01-27T23:07:55.597889Z"
    },
    "papermill": {
     "duration": 10.896589,
     "end_time": "2024-01-27T23:07:55.601742",
     "exception": false,
     "start_time": "2024-01-27T23:07:44.705153",
     "status": "completed"
    },
    "tags": []
   },
   "outputs": [
    {
     "name": "stdout",
     "output_type": "stream",
     "text": [
      "Requirement already satisfied: pyspark in /opt/conda/lib/python3.10/site-packages (3.5.0)\r\n",
      "Requirement already satisfied: py4j==0.10.9.7 in /opt/conda/lib/python3.10/site-packages (from pyspark) (0.10.9.7)\r\n",
      "Note: you may need to restart the kernel to use updated packages.\n"
     ]
    }
   ],
   "source": [
    "pip install pyspark"
   ]
  },
  {
   "cell_type": "code",
   "execution_count": 38,
   "id": "08ddba92",
   "metadata": {
    "execution": {
     "iopub.execute_input": "2024-01-27T23:07:55.670294Z",
     "iopub.status.busy": "2024-01-27T23:07:55.669861Z",
     "iopub.status.idle": "2024-01-27T23:07:55.681766Z",
     "shell.execute_reply": "2024-01-27T23:07:55.680929Z"
    },
    "papermill": {
     "duration": 0.049474,
     "end_time": "2024-01-27T23:07:55.684430",
     "exception": false,
     "start_time": "2024-01-27T23:07:55.634956",
     "status": "completed"
    },
    "tags": []
   },
   "outputs": [
    {
     "data": {
      "text/html": [
       "<style>pre { white-space: pre !important; }</style>"
      ],
      "text/plain": [
       "<IPython.core.display.HTML object>"
      ]
     },
     "metadata": {},
     "output_type": "display_data"
    }
   ],
   "source": [
    "from pyspark import SparkContext\n",
    "from pyspark.sql import SparkSession\n",
    "from IPython.core.display import HTML\n",
    "\n",
    "# Creating the project's SparkSession.\n",
    "spark = SparkSession.builder.appName('NPL').getOrCreate()\n",
    "\n",
    "# Also, modifying the session's log level.\n",
    "log_level = spark.sparkContext.setLogLevel('ERROR')\n",
    "\n",
    "# This tiny config enables us to scroll along the DataFrame's columns.\n",
    "display(HTML(\"<style>pre { white-space: pre !important; }</style>\"))"
   ]
  },
  {
   "cell_type": "code",
   "execution_count": 39,
   "id": "939bf5dd",
   "metadata": {
    "execution": {
     "iopub.execute_input": "2024-01-27T23:07:55.769778Z",
     "iopub.status.busy": "2024-01-27T23:07:55.769370Z",
     "iopub.status.idle": "2024-01-27T23:07:55.979719Z",
     "shell.execute_reply": "2024-01-27T23:07:55.978615Z"
    },
    "papermill": {
     "duration": 0.248844,
     "end_time": "2024-01-27T23:07:55.983107",
     "exception": false,
     "start_time": "2024-01-27T23:07:55.734263",
     "status": "completed"
    },
    "tags": []
   },
   "outputs": [
    {
     "name": "stdout",
     "output_type": "stream",
     "text": [
      "+---------+-----------+------------+---------------+------------+----------------+----------------+--------------------+------------------+-----------------+----------+-------------+----------+---------------+----------+----------+---------------+---------------+---+\n",
      "|ID_CLIENT|CODE_GENDER|FLAG_OWN_CAR|FLAG_OWN_REALTY|CNT_CHILDREN|AMT_INCOME_TOTAL|NAME_INCOME_TYPE| NAME_EDUCATION_TYPE|NAME_FAMILY_STATUS|NAME_HOUSING_TYPE|DAYS_BIRTH|DAYS_EMPLOYED|FLAG_MOBIL|FLAG_WORK_PHONE|FLAG_PHONE|FLAG_EMAIL|CNT_FAM_MEMBERS|OCCUPATION_TYPE|NPL|\n",
      "+---------+-----------+------------+---------------+------------+----------------+----------------+--------------------+------------------+-----------------+----------+-------------+----------+---------------+----------+----------+---------------+---------------+---+\n",
      "|      691|          F|           N|              N|           0|         67500.0|         Working|Secondary / secon...|           Married|House / apartment|    -20075|        -7013|         1|              1|         1|         0|            2.0|    Sales staff|  0|\n",
      "|     3606|          F|           N|              N|           0|        112500.0|         Working|Secondary / secon...|           Married|House / apartment|     -9865|         -196|         1|              1|         0|         0|            2.0|       Laborers|  0|\n",
      "|     4821|          F|           N|              N|           0|        135000.0|   State servant|    Higher education|           Married|House / apartment|    -12490|        -1191|         1|              1|         1|         0|            2.0|     Core staff|  0|\n",
      "|     5925|          F|           N|              N|           0|        157500.0|       Pensioner|Secondary / secon...|           Married|House / apartment|    -22828|       365243|         1|              0|         0|         0|            2.0|     Unemployed|  0|\n",
      "|     6194|          F|           N|              N|           0|        157500.0|         Working|   Incomplete higher|           Married|House / apartment|    -16888|        -2687|         1|              0|         0|         0|            2.0|     Core staff|  0|\n",
      "+---------+-----------+------------+---------------+------------+----------------+----------------+--------------------+------------------+-----------------+----------+-------------+----------+---------------+----------+----------+---------------+---------------+---+\n",
      "only showing top 5 rows\n",
      "\n"
     ]
    }
   ],
   "source": [
    "train = spark.read.parquet('/kaggle/input/npl-train/train-eda.parquet/')\n",
    "train.show(5)"
   ]
  },
  {
   "cell_type": "markdown",
   "id": "0d930c64",
   "metadata": {
    "papermill": {
     "duration": 0.033096,
     "end_time": "2024-01-27T23:07:56.055922",
     "exception": false,
     "start_time": "2024-01-27T23:07:56.022826",
     "status": "completed"
    },
    "tags": []
   },
   "source": [
    "<h3 style='font-size:30px;font-style:italic'> String Columns Numeralization</h3>\n",
    "<div> \n",
    "    <ul style='font-size:20px'> \n",
    "        <li>   \n",
    "            The first transformation we must conduct is turning string columns into float format.\n",
    "        </li>\n",
    "        <li> \n",
    "            As a solution, I'ĺl replace the given category for the its proportion of instances that are defaulted. I think that will be a worthier way \n",
    "            of generating numerical information than just providing a One-Hot Encoding.\n",
    "        </li>\n",
    "    </ul>\n",
    "</div>"
   ]
  },
  {
   "cell_type": "code",
   "execution_count": 40,
   "id": "adde21ff",
   "metadata": {
    "execution": {
     "iopub.execute_input": "2024-01-27T23:07:56.124110Z",
     "iopub.status.busy": "2024-01-27T23:07:56.123694Z",
     "iopub.status.idle": "2024-01-27T23:07:56.219687Z",
     "shell.execute_reply": "2024-01-27T23:07:56.218860Z"
    },
    "papermill": {
     "duration": 0.132782,
     "end_time": "2024-01-27T23:07:56.221982",
     "exception": false,
     "start_time": "2024-01-27T23:07:56.089200",
     "status": "completed"
    },
    "tags": []
   },
   "outputs": [],
   "source": [
    "from pyspark.ml.param.shared import HasInputCol, HasOutputCol, Param, Params, TypeConverters, HasInputCols\n",
    "from pyspark.ml.util import DefaultParamsReadable, DefaultParamsWritable\n",
    "from pyspark import keyword_only\n",
    "from pyspark.ml import Transformer\n",
    "from typing import List\n",
    "\n",
    "list_col_strings = [col for col, dtype in train.dtypes if dtype=='string' and col !='NPL']\n",
    "\n",
    "class ImputeProp(Transformer, HasInputCol, HasOutputCol, DefaultParamsReadable, DefaultParamsWritable):\n",
    "    \n",
    "    list_col_strings = Param(\n",
    "        Params._dummy(),\n",
    "        'list_col_strings',\n",
    "        'List of the dataset\\'s string features',\n",
    "        typeConverter=TypeConverters.toListString\n",
    "    )\n",
    "    \n",
    "    @keyword_only\n",
    "    def __init__(self, inputCol:str=None, outputCol:str=None, list_col_strings:List[str]=list_col_strings, *args)->None:\n",
    "        super().__init__()\n",
    "        self.list_col_strings=Param(self, 'list_col_strings', '')\n",
    "        self._setDefault(list_col_strings=[])\n",
    "        kwargs = self._input_kwargs\n",
    "        self.setParams(**kwargs)\n",
    "        \n",
    "    @keyword_only\n",
    "    def setParams(self, inputCol=None, outputCol=None, list_col_strings=None):\n",
    "        kwargs = self._input_kwargs\n",
    "        return self._set(**kwargs)\n",
    "    \n",
    "    def setListColStrings(self, value):\n",
    "        return self._set(list_col_strings=list(value))\n",
    "    \n",
    "    def getListColStrings(self):\n",
    "        return self.getOrDefault(self.list_col_strings)\n",
    "    \n",
    "    def setInputCol(self, value):\n",
    "        return self._set(inputCol=value)\n",
    "    \n",
    "    def setOutputCol(self, value):\n",
    "        return self._set(outputCol=value)\n",
    "    \n",
    "    def _transform(self, X):\n",
    "        ..."
   ]
  },
  {
   "cell_type": "code",
   "execution_count": 41,
   "id": "956cb513",
   "metadata": {
    "execution": {
     "iopub.execute_input": "2024-01-27T23:07:56.291834Z",
     "iopub.status.busy": "2024-01-27T23:07:56.290722Z",
     "iopub.status.idle": "2024-01-27T23:07:56.295367Z",
     "shell.execute_reply": "2024-01-27T23:07:56.294646Z"
    },
    "papermill": {
     "duration": 0.041571,
     "end_time": "2024-01-27T23:07:56.297225",
     "exception": false,
     "start_time": "2024-01-27T23:07:56.255654",
     "status": "completed"
    },
    "tags": []
   },
   "outputs": [],
   "source": [
    "# Primeiro artigo (Transformer Abstract Base Class)\n",
    "# TRANSFORMERS\n",
    "# Ler https://www.crowdstrike.com/blog/deep-dive-into-custom-spark-transformers-for-machine-learning-pipelines/\n",
    "# e depois o https://medium.com/@zeid.zandi/utilizing-the-power-of-pyspark-pipelines-in-data-science-projects-benefits-and-limitations-2-2-9063e4bebd05\n",
    "# antes de prosseguir com o código (nosso Transformer demandará mais de uma coluna de input)\n",
    "# Referência extra: https://stackoverflow.com/questions/41828391/transformer-operating-on-multiple-features-in-pyspark-ml\n",
    "\n",
    "# ESTIMATORS\n",
    "# https://stackoverflow.com/questions/37270446/how-to-create-a-custom-estimatgo/or-in-pyspark"
   ]
  },
  {
   "cell_type": "code",
   "execution_count": 42,
   "id": "66da70ed",
   "metadata": {
    "execution": {
     "iopub.execute_input": "2024-01-27T23:07:56.365868Z",
     "iopub.status.busy": "2024-01-27T23:07:56.364792Z",
     "iopub.status.idle": "2024-01-27T23:07:56.371557Z",
     "shell.execute_reply": "2024-01-27T23:07:56.370589Z"
    },
    "papermill": {
     "duration": 0.043152,
     "end_time": "2024-01-27T23:07:56.373579",
     "exception": false,
     "start_time": "2024-01-27T23:07:56.330427",
     "status": "completed"
    },
    "tags": []
   },
   "outputs": [
    {
     "data": {
      "text/plain": [
       "['ID_CLIENT',\n",
       " 'CODE_GENDER',\n",
       " 'FLAG_OWN_CAR',\n",
       " 'FLAG_OWN_REALTY',\n",
       " 'NAME_INCOME_TYPE',\n",
       " 'NAME_EDUCATION_TYPE',\n",
       " 'NAME_FAMILY_STATUS',\n",
       " 'NAME_HOUSING_TYPE',\n",
       " 'FLAG_MOBIL',\n",
       " 'FLAG_WORK_PHONE',\n",
       " 'FLAG_PHONE',\n",
       " 'FLAG_EMAIL',\n",
       " 'OCCUPATION_TYPE']"
      ]
     },
     "execution_count": 42,
     "metadata": {},
     "output_type": "execute_result"
    }
   ],
   "source": [
    "\n",
    "[col for col, dtype in train.dtypes if dtype=='string' and col !='NPL']\n",
    "#from pyspark.ml.pipeline import "
   ]
  },
  {
   "cell_type": "markdown",
   "id": "9d8fd3ef",
   "metadata": {
    "papermill": {
     "duration": 0.03295,
     "end_time": "2024-01-27T23:07:56.439978",
     "exception": false,
     "start_time": "2024-01-27T23:07:56.407028",
     "status": "completed"
    },
    "tags": []
   },
   "source": [
    "<p style='color:red'>Ler os artigos de referência, antes de prosseguir com a montagem do Transformer (.PIPELINE.md) </p>"
   ]
  }
 ],
 "metadata": {
  "kaggle": {
   "accelerator": "none",
   "dataSources": [
    {
     "datasetId": 426827,
     "sourceId": 1031720,
     "sourceType": "datasetVersion"
    },
    {
     "datasetId": 3941029,
     "sourceId": 6856406,
     "sourceType": "datasetVersion"
    },
    {
     "datasetId": 3950752,
     "sourceId": 6875350,
     "sourceType": "datasetVersion"
    },
    {
     "datasetId": 3950750,
     "sourceId": 7372877,
     "sourceType": "datasetVersion"
    }
   ],
   "dockerImageVersionId": 30558,
   "isGpuEnabled": false,
   "isInternetEnabled": true,
   "language": "python",
   "sourceType": "notebook"
  },
  "kernelspec": {
   "display_name": "Python 3",
   "language": "python",
   "name": "python3"
  },
  "language_info": {
   "codemirror_mode": {
    "name": "ipython",
    "version": 3
   },
   "file_extension": ".py",
   "mimetype": "text/x-python",
   "name": "python",
   "nbconvert_exporter": "python",
   "pygments_lexer": "ipython3",
   "version": "3.10.12"
  },
  "papermill": {
   "default_parameters": {},
   "duration": 352.469026,
   "end_time": "2024-01-27T23:07:59.095213",
   "environment_variables": {},
   "exception": null,
   "input_path": "__notebook__.ipynb",
   "output_path": "__notebook__.ipynb",
   "parameters": {},
   "start_time": "2024-01-27T23:02:06.626187",
   "version": "2.4.0"
  }
 },
 "nbformat": 4,
 "nbformat_minor": 5
}
